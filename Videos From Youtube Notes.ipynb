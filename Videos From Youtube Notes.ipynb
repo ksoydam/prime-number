{
 "cells": [
  {
   "cell_type": "code",
   "execution_count": 1,
   "id": "29b9dfb6",
   "metadata": {},
   "outputs": [],
   "source": [
    "a=[1,3,5,7,9,11]"
   ]
  },
  {
   "cell_type": "code",
   "execution_count": 2,
   "id": "71a1e2c9",
   "metadata": {},
   "outputs": [],
   "source": [
    "#[2,6,10,14,18,22]\n",
    "#use .append() function"
   ]
  },
  {
   "cell_type": "code",
   "execution_count": 3,
   "id": "bf76b9ef",
   "metadata": {},
   "outputs": [
    {
     "name": "stdout",
     "output_type": "stream",
     "text": [
      "[10, 20]\n"
     ]
    }
   ],
   "source": [
    "b=[]\n",
    "b.append(10)\n",
    "b.append(20)\n",
    "print(b)"
   ]
  },
  {
   "cell_type": "code",
   "execution_count": 4,
   "id": "679d447c",
   "metadata": {},
   "outputs": [
    {
     "name": "stdout",
     "output_type": "stream",
     "text": [
      "[2]\n",
      "[2, 6]\n",
      "[2, 6, 10]\n",
      "[2, 6, 10, 14]\n",
      "[2, 6, 10, 14, 18]\n",
      "[2, 6, 10, 14, 18, 22]\n"
     ]
    }
   ],
   "source": [
    "c=[]\n",
    "for x in a:\n",
    "    c.append(x*2)\n",
    "    print(c)"
   ]
  },
  {
   "cell_type": "code",
   "execution_count": 5,
   "id": "bccb7174",
   "metadata": {},
   "outputs": [
    {
     "name": "stdout",
     "output_type": "stream",
     "text": [
      "[2, 6, 10, 14, 18, 22]\n"
     ]
    }
   ],
   "source": [
    "d=[x*2 for x in a]\n",
    "print(d)"
   ]
  },
  {
   "cell_type": "code",
   "execution_count": 6,
   "id": "b0a1c2e7",
   "metadata": {},
   "outputs": [],
   "source": [
    "#[1,4,9,16,25,36]"
   ]
  },
  {
   "cell_type": "code",
   "execution_count": 14,
   "id": "5ecc6f21",
   "metadata": {},
   "outputs": [
    {
     "name": "stdout",
     "output_type": "stream",
     "text": [
      "[1, 4, 9, 16, 25, 36]\n"
     ]
    }
   ],
   "source": [
    "e1=[]\n",
    "for x in range (1,7):\n",
    "    e1.append (x**2)\n",
    "print(e1)"
   ]
  },
  {
   "cell_type": "code",
   "execution_count": 15,
   "id": "eb10f7e8",
   "metadata": {},
   "outputs": [
    {
     "name": "stdout",
     "output_type": "stream",
     "text": [
      "[1, 4, 9, 16, 25, 36]\n"
     ]
    }
   ],
   "source": [
    "#or you can use other option\n",
    "e2=[x**2 for x in range(1,7)]\n",
    "print(e2)"
   ]
  },
  {
   "cell_type": "code",
   "execution_count": 16,
   "id": "8549a4e9",
   "metadata": {},
   "outputs": [],
   "source": [
    "#[36,25,16,9,4,1] let's do it in two different way"
   ]
  },
  {
   "cell_type": "code",
   "execution_count": 17,
   "id": "2e908aa7",
   "metadata": {},
   "outputs": [
    {
     "name": "stdout",
     "output_type": "stream",
     "text": [
      "6\n",
      "5\n",
      "4\n",
      "3\n",
      "2\n",
      "1\n"
     ]
    }
   ],
   "source": [
    "for x in range(6,0,-1):\n",
    "    print(x)"
   ]
  },
  {
   "cell_type": "code",
   "execution_count": 21,
   "id": "288b0712",
   "metadata": {},
   "outputs": [
    {
     "name": "stdout",
     "output_type": "stream",
     "text": [
      "[36, 25, 16, 9, 4, 1]\n"
     ]
    }
   ],
   "source": [
    "f1=[]\n",
    "for x in range(6, 0, -1):\n",
    "    f1.append(x**2)\n",
    "print(f1)"
   ]
  },
  {
   "cell_type": "code",
   "execution_count": 22,
   "id": "f5a486bd",
   "metadata": {},
   "outputs": [
    {
     "name": "stdout",
     "output_type": "stream",
     "text": [
      "[36, 25, 16, 9, 4, 1]\n"
     ]
    }
   ],
   "source": [
    "f2=[x**2 for x in range(6, 0, -1)]\n",
    "print(f2)"
   ]
  },
  {
   "cell_type": "code",
   "execution_count": 23,
   "id": "19013822",
   "metadata": {},
   "outputs": [],
   "source": [
    "# https://www.youtube.com/watch?v=2u_ZExcNBzA\n",
    "#https://www.youtube.com/watch?v=Z1Yd7upQsXY&list=PLBZBJbE_rGRWeh5mIBhD-hhDwSEDxogDg"
   ]
  },
  {
   "cell_type": "code",
   "execution_count": 24,
   "id": "b874b98e",
   "metadata": {},
   "outputs": [
    {
     "name": "stdout",
     "output_type": "stream",
     "text": [
      "set()\n"
     ]
    }
   ],
   "source": [
    "a=set()\n",
    "print(a)"
   ]
  },
  {
   "cell_type": "code",
   "execution_count": 25,
   "id": "96c12c6f",
   "metadata": {},
   "outputs": [
    {
     "name": "stdout",
     "output_type": "stream",
     "text": [
      "{1}\n"
     ]
    }
   ],
   "source": [
    "a.add(1)\n",
    "print(a)"
   ]
  },
  {
   "cell_type": "code",
   "execution_count": 26,
   "id": "62113b6e",
   "metadata": {},
   "outputs": [
    {
     "name": "stdout",
     "output_type": "stream",
     "text": [
      "{1, 2}\n"
     ]
    }
   ],
   "source": [
    "a.add(2)\n",
    "print(a)"
   ]
  },
  {
   "cell_type": "code",
   "execution_count": 27,
   "id": "5061e8ac",
   "metadata": {},
   "outputs": [
    {
     "name": "stdout",
     "output_type": "stream",
     "text": [
      "{1, 2}\n"
     ]
    }
   ],
   "source": [
    "#phyton reject duplicates number\n",
    "a.add(2)\n",
    "print(a)"
   ]
  },
  {
   "cell_type": "code",
   "execution_count": 29,
   "id": "7bee539e",
   "metadata": {},
   "outputs": [
    {
     "name": "stdout",
     "output_type": "stream",
     "text": [
      "1\n",
      "2\n"
     ]
    }
   ],
   "source": [
    "for x in a:\n",
    "    print(x)"
   ]
  },
  {
   "cell_type": "code",
   "execution_count": 33,
   "id": "a19fc33a",
   "metadata": {},
   "outputs": [],
   "source": [
    "given_list1=[1,1,2,4,2]"
   ]
  },
  {
   "cell_type": "code",
   "execution_count": 38,
   "id": "3b48d4b2",
   "metadata": {},
   "outputs": [
    {
     "name": "stdout",
     "output_type": "stream",
     "text": [
      "{1, 2, 4}\n"
     ]
    }
   ],
   "source": [
    "new_set1=set()\n",
    "for x in given_list1:\n",
    "    new_set1.add(x)\n",
    "print(new_set1)"
   ]
  },
  {
   "cell_type": "code",
   "execution_count": 41,
   "id": "82bc8f14",
   "metadata": {},
   "outputs": [
    {
     "name": "stdout",
     "output_type": "stream",
     "text": [
      "[1, 2, 4]\n"
     ]
    }
   ],
   "source": [
    "new_list1=list()\n",
    "for x in new_set1:\n",
    "    new_list1.append(x)\n",
    "print(new_list1)"
   ]
  },
  {
   "cell_type": "code",
   "execution_count": 43,
   "id": "019dfaaa",
   "metadata": {},
   "outputs": [
    {
     "name": "stdout",
     "output_type": "stream",
     "text": [
      "{1, 'Apple', 'Banana'}\n"
     ]
    }
   ],
   "source": [
    "b=set()\n",
    "b.add('Apple')\n",
    "b.add('Banana')\n",
    "b.add(1)\n",
    "print(b)"
   ]
  },
  {
   "cell_type": "code",
   "execution_count": 44,
   "id": "c4cecf51",
   "metadata": {},
   "outputs": [],
   "source": [
    "given_list2=[1,3,4,1,3]"
   ]
  },
  {
   "cell_type": "code",
   "execution_count": 47,
   "id": "c66f38ca",
   "metadata": {},
   "outputs": [
    {
     "name": "stdout",
     "output_type": "stream",
     "text": [
      "8\n"
     ]
    }
   ],
   "source": [
    "new_set2=set()\n",
    "for x in given_list2:\n",
    "    new_set2.add(x)\n",
    "total=0\n",
    "for x in new_set2:\n",
    "    total+=x\n",
    "print(total)"
   ]
  },
  {
   "cell_type": "markdown",
   "id": "743a110d",
   "metadata": {},
   "source": [
    "## if else statements"
   ]
  },
  {
   "cell_type": "code",
   "execution_count": 49,
   "id": "0d806d2f",
   "metadata": {},
   "outputs": [
    {
     "name": "stdout",
     "output_type": "stream",
     "text": [
      "a is less than b\n"
     ]
    }
   ],
   "source": [
    "a=1\n",
    "b=2\n",
    "if a<b:\n",
    "    print(\"a is less than b\")"
   ]
  },
  {
   "cell_type": "code",
   "execution_count": 50,
   "id": "943f03de",
   "metadata": {},
   "outputs": [
    {
     "name": "stdout",
     "output_type": "stream",
     "text": [
      "a is less than b\n",
      "Not sure if a is less than b\n"
     ]
    }
   ],
   "source": [
    "a=1\n",
    "b=2\n",
    "if a<b:\n",
    "    print(\"a is less than b\")\n",
    "    print(\"Not sure if a is less than b\")"
   ]
  },
  {
   "cell_type": "code",
   "execution_count": 53,
   "id": "10485f08",
   "metadata": {},
   "outputs": [
    {
     "name": "stdout",
     "output_type": "stream",
     "text": [
      "Not sure if a is less than b\n"
     ]
    }
   ],
   "source": [
    "a=3\n",
    "b=2\n",
    "if a<b:\n",
    "    print(\"a is less than b\")\n",
    "print(\"Not sure if a is less than b\")"
   ]
  },
  {
   "cell_type": "code",
   "execution_count": 55,
   "id": "51710598",
   "metadata": {},
   "outputs": [
    {
     "name": "stdout",
     "output_type": "stream",
     "text": [
      "c is less than d\n",
      "outside the if block\n"
     ]
    }
   ],
   "source": [
    "c=3\n",
    "d=4\n",
    "if c<d:\n",
    "    print(\"c is less than d\")\n",
    "else:\n",
    "    print(\"c is not less than d\")\n",
    "    print(\"I don't think c is less than d\")\n",
    "print(\"outside the if block\")"
   ]
  },
  {
   "cell_type": "code",
   "execution_count": 56,
   "id": "e374e519",
   "metadata": {},
   "outputs": [
    {
     "name": "stdout",
     "output_type": "stream",
     "text": [
      "c is not less than d\n",
      "I don't think c is less than d\n",
      "outside the if block\n"
     ]
    }
   ],
   "source": [
    "c=5\n",
    "d=4\n",
    "if c<d:\n",
    "    print(\"c is less than d\")\n",
    "else:\n",
    "    print(\"c is not less than d\")\n",
    "    print(\"I don't think c is less than d\")\n",
    "print(\"outside the if block\")"
   ]
  },
  {
   "cell_type": "code",
   "execution_count": 57,
   "id": "65548871",
   "metadata": {},
   "outputs": [
    {
     "name": "stdout",
     "output_type": "stream",
     "text": [
      "e is less than f\n"
     ]
    }
   ],
   "source": [
    "e=7\n",
    "f=8\n",
    "if e<f:\n",
    "    print(\"e is less than f\")\n",
    "elif e==f:\n",
    "    print(\"e is equal f\")\n",
    "else:\n",
    "    print(\"e is greater than f\")"
   ]
  },
  {
   "cell_type": "code",
   "execution_count": 58,
   "id": "8e85652a",
   "metadata": {},
   "outputs": [
    {
     "name": "stdout",
     "output_type": "stream",
     "text": [
      "e is equal f\n"
     ]
    }
   ],
   "source": [
    "e=8\n",
    "f=8\n",
    "if e<f:\n",
    "    print(\"e is less than f\")\n",
    "elif e==f:\n",
    "    print(\"e is equal f\")\n",
    "else:\n",
    "    print(\"e is greater than f\")"
   ]
  },
  {
   "cell_type": "code",
   "execution_count": 59,
   "id": "974bb6d5",
   "metadata": {},
   "outputs": [
    {
     "name": "stdout",
     "output_type": "stream",
     "text": [
      "e is greater than f\n"
     ]
    }
   ],
   "source": [
    "e=9\n",
    "f=8\n",
    "if e<f:\n",
    "    print(\"e is less than f\")\n",
    "elif e==f:\n",
    "    print(\"e is equal f\")\n",
    "else:\n",
    "    print(\"e is greater than f\")"
   ]
  },
  {
   "cell_type": "code",
   "execution_count": 61,
   "id": "cbce5b67",
   "metadata": {},
   "outputs": [
    {
     "name": "stdout",
     "output_type": "stream",
     "text": [
      "e is greater than f\n"
     ]
    }
   ],
   "source": [
    "e=10\n",
    "f=8\n",
    "if e<f:\n",
    "    print(\"e is less than f\")\n",
    "elif e==f:\n",
    "    print(\"e is equal f\")\n",
    "elif e>f+10:\n",
    "    print(\"e is greater than f by more than 10\")\n",
    "else:\n",
    "    print(\"e is greater than f\")"
   ]
  },
  {
   "cell_type": "code",
   "execution_count": 62,
   "id": "bd67f57b",
   "metadata": {},
   "outputs": [
    {
     "name": "stdout",
     "output_type": "stream",
     "text": [
      "e is greater than f by more than 10\n"
     ]
    }
   ],
   "source": [
    "e=20\n",
    "f=8\n",
    "if e<f:\n",
    "    print(\"e is less than f\")\n",
    "elif e==f:\n",
    "    print(\"e is equal f\")\n",
    "elif e>f+10:\n",
    "    print(\"e is greater than f by more than 10\")\n",
    "else:\n",
    "    print(\"e is greater than f\")"
   ]
  },
  {
   "cell_type": "code",
   "execution_count": 63,
   "id": "2827def0",
   "metadata": {},
   "outputs": [
    {
     "name": "stdout",
     "output_type": "stream",
     "text": [
      "g is less than h\n"
     ]
    }
   ],
   "source": [
    "g=7\n",
    "h=8\n",
    "if g<h:\n",
    "    print(\"g is less than h\")\n",
    "else:\n",
    "    if g==h:\n",
    "        print(\"e=g is equal h\")\n",
    "    else:\n",
    "        print(\"g is greater than h\")"
   ]
  },
  {
   "cell_type": "code",
   "execution_count": 64,
   "id": "68cee5eb",
   "metadata": {},
   "outputs": [
    {
     "name": "stdout",
     "output_type": "stream",
     "text": [
      "e=g is equal h\n"
     ]
    }
   ],
   "source": [
    "g=8\n",
    "h=8\n",
    "if g<h:\n",
    "    print(\"g is less than h\")\n",
    "else:\n",
    "    if g==h:\n",
    "        print(\"e=g is equal h\")\n",
    "    else:\n",
    "        print(\"g is greater than h\")"
   ]
  },
  {
   "cell_type": "code",
   "execution_count": 65,
   "id": "a8501aaa",
   "metadata": {},
   "outputs": [
    {
     "name": "stdout",
     "output_type": "stream",
     "text": [
      "g is greater than h\n"
     ]
    }
   ],
   "source": [
    "g=9\n",
    "h=8\n",
    "if g<h:\n",
    "    print(\"g is less than h\")\n",
    "else:\n",
    "    if g==h:\n",
    "        print(\"e=g is equal h\")\n",
    "    else:\n",
    "        print(\"g is greater than h\")"
   ]
  },
  {
   "cell_type": "code",
   "execution_count": 67,
   "id": "9612de6a",
   "metadata": {},
   "outputs": [
    {
     "name": "stdout",
     "output_type": "stream",
     "text": [
      "bmi:\n",
      "22.5\n",
      "KS\n",
      "is not overweight\n"
     ]
    }
   ],
   "source": [
    "name=\"KS\"\n",
    "height_m=2\n",
    "weight_kg=90\n",
    "bmi=weight_kg/(height_m**2)\n",
    "print(\"bmi:\")\n",
    "print(bmi)\n",
    "if bmi<25:\n",
    "    print(name)\n",
    "    print(\"is not overweight\")\n",
    "else:\n",
    "    print(name)\n",
    "    print(\"is overweight\")"
   ]
  },
  {
   "cell_type": "code",
   "execution_count": 68,
   "id": "c3322e1d",
   "metadata": {},
   "outputs": [
    {
     "name": "stdout",
     "output_type": "stream",
     "text": [
      "bmi:\n",
      "27.5\n",
      "KS\n",
      "is overweight\n"
     ]
    }
   ],
   "source": [
    "name=\"KS\"\n",
    "height_m=2\n",
    "weight_kg=110\n",
    "bmi=weight_kg/(height_m**2)\n",
    "print(\"bmi:\")\n",
    "print(bmi)\n",
    "if bmi<25:\n",
    "    print(name)\n",
    "    print(\"is not overweight\")\n",
    "else:\n",
    "    print(name)\n",
    "    print(\"is overweight\")"
   ]
  },
  {
   "cell_type": "code",
   "execution_count": null,
   "id": "fa0033cf",
   "metadata": {},
   "outputs": [],
   "source": [
    "num=int(input(\"Enter a number:\"))\n",
    "if (num % 2)==0:\n",
    "    print(\"{0} is Even\".format(num))\n",
    "else:\n",
    "    print(\"{0} is Odd\".format(num))"
   ]
  },
  {
   "cell_type": "code",
   "execution_count": null,
   "id": "3762135f",
   "metadata": {},
   "outputs": [],
   "source": [
    "num=float(input(\"Enter a number:\"))\n",
    "if num>0:\n",
    "    print(\"positive number\")\n",
    "else:\n",
    "    print(\"negative number\")"
   ]
  },
  {
   "cell_type": "code",
   "execution_count": 77,
   "id": "42107b92",
   "metadata": {},
   "outputs": [
    {
     "name": "stdout",
     "output_type": "stream",
     "text": [
      "square of 0 is:0\n",
      "square of 1 is:1\n",
      "square of 2 is:4\n",
      "square of 3 is:9\n",
      "square of 4 is:16\n"
     ]
    }
   ],
   "source": [
    "my_list=[\"a\", \"b\",\"c\",\"d\", \"e\"]\n",
    "a=0\n",
    "while a<len(my_list):\n",
    "    print('square of {} is:{}'.format(a, a**2))\n",
    "    a+=1"
   ]
  },
  {
   "cell_type": "code",
   "execution_count": 83,
   "id": "93525e52",
   "metadata": {},
   "outputs": [],
   "source": [
    "#BMI Calculator\n",
    "name1=\"KS\"\n",
    "height_m1=2\n",
    "weight_kg1=90\n",
    "\n",
    "name2=\"KS's daughter\"\n",
    "height_m2=1\n",
    "weight_kg2=50\n",
    "\n",
    "name3=\"KS's son\"\n",
    "height_m3=1.5\n",
    "weight_kg3=60"
   ]
  },
  {
   "cell_type": "code",
   "execution_count": 89,
   "id": "3c38a4cc",
   "metadata": {},
   "outputs": [],
   "source": [
    "def bmi_calculator(name, height_m, weight_kg):\n",
    "    bmi=weight_kg/(height_m ** 2)\n",
    "    print(\"bmi:\")\n",
    "    print(bmi)\n",
    "    if bmi<25:\n",
    "        return name + \"is not overweight\"\n",
    "    else:\n",
    "        return name + \"is overweight\""
   ]
  },
  {
   "cell_type": "code",
   "execution_count": 90,
   "id": "38b6e987",
   "metadata": {},
   "outputs": [
    {
     "name": "stdout",
     "output_type": "stream",
     "text": [
      "bmi:\n",
      "22.5\n",
      "bmi:\n",
      "50.0\n",
      "bmi:\n",
      "26.666666666666668\n"
     ]
    }
   ],
   "source": [
    "result1=bmi_calculator(name1, height_m1, weight_kg1)\n",
    "result2=bmi_calculator(name2, height_m2, weight_kg2)\n",
    "result3=bmi_calculator(name3, height_m3, weight_kg3)"
   ]
  },
  {
   "cell_type": "code",
   "execution_count": 91,
   "id": "7e3b45b6",
   "metadata": {},
   "outputs": [
    {
     "name": "stdout",
     "output_type": "stream",
     "text": [
      "KSis not overweight\n",
      "KS's daughteris overweight\n",
      "KS's sonis overweight\n"
     ]
    }
   ],
   "source": [
    "print(result1)\n",
    "print(result2)\n",
    "print(result3)"
   ]
  },
  {
   "cell_type": "code",
   "execution_count": null,
   "id": "3a75dcc5",
   "metadata": {},
   "outputs": [],
   "source": [
    "#Let's write a program that asks you to enter your exam score and calculates the range in which your degree is based on your exam score. The output would be: e.g, \"Your degree is B+\"\n",
    "#95 and above ▶▶ \"A+\"\n",
    "#90-94 ▶▶ \"A\"\n",
    "#85-89 ▶▶ \"B+\"\n",
    "#80-84 ▶▶ \"B\"\n",
    "#79 and below ▶▶ \"below B\" or \"B-\"\n",
    "\n",
    "\n",
    "math_mark = int(input('Please enter the mark: '))\n",
    "\n",
    "if math_mark >= 95:\n",
    "    print('A+ (Excellent)')\n",
    "elif math_mark < 94 and math_mark >= 90:\n",
    "    print('A (Good)')\n",
    "elif math_mark < 89 and math_mark >= 85:\n",
    "    print('B+ (Medium)')\n",
    "elif math_mark < 84 and math_mark >= 80:\n",
    "    print('B (Not Bad)')\n",
    "elif math_mark < 79:\n",
    "    print('below B' or 'B-')\n",
    "else:\n",
    "    print('F (Failed)')"
   ]
  },
  {
   "cell_type": "code",
   "execution_count": null,
   "id": "eb46183d",
   "metadata": {},
   "outputs": [],
   "source": [
    "\n",
    "#Let's write a program that asks you to enter your exam score and calculates the range in which your degree is based on your exam score. The output would be: e.g, \"Your degree is B+\"\n",
    "#95 and above ▶▶ \"A+\"\n",
    "#90-94 ▶▶ \"A\"\n",
    "#85-89 ▶▶ \"B+\"\n",
    "#80-84 ▶▶ \"B\"\n",
    "#79 and below ▶▶ \"below B\" or \"B-\"\n",
    "\n",
    "score = int(input('Enter exam score: '))\n",
    "\n",
    "if score >= 90:\n",
    "    if score >= 95:\n",
    "        grade = 'A+'\n",
    "    else:\n",
    "        grade = 'A'\n",
    "elif score >= 80:\n",
    "    if score >= 85:\n",
    "        grade = 'B+'\n",
    "    else:\n",
    "        grade = 'B'\n",
    "else:\n",
    "    grade = 'below B'\n",
    "    \n",
    "print(f'Your degree is {grade}')"
   ]
  },
  {
   "cell_type": "code",
   "execution_count": null,
   "id": "dbf95b8a",
   "metadata": {},
   "outputs": [],
   "source": [
    "score = input('Enter your score: ') \n",
    "# if input is numeric -->no problem\n",
    "#if input is alphabetic ??? -- > will not be converted to int\n",
    "\n",
    "if score.isdigit() and (int(score) > 105 or int(score) < 0):\n",
    "    print(f'You\\'ve enetered {score}. This is an invalid input!')\n",
    "    print('Please enter score between 0 and 105')\n",
    "else:\n",
    "    score = int(score)\n",
    "    if score >= 90: \n",
    "        if score >= 95: \n",
    "            grade = \"A+\"\n",
    "        else:\n",
    "            grade = \"A\"\n",
    "    elif score >= 80: \n",
    "        if score >= 85:\n",
    "            grade = \"B+\"\n",
    "        else: \n",
    "            grade = \"B\" \n",
    "    else: #otherwise it's a c\n",
    "        grade = \"Below B\"\n",
    "    print(f'Your grade is: {grade}')"
   ]
  },
  {
   "cell_type": "code",
   "execution_count": null,
   "id": "14bd7595",
   "metadata": {},
   "outputs": [],
   "source": [
    "sentence=input('Give me a sentence:')\n",
    "words=sentence.split()\n",
    "i=0\n",
    "longest_len=0\n",
    "while i < len(words):\n",
    "    if len(words[i]) > longest_len:\n",
    "        longest_len=len(words[i])\n",
    "        longest=words[i]\n",
    "        i += 1\n",
    "print(words)\n",
    "print('the length of the longest word:', longest_len)\n",
    "print('the longest word is', longest)"
   ]
  },
  {
   "cell_type": "code",
   "execution_count": null,
   "id": "74221c59",
   "metadata": {},
   "outputs": [],
   "source": [
    "# Loops for\n",
    "for i in [1,2,3,4,5]:\n",
    "    print(i)"
   ]
  },
  {
   "cell_type": "code",
   "execution_count": null,
   "id": "46248585",
   "metadata": {},
   "outputs": [],
   "source": [
    "seasons=['spring','summer','autumn','winter']\n",
    "for seasons in seasons:\n",
    "    print(season.title))"
   ]
  },
  {
   "cell_type": "code",
   "execution_count": null,
   "id": "0efb68b1",
   "metadata": {},
   "outputs": [],
   "source": [
    "multiples=list(range(14))\n",
    "print(multiples)\n",
    "for i in multiples:  \n",
    "    print(i*7)"
   ]
  },
  {
   "cell_type": "code",
   "execution_count": null,
   "id": "64a4d87b",
   "metadata": {},
   "outputs": [],
   "source": [
    "multiples=list(range(14))\n",
    "print(multiples)\n",
    "multiplier=float(input('Please enter your multiplier:'))\n",
    "for i in multiples:  \n",
    "    print(i*multiplier)"
   ]
  },
  {
   "cell_type": "code",
   "execution_count": null,
   "id": "343c65b0",
   "metadata": {},
   "outputs": [],
   "source": [
    "names=[\"Ahmad\", \"Aisha\",\"Adam\",\"Joseph\",\"Gabriel\"]\n",
    "for name in names:\n",
    "    print(f'Hello{name}')\n"
   ]
  },
  {
   "cell_type": "code",
   "execution_count": null,
   "id": "bdfb8fe1",
   "metadata": {},
   "outputs": [],
   "source": [
    "\n",
    "ls1='Adam'\n",
    "for i in ls1:\n",
    "    print(i)"
   ]
  },
  {
   "cell_type": "code",
   "execution_count": null,
   "id": "81d01af7",
   "metadata": {},
   "outputs": [],
   "source": [
    "names=[\"Ahmad\", \"Aisha\",\"Adam\",\"Joseph\",\"Gabriel\"]\n",
    "for name in names:\n",
    "    print(f'Hello{name}')"
   ]
  },
  {
   "cell_type": "code",
   "execution_count": null,
   "id": "e5220c90",
   "metadata": {},
   "outputs": [],
   "source": [
    "numbers=ilist(range(1,6))\n",
    "for i in numbers:\n",
    "    print(i)"
   ]
  },
  {
   "cell_type": "code",
   "execution_count": null,
   "id": "d2a5acc7",
   "metadata": {},
   "outputs": [],
   "source": [
    "numbers=[]\n",
    "for i in range(1,6):\n",
    "    numbers.append(i)\n",
    "    print(numbers)"
   ]
  },
  {
   "cell_type": "code",
   "execution_count": null,
   "id": "3ba55905",
   "metadata": {},
   "outputs": [],
   "source": [
    "numbers1=[]\n",
    "i=0\n",
    "while i <= len(numbers1):\n",
    "    numbers1.append(i+1)\n",
    "    i +=1\n",
    "    numbers1"
   ]
  },
  {
   "cell_type": "code",
   "execution_count": null,
   "id": "0022b73e",
   "metadata": {},
   "outputs": [],
   "source": [
    "#Working with iterators. Common iterable items()\n",
    "course='clarusway'\n",
    "for i in course:\n",
    "    print(i)\n"
   ]
  },
  {
   "cell_type": "code",
   "execution_count": null,
   "id": "6aec1d30",
   "metadata": {},
   "outputs": [],
   "source": [
    "word=input('Give me a word of your choice:')\n",
    "count=0\n",
    "for i in word:\n",
    "    count +=1\n",
    "    if count < len(word):\n",
    "        i += '-'\n",
    "    print(i)"
   ]
  },
  {
   "cell_type": "code",
   "execution_count": null,
   "id": "6f7f3b3f",
   "metadata": {},
   "outputs": [],
   "source": [
    "word=input('Give me a word of your choice:')\n",
    "count=0\n",
    "for i in word:\n",
    "    count +=1\n",
    "    if count < len(word):\n",
    "        i += '-'\n",
    "    print(i, end='')"
   ]
  },
  {
   "cell_type": "code",
   "execution_count": null,
   "id": "05ab3d14",
   "metadata": {},
   "outputs": [],
   "source": [
    "word=input('Give me a word of your choice:')\n",
    "count=0\n",
    "for i in word:\n",
    "    count +=1\n",
    "    if count < len(word):\n",
    "        i += '-'\n",
    "    print(i, end='7')"
   ]
  },
  {
   "cell_type": "code",
   "execution_count": null,
   "id": "a9acf5e1",
   "metadata": {},
   "outputs": [],
   "source": [
    "user= {                               #in dict option only key comes back(only return key)\n",
    "    \"name\":\"Daniel\",\n",
    "    \"surname\":\"Smith\",\n",
    "    \"age\":35\n",
    "}\n",
    "for attribute in user:\n",
    "    print(attribute)"
   ]
  },
  {
   "cell_type": "code",
   "execution_count": null,
   "id": "f42b1fbe",
   "metadata": {},
   "outputs": [],
   "source": [
    "user= {                               #in dict option only key comes back(only return key)\n",
    "    \"name\":\"Daniel\",\n",
    "    \"surname\":\"Smith\",\n",
    "    \"age\":35\n",
    "}\n",
    "for i in user.values():\n",
    "    print(i, end=\" \") # it gives a space(iki quote arasi demek mesafe demek)"
   ]
  },
  {
   "cell_type": "code",
   "execution_count": null,
   "id": "695c55dd",
   "metadata": {},
   "outputs": [],
   "source": [
    "user.values()"
   ]
  },
  {
   "cell_type": "code",
   "execution_count": null,
   "id": "f62bf0ed",
   "metadata": {},
   "outputs": [],
   "source": [
    "list(user.values()) [0]"
   ]
  },
  {
   "cell_type": "code",
   "execution_count": null,
   "id": "ee4e7e66",
   "metadata": {},
   "outputs": [],
   "source": [
    "dict_values(['Daniel', 'Smith', 35])"
   ]
  },
  {
   "cell_type": "code",
   "execution_count": null,
   "id": "86299712",
   "metadata": {},
   "outputs": [],
   "source": [
    "for item in user.items():\n",
    "    print(item)"
   ]
  },
  {
   "cell_type": "code",
   "execution_count": null,
   "id": "d607b1c1",
   "metadata": {},
   "outputs": [],
   "source": [
    "user.items()"
   ]
  },
  {
   "cell_type": "code",
   "execution_count": null,
   "id": "521b5545",
   "metadata": {},
   "outputs": [],
   "source": [
    " Python program to check if\n",
    "# given number is prime or not\n",
    "  \n",
    "num = 11\n",
    "  \n",
    "# If given number is greater than 1\n",
    "if num > 1:\n",
    "  \n",
    "    # Iterate from 2 to n / 2\n",
    "    for i in range(2, int(num/2)+1):\n",
    "  \n",
    "        # If num is divisible by any number between\n",
    "        # 2 and n / 2, it is not prime\n",
    "        if (num % i) == 0:\n",
    "            print(num, \"is not a prime number\")\n",
    "            break\n",
    "    else:\n",
    "        print(num, \"is a prime number\")\n",
    "  \n",
    "else:\n",
    "    print(num, \"is not a prime number\")"
   ]
  },
  {
   "cell_type": "code",
   "execution_count": null,
   "id": "888f7383",
   "metadata": {},
   "outputs": [],
   "source": [
    "n=int(input(\"Enter the number\"))\n",
    "c=i\n",
    "for i in range(2,n):\n",
    "    if n%i==0:\n",
    "        c=0\n",
    "if c==1:\n",
    "    print(\"Number is prime\")\n",
    "else:\n",
    "    print(\"Number is not prime\")"
   ]
  },
  {
   "cell_type": "code",
   "execution_count": null,
   "id": "3822501e",
   "metadata": {},
   "outputs": [],
   "source": [
    "# Instead of checking if the number is prime we may cheat here a liitle :)\n",
    "# and simply store the first 25 prime numbers (all the prime numbers less than 100)\n",
    "# However, if needed, we may swap this function with one from the answers in\n",
    "# https://stackoverflow.com/questions/1801391/what-is-the-best-algorithm-for-checking-if-a-number-is-prime\n",
    "def isPrime(n):\n",
    "    return n in [2, 3, 5, 7, 11, 13, 17, 19, 23, 29, 31, 37, 41, 43, 47, 53, 59, 61, 67, 71, 73, 79, 83, 89, 97]\n",
    "\n",
    "# FizzBuzz loop\n",
    "for counter in range(1, 101):\n",
    "    output = \"\"\n",
    "    if isPrime(counter):\n",
    "        output += \"Prime\"\n",
    "    else:\n",
    "        if counter % 3 == 0:\n",
    "            output += \"Fizz\"\n",
    "        if counter % 5 == 0:\n",
    "            output += \"Buzz\"\n",
    "    print(output if len(output) else counter)"
   ]
  },
  {
   "cell_type": "code",
   "execution_count": null,
   "id": "95a042ab",
   "metadata": {},
   "outputs": [],
   "source": [
    "num = int(input(\"Enter the number: \"))\n",
    "\n",
    "if num > 1:\n",
    "# check for factors\n",
    "for i in range(2,num):\n",
    "if (num % i) == 0:\n",
    "print(num,\"is not a prime number\")\n",
    "print(i,\"times\",num//i,\"is\",num)\n",
    "break\n",
    "else:\n",
    "print(num,\"is a prime number\")\n",
    "# if input number is less than\n",
    "# or equal to 1, it is not prime\n",
    "else:\n",
    "print(num,\"is not a prime number\")"
   ]
  },
  {
   "cell_type": "code",
   "execution_count": null,
   "id": "1bdfa6b2",
   "metadata": {},
   "outputs": [],
   "source": [
    "def test_prime(n):\n",
    "    if (n==1):\n",
    "        return False\n",
    "    elif (n==2):\n",
    "        return True;\n",
    "    else:\n",
    "        for x in range(2,n):\n",
    "            if(n % x==0):\n",
    "                return False\n",
    "        return True             \n",
    "print(test_prime(9))"
   ]
  },
  {
   "cell_type": "code",
   "execution_count": null,
   "id": "c58f552c",
   "metadata": {},
   "outputs": [],
   "source": [
    "# Program to check if a number is prime or not\n",
    "\n",
    "num = 407\n",
    "\n",
    "# To take input from the user\n",
    "#num = int(input(\"Enter a number: \"))\n",
    "\n",
    "# prime numbers are greater than 1\n",
    "if num > 1:\n",
    "   # check for factors\n",
    "   for i in range(2,num):\n",
    "       if (num % i) == 0:\n",
    "           print(num,\"is not a prime number\")\n",
    "           print(i,\"times\",num//i,\"is\",num)\n",
    "           break\n",
    "   else:\n",
    "       print(num,\"is a prime number\")\n",
    "       \n",
    "# if input number is less than\n",
    "# or equal to 1, it is not prime\n",
    "else:\n",
    "   print(num,\"is not a prime number\")"
   ]
  },
  {
   "cell_type": "code",
   "execution_count": null,
   "id": "1ca0d555",
   "metadata": {},
   "outputs": [],
   "source": [
    "#prime number verification program\n",
    "a=int(input('print number:'))\n",
    "for i in range(2,a):\n",
    "    if a%i !=0:\n",
    "        continue\n",
    "    else:\n",
    "        print(\"Its not a prime number\")\n",
    "        break # here break is exicuted then it means else would not be exicuted.\n",
    "else:\n",
    "    print(\"Its a prime number\")#this is out of the for loop suite."
   ]
  },
  {
   "cell_type": "code",
   "execution_count": null,
   "id": "3f16c47e",
   "metadata": {},
   "outputs": [],
   "source": [
    "number=int(input('print number:'))\n",
    "counter=0\n",
    "for i in range(1,number+1)\n",
    "    number % i==0:\n",
    "        counter += 1"
   ]
  },
  {
   "cell_type": "code",
   "execution_count": null,
   "id": "a061fac5",
   "metadata": {},
   "outputs": [],
   "source": [
    "number=int(input('print number:'))\n",
    "counter=0\n",
    "for i in range(1,number+1)\n",
    "    number % i==0:\n",
    "        counter += 1"
   ]
  },
  {
   "cell_type": "code",
   "execution_count": null,
   "id": "ef519147",
   "metadata": {},
   "outputs": [],
   "source": [
    "def prime(num):\n",
    "      count=0\n",
    "  if num>1:\n",
    "   \n",
    "     for i in range(2,int(input(\"Enter a number : \"))+1):\n",
    "              if i%num==0:\n",
    "                 count=count+1\n",
    "     if count==2:\n",
    "         print(num,\"is a prime Number\"))\n",
    "     else:\n",
    "         print(num, \"Is not prime number\")\n",
    "prime(29)\n",
    "            "
   ]
  },
  {
   "cell_type": "code",
   "execution_count": null,
   "id": "531254f2",
   "metadata": {},
   "outputs": [],
   "source": [
    "size = int(input(\"How many numbers will you enter?\" ))\n",
    "count = 0\n",
    "array = []\n",
    "while count < size:\n",
    "    number = int(input(\"Enter number: \"))\n",
    "    array.append(number)\n",
    "    count += 1\n",
    "largest = 0\n",
    "for i in array:\n",
    "    if i > largest:\n",
    "        largest = i\n",
    "print(\"The largest number is \", largest)"
   ]
  },
  {
   "cell_type": "code",
   "execution_count": null,
   "id": "a19d0f17",
   "metadata": {},
   "outputs": [],
   "source": [
    "\"\"\"Task : Create a list consisting of Fibonacci numbers from 1 to 55 using control flow statements.\n",
    "The desired output is like :\n",
    "fibonacci →  [1, 1, 2, 3, 5, 8, 13, 21, 34, 55]\"\"\"\n",
    "a, b = 1, 1\n",
    "list_fib = []\n",
    "while a <= 55:\n",
    "    list_fib.append(a)\n",
    "    a, b = b, a + b\n",
    "print(list_fib)\"\"\"Task : Create a list consisting of Fibonacci numbers from 1 to 55 using control flow statements.\n",
    "The desired output is like :\n",
    "fibonacci →  [1, 1, 2, 3, 5, 8, 13, 21, 34, 55]\"\"\"\n",
    "a, b = 1, 1\n",
    "list_fib = []\n",
    "while a <= 55:\n",
    "    list_fib.append(a)\n",
    "    a, b = b, a + b\n",
    "print(list_fib)"
   ]
  },
  {
   "cell_type": "code",
   "execution_count": null,
   "id": "c3986230",
   "metadata": {},
   "outputs": [],
   "source": [
    "Acquaintance with functions\n",
    "\n",
    "Calling a function"
   ]
  },
  {
   "cell_type": "code",
   "execution_count": null,
   "id": "d2da847e",
   "metadata": {},
   "outputs": [],
   "source": [
    "'this is a uppercase string'.upper()"
   ]
  },
  {
   "cell_type": "code",
   "execution_count": null,
   "id": "76f89e4b",
   "metadata": {},
   "outputs": [],
   "source": [
    "type(123)"
   ]
  },
  {
   "cell_type": "code",
   "execution_count": null,
   "id": "d0ef6ee3",
   "metadata": {},
   "outputs": [],
   "source": [
    "a = 3\n",
    "b = 5\n",
    "\n",
    "multiply(3, 5)"
   ]
  },
  {
   "cell_type": "code",
   "execution_count": null,
   "id": "35144e60",
   "metadata": {},
   "outputs": [],
   "source": [
    "a = 3\n",
    "b = 5\n",
    "\n",
    "multiply(a, b)"
   ]
  },
  {
   "cell_type": "code",
   "execution_count": null,
   "id": "aedb6871",
   "metadata": {},
   "outputs": [],
   "source": [
    "print('Say: I love you!')\n",
    "print()\n",
    "print('me too', 2019)"
   ]
  },
  {
   "cell_type": "code",
   "execution_count": null,
   "id": "7528280a",
   "metadata": {},
   "outputs": [],
   "source": [
    "Q: Explain Python functions.\n",
    "A: A function is a section of the program or a block of code that is written once and can be executed whenever required in the program. A function is a block of\n",
    " self-contained statements which has a valid name, parameters list, and body. Functions make programming more functional and modular to perform modular tasks. \n",
    " Python provides several built-in functions to complete tasks and also allows a user to create new functions as well. There are two types of functions: \n",
    " Built-In Functions: copy(), len(), count() are the some built-in functions. User-defined Functions:\n",
    " Functions which are defined by a user known as user-defined functions."
   ]
  },
  {
   "cell_type": "code",
   "execution_count": null,
   "id": "c37aadb1",
   "metadata": {},
   "outputs": [],
   "source": [
    "ls1=list(range(5,11))\n",
    "print(all(ls1))"
   ]
  },
  {
   "cell_type": "code",
   "execution_count": null,
   "id": "21bd7a9c",
   "metadata": {},
   "outputs": [],
   "source": [
    "any(ls1)\n"
   ]
  },
  {
   "cell_type": "code",
   "execution_count": null,
   "id": "c6a525b1",
   "metadata": {},
   "outputs": [],
   "source": [
    "x=5\n",
    "callable(x)"
   ]
  },
  {
   "cell_type": "code",
   "execution_count": null,
   "id": "18e71d72",
   "metadata": {},
   "outputs": [],
   "source": [
    "callable(print)"
   ]
  },
  {
   "cell_type": "code",
   "execution_count": null,
   "id": "dc3655dd",
   "metadata": {},
   "outputs": [],
   "source": [
    "callable(type)"
   ]
  },
  {
   "cell_type": "code",
   "execution_count": null,
   "id": "3aacb160",
   "metadata": {},
   "outputs": [],
   "source": [
    "ls2=['a','b','c','d','e']"
   ]
  },
  {
   "cell_type": "code",
   "execution_count": null,
   "id": "1eac81fd",
   "metadata": {},
   "outputs": [],
   "source": [
    "ls1=[[10,9,8,]]"
   ]
  },
  {
   "cell_type": "code",
   "execution_count": null,
   "id": "ff0345e8",
   "metadata": {},
   "outputs": [],
   "source": [
    "for i in zip(ls1, ls2):\n",
    "    print(i)\n"
   ]
  },
  {
   "cell_type": "code",
   "execution_count": null,
   "id": "bfa12585",
   "metadata": {},
   "outputs": [],
   "source": [
    "list(enumerate(ls1))"
   ]
  },
  {
   "cell_type": "code",
   "execution_count": null,
   "id": "1fc6fb05",
   "metadata": {},
   "outputs": [],
   "source": [
    "list(zip(ls1, ls2))"
   ]
  },
  {
   "cell_type": "code",
   "execution_count": null,
   "id": "a4c55ed5",
   "metadata": {},
   "outputs": [],
   "source": [
    "zip(ls1, ls2)"
   ]
  },
  {
   "cell_type": "code",
   "execution_count": null,
   "id": "ba5c20e6",
   "metadata": {},
   "outputs": [],
   "source": [
    "numbers = [1, 2, 3, 4, 5, 6, 7, 8, 9, 10]\n",
    "\n",
    "# returns True if number is even\n",
    "def check_even(number):\n",
    "    if number % 2 == 0:\n",
    "          return True  \n",
    "\n",
    "    return False"
   ]
  },
  {
   "cell_type": "code",
   "execution_count": null,
   "metadata": {},
   "outputs": [],
   "source": [
    "filtered_even = filter(check_even, numbers)\n",
    "print(list(filtered_even))"
   ]
  },
  {
   "cell_type": "code",
   "execution_count": null,
   "metadata": {},
   "outputs": [],
   "source": [
    "print(filtered_even)"
   ]
  },
  {
   "cell_type": "code",
   "execution_count": null,
   "id": "3c4858b1",
   "metadata": {},
   "outputs": [],
   "source": [
    "for i in filter(check_even, numbers):\n",
    "    \n",
    "    print(i)"
   ]
  },
  {
   "cell_type": "code",
   "execution_count": null,
   "id": "18642a9a",
   "metadata": {},
   "outputs": [],
   "source": []
  },
  {
   "cell_type": "code",
   "execution_count": null,
   "id": "3ce1fbd1",
   "metadata": {},
   "outputs": [],
   "source": []
  },
  {
   "cell_type": "code",
   "execution_count": null,
   "metadata": {},
   "outputs": [],
   "source": []
  },
  {
   "cell_type": "code",
   "execution_count": null,
   "id": "903f5b91",
   "metadata": {},
   "outputs": [],
   "source": []
  },
  {
   "cell_type": "code",
   "execution_count": null,
   "id": "429909d9",
   "metadata": {},
   "outputs": [],
   "source": []
  },
  {
   "cell_type": "code",
   "execution_count": null,
   "id": "fe17c3b4",
   "metadata": {},
   "outputs": [],
   "source": [
    "Built-in Functions"
   ]
  },
  {
   "cell_type": "markdown",
   "id": "21620243",
   "metadata": {},
   "source": [
    "# Built in Functions\n",
    "#all () functions\n",
    "names=[\"susan\", \"tom\", \"False\"]\n",
    "mood=[\"happy\", \"sad\",0]\n",
    "empty={}\n",
    "\n",
    "print(all(names)), all(mood), all(empty), sep=\"\\n\")\n"
   ]
  },
  {
   "cell_type": "code",
   "execution_count": null,
   "id": "467f01fc",
   "metadata": {},
   "outputs": [],
   "source": [
    "## Built in Functions\n",
    "#any () functions\n",
    "names=[\"susan\", \"tom\", False]\n",
    "mood=[None, (), 0]\n",
    "empty={}\n",
    "\n",
    "print(any(listA)), any(list B), any(empty), sep=\"\\n\")\n"
   ]
  },
  {
   "cell_type": "code",
   "execution_count": null,
   "id": "555a58ef",
   "metadata": {},
   "outputs": [],
   "source": [
    "## Built in Functions\n",
    "# filter (function, iterable) \n",
    "#all and any can be used\n",
    "\n",
    "listA= [\"Susan\", \"tom\", False, 0, \"0\"]\n",
    "filtered_list=filter(none, listA)\n",
    "print(\"the filtered elements are:\")\n",
    "for i in filtered_list:\n",
    "    print(i)"
   ]
  },
  {
   "cell_type": "code",
   "execution_count": null,
   "id": "47debe18",
   "metadata": {},
   "outputs": [],
   "source": [
    "listA= [\"Susan\", \"tom\", False, 0, 22]"
   ]
  },
  {
   "cell_type": "code",
   "execution_count": null,
   "id": "73723cf0",
   "metadata": {},
   "outputs": [],
   "source": [
    "filter()"
   ]
  },
  {
   "cell_type": "code",
   "execution_count": null,
   "id": "31697ee4",
   "metadata": {},
   "outputs": [],
   "source": [
    "filtered_list=filter(None, listA)"
   ]
  },
  {
   "cell_type": "code",
   "execution_count": null,
   "id": "a4c3a6e7",
   "metadata": {},
   "outputs": [],
   "source": [
    "filtered_list\n",
    "\n",
    "#output-----  filter at 0x7fab78720760"
   ]
  },
  {
   "cell_type": "code",
   "execution_count": null,
   "id": "0d7a547d",
   "metadata": {},
   "outputs": [],
   "source": [
    "print(\"the filtered elements are:\")\n",
    "\n",
    "for i in filtered_list:\n",
    "    print(i)"
   ]
  },
  {
   "cell_type": "code",
   "execution_count": null,
   "id": "97ed8053",
   "metadata": {},
   "outputs": [],
   "source": [
    "## Built in Functions\n",
    "# enumerate(iterable, start=0).\n",
    "#enumerate() method takes two parameters:\n",
    "#.Iterable-a sequence, an iterator, or object that supports iteration\n",
    "#. start(optional)-enumerate() starts counting from this number. If start is omitted, 0 is taken as start."
   ]
  },
  {
   "cell_type": "code",
   "execution_count": null,
   "id": "6d203135",
   "metadata": {},
   "outputs": [],
   "source": [
    "grocery=['bread', 'water', 'olive']\n",
    "enum_grocery= enumerate(grocery)\n",
    "\n",
    "print(type(enum_grocery))\n",
    "print(list(enum_grocery))\n",
    "enum_grocery=enumerate(grocery, 10)\n",
    "print(list(enum_grocery))"
   ]
  },
  {
   "cell_type": "code",
   "execution_count": null,
   "id": "14856007",
   "metadata": {},
   "outputs": [],
   "source": [
    "dict(enumerate(grocery)"
   ]
  },
  {
   "cell_type": "code",
   "execution_count": null,
   "id": "f60842ee",
   "metadata": {},
   "outputs": [],
   "source": [
    "grocer=list(enum_grocery)"
   ]
  },
  {
   "cell_type": "code",
   "execution_count": null,
   "id": "b7d4be75",
   "metadata": {},
   "outputs": [],
   "source": [
    "grocer"
   ]
  },
  {
   "cell_type": "code",
   "execution_count": null,
   "id": "e8409504",
   "metadata": {},
   "outputs": [],
   "source": [
    "number=[-222, 0, 16, 5, 10, 6]\n",
    "largest_number = max(number)\n",
    "smallest_number = min(number)\n",
    "\n",
    "print(\"The largest number is:\", largest_number)\n",
    "print(\"The smallest number is:\", smallest_number)"
   ]
  },
  {
   "cell_type": "code",
   "execution_count": null,
   "id": "18879019",
   "metadata": {},
   "outputs": [],
   "source": [
    "min(\"ahmet\")"
   ]
  },
  {
   "cell_type": "code",
   "execution_count": null,
   "id": "6b779d67",
   "metadata": {},
   "outputs": [],
   "source": [
    "max(\"ahmet\")"
   ]
  },
  {
   "cell_type": "code",
   "execution_count": null,
   "id": "69488a69",
   "metadata": {},
   "outputs": [],
   "source": [
    "ord(\"a\")"
   ]
  },
  {
   "cell_type": "code",
   "execution_count": null,
   "id": "7b041ba4",
   "metadata": {},
   "outputs": [],
   "source": [
    "ord(\"t\")"
   ]
  },
  {
   "cell_type": "code",
   "execution_count": null,
   "id": "28f8f99e",
   "metadata": {},
   "outputs": [],
   "source": [
    "max(1,2,3,4,5)"
   ]
  },
  {
   "cell_type": "code",
   "execution_count": null,
   "id": "0a3b4e88",
   "metadata": {},
   "outputs": [],
   "source": [
    "min(1,2,3,4,5)"
   ]
  },
  {
   "cell_type": "code",
   "execution_count": null,
   "id": "bf336f86",
   "metadata": {},
   "outputs": [],
   "source": [
    "#Built-in Functions\n",
    "#sum(iterable,start)\n",
    "\n",
    "numbers = [2.5, 30, 4, -15]\n",
    "numbers_sum = sum(numbers)\n",
    "print(numbers_sum)\n",
    "\n",
    "numbers_sum = sum(numbers, 20)\n",
    "print(numbers_sum)\n",
    "\n",
    "#Iterable-iterable(list, tuple, dict, etc.). The items of iterable should be numbers.\n",
    "#start(optional)-this value is added to the sum of items of the iterable. The defaults value of start is 0 if (omitted)"
   ]
  },
  {
   "cell_type": "code",
   "execution_count": null,
   "id": "0ecde1b0",
   "metadata": {},
   "outputs": [],
   "source": [
    "numbers = [2.5, 30, 4, -15]\n",
    "numbers_sum = sum(numbers)\n",
    "print(numbers_sum)\n",
    "\n",
    "numbers_sum = sum(numbers, 20)\n",
    "print(numbers_sum)\n",
    "\n",
    "\n",
    "#output 21.5    start ---> ordaki 20 demek, toplanimis sayiya ekleme demek = 41.5"
   ]
  },
  {
   "cell_type": "code",
   "execution_count": null,
   "id": "abdcfb95",
   "metadata": {},
   "outputs": [],
   "source": [
    "sum(1,2,3,4)  # sum fazla argument almaz error verir."
   ]
  },
  {
   "cell_type": "code",
   "execution_count": null,
   "id": "77ee171a",
   "metadata": {},
   "outputs": [],
   "source": [
    "#Built-in Functions\n",
    "round(numbers, ndigits).\n",
    "#round() Parameters\n",
    "The round() function takes two parameters:\n",
    ".number-the number to be rounded\n",
    ".ndigits(optional)-number up to which the given number is rounded to 0"
   ]
  },
  {
   "cell_type": "code",
   "execution_count": null,
   "id": "9f7d1ce1",
   "metadata": {},
   "outputs": [],
   "source": [
    "print(round(12))\n",
    "print(round(10.8))\n",
    "print(round(3.665, 2))\n",
    "print(round(3.675, 2))"
   ]
  },
  {
   "cell_type": "code",
   "execution_count": null,
   "id": "df42e3b5",
   "metadata": {},
   "outputs": [],
   "source": [
    "ef sum_square(arg1, arg2):\n",
    "    print(arg1**2 + arg2**2)"
   ]
  },
  {
   "cell_type": "code",
   "execution_count": null,
   "id": "86f314b9",
   "metadata": {},
   "outputs": [],
   "source": [
    "sum_square(3,7)\n",
    "sum_square(4,8)\n",
    "sum_square(9, 21)"
   ]
  },
  {
   "cell_type": "code",
   "execution_count": null,
   "id": "c0d1817a",
   "metadata": {},
   "outputs": [],
   "source": [
    "def st_repeat(arg1, arg2):\n",
    "    print(arg1 * arg2)"
   ]
  },
  {
   "cell_type": "code",
   "execution_count": null,
   "id": "1330cade",
   "metadata": {},
   "outputs": [],
   "source": [
    "st_repeat('a', 5)"
   ]
  },
  {
   "cell_type": "code",
   "execution_count": null,
   "id": "ef687bbc",
   "metadata": {},
   "outputs": [],
   "source": [
    "st_repeat(2, 3)"
   ]
  },
  {
   "cell_type": "code",
   "execution_count": null,
   "id": "8cbd02fd",
   "metadata": {},
   "outputs": [],
   "source": [
    "def battery_low_warning():\n",
    "    print('Battery Low!')"
   ]
  },
  {
   "cell_type": "code",
   "execution_count": null,
   "id": "d8f49372",
   "metadata": {},
   "outputs": [],
   "source": [
    "battery_low_warning()"
   ]
  },
  {
   "cell_type": "code",
   "execution_count": null,
   "id": "31e6ce0a",
   "metadata": {},
   "outputs": [],
   "source": [
    "def battery_manager(battery):\n",
    "    if battery == 100:\n",
    "        print('Battery Full!')\n",
    "    elif battery >= 50:\n",
    "        print('Battery medium charge')\n",
    "    elif battery < 50 and battery > 10:\n",
    "        battery_low_warning()\n",
    "    else:\n",
    "        print('Please charge your battery!')"
   ]
  },
  {
   "cell_type": "code",
   "execution_count": null,
   "id": "d75dec2e",
   "metadata": {},
   "outputs": [],
   "source": [
    "battery_manager(5)"
   ]
  },
  {
   "cell_type": "code",
   "execution_count": null,
   "id": "d540fcde",
   "metadata": {},
   "outputs": [],
   "source": [
    "def add_2(arg1):\n",
    "    return arg1 + 2  # gonna store the otput in the function (as variable)"
   ]
  },
  {
   "cell_type": "code",
   "execution_count": null,
   "id": "42cab06d",
   "metadata": {},
   "outputs": [],
   "source": [
    "num = add_2(4) + 5\n",
    "num"
   ]
  },
  {
   "cell_type": "code",
   "execution_count": null,
   "id": "4fca06ac",
   "metadata": {},
   "outputs": [],
   "source": [
    "def add_3(x):\n",
    "    return add_2(x) + 1"
   ]
  },
  {
   "cell_type": "code",
   "execution_count": null,
   "id": "16d71c03",
   "metadata": {},
   "outputs": [],
   "source": [
    "print(add_3(11))"
   ]
  },
  {
   "cell_type": "code",
   "execution_count": null,
   "id": "20ff139c",
   "metadata": {},
   "outputs": [],
   "source": [
    "def what_is_print():\n",
    "    print('I print things and return nothing!')\n",
    "\n",
    "def what_is_return():\n",
    "    return 'I return values and print nothing!'"
   ]
  },
  {
   "cell_type": "code",
   "execution_count": null,
   "id": "95124679",
   "metadata": {},
   "outputs": [],
   "source": [
    "what_is_print()\n",
    "what_is_return()"
   ]
  },
  {
   "cell_type": "code",
   "execution_count": null,
   "metadata": {},
   "outputs": [],
   "source": [
    "print(type(what_is_print()))\n",
    "print(type(what_is_return()))"
   ]
  }
 ],
 "metadata": {
  "kernelspec": {
   "display_name": "Python 3",
   "language": "python",
   "name": "python3"
  },
  "language_info": {
   "codemirror_mode": {
    "name": "ipython",
    "version": 3
   },
   "file_extension": ".py",
   "mimetype": "text/x-python",
   "name": "python",
   "nbconvert_exporter": "python",
   "pygments_lexer": "ipython3",
   "version": "3.8.8"
  }
 },
 "nbformat": 4,
 "nbformat_minor": 5
}
