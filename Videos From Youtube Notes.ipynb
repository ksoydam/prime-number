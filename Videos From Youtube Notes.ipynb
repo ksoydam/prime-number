{
 "cells": [
  {
   "cell_type": "code",
   "execution_count": 1,
   "id": "29b9dfb6",
   "metadata": {},
   "outputs": [],
   "source": [
    "a=[1,3,5,7,9,11]"
   ]
  },
  {
   "cell_type": "code",
   "execution_count": 2,
   "id": "71a1e2c9",
   "metadata": {},
   "outputs": [],
   "source": [
    "#[2,6,10,14,18,22]\n",
    "#use .append() function"
   ]
  },
  {
   "cell_type": "code",
   "execution_count": 3,
   "id": "bf76b9ef",
   "metadata": {},
   "outputs": [
    {
     "name": "stdout",
     "output_type": "stream",
     "text": [
      "[10, 20]\n"
     ]
    }
   ],
   "source": [
    "b=[]\n",
    "b.append(10)\n",
    "b.append(20)\n",
    "print(b)"
   ]
  },
  {
   "cell_type": "code",
   "execution_count": 4,
   "id": "679d447c",
   "metadata": {},
   "outputs": [
    {
     "name": "stdout",
     "output_type": "stream",
     "text": [
      "[2]\n",
      "[2, 6]\n",
      "[2, 6, 10]\n",
      "[2, 6, 10, 14]\n",
      "[2, 6, 10, 14, 18]\n",
      "[2, 6, 10, 14, 18, 22]\n"
     ]
    }
   ],
   "source": [
    "c=[]\n",
    "for x in a:\n",
    "    c.append(x*2)\n",
    "    print(c)"
   ]
  },
  {
   "cell_type": "code",
   "execution_count": 5,
   "id": "bccb7174",
   "metadata": {},
   "outputs": [
    {
     "name": "stdout",
     "output_type": "stream",
     "text": [
      "[2, 6, 10, 14, 18, 22]\n"
     ]
    }
   ],
   "source": [
    "d=[x*2 for x in a]\n",
    "print(d)"
   ]
  },
  {
   "cell_type": "code",
   "execution_count": 6,
   "id": "b0a1c2e7",
   "metadata": {},
   "outputs": [],
   "source": [
    "#[1,4,9,16,25,36]"
   ]
  },
  {
   "cell_type": "code",
   "execution_count": 14,
   "id": "5ecc6f21",
   "metadata": {},
   "outputs": [
    {
     "name": "stdout",
     "output_type": "stream",
     "text": [
      "[1, 4, 9, 16, 25, 36]\n"
     ]
    }
   ],
   "source": [
    "e1=[]\n",
    "for x in range (1,7):\n",
    "    e1.append (x**2)\n",
    "print(e1)"
   ]
  },
  {
   "cell_type": "code",
   "execution_count": 15,
   "id": "eb10f7e8",
   "metadata": {},
   "outputs": [
    {
     "name": "stdout",
     "output_type": "stream",
     "text": [
      "[1, 4, 9, 16, 25, 36]\n"
     ]
    }
   ],
   "source": [
    "#or you can use other option\n",
    "e2=[x**2 for x in range(1,7)]\n",
    "print(e2)"
   ]
  },
  {
   "cell_type": "code",
   "execution_count": 16,
   "id": "8549a4e9",
   "metadata": {},
   "outputs": [],
   "source": [
    "#[36,25,16,9,4,1] let's do it in two different way"
   ]
  },
  {
   "cell_type": "code",
   "execution_count": 17,
   "id": "2e908aa7",
   "metadata": {},
   "outputs": [
    {
     "name": "stdout",
     "output_type": "stream",
     "text": [
      "6\n",
      "5\n",
      "4\n",
      "3\n",
      "2\n",
      "1\n"
     ]
    }
   ],
   "source": [
    "for x in range(6,0,-1):\n",
    "    print(x)"
   ]
  },
  {
   "cell_type": "code",
   "execution_count": 21,
   "id": "288b0712",
   "metadata": {},
   "outputs": [
    {
     "name": "stdout",
     "output_type": "stream",
     "text": [
      "[36, 25, 16, 9, 4, 1]\n"
     ]
    }
   ],
   "source": [
    "f1=[]\n",
    "for x in range(6, 0, -1):\n",
    "    f1.append(x**2)\n",
    "print(f1)"
   ]
  },
  {
   "cell_type": "code",
   "execution_count": 22,
   "id": "f5a486bd",
   "metadata": {},
   "outputs": [
    {
     "name": "stdout",
     "output_type": "stream",
     "text": [
      "[36, 25, 16, 9, 4, 1]\n"
     ]
    }
   ],
   "source": [
    "f2=[x**2 for x in range(6, 0, -1)]\n",
    "print(f2)"
   ]
  },
  {
   "cell_type": "code",
   "execution_count": 23,
   "id": "19013822",
   "metadata": {},
   "outputs": [],
   "source": [
    "# https://www.youtube.com/watch?v=2u_ZExcNBzA\n",
    "#https://www.youtube.com/watch?v=Z1Yd7upQsXY&list=PLBZBJbE_rGRWeh5mIBhD-hhDwSEDxogDg"
   ]
  },
  {
   "cell_type": "code",
   "execution_count": 24,
   "id": "b874b98e",
   "metadata": {},
   "outputs": [
    {
     "name": "stdout",
     "output_type": "stream",
     "text": [
      "set()\n"
     ]
    }
   ],
   "source": [
    "a=set()\n",
    "print(a)"
   ]
  },
  {
   "cell_type": "code",
   "execution_count": 25,
   "id": "96c12c6f",
   "metadata": {},
   "outputs": [
    {
     "name": "stdout",
     "output_type": "stream",
     "text": [
      "{1}\n"
     ]
    }
   ],
   "source": [
    "a.add(1)\n",
    "print(a)"
   ]
  },
  {
   "cell_type": "code",
   "execution_count": 26,
   "id": "62113b6e",
   "metadata": {},
   "outputs": [
    {
     "name": "stdout",
     "output_type": "stream",
     "text": [
      "{1, 2}\n"
     ]
    }
   ],
   "source": [
    "a.add(2)\n",
    "print(a)"
   ]
  },
  {
   "cell_type": "code",
   "execution_count": 27,
   "id": "5061e8ac",
   "metadata": {},
   "outputs": [
    {
     "name": "stdout",
     "output_type": "stream",
     "text": [
      "{1, 2}\n"
     ]
    }
   ],
   "source": [
    "#phyton reject duplicates number\n",
    "a.add(2)\n",
    "print(a)"
   ]
  },
  {
   "cell_type": "code",
   "execution_count": 29,
   "id": "7bee539e",
   "metadata": {},
   "outputs": [
    {
     "name": "stdout",
     "output_type": "stream",
     "text": [
      "1\n",
      "2\n"
     ]
    }
   ],
   "source": [
    "for x in a:\n",
    "    print(x)"
   ]
  },
  {
   "cell_type": "code",
   "execution_count": 33,
   "id": "a19fc33a",
   "metadata": {},
   "outputs": [],
   "source": [
    "given_list1=[1,1,2,4,2]"
   ]
  },
  {
   "cell_type": "code",
   "execution_count": 38,
   "id": "3b48d4b2",
   "metadata": {},
   "outputs": [
    {
     "name": "stdout",
     "output_type": "stream",
     "text": [
      "{1, 2, 4}\n"
     ]
    }
   ],
   "source": [
    "new_set1=set()\n",
    "for x in given_list1:\n",
    "    new_set1.add(x)\n",
    "print(new_set1)"
   ]
  },
  {
   "cell_type": "code",
   "execution_count": 41,
   "id": "82bc8f14",
   "metadata": {},
   "outputs": [
    {
     "name": "stdout",
     "output_type": "stream",
     "text": [
      "[1, 2, 4]\n"
     ]
    }
   ],
   "source": [
    "new_list1=list()\n",
    "for x in new_set1:\n",
    "    new_list1.append(x)\n",
    "print(new_list1)"
   ]
  },
  {
   "cell_type": "code",
   "execution_count": 43,
   "id": "019dfaaa",
   "metadata": {},
   "outputs": [
    {
     "name": "stdout",
     "output_type": "stream",
     "text": [
      "{1, 'Apple', 'Banana'}\n"
     ]
    }
   ],
   "source": [
    "b=set()\n",
    "b.add('Apple')\n",
    "b.add('Banana')\n",
    "b.add(1)\n",
    "print(b)"
   ]
  },
  {
   "cell_type": "code",
   "execution_count": 44,
   "id": "c4cecf51",
   "metadata": {},
   "outputs": [],
   "source": [
    "given_list2=[1,3,4,1,3]"
   ]
  },
  {
   "cell_type": "code",
   "execution_count": 47,
   "id": "c66f38ca",
   "metadata": {},
   "outputs": [
    {
     "name": "stdout",
     "output_type": "stream",
     "text": [
      "8\n"
     ]
    }
   ],
   "source": [
    "new_set2=set()\n",
    "for x in given_list2:\n",
    "    new_set2.add(x)\n",
    "total=0\n",
    "for x in new_set2:\n",
    "    total+=x\n",
    "print(total)"
   ]
  },
  {
   "cell_type": "markdown",
   "id": "743a110d",
   "metadata": {},
   "source": [
    "## if else statements"
   ]
  },
  {
   "cell_type": "code",
   "execution_count": 49,
   "id": "0d806d2f",
   "metadata": {},
   "outputs": [
    {
     "name": "stdout",
     "output_type": "stream",
     "text": [
      "a is less than b\n"
     ]
    }
   ],
   "source": [
    "a=1\n",
    "b=2\n",
    "if a<b:\n",
    "    print(\"a is less than b\")"
   ]
  },
  {
   "cell_type": "code",
   "execution_count": 50,
   "id": "943f03de",
   "metadata": {},
   "outputs": [
    {
     "name": "stdout",
     "output_type": "stream",
     "text": [
      "a is less than b\n",
      "Not sure if a is less than b\n"
     ]
    }
   ],
   "source": [
    "a=1\n",
    "b=2\n",
    "if a<b:\n",
    "    print(\"a is less than b\")\n",
    "    print(\"Not sure if a is less than b\")"
   ]
  },
  {
   "cell_type": "code",
   "execution_count": 53,
   "id": "10485f08",
   "metadata": {},
   "outputs": [
    {
     "name": "stdout",
     "output_type": "stream",
     "text": [
      "Not sure if a is less than b\n"
     ]
    }
   ],
   "source": [
    "a=3\n",
    "b=2\n",
    "if a<b:\n",
    "    print(\"a is less than b\")\n",
    "print(\"Not sure if a is less than b\")"
   ]
  },
  {
   "cell_type": "code",
   "execution_count": 55,
   "id": "51710598",
   "metadata": {},
   "outputs": [
    {
     "name": "stdout",
     "output_type": "stream",
     "text": [
      "c is less than d\n",
      "outside the if block\n"
     ]
    }
   ],
   "source": [
    "c=3\n",
    "d=4\n",
    "if c<d:\n",
    "    print(\"c is less than d\")\n",
    "else:\n",
    "    print(\"c is not less than d\")\n",
    "    print(\"I don't think c is less than d\")\n",
    "print(\"outside the if block\")"
   ]
  },
  {
   "cell_type": "code",
   "execution_count": 56,
   "id": "e374e519",
   "metadata": {},
   "outputs": [
    {
     "name": "stdout",
     "output_type": "stream",
     "text": [
      "c is not less than d\n",
      "I don't think c is less than d\n",
      "outside the if block\n"
     ]
    }
   ],
   "source": [
    "c=5\n",
    "d=4\n",
    "if c<d:\n",
    "    print(\"c is less than d\")\n",
    "else:\n",
    "    print(\"c is not less than d\")\n",
    "    print(\"I don't think c is less than d\")\n",
    "print(\"outside the if block\")"
   ]
  },
  {
   "cell_type": "code",
   "execution_count": 57,
   "id": "65548871",
   "metadata": {},
   "outputs": [
    {
     "name": "stdout",
     "output_type": "stream",
     "text": [
      "e is less than f\n"
     ]
    }
   ],
   "source": [
    "e=7\n",
    "f=8\n",
    "if e<f:\n",
    "    print(\"e is less than f\")\n",
    "elif e==f:\n",
    "    print(\"e is equal f\")\n",
    "else:\n",
    "    print(\"e is greater than f\")"
   ]
  },
  {
   "cell_type": "code",
   "execution_count": 58,
   "id": "8e85652a",
   "metadata": {},
   "outputs": [
    {
     "name": "stdout",
     "output_type": "stream",
     "text": [
      "e is equal f\n"
     ]
    }
   ],
   "source": [
    "e=8\n",
    "f=8\n",
    "if e<f:\n",
    "    print(\"e is less than f\")\n",
    "elif e==f:\n",
    "    print(\"e is equal f\")\n",
    "else:\n",
    "    print(\"e is greater than f\")"
   ]
  },
  {
   "cell_type": "code",
   "execution_count": 59,
   "id": "974bb6d5",
   "metadata": {},
   "outputs": [
    {
     "name": "stdout",
     "output_type": "stream",
     "text": [
      "e is greater than f\n"
     ]
    }
   ],
   "source": [
    "e=9\n",
    "f=8\n",
    "if e<f:\n",
    "    print(\"e is less than f\")\n",
    "elif e==f:\n",
    "    print(\"e is equal f\")\n",
    "else:\n",
    "    print(\"e is greater than f\")"
   ]
  },
  {
   "cell_type": "code",
   "execution_count": 61,
   "id": "cbce5b67",
   "metadata": {},
   "outputs": [
    {
     "name": "stdout",
     "output_type": "stream",
     "text": [
      "e is greater than f\n"
     ]
    }
   ],
   "source": [
    "e=10\n",
    "f=8\n",
    "if e<f:\n",
    "    print(\"e is less than f\")\n",
    "elif e==f:\n",
    "    print(\"e is equal f\")\n",
    "elif e>f+10:\n",
    "    print(\"e is greater than f by more than 10\")\n",
    "else:\n",
    "    print(\"e is greater than f\")"
   ]
  },
  {
   "cell_type": "code",
   "execution_count": 62,
   "id": "bd67f57b",
   "metadata": {},
   "outputs": [
    {
     "name": "stdout",
     "output_type": "stream",
     "text": [
      "e is greater than f by more than 10\n"
     ]
    }
   ],
   "source": [
    "e=20\n",
    "f=8\n",
    "if e<f:\n",
    "    print(\"e is less than f\")\n",
    "elif e==f:\n",
    "    print(\"e is equal f\")\n",
    "elif e>f+10:\n",
    "    print(\"e is greater than f by more than 10\")\n",
    "else:\n",
    "    print(\"e is greater than f\")"
   ]
  },
  {
   "cell_type": "code",
   "execution_count": 63,
   "id": "2827def0",
   "metadata": {},
   "outputs": [
    {
     "name": "stdout",
     "output_type": "stream",
     "text": [
      "g is less than h\n"
     ]
    }
   ],
   "source": [
    "g=7\n",
    "h=8\n",
    "if g<h:\n",
    "    print(\"g is less than h\")\n",
    "else:\n",
    "    if g==h:\n",
    "        print(\"e=g is equal h\")\n",
    "    else:\n",
    "        print(\"g is greater than h\")"
   ]
  },
  {
   "cell_type": "code",
   "execution_count": 64,
   "id": "68cee5eb",
   "metadata": {},
   "outputs": [
    {
     "name": "stdout",
     "output_type": "stream",
     "text": [
      "e=g is equal h\n"
     ]
    }
   ],
   "source": [
    "g=8\n",
    "h=8\n",
    "if g<h:\n",
    "    print(\"g is less than h\")\n",
    "else:\n",
    "    if g==h:\n",
    "        print(\"e=g is equal h\")\n",
    "    else:\n",
    "        print(\"g is greater than h\")"
   ]
  },
  {
   "cell_type": "code",
   "execution_count": 65,
   "id": "a8501aaa",
   "metadata": {},
   "outputs": [
    {
     "name": "stdout",
     "output_type": "stream",
     "text": [
      "g is greater than h\n"
     ]
    }
   ],
   "source": [
    "g=9\n",
    "h=8\n",
    "if g<h:\n",
    "    print(\"g is less than h\")\n",
    "else:\n",
    "    if g==h:\n",
    "        print(\"e=g is equal h\")\n",
    "    else:\n",
    "        print(\"g is greater than h\")"
   ]
  },
  {
   "cell_type": "code",
   "execution_count": 67,
   "id": "9612de6a",
   "metadata": {},
   "outputs": [
    {
     "name": "stdout",
     "output_type": "stream",
     "text": [
      "bmi:\n",
      "22.5\n",
      "KS\n",
      "is not overweight\n"
     ]
    }
   ],
   "source": [
    "name=\"KS\"\n",
    "height_m=2\n",
    "weight_kg=90\n",
    "bmi=weight_kg/(height_m**2)\n",
    "print(\"bmi:\")\n",
    "print(bmi)\n",
    "if bmi<25:\n",
    "    print(name)\n",
    "    print(\"is not overweight\")\n",
    "else:\n",
    "    print(name)\n",
    "    print(\"is overweight\")"
   ]
  },
  {
   "cell_type": "code",
   "execution_count": 68,
   "id": "c3322e1d",
   "metadata": {},
   "outputs": [
    {
     "name": "stdout",
     "output_type": "stream",
     "text": [
      "bmi:\n",
      "27.5\n",
      "KS\n",
      "is overweight\n"
     ]
    }
   ],
   "source": [
    "name=\"KS\"\n",
    "height_m=2\n",
    "weight_kg=110\n",
    "bmi=weight_kg/(height_m**2)\n",
    "print(\"bmi:\")\n",
    "print(bmi)\n",
    "if bmi<25:\n",
    "    print(name)\n",
    "    print(\"is not overweight\")\n",
    "else:\n",
    "    print(name)\n",
    "    print(\"is overweight\")"
   ]
  },
  {
   "cell_type": "code",
   "execution_count": null,
   "id": "fa0033cf",
   "metadata": {},
   "outputs": [],
   "source": [
    "num=int(input(\"Enter a number:\"))\n",
    "if (num % 2)==0:\n",
    "    print(\"{0} is Even\".format(num))\n",
    "else:\n",
    "    print(\"{0} is Odd\".format(num))"
   ]
  },
  {
   "cell_type": "code",
   "execution_count": null,
   "id": "3762135f",
   "metadata": {},
   "outputs": [],
   "source": [
    "num=float(input(\"Enter a number:\"))\n",
    "if num>0:\n",
    "    print(\"positive number\")\n",
    "else:\n",
    "    print(\"negative number\")"
   ]
  },
  {
   "cell_type": "code",
   "execution_count": 77,
   "id": "42107b92",
   "metadata": {},
   "outputs": [
    {
     "name": "stdout",
     "output_type": "stream",
     "text": [
      "square of 0 is:0\n",
      "square of 1 is:1\n",
      "square of 2 is:4\n",
      "square of 3 is:9\n",
      "square of 4 is:16\n"
     ]
    }
   ],
   "source": [
    "my_list=[\"a\", \"b\",\"c\",\"d\", \"e\"]\n",
    "a=0\n",
    "while a<len(my_list):\n",
    "    print('square of {} is:{}'.format(a, a**2))\n",
    "    a+=1"
   ]
  },
  {
   "cell_type": "code",
   "execution_count": 83,
   "id": "93525e52",
   "metadata": {},
   "outputs": [],
   "source": [
    "#BMI Calculator\n",
    "name1=\"KS\"\n",
    "height_m1=2\n",
    "weight_kg1=90\n",
    "\n",
    "name2=\"KS's daughter\"\n",
    "height_m2=1\n",
    "weight_kg2=50\n",
    "\n",
    "name3=\"KS's son\"\n",
    "height_m3=1.5\n",
    "weight_kg3=60"
   ]
  },
  {
   "cell_type": "code",
   "execution_count": 89,
   "id": "3c38a4cc",
   "metadata": {},
   "outputs": [],
   "source": [
    "def bmi_calculator(name, height_m, weight_kg):\n",
    "    bmi=weight_kg/(height_m ** 2)\n",
    "    print(\"bmi:\")\n",
    "    print(bmi)\n",
    "    if bmi<25:\n",
    "        return name + \"is not overweight\"\n",
    "    else:\n",
    "        return name + \"is overweight\""
   ]
  },
  {
   "cell_type": "code",
   "execution_count": 90,
   "id": "38b6e987",
   "metadata": {},
   "outputs": [
    {
     "name": "stdout",
     "output_type": "stream",
     "text": [
      "bmi:\n",
      "22.5\n",
      "bmi:\n",
      "50.0\n",
      "bmi:\n",
      "26.666666666666668\n"
     ]
    }
   ],
   "source": [
    "result1=bmi_calculator(name1, height_m1, weight_kg1)\n",
    "result2=bmi_calculator(name2, height_m2, weight_kg2)\n",
    "result3=bmi_calculator(name3, height_m3, weight_kg3)"
   ]
  },
  {
   "cell_type": "code",
   "execution_count": 91,
   "id": "7e3b45b6",
   "metadata": {},
   "outputs": [
    {
     "name": "stdout",
     "output_type": "stream",
     "text": [
      "KSis not overweight\n",
      "KS's daughteris overweight\n",
      "KS's sonis overweight\n"
     ]
    }
   ],
   "source": [
    "print(result1)\n",
    "print(result2)\n",
    "print(result3)"
   ]
  },
  {
   "cell_type": "code",
   "execution_count": null,
   "id": "3a75dcc5",
   "metadata": {},
   "outputs": [],
   "source": [
    "#Let's write a program that asks you to enter your exam score and calculates the range in which your degree is based on your exam score. The output would be: e.g, \"Your degree is B+\"\n",
    "#95 and above ▶▶ \"A+\"\n",
    "#90-94 ▶▶ \"A\"\n",
    "#85-89 ▶▶ \"B+\"\n",
    "#80-84 ▶▶ \"B\"\n",
    "#79 and below ▶▶ \"below B\" or \"B-\"\n",
    "\n",
    "\n",
    "math_mark = int(input('Please enter the mark: '))\n",
    "\n",
    "if math_mark >= 95:\n",
    "    print('A+ (Excellent)')\n",
    "elif math_mark < 94 and math_mark >= 90:\n",
    "    print('A (Good)')\n",
    "elif math_mark < 89 and math_mark >= 85:\n",
    "    print('B+ (Medium)')\n",
    "elif math_mark < 84 and math_mark >= 80:\n",
    "    print('B (Not Bad)')\n",
    "elif math_mark < 79:\n",
    "    print('below B' or 'B-')\n",
    "else:\n",
    "    print('F (Failed)')"
   ]
  },
  {
   "cell_type": "code",
   "execution_count": null,
   "id": "eb46183d",
   "metadata": {},
   "outputs": [],
   "source": [
    "\n",
    "#Let's write a program that asks you to enter your exam score and calculates the range in which your degree is based on your exam score. The output would be: e.g, \"Your degree is B+\"\n",
    "#95 and above ▶▶ \"A+\"\n",
    "#90-94 ▶▶ \"A\"\n",
    "#85-89 ▶▶ \"B+\"\n",
    "#80-84 ▶▶ \"B\"\n",
    "#79 and below ▶▶ \"below B\" or \"B-\"\n",
    "\n",
    "score = int(input('Enter exam score: '))\n",
    "\n",
    "if score >= 90:\n",
    "    if score >= 95:\n",
    "        grade = 'A+'\n",
    "    else:\n",
    "        grade = 'A'\n",
    "elif score >= 80:\n",
    "    if score >= 85:\n",
    "        grade = 'B+'\n",
    "    else:\n",
    "        grade = 'B'\n",
    "else:\n",
    "    grade = 'below B'\n",
    "    \n",
    "print(f'Your degree is {grade}')"
   ]
  },
  {
   "cell_type": "code",
   "execution_count": null,
   "id": "dbf95b8a",
   "metadata": {},
   "outputs": [],
   "source": [
    "score = input('Enter your score: ') \n",
    "# if input is numeric -->no problem\n",
    "#if input is alphabetic ??? -- > will not be converted to int\n",
    "\n",
    "if score.isdigit() and (int(score) > 105 or int(score) < 0):\n",
    "    print(f'You\\'ve enetered {score}. This is an invalid input!')\n",
    "    print('Please enter score between 0 and 105')\n",
    "else:\n",
    "    score = int(score)\n",
    "    if score >= 90: \n",
    "        if score >= 95: \n",
    "            grade = \"A+\"\n",
    "        else:\n",
    "            grade = \"A\"\n",
    "    elif score >= 80: \n",
    "        if score >= 85:\n",
    "            grade = \"B+\"\n",
    "        else: \n",
    "            grade = \"B\" \n",
    "    else: #otherwise it's a c\n",
    "        grade = \"Below B\"\n",
    "    print(f'Your grade is: {grade}')"
   ]
  },
  {
   "cell_type": "code",
   "execution_count": null,
   "id": "14bd7595",
   "metadata": {},
   "outputs": [],
   "source": [
    "sentence=input('Give me a sentence:')\n",
    "words=sentence.split()\n",
    "i=0\n",
    "longest_len=0\n",
    "while i < len(words):\n",
    "    if len(words[i]) > longest_len:\n",
    "        longest_len=len(words[i])\n",
    "        longest=words[i]\n",
    "        i += 1\n",
    "print(words)\n",
    "print('the length of the longest word:', longest_len)\n",
    "print('the longest word is', longest)"
   ]
  },
  {
   "cell_type": "code",
   "execution_count": null,
   "id": "74221c59",
   "metadata": {},
   "outputs": [],
   "source": [
    "# Loops for\n",
    "for i in [1,2,3,4,5]:\n",
    "    print(i)"
   ]
  },
  {
   "cell_type": "code",
   "execution_count": null,
   "id": "46248585",
   "metadata": {},
   "outputs": [],
   "source": [
    "seasons=['spring','summer','autumn','winter']\n",
    "for seasons in seasons:\n",
    "    print(season.title))"
   ]
  },
  {
   "cell_type": "code",
   "execution_count": null,
   "id": "0efb68b1",
   "metadata": {},
   "outputs": [],
   "source": [
    "multiples=list(range(14))\n",
    "print(multiples)\n",
    "for i in multiples:  \n",
    "    print(i*7)"
   ]
  },
  {
   "cell_type": "code",
   "execution_count": null,
   "id": "64a4d87b",
   "metadata": {},
   "outputs": [],
   "source": [
    "multiples=list(range(14))\n",
    "print(multiples)\n",
    "multiplier=float(input('Please enter your multiplier:'))\n",
    "for i in multiples:  \n",
    "    print(i*multiplier)"
   ]
  },
  {
   "cell_type": "code",
   "execution_count": null,
   "id": "343c65b0",
   "metadata": {},
   "outputs": [],
   "source": [
    "names=[\"Ahmad\", \"Aisha\",\"Adam\",\"Joseph\",\"Gabriel\"]\n",
    "for name in names:\n",
    "    print(f'Hello{name}')\n"
   ]
  },
  {
   "cell_type": "code",
   "execution_count": null,
   "id": "bdfb8fe1",
   "metadata": {},
   "outputs": [],
   "source": [
    "\n",
    "ls1='Adam'\n",
    "for i in ls1:\n",
    "    print(i)"
   ]
  },
  {
   "cell_type": "code",
   "execution_count": null,
   "id": "81d01af7",
   "metadata": {},
   "outputs": [],
   "source": [
    "names=[\"Ahmad\", \"Aisha\",\"Adam\",\"Joseph\",\"Gabriel\"]\n",
    "for name in names:\n",
    "    print(f'Hello{name}')"
   ]
  },
  {
   "cell_type": "code",
   "execution_count": null,
   "id": "e5220c90",
   "metadata": {},
   "outputs": [],
   "source": [
    "numbers=ilist(range(1,6))\n",
    "for i in numbers:\n",
    "    print(i)"
   ]
  },
  {
   "cell_type": "code",
   "execution_count": null,
   "id": "d2a5acc7",
   "metadata": {},
   "outputs": [],
   "source": [
    "numbers=[]\n",
    "for i in range(1,6):\n",
    "    numbers.append(i)\n",
    "    print(numbers)"
   ]
  },
  {
   "cell_type": "code",
   "execution_count": null,
   "id": "3ba55905",
   "metadata": {},
   "outputs": [],
   "source": [
    "numbers1=[]\n",
    "i=0\n",
    "while i <= len(numbers1):\n",
    "    numbers1.append(i+1)\n",
    "    i +=1\n",
    "    numbers1"
   ]
  },
  {
   "cell_type": "code",
   "execution_count": null,
   "id": "0022b73e",
   "metadata": {},
   "outputs": [],
   "source": [
    "#Working with iterators. Common iterable items()\n",
    "course='clarusway'\n",
    "for i in course:\n",
    "    print(i)\n"
   ]
  },
  {
   "cell_type": "code",
   "execution_count": null,
   "id": "6aec1d30",
   "metadata": {},
   "outputs": [],
   "source": [
    "word=input('Give me a word of your choice:')\n",
    "count=0\n",
    "for i in word:\n",
    "    count +=1\n",
    "    if count < len(word):\n",
    "        i += '-'\n",
    "    print(i)"
   ]
  },
  {
   "cell_type": "code",
   "execution_count": null,
   "id": "6f7f3b3f",
   "metadata": {},
   "outputs": [],
   "source": [
    "word=input('Give me a word of your choice:')\n",
    "count=0\n",
    "for i in word:\n",
    "    count +=1\n",
    "    if count < len(word):\n",
    "        i += '-'\n",
    "    print(i, end='')"
   ]
  },
  {
   "cell_type": "code",
   "execution_count": null,
   "id": "05ab3d14",
   "metadata": {},
   "outputs": [],
   "source": [
    "word=input('Give me a word of your choice:')\n",
    "count=0\n",
    "for i in word:\n",
    "    count +=1\n",
    "    if count < len(word):\n",
    "        i += '-'\n",
    "    print(i, end='7')"
   ]
  },
  {
   "cell_type": "code",
   "execution_count": null,
   "id": "a9acf5e1",
   "metadata": {},
   "outputs": [],
   "source": [
    "user= {                               #in dict option only key comes back(only return key)\n",
    "    \"name\":\"Daniel\",\n",
    "    \"surname\":\"Smith\",\n",
    "    \"age\":35\n",
    "}\n",
    "for attribute in user:\n",
    "    print(attribute)"
   ]
  },
  {
   "cell_type": "code",
   "execution_count": null,
   "id": "f42b1fbe",
   "metadata": {},
   "outputs": [],
   "source": [
    "user= {                               #in dict option only key comes back(only return key)\n",
    "    \"name\":\"Daniel\",\n",
    "    \"surname\":\"Smith\",\n",
    "    \"age\":35\n",
    "}\n",
    "for i in user.values():\n",
    "    print(i, end=\" \") # it gives a space(iki quote arasi demek mesafe demek)"
   ]
  },
  {
   "cell_type": "code",
   "execution_count": null,
   "id": "695c55dd",
   "metadata": {},
   "outputs": [],
   "source": [
    "user.values()"
   ]
  },
  {
   "cell_type": "code",
   "execution_count": null,
   "id": "f62bf0ed",
   "metadata": {},
   "outputs": [],
   "source": [
    "list(user.values()) [0]"
   ]
  },
  {
   "cell_type": "code",
   "execution_count": null,
   "id": "ee4e7e66",
   "metadata": {},
   "outputs": [],
   "source": [
    "dict_values(['Daniel', 'Smith', 35])"
   ]
  },
  {
   "cell_type": "code",
   "execution_count": null,
   "id": "86299712",
   "metadata": {},
   "outputs": [],
   "source": [
    "for item in user.items():\n",
    "    print(item)"
   ]
  },
  {
   "cell_type": "code",
   "execution_count": null,
   "id": "d607b1c1",
   "metadata": {},
   "outputs": [],
   "source": [
    "user.items()"
   ]
  },
  {
   "cell_type": "code",
   "execution_count": null,
   "id": "521b5545",
   "metadata": {},
   "outputs": [],
   "source": [
    " Python program to check if\n",
    "# given number is prime or not\n",
    "  \n",
    "num = 11\n",
    "  \n",
    "# If given number is greater than 1\n",
    "if num > 1:\n",
    "  \n",
    "    # Iterate from 2 to n / 2\n",
    "    for i in range(2, int(num/2)+1):\n",
    "  \n",
    "        # If num is divisible by any number between\n",
    "        # 2 and n / 2, it is not prime\n",
    "        if (num % i) == 0:\n",
    "            print(num, \"is not a prime number\")\n",
    "            break\n",
    "    else:\n",
    "        print(num, \"is a prime number\")\n",
    "  \n",
    "else:\n",
    "    print(num, \"is not a prime number\")"
   ]
  },
  {
   "cell_type": "code",
   "execution_count": null,
   "id": "888f7383",
   "metadata": {},
   "outputs": [],
   "source": [
    "n=int(input(\"Enter the number\"))\n",
    "c=i\n",
    "for i in range(2,n):\n",
    "    if n%i==0:\n",
    "        c=0\n",
    "if c==1:\n",
    "    print(\"Number is prime\")\n",
    "else:\n",
    "    print(\"Number is not prime\")"
   ]
  },
  {
   "cell_type": "code",
   "execution_count": null,
   "id": "3822501e",
   "metadata": {},
   "outputs": [],
   "source": [
    "# Instead of checking if the number is prime we may cheat here a liitle :)\n",
    "# and simply store the first 25 prime numbers (all the prime numbers less than 100)\n",
    "# However, if needed, we may swap this function with one from the answers in\n",
    "# https://stackoverflow.com/questions/1801391/what-is-the-best-algorithm-for-checking-if-a-number-is-prime\n",
    "def isPrime(n):\n",
    "    return n in [2, 3, 5, 7, 11, 13, 17, 19, 23, 29, 31, 37, 41, 43, 47, 53, 59, 61, 67, 71, 73, 79, 83, 89, 97]\n",
    "\n",
    "# FizzBuzz loop\n",
    "for counter in range(1, 101):\n",
    "    output = \"\"\n",
    "    if isPrime(counter):\n",
    "        output += \"Prime\"\n",
    "    else:\n",
    "        if counter % 3 == 0:\n",
    "            output += \"Fizz\"\n",
    "        if counter % 5 == 0:\n",
    "            output += \"Buzz\"\n",
    "    print(output if len(output) else counter)"
   ]
  },
  {
   "cell_type": "code",
   "execution_count": null,
   "id": "95a042ab",
   "metadata": {},
   "outputs": [],
   "source": [
    "num = int(input(\"Enter the number: \"))\n",
    "\n",
    "if num > 1:\n",
    "# check for factors\n",
    "for i in range(2,num):\n",
    "if (num % i) == 0:\n",
    "print(num,\"is not a prime number\")\n",
    "print(i,\"times\",num//i,\"is\",num)\n",
    "break\n",
    "else:\n",
    "print(num,\"is a prime number\")\n",
    "# if input number is less than\n",
    "# or equal to 1, it is not prime\n",
    "else:\n",
    "print(num,\"is not a prime number\")"
   ]
  },
  {
   "cell_type": "code",
   "execution_count": null,
   "id": "1bdfa6b2",
   "metadata": {},
   "outputs": [],
   "source": [
    "def test_prime(n):\n",
    "    if (n==1):\n",
    "        return False\n",
    "    elif (n==2):\n",
    "        return True;\n",
    "    else:\n",
    "        for x in range(2,n):\n",
    "            if(n % x==0):\n",
    "                return False\n",
    "        return True             \n",
    "print(test_prime(9))"
   ]
  },
  {
   "cell_type": "code",
   "execution_count": null,
   "id": "c58f552c",
   "metadata": {},
   "outputs": [],
   "source": [
    "# Program to check if a number is prime or not\n",
    "\n",
    "num = 407\n",
    "\n",
    "# To take input from the user\n",
    "#num = int(input(\"Enter a number: \"))\n",
    "\n",
    "# prime numbers are greater than 1\n",
    "if num > 1:\n",
    "   # check for factors\n",
    "   for i in range(2,num):\n",
    "       if (num % i) == 0:\n",
    "           print(num,\"is not a prime number\")\n",
    "           print(i,\"times\",num//i,\"is\",num)\n",
    "           break\n",
    "   else:\n",
    "       print(num,\"is a prime number\")\n",
    "       \n",
    "# if input number is less than\n",
    "# or equal to 1, it is not prime\n",
    "else:\n",
    "   print(num,\"is not a prime number\")"
   ]
  },
  {
   "cell_type": "code",
   "execution_count": null,
   "id": "1ca0d555",
   "metadata": {},
   "outputs": [],
   "source": [
    "#prime number verification program\n",
    "a=int(input('print number:'))\n",
    "for i in range(2,a):\n",
    "    if a%i !=0:\n",
    "        continue\n",
    "    else:\n",
    "        print(\"Its not a prime number\")\n",
    "        break # here break is exicuted then it means else would not be exicuted.\n",
    "else:\n",
    "    print(\"Its a prime number\")#this is out of the for loop suite."
   ]
  },
  {
   "cell_type": "code",
   "execution_count": null,
   "id": "ef519147",
   "metadata": {},
   "outputs": [],
   "source": [
    "def prime(num):\n",
    "      count=0\n",
    "  if num>1:\n",
    "   \n",
    "     for i in range(2,int(input(\"Enter a number : \"))+1):\n",
    "              if i%num==0:\n",
    "                 count=count+1\n",
    "     if count==2:\n",
    "         print(num,\"is a prime Number\"))\n",
    "     else:\n",
    "         print(num, \"Is not prime number\")\n",
    "prime(29)\n",
    "            "
   ]
  },
  {
   "cell_type": "code",
   "execution_count": null,
   "id": "531254f2",
   "metadata": {},
   "outputs": [],
   "source": [
    "size = int(input(\"How many numbers will you enter?\" ))\n",
    "count = 0\n",
    "array = []\n",
    "while count < size:\n",
    "    number = int(input(\"Enter number: \"))\n",
    "    array.append(number)\n",
    "    count += 1\n",
    "largest = 0\n",
    "for i in array:\n",
    "    if i > largest:\n",
    "        largest = i\n",
    "print(\"The largest number is \", largest)"
   ]
  },
  {
   "cell_type": "code",
   "execution_count": null,
   "id": "a19d0f17",
   "metadata": {},
   "outputs": [],
   "source": []
  },
  {
   "cell_type": "markdown",
   "id": "4276faeb",
   "metadata": {},
   "source": []
  }
 ],
 "metadata": {
  "kernelspec": {
   "display_name": "Python 3",
   "language": "python",
   "name": "python3"
  },
  "language_info": {
   "codemirror_mode": {
    "name": "ipython",
    "version": 3
   },
   "file_extension": ".py",
   "mimetype": "text/x-python",
   "name": "python",
   "nbconvert_exporter": "python",
   "pygments_lexer": "ipython3",
   "version": "3.8.8"
  }
 },
 "nbformat": 4,
 "nbformat_minor": 5
}
