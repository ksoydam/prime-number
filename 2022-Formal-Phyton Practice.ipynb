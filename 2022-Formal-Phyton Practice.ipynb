{
 "cells": [
  {
   "cell_type": "code",
   "execution_count": 6,
   "id": "34f777a9",
   "metadata": {},
   "outputs": [
    {
     "name": "stdout",
     "output_type": "stream",
     "text": [
      "3.14\n"
     ]
    }
   ],
   "source": [
    "print(3.14)"
   ]
  },
  {
   "cell_type": "code",
   "execution_count": 15,
   "id": "94256f41",
   "metadata": {},
   "outputs": [
    {
     "name": "stdout",
     "output_type": "stream",
     "text": [
      "\n",
      "\n"
     ]
    }
   ],
   "source": [
    "print()\n",
    "print('''''')"
   ]
  },
  {
   "cell_type": "markdown",
   "id": "33cec3ce",
   "metadata": {},
   "source": [
    "## VARIABLE"
   ]
  },
  {
   "cell_type": "code",
   "execution_count": 1,
   "id": "d5becd5d",
   "metadata": {},
   "outputs": [
    {
     "name": "stdout",
     "output_type": "stream",
     "text": [
      "625\n"
     ]
    }
   ],
   "source": [
    "hours_cat_A=5\n",
    "days_cat_A=5\n",
    "rate_level_A=25\n",
    "\n",
    "emp_cat_A=hours_cat_A*days_cat_A*rate_level_A\n",
    "Adam_weekly_pay=emp_cat_A\n",
    "John_weekly_pay=emp_cat_A\n",
    "\n",
    "print(Adam_weekly_pay)"
   ]
  },
  {
   "cell_type": "code",
   "execution_count": 2,
   "id": "4d4f7c2e",
   "metadata": {},
   "outputs": [
    {
     "name": "stdout",
     "output_type": "stream",
     "text": [
      "1000\n"
     ]
    }
   ],
   "source": [
    "hours_cat_A=8\n",
    "days_cat_A=5\n",
    "rate_level_A=25\n",
    "\n",
    "emp_cat_A=hours_cat_A*days_cat_A*rate_level_A\n",
    "Adam_weekly_pay=emp_cat_A\n",
    "John_weekly_pay=emp_cat_A\n",
    "\n",
    "print(Adam_weekly_pay)"
   ]
  },
  {
   "cell_type": "code",
   "execution_count": 3,
   "id": "c01714b2",
   "metadata": {},
   "outputs": [
    {
     "name": "stdout",
     "output_type": "stream",
     "text": [
      "25.0\n"
     ]
    }
   ],
   "source": [
    "hours_cat_A=25\n",
    "days_cat_A=5\n",
    "rate_level_A=5\n",
    "\n",
    "emp_cat_A=hours_cat_A*days_cat_A/rate_level_A\n",
    "Adam_weekly_pay=emp_cat_A\n",
    "John_weekly_pay=emp_cat_A\n",
    "\n",
    "print(Adam_weekly_pay)"
   ]
  },
  {
   "cell_type": "code",
   "execution_count": 4,
   "id": "79ccab62",
   "metadata": {},
   "outputs": [],
   "source": [
    "#Con_PEP_N_RI=Conventional(PEP 8) Naming Rules"
   ]
  },
  {
   "cell_type": "code",
   "execution_count": null,
   "id": "5286f574",
   "metadata": {},
   "outputs": [],
   "source": [
    "variable name=value\n",
    "planet='jupyter'\n",
    "price=140\n",
    "pi_number=3.14"
   ]
  },
  {
   "cell_type": "code",
   "execution_count": 6,
   "id": "4337b2f0",
   "metadata": {},
   "outputs": [
    {
     "name": "stdout",
     "output_type": "stream",
     "text": [
      "96\n"
     ]
    }
   ],
   "source": [
    "width=8\n",
    "height=6\n",
    "length=2\n",
    "volume=width*height*length\n",
    "print(volume)"
   ]
  },
  {
   "cell_type": "code",
   "execution_count": 7,
   "id": "41a5ceb5",
   "metadata": {},
   "outputs": [
    {
     "name": "stdout",
     "output_type": "stream",
     "text": [
      "30\n"
     ]
    }
   ],
   "source": [
    "my_age=33\n",
    "your_age=30\n",
    "my_age=your_age\n",
    "print(my_age)"
   ]
  },
  {
   "cell_type": "code",
   "execution_count": null,
   "id": "f4971064",
   "metadata": {},
   "outputs": [],
   "source": [
    "#lowercase is the language of the phyton\n",
    "#1(one), small el\"l\" ,uppercase (O)"
   ]
  },
  {
   "cell_type": "code",
   "execution_count": 8,
   "id": "76752432",
   "metadata": {},
   "outputs": [
    {
     "name": "stdout",
     "output_type": "stream",
     "text": [
      "same\n",
      "same\n",
      "same\n"
     ]
    }
   ],
   "source": [
    "x=y=z=\"same\"\n",
    "print(x)\n",
    "print(y)\n",
    "print(z)"
   ]
  },
  {
   "cell_type": "code",
   "execution_count": 9,
   "id": "3cc7a7c0",
   "metadata": {},
   "outputs": [
    {
     "name": "stdout",
     "output_type": "stream",
     "text": [
      "100\n"
     ]
    }
   ],
   "source": [
    "first_number=100\n",
    "second_number=first_number\n",
    "print(second_number)"
   ]
  },
  {
   "cell_type": "code",
   "execution_count": 10,
   "id": "4681e33d",
   "metadata": {},
   "outputs": [
    {
     "name": "stdout",
     "output_type": "stream",
     "text": [
      "33\n",
      "33\n",
      "15\n"
     ]
    }
   ],
   "source": [
    "x=15\n",
    "y=33\n",
    "z=x\n",
    "x=y\n",
    "print(x)\n",
    "print(y)\n",
    "print(z)"
   ]
  },
  {
   "cell_type": "code",
   "execution_count": 12,
   "id": "d4376ab5",
   "metadata": {},
   "outputs": [
    {
     "ename": "SyntaxError",
     "evalue": "invalid character in identifier (<ipython-input-12-803844f04344>, line 10)",
     "output_type": "error",
     "traceback": [
      "\u001b[0;36m  File \u001b[0;32m\"<ipython-input-12-803844f04344>\"\u001b[0;36m, line \u001b[0;32m10\u001b[0m\n\u001b[0;31m    line-1 → x=z\u001b[0m\n\u001b[0m           ^\u001b[0m\n\u001b[0;31mSyntaxError\u001b[0m\u001b[0;31m:\u001b[0m invalid character in identifier\n"
     ]
    }
   ],
   "source": [
    "x = 60\n",
    "y = 6\n",
    "z = 10\n",
    "\n",
    "\n",
    "x = 6\n",
    "y = 60\n",
    "z = 6\n",
    "\n",
    "line-1 → x=z\n",
    "line-2 → z=y\n",
    "line-3 → y=x\n",
    "\n",
    "print(x)\n",
    "print(y)\n",
    "print(z)"
   ]
  },
  {
   "cell_type": "markdown",
   "id": "cea1825b",
   "metadata": {},
   "source": [
    "##IF-ELSE IF-ELSE(\n",
    "hours=40\n",
    "rate=45\n",
    "if hours<40\n",
    "Then\n",
    "pay=hours*rate\n",
    "else\n",
    "pay=40*rate+(hours-40)*rate*1.5\n",
    "output pay\n",
    "End"
   ]
  },
  {
   "cell_type": "code",
   "execution_count": null,
   "id": "ec28a74d",
   "metadata": {},
   "outputs": [],
   "source": [
    "What is Python?"
   ]
  },
  {
   "cell_type": "code",
   "execution_count": null,
   "id": "b705629e",
   "metadata": {},
   "outputs": [],
   "source": []
  },
  {
   "cell_type": "code",
   "execution_count": null,
   "id": "275d76db",
   "metadata": {},
   "outputs": [],
   "source": []
  },
  {
   "cell_type": "code",
   "execution_count": null,
   "id": "5a8859e6",
   "metadata": {},
   "outputs": [],
   "source": []
  },
  {
   "cell_type": "code",
   "execution_count": null,
   "id": "f07c54a1",
   "metadata": {},
   "outputs": [],
   "source": [
    "Q: What is Python?\n",
    "A: Python is a programming language. It allows you to control the computer. \n",
    "The benefits of Pythons are that it is simple and easy, portable, extensible.\n",
    "- Interview Q&A\n"
   ]
  },
  {
   "cell_type": "code",
   "execution_count": null,
   "id": "57b63584",
   "metadata": {},
   "outputs": [],
   "source": []
  },
  {
   "cell_type": "code",
   "execution_count": null,
   "id": "b42290fd",
   "metadata": {},
   "outputs": [],
   "source": []
  },
  {
   "cell_type": "code",
   "execution_count": null,
   "id": "9642a3c1",
   "metadata": {},
   "outputs": [],
   "source": [
    "Agility is the hallmark of our times and Python is the programming language of the agile era. \n",
    "The Python universal programming language is the turbocharger of the IT department. \n",
    "Compared with other modern programming languages such as Java or C, Python achieves superior results \n",
    "in significantly shorter timescales for a number of different reasons.\n",
    "For example, Python is a very lean programming language.\n",
    "Python programs are a great deal shorter than code written in other modern programming languages.\n",
    "As a result, both development times and maintenance costs are drastically reduced. \n",
    "Less code means fewer errors, meaning the cost of identifying and eliminating these errors is also reduced.\n"
   ]
  },
  {
   "cell_type": "code",
   "execution_count": null,
   "id": "eea1ff76",
   "metadata": {},
   "outputs": [],
   "source": [
    "Python offers unique benefits for system integration. \n",
    "On the one hand, there are huge numbers of Python libraries, \n",
    "with which virtually any third-party system can be integrated. \n",
    "On the other hand, the libraries of many other programming languages \n",
    "can also be used in Python."
   ]
  },
  {
   "cell_type": "code",
   "execution_count": null,
   "id": "863ad76b",
   "metadata": {},
   "outputs": [],
   "source": []
  },
  {
   "cell_type": "code",
   "execution_count": null,
   "id": "673c25db",
   "metadata": {},
   "outputs": [],
   "source": [
    "This programming language was developed in the early 90s \n",
    "by a Dutch programmer called Guido van Rossum.\n",
    "Guido van Rossum named this programming language inspired \n",
    "by the show of Monty Python’s Flying Circus from an English \n",
    "comedy group called The Monty Python."
   ]
  },
  {
   "cell_type": "code",
   "execution_count": null,
   "id": "7e042390",
   "metadata": {},
   "outputs": [],
   "source": []
  },
  {
   "cell_type": "code",
   "execution_count": null,
   "id": "9ec0ff45",
   "metadata": {},
   "outputs": [],
   "source": [
    "Matter of Quotes\n",
    "\n",
    "There are basically two types of quotes we use. Single or double quotes. Both are the same but we should use them \n",
    "in the correct way:\n",
    "•\tUse double quotes if your string includes the single one:e.g. \"It's my pleasure!\"\n",
    "•\tUse single quotes if your string includes the double one:e.g. 'He said: \"I am done\" and fell down.'\n",
    "•\tUse triple quotes if your string is too long which composed of multiple lines : e.g. :\n",
    "'''\n",
    "...long string...\n",
    "..long string..\n",
    "'''\n",
    "Here's an example that shows using double-quotes. Note that, the text (it's not a problem)\n",
    "below includes a single quote '.\n"
   ]
  },
  {
   "cell_type": "code",
   "execution_count": 102,
   "id": "b833e9a2",
   "metadata": {},
   "outputs": [
    {
     "data": {
      "text/plain": [
       "\"It's my pleasure!\""
      ]
     },
     "execution_count": 102,
     "metadata": {},
     "output_type": "execute_result"
    }
   ],
   "source": [
    "\"It's my pleasure!\""
   ]
  },
  {
   "cell_type": "code",
   "execution_count": null,
   "id": "8059f027",
   "metadata": {},
   "outputs": [],
   "source": []
  },
  {
   "cell_type": "code",
   "execution_count": null,
   "id": "a7c074a7",
   "metadata": {},
   "outputs": [],
   "source": []
  },
  {
   "cell_type": "code",
   "execution_count": 103,
   "id": "bfc79c30",
   "metadata": {},
   "outputs": [
    {
     "name": "stdout",
     "output_type": "stream",
     "text": [
      "it's not a problem\n"
     ]
    }
   ],
   "source": [
    "print(\"it's not a problem\")"
   ]
  },
  {
   "cell_type": "code",
   "execution_count": null,
   "id": "ac08232a",
   "metadata": {},
   "outputs": [],
   "source": []
  },
  {
   "cell_type": "code",
   "execution_count": null,
   "id": "78b53537",
   "metadata": {},
   "outputs": [],
   "source": [
    "print('being a good person')"
   ]
  },
  {
   "cell_type": "code",
   "execution_count": null,
   "id": "ec70b489",
   "metadata": {},
   "outputs": [],
   "source": []
  },
  {
   "cell_type": "code",
   "execution_count": 104,
   "id": "ebc81610",
   "metadata": {},
   "outputs": [
    {
     "name": "stdout",
     "output_type": "stream",
     "text": [
      "success is measured by effort\n"
     ]
    }
   ],
   "source": [
    "print(\"success is measured by effort\")"
   ]
  },
  {
   "cell_type": "code",
   "execution_count": null,
   "id": "b28562a8",
   "metadata": {},
   "outputs": [],
   "source": []
  },
  {
   "cell_type": "code",
   "execution_count": null,
   "id": "0bf6a4f9",
   "metadata": {},
   "outputs": [],
   "source": []
  },
  {
   "cell_type": "code",
   "execution_count": 105,
   "id": "dc615032",
   "metadata": {},
   "outputs": [
    {
     "name": "stdout",
     "output_type": "stream",
     "text": [
      "x\n",
      "y\n",
      "\n",
      "z\n"
     ]
    }
   ],
   "source": [
    "What does the following code print?\n",
    "\n",
    "print(\"x\")\n",
    "print(\"y\")\n",
    "print()\n",
    "print(\"z\")"
   ]
  },
  {
   "cell_type": "code",
   "execution_count": null,
   "id": "b3361c52",
   "metadata": {},
   "outputs": [],
   "source": []
  },
  {
   "cell_type": "code",
   "execution_count": 106,
   "id": "b92df530",
   "metadata": {},
   "outputs": [
    {
     "ename": "SyntaxError",
     "evalue": "EOL while scanning string literal (<ipython-input-106-67ff08d8253d>, line 1)",
     "output_type": "error",
     "traceback": [
      "\u001b[0;36m  File \u001b[0;32m\"<ipython-input-106-67ff08d8253d>\"\u001b[0;36m, line \u001b[0;32m1\u001b[0m\n\u001b[0;31m    print('We should have enough time for our family\")\u001b[0m\n\u001b[0m                                                       ^\u001b[0m\n\u001b[0;31mSyntaxError\u001b[0m\u001b[0;31m:\u001b[0m EOL while scanning string literal\n"
     ]
    }
   ],
   "source": [
    "print('We should have enough time for our family\") "
   ]
  },
  {
   "cell_type": "code",
   "execution_count": null,
   "id": "601a3797",
   "metadata": {},
   "outputs": [],
   "source": []
  },
  {
   "cell_type": "code",
   "execution_count": null,
   "id": "e151a72d",
   "metadata": {},
   "outputs": [],
   "source": []
  },
  {
   "cell_type": "code",
   "execution_count": null,
   "id": "094a674c",
   "metadata": {},
   "outputs": [],
   "source": []
  },
  {
   "cell_type": "code",
   "execution_count": null,
   "id": "541c9549",
   "metadata": {},
   "outputs": [],
   "source": []
  },
  {
   "cell_type": "code",
   "execution_count": null,
   "id": "b9c2b929",
   "metadata": {},
   "outputs": [],
   "source": [
    "Avoid ! :\n",
    "•\tDo not mix two quotes style in one string.\n",
    "print('We should have enough time for our family\") This code gives an error because it starts with single quotes \n",
    "      ends with double. See below:\n"
   ]
  },
  {
   "cell_type": "code",
   "execution_count": null,
   "id": "09a876ef",
   "metadata": {},
   "outputs": [],
   "source": []
  },
  {
   "cell_type": "code",
   "execution_count": null,
   "id": "e197cc1a",
   "metadata": {},
   "outputs": [],
   "source": [
    "print('hello it's small world')"
   ]
  },
  {
   "cell_type": "code",
   "execution_count": null,
   "id": "ae559e08",
   "metadata": {},
   "outputs": [],
   "source": []
  },
  {
   "cell_type": "code",
   "execution_count": null,
   "id": "e1c6fe34",
   "metadata": {},
   "outputs": [],
   "source": [
    "#commenting lines of code can help you debug and figure out which line of code is causing error.\n",
    "#What is the best way of the fixing ('hello it's small world')...."
   ]
  },
  {
   "cell_type": "markdown",
   "id": "6792302b",
   "metadata": {},
   "source": [
    "#Workshop-1\n",
    "Subject: Basic data types and useful operations\n",
    "    Learning Goals\n",
    "    -to work with quotes in strings,\n",
    "    -to practice basic data types,\n",
    "    -to consolidate basic boolen operations"
   ]
  },
  {
   "cell_type": "code",
   "execution_count": null,
   "id": "5f1014a4",
   "metadata": {},
   "outputs": [],
   "source": [
    "Q: What are the numerical data types in Python and their properties?\n",
    "\n",
    "    \n",
    "- Interview Q&A"
   ]
  },
  {
   "cell_type": "code",
   "execution_count": null,
   "id": "aa7eba8d",
   "metadata": {},
   "outputs": [],
   "source": []
  },
  {
   "cell_type": "code",
   "execution_count": null,
   "id": "5920cb12",
   "metadata": {},
   "outputs": [],
   "source": []
  },
  {
   "cell_type": "code",
   "execution_count": null,
   "id": "0c19b2c4",
   "metadata": {},
   "outputs": [],
   "source": []
  },
  {
   "cell_type": "code",
   "execution_count": null,
   "id": "729afcbd",
   "metadata": {},
   "outputs": [],
   "source": [
    "A:Integers : they are whole numbers (positive, negative or zero), including no decimal point.For example: 71, -122, 0\n",
    "Floats : they stand for real numbers with a decimal point.For example: 71.0, -33.03\n",
    "Complexes : they are written in the form, x + yj , where x is the real part and y is the imaginary part.\n",
    "For example: 3.14j.\n",
    "- Interview Q&A"
   ]
  },
  {
   "cell_type": "code",
   "execution_count": null,
   "id": "7bb84ce3",
   "metadata": {},
   "outputs": [],
   "source": []
  },
  {
   "cell_type": "code",
   "execution_count": null,
   "id": "608805e1",
   "metadata": {},
   "outputs": [],
   "source": []
  },
  {
   "cell_type": "code",
   "execution_count": null,
   "id": "c6fd07e9",
   "metadata": {},
   "outputs": [],
   "source": []
  },
  {
   "cell_type": "code",
   "execution_count": null,
   "id": "54f5e366",
   "metadata": {},
   "outputs": [],
   "source": [
    "#Problem 1\n",
    "write a program that multiples three numbers entered by user. \n",
    "Print the output with the format method"
   ]
  },
  {
   "cell_type": "code",
   "execution_count": null,
   "id": "14a767d1",
   "metadata": {},
   "outputs": [],
   "source": []
  },
  {
   "cell_type": "code",
   "execution_count": null,
   "id": "216461fc",
   "metadata": {},
   "outputs": [],
   "source": []
  },
  {
   "cell_type": "code",
   "execution_count": null,
   "id": "59eca7c1",
   "metadata": {},
   "outputs": [],
   "source": []
  },
  {
   "cell_type": "code",
   "execution_count": null,
   "id": "756085f9",
   "metadata": {},
   "outputs": [],
   "source": [
    "a=int(input(\"a:\"))\n",
    "b=int(input(\"b:\"))\n",
    "c=int(input(\"c:\"))  \n",
    "\n",
    "output = a * b * c\n",
    "\n",
    "print(\"{}*{}*{} = {}\".format(a, b, c, output))\n",
    "print(f\"{a}*{b}*{c} = {output}\")"
   ]
  },
  {
   "cell_type": "code",
   "execution_count": null,
   "id": "c711064f",
   "metadata": {},
   "outputs": [],
   "source": []
  },
  {
   "cell_type": "code",
   "execution_count": null,
   "id": "bd96a12c",
   "metadata": {},
   "outputs": [],
   "source": []
  },
  {
   "cell_type": "code",
   "execution_count": null,
   "id": "5d3d40cf",
   "metadata": {},
   "outputs": [],
   "source": [
    "5*2*3 = 30\n",
    "5*2*3 = 30"
   ]
  },
  {
   "cell_type": "code",
   "execution_count": null,
   "id": "90aa34a4",
   "metadata": {},
   "outputs": [],
   "source": [
    "#Problem 2\n",
    "write a program that calculates body mass index \n",
    "from height and weight enterd by the user.\n",
    "Body mass index: weight_kg/(height_m**2)\n",
    "    bmi=weight_kg/(height_m ** 2)"
   ]
  },
  {
   "cell_type": "code",
   "execution_count": 108,
   "id": "475f21b8",
   "metadata": {},
   "outputs": [
    {
     "name": "stdout",
     "output_type": "stream",
     "text": [
      "Enter your height (example: 1.85):1.85\n",
      "Enter your weight (example: 75):75\n",
      "Body mass index: 21.913805697589478\n"
     ]
    }
   ],
   "source": [
    "height_m=float(input(\"Enter your height (example: 1.85):\"))\n",
    "weight_kg=int(input(\"Enter your weight (example: 75):\"))\n",
    "\n",
    "print(\"Body mass index:\",weight_kg / (height_m ** 2))"
   ]
  },
  {
   "cell_type": "code",
   "execution_count": null,
   "id": "1da2a0af",
   "metadata": {},
   "outputs": [],
   "source": []
  },
  {
   "cell_type": "code",
   "execution_count": null,
   "id": "e3d36bd0",
   "metadata": {},
   "outputs": [],
   "source": []
  },
  {
   "cell_type": "code",
   "execution_count": null,
   "id": "614252b2",
   "metadata": {},
   "outputs": [],
   "source": [
    "#Additional cool questions"
   ]
  },
  {
   "cell_type": "code",
   "execution_count": 109,
   "id": "2c0bf5ab",
   "metadata": {},
   "outputs": [
    {
     "name": "stdout",
     "output_type": "stream",
     "text": [
      "bmi:\n",
      "22.5\n",
      "KS\n",
      "is not overweight\n"
     ]
    }
   ],
   "source": [
    "name=\"KS\"\n",
    "height_m=2\n",
    "weight_kg=90\n",
    "bmi=weight_kg/(height_m**2)\n",
    "print(\"bmi:\")\n",
    "print(bmi)\n",
    "if bmi<25:\n",
    "    print(name)\n",
    "    print(\"is not overweight\")\n",
    "else:\n",
    "    print(name)\n",
    "    print(\"is overweight\")"
   ]
  },
  {
   "cell_type": "code",
   "execution_count": null,
   "id": "fd92ae98",
   "metadata": {},
   "outputs": [],
   "source": []
  },
  {
   "cell_type": "code",
   "execution_count": null,
   "id": "4f0011e9",
   "metadata": {},
   "outputs": [],
   "source": []
  },
  {
   "cell_type": "code",
   "execution_count": null,
   "id": "de1ecae9",
   "metadata": {},
   "outputs": [],
   "source": []
  },
  {
   "cell_type": "code",
   "execution_count": null,
   "id": "b7a07d06",
   "metadata": {},
   "outputs": [],
   "source": []
  },
  {
   "cell_type": "code",
   "execution_count": null,
   "id": "9d0f0239",
   "metadata": {},
   "outputs": [],
   "source": [
    "#problem 3\n",
    "With your $200, how many pieces of material can you get for $11 each?\n",
    "How much money do you have left after buying?"
   ]
  },
  {
   "cell_type": "code",
   "execution_count": null,
   "id": "4f5b7e0b",
   "metadata": {},
   "outputs": [],
   "source": []
  },
  {
   "cell_type": "code",
   "execution_count": null,
   "id": "a62ab61c",
   "metadata": {},
   "outputs": [],
   "source": [
    "totalMoney = 200\n",
    "materialPrice = 11\n",
    "piece = 200 // 11\n",
    "remainingMoney = totalMoney % piece\n",
    "print(\"With your ${}, {} pieces of material you can get for ${} each.  \n",
    "The remaining money is ${}\".format(totalMoney, piece, materialPrice, remainingMoney))"
   ]
  },
  {
   "cell_type": "code",
   "execution_count": null,
   "id": "26ad2a38",
   "metadata": {},
   "outputs": [],
   "source": []
  },
  {
   "cell_type": "code",
   "execution_count": null,
   "id": "a2b0fad6",
   "metadata": {},
   "outputs": [],
   "source": []
  },
  {
   "cell_type": "code",
   "execution_count": null,
   "id": "a1ed62ab",
   "metadata": {},
   "outputs": [],
   "source": []
  },
  {
   "cell_type": "code",
   "execution_count": null,
   "id": "1fee66a2",
   "metadata": {},
   "outputs": [],
   "source": []
  },
  {
   "cell_type": "code",
   "execution_count": null,
   "id": "ece49d45",
   "metadata": {},
   "outputs": [],
   "source": []
  },
  {
   "cell_type": "code",
   "execution_count": null,
   "id": "4f1b2ec1",
   "metadata": {},
   "outputs": [],
   "source": [
    "## Problem 4 \n",
    "Get word, seperator and repetition values from the user and \n",
    "print the word on the screen accourding to given values.\n",
    "Ex:word=ali, sep=/, repetition=3---->ali/ali/ali\n"
   ]
  },
  {
   "cell_type": "code",
   "execution_count": null,
   "id": "fa6d9b3b",
   "metadata": {},
   "outputs": [],
   "source": []
  },
  {
   "cell_type": "code",
   "execution_count": null,
   "id": "cb1f6241",
   "metadata": {},
   "outputs": [],
   "source": []
  },
  {
   "cell_type": "code",
   "execution_count": null,
   "id": "b935724f",
   "metadata": {},
   "outputs": [],
   "source": []
  },
  {
   "cell_type": "code",
   "execution_count": null,
   "id": "dbab1d0d",
   "metadata": {},
   "outputs": [],
   "source": []
  },
  {
   "cell_type": "code",
   "execution_count": null,
   "id": "a96ca1c8",
   "metadata": {},
   "outputs": [],
   "source": []
  },
  {
   "cell_type": "code",
   "execution_count": null,
   "id": "8b8c87a7",
   "metadata": {},
   "outputs": [],
   "source": [
    "word = input(\"Word: \")\n",
    "seperator = input(\"Seperator: \")\n",
    "repetitions = int(input(\"repetitions: \"))\n",
    "a = (word + seperator) * (repetitions -1) + word # henry/ * 2 = henry/henry/henry\n",
    "print(a)\n",
    "# print(*list([word] * repetitions), sep=seperator)"
   ]
  },
  {
   "cell_type": "code",
   "execution_count": null,
   "id": "99f7e571",
   "metadata": {},
   "outputs": [],
   "source": []
  },
  {
   "cell_type": "code",
   "execution_count": null,
   "id": "6132433c",
   "metadata": {},
   "outputs": [],
   "source": []
  },
  {
   "cell_type": "code",
   "execution_count": null,
   "id": "4efd58a5",
   "metadata": {},
   "outputs": [],
   "source": []
  },
  {
   "cell_type": "code",
   "execution_count": null,
   "id": "7e5fc6db",
   "metadata": {},
   "outputs": [],
   "source": []
  },
  {
   "cell_type": "code",
   "execution_count": null,
   "id": "23ad9db9",
   "metadata": {},
   "outputs": [],
   "source": [
    "#Problem 5\n",
    "Do not run the code, try to figure out in your mind.\n",
    "What will be the output of the folowing syntax:\n",
    "    print(true and false(not true and false)and not(true or false))"
   ]
  },
  {
   "cell_type": "code",
   "execution_count": null,
   "id": "4866d377",
   "metadata": {},
   "outputs": [],
   "source": []
  },
  {
   "cell_type": "code",
   "execution_count": null,
   "id": "25113934",
   "metadata": {},
   "outputs": [],
   "source": []
  },
  {
   "cell_type": "code",
   "execution_count": null,
   "id": "72f5076c",
   "metadata": {},
   "outputs": [],
   "source": []
  },
  {
   "cell_type": "code",
   "execution_count": null,
   "id": "d6c31cdc",
   "metadata": {},
   "outputs": [],
   "source": []
  },
  {
   "cell_type": "code",
   "execution_count": null,
   "id": "da799765",
   "metadata": {},
   "outputs": [],
   "source": []
  },
  {
   "cell_type": "code",
   "execution_count": null,
   "id": "8518866a",
   "metadata": {},
   "outputs": [],
   "source": [
    "#problem 6\n",
    "\n",
    "Do not run the code, try to figure out in your mind.\n",
    "What will be the output of the folowing syntax:\n",
    "    print(True and False not \"False\" and None and(\"None\" or None))"
   ]
  },
  {
   "cell_type": "code",
   "execution_count": null,
   "id": "80c36d66",
   "metadata": {},
   "outputs": [],
   "source": []
  },
  {
   "cell_type": "code",
   "execution_count": null,
   "id": "c8cfb00f",
   "metadata": {},
   "outputs": [],
   "source": []
  },
  {
   "cell_type": "code",
   "execution_count": null,
   "id": "a2f2bdab",
   "metadata": {},
   "outputs": [],
   "source": [
    "#Problem 7\n",
    "Do not run the code, try to figure out in your mind.\n",
    "What will be the output of the folowing syntax:\n",
    "    print(\"clarusway\" and 0 and not \"\" and False and (\"\" or None))"
   ]
  },
  {
   "cell_type": "code",
   "execution_count": null,
   "id": "02ce66e2",
   "metadata": {},
   "outputs": [],
   "source": []
  },
  {
   "cell_type": "code",
   "execution_count": null,
   "id": "d1900b0b",
   "metadata": {},
   "outputs": [],
   "source": []
  },
  {
   "cell_type": "code",
   "execution_count": null,
   "id": "6d23ab71",
   "metadata": {},
   "outputs": [],
   "source": []
  },
  {
   "cell_type": "code",
   "execution_count": null,
   "id": "e500765b",
   "metadata": {},
   "outputs": [],
   "source": [
    "Task-1:\n",
    "\n",
    "Write a short Python program that asks the user to enter \n",
    "Celsius temperature (it can be a decimal number), converts the entered \n",
    "temperature into Fahrenheit degree and prints the result."
   ]
  },
  {
   "cell_type": "code",
   "execution_count": null,
   "id": "c7a74b8f",
   "metadata": {},
   "outputs": [],
   "source": [
    "celsius=float(input(22.00))\n",
    "fahr=(celsius * 9/5) + 32\n",
    "print(\"Temperature in Fahrenheit is:\",fahr)\n"
   ]
  },
  {
   "cell_type": "code",
   "execution_count": null,
   "id": "de01bd8a",
   "metadata": {},
   "outputs": [],
   "source": []
  },
  {
   "cell_type": "code",
   "execution_count": null,
   "id": "15c70802",
   "metadata": {},
   "outputs": [],
   "source": []
  },
  {
   "cell_type": "code",
   "execution_count": null,
   "id": "2ad48952",
   "metadata": {},
   "outputs": [],
   "source": [
    "celsius = float(input(\"enter temperature in celcius:\")) \n",
    "fahr = (celsius*9/5)+32 \n",
    "print(\"Temperature in Fahrenheit is:\", fahr) "
   ]
  },
  {
   "cell_type": "code",
   "execution_count": null,
   "id": "ca0cf33f",
   "metadata": {},
   "outputs": [],
   "source": []
  },
  {
   "cell_type": "code",
   "execution_count": null,
   "id": "94f12fe7",
   "metadata": {},
   "outputs": [],
   "source": []
  },
  {
   "cell_type": "code",
   "execution_count": null,
   "id": "df861e62",
   "metadata": {},
   "outputs": [],
   "source": [
    "celsius= float(input(\"Enter your Celsius temp to convert it into Fahrenheit: \")) \n",
    "fahrenheit=(c*9/5)+32 \n",
    "print (\"Your celsius temperature in Fahrenheit is \" + str(fahrenheit)) "
   ]
  },
  {
   "cell_type": "code",
   "execution_count": null,
   "id": "6d71d93d",
   "metadata": {},
   "outputs": [],
   "source": []
  },
  {
   "cell_type": "code",
   "execution_count": null,
   "id": "08b2927c",
   "metadata": {},
   "outputs": [],
   "source": []
  },
  {
   "cell_type": "code",
   "execution_count": null,
   "id": "33ff0a3a",
   "metadata": {},
   "outputs": [],
   "source": []
  },
  {
   "cell_type": "code",
   "execution_count": null,
   "id": "a93a0008",
   "metadata": {},
   "outputs": [],
   "source": [
    "Task-2:\n",
    "Write a short Python program that asks the user to enter a distance (it can be a decimal number) in kilometers, \n",
    "converts the entered distance into miles and prints the result."
   ]
  },
  {
   "cell_type": "code",
   "execution_count": null,
   "id": "f6c79cde",
   "metadata": {},
   "outputs": [],
   "source": [
    "# Program to convert Kilometers to Miles\n",
    "#Enter the value in kilometers: 10\n",
    "#The entered value in Miles:  6.21371\n",
    "km = int(input(\"Enter the value in kilometers: \"))\n",
    "\n",
    "# 1 Kilometre = 0.621371 Mile\n",
    "ratio = 0.621371\n",
    "\n",
    "# Converting km to mi.\n",
    "mi = km * ratio\n",
    "\n",
    "print(\"The entered value in Miles: \", mi)\n"
   ]
  },
  {
   "cell_type": "code",
   "execution_count": null,
   "id": "22a64846",
   "metadata": {},
   "outputs": [],
   "source": []
  },
  {
   "cell_type": "code",
   "execution_count": null,
   "id": "d2f3ec19",
   "metadata": {},
   "outputs": [],
   "source": [
    "km = int(input(\"Enter the value in kilometers: \")) #10\n",
    "\n",
    "# 1 Kilometre = 0.621371 Mile\n",
    "ratio = 0.621371\n",
    "\n",
    "# Converting km to mi.\n",
    "mi = km * ratio\n",
    "\n",
    "print(\"The entered value in Miles: \", mi) # mi=10*0.621371=6.21371"
   ]
  },
  {
   "cell_type": "code",
   "execution_count": null,
   "id": "d79de694",
   "metadata": {},
   "outputs": [],
   "source": []
  },
  {
   "cell_type": "code",
   "execution_count": null,
   "id": "7615de92",
   "metadata": {},
   "outputs": [],
   "source": []
  },
  {
   "cell_type": "code",
   "execution_count": null,
   "id": "e91144ea",
   "metadata": {},
   "outputs": [],
   "source": [
    "km = int(input(\"Enter the value in kilometers: \")) #3.5\n",
    "\n",
    "# 1 Kilometre = 0.621371 Mile\n",
    "ratio = 0.621371\n",
    "\n",
    "# Converting km to mi.\n",
    "mi = km * ratio\n",
    "\n",
    "print(\"The entered value in Miles: \", mi) #2.1747985"
   ]
  },
  {
   "cell_type": "code",
   "execution_count": null,
   "id": "36b4468e",
   "metadata": {},
   "outputs": [],
   "source": []
  },
  {
   "cell_type": "markdown",
   "id": "4be08a42",
   "metadata": {},
   "source": [
    "## AHMET SESSION 2\n",
    "##Arithmetic operation"
   ]
  },
  {
   "cell_type": "code",
   "execution_count": null,
   "id": "b68792cf",
   "metadata": {},
   "outputs": [],
   "source": [
    "print('4'+4)  # it gives error"
   ]
  },
  {
   "cell_type": "code",
   "execution_count": 76,
   "id": "8b8ac0ac",
   "metadata": {},
   "outputs": [
    {
     "name": "stdout",
     "output_type": "stream",
     "text": [
      "8.0\n"
     ]
    }
   ],
   "source": [
    "print(4.0 + 4.0)"
   ]
  },
  {
   "cell_type": "code",
   "execution_count": 10,
   "id": "4e3acd51",
   "metadata": {},
   "outputs": [
    {
     "data": {
      "text/plain": [
       "8.0"
      ]
     },
     "execution_count": 10,
     "metadata": {},
     "output_type": "execute_result"
    }
   ],
   "source": [
    "float('4.0')+4.0"
   ]
  },
  {
   "cell_type": "code",
   "execution_count": null,
   "id": "ccb3db52",
   "metadata": {},
   "outputs": [],
   "source": []
  },
  {
   "cell_type": "code",
   "execution_count": null,
   "id": "05b746d3",
   "metadata": {},
   "outputs": [],
   "source": []
  },
  {
   "cell_type": "code",
   "execution_count": null,
   "id": "502314e7",
   "metadata": {},
   "outputs": [],
   "source": []
  },
  {
   "cell_type": "code",
   "execution_count": 9,
   "id": "c73093b8",
   "metadata": {},
   "outputs": [
    {
     "name": "stdout",
     "output_type": "stream",
     "text": [
      "26\n"
     ]
    }
   ],
   "source": [
    "num1, num2=81, 55\n",
    "num3=num1-num2\n",
    "print(num3)"
   ]
  },
  {
   "cell_type": "code",
   "execution_count": null,
   "id": "74394837",
   "metadata": {},
   "outputs": [],
   "source": []
  },
  {
   "cell_type": "code",
   "execution_count": 11,
   "id": "922038d2",
   "metadata": {},
   "outputs": [
    {
     "name": "stdout",
     "output_type": "stream",
     "text": [
      "78.5\n"
     ]
    }
   ],
   "source": [
    "r=5\n",
    "pi=3.14\n",
    "area=pi*(r**2)\n",
    "print(area)"
   ]
  },
  {
   "cell_type": "code",
   "execution_count": 12,
   "id": "408ac5ed",
   "metadata": {},
   "outputs": [
    {
     "name": "stdout",
     "output_type": "stream",
     "text": [
      "314.0\n"
     ]
    }
   ],
   "source": [
    "r=10\n",
    "area=3.14*(r**2)\n",
    "print(area)"
   ]
  },
  {
   "cell_type": "code",
   "execution_count": null,
   "id": "25caed10",
   "metadata": {},
   "outputs": [],
   "source": []
  },
  {
   "cell_type": "code",
   "execution_count": null,
   "id": "bd419e16",
   "metadata": {},
   "outputs": [],
   "source": [
    "r=10\n",
    "area=pi*(r**2)\n",
    "print(area)"
   ]
  },
  {
   "cell_type": "code",
   "execution_count": null,
   "id": "28eeb957",
   "metadata": {},
   "outputs": [],
   "source": []
  },
  {
   "cell_type": "code",
   "execution_count": 13,
   "id": "81e1f366",
   "metadata": {},
   "outputs": [
    {
     "name": "stdout",
     "output_type": "stream",
     "text": [
      "1\n",
      "10.0\n"
     ]
    }
   ],
   "source": [
    "print(11%2)\n",
    "print(4*5/2)"
   ]
  },
  {
   "cell_type": "code",
   "execution_count": 77,
   "id": "8d543384",
   "metadata": {},
   "outputs": [
    {
     "name": "stdout",
     "output_type": "stream",
     "text": [
      "1\n"
     ]
    }
   ],
   "source": [
    "print(15%2)"
   ]
  },
  {
   "cell_type": "code",
   "execution_count": 78,
   "id": "3356f917",
   "metadata": {},
   "outputs": [
    {
     "data": {
      "text/plain": [
       "1.0"
      ]
     },
     "execution_count": 78,
     "metadata": {},
     "output_type": "execute_result"
    }
   ],
   "source": [
    "float(15%2)"
   ]
  },
  {
   "cell_type": "code",
   "execution_count": 79,
   "id": "ff703aec",
   "metadata": {},
   "outputs": [
    {
     "data": {
      "text/plain": [
       "10.0"
      ]
     },
     "execution_count": 79,
     "metadata": {},
     "output_type": "execute_result"
    }
   ],
   "source": [
    "float(4*5/2)"
   ]
  },
  {
   "cell_type": "code",
   "execution_count": null,
   "id": "22ae946f",
   "metadata": {},
   "outputs": [],
   "source": []
  },
  {
   "cell_type": "code",
   "execution_count": 14,
   "id": "5ebee9d1",
   "metadata": {},
   "outputs": [
    {
     "name": "stdout",
     "output_type": "stream",
     "text": [
      "5\n"
     ]
    }
   ],
   "source": [
    "print(11//2)"
   ]
  },
  {
   "cell_type": "code",
   "execution_count": 80,
   "id": "2132fb52",
   "metadata": {},
   "outputs": [
    {
     "name": "stdout",
     "output_type": "stream",
     "text": [
      "7\n"
     ]
    }
   ],
   "source": [
    "print(15//2)"
   ]
  },
  {
   "cell_type": "code",
   "execution_count": 81,
   "id": "575d4c72",
   "metadata": {},
   "outputs": [
    {
     "data": {
      "text/plain": [
       "7.0"
      ]
     },
     "execution_count": 81,
     "metadata": {},
     "output_type": "execute_result"
    }
   ],
   "source": [
    "float(15//2)"
   ]
  },
  {
   "cell_type": "code",
   "execution_count": 82,
   "id": "a58736e8",
   "metadata": {},
   "outputs": [
    {
     "data": {
      "text/plain": [
       "'7'"
      ]
     },
     "execution_count": 82,
     "metadata": {},
     "output_type": "execute_result"
    }
   ],
   "source": [
    "str(15//2)"
   ]
  },
  {
   "cell_type": "code",
   "execution_count": null,
   "id": "6e779979",
   "metadata": {},
   "outputs": [],
   "source": []
  },
  {
   "cell_type": "code",
   "execution_count": null,
   "id": "8d15d004",
   "metadata": {},
   "outputs": [],
   "source": []
  },
  {
   "cell_type": "code",
   "execution_count": null,
   "id": "5ad82cdc",
   "metadata": {},
   "outputs": [],
   "source": []
  },
  {
   "cell_type": "code",
   "execution_count": 17,
   "id": "a210c1c1",
   "metadata": {},
   "outputs": [
    {
     "name": "stdout",
     "output_type": "stream",
     "text": [
      "8\n",
      "9\n",
      "4.0\n"
     ]
    }
   ],
   "source": [
    "print(2**3)\n",
    "print(3**2)\n",
    "\n",
    "a=2\n",
    "b=8\n",
    "print((a*b)**0.5)"
   ]
  },
  {
   "cell_type": "code",
   "execution_count": null,
   "id": "0dac2b3d",
   "metadata": {},
   "outputs": [],
   "source": [
    "## number += number gives the same results as variable += variable + number\n",
    "x +=3 -----> x+3\n",
    "x -=3 -----> x-3\n",
    "x *=3 -----> x*3\n",
    "x **=3 ----> x**3"
   ]
  },
  {
   "cell_type": "code",
   "execution_count": null,
   "id": "1ce3a280",
   "metadata": {},
   "outputs": [],
   "source": []
  },
  {
   "cell_type": "code",
   "execution_count": null,
   "id": "12f8db56",
   "metadata": {},
   "outputs": [],
   "source": []
  },
  {
   "cell_type": "code",
   "execution_count": 18,
   "id": "57c5aa55",
   "metadata": {},
   "outputs": [
    {
     "name": "stdout",
     "output_type": "stream",
     "text": [
      "3\n",
      "6\n"
     ]
    }
   ],
   "source": [
    "x=3\n",
    "print(x)\n",
    "x=x+3\n",
    "print(x)"
   ]
  },
  {
   "cell_type": "code",
   "execution_count": 19,
   "id": "399991f7",
   "metadata": {},
   "outputs": [
    {
     "name": "stdout",
     "output_type": "stream",
     "text": [
      "3\n",
      "6\n",
      "18\n"
     ]
    }
   ],
   "source": [
    "x=3\n",
    "print(x)\n",
    "x=x+3\n",
    "print(x)\n",
    "x=x*3\n",
    "print(x)"
   ]
  },
  {
   "cell_type": "code",
   "execution_count": 20,
   "id": "c1791c2c",
   "metadata": {},
   "outputs": [
    {
     "name": "stdout",
     "output_type": "stream",
     "text": [
      "3\n",
      "6\n",
      "18\n",
      "15\n"
     ]
    }
   ],
   "source": [
    "x=3\n",
    "print(x)\n",
    "x=x+3\n",
    "print(x)\n",
    "x=x*3\n",
    "print(x)\n",
    "x=x-3\n",
    "print(x)"
   ]
  },
  {
   "cell_type": "code",
   "execution_count": 22,
   "id": "c49832e5",
   "metadata": {},
   "outputs": [
    {
     "name": "stdout",
     "output_type": "stream",
     "text": [
      "2\n",
      "4\n",
      "8\n",
      "6\n",
      "36\n"
     ]
    }
   ],
   "source": [
    "#Follow the sequence \n",
    "y=2\n",
    "print(y)\n",
    "y +=2\n",
    "print(y)\n",
    "y *=2\n",
    "print(y)\n",
    "y -=2\n",
    "print(y)\n",
    "y **=2\n",
    "print(y)"
   ]
  },
  {
   "cell_type": "code",
   "execution_count": 23,
   "id": "181563fb",
   "metadata": {},
   "outputs": [
    {
     "name": "stdout",
     "output_type": "stream",
     "text": [
      "4.0\n"
     ]
    }
   ],
   "source": [
    "#parenthesis come first\n",
    "a=(1+3)**(2**(1*2/2)/2)\n",
    "print(a)"
   ]
  },
  {
   "cell_type": "code",
   "execution_count": 24,
   "id": "af792a32",
   "metadata": {},
   "outputs": [
    {
     "data": {
      "text/plain": [
       "5.0"
      ]
     },
     "execution_count": 24,
     "metadata": {},
     "output_type": "execute_result"
    }
   ],
   "source": [
    "a=3\n",
    "b=4\n",
    "c=(a**2 + b**2)**0.5\n",
    "c"
   ]
  },
  {
   "cell_type": "code",
   "execution_count": 25,
   "id": "d7509443",
   "metadata": {},
   "outputs": [
    {
     "data": {
      "text/plain": [
       "15.0"
      ]
     },
     "execution_count": 25,
     "metadata": {},
     "output_type": "execute_result"
    }
   ],
   "source": [
    "a=9\n",
    "b=12\n",
    "c=(a**2 + b**2)**0.5\n",
    "c"
   ]
  },
  {
   "cell_type": "code",
   "execution_count": null,
   "id": "4492f7d2",
   "metadata": {},
   "outputs": [],
   "source": []
  },
  {
   "cell_type": "markdown",
   "id": "6f068a97",
   "metadata": {},
   "source": [
    "###Operations with print() function... Printing variables\n"
   ]
  },
  {
   "cell_type": "code",
   "execution_count": 27,
   "id": "d285babe",
   "metadata": {},
   "outputs": [
    {
     "name": "stdout",
     "output_type": "stream",
     "text": [
      "we have reached 2022\n"
     ]
    }
   ],
   "source": [
    "number=2022\n",
    "text=\"we have reached\"\n",
    "print(text, number)"
   ]
  },
  {
   "cell_type": "markdown",
   "id": "3c856f56",
   "metadata": {},
   "source": [
    "#let's take a look at the inside of print()"
   ]
  },
  {
   "cell_type": "code",
   "execution_count": 28,
   "id": "3e744f6d",
   "metadata": {},
   "outputs": [
    {
     "name": "stdout",
     "output_type": "stream",
     "text": [
      "2,abc\n",
      "2 abc,"
     ]
    }
   ],
   "source": [
    "a=2\n",
    "b='abc'\n",
    "print(a, b, sep=',')\n",
    "print(a, b, end=',')"
   ]
  },
  {
   "cell_type": "code",
   "execution_count": 29,
   "id": "673fbd11",
   "metadata": {},
   "outputs": [
    {
     "name": "stdout",
     "output_type": "stream",
     "text": [
      "2,abc\n",
      "2 abc."
     ]
    }
   ],
   "source": [
    "a=2\n",
    "b='abc'\n",
    "print(a, b, sep=',')\n",
    "print(a, b, end='.')"
   ]
  },
  {
   "cell_type": "code",
   "execution_count": 30,
   "id": "06b2b4a1",
   "metadata": {},
   "outputs": [
    {
     "name": "stdout",
     "output_type": "stream",
     "text": [
      "2******abc\n",
      "2 abc,"
     ]
    }
   ],
   "source": [
    "a=2\n",
    "b='abc'\n",
    "print(a, b, sep='******')\n",
    "print(a, b, end=',')"
   ]
  },
  {
   "cell_type": "code",
   "execution_count": 83,
   "id": "084654fe",
   "metadata": {},
   "outputs": [
    {
     "name": "stdout",
     "output_type": "stream",
     "text": [
      "I bought 6 kg.of the apple this morning\n",
      "I bought 6 kg.of the apple this morning\n",
      "I bought6kg.of the apple this morning\n",
      "I bought6kg.of the apple this morning\n"
     ]
    }
   ],
   "source": [
    "text1=\"I bought\"\n",
    "text2=\"kg.of the apple this morning\"\n",
    "amount=6\n",
    "text3=text1+\"\"+str(amount)+\"\"+text2\n",
    "print(text1, amount, text2)\n",
    "print(\"I bought\", 6, \"kg.of the apple this morning\")\n",
    "print(\"I bought\" + \"6\" + \"kg.of the apple this morning\")\n",
    "print(text3)"
   ]
  },
  {
   "cell_type": "code",
   "execution_count": null,
   "id": "33d82376",
   "metadata": {},
   "outputs": [],
   "source": [
    "## Escape Sequences\n",
    "\\n: means new line\n",
    "\\t: means tab mark,\n",
    "\\b: means backspace. It moves the cursor one character to the left"
   ]
  },
  {
   "cell_type": "code",
   "execution_count": 32,
   "id": "247c2aa8",
   "metadata": {},
   "outputs": [
    {
     "data": {
      "text/plain": [
       "\"I'm all the way up!\""
      ]
     },
     "execution_count": 32,
     "metadata": {},
     "output_type": "execute_result"
    }
   ],
   "source": [
    "'I\\'m all the way up!'# escaping character help you to escape error"
   ]
  },
  {
   "cell_type": "code",
   "execution_count": 86,
   "id": "055311df",
   "metadata": {},
   "outputs": [
    {
     "data": {
      "text/plain": [
       "\"I'm all \\tthe way up!\""
      ]
     },
     "execution_count": 86,
     "metadata": {},
     "output_type": "execute_result"
    }
   ],
   "source": [
    "'I\\'m all \\tthe way up!'"
   ]
  },
  {
   "cell_type": "code",
   "execution_count": 39,
   "id": "292987ae",
   "metadata": {},
   "outputs": [
    {
     "name": "stdout",
     "output_type": "stream",
     "text": [
      "I'm all \n",
      "the way up!\n"
     ]
    }
   ],
   "source": [
    "print('I\\'m all \\nthe way up!')"
   ]
  },
  {
   "cell_type": "code",
   "execution_count": 38,
   "id": "45dc806c",
   "metadata": {},
   "outputs": [
    {
     "name": "stdout",
     "output_type": "stream",
     "text": [
      "I'm alll\b the way up!\n"
     ]
    }
   ],
   "source": [
    "print('I\\'m alll\\b the way up!')"
   ]
  },
  {
   "cell_type": "code",
   "execution_count": 40,
   "id": "6d7578af",
   "metadata": {},
   "outputs": [
    {
     "name": "stdout",
     "output_type": "stream",
     "text": [
      "C:\\north pole\n",
      "oise_penguins.txt\n",
      "---------\n",
      "first\tsecond\tthird\n"
     ]
    }
   ],
   "source": [
    "print('C:\\\\north pole\\noise_penguins.txt')\n",
    "print('---------')\n",
    "print('first', 'second', 'third', sep='\\t')"
   ]
  },
  {
   "cell_type": "code",
   "execution_count": 41,
   "id": "f15aa7ed",
   "metadata": {},
   "outputs": [
    {
     "name": "stdout",
     "output_type": "stream",
     "text": [
      "C:\\north pole\\noise_penguins.txt\n",
      "---------*(*)*---------\n",
      "first\tsecond\tthird\n"
     ]
    }
   ],
   "source": [
    "print('C:\\\\north pole\\\\noise_penguins.txt')\n",
    "print('---------*(*)*---------')\n",
    "print('first', 'second', 'third', sep='\\t')"
   ]
  },
  {
   "cell_type": "code",
   "execution_count": 42,
   "id": "1c616584",
   "metadata": {},
   "outputs": [
    {
     "name": "stdout",
     "output_type": "stream",
     "text": [
      "C:\\north pole\\noise_penguins.txt\n",
      "---------*(*)*---------\n",
      "first\n",
      "second\n",
      "third\n"
     ]
    }
   ],
   "source": [
    "print('C:\\\\north pole\\\\noise_penguins.txt')\n",
    "print('---------*(*)*---------')\n",
    "print('first', 'second', 'third', sep='\\n')"
   ]
  },
  {
   "cell_type": "code",
   "execution_count": 43,
   "id": "d58ebbd0",
   "metadata": {},
   "outputs": [
    {
     "name": "stdout",
     "output_type": "stream",
     "text": [
      "C:\\north pole\\noise_penguins.txt\n",
      "---------*(*)*---------\n",
      "first\bsecond\bthird\n"
     ]
    }
   ],
   "source": [
    "print('C:\\\\north pole\\\\noise_penguins.txt')\n",
    "print('---------*(*)*---------')\n",
    "print('first', 'second', 'third', sep='\\b')"
   ]
  },
  {
   "cell_type": "markdown",
   "id": "0c8124f6",
   "metadata": {},
   "source": [
    "##Boolean Logic Expression"
   ]
  },
  {
   "cell_type": "code",
   "execution_count": 44,
   "id": "9a934b68",
   "metadata": {},
   "outputs": [
    {
     "data": {
      "text/plain": [
       "True"
      ]
     },
     "execution_count": 44,
     "metadata": {},
     "output_type": "execute_result"
    }
   ],
   "source": [
    "True and True"
   ]
  },
  {
   "cell_type": "code",
   "execution_count": 45,
   "id": "b1688552",
   "metadata": {},
   "outputs": [
    {
     "data": {
      "text/plain": [
       "False"
      ]
     },
     "execution_count": 45,
     "metadata": {},
     "output_type": "execute_result"
    }
   ],
   "source": [
    "False and True"
   ]
  },
  {
   "cell_type": "code",
   "execution_count": 46,
   "id": "d9749c09",
   "metadata": {},
   "outputs": [
    {
     "data": {
      "text/plain": [
       "False"
      ]
     },
     "execution_count": 46,
     "metadata": {},
     "output_type": "execute_result"
    }
   ],
   "source": [
    "True and False"
   ]
  },
  {
   "cell_type": "code",
   "execution_count": 47,
   "id": "239d5582",
   "metadata": {},
   "outputs": [
    {
     "data": {
      "text/plain": [
       "False"
      ]
     },
     "execution_count": 47,
     "metadata": {},
     "output_type": "execute_result"
    }
   ],
   "source": [
    "False and False"
   ]
  },
  {
   "cell_type": "code",
   "execution_count": 48,
   "id": "a42d4c7d",
   "metadata": {},
   "outputs": [
    {
     "data": {
      "text/plain": [
       "True"
      ]
     },
     "execution_count": 48,
     "metadata": {},
     "output_type": "execute_result"
    }
   ],
   "source": [
    "True or False"
   ]
  },
  {
   "cell_type": "code",
   "execution_count": 49,
   "id": "6b0d0a6d",
   "metadata": {},
   "outputs": [
    {
     "data": {
      "text/plain": [
       "True"
      ]
     },
     "execution_count": 49,
     "metadata": {},
     "output_type": "execute_result"
    }
   ],
   "source": [
    "False or True"
   ]
  },
  {
   "cell_type": "code",
   "execution_count": 50,
   "id": "b34c6445",
   "metadata": {},
   "outputs": [
    {
     "data": {
      "text/plain": [
       "False"
      ]
     },
     "execution_count": 50,
     "metadata": {},
     "output_type": "execute_result"
    }
   ],
   "source": [
    "False or False"
   ]
  },
  {
   "cell_type": "code",
   "execution_count": 51,
   "id": "c03a54e0",
   "metadata": {},
   "outputs": [
    {
     "data": {
      "text/plain": [
       "True"
      ]
     },
     "execution_count": 51,
     "metadata": {},
     "output_type": "execute_result"
    }
   ],
   "source": [
    "True or True"
   ]
  },
  {
   "cell_type": "code",
   "execution_count": 52,
   "id": "1512f8f6",
   "metadata": {},
   "outputs": [
    {
     "data": {
      "text/plain": [
       "False"
      ]
     },
     "execution_count": 52,
     "metadata": {},
     "output_type": "execute_result"
    }
   ],
   "source": [
    "not True"
   ]
  },
  {
   "cell_type": "code",
   "execution_count": 54,
   "id": "7958218f",
   "metadata": {},
   "outputs": [
    {
     "data": {
      "text/plain": [
       "True"
      ]
     },
     "execution_count": 54,
     "metadata": {},
     "output_type": "execute_result"
    }
   ],
   "source": [
    "not False"
   ]
  },
  {
   "cell_type": "code",
   "execution_count": 55,
   "id": "be17cebc",
   "metadata": {},
   "outputs": [
    {
     "data": {
      "text/plain": [
       "True"
      ]
     },
     "execution_count": 55,
     "metadata": {},
     "output_type": "execute_result"
    }
   ],
   "source": [
    "not(True and False)"
   ]
  },
  {
   "cell_type": "code",
   "execution_count": 56,
   "id": "cd77d3cf",
   "metadata": {},
   "outputs": [
    {
     "data": {
      "text/plain": [
       "False"
      ]
     },
     "execution_count": 56,
     "metadata": {},
     "output_type": "execute_result"
    }
   ],
   "source": [
    "not(True or False)"
   ]
  },
  {
   "cell_type": "code",
   "execution_count": 57,
   "id": "aede4382",
   "metadata": {},
   "outputs": [
    {
     "data": {
      "text/plain": [
       "False"
      ]
     },
     "execution_count": 57,
     "metadata": {},
     "output_type": "execute_result"
    }
   ],
   "source": [
    "not True and False  #'not' goes first than 'or'"
   ]
  },
  {
   "cell_type": "code",
   "execution_count": 58,
   "id": "b4efa8b2",
   "metadata": {},
   "outputs": [
    {
     "data": {
      "text/plain": [
       "True"
      ]
     },
     "execution_count": 58,
     "metadata": {},
     "output_type": "execute_result"
    }
   ],
   "source": [
    "True and not False"
   ]
  },
  {
   "cell_type": "code",
   "execution_count": 59,
   "id": "3a53b2ae",
   "metadata": {},
   "outputs": [
    {
     "data": {
      "text/plain": [
       "False"
      ]
     },
     "execution_count": 59,
     "metadata": {},
     "output_type": "execute_result"
    }
   ],
   "source": [
    "(((not True) and  False) or (not True))"
   ]
  },
  {
   "cell_type": "code",
   "execution_count": null,
   "id": "f68cd20a",
   "metadata": {},
   "outputs": [],
   "source": [
    "Heating system control app\n",
    "requirements:\n",
    "1. motion sensor (2 or more motion detectors to detect people) (false or true ==> True I have people in the house)\n",
    "2. temperature sensor (to tell the app what is the actual temp indours) True we are below the set temp.\n",
    "(set temp is 69. actual temp is 68)\n",
    "3. the app:\n",
    "  if (MS --> True) and (TS --> False)\n",
    "  please do not turn on the heat"
   ]
  },
  {
   "cell_type": "code",
   "execution_count": null,
   "id": "f6fd7730",
   "metadata": {},
   "outputs": [],
   "source": [
    "#Falsy values in Phyton:\n",
    ".None\n",
    ".Zero:0, 0.0. 0j\n",
    ".Empty Seq. and collections:'', [], {}\n",
    ". Any remaining value: True"
   ]
  },
  {
   "cell_type": "code",
   "execution_count": null,
   "id": "5f4498fd",
   "metadata": {},
   "outputs": [],
   "source": []
  },
  {
   "cell_type": "code",
   "execution_count": 61,
   "id": "ceb8ca2e",
   "metadata": {},
   "outputs": [
    {
     "name": "stdout",
     "output_type": "stream",
     "text": [
      "None\n"
     ]
    }
   ],
   "source": [
    "adam_age=None\n",
    "print(adam_age)"
   ]
  },
  {
   "cell_type": "code",
   "execution_count": 62,
   "id": "9a7fea0a",
   "metadata": {},
   "outputs": [
    {
     "name": "stdout",
     "output_type": "stream",
     "text": [
      "None\n"
     ]
    }
   ],
   "source": [
    "print(True and adam_age)"
   ]
  },
  {
   "cell_type": "code",
   "execution_count": 63,
   "id": "a5d4d6cc",
   "metadata": {},
   "outputs": [
    {
     "name": "stdout",
     "output_type": "stream",
     "text": [
      "33\n"
     ]
    }
   ],
   "source": [
    "adam_age=33\n",
    "print(True and adam_age)"
   ]
  },
  {
   "cell_type": "code",
   "execution_count": 64,
   "id": "928eac87",
   "metadata": {},
   "outputs": [
    {
     "name": "stdout",
     "output_type": "stream",
     "text": [
      "1\n"
     ]
    }
   ],
   "source": [
    "people=1\n",
    "temp=67\n",
    "print(temp and people)"
   ]
  },
  {
   "cell_type": "code",
   "execution_count": 65,
   "id": "ca754f0a",
   "metadata": {},
   "outputs": [
    {
     "name": "stdout",
     "output_type": "stream",
     "text": [
      "1\n"
     ]
    }
   ],
   "source": [
    "people=1\n",
    "temp=70\n",
    "print(temp and people)"
   ]
  },
  {
   "cell_type": "code",
   "execution_count": 67,
   "id": "63b69240",
   "metadata": {},
   "outputs": [
    {
     "name": "stdout",
     "output_type": "stream",
     "text": [
      "0\n"
     ]
    }
   ],
   "source": [
    "people=0\n",
    "temp=70\n",
    "print(people and temp)"
   ]
  },
  {
   "cell_type": "code",
   "execution_count": 68,
   "id": "eb725809",
   "metadata": {},
   "outputs": [
    {
     "name": "stdout",
     "output_type": "stream",
     "text": [
      "70\n"
     ]
    }
   ],
   "source": [
    "people=1\n",
    "temp=70\n",
    "print(people and temp)"
   ]
  },
  {
   "cell_type": "code",
   "execution_count": null,
   "id": "831b4036",
   "metadata": {},
   "outputs": [],
   "source": [
    "people=1\n",
    "temp=70\n",
    "print(people and temp)\n"
   ]
  },
  {
   "cell_type": "code",
   "execution_count": 69,
   "id": "76d2935b",
   "metadata": {},
   "outputs": [
    {
     "name": "stdout",
     "output_type": "stream",
     "text": [
      "60\n"
     ]
    }
   ],
   "source": [
    "people=1\n",
    "temp=60\n",
    "print(people and temp)"
   ]
  },
  {
   "cell_type": "code",
   "execution_count": 72,
   "id": "84f4778b",
   "metadata": {},
   "outputs": [
    {
     "name": "stdout",
     "output_type": "stream",
     "text": [
      "[]\n",
      "{}\n",
      "\n"
     ]
    }
   ],
   "source": [
    "lis_1=[]\n",
    "dict_1={}\n",
    "str_1=''\n",
    "\n",
    "print(lis_1 and True)\n",
    "print(dict_1 and True)\n",
    "print(str_1 and True)"
   ]
  },
  {
   "cell_type": "code",
   "execution_count": 70,
   "id": "ac826857",
   "metadata": {},
   "outputs": [
    {
     "name": "stdout",
     "output_type": "stream",
     "text": [
      "3\n"
     ]
    }
   ],
   "source": [
    "print(2 and 3) # first one will accept as a true. Because of this reason, phyton choose second option"
   ]
  },
  {
   "cell_type": "code",
   "execution_count": 71,
   "id": "2e6d5aab",
   "metadata": {},
   "outputs": [
    {
     "name": "stdout",
     "output_type": "stream",
     "text": [
      "0\n"
     ]
    }
   ],
   "source": [
    "print(1 and 0)"
   ]
  },
  {
   "cell_type": "code",
   "execution_count": 73,
   "id": "282b27d1",
   "metadata": {},
   "outputs": [
    {
     "name": "stdout",
     "output_type": "stream",
     "text": [
      "adam\n"
     ]
    }
   ],
   "source": [
    "print(1 and 'adam')"
   ]
  },
  {
   "cell_type": "code",
   "execution_count": 74,
   "id": "0cf769a7",
   "metadata": {},
   "outputs": [
    {
     "name": "stdout",
     "output_type": "stream",
     "text": [
      "hello world\n",
      "[]\n",
      "None\n"
     ]
    }
   ],
   "source": [
    "print(2 and \"hello world\")\n",
    "print([] and \"be happy\")\n",
    "print(None and ())"
   ]
  },
  {
   "cell_type": "code",
   "execution_count": 75,
   "id": "7eeb5713",
   "metadata": {},
   "outputs": [
    {
     "name": "stdout",
     "output_type": "stream",
     "text": [
      "2\n",
      "be happy\n",
      "()\n",
      "0\n",
      "{0}\n"
     ]
    }
   ],
   "source": [
    "print(2 or \"hello world\")  # gercek verileri kabul ediyor. Ozellikle 'or' kullanildiginda...kolayini secer\n",
    "print([] or \"be happy\")\n",
    "print(None or ())\n",
    "print({} or 0)\n",
    "print({0} or False)"
   ]
  },
  {
   "cell_type": "code",
   "execution_count": null,
   "id": "de36a142",
   "metadata": {},
   "outputs": [],
   "source": [
    "Joseph loves bananas. A pound of banana costs $2 in his town. \n",
    "Let's help him calculate how much he should pay for 5 pounds of bananas using \n",
    "print() function and multiplication operator 👉🏻 *\n",
    "\n",
    "Define two variables ➜ banana_price and total_amount_bought and use them in the calculation.\n",
    "\n",
    "Input                                        output\n",
    "variable_1 = 1                                 3\n",
    "variable_2 = 2\n",
    "print(variable_1 + variable_2)"
   ]
  },
  {
   "cell_type": "code",
   "execution_count": 87,
   "id": "b62e2ebc",
   "metadata": {},
   "outputs": [
    {
     "name": "stdout",
     "output_type": "stream",
     "text": [
      "10\n"
     ]
    }
   ],
   "source": [
    "banana_price=2\n",
    "total_amount_bought=5\n",
    "print(banana_price*total_amount_bought)"
   ]
  },
  {
   "cell_type": "code",
   "execution_count": null,
   "id": "a29b1d2a",
   "metadata": {},
   "outputs": [],
   "source": [
    "We can convert the types of data to each other if the type allows to be converted. \n",
    "There are some functions to convert the types:\n",
    "•\tstr() converts to string type\n",
    "•\tint() converts to signed integer type\n",
    "•\tfloat() converts to floating point type\n"
   ]
  },
  {
   "cell_type": "code",
   "execution_count": 88,
   "id": "9128917a",
   "metadata": {},
   "outputs": [
    {
     "name": "stdout",
     "output_type": "stream",
     "text": [
      "<class 'str'>\n"
     ]
    }
   ],
   "source": [
    "example1 = 'sometimes what you say is less important than how you say it'\n",
    "print(type(example1))\n"
   ]
  },
  {
   "cell_type": "code",
   "execution_count": 89,
   "id": "5ea21cac",
   "metadata": {},
   "outputs": [
    {
     "name": "stdout",
     "output_type": "stream",
     "text": [
      "<class 'str'>\n"
     ]
    }
   ],
   "source": [
    "example2 = '71'\n",
    "print(type(example2))"
   ]
  },
  {
   "cell_type": "code",
   "execution_count": 90,
   "id": "c4f7d035",
   "metadata": {},
   "outputs": [
    {
     "name": "stdout",
     "output_type": "stream",
     "text": [
      "<class 'int'>\n"
     ]
    }
   ],
   "source": [
    "example3 = 71\n",
    "print(type(example3))"
   ]
  },
  {
   "cell_type": "code",
   "execution_count": 91,
   "id": "f266ba33",
   "metadata": {},
   "outputs": [
    {
     "name": "stdout",
     "output_type": "stream",
     "text": [
      "<class 'float'>\n"
     ]
    }
   ],
   "source": [
    "example4 = 71.0\n",
    "print(type(example4))"
   ]
  },
  {
   "cell_type": "code",
   "execution_count": null,
   "id": "bb57084b",
   "metadata": {},
   "outputs": [],
   "source": [
    "example5 = 3.14j\n",
    "print(type(example5))"
   ]
  },
  {
   "cell_type": "code",
   "execution_count": 92,
   "id": "b4279477",
   "metadata": {},
   "outputs": [
    {
     "name": "stdout",
     "output_type": "stream",
     "text": [
      "<class 'bool'>\n"
     ]
    }
   ],
   "source": [
    "example6 = True\n",
    "print(type(example6))"
   ]
  },
  {
   "cell_type": "code",
   "execution_count": 93,
   "id": "eb48c1c2",
   "metadata": {},
   "outputs": [
    {
     "name": "stdout",
     "output_type": "stream",
     "text": [
      "<class 'float'>\n"
     ]
    }
   ],
   "source": [
    "#Here are some examples on converting between different types:\n",
    "\n",
    "f = 3.14  # the type is float\n",
    "print(type(f)) "
   ]
  },
  {
   "cell_type": "code",
   "execution_count": 94,
   "id": "26b5ac02",
   "metadata": {},
   "outputs": [
    {
     "name": "stdout",
     "output_type": "stream",
     "text": [
      "<class 'str'>\n"
     ]
    }
   ],
   "source": [
    "f = 3.14  # the type is float\n",
    "\n",
    "s = str(f)  # converting float to string\n",
    "print(type(s))"
   ]
  },
  {
   "cell_type": "code",
   "execution_count": 95,
   "id": "3b671005",
   "metadata": {},
   "outputs": [
    {
     "name": "stdout",
     "output_type": "stream",
     "text": [
      "3 \n",
      "\n",
      "<class 'int'>\n"
     ]
    }
   ],
   "source": [
    "f = 3.14  # the type is float\n",
    "\n",
    "i = int(f)  # while converting a float value to an integer its decimal part is disregarded\n",
    "print(i, '\\n')\n",
    "print(type(i)) "
   ]
  },
  {
   "cell_type": "code",
   "execution_count": 96,
   "id": "7b2f3fcb",
   "metadata": {},
   "outputs": [
    {
     "name": "stdout",
     "output_type": "stream",
     "text": [
      "3.0 \n",
      "\n",
      "<class 'float'>\n"
     ]
    }
   ],
   "source": [
    "i = 3\n",
    "\n",
    "f = float(i)\n",
    "print(f, '\\n')\n",
    "print(type(f)) "
   ]
  },
  {
   "cell_type": "code",
   "execution_count": 97,
   "id": "9de84aa7",
   "metadata": {},
   "outputs": [
    {
     "name": "stdout",
     "output_type": "stream",
     "text": [
      "28\n",
      "36.5\n",
      "I am at_39\n"
     ]
    }
   ],
   "source": [
    "x = 39\n",
    "v = \"11\"\n",
    "y = \"2.5\"\n",
    "z = \"I am at_\"\n",
    "\n",
    "print(x-int(v))\n",
    "print(x-float(y))\n",
    "print(z+str(x))"
   ]
  },
  {
   "cell_type": "code",
   "execution_count": 98,
   "id": "d52f967b",
   "metadata": {},
   "outputs": [
    {
     "name": "stdout",
     "output_type": "stream",
     "text": [
      "<class 'int'>\n"
     ]
    }
   ],
   "source": [
    "a = 10\n",
    "print(type(int(a)))"
   ]
  },
  {
   "cell_type": "code",
   "execution_count": 99,
   "id": "7a309e28",
   "metadata": {},
   "outputs": [
    {
     "name": "stdout",
     "output_type": "stream",
     "text": [
      "<class 'str'>\n"
     ]
    }
   ],
   "source": [
    "a = 10\n",
    "print(type(str(a)))"
   ]
  },
  {
   "cell_type": "code",
   "execution_count": 100,
   "id": "8ba002f4",
   "metadata": {},
   "outputs": [
    {
     "name": "stdout",
     "output_type": "stream",
     "text": [
      "70.0 F is enough for room temperature.\n"
     ]
    }
   ],
   "source": [
    "a = 36.5\n",
    "b = '30'\n",
    "c = '3.5'\n",
    "d = ' F is enough for room temperature.'\n",
    "\n",
    "print(str(a+int(b)+float(c))+d)"
   ]
  },
  {
   "cell_type": "code",
   "execution_count": 110,
   "id": "2d1d5aec",
   "metadata": {},
   "outputs": [
    {
     "name": "stdout",
     "output_type": "stream",
     "text": [
      "5, 5, 5\n"
     ]
    }
   ],
   "source": [
    "#In Python, it is possible to assign the value of one variable to another variable:\n",
    "a = 5\n",
    "b = 55\n",
    "c = 555\n",
    "c = a\n",
    "b = c\n",
    "a = b\n",
    "\n",
    "print(a, b, c, sep=', ')"
   ]
  },
  {
   "cell_type": "code",
   "execution_count": 111,
   "id": "e59cc465",
   "metadata": {},
   "outputs": [
    {
     "name": "stdout",
     "output_type": "stream",
     "text": [
      "blue, 100, winter\n"
     ]
    }
   ],
   "source": [
    "#Variable and its value\n",
    "#Note that, the last value assigned to a variable is valid.\n",
    "color = 'red'  # str type variable\n",
    "season = 'summer'\n",
    "price = 250  # int type variable\n",
    "pi = 3.14  # float type variable\n",
    "color = 'blue'  # You can always assign a new value to a created variable\n",
    "price = 100  # value of 'price' is changed\n",
    "season = 'winter'  \n",
    "\n",
    "print(color, price, season, sep=', ')"
   ]
  },
  {
   "cell_type": "code",
   "execution_count": 112,
   "id": "49c26d30",
   "metadata": {},
   "outputs": [
    {
     "ename": "TypeError",
     "evalue": "unsupported operand type(s) for +: 'int' and 'str'",
     "output_type": "error",
     "traceback": [
      "\u001b[0;31m---------------------------------------------------------------------------\u001b[0m",
      "\u001b[0;31mTypeError\u001b[0m                                 Traceback (most recent call last)",
      "\u001b[0;32m<ipython-input-112-197e2f919822>\u001b[0m in \u001b[0;36m<module>\u001b[0;34m\u001b[0m\n\u001b[1;32m      1\u001b[0m \u001b[0;31m#if you print this, it will give syntax error.Phyton will confuse\u001b[0m\u001b[0;34m\u001b[0m\u001b[0;34m\u001b[0m\u001b[0;34m\u001b[0m\u001b[0m\n\u001b[1;32m      2\u001b[0m \u001b[0mdays_in_feb\u001b[0m\u001b[0;34m=\u001b[0m\u001b[0;36m28\u001b[0m\u001b[0;34m\u001b[0m\u001b[0;34m\u001b[0m\u001b[0m\n\u001b[0;32m----> 3\u001b[0;31m \u001b[0mprint\u001b[0m\u001b[0;34m(\u001b[0m\u001b[0mdays_in_feb\u001b[0m \u001b[0;34m+\u001b[0m \u001b[0;34m'days_in_feb'\u001b[0m\u001b[0;34m)\u001b[0m\u001b[0;34m\u001b[0m\u001b[0;34m\u001b[0m\u001b[0m\n\u001b[0m",
      "\u001b[0;31mTypeError\u001b[0m: unsupported operand type(s) for +: 'int' and 'str'"
     ]
    }
   ],
   "source": [
    "#if you print this, it will give syntax error.Phyton will confuse. \n",
    "#Therefore we should use phyton basic type conversion\n",
    "days_in_feb=28\n",
    "print(days_in_feb + 'days_in_feb')"
   ]
  },
  {
   "cell_type": "code",
   "execution_count": 113,
   "id": "4607b311",
   "metadata": {},
   "outputs": [
    {
     "name": "stdout",
     "output_type": "stream",
     "text": [
      "28days_in_feb\n"
     ]
    }
   ],
   "source": [
    "days_in_feb=28\n",
    "print(str(days_in_feb) + 'days_in_feb')"
   ]
  },
  {
   "cell_type": "code",
   "execution_count": 114,
   "id": "f11e15d7",
   "metadata": {},
   "outputs": [
    {
     "name": "stdout",
     "output_type": "stream",
     "text": [
      "56\n"
     ]
    }
   ],
   "source": [
    "#Numbers stored as strings are treated as a strings\n",
    "first_num='5'\n",
    "second_num='6'\n",
    "print(first_num + second_num)"
   ]
  },
  {
   "cell_type": "code",
   "execution_count": null,
   "id": "658f312e",
   "metadata": {},
   "outputs": [],
   "source": [
    "#To escape this type of problems, you should use the 'input' function to return strings\n",
    "first_num=input('enter the first number') #5\n",
    "second_num=input('enter the second number')# 6\n",
    "print(first_num + second_num)"
   ]
  },
  {
   "cell_type": "code",
   "execution_count": 117,
   "id": "cb296719",
   "metadata": {},
   "outputs": [
    {
     "name": "stdout",
     "output_type": "stream",
     "text": [
      "enter the first number5\n",
      "enter the second number6\n",
      "56\n",
      "11\n",
      "11.0\n"
     ]
    }
   ],
   "source": [
    "first_num=input('enter the first number') #5\n",
    "second_num=input('enter the second number')# 6\n",
    "print(first_num + second_num)\n",
    "print(int(first_num) + int(second_num))\n",
    "print(float(first_num) + float(second_num))"
   ]
  },
  {
   "cell_type": "code",
   "execution_count": null,
   "id": "c12a8646",
   "metadata": {},
   "outputs": [],
   "source": [
    "#Assignment 1\n",
    "\n",
    "Remove a specific char at a specific/given index from a string.\n",
    "\n",
    "Given a string (clarusway) and an index number int n (n=3), return a new string where the character \n",
    "at index n has been removed."
   ]
  },
  {
   "cell_type": "code",
   "execution_count": 140,
   "id": "b373aa3e",
   "metadata": {},
   "outputs": [
    {
     "ename": "TypeError",
     "evalue": "'type' object is not subscriptable",
     "output_type": "error",
     "traceback": [
      "\u001b[0;31m---------------------------------------------------------------------------\u001b[0m",
      "\u001b[0;31mTypeError\u001b[0m                                 Traceback (most recent call last)",
      "\u001b[0;32m<ipython-input-140-f52a621ab6bd>\u001b[0m in \u001b[0;36m<module>\u001b[0;34m\u001b[0m\n\u001b[1;32m      1\u001b[0m \u001b[0mword\u001b[0m \u001b[0;34m=\u001b[0m \u001b[0;34m'clarusway'\u001b[0m\u001b[0;34m\u001b[0m\u001b[0;34m\u001b[0m\u001b[0m\n\u001b[0;32m----> 2\u001b[0;31m \u001b[0mfront\u001b[0m \u001b[0;34m=\u001b[0m \u001b[0mstr\u001b[0m\u001b[0;34m[\u001b[0m\u001b[0;34m:\u001b[0m\u001b[0;36m3\u001b[0m\u001b[0;34m]\u001b[0m\u001b[0;34m\u001b[0m\u001b[0;34m\u001b[0m\u001b[0m\n\u001b[0m\u001b[1;32m      3\u001b[0m \u001b[0mback\u001b[0m \u001b[0;34m=\u001b[0m\u001b[0;34m'usway'\u001b[0m\u001b[0;34m\u001b[0m\u001b[0;34m\u001b[0m\u001b[0m\n\u001b[1;32m      4\u001b[0m \u001b[0mprint\u001b[0m\u001b[0;34m(\u001b[0m\u001b[0mstr\u001b[0m\u001b[0;34m[\u001b[0m\u001b[0;34m:\u001b[0m\u001b[0;36m3\u001b[0m\u001b[0;34m]\u001b[0m \u001b[0;34m+\u001b[0m \u001b[0mback\u001b[0m\u001b[0;34m)\u001b[0m\u001b[0;34m\u001b[0m\u001b[0;34m\u001b[0m\u001b[0m\n",
      "\u001b[0;31mTypeError\u001b[0m: 'type' object is not subscriptable"
     ]
    }
   ],
   "source": [
    "word = 'clarusway'\n",
    "front = str[:3]\n",
    "back ='usway'\n",
    "print(str[:3] + back)"
   ]
  },
  {
   "cell_type": "code",
   "execution_count": 143,
   "id": "84b21b66",
   "metadata": {},
   "outputs": [
    {
     "name": "stdout",
     "output_type": "stream",
     "text": [
      "larusway\n",
      "clausway\n",
      "claruway\n"
     ]
    }
   ],
   "source": [
    "def remove_char(str, n):\n",
    "      front = str[:n] \n",
    "      back = str[n+1:]\n",
    "      return front + back\n",
    "print(remove_char('clarusway', 0))\n",
    "print(remove_char('clarusway', 3))\n",
    "print(remove_char('clarusway', 5))"
   ]
  },
  {
   "cell_type": "code",
   "execution_count": null,
   "id": "be10f669",
   "metadata": {},
   "outputs": [],
   "source": []
  },
  {
   "cell_type": "code",
   "execution_count": 142,
   "id": "94139bb5",
   "metadata": {},
   "outputs": [
    {
     "name": "stdout",
     "output_type": "stream",
     "text": [
      "ython\n",
      "Pyton\n",
      "Pytho\n"
     ]
    }
   ],
   "source": [
    "def remove_char(str, n):\n",
    "      first_part = str[:n] \n",
    "      last_part = str[n+1:]\n",
    "      return first_part + last_part\n",
    "print(remove_char('Python', 0))\n",
    "print(remove_char('Python', 3))\n",
    "print(remove_char('Python', 5))"
   ]
  },
  {
   "cell_type": "code",
   "execution_count": null,
   "id": "07f81d8a",
   "metadata": {},
   "outputs": [],
   "source": []
  },
  {
   "cell_type": "code",
   "execution_count": null,
   "id": "bf3785b1",
   "metadata": {},
   "outputs": [],
   "source": []
  },
  {
   "cell_type": "code",
   "execution_count": null,
   "id": "f77df5ba",
   "metadata": {},
   "outputs": [],
   "source": []
  },
  {
   "cell_type": "code",
   "execution_count": null,
   "id": "e3b45735",
   "metadata": {},
   "outputs": [],
   "source": []
  },
  {
   "cell_type": "code",
   "execution_count": null,
   "id": "9f6fa11c",
   "metadata": {},
   "outputs": [],
   "source": [
    "# Assignment 2\n",
    "\n",
    "In order to print the following text using .format() method, arrange the variable text.\n",
    "\n",
    "Hello! I am a new programmer and I love Clarusway.\n",
    "\n",
    "Note : Use only given three words (\"Hello\", \"new\", \"love\") in the .format parentheses.\n",
    "\n",
    "For example:\n",
    "\n",
    "\n",
    "Answer\n",
    "\n",
    "text = \"I am a{} programer{} and I{} clarusway{}\".format(\"Hello!\", \"new\", \"love\")\n",
    "print(text)"
   ]
  },
  {
   "cell_type": "code",
   "execution_count": 144,
   "id": "5ea44465",
   "metadata": {},
   "outputs": [
    {
     "name": "stdout",
     "output_type": "stream",
     "text": [
      "Hello! I am a new programmer and I love Clarusway.\n"
     ]
    }
   ],
   "source": [
    "text = \"{}! I am a {} programmer and I {} Clarusway.\".format(\"Hello\", \"new\", \"love\")\n",
    "print(text)"
   ]
  },
  {
   "cell_type": "code",
   "execution_count": null,
   "id": "171e28ca",
   "metadata": {},
   "outputs": [],
   "source": []
  },
  {
   "cell_type": "code",
   "execution_count": null,
   "id": "9558aa92",
   "metadata": {},
   "outputs": [],
   "source": [
    "#Assignment 3\n",
    "Type a Python code to get the output of “I live in Sarajevo.”, using .capitalize() and f-string methods with the city variable below.\n",
    "\n",
    "city = \"SARAJEVO\"\n",
    "Note that; use double quotes within f-string method.\n",
    "\n",
    "input                                   output\n",
    "month = \"february\"                     February\n",
    "text = f\"{month.title()}\"\n",
    "print(text)"
   ]
  },
  {
   "cell_type": "code",
   "execution_count": null,
   "id": "af31001f",
   "metadata": {},
   "outputs": [],
   "source": [
    "city = \"SARAJEVO\"\n",
    "text=f\"I live in {city.capitalize()}.\"\n",
    "print(text)"
   ]
  },
  {
   "cell_type": "code",
   "execution_count": null,
   "id": "b8703458",
   "metadata": {},
   "outputs": [],
   "source": []
  },
  {
   "cell_type": "code",
   "execution_count": null,
   "id": "1d34f4f1",
   "metadata": {},
   "outputs": [],
   "source": [
    "If you had deposited a coin on the cryptocurrency exchange that brought 7% fixed profit daily for a week,\n",
    "how much would your $ 1000 reach at the end of the 7th day?"
   ]
  },
  {
   "cell_type": "code",
   "execution_count": 137,
   "id": "c78177f5",
   "metadata": {},
   "outputs": [
    {
     "name": "stdout",
     "output_type": "stream",
     "text": [
      "490.00000000000006\n"
     ]
    }
   ],
   "source": [
    "deposited_coin=1000\n",
    "fixed_profit=7/100\n",
    "days_of_week=7\n",
    "weekly_rate_increases=fixed_profit*days_of_week*deposited_coin\n",
    "print(weekly_rate_increases)"
   ]
  },
  {
   "cell_type": "markdown",
   "id": "78f629d1",
   "metadata": {},
   "source": [
    "## Ahmed Third Session/Indexing&slicing strings"
   ]
  },
  {
   "cell_type": "code",
   "execution_count": 146,
   "id": "2a7a5a0e",
   "metadata": {},
   "outputs": [
    {
     "name": "stdout",
     "output_type": "stream",
     "text": [
      "Word: Orange\n",
      "First letter: O\n",
      "Second letter: r\n",
      "3rd to  5th letters: ang\n",
      "letters all after 3rd: ange\n"
     ]
    }
   ],
   "source": [
    "fruit='Orange'\n",
    "print('Word:', fruit)\n",
    "print('First letter:', fruit[0])\n",
    "print('Second letter:', fruit[1])    \n",
    "print('3rd to  5th letters:', fruit[2:5])\n",
    "print('letters all after 3rd:', fruit[2:])"
   ]
  },
  {
   "cell_type": "code",
   "execution_count": 147,
   "id": "7a0b3b90",
   "metadata": {},
   "outputs": [
    {
     "name": "stdout",
     "output_type": "stream",
     "text": [
      "hoenix\n",
      "Phoeni\n",
      "Ponx\n",
      "hei\n",
      "nix\n",
      "xineohP\n"
     ]
    }
   ],
   "source": [
    "city = 'Phoenix'\n",
    "\n",
    "print(city[1:])  # starts from index 1 to the end\n",
    "print(city[:6])  # starts from zero to 5th index\n",
    "print(city[::2])  # starts from zero to end by 2 step\n",
    "print(city[1::2])  # starts from index 1 to the end by 2 step\n",
    "print(city[-3:])  # starts from index -3 to the end\n",
    "print(city[::-1])  # negative step starts from the end to zero"
   ]
  },
  {
   "cell_type": "code",
   "execution_count": 148,
   "id": "16bafb16",
   "metadata": {},
   "outputs": [
    {
     "name": "stdout",
     "output_type": "stream",
     "text": [
      "ars\n",
      "Mars\n",
      "Mr\n",
      "as\n",
      "ars\n",
      "sraM\n"
     ]
    }
   ],
   "source": [
    "city = 'Mars'\n",
    "\n",
    "print(city[1:])  # starts from index 1 to the end\n",
    "print(city[:4])  # starts from zero to 4th index\n",
    "print(city[::2])  # starts from zero to end by 2 step\n",
    "print(city[1::2])  # starts from index 1 to the end by 2 step\n",
    "print(city[-3:])  # starts from index -3 to the end\n",
    "print(city[::-1])  # negative step starts from the end to zero"
   ]
  },
  {
   "cell_type": "code",
   "execution_count": null,
   "id": "469069ed",
   "metadata": {},
   "outputs": [],
   "source": []
  },
  {
   "cell_type": "code",
   "execution_count": 149,
   "id": "026d5350",
   "metadata": {},
   "outputs": [
    {
     "data": {
      "text/plain": [
       "'e'"
      ]
     },
     "execution_count": 149,
     "metadata": {},
     "output_type": "execute_result"
    }
   ],
   "source": [
    "word='I am a python student'\n",
    "word[-3]"
   ]
  },
  {
   "cell_type": "code",
   "execution_count": 150,
   "id": "d5b6b4be",
   "metadata": {},
   "outputs": [
    {
     "data": {
      "text/plain": [
       "'tneduts nohtyp a ma I'"
      ]
     },
     "execution_count": 150,
     "metadata": {},
     "output_type": "execute_result"
    }
   ],
   "source": [
    "word[::-1]"
   ]
  },
  {
   "cell_type": "code",
   "execution_count": 151,
   "id": "12d853fd",
   "metadata": {},
   "outputs": [
    {
     "data": {
      "text/plain": [
       "'teusnhy  aI'"
      ]
     },
     "execution_count": 151,
     "metadata": {},
     "output_type": "execute_result"
    }
   ],
   "source": [
    "word[::-2]"
   ]
  },
  {
   "cell_type": "code",
   "execution_count": 152,
   "id": "924922c3",
   "metadata": {},
   "outputs": [
    {
     "data": {
      "text/plain": [
       "'tdsoyaa'"
      ]
     },
     "execution_count": 152,
     "metadata": {},
     "output_type": "execute_result"
    }
   ],
   "source": [
    "word[::-3]"
   ]
  },
  {
   "cell_type": "code",
   "execution_count": 153,
   "id": "16c7d04a",
   "metadata": {},
   "outputs": [
    {
     "data": {
      "text/plain": [
       "'I am a python studen'"
      ]
     },
     "execution_count": 153,
     "metadata": {},
     "output_type": "execute_result"
    }
   ],
   "source": [
    "word[:-1]"
   ]
  },
  {
   "cell_type": "code",
   "execution_count": 154,
   "id": "4ac1cf30",
   "metadata": {},
   "outputs": [
    {
     "data": {
      "text/plain": [
       "'I am a python stud'"
      ]
     },
     "execution_count": 154,
     "metadata": {},
     "output_type": "execute_result"
    }
   ],
   "source": [
    "word[:-3]"
   ]
  },
  {
   "cell_type": "code",
   "execution_count": 155,
   "id": "e040a3ef",
   "metadata": {},
   "outputs": [
    {
     "data": {
      "text/plain": [
       "'I am a python studen'"
      ]
     },
     "execution_count": 155,
     "metadata": {},
     "output_type": "execute_result"
    }
   ],
   "source": [
    "word[:-1:]"
   ]
  },
  {
   "cell_type": "code",
   "execution_count": 156,
   "id": "a9534e67",
   "metadata": {},
   "outputs": [
    {
     "data": {
      "text/plain": [
       "''"
      ]
     },
     "execution_count": 156,
     "metadata": {},
     "output_type": "execute_result"
    }
   ],
   "source": [
    "word[-1:-5:2]"
   ]
  },
  {
   "cell_type": "code",
   "execution_count": 157,
   "id": "aa8c22ab",
   "metadata": {},
   "outputs": [
    {
     "data": {
      "text/plain": [
       "'te'"
      ]
     },
     "execution_count": 157,
     "metadata": {},
     "output_type": "execute_result"
    }
   ],
   "source": [
    "word[-1:-5:-2]"
   ]
  },
  {
   "cell_type": "code",
   "execution_count": 158,
   "id": "3df9b327",
   "metadata": {},
   "outputs": [
    {
     "name": "stdout",
     "output_type": "stream",
     "text": [
      "ippopotamus\n",
      "hippop\n",
      "hpooau\n",
      "ipp\n",
      "mus\n",
      "sumatopoppih\n"
     ]
    }
   ],
   "source": [
    "animal=\"hippopotamus\"\n",
    "print(animal[1:])\n",
    "print(animal[:6])\n",
    "print(animal[::2])\n",
    "print(animal[1:7:2])\n",
    "print(animal[-3:])\n",
    "print(animal[::-1])"
   ]
  },
  {
   "cell_type": "code",
   "execution_count": 159,
   "id": "b63e6193",
   "metadata": {},
   "outputs": [
    {
     "name": "stdout",
     "output_type": "stream",
     "text": [
      "length of the word Tomato is : 6\n"
     ]
    }
   ],
   "source": [
    "vegetable = 'Tomato' #counting is start from '0'\n",
    "\n",
    "\n",
    "print('length of the word', vegetable, 'is :', len(vegetable))"
   ]
  },
  {
   "cell_type": "code",
   "execution_count": null,
   "id": "5dae43f9",
   "metadata": {},
   "outputs": [],
   "source": [
    "print(len._doc_)\n",
    "\n",
    "return the number of items in a container"
   ]
  },
  {
   "cell_type": "code",
   "execution_count": 163,
   "id": "b301ddda",
   "metadata": {},
   "outputs": [
    {
     "data": {
      "text/plain": [
       "'o'"
      ]
     },
     "execution_count": 163,
     "metadata": {},
     "output_type": "execute_result"
    }
   ],
   "source": [
    "vegetable[len(vegetable)-1]"
   ]
  },
  {
   "cell_type": "markdown",
   "id": "eedfc3cc",
   "metadata": {},
   "source": [
    "## String Formatting with arithmetic syntax"
   ]
  },
  {
   "cell_type": "code",
   "execution_count": 166,
   "id": "83b99149",
   "metadata": {},
   "outputs": [
    {
     "name": "stdout",
     "output_type": "stream",
     "text": [
      "upper\n",
      "case\n",
      "uppercase\n"
     ]
    }
   ],
   "source": [
    "str_one='upper'\n",
    "str_two='case'\n",
    "str_comb=str_one + str_two\n",
    "print(str_one)\n",
    "print(str_two)\n",
    "print(str_comb)"
   ]
  },
  {
   "cell_type": "code",
   "execution_count": 170,
   "id": "81fcabcd",
   "metadata": {},
   "outputs": [
    {
     "name": "stdout",
     "output_type": "stream",
     "text": [
      "u p p e r\n"
     ]
    }
   ],
   "source": [
    "str_one = 'upper'\n",
    "print(* str_one)"
   ]
  },
  {
   "cell_type": "code",
   "execution_count": null,
   "id": "d0109d02",
   "metadata": {},
   "outputs": [],
   "source": [
    "a, b, c, d, e = * str_one,"
   ]
  },
  {
   "cell_type": "code",
   "execution_count": null,
   "id": "c002e0e1",
   "metadata": {},
   "outputs": [],
   "source": []
  },
  {
   "cell_type": "code",
   "execution_count": null,
   "id": "5050e69c",
   "metadata": {},
   "outputs": [],
   "source": []
  },
  {
   "cell_type": "code",
   "execution_count": 180,
   "id": "54af530e",
   "metadata": {},
   "outputs": [
    {
     "data": {
      "text/plain": [
       "'joseph@clarusway.com'"
      ]
     },
     "execution_count": 180,
     "metadata": {},
     "output_type": "execute_result"
    }
   ],
   "source": [
    "s_1 = 'I am angry...'\n",
    "\n",
    "s_2 = '1453'\n",
    "\n",
    "'joseph@clarusway.com'  # Do not use variable"
   ]
  },
  {
   "cell_type": "code",
   "execution_count": 181,
   "id": "805ae8af",
   "metadata": {},
   "outputs": [
    {
     "name": "stdout",
     "output_type": "stream",
     "text": [
      "I   a m   a n g r y . . .\n"
     ]
    }
   ],
   "source": [
    "print(*s_1)"
   ]
  },
  {
   "cell_type": "code",
   "execution_count": 182,
   "id": "6beedb40",
   "metadata": {},
   "outputs": [
    {
     "name": "stdout",
     "output_type": "stream",
     "text": [
      "I\n",
      " \n",
      "a\n",
      "m\n",
      " \n",
      "a\n",
      "n\n",
      "g\n",
      "r\n",
      "y\n",
      ".\n",
      ".\n",
      ".\n",
      "1\n",
      "4\n",
      "5\n",
      "3\n",
      "j\n",
      "o\n",
      "s\n",
      "e\n",
      "p\n",
      "h\n",
      "@\n",
      "c\n",
      "l\n",
      "a\n",
      "r\n",
      "u\n",
      "s\n",
      "w\n",
      "a\n",
      "y\n",
      ".\n",
      "c\n",
      "o\n",
      "m\n"
     ]
    }
   ],
   "source": [
    "print(*s_1, *s_2, *'joseph@clarusway.com', sep='\\n')"
   ]
  },
  {
   "cell_type": "code",
   "execution_count": 183,
   "id": "135b5df0",
   "metadata": {},
   "outputs": [
    {
     "name": "stdout",
     "output_type": "stream",
     "text": [
      "I\b \ba\bm\b \ba\bn\bg\br\by\b.\b.\b.\b1\b4\b5\b3\bj\bo\bs\be\bp\bh\b@\bc\bl\ba\br\bu\bs\bw\ba\by\b.\bc\bo\bm\n"
     ]
    }
   ],
   "source": [
    "print(*s_1, *s_2, *'joseph@clarusway.com', sep='\\b')"
   ]
  },
  {
   "cell_type": "code",
   "execution_count": null,
   "id": "500a1d0a",
   "metadata": {},
   "outputs": [],
   "source": []
  },
  {
   "cell_type": "markdown",
   "id": "f10bd3bb",
   "metadata": {},
   "source": [
    "## Formatting"
   ]
  },
  {
   "cell_type": "code",
   "execution_count": null,
   "id": "42561d38",
   "metadata": {},
   "outputs": [],
   "source": [
    "String Formatting with 'string.format()' Method You can make strings change depending on the \n",
    "value of a variable or an expression. The main methods of Python to format the output are :\n",
    "\n",
    "'string.format()' method : string.format() method is the improved form of % operator formatting.\n",
    "\n",
    "As in this example below, the value of expression comes from .format() method in order. \n",
    "Curly braces 👉🏻{} receives values from .format()."
   ]
  },
  {
   "cell_type": "code",
   "execution_count": 184,
   "id": "fc518bab",
   "metadata": {},
   "outputs": [
    {
     "name": "stdout",
     "output_type": "stream",
     "text": [
      "The amount of Orange we bought is 4 pounds\n"
     ]
    }
   ],
   "source": [
    "fruit = 'Orange'\n",
    "vegetable = 'Tomato'\n",
    "amount = 4\n",
    "print('The amount of {} we bought is {} pounds'.format(fruit, amount))"
   ]
  },
  {
   "cell_type": "code",
   "execution_count": null,
   "id": "c25312a6",
   "metadata": {},
   "outputs": [],
   "source": [
    "#If you’ve written more variables than you need in the .format() method, the extra ones just will be ignored.\n",
    "Using keywords in 👉🏻{} makes string more readable. For example:\n",
    "print('{state} is the most {adjective} state of the {country}'.format(state='California', country='USA', adjective='crowded'))"
   ]
  },
  {
   "cell_type": "code",
   "execution_count": 186,
   "id": "6e4af7fa",
   "metadata": {},
   "outputs": [
    {
     "name": "stdout",
     "output_type": "stream",
     "text": [
      "California is the most crowded state of the USA\n"
     ]
    }
   ],
   "source": [
    "print('{state} is the most {adjective} state of the {country}'.format(state='California', country='USA', adjective='crowded'))"
   ]
  },
  {
   "cell_type": "code",
   "execution_count": 187,
   "id": "68d16707",
   "metadata": {},
   "outputs": [
    {
     "name": "stdout",
     "output_type": "stream",
     "text": [
      "I will have found a job in 6 months\n"
     ]
    }
   ],
   "source": [
    "print(\"{6} {0} {5} {3} {4} {1} {2}\".format('have', 6, 'months', 'a job', 'in', 'found', 'I will'))"
   ]
  },
  {
   "cell_type": "code",
   "execution_count": null,
   "id": "cd5f1286",
   "metadata": {},
   "outputs": [],
   "source": [
    "condition='circumstances'\n",
    "morality='generosity'\n",
    "print('{} {} {} {}'.format('in all', 'wins' )"
   ]
  },
  {
   "cell_type": "code",
   "execution_count": 195,
   "id": "0ef010a3",
   "metadata": {},
   "outputs": [
    {
     "ename": "SyntaxError",
     "evalue": "invalid syntax (<ipython-input-195-b0992af94d77>, line 3)",
     "output_type": "error",
     "traceback": [
      "\u001b[0;36m  File \u001b[0;32m\"<ipython-input-195-b0992af94d77>\"\u001b[0;36m, line \u001b[0;32m3\u001b[0m\n\u001b[0;31m    phrase='{morality} {} {} {condition}'.format('in all', 'wins','morality='generosity', condition='circumstances')\u001b[0m\n\u001b[0m                                                                             ^\u001b[0m\n\u001b[0;31mSyntaxError\u001b[0m\u001b[0;31m:\u001b[0m invalid syntax\n"
     ]
    }
   ],
   "source": [
    "condition='circumstances'\n",
    "morality='generosity'\n",
    "phrase='{morality} {} {} {condition}'.format('in all', 'wins','morality='generosity', condition='circumstances')\n",
    "print(phrase)"
   ]
  },
  {
   "cell_type": "code",
   "execution_count": null,
   "id": "512d280f",
   "metadata": {},
   "outputs": [],
   "source": [
    "## f'string"
   ]
  },
  {
   "cell_type": "code",
   "execution_count": null,
   "id": "f503f67a",
   "metadata": {},
   "outputs": [],
   "source": [
    "String Formatting with 'f-string' It is the easiest and useful formatting method of the strings.\n",
    "\n",
    "'f-string' formatting : It makes string formatting easier. This method was introduced in 2015 with Python 3.6.\n",
    "\n",
    "f-string is the string syntax that is enclosed in quotes with a letter f at the beginning. \n",
    "Curly braces 👉🏻{} that contain variable names or expressions are used to replace with their values.\n",
    "\n",
    "Sample of a formula syntax is : f\"strings {variable1} {variable2} string {variable3}\"\n",
    "\n",
    "Let's look at the example below on how the syntax is simple and readable."
   ]
  },
  {
   "cell_type": "code",
   "execution_count": 196,
   "id": "d335c261",
   "metadata": {},
   "outputs": [
    {
     "name": "stdout",
     "output_type": "stream",
     "text": [
      "The amount of Orange and Tomato we bought are totally 6 pounds\n"
     ]
    }
   ],
   "source": [
    "fruit = 'Orange'\n",
    "vegetable = 'Tomato'\n",
    "amount = 6\n",
    "output = f\"The amount of {fruit} and {vegetable} we bought are totally {amount} pounds\"\n",
    "\n",
    "print(output)"
   ]
  },
  {
   "cell_type": "code",
   "execution_count": 199,
   "id": "b866575a",
   "metadata": {},
   "outputs": [],
   "source": [
    "#If you want to use multiple 'f-string formatting' lines without parentheses, what will be the other option that you can use?\n",
    "#A: You can use backslashes 👉\\ between f-lines.\n",
    "name = \"Joseph\"\n",
    "job = \"teachers\"\n",
    "domain = \"Data Science\"\n",
    "message = f\"Hi {name}. \" \\\n",
    "     f\"You are one of the {job} \" \\\n",
    "     f\"in the {domain} section.\""
   ]
  },
  {
   "cell_type": "code",
   "execution_count": 208,
   "id": "a7a91806",
   "metadata": {},
   "outputs": [
    {
     "name": "stdout",
     "output_type": "stream",
     "text": [
      "Hi Joseph.You are one of the teachersin the Data Science section...\n"
     ]
    }
   ],
   "source": [
    "name = \"Joseph\"\n",
    "job = \"teachers\"\n",
    "domain = \"Data Science\"\n",
    "\n",
    "message = \\\n",
    "    f\"Hi {name}.\" \\\n",
    "    f\"You are one of the {job}\" \\\n",
    "    f\"in the {domain} section...\"\n",
    "print(message)"
   ]
  },
  {
   "cell_type": "code",
   "execution_count": null,
   "id": "4d0e5702",
   "metadata": {},
   "outputs": [],
   "source": [
    "#Assignment\n",
    "Problem :\n",
    "\n",
    "Task : Estimating the risk of death from coronavirus.\n",
    "\n",
    "Consider the following questions in terms of True/False regarding anyone else.\n",
    "\n",
    "Are you a cigarette addict older than 75 years old? Variable → age\n",
    "\n",
    "Do you have a severe chronic disease? Variable → chronic\n",
    "\n",
    "Is your immune system too weak? Variable → immune\n",
    "\n",
    "Set a logical algorithm using boolean logic operators (and/or) and the given variables in order \n",
    "to give us True (there is a risk of death) or False (there is not a risk of death) as a result.\n",
    "\n",
    "\n",
    "age =  # can be assigned only True/False\n",
    "chronic =  # can be assigned only True/False\n",
    "immune =  # can be assigned only True/False\n",
    "risk = ? (True or False)\n",
    "\n",
    "\n",
    "data_task= estimating the risk corona virus death\n",
    "\n",
    "\n",
    "age = int (input(\"75 :\"))\n",
    "\n",
    "if age >= 75:\n",
    "    if age >= 75:\n",
    "        risk_of_death=\"True\"\n",
    "    else:\n",
    "        not_risk_of_death_=\"False\"\n",
    "elif severe_disease = chronic:\n",
    "    if severe_disease=\"chronic\" :\n",
    "        risk_of_death=\"True\"\n",
    "    else:\n",
    "        not_risk_of_death=\"False\"\n",
    "elif immune_system = weak:\n",
    "    if immune_system=\"weak\" :\n",
    "        risk_of_death=\"True\"\n",
    "    else:\n",
    "    not_risk_of_death=\"False\""
   ]
  },
  {
   "cell_type": "code",
   "execution_count": null,
   "id": "8d82f21a",
   "metadata": {},
   "outputs": [],
   "source": []
  },
  {
   "cell_type": "code",
   "execution_count": 227,
   "id": "113a8394",
   "metadata": {},
   "outputs": [
    {
     "name": "stdout",
     "output_type": "stream",
     "text": [
      "75 :75\n",
      "risk: True\n"
     ]
    }
   ],
   "source": [
    "age = int (input(\"75 :\"))\n",
    "if age >= 75:\n",
    "    if age >= 75:\n",
    "        risk_of_death=\"True\"\n",
    "    else:\n",
    "        risk_of_death_=\"False\"\n",
    "print(\"risk: %s\" % risk_of_death)\n",
    "        "
   ]
  },
  {
   "cell_type": "code",
   "execution_count": 224,
   "id": "22318009",
   "metadata": {},
   "outputs": [
    {
     "name": "stdout",
     "output_type": "stream",
     "text": [
      "risk: True\n"
     ]
    }
   ],
   "source": [
    "immune_system ='weak'\n",
    "if immune_system=='weak':\n",
    "    risk_of_death= True\n",
    "else:\n",
    "    risk_of_death= False\n",
    "print('risk: %s' % risk_of_death)"
   ]
  },
  {
   "cell_type": "code",
   "execution_count": 225,
   "id": "ff28c406",
   "metadata": {},
   "outputs": [
    {
     "name": "stdout",
     "output_type": "stream",
     "text": [
      "risk: True\n"
     ]
    }
   ],
   "source": [
    "severe_disease='chronic'\n",
    "if severe_disease=='chronic':\n",
    "    risk_of_death= True\n",
    "else:\n",
    "    risk_of_death= False\n",
    "print('risk: %s' % risk_of_death)"
   ]
  },
  {
   "cell_type": "code",
   "execution_count": 167,
   "id": "c5b6fe51",
   "metadata": {},
   "outputs": [
    {
     "name": "stdout",
     "output_type": "stream",
     "text": [
      "Are you a cigarette addict older than 75 years old? (Yes/No)  Yes\n",
      "Do you have a severe chronic disease? (Yes/No)  Yes\n",
      "Is your immune system too weak? (Yes/No)  Yes\n",
      "There is a risk of death.\n"
     ]
    }
   ],
   "source": [
    "age = (input(\"Are you a cigarette addict older than 75 years old? (Yes/No)  \")).title()\n",
    "chronic = (input(\"Do you have a severe chronic disease? (Yes/No)  \" )).title()\n",
    "immune = (input(\"Is your immune system too weak? (Yes/No)  \" )).title()\n",
    "if  age == 'Yes':\n",
    "    age = True\n",
    "else: \n",
    "    age = False\n",
    "if chronic == 'Yes':\n",
    "   chronic = True\n",
    "else: \n",
    "   chronic = False\n",
    "if immune == 'Yes':\n",
    "   immune = True \n",
    "else: \n",
    "   immune = False\n",
    "risk = chronic or age or immune\n",
    "if risk == True:\n",
    " print('There is a risk of death.')\n",
    "else: \n",
    " print('There is not a risk of death.')"
   ]
  },
  {
   "cell_type": "code",
   "execution_count": 230,
   "id": "306f48f4",
   "metadata": {},
   "outputs": [
    {
     "name": "stdout",
     "output_type": "stream",
     "text": [
      "True\n",
      "False\n"
     ]
    }
   ],
   "source": [
    "text='www.clarusway.com'\n",
    "print(text.endswith('.com'))\n",
    "print(text.startswith('http:'))"
   ]
  },
  {
   "cell_type": "code",
   "execution_count": 231,
   "id": "09bb78c6",
   "metadata": {},
   "outputs": [
    {
     "name": "stdout",
     "output_type": "stream",
     "text": [
      "True\n",
      "True\n"
     ]
    }
   ],
   "source": [
    "text='www.clarusway.com'\n",
    "print(text.endswith('om'))\n",
    "print(text.startswith('w'))"
   ]
  },
  {
   "cell_type": "code",
   "execution_count": 232,
   "id": "f16e59e2",
   "metadata": {},
   "outputs": [
    {
     "name": "stdout",
     "output_type": "stream",
     "text": [
      "True\n",
      "True\n"
     ]
    }
   ],
   "source": [
    "text='www.clarusway.com'\n",
    "print(text.endswith('www.clarusway.com'))\n",
    "print(text.startswith('www.clarusway.com'))"
   ]
  },
  {
   "cell_type": "code",
   "execution_count": null,
   "id": "1441e4f5",
   "metadata": {},
   "outputs": [],
   "source": [
    "## Editing a String\n",
    "string.method(arguments)\n",
    "The formula syntax is : string.method()\n",
    "\n",
    "Let's examine some common and the most important methods of string changing :\n",
    "\n",
    "str.replace(old, new[, count]) replaces all occurrences of old with the new.\n",
    "The count argument is optional, and if the optional argument count is given, \n",
    "only the first count occurrences are replaced. count: Maximum number of occurrences to replace. -1 (the default value) means replace all occurrences.\n",
    "\n",
    "str.swapcase() converts upper case to lower case and vice versa.\n",
    "\n",
    "str.capitalize() changes the first character of the string to the upper case and the rest to the lower case.\n",
    "\n",
    "str.upper() converts all characters of the string to the upper case.\n",
    "\n",
    "str.lower() converts all characters of the string to the lower case.\n",
    "\n",
    "str.title() converts the first character of each word to upper case.\n",
    "\n",
    "Let's consolidate the subject through examples :"
   ]
  },
  {
   "cell_type": "code",
   "execution_count": 1,
   "id": "ce48a385",
   "metadata": {},
   "outputs": [
    {
     "name": "stdout",
     "output_type": "stream",
     "text": [
      "I LIVE AND WORK IN VIRGINIA\n",
      "i live and work in virginia\n",
      "i LIVE AND WORK IN vIRGINIA\n",
      "I live and work in Virginia\n"
     ]
    }
   ],
   "source": [
    "sentence = \"I live and work in Virginia\"\n",
    "\n",
    "print(sentence.upper())  \n",
    "\n",
    "print(sentence.lower())\n",
    "\n",
    "print(sentence.swapcase())\n",
    "\n",
    "print(sentence)  # note that, source text is unchanged"
   ]
  },
  {
   "cell_type": "code",
   "execution_count": 2,
   "id": "70b87866",
   "metadata": {},
   "outputs": [
    {
     "data": {
      "text/plain": [
       "'    listen first'"
      ]
     },
     "execution_count": 2,
     "metadata": {},
     "output_type": "execute_result"
    }
   ],
   "source": [
    "space_string=\"    listen first    \"\n",
    "space_string.rstrip()"
   ]
  },
  {
   "cell_type": "code",
   "execution_count": 6,
   "id": "539d980e",
   "metadata": {},
   "outputs": [],
   "source": [
    "space_string=\"    listen first    \"\n",
    "space_string=space_string.lstrip()"
   ]
  },
  {
   "cell_type": "code",
   "execution_count": 7,
   "id": "a235d93e",
   "metadata": {},
   "outputs": [
    {
     "data": {
      "text/plain": [
       "'listen first    '"
      ]
     },
     "execution_count": 7,
     "metadata": {},
     "output_type": "execute_result"
    }
   ],
   "source": [
    "space_string"
   ]
  },
  {
   "cell_type": "code",
   "execution_count": 8,
   "id": "c8b0eddb",
   "metadata": {},
   "outputs": [
    {
     "name": "stdout",
     "output_type": "stream",
     "text": [
      "nteroperabilit\n"
     ]
    }
   ],
   "source": [
    "space_string=\"yinteroperability\"\n",
    "print(space_string.strip(\"yi\"))"
   ]
  },
  {
   "cell_type": "code",
   "execution_count": 9,
   "id": "9c330d9f",
   "metadata": {},
   "outputs": [
    {
     "name": "stdout",
     "output_type": "stream",
     "text": [
      "nteroperabilit\n"
     ]
    }
   ],
   "source": [
    "strp='yi'\n",
    "space_string=\"yinteroperabilitiiiyyy\"(the same letter can be written more than one \n",
    "                                      but only one of them will accept for output)\n",
    "print(space_string.strip(\"yi\"))"
   ]
  },
  {
   "cell_type": "code",
   "execution_count": 10,
   "id": "640a7862",
   "metadata": {},
   "outputs": [
    {
     "name": "stdout",
     "output_type": "stream",
     "text": [
      "nteroperabilit\n"
     ]
    }
   ],
   "source": [
    "strp='yi'\n",
    "space_string=\"yinteroperabilitiiiyyy\" #(the same letter can be written more than one \n",
    "                                      #but only one of them will accept for output)\n",
    "print(space_string.strip(strp))"
   ]
  },
  {
   "cell_type": "code",
   "execution_count": 11,
   "id": "5344cd4c",
   "metadata": {},
   "outputs": [
    {
     "name": "stdout",
     "output_type": "stream",
     "text": [
      "teroperability\n"
     ]
    }
   ],
   "source": [
    "source_string=\"interoperability\"\n",
    "print(source_string.lstrip(\"in\"))\n",
    "#removes \"i\" or \"n\" or \"in\" \"ni\" from the left side"
   ]
  },
  {
   "cell_type": "code",
   "execution_count": 12,
   "id": "512a7e39",
   "metadata": {},
   "outputs": [
    {
     "name": "stdout",
     "output_type": "stream",
     "text": [
      "interoperabili\n"
     ]
    }
   ],
   "source": [
    "source_string=\"interoperability\"\n",
    "print(source_string.rstrip(\"yt\"))"
   ]
  },
  {
   "cell_type": "code",
   "execution_count": 13,
   "id": "c001ce12",
   "metadata": {},
   "outputs": [
    {
     "name": "stdout",
     "output_type": "stream",
     "text": [
      "listen first\n"
     ]
    }
   ],
   "source": [
    "space_string = \"     listen first      \"\n",
    "print(space_string.strip())  # removes all spaces from both sides"
   ]
  },
  {
   "cell_type": "code",
   "execution_count": 14,
   "id": "b2a255be",
   "metadata": {},
   "outputs": [
    {
     "name": "stdout",
     "output_type": "stream",
     "text": [
      "     listen first\n"
     ]
    }
   ],
   "source": [
    "space_string = \"     listen first      \"\n",
    "print(space_string.rstrip())  # removes spaces from the right side"
   ]
  },
  {
   "cell_type": "code",
   "execution_count": 15,
   "id": "a934a582",
   "metadata": {},
   "outputs": [
    {
     "name": "stdout",
     "output_type": "stream",
     "text": [
      "interoperabili\n"
     ]
    }
   ],
   "source": [
    "source_string = \"interoperability\"\n",
    "print(source_string.rstrip(\"ty\"))"
   ]
  },
  {
   "cell_type": "code",
   "execution_count": null,
   "id": "d91fcf3a",
   "metadata": {},
   "outputs": [],
   "source": [
    "text='you can learn almost everything in pre-class'\n",
    "text="
   ]
  },
  {
   "cell_type": "code",
   "execution_count": null,
   "id": "db772a94",
   "metadata": {},
   "outputs": [],
   "source": []
  },
  {
   "cell_type": "code",
   "execution_count": null,
   "id": "b8715ff1",
   "metadata": {},
   "outputs": [],
   "source": [
    "Assigment\n",
    "\n",
    "Notes :\n",
    "\n",
    "The second line of the output above has one indentation (a tab char) and the third line has two indentations \n",
    "(two tab chars). \n",
    "Disregard PEP 8 rule of \"max 79 chars in a line\".\n",
    "\n",
    "For example:\n",
    "\n",
    "Result\n",
    "Clarusway, Clarusway, Clarusway, \n",
    "\tClarusway, Clarusway, Clarusway, \n",
    "\t\tClarusway, Clarusway, Clarusway\n",
    "        \n",
    "        text = \"Clarusway, ...............\"\n",
    "\n",
    "print(text)\n",
    "\n",
    "\n",
    "The string variable to be arranged :\n",
    "\n",
    "escapes = [\"\\n\\t\", (\"\\t\", \"\\t\\t\"), [\"\\n\", \"\\n\\t\\t\"]]\n",
    "\n",
    "sentence = \"I am 40 years old. {}I have two children. {}Data Science is my IT domain.\".format(escapes[0], escapes[2][1])\n",
    "\n",
    "print(sentence)"
   ]
  },
  {
   "cell_type": "code",
   "execution_count": null,
   "id": "00689d2b",
   "metadata": {},
   "outputs": [],
   "source": [
    "Assignment\n",
    "\n",
    "After finishing the task correctly, then submit your answer (code) as plain text which shows you did correctly.\n",
    "Task : Find out the most frequent number and its frequency.\n",
    "\n",
    "Write a program that;\n",
    "\n",
    "Finds out the most frequent number in the given list.\n",
    "Calculates its frequency.\n",
    "Prints out the result such as :\n",
    "    \n",
    "    Given list\t\n",
    "numbers = [1, 3, 7, 4, 3, 0, 3, 6, 3]\n",
    "\n",
    "Desired Output: the most frequent number is 3 and it was 4 times repeated\n",
    "    \n",
    "    notes:Note : You may need to use useful/necessary built-in functions and list methods \n",
    "            other than the functions we haven't covered in the lessons yet. "
   ]
  },
  {
   "cell_type": "code",
   "execution_count": null,
   "id": "b68db241",
   "metadata": {},
   "outputs": [],
   "source": []
  },
  {
   "cell_type": "code",
   "execution_count": null,
   "id": "259c3a51",
   "metadata": {},
   "outputs": [],
   "source": []
  },
  {
   "cell_type": "code",
   "execution_count": 34,
   "id": "a490d753",
   "metadata": {},
   "outputs": [
    {
     "name": "stdout",
     "output_type": "stream",
     "text": [
      "2\n"
     ]
    }
   ],
   "source": [
    "def most_frequent(List):\n",
    "    counter = 0\n",
    "    num = List[0]\n",
    "     \n",
    "    for i in List:\n",
    "        curr_frequency = List.count(i)\n",
    "        if(curr_frequency> counter):\n",
    "            counter = curr_frequency\n",
    "            num = i\n",
    " \n",
    "    return num\n",
    "List = [2, 1, 2, 2, 1, 3]\n",
    "print(most_frequent(List))"
   ]
  },
  {
   "cell_type": "code",
   "execution_count": 35,
   "id": "8b6f970a",
   "metadata": {},
   "outputs": [
    {
     "name": "stdout",
     "output_type": "stream",
     "text": [
      "3\n"
     ]
    }
   ],
   "source": [
    "def most_frequent(List):\n",
    "    counter = 0\n",
    "    num = List[0]\n",
    "     \n",
    "    for i in List:\n",
    "        curr_frequency = List.count(i)\n",
    "        if(curr_frequency> counter):\n",
    "            counter = curr_frequency\n",
    "            num = i\n",
    " \n",
    "    return num\n",
    "List = [1, 3, 7, 4, 3, 0, 3, 6, 3]\n",
    "print(most_frequent(List))"
   ]
  },
  {
   "cell_type": "code",
   "execution_count": null,
   "id": "8b31227d",
   "metadata": {},
   "outputs": [],
   "source": []
  },
  {
   "cell_type": "code",
   "execution_count": null,
   "id": "6cc24312",
   "metadata": {},
   "outputs": [],
   "source": [
    "One of the most useful collections in Python is a list. In Python, a list is only \n",
    "an ordered collection of valid Python values.\n",
    "\n",
    "The list type is probably the most commonly used collection type in Python. \n",
    "In spite of its name, a list is more like an array in some other languages (e.g. JavaScript)."
   ]
  },
  {
   "cell_type": "code",
   "execution_count": null,
   "id": "cb7e73fb",
   "metadata": {},
   "outputs": [],
   "source": [
    "Creating a List\n",
    "A list can be created by enclosing values, separated by commas, in square brackets 👉🏻[].\n",
    "\n",
    "Let's create a simple list that includes some country names."
   ]
  },
  {
   "cell_type": "code",
   "execution_count": 16,
   "id": "4de9c07a",
   "metadata": {},
   "outputs": [
    {
     "name": "stdout",
     "output_type": "stream",
     "text": [
      "['h', 'a', 'p', 'p', 'y']\n",
      "['h', 'a', 'p', 'p', 'y']\n"
     ]
    }
   ],
   "source": [
    "lis3=['h','a','p','p','y']\n",
    "word='happy'\n",
    "lis4=list(word)\n",
    "print(lis3, lis4, sep='\\n')"
   ]
  },
  {
   "cell_type": "code",
   "execution_count": null,
   "id": "c0cfc38b",
   "metadata": {},
   "outputs": [],
   "source": [
    "num=(28.9)\n",
    "lis5=lis"
   ]
  },
  {
   "cell_type": "code",
   "execution_count": 18,
   "id": "133a6f7c",
   "metadata": {},
   "outputs": [
    {
     "name": "stdout",
     "output_type": "stream",
     "text": [
      "['USA', 'Brasil', 'UK', 'Germany', 'Turkey', 'New Zealand']\n"
     ]
    }
   ],
   "source": [
    "country = ['USA', 'Brasil', 'UK', 'Germany', 'Turkey', 'New Zealand']\n",
    "print(country)"
   ]
  },
  {
   "cell_type": "code",
   "execution_count": null,
   "id": "e9862afb",
   "metadata": {},
   "outputs": [],
   "source": [
    "Another way to create a list is to call the 'list()' function.\n",
    "\n",
    "You do this when you want to create a list from an iterable object: that is, \n",
    "    type of object whose elements you can import individually. The lists \n",
    "    are iterable like other collections and string types. Let's create another list using list() function and \n",
    "    compare with 👉🏻'[]'."
   ]
  },
  {
   "cell_type": "code",
   "execution_count": 19,
   "id": "317b551f",
   "metadata": {},
   "outputs": [
    {
     "name": "stdout",
     "output_type": "stream",
     "text": [
      "['I', ' ', 'q', 'u', 'i', 't', ' ', 's', 'm', 'o', 'k', 'i', 'n', 'g']\n",
      "['I quit smoking']\n"
     ]
    }
   ],
   "source": [
    "#white spaces also count \n",
    "string_1 = 'I quit smoking'\n",
    "\n",
    "new_list_1 = list(string_1)  # we created multi element list-list oldugu zaman hepsini tek tek cikartir\n",
    "print(new_list_1)\n",
    "\n",
    "new_list_2 = [string_1]  # this is a single element list Kapali parenthesis sadece oldugu gibi print yapar\n",
    "print(new_list_2)"
   ]
  },
  {
   "cell_type": "code",
   "execution_count": 20,
   "id": "cf4cd1b5",
   "metadata": {},
   "outputs": [
    {
     "name": "stdout",
     "output_type": "stream",
     "text": [
      "[11, 'Joseph', False, 3.14, None, [1, 2, 3]]\n"
     ]
    }
   ],
   "source": [
    "mixed_list = [11, 'Joseph', False, 3.14, None, [1, 2, 3]]\n",
    "print(mixed_list)"
   ]
  },
  {
   "cell_type": "code",
   "execution_count": 22,
   "id": "b279d18f",
   "metadata": {},
   "outputs": [
    {
     "ename": "SyntaxError",
     "evalue": "invalid syntax (<ipython-input-22-84bfcf093b1c>, line 2)",
     "output_type": "error",
     "traceback": [
      "\u001b[0;36m  File \u001b[0;32m\"<ipython-input-22-84bfcf093b1c>\"\u001b[0;36m, line \u001b[0;32m2\u001b[0m\n\u001b[0;31m    print(mixed_list)\u001b[0m\n\u001b[0m    ^\u001b[0m\n\u001b[0;31mSyntaxError\u001b[0m\u001b[0;31m:\u001b[0m invalid syntax\n"
     ]
    }
   ],
   "source": [
    "mixed_list = [11, 'Joseph', False, 3.14, None, [1, 2, 3, [4,5,6]]\n",
    "print(mixed_list)"
   ]
  },
  {
   "cell_type": "code",
   "execution_count": 23,
   "id": "ecb11b03",
   "metadata": {},
   "outputs": [
    {
     "name": "stdout",
     "output_type": "stream",
     "text": [
      "['114', 'plastic-free sea']\n"
     ]
    }
   ],
   "source": [
    "#We can add an element into a list using .append() or .insert() methods.\n",
    "\n",
    "#.append() : Append an object to end of a list. Using only list.append(element) syntax, returns none. If you want to see the new appended list, you have to call or print it. See the example :\n",
    "#input :\n",
    "\n",
    "empty_list_1 = []\n",
    "empty_list_1.append('114')\n",
    "empty_list_1.append('plastic-free sea')\n",
    "\n",
    "print(empty_list_1) "
   ]
  },
  {
   "cell_type": "code",
   "execution_count": 24,
   "id": "6c26cbfa",
   "metadata": {},
   "outputs": [
    {
     "name": "stdout",
     "output_type": "stream",
     "text": [
      "['New York', 'London', 'Istanbul', 'Seoul', 'Sydney', 'Addis Ababa']\n"
     ]
    }
   ],
   "source": [
    "city = ['New York', 'London', 'Istanbul', 'Seoul', 'Sydney']\n",
    "city.append('Addis Ababa')\n",
    "\n",
    "print(city)"
   ]
  },
  {
   "cell_type": "code",
   "execution_count": 25,
   "id": "f9508996",
   "metadata": {},
   "outputs": [
    {
     "name": "stdout",
     "output_type": "stream",
     "text": [
      "['kamuran', 'asude', 'eymen', 'kubra']\n"
     ]
    }
   ],
   "source": [
    "title=['kamuran' , 'asude' , 'eymen']\n",
    "title.append('kubra')\n",
    "print(title)"
   ]
  },
  {
   "cell_type": "code",
   "execution_count": 26,
   "id": "6530a4a1",
   "metadata": {},
   "outputs": [
    {
     "name": "stdout",
     "output_type": "stream",
     "text": [
      "['New York', 'London', 'Stockholm', 'Istanbul', 'Seoul', 'Sydney', 'Addis Ababa']\n"
     ]
    }
   ],
   "source": [
    "#.insert() : Add a new object to list at a speciﬁc index. \n",
    "#The syntax looks like list.insert(index, object). See the example :\n",
    "\n",
    "city = ['New York', 'London', 'Istanbul', 'Seoul', 'Sydney', 'Addis Ababa']\n",
    "city.insert(2, 'Stockholm')\n",
    "\n",
    "print(city)"
   ]
  },
  {
   "cell_type": "code",
   "execution_count": 27,
   "id": "a5c15538",
   "metadata": {},
   "outputs": [
    {
     "name": "stdout",
     "output_type": "stream",
     "text": [
      "['New York', 'Stockholm', 'Istanbul', 'Seoul', 'Sydney', 'Addis Ababa']\n"
     ]
    }
   ],
   "source": [
    "#We can remove the elements in lists using list.remove() method or sort the elements using list.sort() method. \n",
    "#Examine the example :\n",
    "\n",
    "city = ['New York', 'London', 'Stockholm', 'Istanbul', 'Seoul', 'Sydney', 'Addis Ababa']\n",
    "city.remove('London')\n",
    "print(city)  # we have deleted 'London'"
   ]
  },
  {
   "cell_type": "code",
   "execution_count": 28,
   "id": "fddc9dc7",
   "metadata": {},
   "outputs": [
    {
     "name": "stdout",
     "output_type": "stream",
     "text": [
      "['Addis Ababa', 'Istanbul', 'New York', 'Seoul', 'Stockholm', 'Sydney']\n"
     ]
    }
   ],
   "source": [
    "city = ['New York', 'Stockholm', 'Istanbul', 'Seoul', 'Sydney', 'Addis Ababa']\n",
    "city.sort()  # lists the items in alphabetical order\n",
    "print(city)"
   ]
  },
  {
   "cell_type": "code",
   "execution_count": 29,
   "id": "ff54d85d",
   "metadata": {},
   "outputs": [
    {
     "name": "stdout",
     "output_type": "stream",
     "text": [
      "6\n"
     ]
    }
   ],
   "source": [
    "#Likewise, the length of the list elements can be calculated with the len() function also. \n",
    "#Let's calculate the length of 'city' variable we have.\n",
    "\n",
    "city = ['Addis Ababa', 'Istanbul', 'New York', 'Seoul', 'Stockholm', 'Sydney']\n",
    "print(len(city))"
   ]
  },
  {
   "cell_type": "code",
   "execution_count": 30,
   "id": "e0289764",
   "metadata": {},
   "outputs": [
    {
     "name": "stdout",
     "output_type": "stream",
     "text": [
      "[1, 3, 5, 7, 1, 3, 5, 7, 1, 3, 5, 7]\n"
     ]
    }
   ],
   "source": [
    "my_list = [1, 3, 5, 7]\n",
    "print(my_list * 3)"
   ]
  },
  {
   "cell_type": "code",
   "execution_count": 31,
   "id": "f2efc8f4",
   "metadata": {},
   "outputs": [
    {
     "name": "stdout",
     "output_type": "stream",
     "text": [
      "['New York', 'Melbourne', 'Istanbul', 'Seoul', 'Sydney', 'Addis Ababa']\n"
     ]
    }
   ],
   "source": [
    "# One of the important operations of the lists is assigning an element to the specific index number.\n",
    "\n",
    "city = ['New York', 'Stockholm', 'Istanbul', 'Seoul', 'Sydney', 'Addis Ababa']\n",
    "city[1] = 'Melbourne'  # we assign 'Melbourne' to index 1\n",
    "print(city)   "
   ]
  },
  {
   "cell_type": "code",
   "execution_count": 36,
   "id": "970c2b6b",
   "metadata": {},
   "outputs": [
    {
     "name": "stdout",
     "output_type": "stream",
     "text": [
      "[1, 2, 3, 4, 5]\n"
     ]
    }
   ],
   "source": [
    "num_list = [1,2,3,4]\n",
    "num_list.insert(4, 5)\n",
    "print(num_list)"
   ]
  },
  {
   "cell_type": "code",
   "execution_count": 37,
   "id": "5a48da05",
   "metadata": {},
   "outputs": [
    {
     "data": {
      "text/plain": [
       "[1, 2, 4, 5]"
      ]
     },
     "execution_count": 37,
     "metadata": {},
     "output_type": "execute_result"
    }
   ],
   "source": [
    "list3=[1,2,4]\n",
    "list3.insert(list3[-1],5)\n",
    "list3"
   ]
  },
  {
   "cell_type": "code",
   "execution_count": 38,
   "id": "4823f174",
   "metadata": {},
   "outputs": [
    {
     "data": {
      "text/plain": [
       "[1, 2, 4, 6]"
      ]
     },
     "execution_count": 38,
     "metadata": {},
     "output_type": "execute_result"
    }
   ],
   "source": [
    "list3[-1]=6\n",
    "list3"
   ]
  },
  {
   "cell_type": "markdown",
   "id": "3811a7c1",
   "metadata": {},
   "source": [
    "## AhmedSESSION"
   ]
  },
  {
   "cell_type": "code",
   "execution_count": 39,
   "id": "5bba1236",
   "metadata": {},
   "outputs": [
    {
     "name": "stdout",
     "output_type": "stream",
     "text": [
      "Word :  Orange\n",
      "First letter :  O\n",
      "Second letter :  r\n",
      "3rd to 5th letters :  ang\n",
      "Letters all after 3rd :  ange\n"
     ]
    }
   ],
   "source": [
    "fruit = 'Orange'\n",
    "print('Word : ', fruit)\n",
    "print('First letter : ', fruit[0])\n",
    "print('Second letter : ', fruit[1])\n",
    "print('3rd to 5th letters : ', fruit[2:5])\n",
    "print('Letters all after 3rd : ', fruit[2:])"
   ]
  },
  {
   "cell_type": "code",
   "execution_count": 40,
   "id": "2c58facf",
   "metadata": {},
   "outputs": [
    {
     "data": {
      "text/plain": [
       "'rne'"
      ]
     },
     "execution_count": 40,
     "metadata": {},
     "output_type": "execute_result"
    }
   ],
   "source": [
    "fruit[1::2]"
   ]
  },
  {
   "cell_type": "code",
   "execution_count": 41,
   "id": "2b1f7f81",
   "metadata": {},
   "outputs": [
    {
     "data": {
      "text/plain": [
       "'Orange'"
      ]
     },
     "execution_count": 41,
     "metadata": {},
     "output_type": "execute_result"
    }
   ],
   "source": [
    "fruit"
   ]
  },
  {
   "cell_type": "code",
   "execution_count": 42,
   "id": "93109764",
   "metadata": {},
   "outputs": [
    {
     "data": {
      "text/plain": [
       "'e'"
      ]
     },
     "execution_count": 42,
     "metadata": {},
     "output_type": "execute_result"
    }
   ],
   "source": [
    "word = 'I am a python student'\n",
    "word[-3]"
   ]
  },
  {
   "cell_type": "code",
   "execution_count": 43,
   "id": "65a6fc86",
   "metadata": {},
   "outputs": [
    {
     "data": {
      "text/plain": [
       "'tneduts nohtyp a ma I'"
      ]
     },
     "execution_count": 43,
     "metadata": {},
     "output_type": "execute_result"
    }
   ],
   "source": [
    "word[::-1]"
   ]
  },
  {
   "cell_type": "code",
   "execution_count": 44,
   "id": "216a0daf",
   "metadata": {},
   "outputs": [
    {
     "data": {
      "text/plain": [
       "'teusnhy  aI'"
      ]
     },
     "execution_count": 44,
     "metadata": {},
     "output_type": "execute_result"
    }
   ],
   "source": [
    "word[::-2]"
   ]
  },
  {
   "cell_type": "code",
   "execution_count": 45,
   "id": "6760f164",
   "metadata": {},
   "outputs": [
    {
     "data": {
      "text/plain": [
       "'t'"
      ]
     },
     "execution_count": 45,
     "metadata": {},
     "output_type": "execute_result"
    }
   ],
   "source": [
    "word[-1]"
   ]
  },
  {
   "cell_type": "code",
   "execution_count": 46,
   "id": "26400ad0",
   "metadata": {},
   "outputs": [
    {
     "data": {
      "text/plain": [
       "'I am a python studen'"
      ]
     },
     "execution_count": 46,
     "metadata": {},
     "output_type": "execute_result"
    }
   ],
   "source": [
    "word[:-1:]"
   ]
  },
  {
   "cell_type": "code",
   "execution_count": 49,
   "id": "5bf01f24",
   "metadata": {},
   "outputs": [
    {
     "data": {
      "text/plain": [
       "'I am a python stude'"
      ]
     },
     "execution_count": 49,
     "metadata": {},
     "output_type": "execute_result"
    }
   ],
   "source": [
    "word[:-1]\n",
    "word[:-1:]\n",
    "word[::-1]\n",
    "word[:-2]"
   ]
  },
  {
   "cell_type": "code",
   "execution_count": 50,
   "id": "fb1609ed",
   "metadata": {},
   "outputs": [
    {
     "data": {
      "text/plain": [
       "'te'"
      ]
     },
     "execution_count": 50,
     "metadata": {},
     "output_type": "execute_result"
    }
   ],
   "source": [
    "word[-1:-5:-2]"
   ]
  },
  {
   "cell_type": "code",
   "execution_count": 51,
   "id": "17bf6806",
   "metadata": {},
   "outputs": [
    {
     "data": {
      "text/plain": [
       "'td'"
      ]
     },
     "execution_count": 51,
     "metadata": {},
     "output_type": "execute_result"
    }
   ],
   "source": [
    "word[-1:-5:-3]"
   ]
  },
  {
   "cell_type": "code",
   "execution_count": 52,
   "id": "f4ff4dae",
   "metadata": {},
   "outputs": [
    {
     "data": {
      "text/plain": [
       "''"
      ]
     },
     "execution_count": 52,
     "metadata": {},
     "output_type": "execute_result"
    }
   ],
   "source": [
    "word[-1:-5]"
   ]
  },
  {
   "cell_type": "code",
   "execution_count": 53,
   "id": "dd30b984",
   "metadata": {},
   "outputs": [
    {
     "data": {
      "text/plain": [
       "'td'"
      ]
     },
     "execution_count": 53,
     "metadata": {},
     "output_type": "execute_result"
    }
   ],
   "source": [
    "word[:-5:-3]"
   ]
  },
  {
   "cell_type": "code",
   "execution_count": 54,
   "id": "ef55cc6a",
   "metadata": {},
   "outputs": [
    {
     "data": {
      "text/plain": [
       "'tdsoyaa'"
      ]
     },
     "execution_count": 54,
     "metadata": {},
     "output_type": "execute_result"
    }
   ],
   "source": [
    "word[::-3]"
   ]
  },
  {
   "cell_type": "code",
   "execution_count": 55,
   "id": "35e10fff",
   "metadata": {},
   "outputs": [
    {
     "name": "stdout",
     "output_type": "stream",
     "text": [
      "ippopotamus\n",
      "Hippop\n",
      "Hpooau\n",
      "ipp\n",
      "mus\n",
      "sumatopoppiH\n"
     ]
    }
   ],
   "source": [
    "animal = \"Hippopotamus\"\n",
    "print(animal[1:])\n",
    "print(animal[:6])\n",
    "print(animal[::2])\n",
    "print(animal[1:7:2])\n",
    "print(animal[-3:])\n",
    "print(animal[::-1])\n"
   ]
  },
  {
   "cell_type": "code",
   "execution_count": 56,
   "id": "5f7ac5a4",
   "metadata": {},
   "outputs": [
    {
     "name": "stdout",
     "output_type": "stream",
     "text": [
      "length of the word Tomato is :  6\n"
     ]
    }
   ],
   "source": [
    "vegetable = \"Tomato\"\n",
    "print('length of the word', vegetable, \"is : \", len(vegetable))\n",
    "\n"
   ]
  },
  {
   "cell_type": "code",
   "execution_count": 57,
   "id": "b257eb3b",
   "metadata": {},
   "outputs": [
    {
     "data": {
      "text/plain": [
       "'o'"
      ]
     },
     "execution_count": 57,
     "metadata": {},
     "output_type": "execute_result"
    }
   ],
   "source": [
    "vegetable[5]"
   ]
  },
  {
   "cell_type": "code",
   "execution_count": 58,
   "id": "7c03dd13",
   "metadata": {},
   "outputs": [
    {
     "name": "stdout",
     "output_type": "stream",
     "text": [
      "Return the number of items in a container.\n"
     ]
    }
   ],
   "source": [
    "print(len.__doc__)"
   ]
  },
  {
   "cell_type": "code",
   "execution_count": 59,
   "id": "59ff5684",
   "metadata": {},
   "outputs": [
    {
     "data": {
      "text/plain": [
       "'o'"
      ]
     },
     "execution_count": 59,
     "metadata": {},
     "output_type": "execute_result"
    }
   ],
   "source": [
    "vegetable[len(vegetable)-1]"
   ]
  },
  {
   "cell_type": "code",
   "execution_count": 60,
   "id": "d01175cf",
   "metadata": {},
   "outputs": [
    {
     "name": "stdout",
     "output_type": "stream",
     "text": [
      "u p p e r\n"
     ]
    }
   ],
   "source": [
    "str_one = 'upper'\n",
    "\n",
    "print(* str_one)"
   ]
  },
  {
   "cell_type": "code",
   "execution_count": 61,
   "id": "9cc6207e",
   "metadata": {},
   "outputs": [],
   "source": [
    "a1, b2, c3, d4, e5 = * str_one,"
   ]
  },
  {
   "cell_type": "code",
   "execution_count": 62,
   "id": "2b590e1a",
   "metadata": {},
   "outputs": [
    {
     "data": {
      "text/plain": [
       "'u'"
      ]
     },
     "execution_count": 62,
     "metadata": {},
     "output_type": "execute_result"
    }
   ],
   "source": [
    "a1"
   ]
  },
  {
   "cell_type": "code",
   "execution_count": 63,
   "id": "24e38fa4",
   "metadata": {},
   "outputs": [
    {
     "data": {
      "text/plain": [
       "'p'"
      ]
     },
     "execution_count": 63,
     "metadata": {},
     "output_type": "execute_result"
    }
   ],
   "source": [
    "c3"
   ]
  },
  {
   "cell_type": "code",
   "execution_count": 64,
   "id": "e2d4825e",
   "metadata": {},
   "outputs": [],
   "source": [
    "s1, s2, s3 = \"alpha\", \"beta\", \"gama\""
   ]
  },
  {
   "cell_type": "code",
   "execution_count": 65,
   "id": "72c7f320",
   "metadata": {},
   "outputs": [
    {
     "data": {
      "text/plain": [
       "'alpha'"
      ]
     },
     "execution_count": 65,
     "metadata": {},
     "output_type": "execute_result"
    }
   ],
   "source": [
    "s1"
   ]
  },
  {
   "cell_type": "code",
   "execution_count": 66,
   "id": "8db7d264",
   "metadata": {},
   "outputs": [
    {
     "data": {
      "text/plain": [
       "'joseph@clarusway.com'"
      ]
     },
     "execution_count": 66,
     "metadata": {},
     "output_type": "execute_result"
    }
   ],
   "source": [
    "s_1 = 'I am angry...'\n",
    "\n",
    "s_2 = '1453'\n",
    "\n",
    "'joseph@clarusway.com'  # Do not use variable"
   ]
  },
  {
   "cell_type": "code",
   "execution_count": 67,
   "id": "3d1af585",
   "metadata": {},
   "outputs": [
    {
     "name": "stdout",
     "output_type": "stream",
     "text": [
      "I   a m   a n g r y . . .\n"
     ]
    }
   ],
   "source": [
    "print(*s_1)"
   ]
  },
  {
   "cell_type": "code",
   "execution_count": 68,
   "id": "776fd9f9",
   "metadata": {},
   "outputs": [
    {
     "data": {
      "text/plain": [
       "3"
      ]
     },
     "execution_count": 68,
     "metadata": {},
     "output_type": "execute_result"
    }
   ],
   "source": [
    "len('   ')"
   ]
  },
  {
   "cell_type": "code",
   "execution_count": 69,
   "id": "a397ff51",
   "metadata": {},
   "outputs": [
    {
     "name": "stdout",
     "output_type": "stream",
     "text": [
      "The amount of Orange we bought is 4 pounds\n",
      "The amount of Tomato we bought is 6 pounds\n"
     ]
    }
   ],
   "source": [
    "fruit = \"Orange\"\n",
    "vegetable = 'Tomato'\n",
    "amount_f = 4\n",
    "amount_v = 6\n",
    "\n",
    "print(\"The amount of {} we bought is {} pounds\".format(fruit, amount_f))\n",
    "print(\"The amount of {} we bought is {} pounds\".format(vegetable, amount_v))"
   ]
  },
  {
   "cell_type": "code",
   "execution_count": 70,
   "id": "a84c279b",
   "metadata": {},
   "outputs": [
    {
     "name": "stdout",
     "output_type": "stream",
     "text": [
      "California is the most crowded state of the USA\n"
     ]
    }
   ],
   "source": [
    "print('{state} is the most {adjective} state of the {country}'.format(state=\"California\", country='USA', adjective='crowded'))"
   ]
  },
  {
   "cell_type": "code",
   "execution_count": 71,
   "id": "0c722b86",
   "metadata": {},
   "outputs": [
    {
     "name": "stdout",
     "output_type": "stream",
     "text": [
      "Mexico City is the most exiting city of the Mexico\n"
     ]
    }
   ],
   "source": [
    "print('{state} is the most {adjective} city of the {country}'.format(state=\"Mexico City\", country='Mexico', adjective='exiting'))"
   ]
  },
  {
   "cell_type": "code",
   "execution_count": 72,
   "id": "86452fde",
   "metadata": {},
   "outputs": [
    {
     "name": "stdout",
     "output_type": "stream",
     "text": [
      "12-Feb-Feb\n",
      "12-Feb-Feb\n",
      "I will have started a new job in 6 months\n"
     ]
    }
   ],
   "source": [
    "print(\"{}-{}-{}\".format(\"12\", \"Feb\", \"Feb\"))\n",
    "print(\"{no}-{month}-{month}\".format(no=\"12\", month=\"Feb\"))\n",
    "\n",
    "print(\"{6} {5} {0} {1} {3} {4} {2}\"\n",
    "      .format(\"a new\", \"job\", \"months\", \"in\", 6, \"have started\", \"I will\"))\n"
   ]
  },
  {
   "cell_type": "code",
   "execution_count": 73,
   "id": "e7ce575c",
   "metadata": {},
   "outputs": [
    {
     "name": "stdout",
     "output_type": "stream",
     "text": [
      "generosity wins in all circumstances\n"
     ]
    }
   ],
   "source": [
    "phrase = '{2} {3} {1} {0}'.format('circumstances', 'in all', 'generosity', 'wins')\n",
    "print(phrase)"
   ]
  },
  {
   "cell_type": "code",
   "execution_count": 74,
   "id": "84aef0e0",
   "metadata": {},
   "outputs": [
    {
     "name": "stdout",
     "output_type": "stream",
     "text": [
      "wins generosity in all circumstances\n"
     ]
    }
   ],
   "source": [
    "phrase = '{3} {2} {1} {0}'.format('circumstances', 'in all', 'generosity', 'wins')\n",
    "print(phrase)"
   ]
  },
  {
   "cell_type": "code",
   "execution_count": 75,
   "id": "ddc97aab",
   "metadata": {},
   "outputs": [
    {
     "name": "stdout",
     "output_type": "stream",
     "text": [
      "generosity in all wins circumstances\n"
     ]
    }
   ],
   "source": [
    "condition = 'circumstances'\n",
    "morality = 'generosity'\n",
    "\n",
    "phrase = '{morality} {} {} {condition}'.format( 'in all', 'wins', morality='generosity',condition='circumstances' )\n",
    "print(phrase)"
   ]
  },
  {
   "cell_type": "code",
   "execution_count": 76,
   "id": "8b269cde",
   "metadata": {},
   "outputs": [
    {
     "name": "stdout",
     "output_type": "stream",
     "text": [
      "The amount of Orange and Tomato we bought is 6 pounds\n"
     ]
    }
   ],
   "source": [
    "fruit = \"Orange\"\n",
    "vegetable = 'Tomato'\n",
    "amount = 6\n",
    "\n",
    "print(f\"The amount of {fruit} and {vegetable} we bought is {amount} pounds\")\n"
   ]
  },
  {
   "cell_type": "code",
   "execution_count": 77,
   "id": "4ffd8184",
   "metadata": {},
   "outputs": [
    {
     "name": "stdout",
     "output_type": "stream",
     "text": [
      "<class 'int'>\n",
      "8\n",
      "<class 'str'>\n"
     ]
    }
   ],
   "source": [
    "sample1 = 2 ** 3\n",
    "print(type(sample1))\n",
    "sample2 = f'{2 ** 3}'\n",
    "print(sample2)\n",
    "print(type(sample2))"
   ]
  },
  {
   "cell_type": "code",
   "execution_count": 78,
   "id": "e710e5f3",
   "metadata": {},
   "outputs": [
    {
     "name": "stdout",
     "output_type": "stream",
     "text": [
      "I am becoming stronger in python every day\n",
      "I am becoming stronger in python every day\n"
     ]
    }
   ],
   "source": [
    "word = 'I am a python student'\n",
    "phrase = f'I am becoming stronger in {word[7:13]} every day'\n",
    "phrase2 = 'I am becoming stronger in {} every day'.format(word[7:13])\n",
    "print(phrase)\n",
    "print(phrase2)"
   ]
  },
  {
   "cell_type": "code",
   "execution_count": 79,
   "id": "82ff7c00",
   "metadata": {},
   "outputs": [
    {
     "name": "stdout",
     "output_type": "stream",
     "text": [
      "Hi Joseph.You are one of the teachersin the Data Science section...\n"
     ]
    }
   ],
   "source": [
    "name = 'Joseph'\n",
    "job = \"teachers\"\n",
    "domain = 'Data Science'\n",
    "\n",
    "message = (\n",
    "    f\"Hi {name}.\"\n",
    "    f'You are one of the {job}'\n",
    "    f'in the {domain} section...'\n",
    ")\n",
    "\n",
    "print(message)"
   ]
  },
  {
   "cell_type": "code",
   "execution_count": 80,
   "id": "c9e10176",
   "metadata": {},
   "outputs": [
    {
     "name": "stdout",
     "output_type": "stream",
     "text": [
      "Hi Ali.You are one of the Developerin the Fullstack section...\n"
     ]
    }
   ],
   "source": [
    "name = 'Ali'\n",
    "job = \"Developer\"\n",
    "domain = 'Fullstack'\n",
    "\n",
    "message =     f\"Hi {name}.\"     f'You are one of the {job}'     f'in the {domain} section...'\n",
    "\n",
    "\n",
    "print(message)"
   ]
  },
  {
   "cell_type": "code",
   "execution_count": 81,
   "id": "0fb5755f",
   "metadata": {},
   "outputs": [
    {
     "name": "stdout",
     "output_type": "stream",
     "text": [
      "clarusway\n",
      "ClarusWay\n",
      "clarusway\n"
     ]
    }
   ],
   "source": [
    "var_string = 'ClarusWay'\n",
    "print(var_string.lower())\n",
    "print(var_string)\n",
    "var_string = 'ClarusWay'.lower()\n",
    "print(var_string)"
   ]
  },
  {
   "cell_type": "code",
   "execution_count": 82,
   "id": "7c971a9b",
   "metadata": {},
   "outputs": [
    {
     "name": "stdout",
     "output_type": "stream",
     "text": [
      "In God we Trust\n",
      "in god we trust\n"
     ]
    }
   ],
   "source": [
    "var_str = 'In God we Trust'\n",
    "print(var_str)\n",
    "var_str = var_str.lower()\n",
    "print(var_str)\n"
   ]
  },
  {
   "cell_type": "code",
   "execution_count": 83,
   "id": "a2ded073",
   "metadata": {},
   "outputs": [
    {
     "name": "stdout",
     "output_type": "stream",
     "text": [
      "True\n",
      "True\n"
     ]
    }
   ],
   "source": [
    "text = 'www.clarusway.com'\n",
    "print(text.endswith('www.clarusway.com'))\n",
    "print(text.startswith('www.clarusway.com'))"
   ]
  },
  {
   "cell_type": "code",
   "execution_count": 84,
   "id": "7a595e41",
   "metadata": {},
   "outputs": [
    {
     "name": "stdout",
     "output_type": "stream",
     "text": [
      "True\n"
     ]
    }
   ],
   "source": [
    "email = \"clarusway@clarusway.com is my e-mail address\"\n",
    "# print(email.startswith(\"@clarusway.com\", 9))\n",
    "print(email.endswith(\"-mai\", 7, 35))"
   ]
  },
  {
   "cell_type": "code",
   "execution_count": 86,
   "id": "e6bb566c",
   "metadata": {},
   "outputs": [
    {
     "name": "stdout",
     "output_type": "stream",
     "text": [
      "True\n",
      "True\n"
     ]
    }
   ],
   "source": [
    "text = 'www.clarusway.com'\n",
    "print(text.endswith('.com'))\n",
    "print(text.startswith('www.'))"
   ]
  },
  {
   "cell_type": "code",
   "execution_count": 87,
   "id": "b8b72be7",
   "metadata": {},
   "outputs": [
    {
     "name": "stdout",
     "output_type": "stream",
     "text": [
      "False\n",
      "False\n"
     ]
    }
   ],
   "source": [
    "text = 'www.clarusway.com'\n",
    "print(text.endswith('.co'))\n",
    "print(text.startswith('w.'))"
   ]
  },
  {
   "cell_type": "code",
   "execution_count": 88,
   "id": "b4e1f4ac",
   "metadata": {},
   "outputs": [
    {
     "name": "stdout",
     "output_type": "stream",
     "text": [
      "i l+VE aND wORK iN v+RG+N+A\n",
      "I l+ve and work +n V+rg+n+a\n",
      "I live and work in Virginia\n"
     ]
    }
   ],
   "source": [
    "sentence = \"I live and work in Virginia\"\n",
    "title_sentence = sentence.title().replace(\"i\", \"+\").swapcase() # \"I live and work in Virginia\" make every word a title\n",
    "print(title_sentence)  \n",
    "\n",
    "changed_sentence = sentence.replace(\"i\", \"+\")\n",
    "print(changed_sentence)  \n",
    "\n",
    "print(sentence)"
   ]
  },
  {
   "cell_type": "code",
   "execution_count": 89,
   "id": "3083c522",
   "metadata": {},
   "outputs": [
    {
     "data": {
      "text/plain": [
       "'The Better The Family, The Better The Society'"
      ]
     },
     "execution_count": 89,
     "metadata": {},
     "output_type": "execute_result"
    }
   ],
   "source": [
    "text = 'the better the family, the better the society'\n",
    "text = text.title()\n",
    "text"
   ]
  },
  {
   "cell_type": "code",
   "execution_count": 90,
   "id": "3df09df4",
   "metadata": {},
   "outputs": [
    {
     "name": "stdout",
     "output_type": "stream",
     "text": [
      "i LIVE AND WORK IN vIRGINIA\n",
      "I live and work in virginia\n"
     ]
    }
   ],
   "source": [
    "sentence = \"I live and work in Virginia\"\n",
    "swap_case = sentence.swapcase()\n",
    "print(swap_case)\n",
    "print(swap_case.capitalize()) "
   ]
  },
  {
   "cell_type": "code",
   "execution_count": 91,
   "id": "8cd8cdce",
   "metadata": {},
   "outputs": [
    {
     "data": {
      "text/plain": [
       "'Sodome and Gomore'"
      ]
     },
     "execution_count": 91,
     "metadata": {},
     "output_type": "execute_result"
    }
   ],
   "source": [
    "text = 'S0d0me and G0m0re'\n",
    "text.replace('0', 'o')"
   ]
  },
  {
   "cell_type": "code",
   "execution_count": 92,
   "id": "0d5114ad",
   "metadata": {},
   "outputs": [
    {
     "data": {
      "text/plain": [
       "'listen first'"
      ]
     },
     "execution_count": 92,
     "metadata": {},
     "output_type": "execute_result"
    }
   ],
   "source": [
    "space_string = \"     listen first      \" #sag veya sola dondurmek icin 'l'left or 'r' right\n",
    "space_string.strip()"
   ]
  },
  {
   "cell_type": "code",
   "execution_count": 93,
   "id": "1001a73a",
   "metadata": {},
   "outputs": [
    {
     "data": {
      "text/plain": [
       "'     listen first'"
      ]
     },
     "execution_count": 93,
     "metadata": {},
     "output_type": "execute_result"
    }
   ],
   "source": [
    "space_string = \"     listen first      \"\n",
    "space_string.rstrip()"
   ]
  },
  {
   "cell_type": "code",
   "execution_count": 94,
   "id": "b22ffbd3",
   "metadata": {},
   "outputs": [
    {
     "data": {
      "text/plain": [
       "'listen first      '"
      ]
     },
     "execution_count": 94,
     "metadata": {},
     "output_type": "execute_result"
    }
   ],
   "source": [
    "space_string = \"     listen first      \"\n",
    "space_string.lstrip()"
   ]
  },
  {
   "cell_type": "code",
   "execution_count": 95,
   "id": "f74e9d5e",
   "metadata": {},
   "outputs": [
    {
     "data": {
      "text/plain": [
       "'     listen first      '"
      ]
     },
     "execution_count": 95,
     "metadata": {},
     "output_type": "execute_result"
    }
   ],
   "source": [
    "space_string"
   ]
  },
  {
   "cell_type": "code",
   "execution_count": 96,
   "id": "123c946a",
   "metadata": {},
   "outputs": [
    {
     "name": "stdout",
     "output_type": "stream",
     "text": [
      "nteroperabilit\n"
     ]
    }
   ],
   "source": [
    "#strp icinde kullanilan tum harfler ana kelimeden cikartilir.\n",
    "strp = 'yi'\n",
    "source_string = \"yinteroperabilityiiiyyy\"\n",
    "print(source_string.strip(strp))"
   ]
  },
  {
   "cell_type": "code",
   "execution_count": 100,
   "id": "65447e43",
   "metadata": {},
   "outputs": [
    {
     "name": "stdout",
     "output_type": "stream",
     "text": [
      "yinteroperabilityiiiyyy\n"
     ]
    }
   ],
   "source": [
    "strp = 'ei'\n",
    "source_string = \"yinteroperabilityiiiyyy\"\n",
    "print(source_string.strip(strp))"
   ]
  },
  {
   "cell_type": "code",
   "execution_count": 101,
   "id": "e6c8ee2d",
   "metadata": {},
   "outputs": [
    {
     "data": {
      "text/plain": [
       "'yinteroperabilityiiiyyy'"
      ]
     },
     "execution_count": 101,
     "metadata": {},
     "output_type": "execute_result"
    }
   ],
   "source": [
    "source_string"
   ]
  },
  {
   "cell_type": "code",
   "execution_count": 102,
   "id": "719f57e8",
   "metadata": {},
   "outputs": [
    {
     "name": "stdout",
     "output_type": "stream",
     "text": [
      "YOU CAN LEARN ALMOST EVERYTHING IN PRE-CLASS\n"
     ]
    }
   ],
   "source": [
    "text = 'tyou can learn almost everything in pre-classz'\n",
    "\n",
    "text = text.rstrip('z').lstrip('t').upper()\n",
    "print(text)"
   ]
  },
  {
   "cell_type": "code",
   "execution_count": 104,
   "id": "39adc6c0",
   "metadata": {},
   "outputs": [
    {
     "name": "stdout",
     "output_type": "stream",
     "text": [
      "YOU CAN LEARN ALMOST EVERYTHING IN PRE-CLASS\n"
     ]
    }
   ],
   "source": [
    "text = 'ttyou can learn almost everything in pre-classz'\n",
    "\n",
    "text = text.rstrip('z').lstrip('t').upper()\n",
    "print(text)"
   ]
  },
  {
   "cell_type": "code",
   "execution_count": 107,
   "id": "dbb687f2",
   "metadata": {},
   "outputs": [
    {
     "name": "stdout",
     "output_type": "stream",
     "text": [
      "YOU CAN LEARN ALMOST EVERYTHING IN PRE-CLASS\n"
     ]
    }
   ],
   "source": [
    "text = 'xtyou can learn almost everything in pre-classz'\n",
    "\n",
    "text = text.rstrip('z').lstrip('xt').upper()\n",
    "print(text)"
   ]
  },
  {
   "cell_type": "code",
   "execution_count": 108,
   "id": "d3a42f0f",
   "metadata": {},
   "outputs": [
    {
     "name": "stdout",
     "output_type": "stream",
     "text": [
      "YOU CAN LEARN ALMOST EVERYTHING IN PRE-CLASS\n"
     ]
    }
   ],
   "source": [
    "text = 'zzzzzzzzzzzztyou can learn almost everything in pre-classzzzzzzzzzzzzzzzzzzzzzzzzzzzzz'\n",
    "\n",
    "text = text.strip('zt').upper()\n",
    "print(text)"
   ]
  },
  {
   "cell_type": "code",
   "execution_count": 109,
   "id": "9a80c85e",
   "metadata": {},
   "outputs": [
    {
     "name": "stdout",
     "output_type": "stream",
     "text": [
      "TYOU CAN LEARN ALMOST EVERYTHING IN PRE-CLASS\n"
     ]
    }
   ],
   "source": [
    "text = 'zzzzzzzzzzzztyou can learn almost everything in pre-classzzzzzzzzzzzzzzzzzzzzzzzzzzzzz'\n",
    "\n",
    "text = text.strip('z').upper()\n",
    "print(text)"
   ]
  },
  {
   "cell_type": "code",
   "execution_count": 110,
   "id": "1520c530",
   "metadata": {},
   "outputs": [],
   "source": [
    "var_1 = 1\n",
    "var_2 = 'any text'\n",
    "var_3 = True"
   ]
  },
  {
   "cell_type": "code",
   "execution_count": 111,
   "id": "8bf3ed92",
   "metadata": {},
   "outputs": [
    {
     "name": "stdout",
     "output_type": "stream",
     "text": [
      "<class 'list'>\n"
     ]
    }
   ],
   "source": [
    "ls1 = []\n",
    "print(type(ls1))"
   ]
  },
  {
   "cell_type": "code",
   "execution_count": 112,
   "id": "4b5523aa",
   "metadata": {},
   "outputs": [
    {
     "name": "stdout",
     "output_type": "stream",
     "text": [
      "<class 'list'>\n"
     ]
    }
   ],
   "source": [
    "ls2 = list()\n",
    "print(type(ls2))"
   ]
  },
  {
   "cell_type": "code",
   "execution_count": 113,
   "id": "e7db3c8d",
   "metadata": {},
   "outputs": [
    {
     "data": {
      "text/plain": [
       "[]"
      ]
     },
     "execution_count": 113,
     "metadata": {},
     "output_type": "execute_result"
    }
   ],
   "source": [
    "ls1"
   ]
  },
  {
   "cell_type": "code",
   "execution_count": 114,
   "id": "3602a8f0",
   "metadata": {},
   "outputs": [
    {
     "data": {
      "text/plain": [
       "[]"
      ]
     },
     "execution_count": 114,
     "metadata": {},
     "output_type": "execute_result"
    }
   ],
   "source": [
    "ls2"
   ]
  },
  {
   "cell_type": "code",
   "execution_count": 115,
   "id": "780568dd",
   "metadata": {},
   "outputs": [
    {
     "name": "stdout",
     "output_type": "stream",
     "text": [
      "['h', 'a', 'p', 'p', 'y']\n",
      "['h', 'a', 'p', 'p', 'y']\n"
     ]
    }
   ],
   "source": [
    "lis3 = ['h', 'a', 'p', 'p', 'y']\n",
    "word = 'happy'\n",
    "lis4 = list(word)\n",
    "print(lis3, lis4, sep='\\n')"
   ]
  },
  {
   "cell_type": "code",
   "execution_count": 116,
   "id": "60a688bc",
   "metadata": {},
   "outputs": [
    {
     "data": {
      "text/plain": [
       "['2', '8', '.', '9']"
      ]
     },
     "execution_count": 116,
     "metadata": {},
     "output_type": "execute_result"
    }
   ],
   "source": [
    "num = (28.9) # 20 + 8 + 0.9\n",
    "lis5 = list((str(num)))\n",
    "lis5"
   ]
  },
  {
   "cell_type": "code",
   "execution_count": 117,
   "id": "8156c27e",
   "metadata": {},
   "outputs": [],
   "source": [
    "ls6 = [1]\n",
    "ls7 = [21.7]"
   ]
  },
  {
   "cell_type": "code",
   "execution_count": 118,
   "id": "03305065",
   "metadata": {},
   "outputs": [
    {
     "name": "stdout",
     "output_type": "stream",
     "text": [
      "['USA', 'Brasil', 'UK', 'Germany', 'Turkey', 'New Zeland']\n"
     ]
    }
   ],
   "source": [
    "country = ['USA', 'Brasil', 'UK', 'Germany', 'Turkey', 'New Zeland']\n",
    "\n",
    "print(country)"
   ]
  },
  {
   "cell_type": "code",
   "execution_count": 119,
   "id": "3ed53852",
   "metadata": {},
   "outputs": [
    {
     "data": {
      "text/plain": [
       "[1, 2, 3, 4, 5]"
      ]
     },
     "execution_count": 119,
     "metadata": {},
     "output_type": "execute_result"
    }
   ],
   "source": [
    "ls8 = [1,2,3,4,5]\n",
    "ls8"
   ]
  },
  {
   "cell_type": "code",
   "execution_count": 120,
   "id": "0fd5bab1",
   "metadata": {},
   "outputs": [
    {
     "name": "stdout",
     "output_type": "stream",
     "text": [
      "[11, 'Joseph', False, 3.14, None, [1, 2, 3, [4, 5, 6]]]\n"
     ]
    }
   ],
   "source": [
    "mixed_list = [11, 'Joseph', False, 3.14, None, [1, 2, 3, [4, 5, 6]]]\n",
    "print(mixed_list)"
   ]
  },
  {
   "cell_type": "code",
   "execution_count": 121,
   "id": "28f327f9",
   "metadata": {},
   "outputs": [
    {
     "data": {
      "text/plain": [
       "[11, 'Joseph', False, 3.14, None, [1, 2, 3, [4, 5, 6]]]"
      ]
     },
     "execution_count": 121,
     "metadata": {},
     "output_type": "execute_result"
    }
   ],
   "source": [
    "lis9 = list(mixed_list)\n",
    "lis9"
   ]
  },
  {
   "cell_type": "code",
   "execution_count": 122,
   "id": "edd1b782",
   "metadata": {},
   "outputs": [
    {
     "data": {
      "text/plain": [
       "[11, 'Joseph', False, 3.14, None, [1, 2, 3, [4, 5, 6]]]"
      ]
     },
     "execution_count": 122,
     "metadata": {},
     "output_type": "execute_result"
    }
   ],
   "source": [
    "lis10 = lis9\n",
    "lis10"
   ]
  },
  {
   "cell_type": "code",
   "execution_count": 123,
   "id": "a0d96652",
   "metadata": {},
   "outputs": [
    {
     "name": "stdout",
     "output_type": "stream",
     "text": [
      "[1, 4, 7, 9]\n",
      "[1, 4, 7, 9, '9']\n"
     ]
    }
   ],
   "source": [
    "numbers = [1, 4, 7]\n",
    "numbers.append(9)\n",
    "print(numbers)\n",
    "numbers.append('9')\n",
    "print(numbers)"
   ]
  },
  {
   "cell_type": "code",
   "execution_count": 124,
   "id": "0d58f194",
   "metadata": {},
   "outputs": [
    {
     "name": "stdout",
     "output_type": "stream",
     "text": [
      "[]\n",
      "0\n",
      "[6666]\n",
      "1\n",
      "[6666, 'Multiverse']\n",
      "2\n",
      "[6666, 'Multiverse', [0]]\n",
      "3\n"
     ]
    }
   ],
   "source": [
    "empty_list = []\n",
    "print(empty_list, len(empty_list), sep = '\\n')\n",
    "empty_list.append(6666)\n",
    "print(empty_list, len(empty_list), sep = '\\n')\n",
    "empty_list.append('Multiverse')\n",
    "print(empty_list, len(empty_list), sep = '\\n')\n",
    "empty_list.append([0])\n",
    "print(empty_list, len(empty_list), sep = '\\n')\n"
   ]
  },
  {
   "cell_type": "code",
   "execution_count": 127,
   "id": "283ce9d4",
   "metadata": {},
   "outputs": [
    {
     "name": "stdout",
     "output_type": "stream",
     "text": [
      "[1, 2, 3]\n",
      "3\n",
      "[1, 2, 3, 6666]\n",
      "4\n",
      "[1, 2, 3, 6666, 'Multiverse']\n",
      "5\n",
      "[1, 2, 3, 6666, 'Multiverse', [0]]\n",
      "6\n"
     ]
    }
   ],
   "source": [
    "empty_list = [1,2,3]\n",
    "print(empty_list, len(empty_list), sep = '\\n')\n",
    "empty_list.append(6666)\n",
    "print(empty_list, len(empty_list), sep = '\\n')\n",
    "empty_list.append('Multiverse')\n",
    "print(empty_list, len(empty_list), sep = '\\n')\n",
    "empty_list.append([0])\n",
    "print(empty_list, len(empty_list), sep = '\\n')\n"
   ]
  },
  {
   "cell_type": "code",
   "execution_count": 129,
   "id": "902950ba",
   "metadata": {},
   "outputs": [
    {
     "name": "stdout",
     "output_type": "stream",
     "text": [
      "['New York', 'London', 'Istanbul', 'Seoul', 'Sydney', 'Addis Ababa']\n"
     ]
    }
   ],
   "source": [
    "city = ['New York', 'London', 'Istanbul', 'Seoul', 'Sydney']\n",
    "city.append('Addis Ababa')\n",
    "print(city)"
   ]
  },
  {
   "cell_type": "code",
   "execution_count": 130,
   "id": "4e1a4b9a",
   "metadata": {},
   "outputs": [
    {
     "name": "stdout",
     "output_type": "stream",
     "text": [
      "[1, 2, 3, 4]\n"
     ]
    }
   ],
   "source": [
    "numbers = []\n",
    "numbers.append(1)\n",
    "numbers.append(2)\n",
    "numbers.append(3)\n",
    "numbers.append(4)\n",
    "\n",
    "print(numbers)"
   ]
  },
  {
   "cell_type": "code",
   "execution_count": null,
   "id": "afb0e025",
   "metadata": {},
   "outputs": [],
   "source": []
  },
  {
   "cell_type": "code",
   "execution_count": null,
   "id": "86b546f3",
   "metadata": {},
   "outputs": [],
   "source": [
    "ls11 = []\n",
    "ls12 = [1,2,3,4,5,6,[7,8]]\n",
    "ls11.append(ls12)\n",
    "print(ls11)\n",
    "print(len(ls11))"
   ]
  },
  {
   "cell_type": "code",
   "execution_count": null,
   "id": "873f6410",
   "metadata": {},
   "outputs": [],
   "source": []
  },
  {
   "cell_type": "code",
   "execution_count": 134,
   "id": "955ac8c0",
   "metadata": {},
   "outputs": [
    {
     "name": "stdout",
     "output_type": "stream",
     "text": [
      "[[1, 2, 3, 4, 5, 6, [7, 8]]]\n",
      "1\n"
     ]
    }
   ],
   "source": [
    "ls11 = []\n",
    "ls12 = [1,2,3,4,5,6,[7,8]]\n",
    "ls11.append(ls12)\n",
    "print(ls11)\n",
    "print(len(ls11))"
   ]
  },
  {
   "cell_type": "code",
   "execution_count": 132,
   "id": "fad3a19c",
   "metadata": {},
   "outputs": [
    {
     "data": {
      "text/plain": [
       "[[1, 2, 3, 4, 5, 6, [7, 8]]]"
      ]
     },
     "execution_count": 132,
     "metadata": {},
     "output_type": "execute_result"
    }
   ],
   "source": [
    "ls11"
   ]
  },
  {
   "cell_type": "code",
   "execution_count": 133,
   "id": "5913d576",
   "metadata": {},
   "outputs": [
    {
     "data": {
      "text/plain": [
       "1"
      ]
     },
     "execution_count": 133,
     "metadata": {},
     "output_type": "execute_result"
    }
   ],
   "source": [
    "len(ls11)"
   ]
  },
  {
   "cell_type": "code",
   "execution_count": 135,
   "id": "ffcf4578",
   "metadata": {},
   "outputs": [
    {
     "name": "stdout",
     "output_type": "stream",
     "text": [
      "['New York', 'London', 'Stockholm', 'Istanbul', 'Seoul', 'Sydney', 'Addis Ababa']\n"
     ]
    }
   ],
   "source": [
    "city = ['New York', 'London', 'Istanbul', 'Seoul', 'Sydney', 'Addis Ababa']\n",
    "city.insert(2, 'Stockholm')\n",
    "\n",
    "print(city)"
   ]
  },
  {
   "cell_type": "code",
   "execution_count": 136,
   "id": "a82ef20c",
   "metadata": {},
   "outputs": [
    {
     "name": "stdout",
     "output_type": "stream",
     "text": [
      "7\n"
     ]
    }
   ],
   "source": [
    "print(len(city))"
   ]
  },
  {
   "cell_type": "code",
   "execution_count": 141,
   "id": "e7e2d4a2",
   "metadata": {},
   "outputs": [
    {
     "name": "stdout",
     "output_type": "stream",
     "text": [
      "[1, 2, 3, 4, 'x']\n"
     ]
    }
   ],
   "source": [
    "lis14 = [1, 2, 3, 4]\n",
    "lis14.insert(30, 'x')\n",
    "print(lis14)\n"
   ]
  },
  {
   "cell_type": "code",
   "execution_count": 142,
   "id": "f1f4fb44",
   "metadata": {},
   "outputs": [
    {
     "data": {
      "text/plain": [
       "[1, 2, 3, 4, 'x']"
      ]
     },
     "execution_count": 142,
     "metadata": {},
     "output_type": "execute_result"
    }
   ],
   "source": [
    "lis14"
   ]
  },
  {
   "cell_type": "code",
   "execution_count": 143,
   "id": "7a828e46",
   "metadata": {},
   "outputs": [
    {
     "data": {
      "text/plain": [
       "'x'"
      ]
     },
     "execution_count": 143,
     "metadata": {},
     "output_type": "execute_result"
    }
   ],
   "source": [
    "lis14[-1]"
   ]
  },
  {
   "cell_type": "code",
   "execution_count": 144,
   "id": "214fcc78",
   "metadata": {},
   "outputs": [
    {
     "data": {
      "text/plain": [
       "[1, 2, 4, 5]"
      ]
     },
     "execution_count": 144,
     "metadata": {},
     "output_type": "execute_result"
    }
   ],
   "source": [
    "list3=[1,2,4]\n",
    "list3.insert(list3[-1],5)\n",
    "list3"
   ]
  },
  {
   "cell_type": "code",
   "execution_count": 145,
   "id": "eec121d3",
   "metadata": {},
   "outputs": [
    {
     "data": {
      "text/plain": [
       "[1, 2, 4, 6]"
      ]
     },
     "execution_count": 145,
     "metadata": {},
     "output_type": "execute_result"
    }
   ],
   "source": [
    "list3=[1,2,4]\n",
    "list3.insert(list3[-1],6)\n",
    "list3"
   ]
  },
  {
   "cell_type": "code",
   "execution_count": 146,
   "id": "9796c10e",
   "metadata": {},
   "outputs": [
    {
     "data": {
      "text/plain": [
       "[1, 2, 4, 6]"
      ]
     },
     "execution_count": 146,
     "metadata": {},
     "output_type": "execute_result"
    }
   ],
   "source": [
    "lis3[-1]=6\n",
    "list3"
   ]
  },
  {
   "cell_type": "code",
   "execution_count": 147,
   "id": "156f826c",
   "metadata": {},
   "outputs": [
    {
     "data": {
      "text/plain": [
       "26"
      ]
     },
     "execution_count": 147,
     "metadata": {},
     "output_type": "execute_result"
    }
   ],
   "source": [
    "lis15 = [1,2,3,4,5,7,5,6,8,3,6,7,3,1234,5,8,8,9,5,4,2,2,4,6,8,4]\n",
    "len(lis15)"
   ]
  },
  {
   "cell_type": "code",
   "execution_count": 152,
   "id": "2847df9c",
   "metadata": {},
   "outputs": [
    {
     "name": "stdout",
     "output_type": "stream",
     "text": [
      "[1, 2, 3, 4, 5, 7, 5, 6, 8, 3, 6, 7, 3, 1234, 5, 8, 8, 9, 5, 4, 2, 2, 4, 6, 8, 4, 777, 777, 777]\n"
     ]
    }
   ],
   "source": [
    "lis15.insert(26,777)\n",
    "print(lis15)"
   ]
  },
  {
   "cell_type": "code",
   "execution_count": 151,
   "id": "1ff41dbb",
   "metadata": {},
   "outputs": [
    {
     "data": {
      "text/plain": [
       "28"
      ]
     },
     "execution_count": 151,
     "metadata": {},
     "output_type": "execute_result"
    }
   ],
   "source": [
    "len(lis15)"
   ]
  },
  {
   "cell_type": "code",
   "execution_count": 153,
   "id": "11f24323",
   "metadata": {},
   "outputs": [
    {
     "name": "stdout",
     "output_type": "stream",
     "text": [
      "[1, 4, 7, 9]\n"
     ]
    }
   ],
   "source": [
    "numbers = [1, 4, 7, 7, 9]  #if there are two number, only one will be remove\n",
    "numbers.remove(7)\n",
    "print(numbers)"
   ]
  },
  {
   "cell_type": "markdown",
   "id": "8239705c",
   "metadata": {},
   "source": [
    "## Sort sayilari veya karakterleri duzgun bir siraya koyar."
   ]
  },
  {
   "cell_type": "code",
   "execution_count": 154,
   "id": "2d8c6567",
   "metadata": {},
   "outputs": [
    {
     "name": "stdout",
     "output_type": "stream",
     "text": [
      "[1, 2, 2, 2, 3, 3, 3, 4, 4, 4, 4, 5, 5, 5, 5, 6, 6, 6, 7, 7, 8, 8, 8, 8, 9, 1234]\n"
     ]
    }
   ],
   "source": [
    "lis16 = [1,2,3,4,5,7,5,6,8,3,6,7,3,1234,5,8,8,9,5,4,2,2,4,6,8,4]\n",
    "lis16.sort()\n",
    "print(lis16)"
   ]
  },
  {
   "cell_type": "code",
   "execution_count": 155,
   "id": "128b2130",
   "metadata": {},
   "outputs": [
    {
     "data": {
      "text/plain": [
       "['ab', 'ab', 'ac', 'ac', 'c', 'ef', 'f', 'k', 'l', 'q', 'r', 't', 'uv', 'y']"
      ]
     },
     "execution_count": 155,
     "metadata": {},
     "output_type": "execute_result"
    }
   ],
   "source": [
    "lis17 = ['q', 'r', 't', 'y', 'f', 'ac', 'ab','c', 'ef', 'uv', 'k', 'l', 'ab', 'ac']\n",
    "lis17.sort()\n",
    "lis17"
   ]
  },
  {
   "cell_type": "code",
   "execution_count": 156,
   "id": "31f6f33c",
   "metadata": {},
   "outputs": [
    {
     "name": "stdout",
     "output_type": "stream",
     "text": [
      "['Addis Ababa', 'Istanbul', 'New York', 'Seoul', 'Stockholm', 'Sydney']\n"
     ]
    }
   ],
   "source": [
    "city = ['New York', 'Stockholm', 'Istanbul', 'Seoul', 'Sydney', 'Addis Ababa']\n",
    "city.sort()\n",
    "print(city)"
   ]
  },
  {
   "cell_type": "code",
   "execution_count": null,
   "id": "d74d8d98",
   "metadata": {},
   "outputs": [],
   "source": [
    "mix_list = ['d', 1, 'a', 7]\n",
    "mix_list.sort()\n",
    "print(mix_list)   #sayi ve harflerin birlikte oldugu 'sort' error verir."
   ]
  },
  {
   "cell_type": "code",
   "execution_count": null,
   "id": "c405105d",
   "metadata": {},
   "outputs": [],
   "source": []
  },
  {
   "cell_type": "code",
   "execution_count": 158,
   "id": "67217d1d",
   "metadata": {},
   "outputs": [
    {
     "name": "stdout",
     "output_type": "stream",
     "text": [
      "['four', 'nine', 'one']\n",
      "['*-', '@', 'False']\n",
      "[False, True]\n",
      "[[-12], [3], [44]]\n",
      "[[-12, 0], [-12, 1], [1, 3], [44, -40]]\n"
     ]
    }
   ],
   "source": [
    "list_1 = ['one', 'four', 'nine']\n",
    "list_1.sort()\n",
    "list_2 = ['@', '*-', 'False']\n",
    "list_2.sort()\n",
    "list_3 = [True, False]\n",
    "list_3.sort()\n",
    "list_4 = [[3], [44], [-12]]\n",
    "list_4.sort()\n",
    "list_5 = [[1, 3], [44, -40], [-12, 1], [-12, 0]]\n",
    "list_5.sort()\n",
    "print(list_1)\n",
    "print(list_2)\n",
    "print(list_3)\n",
    "print(list_4)\n",
    "print(list_5)"
   ]
  },
  {
   "cell_type": "code",
   "execution_count": null,
   "id": "d48e1548",
   "metadata": {},
   "outputs": [],
   "source": []
  },
  {
   "cell_type": "code",
   "execution_count": 159,
   "id": "1f6d538d",
   "metadata": {},
   "outputs": [
    {
     "data": {
      "text/plain": [
       "42"
      ]
     },
     "execution_count": 159,
     "metadata": {},
     "output_type": "execute_result"
    }
   ],
   "source": [
    "ord(\"*\")"
   ]
  },
  {
   "cell_type": "code",
   "execution_count": 160,
   "id": "1747ff1b",
   "metadata": {},
   "outputs": [
    {
     "data": {
      "text/plain": [
       "70"
      ]
     },
     "execution_count": 160,
     "metadata": {},
     "output_type": "execute_result"
    }
   ],
   "source": [
    "ord('F')"
   ]
  },
  {
   "cell_type": "code",
   "execution_count": 161,
   "id": "9e1fcab9",
   "metadata": {},
   "outputs": [
    {
     "data": {
      "text/plain": [
       "64"
      ]
     },
     "execution_count": 161,
     "metadata": {},
     "output_type": "execute_result"
    }
   ],
   "source": [
    "ord('@')"
   ]
  },
  {
   "cell_type": "code",
   "execution_count": 162,
   "id": "1ffbc787",
   "metadata": {},
   "outputs": [
    {
     "data": {
      "text/plain": [
       "102"
      ]
     },
     "execution_count": 162,
     "metadata": {},
     "output_type": "execute_result"
    }
   ],
   "source": [
    "ord('f')"
   ]
  },
  {
   "cell_type": "code",
   "execution_count": 163,
   "id": "b3219206",
   "metadata": {},
   "outputs": [
    {
     "data": {
      "text/plain": [
       "45"
      ]
     },
     "execution_count": 163,
     "metadata": {},
     "output_type": "execute_result"
    }
   ],
   "source": [
    "ord('-')"
   ]
  },
  {
   "cell_type": "code",
   "execution_count": 164,
   "id": "8c8e5de6",
   "metadata": {},
   "outputs": [
    {
     "data": {
      "text/plain": [
       "95"
      ]
     },
     "execution_count": 164,
     "metadata": {},
     "output_type": "execute_result"
    }
   ],
   "source": [
    "ord('_')"
   ]
  },
  {
   "cell_type": "code",
   "execution_count": 165,
   "id": "6f5b0f40",
   "metadata": {},
   "outputs": [
    {
     "data": {
      "text/plain": [
       "55"
      ]
     },
     "execution_count": 165,
     "metadata": {},
     "output_type": "execute_result"
    }
   ],
   "source": [
    "ord('7')"
   ]
  },
  {
   "cell_type": "code",
   "execution_count": 166,
   "id": "2898d23d",
   "metadata": {},
   "outputs": [
    {
     "data": {
      "text/plain": [
       "65"
      ]
     },
     "execution_count": 166,
     "metadata": {},
     "output_type": "execute_result"
    }
   ],
   "source": [
    "ord('A')"
   ]
  },
  {
   "cell_type": "code",
   "execution_count": 168,
   "id": "b146d0cd",
   "metadata": {},
   "outputs": [
    {
     "name": "stdout",
     "output_type": "stream",
     "text": [
      "False\n"
     ]
    }
   ],
   "source": [
    "print(\"xyyzxyzxzxyy\".endswith(\"xyy\", 0, 2))"
   ]
  },
  {
   "cell_type": "code",
   "execution_count": 169,
   "id": "bd0828ea",
   "metadata": {},
   "outputs": [
    {
     "name": "stdout",
     "output_type": "stream",
     "text": [
      "1\n"
     ]
    }
   ],
   "source": [
    "print(\"xyyzxyzxzxyy\".count('yy', 2))"
   ]
  },
  {
   "cell_type": "code",
   "execution_count": 170,
   "id": "a05f6498",
   "metadata": {},
   "outputs": [
    {
     "name": "stdout",
     "output_type": "stream",
     "text": [
      "Welcome   # 111#924.66\n"
     ]
    }
   ],
   "source": [
    "print(format(\"Welcome\", \"10s\"), end = '#')\n",
    "print(format(111, \"4d\"), end = '#')\n",
    "print(format(924.656, \"3.2f\"))"
   ]
  },
  {
   "cell_type": "code",
   "execution_count": 171,
   "id": "370d6057",
   "metadata": {},
   "outputs": [
    {
     "name": "stdout",
     "output_type": "stream",
     "text": [
      "c\n"
     ]
    }
   ],
   "source": [
    "print(chr(ord('b')+1))"
   ]
  },
  {
   "cell_type": "code",
   "execution_count": 172,
   "id": "64e7e521",
   "metadata": {},
   "outputs": [
    {
     "name": "stdout",
     "output_type": "stream",
     "text": [
      "cd\n"
     ]
    }
   ],
   "source": [
    "print(\"abcd\"[2:])"
   ]
  },
  {
   "cell_type": "code",
   "execution_count": 173,
   "id": "5242d785",
   "metadata": {},
   "outputs": [
    {
     "name": "stdout",
     "output_type": "stream",
     "text": [
      " wo\n"
     ]
    }
   ],
   "source": [
    "example = \"snow world\"\n",
    "print(\"%s\" % example[4:7])"
   ]
  },
  {
   "cell_type": "code",
   "execution_count": 175,
   "id": "55cd79f4",
   "metadata": {},
   "outputs": [
    {
     "data": {
      "text/plain": [
       "\"foo'bar\""
      ]
     },
     "execution_count": 175,
     "metadata": {},
     "output_type": "execute_result"
    }
   ],
   "source": [
    "\n",
    "'foo\\'bar'\n"
   ]
  },
  {
   "cell_type": "code",
   "execution_count": 176,
   "id": "2e20b073",
   "metadata": {},
   "outputs": [
    {
     "data": {
      "text/plain": [
       "\"foo'bar\""
      ]
     },
     "execution_count": 176,
     "metadata": {},
     "output_type": "execute_result"
    }
   ],
   "source": [
    "\"foo'bar\"\n"
   ]
  },
  {
   "cell_type": "code",
   "execution_count": 177,
   "id": "9e241cb7",
   "metadata": {},
   "outputs": [
    {
     "ename": "SyntaxError",
     "evalue": "invalid syntax (<ipython-input-177-4ff579c6bbb0>, line 1)",
     "output_type": "error",
     "traceback": [
      "\u001b[0;36m  File \u001b[0;32m\"<ipython-input-177-4ff579c6bbb0>\"\u001b[0;36m, line \u001b[0;32m1\u001b[0m\n\u001b[0;31m    'foo'bar'\u001b[0m\n\u001b[0m         ^\u001b[0m\n\u001b[0;31mSyntaxError\u001b[0m\u001b[0;31m:\u001b[0m invalid syntax\n"
     ]
    }
   ],
   "source": [
    "'foo'bar'\n"
   ]
  },
  {
   "cell_type": "code",
   "execution_count": 178,
   "id": "4c6ac202",
   "metadata": {},
   "outputs": [
    {
     "data": {
      "text/plain": [
       "\"foo'bar\""
      ]
     },
     "execution_count": 178,
     "metadata": {},
     "output_type": "execute_result"
    }
   ],
   "source": [
    "\"\"\"foo'bar\"\"\""
   ]
  },
  {
   "cell_type": "markdown",
   "id": "4b62267b",
   "metadata": {},
   "source": [
    "## Ahmed SESSION 5"
   ]
  },
  {
   "cell_type": "code",
   "execution_count": null,
   "id": "2f0f985f",
   "metadata": {},
   "outputs": [],
   "source": [
    "## Accessing lists "
   ]
  },
  {
   "cell_type": "code",
   "execution_count": null,
   "id": "6ce97404",
   "metadata": {},
   "outputs": [],
   "source": [
    "Indexing a List\n",
    "If we want to access or use the elements of a list, \n",
    "we can do that using index numbers of the list enclosed by square brackets.\n",
    "Avoid ! :\n",
    "Do not start indexing with 1. The first index of the element of a list is 0. We will never stop remembering that!"
   ]
  },
  {
   "cell_type": "code",
   "execution_count": 179,
   "id": "80790da9",
   "metadata": {},
   "outputs": [
    {
     "name": "stdout",
     "output_type": "stream",
     "text": [
      "blue\n"
     ]
    }
   ],
   "source": [
    "colors = ['red', 'purple', 'blue', 'yellow', 'green']\n",
    "print(colors[2])  # If we start at zero, \n",
    "# the second element will be 'blue'."
   ]
  },
  {
   "cell_type": "code",
   "execution_count": 180,
   "id": "66704496",
   "metadata": {},
   "outputs": [
    {
     "name": "stdout",
     "output_type": "stream",
     "text": [
      "[['New York', 'London', 'Istanbul', 'Seoul', 'Sydney']]\n"
     ]
    }
   ],
   "source": [
    "city = ['New York', 'London', 'Istanbul', 'Seoul', 'Sydney']\n",
    "\n",
    "city_list = []\n",
    "city_list.append(city) # we have created a nested list\n",
    "\n",
    "print(city_list)"
   ]
  },
  {
   "cell_type": "code",
   "execution_count": 181,
   "id": "37a0261b",
   "metadata": {},
   "outputs": [
    {
     "name": "stdout",
     "output_type": "stream",
     "text": [
      "5\n",
      "1\n"
     ]
    }
   ],
   "source": [
    "print(len(city))\n",
    "print(len(city_list))"
   ]
  },
  {
   "cell_type": "code",
   "execution_count": 183,
   "id": "7db5a50c",
   "metadata": {},
   "outputs": [],
   "source": [
    "str1=\"My name is NEO\""
   ]
  },
  {
   "cell_type": "code",
   "execution_count": 184,
   "id": "cc8fd2b9",
   "metadata": {},
   "outputs": [
    {
     "data": {
      "text/plain": [
       "'n'"
      ]
     },
     "execution_count": 184,
     "metadata": {},
     "output_type": "execute_result"
    }
   ],
   "source": [
    "str1[3]"
   ]
  },
  {
   "cell_type": "code",
   "execution_count": 185,
   "id": "64956d92",
   "metadata": {},
   "outputs": [
    {
     "data": {
      "text/plain": [
       "5"
      ]
     },
     "execution_count": 185,
     "metadata": {},
     "output_type": "execute_result"
    }
   ],
   "source": [
    "ls1=[1,2,3,4,5]\n",
    "ls1[4]"
   ]
  },
  {
   "cell_type": "code",
   "execution_count": 186,
   "id": "63dff1a1",
   "metadata": {},
   "outputs": [
    {
     "name": "stdout",
     "output_type": "stream",
     "text": [
      "['New York', 'London', 'Istanbul', 'Seoul', 'Sydney']\n"
     ]
    }
   ],
   "source": [
    "city_list = [['New York', 'London', 'Istanbul', 'Seoul', 'Sydney']]\n",
    "print(city_list[0]) # access to first and only element"
   ]
  },
  {
   "cell_type": "code",
   "execution_count": 187,
   "id": "f8840ca3",
   "metadata": {},
   "outputs": [
    {
     "name": "stdout",
     "output_type": "stream",
     "text": [
      "Istanbul\n"
     ]
    }
   ],
   "source": [
    "city_list = [['New York', 'London', 'Istanbul', 'Seoul', 'Sydney']]\n",
    "print(city_list[0][2])"
   ]
  },
  {
   "cell_type": "code",
   "execution_count": 188,
   "id": "37938a0b",
   "metadata": {},
   "outputs": [
    {
     "name": "stdout",
     "output_type": "stream",
     "text": [
      "a\n"
     ]
    }
   ],
   "source": [
    "city_list = [['New York', 'London', 'Istanbul', 'Seoul', 'Sydney']]\n",
    "print(city_list[0][2][3])"
   ]
  },
  {
   "cell_type": "code",
   "execution_count": 189,
   "id": "996d199f",
   "metadata": {},
   "outputs": [
    {
     "name": "stdout",
     "output_type": "stream",
     "text": [
      "n\n"
     ]
    }
   ],
   "source": [
    "city_list = [['New York', 'London', 'Istanbul', 'Seoul', 'Sydney']]\n",
    "print(city_list[0][2][4])"
   ]
  },
  {
   "cell_type": "code",
   "execution_count": 192,
   "id": "74d7e2f1",
   "metadata": {},
   "outputs": [
    {
     "name": "stdout",
     "output_type": "stream",
     "text": [
      "u\n"
     ]
    }
   ],
   "source": [
    "city_list = [['New York', 'London', 'Istanbul', 'Seoul', 'Sydney']]\n",
    "print(city_list[0][3][3])"
   ]
  },
  {
   "cell_type": "code",
   "execution_count": 193,
   "id": "8ae17baa",
   "metadata": {},
   "outputs": [
    {
     "name": "stdout",
     "output_type": "stream",
     "text": [
      "l\n"
     ]
    }
   ],
   "source": [
    "#What will be the output of the following code?\n",
    "\n",
    "fruits = ['apple', 'banana', 'watermelon', 'orange', 'mango', 'avocado']\n",
    "\n",
    "fruit_list = []\n",
    "fruit_list.insert(0, fruits)\n",
    "print(fruit_list[0][2][7])"
   ]
  },
  {
   "cell_type": "code",
   "execution_count": null,
   "id": "f33112d5",
   "metadata": {},
   "outputs": [],
   "source": [
    "Slicing a List\n",
    "We can access individual elements of a list, as well as part of those items. \n",
    "We use index numbers again for slicing but we do it by typing it a little differently. Look at the example :"
   ]
  },
  {
   "cell_type": "code",
   "execution_count": 194,
   "id": "dfead4fe",
   "metadata": {},
   "outputs": [
    {
     "name": "stdout",
     "output_type": "stream",
     "text": [
      "[5, 7, 9]\n"
     ]
    }
   ],
   "source": [
    "numbers = [1, 3, 5, 7, 9, 11, 13, 15, 17]\n",
    "print(numbers[2:5])  # we get the elements from index=2 to index=5(5 is not included)"
   ]
  },
  {
   "cell_type": "code",
   "execution_count": null,
   "id": "fe303999",
   "metadata": {},
   "outputs": [],
   "source": [
    "You can keep in mind the formula syntax below for slicing a sequence. From 'start' to 'stop-1', by 'step'.\n",
    "\n",
    "The formula syntax is : sequence[start:stop:step]\n",
    "\n",
    "This formula produces a slice of the sequence where start is an index of the first element \n",
    "required (the element is included in the slice) and stop is\n",
    "an index of the end element (the element is not included in the slice), \n",
    "step is an interval between elements to be chosen.\n",
    "\n",
    "Now let's apply this formula on a few examples. In this example, we will create a list of numbers \n",
    "from 1 to 10 using 'range()' function and select even ones:"
   ]
  },
  {
   "cell_type": "code",
   "execution_count": 195,
   "id": "0b7ddaa8",
   "metadata": {},
   "outputs": [
    {
     "name": "stdout",
     "output_type": "stream",
     "text": [
      "[0, 1, 2, 3, 4, 5, 6, 7, 8, 9, 10]\n",
      "[0, 2, 4, 6, 8, 10]\n"
     ]
    }
   ],
   "source": [
    "count = list(range(11))\n",
    "print(count)\n",
    "\n",
    "print(count[0:11:2]) # start from zero and count with jumping 2"
   ]
  },
  {
   "cell_type": "code",
   "execution_count": 196,
   "id": "0d15eee9",
   "metadata": {},
   "outputs": [
    {
     "name": "stdout",
     "output_type": "stream",
     "text": [
      "1 2 3 4 5 6 7 8 9\n"
     ]
    }
   ],
   "source": [
    "print(*range(1,10))"
   ]
  },
  {
   "cell_type": "code",
   "execution_count": 199,
   "id": "25be39e6",
   "metadata": {},
   "outputs": [
    {
     "name": "stdout",
     "output_type": "stream",
     "text": [
      "[1, 2, 3, 4, 5, 6, 7, 8, 9, 10]\n"
     ]
    }
   ],
   "source": [
    "lis2=[*range(1,11)]\n",
    "print(lis2)"
   ]
  },
  {
   "cell_type": "code",
   "execution_count": 200,
   "id": "1cf43251",
   "metadata": {},
   "outputs": [
    {
     "data": {
      "text/plain": [
       "[1, 2, 3, 4, 5, 6, 7, 8, 9, 10]"
      ]
     },
     "execution_count": 200,
     "metadata": {},
     "output_type": "execute_result"
    }
   ],
   "source": [
    "lis3=list(range(1,11))\n",
    "lis3"
   ]
  },
  {
   "cell_type": "code",
   "execution_count": null,
   "id": "c04a90d7",
   "metadata": {},
   "outputs": [],
   "source": [
    "The formula syntax is : range(start, stop[, step])\n",
    "\n",
    "Each part of the slice has a default value, so they are optional. \n",
    "If we don't assign a value to the start index, it is considered to be 0; if we don't \n",
    "assign a value to the stop index, it will be the same as the length of the sequence.\n",
    "\n",
    "my_list[:]: returns the full copy of the sequence\n",
    "\n",
    "my_list[start:] : returns elements from start to the end element\n",
    "\n",
    "my_list[:stop] : returns element from the 1st element to stop-1\n",
    "\n",
    "my_list[::step] : returns each element with a given step\n",
    "\n"
   ]
  },
  {
   "cell_type": "code",
   "execution_count": 201,
   "id": "b0f609ad",
   "metadata": {},
   "outputs": [
    {
     "name": "stdout",
     "output_type": "stream",
     "text": [
      "[7, 9, 11]\n"
     ]
    }
   ],
   "source": [
    "numbers = [1, 3, 5, 7, 9, 11, 13, 15, 17]\n",
    "print(numbers[3:6])"
   ]
  },
  {
   "cell_type": "code",
   "execution_count": 202,
   "id": "e5977a61",
   "metadata": {},
   "outputs": [
    {
     "name": "stdout",
     "output_type": "stream",
     "text": [
      "[9, 11, 13, 15, 17]\n"
     ]
    }
   ],
   "source": [
    "numbers = [1, 3, 5, 7, 9, 11, 13, 15, 17]\n",
    "print(numbers[4:9]) #4'ten sonra 5 saga gideceksin"
   ]
  },
  {
   "cell_type": "code",
   "execution_count": 252,
   "id": "77c9aa37",
   "metadata": {},
   "outputs": [
    {
     "ename": "SyntaxError",
     "evalue": "invalid syntax (<ipython-input-252-e393f3ef1c03>, line 2)",
     "output_type": "error",
     "traceback": [
      "\u001b[0;36m  File \u001b[0;32m\"<ipython-input-252-e393f3ef1c03>\"\u001b[0;36m, line \u001b[0;32m2\u001b[0m\n\u001b[0;31m    lis4[*ran1]\u001b[0m\n\u001b[0m         ^\u001b[0m\n\u001b[0;31mSyntaxError\u001b[0m\u001b[0;31m:\u001b[0m invalid syntax\n"
     ]
    }
   ],
   "source": [
    "ran1=range(1,5)\n",
    "lis4[*ran1]\n",
    "lis4"
   ]
  },
  {
   "cell_type": "code",
   "execution_count": 207,
   "id": "16fdc0d4",
   "metadata": {},
   "outputs": [
    {
     "data": {
      "text/plain": [
       "[1, 3, 5, 7, 9]"
      ]
     },
     "execution_count": 207,
     "metadata": {},
     "output_type": "execute_result"
    }
   ],
   "source": [
    "lis4=list(range(1,11,2))  # 1,3,5,7\n",
    "lis4"
   ]
  },
  {
   "cell_type": "code",
   "execution_count": 208,
   "id": "fba7f630",
   "metadata": {},
   "outputs": [
    {
     "data": {
      "text/plain": [
       "[1, 3, 5, 7, 9]"
      ]
     },
     "execution_count": 208,
     "metadata": {},
     "output_type": "execute_result"
    }
   ],
   "source": [
    "lis5=lis3[0::2]  #odd numbers tek sayilar icin 'o' dan baslamak lazim\n",
    "lis5"
   ]
  },
  {
   "cell_type": "code",
   "execution_count": 209,
   "id": "a6102902",
   "metadata": {},
   "outputs": [
    {
     "data": {
      "text/plain": [
       "[2, 4, 6, 8, 10]"
      ]
     },
     "execution_count": 209,
     "metadata": {},
     "output_type": "execute_result"
    }
   ],
   "source": [
    "lis6=lis3[1::2]  #cift sayilar icin bir den baslamak lazim\n",
    "lis6"
   ]
  },
  {
   "cell_type": "code",
   "execution_count": 253,
   "id": "5895faa9",
   "metadata": {},
   "outputs": [
    {
     "data": {
      "text/plain": [
       "[2, 5, 8]"
      ]
     },
     "execution_count": 253,
     "metadata": {},
     "output_type": "execute_result"
    }
   ],
   "source": [
    "lis6=lis3[1::3]  #cift sayilar icin bir den baslamak lazim\n",
    "lis6"
   ]
  },
  {
   "cell_type": "code",
   "execution_count": 254,
   "id": "d427735a",
   "metadata": {},
   "outputs": [
    {
     "data": {
      "text/plain": [
       "[2, 6, 10]"
      ]
     },
     "execution_count": 254,
     "metadata": {},
     "output_type": "execute_result"
    }
   ],
   "source": [
    "lis6=lis3[1::4]  #cift sayilar icin bir den baslamak lazim\n",
    "lis6"
   ]
  },
  {
   "cell_type": "code",
   "execution_count": 255,
   "id": "10cdcf65",
   "metadata": {},
   "outputs": [
    {
     "data": {
      "text/plain": [
       "[4, 6, 8, 10]"
      ]
     },
     "execution_count": 255,
     "metadata": {},
     "output_type": "execute_result"
    }
   ],
   "source": [
    "lis6=lis3[3::2]  #cift sayilar icin bir den baslamak lazim\n",
    "lis6"
   ]
  },
  {
   "cell_type": "code",
   "execution_count": 210,
   "id": "18f5cf27",
   "metadata": {},
   "outputs": [
    {
     "data": {
      "text/plain": [
       "[2, 4, 6, 8, 10]"
      ]
     },
     "execution_count": 210,
     "metadata": {},
     "output_type": "execute_result"
    }
   ],
   "source": [
    "lis7=list(range(2,11,2))\n",
    "lis7"
   ]
  },
  {
   "cell_type": "code",
   "execution_count": null,
   "id": "3129a664",
   "metadata": {},
   "outputs": [],
   "source": [
    "#You can keep in mind the formula syntax below for slicing a sequence.\n",
    "#From 'start' to 'stop-1', by 'step'.\n",
    "\n",
    "#The formula syntax is : sequence[start:stop:step]\n",
    "\n",
    "#This formula produces a slice of the sequence where start is an index of the first element \n",
    "#required (the element is included in the slice) \n",
    "#and stop is an index of the end element (the element is not included in the slice), \n",
    "#step is an interval between elements to be chosen.\n",
    "\n",
    "#Now let's apply this formula on a few examples. \n",
    "#In this example, we will create a list of numbers from 1 to 10 using 'range()' function and select even ones:"
   ]
  },
  {
   "cell_type": "code",
   "execution_count": 256,
   "id": "c9bffb80",
   "metadata": {},
   "outputs": [
    {
     "name": "stdout",
     "output_type": "stream",
     "text": [
      "[0, 1, 2, 3, 4, 5, 6, 7, 8, 9, 10]\n",
      "[0, 2, 4, 6, 8, 10]\n"
     ]
    }
   ],
   "source": [
    "count = list(range(11))\n",
    "print(count)\n",
    "\n",
    "print(count[0:11:2])"
   ]
  },
  {
   "cell_type": "code",
   "execution_count": 257,
   "id": "1ce8359e",
   "metadata": {},
   "outputs": [
    {
     "name": "stdout",
     "output_type": "stream",
     "text": [
      "[0, 1, 2, 3, 4, 5, 6, 7, 8, 9, 10]\n",
      "[0, 3, 6, 9]\n"
     ]
    }
   ],
   "source": [
    "count = list(range(11))\n",
    "print(count)\n",
    "\n",
    "print(count[0:11:3])"
   ]
  },
  {
   "cell_type": "code",
   "execution_count": 258,
   "id": "3951194d",
   "metadata": {},
   "outputs": [
    {
     "name": "stdout",
     "output_type": "stream",
     "text": [
      "[0, 1, 2, 3, 4, 5, 6, 7, 8, 9, 10]\n",
      "[1, 3, 5, 7, 9]\n"
     ]
    }
   ],
   "source": [
    "count = list(range(11))\n",
    "print(count)\n",
    "\n",
    "print(count[1:11:2])"
   ]
  },
  {
   "cell_type": "code",
   "execution_count": 259,
   "id": "2ac199d8",
   "metadata": {},
   "outputs": [
    {
     "name": "stdout",
     "output_type": "stream",
     "text": [
      "[0, 1, 2, 3, 4, 5, 6, 7, 8, 9, 10]\n",
      "[1, 4, 7, 10]\n"
     ]
    }
   ],
   "source": [
    "count = list(range(11))\n",
    "print(count)\n",
    "\n",
    "print(count[1:11:3])"
   ]
  },
  {
   "cell_type": "code",
   "execution_count": 260,
   "id": "3d83260f",
   "metadata": {},
   "outputs": [
    {
     "name": "stdout",
     "output_type": "stream",
     "text": [
      "[0, 1, 2, 3, 4, 5, 6, 7, 8, 9, 10]\n",
      "[]\n"
     ]
    }
   ],
   "source": [
    "count = list(range(11))\n",
    "print(count)\n",
    "\n",
    "print(count[0:11:-2])"
   ]
  },
  {
   "cell_type": "code",
   "execution_count": 263,
   "id": "7547f65e",
   "metadata": {},
   "outputs": [
    {
     "name": "stdout",
     "output_type": "stream",
     "text": [
      "[0, 1, 2, 3, 4, 5, 6, 7, 8, 9, 10]\n",
      "[]\n"
     ]
    }
   ],
   "source": [
    "count = list(range(11))\n",
    "print(count)\n",
    "\n",
    "print(count[0:11:-1])"
   ]
  },
  {
   "cell_type": "code",
   "execution_count": 264,
   "id": "34238ab3",
   "metadata": {},
   "outputs": [
    {
     "name": "stdout",
     "output_type": "stream",
     "text": [
      "[0, 1, 2, 3, 4, 5, 6, 7, 8, 9, 10]\n",
      "[3, 1]\n"
     ]
    }
   ],
   "source": [
    "count = list(range(11))\n",
    "print(count)\n",
    "\n",
    "print(count[-8::-2])"
   ]
  },
  {
   "cell_type": "code",
   "execution_count": 265,
   "id": "e560c029",
   "metadata": {},
   "outputs": [
    {
     "name": "stdout",
     "output_type": "stream",
     "text": [
      "[0, 1, 2, 3, 4, 5, 6, 7, 8, 9, 10]\n",
      "[6, 4, 2, 0]\n"
     ]
    }
   ],
   "source": [
    "count = list(range(11))\n",
    "print(count)\n",
    "\n",
    "print(count[-5::-2])"
   ]
  },
  {
   "cell_type": "code",
   "execution_count": 266,
   "id": "0f08e486",
   "metadata": {},
   "outputs": [
    {
     "name": "stdout",
     "output_type": "stream",
     "text": [
      "[0, 1, 2, 3, 4, 5, 6, 7, 8, 9, 10]\n",
      "[4, 2, 0]\n"
     ]
    }
   ],
   "source": [
    "count = list(range(11))\n",
    "print(count)\n",
    "\n",
    "print(count[-7::-2])"
   ]
  },
  {
   "cell_type": "code",
   "execution_count": 267,
   "id": "ee4b52f3",
   "metadata": {},
   "outputs": [
    {
     "name": "stdout",
     "output_type": "stream",
     "text": [
      "[0, 1, 2, 3, 4, 5, 6, 7, 8, 9, 10]\n",
      "[7, 4, 1]\n"
     ]
    }
   ],
   "source": [
    "count = list(range(11))\n",
    "print(count)\n",
    "\n",
    "print(count[-4::-3])"
   ]
  },
  {
   "cell_type": "code",
   "execution_count": null,
   "id": "a22a4a1d",
   "metadata": {},
   "outputs": [],
   "source": []
  },
  {
   "cell_type": "code",
   "execution_count": 211,
   "id": "b9faec09",
   "metadata": {},
   "outputs": [
    {
     "name": "stdout",
     "output_type": "stream",
     "text": [
      "['elephant', 'bear', 'fox', 'wolf', 'rabbit', 'deer', 'giraffe']\n"
     ]
    }
   ],
   "source": [
    "animals = ['elephant', 'bear', 'fox', 'wolf', 'rabbit', 'deer', 'giraffe']\n",
    "\n",
    "print(animals[:])  # all elements of the list"
   ]
  },
  {
   "cell_type": "code",
   "execution_count": 212,
   "id": "44672b72",
   "metadata": {},
   "outputs": [
    {
     "name": "stdout",
     "output_type": "stream",
     "text": [
      "['wolf', 'rabbit', 'deer', 'giraffe']\n"
     ]
    }
   ],
   "source": [
    "animals = ['elephant', 'bear', 'fox', 'wolf', 'rabbit', 'deer', 'giraffe']\n",
    "print(animals[3:])"
   ]
  },
  {
   "cell_type": "code",
   "execution_count": 213,
   "id": "23052841",
   "metadata": {},
   "outputs": [
    {
     "name": "stdout",
     "output_type": "stream",
     "text": [
      "['elephant', 'bear', 'fox', 'wolf', 'rabbit']\n"
     ]
    }
   ],
   "source": [
    "animals = ['elephant', 'bear', 'fox', 'wolf', 'rabbit', 'deer', 'giraffe']\n",
    "print(animals[:5])"
   ]
  },
  {
   "cell_type": "code",
   "execution_count": null,
   "id": "a32c19a5",
   "metadata": {},
   "outputs": [],
   "source": [
    "### And the last example slices animals starts at index=0 to the end with 2 step.\n",
    "\n"
   ]
  },
  {
   "cell_type": "code",
   "execution_count": 214,
   "id": "ff68dc5d",
   "metadata": {},
   "outputs": [
    {
     "name": "stdout",
     "output_type": "stream",
     "text": [
      "['elephant', 'fox', 'rabbit', 'giraffe']\n"
     ]
    }
   ],
   "source": [
    "animals = ['elephant', 'bear', 'fox', 'wolf', 'rabbit', 'deer', 'giraffe']\n",
    "print(animals[::2])"
   ]
  },
  {
   "cell_type": "code",
   "execution_count": null,
   "id": "6deae9bc",
   "metadata": {},
   "outputs": [],
   "source": [
    "Q: In Python what is slicing?\n",
    "A: A mechanism to select a range of items from sequence types like list, tuple, strings etc. is known as slicing.\n",
    "\n",
    "- Interview Q&A\n"
   ]
  },
  {
   "cell_type": "code",
   "execution_count": 215,
   "id": "d8fd9a88",
   "metadata": {},
   "outputs": [
    {
     "name": "stdout",
     "output_type": "stream",
     "text": [
      "[10, 12, 14, 16, 18]\n"
     ]
    }
   ],
   "source": [
    "#What will be the output of the following code?\n",
    "\n",
    "even_numbers = [2, 4, 6, 8, 10, 12, 14, 16, 18, 20]\n",
    "\n",
    "print(even_numbers[4:9])\n"
   ]
  },
  {
   "cell_type": "code",
   "execution_count": 221,
   "id": "e5498c43",
   "metadata": {},
   "outputs": [
    {
     "name": "stdout",
     "output_type": "stream",
     "text": [
      "[8, 10, 12, 14, 16, 18]\n"
     ]
    }
   ],
   "source": [
    "#What will be the output of the following code?\n",
    "\n",
    "even_numbers = [2, 4, 6, 8, 10, 12, 14, 16, 18, 20]\n",
    "\n",
    "print(even_numbers[3:9])\n"
   ]
  },
  {
   "cell_type": "code",
   "execution_count": 222,
   "id": "ec91bcbe",
   "metadata": {},
   "outputs": [
    {
     "data": {
      "text/plain": [
       "['one', 'two', 'three']"
      ]
     },
     "execution_count": 222,
     "metadata": {},
     "output_type": "execute_result"
    }
   ],
   "source": [
    "#select and print the string typed numbers\n",
    "mix_list=[1,[1,\"one\", 2, \"two\", 3, \"three\"], 4]\n",
    "mix_list[1][1::2]"
   ]
  },
  {
   "cell_type": "code",
   "execution_count": 230,
   "id": "26e62a88",
   "metadata": {},
   "outputs": [
    {
     "data": {
      "text/plain": [
       "['one', 'three']"
      ]
     },
     "execution_count": 230,
     "metadata": {},
     "output_type": "execute_result"
    }
   ],
   "source": [
    "lis8=[1, [[1,\"one\", 3, \"three\"], [[0, 'zero'], 2, \"two\", 4, 'four']], 4]\n",
    "odd=lis8[1][0][1::2]\n",
    "odd"
   ]
  },
  {
   "cell_type": "code",
   "execution_count": 231,
   "id": "6f4c8f2d",
   "metadata": {},
   "outputs": [
    {
     "name": "stdout",
     "output_type": "stream",
     "text": [
      "London\n"
     ]
    }
   ],
   "source": [
    "city = ['New York', 'London', 'Istanbul', 'Seoul', 'Sydney']\n",
    "print(city[-4])"
   ]
  },
  {
   "cell_type": "code",
   "execution_count": 232,
   "id": "df5de8e8",
   "metadata": {},
   "outputs": [
    {
     "name": "stdout",
     "output_type": "stream",
     "text": [
      "['lobster', 'squid', 'octopus']\n"
     ]
    }
   ],
   "source": [
    "reef = ['swordfish', 'shark', 'whale', 'jellyfish', 'lobster', 'squid', 'octopus']\n",
    "print(reef[-3:])"
   ]
  },
  {
   "cell_type": "code",
   "execution_count": 241,
   "id": "47eec1f6",
   "metadata": {},
   "outputs": [
    {
     "name": "stdout",
     "output_type": "stream",
     "text": [
      "['jellyfish', 'lobster', 'squid', 'octopus']\n"
     ]
    }
   ],
   "source": [
    "reef = ['swordfish', 'shark', 'whale', 'jellyfish', 'lobster', 'squid', 'octopus']\n",
    "print(reef[-4:])"
   ]
  },
  {
   "cell_type": "code",
   "execution_count": 242,
   "id": "18f589d2",
   "metadata": {},
   "outputs": [
    {
     "name": "stdout",
     "output_type": "stream",
     "text": [
      "['shark', 'whale', 'jellyfish', 'lobster', 'squid', 'octopus']\n"
     ]
    }
   ],
   "source": [
    "reef = ['swordfish', 'shark', 'whale', 'jellyfish', 'lobster', 'squid', 'octopus']\n",
    "print(reef[-6:])"
   ]
  },
  {
   "cell_type": "code",
   "execution_count": null,
   "id": "226e9426",
   "metadata": {},
   "outputs": [],
   "source": []
  },
  {
   "cell_type": "code",
   "execution_count": 233,
   "id": "671bafef",
   "metadata": {},
   "outputs": [
    {
     "name": "stdout",
     "output_type": "stream",
     "text": [
      "['swordfish', 'shark', 'whale', 'jellyfish']\n"
     ]
    }
   ],
   "source": [
    "reef = ['swordfish', 'shark', 'whale', 'jellyfish', 'lobster', 'squid', 'octopus']\n",
    "print(reef[:-3])"
   ]
  },
  {
   "cell_type": "code",
   "execution_count": 238,
   "id": "293f0e6c",
   "metadata": {},
   "outputs": [
    {
     "name": "stdout",
     "output_type": "stream",
     "text": [
      "[]\n"
     ]
    }
   ],
   "source": [
    "reef = ['swordfish', 'shark', 'whale', 'jellyfish', 'lobster', 'squid', 'octopus']\n",
    "print(reef[-2:-3])"
   ]
  },
  {
   "cell_type": "code",
   "execution_count": 239,
   "id": "919ad3b0",
   "metadata": {},
   "outputs": [
    {
     "name": "stdout",
     "output_type": "stream",
     "text": [
      "['swordfish', 'shark']\n"
     ]
    }
   ],
   "source": [
    "reef = ['swordfish', 'shark', 'whale', 'jellyfish', 'lobster', 'squid', 'octopus']\n",
    "print(reef[:-5])"
   ]
  },
  {
   "cell_type": "code",
   "execution_count": 240,
   "id": "2ec01b8a",
   "metadata": {},
   "outputs": [
    {
     "name": "stdout",
     "output_type": "stream",
     "text": [
      "['swordfish']\n"
     ]
    }
   ],
   "source": [
    "reef = ['swordfish', 'shark', 'whale', 'jellyfish', 'lobster', 'squid', 'octopus']\n",
    "print(reef[:-6])"
   ]
  },
  {
   "cell_type": "code",
   "execution_count": 234,
   "id": "3408f621",
   "metadata": {},
   "outputs": [
    {
     "name": "stdout",
     "output_type": "stream",
     "text": [
      "['lobster', 'jellyfish', 'whale', 'shark', 'swordfish']\n"
     ]
    }
   ],
   "source": [
    "reef = ['swordfish', 'shark', 'whale', 'jellyfish', 'lobster', 'squid', 'octopus']\n",
    "print(reef[-3::-1])"
   ]
  },
  {
   "cell_type": "code",
   "execution_count": 235,
   "id": "9c033fbb",
   "metadata": {},
   "outputs": [
    {
     "name": "stdout",
     "output_type": "stream",
     "text": [
      "['octopus', 'squid', 'lobster', 'jellyfish', 'whale', 'shark', 'swordfish']\n"
     ]
    }
   ],
   "source": [
    "reef = ['swordfish', 'shark', 'whale', 'jellyfish', 'lobster', 'squid', 'octopus']\n",
    "print(reef[::-1])"
   ]
  },
  {
   "cell_type": "code",
   "execution_count": 236,
   "id": "e1862b7d",
   "metadata": {},
   "outputs": [
    {
     "name": "stdout",
     "output_type": "stream",
     "text": [
      "['lobster', 'whale', 'swordfish']\n"
     ]
    }
   ],
   "source": [
    "reef = ['swordfish', 'shark', 'whale', 'jellyfish', 'lobster', 'squid', 'octopus']\n",
    "print(reef[-3::-2])"
   ]
  },
  {
   "cell_type": "code",
   "execution_count": 237,
   "id": "96a5b7b4",
   "metadata": {},
   "outputs": [
    {
     "name": "stdout",
     "output_type": "stream",
     "text": [
      "['lobster', 'shark']\n"
     ]
    }
   ],
   "source": [
    "reef = ['swordfish', 'shark', 'whale', 'jellyfish', 'lobster', 'squid', 'octopus']\n",
    "print(reef[-3::-3])"
   ]
  },
  {
   "cell_type": "code",
   "execution_count": 243,
   "id": "ae7b88f9",
   "metadata": {},
   "outputs": [
    {
     "name": "stdout",
     "output_type": "stream",
     "text": [
      "['jellyfish', 'shark']\n"
     ]
    }
   ],
   "source": [
    "reef = ['swordfish', 'shark', 'whale', 'jellyfish', 'lobster', 'squid', 'octopus']\n",
    "print(reef[-4::-2])"
   ]
  },
  {
   "cell_type": "code",
   "execution_count": 244,
   "id": "d7beabfa",
   "metadata": {},
   "outputs": [
    {
     "name": "stdout",
     "output_type": "stream",
     "text": [
      "['shark', 'swordfish']\n"
     ]
    }
   ],
   "source": [
    "reef = ['swordfish', 'shark', 'whale', 'jellyfish', 'lobster', 'squid', 'octopus']\n",
    "print(reef[-6::-1]) #sondan one dogru '6' ya kadar sayip 6 dahil geri kalanlari include yapacaksin"
   ]
  },
  {
   "cell_type": "code",
   "execution_count": 245,
   "id": "e2c65711",
   "metadata": {},
   "outputs": [
    {
     "name": "stdout",
     "output_type": "stream",
     "text": [
      "['octopus', 'lobster', 'whale', 'swordfish']\n"
     ]
    }
   ],
   "source": [
    "reef = ['swordfish', 'shark', 'whale', 'jellyfish', 'lobster', 'squid', 'octopus']\n",
    "print(reef[::-2])"
   ]
  },
  {
   "cell_type": "code",
   "execution_count": 246,
   "id": "60be8dae",
   "metadata": {},
   "outputs": [
    {
     "name": "stdout",
     "output_type": "stream",
     "text": [
      "[8, 7, 6, 5]\n",
      "[]\n"
     ]
    }
   ],
   "source": [
    "odd_no = [1, 2, 3, 4, 5, 6, 7, 8, 9, 10]\n",
    "\n",
    "print(odd_no[7:3:-1])\n",
    "print(odd_no[2:6:-1])"
   ]
  },
  {
   "cell_type": "code",
   "execution_count": 249,
   "id": "934592d4",
   "metadata": {},
   "outputs": [
    {
     "name": "stdout",
     "output_type": "stream",
     "text": [
      "[8, 7, 6]\n",
      "[]\n"
     ]
    }
   ],
   "source": [
    "odd_no = [1, 2, 3, 4, 5, 6, 7, 8, 9, 10]\n",
    "\n",
    "print(odd_no[7:4:-1])\n",
    "print(odd_no[3:6:-1])"
   ]
  },
  {
   "cell_type": "code",
   "execution_count": null,
   "id": "e906bc88",
   "metadata": {},
   "outputs": [],
   "source": [
    "odd_no = [1, 2, 3, 4, 5, 6, 7, 8, 9, 10]\n",
    "\n",
    "print(odd_no[7:3:-1])\n",
    "print(odd_no[2:6:-1]) #different sequence of flow(yani 2 den baslayip 6 ye gecmis) bu mumkun degil. \n",
    "#Dolayisiyla bos list verir."
   ]
  },
  {
   "cell_type": "code",
   "execution_count": null,
   "id": "ca8a7fe9",
   "metadata": {},
   "outputs": [],
   "source": []
  },
  {
   "cell_type": "code",
   "execution_count": null,
   "id": "eebd1139",
   "metadata": {},
   "outputs": [],
   "source": []
  },
  {
   "cell_type": "code",
   "execution_count": null,
   "id": "b92ea218",
   "metadata": {},
   "outputs": [],
   "source": []
  },
  {
   "cell_type": "code",
   "execution_count": null,
   "id": "961d6646",
   "metadata": {},
   "outputs": [],
   "source": [
    "Q: What does list[::-1] do?\n",
    "A: list[::-1] is used to reverse the order of a sequence of the elements in the list.\n",
    "\n",
    "- Interview Q&A"
   ]
  },
  {
   "cell_type": "code",
   "execution_count": null,
   "id": "c0fb85e8",
   "metadata": {},
   "outputs": [],
   "source": [
    "##Tuples\n",
    "\n",
    "Definitions\n",
    "Up to this section of our lesson, we saw the most used collection types of Python : list. \n",
    "    A tuple is another collection type that can hold multiple data very similar to the list.\n",
    "\n",
    "The most important difference from the list is that the tuple is immutable. \n",
    "Therefore, methods like append() or remove() do not exist in the operations of this type.\n",
    "\n",
    "Tuples are commonly used for small collections of values that will not need to change, such as an IP address and port. If we have unchanged data, we should choose tuples because it is much faster than lists.\n",
    "\n",
    "We used square brackets 👉🏻'[]' to define the lists. In the tuple, normal parentheses 👉🏻'()' are used.\n",
    "\n",
    "The same indexing rules for lists also apply to tuples. Tuples can also be nested and the values \n",
    "can be any valid Python valid."
   ]
  },
  {
   "cell_type": "code",
   "execution_count": null,
   "id": "3c048f22",
   "metadata": {},
   "outputs": [],
   "source": [
    "Q: What is the difference between list and tuple?\n",
    "A:\n",
    "LISTs :\n",
    "\n",
    "Lists are mutable i.e they can be edited.\n",
    "Lists are slower than tuples.\n",
    "Syntax: list_1 = [True, ‘Space’, 20]\n",
    "TUPLEs :\n",
    "Tuples are immutable (tuples are lists which can’t be edited).\n",
    "Tuples are faster than list.\n",
    "Syntax: tup_1 = (True, ‘Space’ , 20)\n",
    "- Interview Q&A"
   ]
  },
  {
   "cell_type": "code",
   "execution_count": 251,
   "id": "e52c38d6",
   "metadata": {},
   "outputs": [],
   "source": [
    "Creating a Tuple\n",
    "A tuple also can be created by enclosing values, separated by commas, in parentheses.\n",
    "\n",
    "You can compare tuple to a case. When you put the data that you want it to not change and close the lid, \n",
    "you can no longer change this data, modify its size and edit it.\n",
    "\n",
    "Let's create a simple empty tuple :\n",
    "\n",
    "empty_tuple = ()"
   ]
  },
  {
   "cell_type": "code",
   "execution_count": 1,
   "id": "0bbe04bf",
   "metadata": {},
   "outputs": [],
   "source": [
    "empty_tuple = ()"
   ]
  },
  {
   "cell_type": "code",
   "execution_count": 2,
   "id": "84856554",
   "metadata": {},
   "outputs": [
    {
     "name": "stdout",
     "output_type": "stream",
     "text": [
      "<class 'tuple'>\n"
     ]
    }
   ],
   "source": [
    "empty_tuple = ()\n",
    "print(type(empty_tuple))"
   ]
  },
  {
   "cell_type": "code",
   "execution_count": 45,
   "id": "bb469d44",
   "metadata": {},
   "outputs": [
    {
     "name": "stdout",
     "output_type": "stream",
     "text": [
      "<class 'list'>\n"
     ]
    }
   ],
   "source": [
    "empty_tuple = []\n",
    "print(type(empty_tuple))"
   ]
  },
  {
   "cell_type": "code",
   "execution_count": 3,
   "id": "d62733f2",
   "metadata": {},
   "outputs": [
    {
     "name": "stdout",
     "output_type": "stream",
     "text": [
      "love\n",
      "<class 'str'>\n"
     ]
    }
   ],
   "source": [
    "try_tuple = ('love')\n",
    "\n",
    "print(try_tuple)\n",
    "\n",
    "print(type(try_tuple)) # it's not tuple type."
   ]
  },
  {
   "cell_type": "code",
   "execution_count": 4,
   "id": "7535c848",
   "metadata": {},
   "outputs": [
    {
     "name": "stdout",
     "output_type": "stream",
     "text": [
      "('love',)\n",
      "<class 'tuple'>\n"
     ]
    }
   ],
   "source": [
    "try_tuple = ('love',)\n",
    "\n",
    "print(try_tuple)\n",
    "\n",
    "print(type(try_tuple)) # it's a tuple type. virgul ve nokta varsa tuple donusur."
   ]
  },
  {
   "cell_type": "code",
   "execution_count": null,
   "id": "5c467cee",
   "metadata": {},
   "outputs": [],
   "source": [
    "Actually, if your tuple contains more than one element, separating elements with commas will be enough.\n",
    "Another way to create a tuple is to call the tuple() function. You do this when you want to create a \n",
    "tuple from an iterable object: \n",
    "that is, a type of object whose elements you can import individually.\n",
    "\n",
    "The tuple is also iterable like other collections and string types. \n",
    "Let's create another tuple using tuple() function. With this function, you can create an empty tuple as well."
   ]
  },
  {
   "cell_type": "code",
   "execution_count": 5,
   "id": "ef93a2c7",
   "metadata": {},
   "outputs": [
    {
     "name": "stdout",
     "output_type": "stream",
     "text": [
      "('mercury', 'jupiter', 'saturn')\n",
      "<class 'tuple'>\n"
     ]
    }
   ],
   "source": [
    "planets = 'mercury', 'jupiter', 'saturn'\n",
    "\n",
    "print(planets)\n",
    "print(type(planets))"
   ]
  },
  {
   "cell_type": "code",
   "execution_count": 46,
   "id": "9f069797",
   "metadata": {},
   "outputs": [
    {
     "name": "stdout",
     "output_type": "stream",
     "text": [
      "('mercury', 'jupiter', 'saturn')\n",
      "<class 'tuple'>\n"
     ]
    }
   ],
   "source": [
    "planets = ('mercury', 'jupiter', 'saturn') # iki ornekte oldugu gibi parentez olsun olmasin virgul konuldugu surece'tuple' donusur\n",
    "\n",
    "print(planets)\n",
    "print(type(planets))"
   ]
  },
  {
   "cell_type": "code",
   "execution_count": 47,
   "id": "230ae574",
   "metadata": {},
   "outputs": [
    {
     "name": "stdout",
     "output_type": "stream",
     "text": [
      "['mercury', 'jupiter', 'saturn']\n",
      "<class 'list'>\n"
     ]
    }
   ],
   "source": [
    "planets = ['mercury', 'jupiter', 'saturn'] # kapali parenthes, list formatina donusur.\n",
    "\n",
    "print(planets)\n",
    "print(type(planets))"
   ]
  },
  {
   "cell_type": "code",
   "execution_count": null,
   "id": "889461a0",
   "metadata": {},
   "outputs": [],
   "source": []
  },
  {
   "cell_type": "code",
   "execution_count": 6,
   "id": "69b3283a",
   "metadata": {},
   "outputs": [
    {
     "name": "stdout",
     "output_type": "stream",
     "text": [
      "()\n",
      "<class 'tuple'>\n"
     ]
    }
   ],
   "source": [
    "empty_tuple_1 = tuple()\n",
    "\n",
    "print(empty_tuple_1)\n",
    "print(type(empty_tuple_1))"
   ]
  },
  {
   "cell_type": "code",
   "execution_count": 7,
   "id": "a81e7c10",
   "metadata": {},
   "outputs": [
    {
     "data": {
      "text/plain": [
       "(1, 2, 3, 4, 5)"
      ]
     },
     "execution_count": 7,
     "metadata": {},
     "output_type": "execute_result"
    }
   ],
   "source": [
    "ls15=[1,2,3,4,5]\n",
    "tup1=tuple(ls15)\n",
    "tup1"
   ]
  },
  {
   "cell_type": "code",
   "execution_count": null,
   "id": "590ef5b4",
   "metadata": {},
   "outputs": [],
   "source": []
  },
  {
   "cell_type": "code",
   "execution_count": null,
   "id": "8e09d929",
   "metadata": {},
   "outputs": [],
   "source": []
  },
  {
   "cell_type": "code",
   "execution_count": 8,
   "id": "e75c7ee2",
   "metadata": {},
   "outputs": [
    {
     "data": {
      "text/plain": [
       "[6, 7, 8, 9]"
      ]
     },
     "execution_count": 8,
     "metadata": {},
     "output_type": "execute_result"
    }
   ],
   "source": [
    "tup2=(6,7,8,9)\n",
    "ls16=list(tup2)\n",
    "ls16"
   ]
  },
  {
   "cell_type": "code",
   "execution_count": 9,
   "id": "2ac9240a",
   "metadata": {},
   "outputs": [
    {
     "name": "stdout",
     "output_type": "stream",
     "text": [
      "<class 'list'> [1, 4, 3, 4, 5, 6, 7, 4]\n"
     ]
    }
   ],
   "source": [
    "my_tuple=(1, 4, 3, 4, 5, 6, 7, 4)\n",
    "\n",
    "my_list = list(my_tuple)\n",
    "\n",
    "print(type(my_list), my_list)"
   ]
  },
  {
   "cell_type": "code",
   "execution_count": null,
   "id": "3389c857",
   "metadata": {},
   "outputs": [],
   "source": []
  },
  {
   "cell_type": "code",
   "execution_count": null,
   "id": "ac1fdf1a",
   "metadata": {},
   "outputs": [],
   "source": []
  },
  {
   "cell_type": "code",
   "execution_count": 10,
   "id": "e86a83ec",
   "metadata": {},
   "outputs": [
    {
     "name": "stdout",
     "output_type": "stream",
     "text": [
      "<class 'tuple'> (1, 4, 3, 4, 5, 6, 7, 4)\n"
     ]
    }
   ],
   "source": [
    "my_list = [1, 4, 3, 4, 5, 6, 7, 4]\n",
    "\n",
    "my_tuple = tuple(my_list)\n",
    "\n",
    "print(type(my_tuple), my_tuple)"
   ]
  },
  {
   "cell_type": "code",
   "execution_count": 11,
   "id": "c400b3c1",
   "metadata": {},
   "outputs": [
    {
     "name": "stdout",
     "output_type": "stream",
     "text": [
      "('A', 'l', 'p', 's')\n"
     ]
    }
   ],
   "source": [
    "mountain = tuple('Alps')\n",
    "print(mountain) "
   ]
  },
  {
   "cell_type": "code",
   "execution_count": 12,
   "id": "c72854a7",
   "metadata": {},
   "outputs": [
    {
     "name": "stdout",
     "output_type": "stream",
     "text": [
      "('h', 'a', 'p', 'p', 'y')\n",
      "<class 'tuple'>\n",
      "(1, 3, 5)\n"
     ]
    }
   ],
   "source": [
    "tuple_1='h','a','p','p','y'\n",
    "tuple_2=1,3,5\n",
    "print(tuple_1)\n",
    "print(type(tuple_1))\n",
    "print(tuple_2)"
   ]
  },
  {
   "cell_type": "code",
   "execution_count": 13,
   "id": "7a846c3e",
   "metadata": {},
   "outputs": [
    {
     "data": {
      "text/plain": [
       "(1, 2, 3, 4, 5, 6, 7, 8, 9, 10)"
      ]
     },
     "execution_count": 13,
     "metadata": {},
     "output_type": "execute_result"
    }
   ],
   "source": [
    "tup3=tuple(range(1,11))\n",
    "tup3"
   ]
  },
  {
   "cell_type": "code",
   "execution_count": null,
   "id": "e80922f1",
   "metadata": {},
   "outputs": [],
   "source": []
  },
  {
   "cell_type": "code",
   "execution_count": null,
   "id": "3c4059b5",
   "metadata": {},
   "outputs": [],
   "source": []
  },
  {
   "cell_type": "code",
   "execution_count": null,
   "id": "915626ad",
   "metadata": {},
   "outputs": [],
   "source": [
    "How can We Use a Tuple ?\n",
    "If you want, let's take a look at the common features of the list and tuple. \n",
    "So you can have an idea of what to do with tuples.\n",
    "\n",
    "Both lists and tuples are ordered. It means that when storing elements to these containers, \n",
    "you can sure that their order will remain the same. \n",
    "You can also duplicate values or mix different data types in tuples."
   ]
  },
  {
   "cell_type": "code",
   "execution_count": 14,
   "id": "ffa423b3",
   "metadata": {},
   "outputs": [
    {
     "name": "stdout",
     "output_type": "stream",
     "text": [
      "4\n"
     ]
    }
   ],
   "source": [
    "mix_value_tuple = (0, 'bird', 3.14, True)\n",
    "\n",
    "print(len(mix_value_tuple))\n"
   ]
  },
  {
   "cell_type": "code",
   "execution_count": null,
   "id": "1fd3dc51",
   "metadata": {},
   "outputs": [],
   "source": [
    "even_no = (0, 2, 4)\n",
    "print(even_no[0])    \n",
    "print(even_no[1])    \n",
    "print(even_no[2])   \n",
    "print(even_no[3])  \n",
    "\n",
    "#tuple index out of range. it gives error\n",
    "And one of the most important differences of tuples from lists is that 'tuple' object does not \n",
    "support item assignment. Yes, because tuple is immutable. See the example :\n",
    "\n",
    "\n"
   ]
  },
  {
   "cell_type": "code",
   "execution_count": 16,
   "id": "6184829d",
   "metadata": {},
   "outputs": [
    {
     "name": "stdout",
     "output_type": "stream",
     "text": [
      "['Athens', 'Cairo', 'Moskow', 'Dublin']\n"
     ]
    }
   ],
   "source": [
    "city_list = ['Tokyo', 'Istanbul', 'Moskow', 'Dublin'] #replace by their index number\n",
    "\n",
    "city_list[0] = 'Athens'\n",
    "city_list[1] = 'Cairo'\n",
    "print(city_list)"
   ]
  },
  {
   "cell_type": "code",
   "execution_count": null,
   "id": "44b7e5ab",
   "metadata": {},
   "outputs": [],
   "source": [
    "city_list = ['Tokyo', 'Istanbul', 'Moskow', 'Dublin']\n",
    "\n",
    "city_tuple = tuple(city_list)\n",
    "\n",
    "city_tuple[0] = 'New York'  # you can't assign a value and it gives error. You can reassign it again."
   ]
  },
  {
   "cell_type": "code",
   "execution_count": null,
   "id": "c8bdd47c",
   "metadata": {},
   "outputs": [],
   "source": []
  },
  {
   "cell_type": "code",
   "execution_count": null,
   "id": "827308d9",
   "metadata": {},
   "outputs": [],
   "source": [
    "Benefits of Immutability\n",
    "Let's take a look at the basic advantages of tuples :\n",
    "\n",
    "Tuples are faster and more powerful in-memory than lists. \n",
    "You should give it a thought whenever you need to deal with large amounts of data. \n",
    "If you don't want to change your data you may have to choose tuples.\n",
    "\n",
    "Because of its immutability, the data stored in a tuple can not be altered by mistake.\n",
    "\n",
    "A tuple can be used as a dictionary (we will see in the next lesson) key,\n",
    "while 'TypeError' can result in lists as keys. And this is the usefulness of tuples in the data processing."
   ]
  },
  {
   "cell_type": "code",
   "execution_count": null,
   "id": "c9199fc4",
   "metadata": {},
   "outputs": [],
   "source": [
    "Select and print the vegetables from the following list using indexing and slicing methods. Note that, \n",
    "except from the given list (grocer), your program must consist of a single line of code.\n",
    "\n",
    "\n",
    "grocer = [\"banana\", [\"orange\", [\"apple\", \"eggplant\", \"melon\", \"spinach\", \"cheese\", \"leek\" ], \"water\"], \"mandarin\"]\n"
   ]
  },
  {
   "cell_type": "code",
   "execution_count": null,
   "id": "f6a9e685",
   "metadata": {},
   "outputs": [],
   "source": [
    "input: print(list_name[1][2:5:2])\n",
    "\n",
    "output:['item1', 'item2']"
   ]
  },
  {
   "cell_type": "code",
   "execution_count": 18,
   "id": "03a47fa8",
   "metadata": {},
   "outputs": [
    {
     "name": "stdout",
     "output_type": "stream",
     "text": [
      "['eggplant', 'spinach', 'leek']\n"
     ]
    }
   ],
   "source": [
    "grocer = [\"banana\", [\"orange\", [\"apple\", \"eggplant\", \"melon\", \"spinach\", \"cheese\", \"leek\" ], \"water\"], \"mandarin\"]\n",
    "\n",
    "print(grocer[1][1][1:6:2])"
   ]
  },
  {
   "cell_type": "code",
   "execution_count": 55,
   "id": "8a208313",
   "metadata": {},
   "outputs": [
    {
     "name": "stdout",
     "output_type": "stream",
     "text": [
      "['eggplant', 'spinach']\n"
     ]
    }
   ],
   "source": [
    "grocer = [\"banana\", [\"orange\", [\"apple\", \"eggplant\", \"melon\", \"spinach\", \"cheese\", \"leek\" ], \"water\"], \"mandarin\"]\n",
    "\n",
    "print(grocer[1][1][1:4:2])"
   ]
  },
  {
   "cell_type": "code",
   "execution_count": 56,
   "id": "eb51a765",
   "metadata": {},
   "outputs": [
    {
     "name": "stdout",
     "output_type": "stream",
     "text": [
      "['melon', 'cheese']\n"
     ]
    }
   ],
   "source": [
    "grocer = [\"banana\", [\"orange\", [\"apple\", \"eggplant\", \"melon\", \"spinach\", \"cheese\", \"leek\" ], \"water\"], \"mandarin\"]\n",
    "\n",
    "print(grocer[1][1][2:6:2])"
   ]
  },
  {
   "cell_type": "code",
   "execution_count": 57,
   "id": "3ec8198e",
   "metadata": {},
   "outputs": [
    {
     "name": "stdout",
     "output_type": "stream",
     "text": [
      "['spinach', 'leek']\n"
     ]
    }
   ],
   "source": [
    "grocer = [\"banana\", [\"orange\", [\"apple\", \"eggplant\", \"melon\", \"spinach\", \"cheese\", \"leek\" ], \"water\"], \"mandarin\"]\n",
    "\n",
    "print(grocer[1][1][3:6:2])"
   ]
  },
  {
   "cell_type": "code",
   "execution_count": 58,
   "id": "a2edaa44",
   "metadata": {},
   "outputs": [
    {
     "name": "stdout",
     "output_type": "stream",
     "text": [
      "['4', '6', '8']\n"
     ]
    }
   ],
   "source": [
    "numbers = [\"1\", [\"2\", [\"3\", \"4\", \"5\", \"6\", \"7\", \"8\" ], \"9\"], \"10\"]\n",
    "\n",
    "print(numbers[1][1][1:6:2])"
   ]
  },
  {
   "cell_type": "code",
   "execution_count": 59,
   "id": "9b27f0d8",
   "metadata": {},
   "outputs": [
    {
     "name": "stdout",
     "output_type": "stream",
     "text": [
      "[]\n"
     ]
    }
   ],
   "source": [
    "numbers = [\"1\", [\"2\", [\"3\", \"4\", \"5\", \"6\", \"7\", \"8\" ], \"9\"], \"10\"]\n",
    "\n",
    "print(numbers[1][1][1:6:-2])"
   ]
  },
  {
   "cell_type": "code",
   "execution_count": 60,
   "id": "9ff2c7aa",
   "metadata": {},
   "outputs": [
    {
     "name": "stdout",
     "output_type": "stream",
     "text": [
      "['4', '6']\n"
     ]
    }
   ],
   "source": [
    "numbers = [\"1\", [\"2\", [\"3\", \"4\", \"5\", \"6\", \"7\", \"8\" ], \"9\"], \"10\"]\n",
    "\n",
    "print(numbers[1][1][1:5:2])"
   ]
  },
  {
   "cell_type": "code",
   "execution_count": null,
   "id": "662d201d",
   "metadata": {},
   "outputs": [],
   "source": []
  },
  {
   "cell_type": "code",
   "execution_count": 19,
   "id": "a8236098",
   "metadata": {},
   "outputs": [
    {
     "name": "stdout",
     "output_type": "stream",
     "text": [
      "['eggplant', 'spinach']\n"
     ]
    }
   ],
   "source": [
    "grocer = [\"banana\", [\"orange\", [\"apple\", \"eggplant\", \"melon\", \"spinach\", \"cheese\", \"leek\" ], \"water\"], \"mandarin\"]\n",
    "\n",
    "print(grocer[1][1][1:5:2])"
   ]
  },
  {
   "cell_type": "code",
   "execution_count": 61,
   "id": "bc27fc00",
   "metadata": {},
   "outputs": [
    {
     "name": "stdout",
     "output_type": "stream",
     "text": [
      "('Solar',)\n",
      "<class 'tuple'>\n"
     ]
    }
   ],
   "source": [
    "my_tuple = ('Solar',)\n",
    "print(my_tuple, type(my_tuple), sep='\\n')"
   ]
  },
  {
   "cell_type": "code",
   "execution_count": 62,
   "id": "3387c53f",
   "metadata": {},
   "outputs": [
    {
     "name": "stdout",
     "output_type": "stream",
     "text": [
      "Solar\n",
      "<class 'str'>\n"
     ]
    }
   ],
   "source": [
    "my_tuple = ('Solar') \n",
    "print(my_tuple, type(my_tuple), sep='\\n')"
   ]
  },
  {
   "cell_type": "code",
   "execution_count": 63,
   "id": "472fe881",
   "metadata": {},
   "outputs": [
    {
     "name": "stdout",
     "output_type": "stream",
     "text": [
      "('Earth', 'Venus', 'Uranus')\n",
      "<class 'tuple'>\n"
     ]
    }
   ],
   "source": [
    "solar = 'Earth', 'Venus', 'Uranus'\n",
    "print(solar, type(solar), sep='\\n')"
   ]
  },
  {
   "cell_type": "code",
   "execution_count": 64,
   "id": "6b042a5d",
   "metadata": {},
   "outputs": [
    {
     "data": {
      "text/plain": [
       "'six'"
      ]
     },
     "execution_count": 64,
     "metadata": {},
     "output_type": "execute_result"
    }
   ],
   "source": [
    "mix_tuple = ('11', 11, [2, 'two', ('six', 6)], (5, 'fair')) #burada ilk olarak uc bolum var. altiya gitmek icin\n",
    "#parentez icini tekrardan saymamiz gerek 'six' -->once general count, second identified parenthesis and start from'o'\n",
    "str_six = mix_tuple[2][2][0]\n",
    "str_six"
   ]
  },
  {
   "cell_type": "code",
   "execution_count": 134,
   "id": "b132f246",
   "metadata": {},
   "outputs": [
    {
     "data": {
      "text/plain": [
       "('11', 11, [2, 'two', ('six', 6)], (5, 'fair'))"
      ]
     },
     "execution_count": 134,
     "metadata": {},
     "output_type": "execute_result"
    }
   ],
   "source": [
    "mix_tuple\n"
   ]
  },
  {
   "cell_type": "code",
   "execution_count": 135,
   "id": "c5c88b25",
   "metadata": {},
   "outputs": [
    {
     "data": {
      "text/plain": [
       "list"
      ]
     },
     "execution_count": 135,
     "metadata": {},
     "output_type": "execute_result"
    }
   ],
   "source": [
    "type(mix_tuple[2])   # burda ikide olan sayilar [] parentez oldugundan list olur"
   ]
  },
  {
   "cell_type": "code",
   "execution_count": 136,
   "id": "35cdf07a",
   "metadata": {},
   "outputs": [
    {
     "data": {
      "text/plain": [
       "tuple"
      ]
     },
     "execution_count": 136,
     "metadata": {},
     "output_type": "execute_result"
    }
   ],
   "source": [
    "type(mix_tuple[3])   # ucte kine bakarsiniz () normal parenthez oldugundan 'tuple' our"
   ]
  },
  {
   "cell_type": "code",
   "execution_count": 139,
   "id": "644a5044",
   "metadata": {},
   "outputs": [
    {
     "data": {
      "text/plain": [
       "('11', 11, [2, 'two', ('six', 6), False], (5, 'fair'))"
      ]
     },
     "execution_count": 139,
     "metadata": {},
     "output_type": "execute_result"
    }
   ],
   "source": [
    "mix_tuple[2].append(False)      #\n",
    "mix_tuple"
   ]
  },
  {
   "cell_type": "code",
   "execution_count": 145,
   "id": "8ef0f8f4",
   "metadata": {},
   "outputs": [],
   "source": [
    "mix_tuple[2][1]='TWO'  #tupele degistirme yontemi."
   ]
  },
  {
   "cell_type": "code",
   "execution_count": 146,
   "id": "3c86dc0b",
   "metadata": {},
   "outputs": [
    {
     "data": {
      "text/plain": [
       "('11', 11, [2, 'TWO', ('six', 6), False], (5, 'fair'))"
      ]
     },
     "execution_count": 146,
     "metadata": {},
     "output_type": "execute_result"
    }
   ],
   "source": [
    "mix_tuple"
   ]
  },
  {
   "cell_type": "code",
   "execution_count": 70,
   "id": "bbade1c0",
   "metadata": {},
   "outputs": [
    {
     "data": {
      "text/plain": [
       "'t'"
      ]
     },
     "execution_count": 70,
     "metadata": {},
     "output_type": "execute_result"
    }
   ],
   "source": [
    "mix_tuple = ('11', 11, [2, 'two', ('six', 6)], (5, 'fair'))\n",
    "str_six = mix_tuple[2][1][0]\n",
    "str_six"
   ]
  },
  {
   "cell_type": "code",
   "execution_count": 71,
   "id": "94b11e70",
   "metadata": {},
   "outputs": [
    {
     "data": {
      "text/plain": [
       "'w'"
      ]
     },
     "execution_count": 71,
     "metadata": {},
     "output_type": "execute_result"
    }
   ],
   "source": [
    "mix_tuple = ('11', 11, [2, 'two', ('six', 6)], (5, 'fair'))\n",
    "str_six = mix_tuple[2][1][1]\n",
    "str_six"
   ]
  },
  {
   "cell_type": "code",
   "execution_count": 72,
   "id": "bc18968e",
   "metadata": {},
   "outputs": [
    {
     "data": {
      "text/plain": [
       "'o'"
      ]
     },
     "execution_count": 72,
     "metadata": {},
     "output_type": "execute_result"
    }
   ],
   "source": [
    "mix_tuple = ('11', 11, [2, 'two', ('six', 6)], (5, 'fair'))\n",
    "str_six = mix_tuple[2][1][2]\n",
    "str_six"
   ]
  },
  {
   "cell_type": "code",
   "execution_count": 73,
   "id": "c4656ac4",
   "metadata": {},
   "outputs": [
    {
     "ename": "IndexError",
     "evalue": "string index out of range",
     "output_type": "error",
     "traceback": [
      "\u001b[0;31m---------------------------------------------------------------------------\u001b[0m",
      "\u001b[0;31mIndexError\u001b[0m                                Traceback (most recent call last)",
      "\u001b[0;32m<ipython-input-73-18c7deed3881>\u001b[0m in \u001b[0;36m<module>\u001b[0;34m\u001b[0m\n\u001b[1;32m      1\u001b[0m \u001b[0mmix_tuple\u001b[0m \u001b[0;34m=\u001b[0m \u001b[0;34m(\u001b[0m\u001b[0;34m'11'\u001b[0m\u001b[0;34m,\u001b[0m \u001b[0;36m11\u001b[0m\u001b[0;34m,\u001b[0m \u001b[0;34m[\u001b[0m\u001b[0;36m2\u001b[0m\u001b[0;34m,\u001b[0m \u001b[0;34m'two'\u001b[0m\u001b[0;34m,\u001b[0m \u001b[0;34m(\u001b[0m\u001b[0;34m'six'\u001b[0m\u001b[0;34m,\u001b[0m \u001b[0;36m6\u001b[0m\u001b[0;34m)\u001b[0m\u001b[0;34m]\u001b[0m\u001b[0;34m,\u001b[0m \u001b[0;34m(\u001b[0m\u001b[0;36m5\u001b[0m\u001b[0;34m,\u001b[0m \u001b[0;34m'fair'\u001b[0m\u001b[0;34m)\u001b[0m\u001b[0;34m)\u001b[0m\u001b[0;34m\u001b[0m\u001b[0;34m\u001b[0m\u001b[0m\n\u001b[0;32m----> 2\u001b[0;31m \u001b[0mstr_six\u001b[0m \u001b[0;34m=\u001b[0m \u001b[0mmix_tuple\u001b[0m\u001b[0;34m[\u001b[0m\u001b[0;36m2\u001b[0m\u001b[0;34m]\u001b[0m\u001b[0;34m[\u001b[0m\u001b[0;36m1\u001b[0m\u001b[0;34m]\u001b[0m\u001b[0;34m[\u001b[0m\u001b[0;36m3\u001b[0m\u001b[0;34m]\u001b[0m\u001b[0;34m\u001b[0m\u001b[0;34m\u001b[0m\u001b[0m\n\u001b[0m\u001b[1;32m      3\u001b[0m \u001b[0mstr_six\u001b[0m\u001b[0;34m\u001b[0m\u001b[0;34m\u001b[0m\u001b[0m\n",
      "\u001b[0;31mIndexError\u001b[0m: string index out of range"
     ]
    }
   ],
   "source": [
    "mix_tuple = ('11', 11, [2, 'two', ('six', 6)], (5, 'fair'))\n",
    "str_six = mix_tuple[2][1][3]\n",
    "str_six"
   ]
  },
  {
   "cell_type": "code",
   "execution_count": 74,
   "id": "bc6b4d0f",
   "metadata": {},
   "outputs": [
    {
     "data": {
      "text/plain": [
       "'six'"
      ]
     },
     "execution_count": 74,
     "metadata": {},
     "output_type": "execute_result"
    }
   ],
   "source": [
    "mix_tuple = ('11', 11, [2, 'two', ('six', 6)], (5, 'fair'))\n",
    "str_six = mix_tuple[2][2][0]\n",
    "str_six"
   ]
  },
  {
   "cell_type": "code",
   "execution_count": 76,
   "id": "3004a48d",
   "metadata": {},
   "outputs": [
    {
     "data": {
      "text/plain": [
       "6"
      ]
     },
     "execution_count": 76,
     "metadata": {},
     "output_type": "execute_result"
    }
   ],
   "source": [
    "mix_tuple = ('11', 11, [2, 'two', ('six', 6)], (5, 'fair'))\n",
    "str_six = mix_tuple[2][2][1]\n",
    "str_six"
   ]
  },
  {
   "cell_type": "code",
   "execution_count": null,
   "id": "a66286a9",
   "metadata": {},
   "outputs": [],
   "source": []
  },
  {
   "cell_type": "code",
   "execution_count": 77,
   "id": "37c96e80",
   "metadata": {},
   "outputs": [
    {
     "name": "stdout",
     "output_type": "stream",
     "text": [
      "['two', ('six', 6)]\n",
      "<class 'list'>\n"
     ]
    }
   ],
   "source": [
    "mix_tuple = ('11', 11, [2, 'two', ('six', 6)], (5, 'fair'))\n",
    "str_six = mix_tuple[2][1:]\n",
    "print(str_six, type(str_six), sep='\\n')"
   ]
  },
  {
   "cell_type": "code",
   "execution_count": 78,
   "id": "cfbda005",
   "metadata": {},
   "outputs": [
    {
     "name": "stdout",
     "output_type": "stream",
     "text": [
      "('fair',)\n",
      "<class 'tuple'>\n"
     ]
    }
   ],
   "source": [
    "mix_tuple = ('11', 11, [2, 'two', ('six', 6)], (5, 'fair'))\n",
    "str_six = mix_tuple[3][1:]\n",
    "print(str_six, type(str_six), sep='\\n')"
   ]
  },
  {
   "cell_type": "code",
   "execution_count": 81,
   "id": "2a76e79c",
   "metadata": {},
   "outputs": [
    {
     "name": "stdout",
     "output_type": "stream",
     "text": [
      "fair\n",
      "<class 'str'>\n"
     ]
    }
   ],
   "source": [
    "mix_tuple = ('11', 11, [2, 'two', ('six', 6)], (5, 'fair'))\n",
    "str_six = mix_tuple[-1][-1]\n",
    "print(str_six, type(str_six), sep='\\n')"
   ]
  },
  {
   "cell_type": "code",
   "execution_count": 82,
   "id": "36d85329",
   "metadata": {},
   "outputs": [
    {
     "name": "stdout",
     "output_type": "stream",
     "text": [
      "5\n",
      "<class 'int'>\n"
     ]
    }
   ],
   "source": [
    "mix_tuple = ('11', 11, [2, 'two', ('six', 6)], (5, 'fair'))\n",
    "str_six = mix_tuple[-1][-2]\n",
    "print(str_six, type(str_six), sep='\\n')"
   ]
  },
  {
   "cell_type": "code",
   "execution_count": 84,
   "id": "61b4cf48",
   "metadata": {},
   "outputs": [
    {
     "name": "stdout",
     "output_type": "stream",
     "text": [
      "2\n",
      "<class 'int'>\n"
     ]
    }
   ],
   "source": [
    "mix_tuple = ('11', 11, [2, 'two', ('six', 6)], (5, 'fair'))\n",
    "str_six = mix_tuple[-2][-3]\n",
    "print(str_six, type(str_six), sep='\\n')"
   ]
  },
  {
   "cell_type": "code",
   "execution_count": 91,
   "id": "5bb6dda1",
   "metadata": {},
   "outputs": [
    {
     "name": "stdout",
     "output_type": "stream",
     "text": [
      "5\n",
      "fair\n"
     ]
    }
   ],
   "source": [
    "mix_tuple = ('11', 11, [2, 'two', ('six', 6)], (5, 'fair'))\n",
    "option_1 = mix_tuple[3][0]\n",
    "option_2 = mix_tuple[-1][-1]\n",
    "\n",
    "print(option_1, option_2, sep='\\n')"
   ]
  },
  {
   "cell_type": "code",
   "execution_count": 92,
   "id": "b573f4a9",
   "metadata": {},
   "outputs": [
    {
     "name": "stdout",
     "output_type": "stream",
     "text": [
      "fair\n",
      "fair\n"
     ]
    }
   ],
   "source": [
    "mix_tuple = ('11', 11, [2, 'two', ('six', 6)], (5, 'fair'))\n",
    "option_1 = mix_tuple[3][1]\n",
    "option_2 = mix_tuple[-1][-1]\n",
    "\n",
    "print(option_1, option_2, sep='\\n')"
   ]
  },
  {
   "cell_type": "code",
   "execution_count": 97,
   "id": "cf4227ef",
   "metadata": {},
   "outputs": [
    {
     "ename": "SyntaxError",
     "evalue": "EOL while scanning string literal (<ipython-input-97-f4b0e89be6e2>, line 3)",
     "output_type": "error",
     "traceback": [
      "\u001b[0;36m  File \u001b[0;32m\"<ipython-input-97-f4b0e89be6e2>\"\u001b[0;36m, line \u001b[0;32m3\u001b[0m\n\u001b[0;31m    print(str_six, type(str_six), sep='\\') #\u001b[0m\n\u001b[0m                                            ^\u001b[0m\n\u001b[0;31mSyntaxError\u001b[0m\u001b[0;31m:\u001b[0m EOL while scanning string literal\n"
     ]
    }
   ],
   "source": [
    "mix-tuple =('11',11, [2,'two',('six', 6)], (5, 'fair'))\n",
    "str_six = mix_tuple[2][1:3]\n",
    "print(str_six, type(str_six), sep='\\') #"
   ]
  },
  {
   "cell_type": "code",
   "execution_count": null,
   "id": "06cc157b",
   "metadata": {},
   "outputs": [],
   "source": []
  },
  {
   "cell_type": "code",
   "execution_count": 23,
   "id": "f63faa0b",
   "metadata": {},
   "outputs": [
    {
     "name": "stdout",
     "output_type": "stream",
     "text": [
      "t\n"
     ]
    }
   ],
   "source": [
    "my_tuple = ('p', 'e', 'r', 'm', 'i', 't')\n",
    "print(my_tuple[-1])"
   ]
  },
  {
   "cell_type": "code",
   "execution_count": 98,
   "id": "ad47af38",
   "metadata": {},
   "outputs": [
    {
     "name": "stdout",
     "output_type": "stream",
     "text": [
      "i\n"
     ]
    }
   ],
   "source": [
    "my_tuple = ('p', 'e', 'r', 'm', 'i', 't')\n",
    "print(my_tuple[-2])"
   ]
  },
  {
   "cell_type": "code",
   "execution_count": 99,
   "id": "8a16dbe7",
   "metadata": {},
   "outputs": [
    {
     "name": "stdout",
     "output_type": "stream",
     "text": [
      "m\n"
     ]
    }
   ],
   "source": [
    "my_tuple = ('p', 'e', 'r', 'm', 'i', 't')\n",
    "print(my_tuple[-3])"
   ]
  },
  {
   "cell_type": "code",
   "execution_count": 102,
   "id": "53bb8836",
   "metadata": {},
   "outputs": [
    {
     "name": "stdout",
     "output_type": "stream",
     "text": [
      "('r', 'm')\n"
     ]
    }
   ],
   "source": [
    "my_tuple = ('p', 'e', 'r', 'm', 'i', 't')\n",
    "print(my_tuple[-4:-2])"
   ]
  },
  {
   "cell_type": "code",
   "execution_count": 103,
   "id": "631881b5",
   "metadata": {},
   "outputs": [
    {
     "name": "stdout",
     "output_type": "stream",
     "text": [
      "('p', 'e', 'r', 'm')\n"
     ]
    }
   ],
   "source": [
    "my_tuple = ('p', 'e', 'r', 'm', 'i', 't')\n",
    "print(my_tuple[-6:-2])"
   ]
  },
  {
   "cell_type": "code",
   "execution_count": 104,
   "id": "6ca2e4e5",
   "metadata": {},
   "outputs": [
    {
     "name": "stdout",
     "output_type": "stream",
     "text": [
      "('p', 'e', 'r')\n"
     ]
    }
   ],
   "source": [
    "my_tuple = ('p', 'e', 'r', 'm', 'i', 't')\n",
    "print(my_tuple[-6:-3])"
   ]
  },
  {
   "cell_type": "code",
   "execution_count": 109,
   "id": "d05ab1a4",
   "metadata": {},
   "outputs": [
    {
     "name": "stdout",
     "output_type": "stream",
     "text": [
      "('p', 'r')\n"
     ]
    }
   ],
   "source": [
    "my_tuple = ('p', 'e', 'r', 'm', 'i', 't')\n",
    "print(my_tuple[-6:-2:2])"
   ]
  },
  {
   "cell_type": "code",
   "execution_count": 110,
   "id": "f61a5d02",
   "metadata": {},
   "outputs": [
    {
     "name": "stdout",
     "output_type": "stream",
     "text": [
      "('p', 'm')\n"
     ]
    }
   ],
   "source": [
    "my_tuple = ('p', 'e', 'r', 'm', 'i', 't')\n",
    "print(my_tuple[-6:-2:3])"
   ]
  },
  {
   "cell_type": "code",
   "execution_count": null,
   "id": "43c4d740",
   "metadata": {},
   "outputs": [],
   "source": []
  },
  {
   "cell_type": "code",
   "execution_count": 24,
   "id": "e7946e6b",
   "metadata": {},
   "outputs": [
    {
     "name": "stdout",
     "output_type": "stream",
     "text": [
      "p\n"
     ]
    }
   ],
   "source": [
    "print(my_tuple[-6])"
   ]
  },
  {
   "cell_type": "code",
   "execution_count": 25,
   "id": "065502be",
   "metadata": {},
   "outputs": [
    {
     "name": "stdout",
     "output_type": "stream",
     "text": [
      "('r', 'o', 'g')\n"
     ]
    }
   ],
   "source": [
    "# Accessing tuple elements using slicing\n",
    "my_tuple = ('p','r','o','g','r','a','m','i','z')\n",
    "# elements 2nd to 4th\n",
    "# Output: ('r', 'o', 'g')\n",
    "print(my_tuple[1:4])"
   ]
  },
  {
   "cell_type": "code",
   "execution_count": 26,
   "id": "4054bb36",
   "metadata": {},
   "outputs": [
    {
     "name": "stdout",
     "output_type": "stream",
     "text": [
      "('p', 'r')\n"
     ]
    }
   ],
   "source": [
    "my_tuple = ('p','r','o','g','r','a','m','i','z')\n",
    "# elements beginning to 2nd\n",
    "# Output: ('p', 'r')\n",
    "print(my_tuple[:-7])"
   ]
  },
  {
   "cell_type": "code",
   "execution_count": 27,
   "id": "e62198f6",
   "metadata": {},
   "outputs": [
    {
     "name": "stdout",
     "output_type": "stream",
     "text": [
      "('i', 'z')\n"
     ]
    }
   ],
   "source": [
    "print(my_tuple[7:])\n",
    "# elements 8th to end\n",
    "# Output: ('i', 'z')"
   ]
  },
  {
   "cell_type": "code",
   "execution_count": 28,
   "id": "84864920",
   "metadata": {},
   "outputs": [
    {
     "name": "stdout",
     "output_type": "stream",
     "text": [
      "('p', 'r', 'o', 'g', 'r', 'a', 'm', 'i', 'z')\n"
     ]
    }
   ],
   "source": [
    "# elements beginning to end\n",
    "# Output: ('p', 'r', 'o', 'g', 'r', 'a', 'm', 'i', 'z')\n",
    "print(my_tuple[:])"
   ]
  },
  {
   "cell_type": "code",
   "execution_count": 29,
   "id": "cb91787e",
   "metadata": {},
   "outputs": [
    {
     "name": "stdout",
     "output_type": "stream",
     "text": [
      "(4, 2, 3, [9, 5])\n",
      "('p', 'r', 'o', 'g', 'r', 'a', 'm', 'i', 'z')\n"
     ]
    }
   ],
   "source": [
    "# Changing tuple values\n",
    "my_tuple = (4, 2, 3, [6, 5])\n",
    "\n",
    "\n",
    "# TypeError: 'tuple' object does not support item assignment\n",
    "# my_tuple[1] = 9\n",
    "\n",
    "# However, item of mutable element can be changed\n",
    "my_tuple[3][0] = 9    # Output: (4, 2, 3, [9, 5])\n",
    "print(my_tuple)\n",
    "\n",
    "# Tuples can be reassigned\n",
    "my_tuple = ('p', 'r', 'o', 'g', 'r', 'a', 'm', 'i', 'z')\n",
    "\n",
    "# Output: ('p', 'r', 'o', 'g', 'r', 'a', 'm', 'i', 'z')\n",
    "print(my_tuple)"
   ]
  },
  {
   "cell_type": "code",
   "execution_count": 30,
   "id": "c577a439",
   "metadata": {},
   "outputs": [
    {
     "name": "stdout",
     "output_type": "stream",
     "text": [
      "(1, 2, 3, 4, 5, 6)\n",
      "('Repeat', 'Repeat', 'Repeat')\n"
     ]
    }
   ],
   "source": [
    "# Concatenation\n",
    "# Output: (1, 2, 3, 4, 5, 6)\n",
    "print((1, 2, 3) + (4, 5, 6))\n",
    "\n",
    "# Repeat\n",
    "# Output: ('Repeat', 'Repeat', 'Repeat')\n",
    "print((\"Repeat\",) * 3)"
   ]
  },
  {
   "cell_type": "code",
   "execution_count": 31,
   "id": "2406aef1",
   "metadata": {},
   "outputs": [
    {
     "ename": "NameError",
     "evalue": "name 'my_tuple' is not defined",
     "output_type": "error",
     "traceback": [
      "\u001b[0;31m---------------------------------------------------------------------------\u001b[0m",
      "\u001b[0;31mNameError\u001b[0m                                 Traceback (most recent call last)",
      "\u001b[0;32m<ipython-input-31-6d502a6648b0>\u001b[0m in \u001b[0;36m<module>\u001b[0;34m\u001b[0m\n\u001b[1;32m     10\u001b[0m \u001b[0;34m\u001b[0m\u001b[0m\n\u001b[1;32m     11\u001b[0m \u001b[0;31m# NameError: name 'my_tuple' is not defined\u001b[0m\u001b[0;34m\u001b[0m\u001b[0;34m\u001b[0m\u001b[0;34m\u001b[0m\u001b[0m\n\u001b[0;32m---> 12\u001b[0;31m \u001b[0mprint\u001b[0m\u001b[0;34m(\u001b[0m\u001b[0mmy_tuple\u001b[0m\u001b[0;34m)\u001b[0m\u001b[0;34m\u001b[0m\u001b[0;34m\u001b[0m\u001b[0m\n\u001b[0m",
      "\u001b[0;31mNameError\u001b[0m: name 'my_tuple' is not defined"
     ]
    }
   ],
   "source": [
    "# Deleting tuples\n",
    "my_tuple = ('p', 'r', 'o', 'g', 'r', 'a', 'm', 'i', 'z')\n",
    "\n",
    "# can't delete items\n",
    "# TypeError: 'tuple' object doesn't support item deletion\n",
    "# del my_tuple[3]\n",
    "\n",
    "# Can delete an entire tuple\n",
    "del my_tuple\n",
    "\n",
    "# NameError: name 'my_tuple' is not defined\n",
    "print(my_tuple)"
   ]
  },
  {
   "cell_type": "code",
   "execution_count": 32,
   "id": "ad5d6132",
   "metadata": {},
   "outputs": [
    {
     "name": "stdout",
     "output_type": "stream",
     "text": [
      "2\n",
      "3\n"
     ]
    }
   ],
   "source": [
    "my_tuple = ('a', 'p', 'p', 'l', 'e',)\n",
    "\n",
    "print(my_tuple.count('p'))  # Output: 2\n",
    "print(my_tuple.index('l'))  # Output: 3"
   ]
  },
  {
   "cell_type": "code",
   "execution_count": 111,
   "id": "ea4f02cb",
   "metadata": {},
   "outputs": [
    {
     "name": "stdout",
     "output_type": "stream",
     "text": [
      "1\n",
      "0\n"
     ]
    }
   ],
   "source": [
    "my_tuple = ('a', 'p', 'p', 'l', 'e',)\n",
    "\n",
    "print(my_tuple.count('e'))  # Output: 2\n",
    "print(my_tuple.index('a'))  # Output: 3"
   ]
  },
  {
   "cell_type": "code",
   "execution_count": 112,
   "id": "02291f5e",
   "metadata": {},
   "outputs": [
    {
     "name": "stdout",
     "output_type": "stream",
     "text": [
      "1\n",
      "4\n"
     ]
    }
   ],
   "source": [
    "my_tuple = ('a', 'p', 'p', 'l', 'e',)\n",
    "\n",
    "print(my_tuple.count('a'))  # Output: 1\n",
    "print(my_tuple.index('e'))  # Output: 4"
   ]
  },
  {
   "cell_type": "code",
   "execution_count": 113,
   "id": "2329a58d",
   "metadata": {},
   "outputs": [
    {
     "name": "stdout",
     "output_type": "stream",
     "text": [
      "g\n"
     ]
    }
   ],
   "source": [
    "#indexing\n",
    "x='frog'\n",
    "print(x[3])     #it prints 'g' because indexing start at zero"
   ]
  },
  {
   "cell_type": "code",
   "execution_count": 114,
   "id": "07126fd0",
   "metadata": {},
   "outputs": [
    {
     "name": "stdout",
     "output_type": "stream",
     "text": [
      "cow\n"
     ]
    }
   ],
   "source": [
    "#list\n",
    "x=['pig', 'cow', 'horse']\n",
    "print(x[1])                     #list also start at zero and move forward. thae answer is 'cow'"
   ]
  },
  {
   "cell_type": "code",
   "execution_count": null,
   "id": "ed8806b3",
   "metadata": {},
   "outputs": [],
   "source": [
    "# Slicing\n",
    "-slice out substrings, sublists, subtuples using indexes [start:end+1:step]\n",
    "\n",
    "x='computer'\n",
    "\n",
    " Code                Result                      Explanation\n",
    "    \n",
    "x[1:4]               'omp'                       items 1 to 3\n",
    "\n",
    "x[1:6:2]              'opt'                      items 1, 3, 5\n",
    "\n",
    "x[3:]                 'puter'                    items 3 to end\n",
    "\n",
    "x[:5]                 'compu'                    items 0 to 4\n",
    "\n",
    "x[-1]                   'r'                      last item\n",
    "\n",
    "x[-3:]                 'ter'                     last 3 items\n",
    "\n",
    "x[:-2]                 'comput'                  All except last 2 items\n"
   ]
  },
  {
   "cell_type": "code",
   "execution_count": null,
   "id": "30647c18",
   "metadata": {},
   "outputs": [],
   "source": [
    "Iterating\n",
    "-iterate through the items in a sequence\n",
    "\n",
    "x=[7,8,9]\n",
    "for item in x:\n",
    "    print(item*2)            #prints 14,16,6\n",
    "\n"
   ]
  },
  {
   "cell_type": "code",
   "execution_count": null,
   "id": "7a4b6778",
   "metadata": {},
   "outputs": [],
   "source": [
    "Iterating\n",
    "-iterate through the items in a sequence\n",
    "\n",
    "x=[7,8,9]\n",
    "for index, item in enumerate (x):\n",
    "    print(index, item)               #prints 07, 18, 23 yani 0, 1, 2 sayilarini sirasiyla one koyarak yapiyoruz."
   ]
  },
  {
   "cell_type": "code",
   "execution_count": null,
   "id": "01b4e2bf",
   "metadata": {},
   "outputs": [],
   "source": [
    "# Number of items\n",
    "x='bug'           #prints 3   'string' oldugu zamman, yani parentezsiz, sadece iki isaret arasindaki sayilari say.\n",
    "print(len(x))"
   ]
  },
  {
   "cell_type": "code",
   "execution_count": null,
   "id": "65b7fbf9",
   "metadata": {},
   "outputs": [],
   "source": [
    "x=['pig', 'cow', 'horse']  # list oldugu zaman, kapali pranthes icindekileri bir olarak kabul ediyoruz.\n",
    "print(len(x))                #prints 3"
   ]
  },
  {
   "cell_type": "code",
   "execution_count": null,
   "id": "e02ea77d",
   "metadata": {},
   "outputs": [],
   "source": [
    "# Minimum\n",
    "-Find the minimum item in a sequence lexicographically\n",
    "-alpha or numericz types, but cannot mix types"
   ]
  },
  {
   "cell_type": "code",
   "execution_count": 115,
   "id": "e9413b2b",
   "metadata": {},
   "outputs": [
    {
     "name": "stdout",
     "output_type": "stream",
     "text": [
      "b\n"
     ]
    }
   ],
   "source": [
    "#string\n",
    "x='bug'                #burdaki 'min'tanimlanan en yakin harf demek yani 'b'\n",
    "                    #siralamaya bakarak en dusugu hangisi ise onu secer. Burda(A...Z) 'b' bug ilk\n",
    "print(min(x))"
   ]
  },
  {
   "cell_type": "code",
   "execution_count": 116,
   "id": "80b7b7fc",
   "metadata": {},
   "outputs": [
    {
     "name": "stdout",
     "output_type": "stream",
     "text": [
      "u\n"
     ]
    }
   ],
   "source": [
    "x='bug'                #burdaki 'max' bug kelimesinde harf olarak en sonuncusunu bulur. Yani 'u'\n",
    "print(max(x))"
   ]
  },
  {
   "cell_type": "code",
   "execution_count": 117,
   "id": "26bc799f",
   "metadata": {},
   "outputs": [
    {
     "name": "stdout",
     "output_type": "stream",
     "text": [
      "cow\n"
     ]
    }
   ],
   "source": [
    "#list\n",
    "x=['pig', 'cow', 'horse']\n",
    "print(min(x))"
   ]
  },
  {
   "cell_type": "code",
   "execution_count": 118,
   "id": "bbe690b9",
   "metadata": {},
   "outputs": [
    {
     "name": "stdout",
     "output_type": "stream",
     "text": [
      "pig\n"
     ]
    }
   ],
   "source": [
    "x=['pig', 'cow', 'horse']\n",
    "print(max(x))"
   ]
  },
  {
   "cell_type": "code",
   "execution_count": null,
   "id": "00e4e179",
   "metadata": {},
   "outputs": [],
   "source": [
    "#Index(item)\n",
    "-returns the index of the first occurence of an item(For string)\n",
    "\n",
    "x='hippo'\n",
    "print(x.index('p'))"
   ]
  },
  {
   "cell_type": "code",
   "execution_count": 119,
   "id": "1fdfb723",
   "metadata": {},
   "outputs": [
    {
     "name": "stdout",
     "output_type": "stream",
     "text": [
      "2\n"
     ]
    }
   ],
   "source": [
    "x='hippo'\n",
    "print(x.index('p'))\n"
   ]
  },
  {
   "cell_type": "code",
   "execution_count": null,
   "id": "b972c2fe",
   "metadata": {},
   "outputs": [],
   "source": [
    "#Index(item)\n",
    "-returns the index of the first occurence of an item(For list)\n",
    "\n",
    "x=['pig', 'cow', 'horse']\n",
    "print(x.index('cow'))"
   ]
  },
  {
   "cell_type": "code",
   "execution_count": 120,
   "id": "9ddc4071",
   "metadata": {},
   "outputs": [
    {
     "name": "stdout",
     "output_type": "stream",
     "text": [
      "1\n"
     ]
    }
   ],
   "source": [
    "x=['pig', 'cow', 'horse']\n",
    "print(x.index('cow'))"
   ]
  },
  {
   "cell_type": "code",
   "execution_count": null,
   "id": "13c85bdc",
   "metadata": {},
   "outputs": [],
   "source": [
    "#Unpacking\n",
    "-unpack the n items of a sequence into n variables            #now a is 'pig'\n",
    "                                                               #b is a 'cow'\n",
    "x=['pig', 'cow', 'horse']                                      #c is a 'horse'\n",
    "a,b,c=x\n",
    "\n",
    "Note: The number of variables must exactly match the length of the list."
   ]
  },
  {
   "cell_type": "code",
   "execution_count": null,
   "id": "9bbe86df",
   "metadata": {},
   "outputs": [],
   "source": [
    "#constructors-creating a new list\n",
    "\n",
    "x=list()\n",
    "x=['a', 25, 'dog', 8.43]\n",
    "x=list(tuple1)\n",
    "\n",
    "#list Comphrehension\n",
    "x=[m for m in range(8)]\n",
    "resulting list: [0,1,2,3,4,5,6,7]\n",
    "    \n",
    "x=[z**2 for z in range(10) if z>4]\n",
    "\n",
    "resulting list:[25,36,49,64,81]"
   ]
  },
  {
   "cell_type": "code",
   "execution_count": null,
   "id": "2e2359fc",
   "metadata": {},
   "outputs": [],
   "source": [
    "#Delete \n",
    "delete a list for an item from a list\n",
    "\n",
    "x=[5,3,8,6]\n",
    "del(x[1])"
   ]
  },
  {
   "cell_type": "code",
   "execution_count": 128,
   "id": "8f47f992",
   "metadata": {},
   "outputs": [],
   "source": [
    "x=[5,3,8,6]       #[5,8,6]      \n",
    "del(x[1])\n",
    "del(x)               #deletes list x"
   ]
  },
  {
   "cell_type": "code",
   "execution_count": 126,
   "id": "01e80618",
   "metadata": {},
   "outputs": [
    {
     "name": "stdout",
     "output_type": "stream",
     "text": [
      "[5, 3, 8, 6, 7]\n"
     ]
    }
   ],
   "source": [
    "#Append an item list\n",
    "x=[5,3,8,6] \n",
    "x.append(7)\n",
    "print(x)"
   ]
  },
  {
   "cell_type": "code",
   "execution_count": null,
   "id": "45bc51a9",
   "metadata": {},
   "outputs": [],
   "source": [
    "#extend\n",
    "-Append an sequence to a list\n",
    "x=[5,3,8,6] \n",
    "y=[12,13]\n",
    "x.extend(y)"
   ]
  },
  {
   "cell_type": "code",
   "execution_count": 133,
   "id": "8e63dc28",
   "metadata": {},
   "outputs": [],
   "source": [
    "x=[5,3,8,6] \n",
    "y=[12,13]\n",
    "x.extend(y)\n",
    "#[5,3,8,6,7,12,13]      #combine both x and y together"
   ]
  },
  {
   "cell_type": "code",
   "execution_count": null,
   "id": "33ac8069",
   "metadata": {},
   "outputs": [],
   "source": []
  },
  {
   "cell_type": "code",
   "execution_count": null,
   "id": "87d56daa",
   "metadata": {},
   "outputs": [],
   "source": []
  },
  {
   "cell_type": "code",
   "execution_count": null,
   "id": "9cd8edb3",
   "metadata": {},
   "outputs": [],
   "source": []
  },
  {
   "cell_type": "code",
   "execution_count": null,
   "id": "2231cc3f",
   "metadata": {},
   "outputs": [],
   "source": []
  },
  {
   "cell_type": "code",
   "execution_count": null,
   "id": "51a29dab",
   "metadata": {},
   "outputs": [],
   "source": []
  },
  {
   "cell_type": "code",
   "execution_count": 33,
   "id": "bc39fc90",
   "metadata": {},
   "outputs": [
    {
     "name": "stdout",
     "output_type": "stream",
     "text": [
      "True\n",
      "False\n",
      "True\n"
     ]
    }
   ],
   "source": [
    "# Membership test in tuple\n",
    "my_tuple = ('a', 'p', 'p', 'l', 'e',)\n",
    "\n",
    "# In operation\n",
    "print('a' in my_tuple)\n",
    "print('b' in my_tuple)\n",
    "\n",
    "# Not in operation\n",
    "print('g' not in my_tuple)"
   ]
  },
  {
   "cell_type": "markdown",
   "id": "5517f46e",
   "metadata": {},
   "source": [
    "## Dictionaries"
   ]
  },
  {
   "cell_type": "code",
   "execution_count": null,
   "id": "ce064088",
   "metadata": {},
   "outputs": [],
   "source": [
    "Definitions\n",
    "In this topic, we will examine the collection types which store item pairs. What does it mean?\n",
    "\n",
    "Think of a real dictionary. \n",
    "It contains words and their meanings. \n",
    "In Python, you can accept the words as key and the meaning of the words as value.\n",
    "\n",
    "A dictionary in Python is a collection of key-value pairs called items of a dictionary. \n",
    "The dictionary is enclosed by curly braces 👉🏻{}. \n",
    "Each pair (item) is separated by a comma and the key and value are separated by a colon."
   ]
  },
  {
   "cell_type": "code",
   "execution_count": null,
   "id": "7c364379",
   "metadata": {},
   "outputs": [],
   "source": [
    "Creating a Dictionary\n",
    "A dictionary also can be created by enclosing pairs, separated by commas,\n",
    "in curly-braces. Looks like list or tuple, right?\n",
    "\n",
    "And of course, we can use a function to create a dictionary : 'dict()' function.\n",
    "    Let's create a simple empty dict :"
   ]
  },
  {
   "cell_type": "code",
   "execution_count": 34,
   "id": "53abab72",
   "metadata": {},
   "outputs": [],
   "source": [
    "empty_dict_1 = {}\n",
    "\n",
    "empty_dict_2 = dict()"
   ]
  },
  {
   "cell_type": "code",
   "execution_count": 35,
   "id": "06dfdd3b",
   "metadata": {},
   "outputs": [
    {
     "name": "stdout",
     "output_type": "stream",
     "text": [
      "<class 'dict'>\n"
     ]
    }
   ],
   "source": [
    "empty_dict_1 = {}\n",
    "\n",
    "print(type(empty_dict_1))"
   ]
  },
  {
   "cell_type": "code",
   "execution_count": null,
   "id": "2b51b99c",
   "metadata": {},
   "outputs": [],
   "source": [
    "my_dict = {'key1': 'value1',\n",
    "            'key2': 'value2',\n",
    "            'key3': 'value3'\n",
    "            }\n"
   ]
  },
  {
   "cell_type": "code",
   "execution_count": 36,
   "id": "e2827d5a",
   "metadata": {},
   "outputs": [
    {
     "name": "stdout",
     "output_type": "stream",
     "text": [
      "Denver\n"
     ]
    }
   ],
   "source": [
    "state_capitals = {'Arkansas': 'Little Rock',\n",
    "                  'Colorado': 'Denver',\n",
    "                  'California': 'Sacramento',\n",
    "                  'Georgia': 'Atlanta' \n",
    "                 }\n",
    "\n",
    "print(state_capitals['Colorado']) # accessing method"
   ]
  },
  {
   "cell_type": "code",
   "execution_count": 37,
   "id": "155ddfa6",
   "metadata": {},
   "outputs": [
    {
     "name": "stdout",
     "output_type": "stream",
     "text": [
      "{'Arkansas': 'Little Rock', 'Colorado': 'Denver', 'California': 'Sacramento', 'Georgia': 'Atlanta', 'Virginia': 'Richmond'}\n"
     ]
    }
   ],
   "source": [
    "state_capitals = {'Arkansas': 'Little Rock',\n",
    "                  'Colorado': 'Denver',\n",
    "                  'California': 'Sacramento',\n",
    "                  'Georgia': 'Atlanta' \n",
    "                 }\n",
    "\n",
    "state_capitals['Virginia'] = 'Richmond' # adding a new item\n",
    "\n",
    "print(state_capitals)"
   ]
  },
  {
   "cell_type": "code",
   "execution_count": 38,
   "id": "ee3d5d20",
   "metadata": {},
   "outputs": [
    {
     "name": "stdout",
     "output_type": "stream",
     "text": [
      "{'animal': ('dog', 'cat'), 'planet': ['Neptun', 'Saturn', 'Jupiter'], 'number': 40, 'pi': 3.14, 'is_good': True}\n"
     ]
    }
   ],
   "source": [
    "mix_values = {'animal': ('dog', 'cat'),  # tuple type\n",
    "              'planet': ['Neptun', 'Saturn', 'Jupiter'],  # list type\n",
    "              'number': 40,  # int type\n",
    "              'pi': 3.14,  # float type\n",
    "              'is_good': True}  # bool type\n",
    "mix_keys = {22 : \"integer\",\n",
    "            1.2 : \"float\",\n",
    "            True : \"boolean\",\n",
    "            \"key\" : \"string\"}\n",
    "print(mix_values)"
   ]
  },
  {
   "cell_type": "code",
   "execution_count": 39,
   "id": "daa21302",
   "metadata": {},
   "outputs": [
    {
     "name": "stdout",
     "output_type": "stream",
     "text": [
      "{'animal': 'dog', 'planet': 'neptun', 'number': 40, 'pi': 3.14, 'is_good': True}\n"
     ]
    }
   ],
   "source": [
    "dict_by_dict = dict(animal='dog', planet='neptun', number=40, pi=3.14, is_good=True)\n",
    "\n",
    "print(dict_by_dict)"
   ]
  },
  {
   "cell_type": "code",
   "execution_count": null,
   "id": "a5165577",
   "metadata": {},
   "outputs": [],
   "source": [
    "Q: What is a dictionary in Python?\n",
    "A: Python dictionary is one of the supported data types in Python. \n",
    "It is an unordered collection of elements. The elements in dictionaries are stored as key–value pairs.\n",
    "Dictionaries are indexed by keys. For example, below we have a dict named my_dict. \n",
    "It contains two keys, fruit and vegatable, along with their corresponding values, banana and onion.\n",
    "\n",
    "my_dict = {'fruit':'banana', 'vegatable':'onion'}"
   ]
  },
  {
   "cell_type": "code",
   "execution_count": null,
   "id": "ff089e6a",
   "metadata": {},
   "outputs": [],
   "source": [
    "Main Operations with Dictionaries\n",
    "There are several methods that allow us to access items, keys, and values.\n",
    "You can access all items using the .items() method, all keys using the .keys() method, and all values using the \n",
    ".values() method:"
   ]
  },
  {
   "cell_type": "code",
   "execution_count": 40,
   "id": "7d0944b0",
   "metadata": {},
   "outputs": [
    {
     "name": "stdout",
     "output_type": "stream",
     "text": [
      "dict_items([('animal', 'dog'), ('planet', 'neptun'), ('number', 40), ('pi', 3.14), ('is_good', True)]) \n",
      "\n",
      "dict_keys(['animal', 'planet', 'number', 'pi', 'is_good']) \n",
      "\n",
      "dict_values(['dog', 'neptun', 40, 3.14, True])\n"
     ]
    }
   ],
   "source": [
    "dict_by_dict = {'animal': 'dog',\n",
    "                'planet': 'neptun',\n",
    "                'number': 40,\n",
    "                'pi': 3.14,\n",
    "                'is_good': True}\n",
    "\n",
    "print(dict_by_dict.items(), '\\n')\n",
    "print(dict_by_dict.keys(), '\\n')\n",
    "print(dict_by_dict.values())"
   ]
  },
  {
   "cell_type": "code",
   "execution_count": null,
   "id": "51db37c9",
   "metadata": {},
   "outputs": [],
   "source": [
    "You have learned that you can add a new item by assigning value to a key that is not in the dictionary. \n",
    "Likewise, you can add new items using the .update() method. Let's see :"
   ]
  },
  {
   "cell_type": "code",
   "execution_count": 41,
   "id": "03ce70b1",
   "metadata": {},
   "outputs": [
    {
     "name": "stdout",
     "output_type": "stream",
     "text": [
      "{'animal': 'dog', 'planet': 'neptun', 'number': 40, 'pi': 3.14, 'is_good': True, 'is_bad': False}\n"
     ]
    }
   ],
   "source": [
    "dict_by_dict = {'animal': 'dog',\n",
    "                'planet': 'neptun',\n",
    "                'number': 40,\n",
    "                'pi': 3.14,\n",
    "                'is_good': True}\n",
    "\n",
    "dict_by_dict.update({'is_bad': False})\n",
    "\n",
    "print(dict_by_dict)"
   ]
  },
  {
   "cell_type": "code",
   "execution_count": null,
   "id": "313b7ab3",
   "metadata": {},
   "outputs": [],
   "source": [
    "You can also remove an item using the del function:\n",
    "\n",
    "The formula syntax is : del dictionary_name['key'].\n",
    "\n",
    "See the example."
   ]
  },
  {
   "cell_type": "code",
   "execution_count": 42,
   "id": "8f5e4601",
   "metadata": {},
   "outputs": [
    {
     "name": "stdout",
     "output_type": "stream",
     "text": [
      "{'planet': 'neptun', 'number': 40, 'pi': 3.14, 'is_good': True, 'is_bad': False}\n"
     ]
    }
   ],
   "source": [
    "dict_by_dict = {'animal': 'dog',\n",
    "               'planet': 'neptun',\n",
    "               'number': 40,\n",
    "               'pi': 3.14,\n",
    "               'is_good': True,\n",
    "               'is_bad': False}\n",
    "\n",
    "del dict_by_dict['animal']\n",
    "\n",
    "print(dict_by_dict) "
   ]
  },
  {
   "cell_type": "code",
   "execution_count": null,
   "id": "05381691",
   "metadata": {},
   "outputs": [],
   "source": [
    "Using the in and the not in operator, you can check if the key is in the dictionary.\n",
    "\n",
    "When we use the in operator; if the key is in the dictionary, the result will be True otherwise False.\n",
    "\n",
    "When we use the not in; if the key is not in the dictionary, the result will be True otherwise False.\n",
    "\n",
    "Look at the example :"
   ]
  },
  {
   "cell_type": "code",
   "execution_count": 43,
   "id": "aee33fdb",
   "metadata": {},
   "outputs": [
    {
     "name": "stdout",
     "output_type": "stream",
     "text": [
      "True\n",
      "True\n"
     ]
    }
   ],
   "source": [
    "dict_by_dict = {'planet': 'neptun',\n",
    "               'number': 40,\n",
    "               'pi': 3.14,\n",
    "               'is_good': True,\n",
    "               'is_bad': False}\n",
    "\n",
    "print('pi' in dict_by_dict) \n",
    "print('animal' not in dict_by_dict)  # remember, we have deleted 'animal'"
   ]
  },
  {
   "cell_type": "code",
   "execution_count": null,
   "id": "860188a7",
   "metadata": {},
   "outputs": [],
   "source": [
    "mix_values = {'animal': ('dog', 'cat'),  # tuple type\n",
    "              'planet': ['Neptun', 'Saturn', 'Jupiter'],  # list type\n",
    "              'number': 40,  # int type\n",
    "              'pi': 3.14,  # float type\n",
    "              'is_good': True}  # bool type\n",
    "\n",
    "dict_by_dict = dict(animal='dog', planet='neptun', number=40, pi=3.14, is_good=True)#they give the same results"
   ]
  },
  {
   "cell_type": "code",
   "execution_count": null,
   "id": "ca924f38",
   "metadata": {},
   "outputs": [],
   "source": []
  },
  {
   "cell_type": "code",
   "execution_count": 44,
   "id": "a5e00479",
   "metadata": {},
   "outputs": [
    {
     "name": "stdout",
     "output_type": "stream",
     "text": [
      "{'animal': 'dog', 'planet': 'neptun', 'number': 40, 'pi': 3.14, 'is_good': True, 'is_bad': False, 'name': 'Alya'}\n"
     ]
    }
   ],
   "source": [
    "dict_by_dict = {'animal': 'dog',\n",
    "                'planet': 'neptun',\n",
    "                'number': 40,\n",
    "                'pi': 3.14,\n",
    "                'is_good': True}\n",
    "\n",
    "dict_by_dict.update({'is_bad': False})\n",
    "dict_by_dict['name']='Alya'\n",
    "\n",
    "print(dict_by_dict) #or you can add by dict_by_dict['name']='Alya'"
   ]
  },
  {
   "cell_type": "code",
   "execution_count": 150,
   "id": "7dae7822",
   "metadata": {},
   "outputs": [
    {
     "name": "stdout",
     "output_type": "stream",
     "text": [
      "dict_items([('name1', 'Adam'), ('name2', 'Yve'), ('name3', 'Noah')]) \n",
      "\n",
      "dict_keys(['name1', 'name2', 'name3']) \n",
      "\n",
      "dict_values(['Adam', 'Yve', 'Noah'])\n"
     ]
    }
   ],
   "source": [
    "family = {\n",
    "    'name1': 'Adam',\n",
    "    'name2': 'Yve',\n",
    "    'name3': 'Noah'\n",
    "}\n",
    "print(family.items(), '\\n')\n",
    "print(family.keys(), '\\n')\n",
    "print(family.values())"
   ]
  },
  {
   "cell_type": "code",
   "execution_count": 165,
   "id": "c5aee2d6",
   "metadata": {},
   "outputs": [
    {
     "ename": "SyntaxError",
     "evalue": "invalid syntax (<ipython-input-165-401e7d750f6d>, line 7)",
     "output_type": "error",
     "traceback": [
      "\u001b[0;36m  File \u001b[0;32m\"<ipython-input-165-401e7d750f6d>\"\u001b[0;36m, line \u001b[0;32m7\u001b[0m\n\u001b[0;31m    print(list(family.keys(), '\\n')\u001b[0m\n\u001b[0m    ^\u001b[0m\n\u001b[0;31mSyntaxError\u001b[0m\u001b[0;31m:\u001b[0m invalid syntax\n"
     ]
    }
   ],
   "source": [
    "family = {\n",
    "    'name1': 'Adam',\n",
    "    'name2': 'Yve',\n",
    "    'name3': 'Noah'\n",
    "}\n",
    "print(list(family.items(), '\\n')\n",
    "print(list(family.keys(), '\\n')\n",
    "print(list(family.values())"
   ]
  },
  {
   "cell_type": "markdown",
   "id": "bd9ca354",
   "metadata": {},
   "source": [
    "## Nested Dictionaries\n",
    "In some cases, you need to work with the nested dict. When you decide to specialize in data science, \n",
    "we will work very often with dictionaries in the future."
   ]
  },
  {
   "cell_type": "code",
   "execution_count": 166,
   "id": "2ba4123e",
   "metadata": {},
   "outputs": [],
   "source": [
    "school_records={\n",
    "    \"personal_info\":\n",
    "        {\"kid\":{\"tom\": {\"class\": \"intermediate\", \"age\": 10},\n",
    "                \"sue\": {\"class\": \"elementary\", \"age\": 8}\n",
    "               },\n",
    "         \"teen\":{\"joseph\":{\"class\": \"college\", \"age\": 19},\n",
    "                 \"marry\":{\"class\": \"high school\", \"age\": 16}\n",
    "               },               \n",
    "        },\n",
    "        \n",
    "    \"grades_info\":\n",
    "        {\"kid\":{\"tom\": {\"math\": 88, \"speech\": 69},\n",
    "                \"sue\": {\"math\": 90, \"speech\": 81}\n",
    "               },\n",
    "         \"teen\":{\"joseph\":{\"coding\": 80, \"math\": 89},\n",
    "                 \"marry\":{\"coding\": 70, \"math\": 96}\n",
    "               },               \n",
    "        },        \n",
    "}"
   ]
  },
  {
   "cell_type": "code",
   "execution_count": 167,
   "id": "0eb6a253",
   "metadata": {},
   "outputs": [
    {
     "name": "stdout",
     "output_type": "stream",
     "text": [
      "16\n"
     ]
    }
   ],
   "source": [
    "school_records={\n",
    "    \"personal_info\":\n",
    "        {\"kid\":{\"tom\": {\"class\":\"intermediate\", \"age\":10},\n",
    "                \"sue\": {\"class\":\"elementary\", \"age\":8}\n",
    "               },\n",
    "         \"teen\":{\"joseph\":{\"class\":\"college\", \"age\":19},\n",
    "                 \"marry\":{\"class\":\"high school\", \"age\":16}\n",
    "               },               \n",
    "        },\n",
    "}\n",
    "\n",
    "print(school_records['personal_info']['teen']['marry']['age'])"
   ]
  },
  {
   "cell_type": "code",
   "execution_count": 168,
   "id": "55091436",
   "metadata": {},
   "outputs": [
    {
     "name": "stdout",
     "output_type": "stream",
     "text": [
      "19\n"
     ]
    }
   ],
   "source": [
    "print(school_records['personal_info']['teen']['joseph']['age'])"
   ]
  },
  {
   "cell_type": "code",
   "execution_count": 169,
   "id": "a8400b64",
   "metadata": {},
   "outputs": [
    {
     "name": "stdout",
     "output_type": "stream",
     "text": [
      "high school\n"
     ]
    }
   ],
   "source": [
    "print(school_records['personal_info']['teen']['marry']['class'])"
   ]
  },
  {
   "cell_type": "code",
   "execution_count": 170,
   "id": "cc69c994",
   "metadata": {},
   "outputs": [
    {
     "name": "stdout",
     "output_type": "stream",
     "text": [
      "10\n"
     ]
    }
   ],
   "source": [
    "print(school_records['personal_info']['kid']['tom']['age'])"
   ]
  },
  {
   "cell_type": "code",
   "execution_count": null,
   "id": "57d08dad",
   "metadata": {},
   "outputs": [],
   "source": []
  },
  {
   "cell_type": "code",
   "execution_count": null,
   "id": "8a31d53a",
   "metadata": {},
   "outputs": [],
   "source": []
  },
  {
   "cell_type": "code",
   "execution_count": null,
   "id": "173b10c6",
   "metadata": {},
   "outputs": [],
   "source": []
  },
  {
   "cell_type": "code",
   "execution_count": null,
   "id": "9c6861be",
   "metadata": {},
   "outputs": [],
   "source": []
  },
  {
   "cell_type": "code",
   "execution_count": null,
   "id": "a80d5fbf",
   "metadata": {},
   "outputs": [],
   "source": []
  },
  {
   "cell_type": "code",
   "execution_count": null,
   "id": "cf8b35b0",
   "metadata": {},
   "outputs": [],
   "source": []
  },
  {
   "cell_type": "code",
   "execution_count": null,
   "id": "eed08f21",
   "metadata": {},
   "outputs": [],
   "source": []
  },
  {
   "cell_type": "code",
   "execution_count": null,
   "id": "e8691451",
   "metadata": {},
   "outputs": [],
   "source": []
  },
  {
   "cell_type": "code",
   "execution_count": null,
   "id": "afeef5fb",
   "metadata": {},
   "outputs": [],
   "source": [
    "A set is a collection of elements with no repeats and without insertion order but sorted order.\n",
    "\n",
    "Basic uses include membership testing and eliminating duplicate entries. \n",
    "Set objects also support mathematical operations like union, intersection, difference, \n",
    "and symmetric difference.\n",
    "\n",
    "They can hold multiple data in them, but only one of value. \n",
    "They are used in situations where it is only important that some things are grouped together, and not what order \n",
    "they were included."
   ]
  },
  {
   "cell_type": "code",
   "execution_count": null,
   "id": "c9cb41ef",
   "metadata": {},
   "outputs": [],
   "source": [
    "#Creating a Set\n",
    "Curly braces '{}' or the set() function can be used to create sets.\n",
    "But the only way to create an empty set is: use the set() function.\n",
    "\n",
    "⚠️Avoid ! :\n",
    "Note that, to create an empty set you have to use set() function. \n",
    "Do not use {} to create an empty set. Otherwise, you will create an empty dictionary."
   ]
  },
  {
   "cell_type": "code",
   "execution_count": 171,
   "id": "085259e2",
   "metadata": {},
   "outputs": [],
   "source": [
    "# Let's create a simple empty set :\n",
    "\n",
    "empty_set = set()"
   ]
  },
  {
   "cell_type": "code",
   "execution_count": 172,
   "id": "f7cf7bec",
   "metadata": {},
   "outputs": [
    {
     "name": "stdout",
     "output_type": "stream",
     "text": [
      "<class 'set'>\n"
     ]
    }
   ],
   "source": [
    "empty_set = set()\n",
    "\n",
    "print(type(empty_set))"
   ]
  },
  {
   "cell_type": "code",
   "execution_count": 173,
   "id": "ec9d50b1",
   "metadata": {},
   "outputs": [
    {
     "name": "stdout",
     "output_type": "stream",
     "text": [
      "{'orange', 'darkblue', 'red', 'yellow', 'purple'}\n",
      "{'orange', 'darkblue', 'red', 'yellow', 'purple'}\n"
     ]
    }
   ],
   "source": [
    "#As you can see in the output, the two 'red' values ​​we have defined in the set have fallen to one. \n",
    "#And every time you print the set, the order of the objects in the set changes.\n",
    "\n",
    "\n",
    "colorset = {'purple', 'orange', 'red', 'darkblue', 'yellow', 'red'}\n",
    "\n",
    "print(colorset)\n",
    "print(colorset)"
   ]
  },
  {
   "cell_type": "code",
   "execution_count": 174,
   "id": "e9f673fd",
   "metadata": {},
   "outputs": [
    {
     "name": "stdout",
     "output_type": "stream",
     "text": [
      "{'n', 's', 'l', 'e', 'i', 'h', 'u', 'f'}\n",
      "{'n', 's', 'l', 'e', 'i', 'h', 'u', 'f'}\n"
     ]
    }
   ],
   "source": [
    "s = set('unselfishness')\n",
    "\n",
    "print(s) \n",
    "print(s)"
   ]
  },
  {
   "cell_type": "code",
   "execution_count": null,
   "id": "a05cc655",
   "metadata": {},
   "outputs": [],
   "source": [
    "#As you can see, the letters of the string type data are only written once in the set. \n",
    "Within this scope, using sets can help you avoid repetitions. \n",
    "Let's convert a list into a set and look at the repetitions of its elements:"
   ]
  },
  {
   "cell_type": "code",
   "execution_count": 175,
   "id": "e3b9dcee",
   "metadata": {},
   "outputs": [
    {
     "name": "stdout",
     "output_type": "stream",
     "text": [
      "{'carnation', 'rose', 'violet', 'orchid'}\n",
      "['carnation', 'rose', 'violet', 'orchid']\n"
     ]
    }
   ],
   "source": [
    "flower_list = ['rose', 'violet', 'carnation', 'rose', 'orchid', 'rose', 'orchid']\n",
    "flowerset = set(flower_list)\n",
    "flowerlist = list(flowerset)\n",
    "\n",
    "print(flowerset) \n",
    "print(flowerlist)\n"
   ]
  },
  {
   "cell_type": "code",
   "execution_count": null,
   "id": "4a469999",
   "metadata": {},
   "outputs": [],
   "source": [
    "Q: Which one of the following is not the correct syntax for creating a set in Python?\n",
    "A:\n",
    "a. set([[1,2],[3,4],[4,5]])\n",
    "b. set([1,2,2,3,4,5])\n",
    "c. {1,2,3,4}\n",
    "d. set((1,2,3,4))\n",
    "\n",
    "Explanation: The iterable argument given for the set must be used in a correct way.\n",
    "\n",
    "- Interview Q&A"
   ]
  },
  {
   "cell_type": "code",
   "execution_count": 176,
   "id": "76733d02",
   "metadata": {},
   "outputs": [
    {
     "name": "stdout",
     "output_type": "stream",
     "text": [
      "[[1, 2], [3, 4], [4, 5]]\n"
     ]
    }
   ],
   "source": [
    "set=([[1,2],[3,4],[4,5]])\n",
    "print(set)"
   ]
  },
  {
   "cell_type": "code",
   "execution_count": 177,
   "id": "c9b02a42",
   "metadata": {},
   "outputs": [
    {
     "name": "stdout",
     "output_type": "stream",
     "text": [
      "[1, 2, 2, 3, 4, 5]\n"
     ]
    }
   ],
   "source": [
    "set=([1,2,2,3,4,5])\n",
    "print(set)"
   ]
  },
  {
   "cell_type": "code",
   "execution_count": null,
   "id": "575ee32c",
   "metadata": {},
   "outputs": [],
   "source": [
    "set=((1,2,3,4))\n",
    "print(set)"
   ]
  },
  {
   "cell_type": "code",
   "execution_count": null,
   "id": "a5c281e7",
   "metadata": {},
   "outputs": [],
   "source": [
    "#Main Operations with Sets\n",
    "There are several methods that allow us to add and remove items to/from sets. \n",
    "Moreover, we have the methods of intersection, unification, and differentiation of sets :\n",
    "\n",
    "These methods are :\n",
    "\n",
    ".add() : Adds a new item to the set.\n",
    "\n",
    ".remove() : Allows us to delete an item.\n",
    "\n",
    ".intersection() : Returns the intersection of two sets.\n",
    "\n",
    ".union() : Returns the unification of two sets.\n",
    "\n",
    ".difference() : Gets the difference of two sets."
   ]
  },
  {
   "cell_type": "code",
   "execution_count": null,
   "id": "5861dd9c",
   "metadata": {},
   "outputs": [],
   "source": [
    "a = set('abracadabra')\n",
    "\n",
    "print(a)   \n",
    "\n",
    "output :\n",
    "\n",
    "{'a', 'b', 'c', 'd', 'r'}"
   ]
  },
  {
   "cell_type": "code",
   "execution_count": null,
   "id": "f82fac67",
   "metadata": {},
   "outputs": [],
   "source": [
    "a = set('abracadabra')\n",
    "b = set('alacazam')\n",
    "\n",
    "print(a - b)  # same as '.difference()' method\n",
    "print(a.difference(b)) # a difference from b\n",
    "\n",
    "\n",
    "Cevap\n",
    "{'b', 'd', 'r'}\n",
    "{'b', 'd', 'r'}"
   ]
  },
  {
   "cell_type": "code",
   "execution_count": null,
   "id": "b37276f7",
   "metadata": {},
   "outputs": [],
   "source": [
    "a = set('abracadabra')\n",
    "b = set('alacazam')\n",
    "\n",
    "print(a | b)  # same as '.union()' method\n",
    "print(a.union(b)) # unification of a with b\n",
    "\n",
    "\n",
    "Cevap\n",
    "{'a', 'b', 'c', 'd', 'l', 'm', 'r', 'z'}\n",
    "{'a', 'b', 'c', 'd', 'l', 'm', 'r', 'z'}"
   ]
  },
  {
   "cell_type": "code",
   "execution_count": null,
   "id": "f89d6872",
   "metadata": {},
   "outputs": [],
   "source": [
    "a = set('abracadabra')\n",
    "b = set('alacazam')\n",
    "\n",
    "print(a & b)  # same as '.intersection()' method\n",
    "print(a.intersection(b)) # intersection of a and b\n",
    "\n",
    "cevap\n",
    "{'a', 'c'}\n",
    "{'a', 'c'}"
   ]
  },
  {
   "cell_type": "code",
   "execution_count": null,
   "id": "e0450e62",
   "metadata": {},
   "outputs": [],
   "source": [
    "a = set('abracadabra')\n",
    "\n",
    "a.remove('c') # we delete 'c' from the set\n",
    "print(a)\n",
    "\n",
    "cevap\n",
    "{'a', 'b', 'd', 'r'}"
   ]
  },
  {
   "cell_type": "markdown",
   "id": "7eb2cdc4",
   "metadata": {},
   "source": [
    "## Assignments"
   ]
  },
  {
   "cell_type": "code",
   "execution_count": null,
   "id": "d034a9df",
   "metadata": {},
   "outputs": [],
   "source": [
    "Task :Create two sets of string data from the capitals of the USA and New Zealand. \n",
    "(e.g: 'Madrid' → convert into a set)\n",
    "Perform all set operations.\n",
    "Intersection\n",
    "Union\n",
    "Difference"
   ]
  },
  {
   "cell_type": "code",
   "execution_count": null,
   "id": "72c1d5eb",
   "metadata": {},
   "outputs": [],
   "source": []
  },
  {
   "cell_type": "code",
   "execution_count": null,
   "id": "f1f0525c",
   "metadata": {},
   "outputs": [],
   "source": []
  }
 ],
 "metadata": {
  "kernelspec": {
   "display_name": "Python 3",
   "language": "python",
   "name": "python3"
  },
  "language_info": {
   "codemirror_mode": {
    "name": "ipython",
    "version": 3
   },
   "file_extension": ".py",
   "mimetype": "text/x-python",
   "name": "python",
   "nbconvert_exporter": "python",
   "pygments_lexer": "ipython3",
   "version": "3.8.8"
  }
 },
 "nbformat": 4,
 "nbformat_minor": 5
}
