{
 "cells": [
  {
   "cell_type": "markdown",
   "id": "1e7cb1b7-44f6-4ddc-b4c2-ac615312e8e0",
   "metadata": {},
   "source": [
    "Table Contents"
   ]
  },
  {
   "cell_type": "markdown",
   "id": "e5290463",
   "metadata": {},
   "source": [
    "#STRINGS\n",
    "## immutable\n",
    "## methods like upper() and lower()\n",
    "## learn more with dir(str) and help(str)\n"
   ]
  },
  {
   "cell_type": "code",
   "execution_count": null,
   "id": "6ee27088",
   "metadata": {},
   "outputs": [],
   "source": [
    "#Working with sitrings\n",
    "\"Quinn the husky\""
   ]
  },
  {
   "cell_type": "code",
   "execution_count": 57,
   "id": "96c7a0d4-c196-41da-b2a0-db44947302ae",
   "metadata": {},
   "outputs": [],
   "source": [
    "dog ='Quinn the husky'"
   ]
  },
  {
   "cell_type": "code",
   "execution_count": 5,
   "id": "11300928-6472-4f20-82fc-fea773aeadcd",
   "metadata": {},
   "outputs": [
    {
     "data": {
      "text/plain": [
       "'Quinn the husky'"
      ]
     },
     "execution_count": 5,
     "metadata": {},
     "output_type": "execute_result"
    }
   ],
   "source": [
    "dog"
   ]
  },
  {
   "cell_type": "code",
   "execution_count": 6,
   "id": "51823ef6-bac5-47ab-a11b-e9ee16438d09",
   "metadata": {},
   "outputs": [
    {
     "data": {
      "text/plain": [
       "str"
      ]
     },
     "execution_count": 6,
     "metadata": {},
     "output_type": "execute_result"
    }
   ],
   "source": [
    "#what type a variable==object\n",
    "type(dog)"
   ]
  },
  {
   "cell_type": "code",
   "execution_count": 58,
   "id": "d09ad4d4-aaeb-4591-a139-c2ee1260dc39",
   "metadata": {},
   "outputs": [
    {
     "data": {
      "text/plain": [
       "15"
      ]
     },
     "execution_count": 58,
     "metadata": {},
     "output_type": "execute_result"
    }
   ],
   "source": [
    "#How many elements?\n",
    "len(dog)"
   ]
  },
  {
   "cell_type": "code",
   "execution_count": null,
   "id": "6ae416ba-a85e-4ca3-91af-ab49992fa1cc",
   "metadata": {},
   "outputs": [],
   "source": [
    "#verbose help\n",
    "help(str)"
   ]
  },
  {
   "cell_type": "code",
   "execution_count": 2,
   "id": "d8c18d87-ffa8-4622-b332-86e40207e0ef",
   "metadata": {},
   "outputs": [
    {
     "name": "stdout",
     "output_type": "stream",
     "text": [
      "S\n",
      "c\n",
      "o\n",
      "t\n",
      "l\n",
      "a\n",
      "n\n",
      "d\n"
     ]
    }
   ],
   "source": [
    "#char=character\n",
    "s='Scotland'\n",
    "for char in s:\n",
    "    print(char)"
   ]
  },
  {
   "cell_type": "code",
   "execution_count": 3,
   "id": "f05a0c33",
   "metadata": {},
   "outputs": [
    {
     "name": "stdout",
     "output_type": "stream",
     "text": [
      "S <class 'str'>\n",
      "c <class 'str'>\n",
      "o <class 'str'>\n",
      "t <class 'str'>\n",
      "l <class 'str'>\n",
      "a <class 'str'>\n",
      "n <class 'str'>\n",
      "d <class 'str'>\n"
     ]
    }
   ],
   "source": [
    "s='Scotland'\n",
    "for char in s:\n",
    "    print(char, type(char))"
   ]
  },
  {
   "cell_type": "code",
   "execution_count": 4,
   "id": "bf40e9c8",
   "metadata": {},
   "outputs": [
    {
     "data": {
      "text/plain": [
       "'scotland'"
      ]
     },
     "execution_count": 4,
     "metadata": {},
     "output_type": "execute_result"
    }
   ],
   "source": [
    "s.lower()"
   ]
  },
  {
   "cell_type": "code",
   "execution_count": 60,
   "id": "3481b1df",
   "metadata": {},
   "outputs": [
    {
     "data": {
      "text/plain": [
       "'X'"
      ]
     },
     "execution_count": 60,
     "metadata": {},
     "output_type": "execute_result"
    }
   ],
   "source": [
    "'x'.upper()"
   ]
  },
  {
   "cell_type": "code",
   "execution_count": 9,
   "id": "a614b722",
   "metadata": {},
   "outputs": [],
   "source": [
    "#method= action(verb)\n",
    "#property=attribute(noun)"
   ]
  },
  {
   "cell_type": "code",
   "execution_count": null,
   "id": "90d2ec32",
   "metadata": {},
   "outputs": [],
   "source": [
    "#help(some_object)\n",
    "dir('x')"
   ]
  },
  {
   "cell_type": "code",
   "execution_count": 17,
   "id": "acf40936",
   "metadata": {},
   "outputs": [
    {
     "name": "stdout",
     "output_type": "stream",
     "text": [
      "x quinn the husky Scotland\n"
     ]
    }
   ],
   "source": [
    "dog='quinn the husky'\n",
    "print('x',dog,s)"
   ]
  },
  {
   "cell_type": "code",
   "execution_count": 18,
   "id": "9d38175a",
   "metadata": {},
   "outputs": [
    {
     "data": {
      "text/plain": [
       "'SCOTLAND'"
      ]
     },
     "execution_count": 18,
     "metadata": {},
     "output_type": "execute_result"
    }
   ],
   "source": [
    "type(s)\n",
    "id(s)\n",
    "s.upper()"
   ]
  },
  {
   "cell_type": "code",
   "execution_count": 19,
   "id": "be537106",
   "metadata": {},
   "outputs": [
    {
     "ename": "SyntaxError",
     "evalue": "invalid syntax (<ipython-input-19-0052d185b654>, line 6)",
     "output_type": "error",
     "traceback": [
      "\u001b[0;36m  File \u001b[0;32m\"<ipython-input-19-0052d185b654>\"\u001b[0;36m, line \u001b[0;32m6\u001b[0m\n\u001b[0;31m    for made_up something in s:      #header\u001b[0m\n\u001b[0m                ^\u001b[0m\n\u001b[0;31mSyntaxError\u001b[0m\u001b[0;31m:\u001b[0m invalid syntax\n"
     ]
    }
   ],
   "source": [
    "#string\n",
    "#  'iterable'  - loop is supported\n",
    "# any iterable for <made-up looping variable> in <some_iterable_obj>:\n",
    "#----->(indented) <anything you want>\n",
    "\n",
    "for made_up something in s:      #header\n",
    "    pass                         # intended suite"
   ]
  },
  {
   "cell_type": "code",
   "execution_count": 30,
   "id": "a163a82e",
   "metadata": {},
   "outputs": [
    {
     "name": "stdout",
     "output_type": "stream",
     "text": [
      "hey, I'm a: S\n",
      "hey, I'm a: c\n",
      "hey, I'm a: o\n",
      "hey, I'm a: t\n",
      "hey, I'm a: l\n",
      "hey, I'm a: a\n",
      "hey, I'm a: n\n",
      "hey, I'm a: d\n"
     ]
    }
   ],
   "source": [
    "#For loop example\n",
    "\n",
    "for individual_char in s:\n",
    "    print(\"hey, I'm a:\", individual_char)"
   ]
  },
  {
   "cell_type": "code",
   "execution_count": 31,
   "id": "d881b398",
   "metadata": {},
   "outputs": [
    {
     "name": "stdout",
     "output_type": "stream",
     "text": [
      "hey, I'm a: S\n",
      "hey, I'm a: c\n",
      "hey, I'm a: o\n",
      "hey, I'm a: t\n",
      "hey, I'm a: l\n",
      "hey, I'm a: a\n",
      "hey, I'm a: n\n",
      "hey, I'm a: d\n"
     ]
    }
   ],
   "source": [
    "for individual_char in s:\n",
    "    print (\"hey, I'm a:\", individual_char)"
   ]
  },
  {
   "cell_type": "code",
   "execution_count": 32,
   "id": "ce6d45bf",
   "metadata": {},
   "outputs": [],
   "source": [
    "#for i:=0; len(s); i++{\n",
    "#    printf(\"%d\"%i)\n",
    "#}"
   ]
  },
  {
   "cell_type": "code",
   "execution_count": 33,
   "id": "73a5ae8e",
   "metadata": {},
   "outputs": [
    {
     "name": "stdout",
     "output_type": "stream",
     "text": [
      "123 <class 'int'>\n"
     ]
    }
   ],
   "source": [
    "#Phyton infers data type(float,int,bool,ve complexi bulma yontemi)\n",
    "a=123\n",
    "print(a,type(a))"
   ]
  },
  {
   "cell_type": "code",
   "execution_count": 34,
   "id": "f2d2d8eb",
   "metadata": {},
   "outputs": [
    {
     "name": "stdout",
     "output_type": "stream",
     "text": [
      "123.123 <class 'float'>\n"
     ]
    }
   ],
   "source": [
    "b=123.123\n",
    "print(b, type(b))"
   ]
  },
  {
   "cell_type": "code",
   "execution_count": 35,
   "id": "7372a53e",
   "metadata": {},
   "outputs": [
    {
     "name": "stdout",
     "output_type": "stream",
     "text": [
      "True <class 'bool'>\n"
     ]
    }
   ],
   "source": [
    "a=True\n",
    "print(a, type(a))"
   ]
  },
  {
   "cell_type": "code",
   "execution_count": 37,
   "id": "5d937df0",
   "metadata": {},
   "outputs": [
    {
     "name": "stdout",
     "output_type": "stream",
     "text": [
      "(2+3j) <class 'complex'>\n"
     ]
    }
   ],
   "source": [
    "b=2+3j\n",
    "print(b, type(b))"
   ]
  },
  {
   "cell_type": "code",
   "execution_count": 38,
   "id": "9d706466",
   "metadata": {},
   "outputs": [
    {
     "name": "stdout",
     "output_type": "stream",
     "text": [
      "I am a new master <class 'str'>\n"
     ]
    }
   ],
   "source": [
    "a=\"I am a new master\"\n",
    "print(a, type(a))"
   ]
  },
  {
   "cell_type": "markdown",
   "id": "38fdb7c3",
   "metadata": {},
   "source": [
    "STRING"
   ]
  },
  {
   "cell_type": "code",
   "execution_count": 39,
   "id": "9a0c6c13",
   "metadata": {},
   "outputs": [
    {
     "data": {
      "text/plain": [
       "'something'"
      ]
     },
     "execution_count": 39,
     "metadata": {},
     "output_type": "execute_result"
    }
   ],
   "source": [
    "'something'"
   ]
  },
  {
   "cell_type": "code",
   "execution_count": 40,
   "id": "76181021",
   "metadata": {},
   "outputs": [],
   "source": [
    "a_name_str='something'"
   ]
  },
  {
   "cell_type": "code",
   "execution_count": 41,
   "id": "c4f65dfa",
   "metadata": {},
   "outputs": [
    {
     "data": {
      "text/plain": [
       "'something'"
      ]
     },
     "execution_count": 41,
     "metadata": {},
     "output_type": "execute_result"
    }
   ],
   "source": [
    "a_name_str"
   ]
  },
  {
   "cell_type": "code",
   "execution_count": 47,
   "id": "3a761cd0",
   "metadata": {},
   "outputs": [],
   "source": [
    "a=\"dub quote\"\n",
    "b='single quote'\n",
    "c=\"\"\"triple doubles\"\"\"\n",
    "d='''triple singles\n",
    "      a second line'''\n"
   ]
  },
  {
   "cell_type": "code",
   "execution_count": 43,
   "id": "1e5cc062",
   "metadata": {},
   "outputs": [
    {
     "data": {
      "text/plain": [
       "'dub quote'"
      ]
     },
     "execution_count": 43,
     "metadata": {},
     "output_type": "execute_result"
    }
   ],
   "source": [
    "# Repl read execute print loop\n",
    "a"
   ]
  },
  {
   "cell_type": "code",
   "execution_count": 44,
   "id": "29817c9b",
   "metadata": {},
   "outputs": [
    {
     "data": {
      "text/plain": [
       "'single quote'"
      ]
     },
     "execution_count": 44,
     "metadata": {},
     "output_type": "execute_result"
    }
   ],
   "source": [
    "b"
   ]
  },
  {
   "cell_type": "code",
   "execution_count": 45,
   "id": "21659859",
   "metadata": {},
   "outputs": [
    {
     "data": {
      "text/plain": [
       "'triple doubles'"
      ]
     },
     "execution_count": 45,
     "metadata": {},
     "output_type": "execute_result"
    }
   ],
   "source": [
    "c"
   ]
  },
  {
   "cell_type": "code",
   "execution_count": 48,
   "id": "a6ea2f20",
   "metadata": {},
   "outputs": [
    {
     "data": {
      "text/plain": [
       "'triple singles\\n      a second line'"
      ]
     },
     "execution_count": 48,
     "metadata": {},
     "output_type": "execute_result"
    }
   ],
   "source": [
    "d"
   ]
  },
  {
   "cell_type": "code",
   "execution_count": null,
   "id": "5f9e3c1c",
   "metadata": {},
   "outputs": [],
   "source": [
    "dir(str)"
   ]
  },
  {
   "cell_type": "code",
   "execution_count": 50,
   "id": "0e333cf7",
   "metadata": {},
   "outputs": [
    {
     "data": {
      "text/plain": [
       "'dub quotedub quote'"
      ]
     },
     "execution_count": 50,
     "metadata": {},
     "output_type": "execute_result"
    }
   ],
   "source": [
    "a+a"
   ]
  },
  {
   "cell_type": "code",
   "execution_count": 51,
   "id": "86c109bd",
   "metadata": {},
   "outputs": [
    {
     "data": {
      "text/plain": [
       "'dub quotedub quotedub quotedub quotedub quote'"
      ]
     },
     "execution_count": 51,
     "metadata": {},
     "output_type": "execute_result"
    }
   ],
   "source": [
    "a*5"
   ]
  },
  {
   "cell_type": "code",
   "execution_count": 52,
   "id": "640d6e49",
   "metadata": {},
   "outputs": [
    {
     "name": "stdout",
     "output_type": "stream",
     "text": [
      "triple singles\n",
      "      a second line\n"
     ]
    }
   ],
   "source": [
    "print(d)"
   ]
  },
  {
   "cell_type": "code",
   "execution_count": 54,
   "id": "3d1e82cb",
   "metadata": {},
   "outputs": [
    {
     "data": {
      "text/plain": [
       "'DUB QUOTE'"
      ]
     },
     "execution_count": 54,
     "metadata": {},
     "output_type": "execute_result"
    }
   ],
   "source": [
    "a.upper()"
   ]
  },
  {
   "cell_type": "code",
   "execution_count": 55,
   "id": "731d77c1",
   "metadata": {},
   "outputs": [
    {
     "data": {
      "text/plain": [
       "'dub quote'"
      ]
     },
     "execution_count": 55,
     "metadata": {},
     "output_type": "execute_result"
    }
   ],
   "source": [
    "a # immutable(fancy way to say 'can not change')"
   ]
  },
  {
   "cell_type": "markdown",
   "id": "a663611d",
   "metadata": {},
   "source": [
    "VARIABLES"
   ]
  },
  {
   "cell_type": "code",
   "execution_count": 61,
   "id": "afdda4a5",
   "metadata": {},
   "outputs": [],
   "source": [
    "#variable type is inferred\n",
    "var= 123"
   ]
  },
  {
   "cell_type": "code",
   "execution_count": 62,
   "id": "0ef5d1cc",
   "metadata": {},
   "outputs": [
    {
     "data": {
      "text/plain": [
       "123"
      ]
     },
     "execution_count": 62,
     "metadata": {},
     "output_type": "execute_result"
    }
   ],
   "source": [
    "var"
   ]
  },
  {
   "cell_type": "code",
   "execution_count": 64,
   "id": "609216b0",
   "metadata": {},
   "outputs": [
    {
     "data": {
      "text/plain": [
       "'pat'"
      ]
     },
     "execution_count": 64,
     "metadata": {},
     "output_type": "execute_result"
    }
   ],
   "source": [
    "#varibale can be 'recycled'\n",
    "var='pat'\n",
    "var"
   ]
  },
  {
   "cell_type": "code",
   "execution_count": 65,
   "id": "7e5ffa83",
   "metadata": {},
   "outputs": [
    {
     "data": {
      "text/plain": [
       "str"
      ]
     },
     "execution_count": 65,
     "metadata": {},
     "output_type": "execute_result"
    }
   ],
   "source": [
    "type(var)"
   ]
  },
  {
   "cell_type": "markdown",
   "id": "2d267ad6",
   "metadata": {},
   "source": [
    "Easy to change var types"
   ]
  },
  {
   "cell_type": "code",
   "execution_count": 66,
   "id": "f18457c9",
   "metadata": {},
   "outputs": [
    {
     "data": {
      "text/plain": [
       "str"
      ]
     },
     "execution_count": 66,
     "metadata": {},
     "output_type": "execute_result"
    }
   ],
   "source": [
    "var='789'\n",
    "type(var)"
   ]
  },
  {
   "cell_type": "code",
   "execution_count": 67,
   "id": "1812da3c",
   "metadata": {},
   "outputs": [
    {
     "name": "stdout",
     "output_type": "stream",
     "text": [
      "789 <class 'str'>\n"
     ]
    }
   ],
   "source": [
    "int(var)\n",
    "print(var, type(var))"
   ]
  },
  {
   "cell_type": "code",
   "execution_count": 68,
   "id": "14758809",
   "metadata": {},
   "outputs": [
    {
     "name": "stdout",
     "output_type": "stream",
     "text": [
      "789 <class 'int'>\n"
     ]
    }
   ],
   "source": [
    "var=int(var)\n",
    "print(var, type(var))"
   ]
  },
  {
   "cell_type": "markdown",
   "id": "abc4c455",
   "metadata": {},
   "source": [
    "Multiple assignment(you can lots of names for one object)"
   ]
  },
  {
   "cell_type": "code",
   "execution_count": 69,
   "id": "850c5530",
   "metadata": {},
   "outputs": [],
   "source": [
    "x=y=z=\"Quinn the Husky\""
   ]
  },
  {
   "cell_type": "code",
   "execution_count": 70,
   "id": "e8a3440c",
   "metadata": {},
   "outputs": [
    {
     "name": "stdout",
     "output_type": "stream",
     "text": [
      "Quinn the Husky Quinn the Husky Quinn the Husky\n"
     ]
    }
   ],
   "source": [
    "print(x,y,z)"
   ]
  },
  {
   "cell_type": "code",
   "execution_count": 71,
   "id": "56a555a8",
   "metadata": {},
   "outputs": [
    {
     "data": {
      "text/plain": [
       "True"
      ]
     },
     "execution_count": 71,
     "metadata": {},
     "output_type": "execute_result"
    }
   ],
   "source": [
    "x==y"
   ]
  },
  {
   "cell_type": "code",
   "execution_count": 72,
   "id": "dcaaebeb",
   "metadata": {},
   "outputs": [
    {
     "data": {
      "text/plain": [
       "True"
      ]
     },
     "execution_count": 72,
     "metadata": {},
     "output_type": "execute_result"
    }
   ],
   "source": [
    "x==z"
   ]
  },
  {
   "cell_type": "code",
   "execution_count": 73,
   "id": "1a803e8a",
   "metadata": {},
   "outputs": [
    {
     "data": {
      "text/plain": [
       "True"
      ]
     },
     "execution_count": 73,
     "metadata": {},
     "output_type": "execute_result"
    }
   ],
   "source": [
    "y==z"
   ]
  },
  {
   "cell_type": "code",
   "execution_count": 75,
   "id": "2767f645",
   "metadata": {},
   "outputs": [
    {
     "data": {
      "text/plain": [
       "True"
      ]
     },
     "execution_count": 75,
     "metadata": {},
     "output_type": "execute_result"
    }
   ],
   "source": [
    "id(x)==id(y)"
   ]
  },
  {
   "cell_type": "code",
   "execution_count": 76,
   "id": "85d9f820",
   "metadata": {},
   "outputs": [
    {
     "data": {
      "text/plain": [
       "140339188459312"
      ]
     },
     "execution_count": 76,
     "metadata": {},
     "output_type": "execute_result"
    }
   ],
   "source": [
    "id(x)"
   ]
  },
  {
   "cell_type": "markdown",
   "id": "97eb3fde",
   "metadata": {},
   "source": [
    "None type"
   ]
  },
  {
   "cell_type": "code",
   "execution_count": 78,
   "id": "1cfff1f9",
   "metadata": {},
   "outputs": [],
   "source": [
    "x=None"
   ]
  },
  {
   "cell_type": "code",
   "execution_count": 79,
   "id": "d87e757a",
   "metadata": {},
   "outputs": [
    {
     "ename": "SyntaxError",
     "evalue": "invalid syntax (<ipython-input-79-678adf510f7b>, line 1)",
     "output_type": "error",
     "traceback": [
      "\u001b[0;36m  File \u001b[0;32m\"<ipython-input-79-678adf510f7b>\"\u001b[0;36m, line \u001b[0;32m1\u001b[0m\n\u001b[0;31m    x. #with repl\u001b[0m\n\u001b[0m       ^\u001b[0m\n\u001b[0;31mSyntaxError\u001b[0m\u001b[0;31m:\u001b[0m invalid syntax\n"
     ]
    }
   ],
   "source": [
    "x. #with repl"
   ]
  },
  {
   "cell_type": "code",
   "execution_count": 80,
   "id": "34fb846d",
   "metadata": {},
   "outputs": [
    {
     "name": "stdout",
     "output_type": "stream",
     "text": [
      "None\n"
     ]
    }
   ],
   "source": [
    "print(x)"
   ]
  },
  {
   "cell_type": "code",
   "execution_count": 81,
   "id": "7142ebcf",
   "metadata": {},
   "outputs": [
    {
     "data": {
      "text/plain": [
       "True"
      ]
     },
     "execution_count": 81,
     "metadata": {},
     "output_type": "execute_result"
    }
   ],
   "source": [
    "x==None"
   ]
  },
  {
   "cell_type": "code",
   "execution_count": 82,
   "id": "816a928a",
   "metadata": {},
   "outputs": [
    {
     "data": {
      "text/plain": [
       "True"
      ]
     },
     "execution_count": 82,
     "metadata": {},
     "output_type": "execute_result"
    }
   ],
   "source": [
    "x is None"
   ]
  },
  {
   "cell_type": "code",
   "execution_count": 97,
   "id": "fb422820",
   "metadata": {},
   "outputs": [
    {
     "data": {
      "text/plain": [
       "False"
      ]
     },
     "execution_count": 97,
     "metadata": {},
     "output_type": "execute_result"
    }
   ],
   "source": [
    "y is None"
   ]
  },
  {
   "cell_type": "code",
   "execution_count": 105,
   "id": "6c04535a",
   "metadata": {},
   "outputs": [
    {
     "ename": "KeyboardInterrupt",
     "evalue": "Interrupted by user",
     "output_type": "error",
     "traceback": [
      "\u001b[0;31m---------------------------------------------------------------------------\u001b[0m",
      "\u001b[0;31mKeyboardInterrupt\u001b[0m                         Traceback (most recent call last)",
      "\u001b[0;32m<ipython-input-105-855a1e076bba>\u001b[0m in \u001b[0;36m<module>\u001b[0;34m\u001b[0m\n\u001b[0;32m----> 1\u001b[0;31m \u001b[0manswer\u001b[0m\u001b[0;34m=\u001b[0m\u001b[0minput\u001b[0m\u001b[0;34m(\u001b[0m\u001b[0;34m\"do you have a dog?\"\u001b[0m\u001b[0;34m)\u001b[0m\u001b[0;34m\u001b[0m\u001b[0;34m\u001b[0m\u001b[0m\n\u001b[0m",
      "\u001b[0;32m~/opt/anaconda3/lib/python3.8/site-packages/ipykernel/kernelbase.py\u001b[0m in \u001b[0;36mraw_input\u001b[0;34m(self, prompt)\u001b[0m\n\u001b[1;32m    858\u001b[0m                 \u001b[0;34m\"raw_input was called, but this frontend does not support input requests.\"\u001b[0m\u001b[0;34m\u001b[0m\u001b[0;34m\u001b[0m\u001b[0m\n\u001b[1;32m    859\u001b[0m             )\n\u001b[0;32m--> 860\u001b[0;31m         return self._input_request(str(prompt),\n\u001b[0m\u001b[1;32m    861\u001b[0m             \u001b[0mself\u001b[0m\u001b[0;34m.\u001b[0m\u001b[0m_parent_ident\u001b[0m\u001b[0;34m,\u001b[0m\u001b[0;34m\u001b[0m\u001b[0;34m\u001b[0m\u001b[0m\n\u001b[1;32m    862\u001b[0m             \u001b[0mself\u001b[0m\u001b[0;34m.\u001b[0m\u001b[0m_parent_header\u001b[0m\u001b[0;34m,\u001b[0m\u001b[0;34m\u001b[0m\u001b[0;34m\u001b[0m\u001b[0m\n",
      "\u001b[0;32m~/opt/anaconda3/lib/python3.8/site-packages/ipykernel/kernelbase.py\u001b[0m in \u001b[0;36m_input_request\u001b[0;34m(self, prompt, ident, parent, password)\u001b[0m\n\u001b[1;32m    902\u001b[0m             \u001b[0;32mexcept\u001b[0m \u001b[0mKeyboardInterrupt\u001b[0m\u001b[0;34m:\u001b[0m\u001b[0;34m\u001b[0m\u001b[0;34m\u001b[0m\u001b[0m\n\u001b[1;32m    903\u001b[0m                 \u001b[0;31m# re-raise KeyboardInterrupt, to truncate traceback\u001b[0m\u001b[0;34m\u001b[0m\u001b[0;34m\u001b[0m\u001b[0;34m\u001b[0m\u001b[0m\n\u001b[0;32m--> 904\u001b[0;31m                 \u001b[0;32mraise\u001b[0m \u001b[0mKeyboardInterrupt\u001b[0m\u001b[0;34m(\u001b[0m\u001b[0;34m\"Interrupted by user\"\u001b[0m\u001b[0;34m)\u001b[0m \u001b[0;32mfrom\u001b[0m \u001b[0;32mNone\u001b[0m\u001b[0;34m\u001b[0m\u001b[0;34m\u001b[0m\u001b[0m\n\u001b[0m\u001b[1;32m    905\u001b[0m             \u001b[0;32mexcept\u001b[0m \u001b[0mException\u001b[0m \u001b[0;32mas\u001b[0m \u001b[0me\u001b[0m\u001b[0;34m:\u001b[0m\u001b[0;34m\u001b[0m\u001b[0;34m\u001b[0m\u001b[0m\n\u001b[1;32m    906\u001b[0m                 \u001b[0mself\u001b[0m\u001b[0;34m.\u001b[0m\u001b[0mlog\u001b[0m\u001b[0;34m.\u001b[0m\u001b[0mwarning\u001b[0m\u001b[0;34m(\u001b[0m\u001b[0;34m\"Invalid Message:\"\u001b[0m\u001b[0;34m,\u001b[0m \u001b[0mexc_info\u001b[0m\u001b[0;34m=\u001b[0m\u001b[0;32mTrue\u001b[0m\u001b[0;34m)\u001b[0m\u001b[0;34m\u001b[0m\u001b[0;34m\u001b[0m\u001b[0m\n",
      "\u001b[0;31mKeyboardInterrupt\u001b[0m: Interrupted by user"
     ]
    }
   ],
   "source": [
    "#answer=input(\"do you have a dog?\")"
   ]
  },
  {
   "cell_type": "code",
   "execution_count": null,
   "id": "05b96faa",
   "metadata": {},
   "outputs": [],
   "source": [
    "#len(answer)"
   ]
  },
  {
   "cell_type": "code",
   "execution_count": 106,
   "id": "fca55812",
   "metadata": {},
   "outputs": [
    {
     "name": "stdout",
     "output_type": "stream",
     "text": [
      "None None\n"
     ]
    }
   ],
   "source": [
    "print(cat, dog)"
   ]
  },
  {
   "cell_type": "code",
   "execution_count": 108,
   "id": "9a33bf57",
   "metadata": {},
   "outputs": [
    {
     "ename": "NameError",
     "evalue": "name 'Yes' is not defined",
     "output_type": "error",
     "traceback": [
      "\u001b[0;31m---------------------------------------------------------------------------\u001b[0m",
      "\u001b[0;31mNameError\u001b[0m                                 Traceback (most recent call last)",
      "\u001b[0;32m<ipython-input-108-1aacf6b744aa>\u001b[0m in \u001b[0;36m<module>\u001b[0;34m\u001b[0m\n\u001b[0;32m----> 1\u001b[0;31m \u001b[0manswer\u001b[0m\u001b[0;34m=\u001b[0m\u001b[0mYes\u001b[0m\u001b[0;34m\u001b[0m\u001b[0;34m\u001b[0m\u001b[0m\n\u001b[0m\u001b[1;32m      2\u001b[0m \u001b[0mdog\u001b[0m\u001b[0;34m=\u001b[0m\u001b[0manswer\u001b[0m\u001b[0;34m\u001b[0m\u001b[0;34m\u001b[0m\u001b[0m\n\u001b[1;32m      3\u001b[0m \u001b[0mprint\u001b[0m\u001b[0;34m(\u001b[0m\u001b[0mcat\u001b[0m\u001b[0;34m,\u001b[0m\u001b[0mdog\u001b[0m\u001b[0;34m)\u001b[0m\u001b[0;34m\u001b[0m\u001b[0;34m\u001b[0m\u001b[0m\n",
      "\u001b[0;31mNameError\u001b[0m: name 'Yes' is not defined"
     ]
    }
   ],
   "source": [
    "answer=Yes\n",
    "dog=answer"
   ]
  },
  {
   "cell_type": "markdown",
   "id": "3fbaccc5",
   "metadata": {},
   "source": [
    "## or ++"
   ]
  },
  {
   "cell_type": "code",
   "execution_count": 109,
   "id": "5818f282",
   "metadata": {},
   "outputs": [
    {
     "data": {
      "text/plain": [
       "999"
      ]
     },
     "execution_count": 109,
     "metadata": {},
     "output_type": "execute_result"
    }
   ],
   "source": [
    "# = assigns a name to value\n",
    "a=999\n",
    "a"
   ]
  },
  {
   "cell_type": "code",
   "execution_count": 110,
   "id": "c645a4c0",
   "metadata": {},
   "outputs": [
    {
     "data": {
      "text/plain": [
       "True"
      ]
     },
     "execution_count": 110,
     "metadata": {},
     "output_type": "execute_result"
    }
   ],
   "source": [
    "#==ask a question\" are two things the same value\"\n",
    "a==999"
   ]
  },
  {
   "cell_type": "markdown",
   "id": "ffcc57c5",
   "metadata": {},
   "source": [
    "## Assign variable to other variables"
   ]
  },
  {
   "cell_type": "code",
   "execution_count": 111,
   "id": "9e241285",
   "metadata": {},
   "outputs": [
    {
     "data": {
      "text/plain": [
       "234"
      ]
     },
     "execution_count": 111,
     "metadata": {},
     "output_type": "execute_result"
    }
   ],
   "source": [
    "zebra=234\n",
    "zebra"
   ]
  },
  {
   "cell_type": "code",
   "execution_count": 112,
   "id": "b856ea66",
   "metadata": {},
   "outputs": [],
   "source": [
    "yak=zebra"
   ]
  },
  {
   "cell_type": "code",
   "execution_count": 113,
   "id": "2265d0d1",
   "metadata": {},
   "outputs": [
    {
     "data": {
      "text/plain": [
       "234"
      ]
     },
     "execution_count": 113,
     "metadata": {},
     "output_type": "execute_result"
    }
   ],
   "source": [
    "yak"
   ]
  },
  {
   "cell_type": "code",
   "execution_count": 114,
   "id": "b23fe1e1",
   "metadata": {},
   "outputs": [],
   "source": [
    "x=y=z=\"hey\""
   ]
  },
  {
   "cell_type": "markdown",
   "id": "a03dfc2e",
   "metadata": {},
   "source": [
    "## Assign via 'unpacking' operation"
   ]
  },
  {
   "cell_type": "code",
   "execution_count": 115,
   "id": "acb5b51d",
   "metadata": {},
   "outputs": [
    {
     "data": {
      "text/plain": [
       "tuple"
      ]
     },
     "execution_count": 115,
     "metadata": {},
     "output_type": "execute_result"
    }
   ],
   "source": [
    "# collection -->nindividual name :objects pairs\n",
    "#Most collections are 'iterable' (know how to loop thru elements)\n",
    "#collectio = a bunch of objects\n",
    "tuple_a=(123, 1.2, 'mystring')\n",
    "type(tuple_a)"
   ]
  },
  {
   "cell_type": "code",
   "execution_count": 116,
   "id": "177df61d",
   "metadata": {},
   "outputs": [
    {
     "data": {
      "text/plain": [
       "(123, 1.2, 'mystring')"
      ]
     },
     "execution_count": 116,
     "metadata": {},
     "output_type": "execute_result"
    }
   ],
   "source": [
    "tuple_a"
   ]
  },
  {
   "cell_type": "code",
   "execution_count": 117,
   "id": "df2e18fb",
   "metadata": {},
   "outputs": [
    {
     "name": "stdout",
     "output_type": "stream",
     "text": [
      "type <class 'list'>\n"
     ]
    },
    {
     "data": {
      "text/plain": [
       "[123, 1.2, 'my_string']"
      ]
     },
     "execution_count": 117,
     "metadata": {},
     "output_type": "execute_result"
    }
   ],
   "source": [
    "list_a=[123, 1.2, 'my_string']\n",
    "print('type', type(list_a))\n",
    "list_a"
   ]
  },
  {
   "cell_type": "code",
   "execution_count": null,
   "id": "bdfd5107",
   "metadata": {},
   "outputs": [],
   "source": []
  }
 ],
 "metadata": {
  "kernelspec": {
   "display_name": "Python 3",
   "language": "python",
   "name": "python3"
  },
  "language_info": {
   "codemirror_mode": {
    "name": "ipython",
    "version": 3
   },
   "file_extension": ".py",
   "mimetype": "text/x-python",
   "name": "python",
   "nbconvert_exporter": "python",
   "pygments_lexer": "ipython3",
   "version": "3.8.8"
  }
 },
 "nbformat": 4,
 "nbformat_minor": 5
}
