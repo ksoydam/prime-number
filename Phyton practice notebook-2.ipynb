{
 "cells": [
  {
   "cell_type": "markdown",
   "id": "0b20df8a",
   "metadata": {},
   "source": [
    "None Type"
   ]
  },
  {
   "cell_type": "code",
   "execution_count": 1,
   "id": "38ad2808",
   "metadata": {},
   "outputs": [],
   "source": [
    "cat = None\n",
    "dog = None"
   ]
  },
  {
   "cell_type": "code",
   "execution_count": 7,
   "id": "1da8abf7",
   "metadata": {},
   "outputs": [
    {
     "name": "stdout",
     "output_type": "stream",
     "text": [
      "None None\n"
     ]
    }
   ],
   "source": [
    "print(dog,cat)"
   ]
  },
  {
   "cell_type": "code",
   "execution_count": 8,
   "id": "3ca0a0af",
   "metadata": {},
   "outputs": [],
   "source": [
    "x,y,z=5,5,5"
   ]
  },
  {
   "cell_type": "code",
   "execution_count": 9,
   "id": "22f6cb06",
   "metadata": {},
   "outputs": [
    {
     "name": "stdout",
     "output_type": "stream",
     "text": [
      "1\n"
     ]
    }
   ],
   "source": [
    "print(x)"
   ]
  },
  {
   "cell_type": "code",
   "execution_count": 11,
   "id": "5b342074",
   "metadata": {},
   "outputs": [
    {
     "name": "stdout",
     "output_type": "stream",
     "text": [
      "2\n"
     ]
    }
   ],
   "source": [
    "print(y)"
   ]
  },
  {
   "cell_type": "code",
   "execution_count": 9,
   "id": "fd21780b",
   "metadata": {},
   "outputs": [
    {
     "name": "stdout",
     "output_type": "stream",
     "text": [
      "1 2 3\n"
     ]
    }
   ],
   "source": [
    "x=1\n",
    "y=2\n",
    "z=3\n",
    "print(x,y,z)"
   ]
  },
  {
   "cell_type": "code",
   "execution_count": 10,
   "id": "79c5c0bc",
   "metadata": {},
   "outputs": [
    {
     "name": "stdout",
     "output_type": "stream",
     "text": [
      "3\n"
     ]
    }
   ],
   "source": [
    "print(x+y)"
   ]
  },
  {
   "cell_type": "code",
   "execution_count": 11,
   "id": "0570d9ec",
   "metadata": {},
   "outputs": [
    {
     "name": "stdout",
     "output_type": "stream",
     "text": [
      "8\n"
     ]
    }
   ],
   "source": [
    "print(x*2+z*2)"
   ]
  },
  {
   "cell_type": "code",
   "execution_count": null,
   "id": "163cad59",
   "metadata": {},
   "outputs": [],
   "source": []
  },
  {
   "cell_type": "code",
   "execution_count": null,
   "id": "5e1ed06c",
   "metadata": {},
   "outputs": [],
   "source": []
  },
  {
   "cell_type": "code",
   "execution_count": null,
   "id": "2e89fbb0",
   "metadata": {},
   "outputs": [],
   "source": []
  },
  {
   "cell_type": "code",
   "execution_count": null,
   "id": "65b4d69e",
   "metadata": {},
   "outputs": [],
   "source": []
  },
  {
   "cell_type": "code",
   "execution_count": null,
   "id": "d4bf59e1",
   "metadata": {},
   "outputs": [],
   "source": []
  },
  {
   "cell_type": "code",
   "execution_count": 14,
   "id": "892998e1",
   "metadata": {},
   "outputs": [
    {
     "data": {
      "text/plain": [
       "4437444992"
      ]
     },
     "execution_count": 14,
     "metadata": {},
     "output_type": "execute_result"
    }
   ],
   "source": [
    "id(y)"
   ]
  },
  {
   "cell_type": "code",
   "execution_count": 15,
   "id": "41b4ef2a",
   "metadata": {},
   "outputs": [],
   "source": [
    "a=5\n",
    "b=7\n",
    "c=12"
   ]
  },
  {
   "cell_type": "code",
   "execution_count": 16,
   "id": "571e25ae",
   "metadata": {},
   "outputs": [
    {
     "name": "stdout",
     "output_type": "stream",
     "text": [
      "<class 'str'>\n"
     ]
    }
   ],
   "source": [
    "print(str)"
   ]
  },
  {
   "cell_type": "code",
   "execution_count": 20,
   "id": "e8c22eb1",
   "metadata": {},
   "outputs": [
    {
     "data": {
      "text/plain": [
       "['__add__',\n",
       " '__class__',\n",
       " '__contains__',\n",
       " '__delattr__',\n",
       " '__dir__',\n",
       " '__doc__',\n",
       " '__eq__',\n",
       " '__format__',\n",
       " '__ge__',\n",
       " '__getattribute__',\n",
       " '__getitem__',\n",
       " '__getnewargs__',\n",
       " '__gt__',\n",
       " '__hash__',\n",
       " '__init__',\n",
       " '__init_subclass__',\n",
       " '__iter__',\n",
       " '__le__',\n",
       " '__len__',\n",
       " '__lt__',\n",
       " '__mod__',\n",
       " '__mul__',\n",
       " '__ne__',\n",
       " '__new__',\n",
       " '__reduce__',\n",
       " '__reduce_ex__',\n",
       " '__repr__',\n",
       " '__rmod__',\n",
       " '__rmul__',\n",
       " '__setattr__',\n",
       " '__sizeof__',\n",
       " '__str__',\n",
       " '__subclasshook__',\n",
       " 'capitalize',\n",
       " 'casefold',\n",
       " 'center',\n",
       " 'count',\n",
       " 'encode',\n",
       " 'endswith',\n",
       " 'expandtabs',\n",
       " 'find',\n",
       " 'format',\n",
       " 'format_map',\n",
       " 'index',\n",
       " 'isalnum',\n",
       " 'isalpha',\n",
       " 'isascii',\n",
       " 'isdecimal',\n",
       " 'isdigit',\n",
       " 'isidentifier',\n",
       " 'islower',\n",
       " 'isnumeric',\n",
       " 'isprintable',\n",
       " 'isspace',\n",
       " 'istitle',\n",
       " 'isupper',\n",
       " 'join',\n",
       " 'ljust',\n",
       " 'lower',\n",
       " 'lstrip',\n",
       " 'maketrans',\n",
       " 'partition',\n",
       " 'replace',\n",
       " 'rfind',\n",
       " 'rindex',\n",
       " 'rjust',\n",
       " 'rpartition',\n",
       " 'rsplit',\n",
       " 'rstrip',\n",
       " 'split',\n",
       " 'splitlines',\n",
       " 'startswith',\n",
       " 'strip',\n",
       " 'swapcase',\n",
       " 'title',\n",
       " 'translate',\n",
       " 'upper',\n",
       " 'zfill']"
      ]
     },
     "execution_count": 20,
     "metadata": {},
     "output_type": "execute_result"
    }
   ],
   "source": [
    "dir(str)"
   ]
  },
  {
   "cell_type": "code",
   "execution_count": null,
   "id": "f6644217",
   "metadata": {},
   "outputs": [],
   "source": [
    "a=5\n",
    "b=7\n",
    "c=12"
   ]
  },
  {
   "cell_type": "code",
   "execution_count": 12,
   "id": "b794e6b2",
   "metadata": {},
   "outputs": [
    {
     "data": {
      "text/plain": [
       "10"
      ]
     },
     "execution_count": 12,
     "metadata": {},
     "output_type": "execute_result"
    }
   ],
   "source": [
    "5*2"
   ]
  },
  {
   "cell_type": "code",
   "execution_count": 15,
   "id": "3bcf7cf7",
   "metadata": {},
   "outputs": [
    {
     "name": "stdout",
     "output_type": "stream",
     "text": [
      "39\n"
     ]
    }
   ],
   "source": [
    "a=5\n",
    "b=7\n",
    "c=12\n",
    "print(a*5+b*2)"
   ]
  },
  {
   "cell_type": "code",
   "execution_count": 14,
   "id": "7a809d1c",
   "metadata": {},
   "outputs": [
    {
     "ename": "NameError",
     "evalue": "name 'a' is not defined",
     "output_type": "error",
     "traceback": [
      "\u001b[0;31m---------------------------------------------------------------------------\u001b[0m",
      "\u001b[0;31mNameError\u001b[0m                                 Traceback (most recent call last)",
      "\u001b[0;32m<ipython-input-14-f55a6a153b65>\u001b[0m in \u001b[0;36m<module>\u001b[0;34m\u001b[0m\n\u001b[0;32m----> 1\u001b[0;31m \u001b[0ma\u001b[0m\u001b[0;34m*\u001b[0m\u001b[0;36m5\u001b[0m\u001b[0;34m\u001b[0m\u001b[0;34m\u001b[0m\u001b[0m\n\u001b[0m",
      "\u001b[0;31mNameError\u001b[0m: name 'a' is not defined"
     ]
    }
   ],
   "source": [
    "a*5"
   ]
  },
  {
   "cell_type": "code",
   "execution_count": 23,
   "id": "1be306ad",
   "metadata": {},
   "outputs": [
    {
     "data": {
      "text/plain": [
       "35"
      ]
     },
     "execution_count": 23,
     "metadata": {},
     "output_type": "execute_result"
    }
   ],
   "source": [
    "b*5"
   ]
  },
  {
   "cell_type": "code",
   "execution_count": 24,
   "id": "2e9649df",
   "metadata": {},
   "outputs": [
    {
     "data": {
      "text/plain": [
       "60"
      ]
     },
     "execution_count": 24,
     "metadata": {},
     "output_type": "execute_result"
    }
   ],
   "source": [
    "c*5"
   ]
  },
  {
   "cell_type": "markdown",
   "id": "4a68b698",
   "metadata": {},
   "source": [
    "Constructors"
   ]
  },
  {
   "cell_type": "code",
   "execution_count": 28,
   "id": "17b5cf84",
   "metadata": {},
   "outputs": [
    {
     "name": "stdout",
     "output_type": "stream",
     "text": [
      "[1, 3]\n"
     ]
    }
   ],
   "source": [
    "list_b=[1,3]\n",
    "print(list_b)"
   ]
  },
  {
   "cell_type": "code",
   "execution_count": 29,
   "id": "ead65d89",
   "metadata": {},
   "outputs": [
    {
     "data": {
      "text/plain": [
       "[]"
      ]
     },
     "execution_count": 29,
     "metadata": {},
     "output_type": "execute_result"
    }
   ],
   "source": [
    "list()"
   ]
  },
  {
   "cell_type": "code",
   "execution_count": 30,
   "id": "e19e9e88",
   "metadata": {},
   "outputs": [
    {
     "data": {
      "text/plain": [
       "(1, 2)"
      ]
     },
     "execution_count": 30,
     "metadata": {},
     "output_type": "execute_result"
    }
   ],
   "source": [
    "tuple_b=(1,2)\n",
    "tuple_b"
   ]
  },
  {
   "cell_type": "markdown",
   "id": "97b2c2dc",
   "metadata": {},
   "source": [
    "Working with String"
   ]
  },
  {
   "cell_type": "code",
   "execution_count": 31,
   "id": "c8316db3",
   "metadata": {},
   "outputs": [
    {
     "data": {
      "text/plain": [
       "'Success is measured by effort'"
      ]
     },
     "execution_count": 31,
     "metadata": {},
     "output_type": "execute_result"
    }
   ],
   "source": [
    "\"Success is measured by effort\""
   ]
  },
  {
   "cell_type": "code",
   "execution_count": 32,
   "id": "45bb20c1",
   "metadata": {},
   "outputs": [],
   "source": [
    "kamuran='success is measured by effort'"
   ]
  },
  {
   "cell_type": "code",
   "execution_count": 33,
   "id": "15449762",
   "metadata": {},
   "outputs": [
    {
     "data": {
      "text/plain": [
       "'success is measured by effort'"
      ]
     },
     "execution_count": 33,
     "metadata": {},
     "output_type": "execute_result"
    }
   ],
   "source": [
    "kamuran"
   ]
  },
  {
   "cell_type": "code",
   "execution_count": 34,
   "id": "bbce7ec6",
   "metadata": {},
   "outputs": [
    {
     "data": {
      "text/plain": [
       "str"
      ]
     },
     "execution_count": 34,
     "metadata": {},
     "output_type": "execute_result"
    }
   ],
   "source": [
    "type(kamuran)"
   ]
  },
  {
   "cell_type": "code",
   "execution_count": 35,
   "id": "451d3cc0",
   "metadata": {},
   "outputs": [],
   "source": [
    "#assign a name to string object\n",
    "kamuran='success is measured by effort'"
   ]
  },
  {
   "cell_type": "code",
   "execution_count": 36,
   "id": "5ecb406a",
   "metadata": {},
   "outputs": [
    {
     "name": "stdout",
     "output_type": "stream",
     "text": [
      "Help on class str in module builtins:\n",
      "\n",
      "class str(object)\n",
      " |  str(object='') -> str\n",
      " |  str(bytes_or_buffer[, encoding[, errors]]) -> str\n",
      " |  \n",
      " |  Create a new string object from the given object. If encoding or\n",
      " |  errors is specified, then the object must expose a data buffer\n",
      " |  that will be decoded using the given encoding and error handler.\n",
      " |  Otherwise, returns the result of object.__str__() (if defined)\n",
      " |  or repr(object).\n",
      " |  encoding defaults to sys.getdefaultencoding().\n",
      " |  errors defaults to 'strict'.\n",
      " |  \n",
      " |  Methods defined here:\n",
      " |  \n",
      " |  __add__(self, value, /)\n",
      " |      Return self+value.\n",
      " |  \n",
      " |  __contains__(self, key, /)\n",
      " |      Return key in self.\n",
      " |  \n",
      " |  __eq__(self, value, /)\n",
      " |      Return self==value.\n",
      " |  \n",
      " |  __format__(self, format_spec, /)\n",
      " |      Return a formatted version of the string as described by format_spec.\n",
      " |  \n",
      " |  __ge__(self, value, /)\n",
      " |      Return self>=value.\n",
      " |  \n",
      " |  __getattribute__(self, name, /)\n",
      " |      Return getattr(self, name).\n",
      " |  \n",
      " |  __getitem__(self, key, /)\n",
      " |      Return self[key].\n",
      " |  \n",
      " |  __getnewargs__(...)\n",
      " |  \n",
      " |  __gt__(self, value, /)\n",
      " |      Return self>value.\n",
      " |  \n",
      " |  __hash__(self, /)\n",
      " |      Return hash(self).\n",
      " |  \n",
      " |  __iter__(self, /)\n",
      " |      Implement iter(self).\n",
      " |  \n",
      " |  __le__(self, value, /)\n",
      " |      Return self<=value.\n",
      " |  \n",
      " |  __len__(self, /)\n",
      " |      Return len(self).\n",
      " |  \n",
      " |  __lt__(self, value, /)\n",
      " |      Return self<value.\n",
      " |  \n",
      " |  __mod__(self, value, /)\n",
      " |      Return self%value.\n",
      " |  \n",
      " |  __mul__(self, value, /)\n",
      " |      Return self*value.\n",
      " |  \n",
      " |  __ne__(self, value, /)\n",
      " |      Return self!=value.\n",
      " |  \n",
      " |  __repr__(self, /)\n",
      " |      Return repr(self).\n",
      " |  \n",
      " |  __rmod__(self, value, /)\n",
      " |      Return value%self.\n",
      " |  \n",
      " |  __rmul__(self, value, /)\n",
      " |      Return value*self.\n",
      " |  \n",
      " |  __sizeof__(self, /)\n",
      " |      Return the size of the string in memory, in bytes.\n",
      " |  \n",
      " |  __str__(self, /)\n",
      " |      Return str(self).\n",
      " |  \n",
      " |  capitalize(self, /)\n",
      " |      Return a capitalized version of the string.\n",
      " |      \n",
      " |      More specifically, make the first character have upper case and the rest lower\n",
      " |      case.\n",
      " |  \n",
      " |  casefold(self, /)\n",
      " |      Return a version of the string suitable for caseless comparisons.\n",
      " |  \n",
      " |  center(self, width, fillchar=' ', /)\n",
      " |      Return a centered string of length width.\n",
      " |      \n",
      " |      Padding is done using the specified fill character (default is a space).\n",
      " |  \n",
      " |  count(...)\n",
      " |      S.count(sub[, start[, end]]) -> int\n",
      " |      \n",
      " |      Return the number of non-overlapping occurrences of substring sub in\n",
      " |      string S[start:end].  Optional arguments start and end are\n",
      " |      interpreted as in slice notation.\n",
      " |  \n",
      " |  encode(self, /, encoding='utf-8', errors='strict')\n",
      " |      Encode the string using the codec registered for encoding.\n",
      " |      \n",
      " |      encoding\n",
      " |        The encoding in which to encode the string.\n",
      " |      errors\n",
      " |        The error handling scheme to use for encoding errors.\n",
      " |        The default is 'strict' meaning that encoding errors raise a\n",
      " |        UnicodeEncodeError.  Other possible values are 'ignore', 'replace' and\n",
      " |        'xmlcharrefreplace' as well as any other name registered with\n",
      " |        codecs.register_error that can handle UnicodeEncodeErrors.\n",
      " |  \n",
      " |  endswith(...)\n",
      " |      S.endswith(suffix[, start[, end]]) -> bool\n",
      " |      \n",
      " |      Return True if S ends with the specified suffix, False otherwise.\n",
      " |      With optional start, test S beginning at that position.\n",
      " |      With optional end, stop comparing S at that position.\n",
      " |      suffix can also be a tuple of strings to try.\n",
      " |  \n",
      " |  expandtabs(self, /, tabsize=8)\n",
      " |      Return a copy where all tab characters are expanded using spaces.\n",
      " |      \n",
      " |      If tabsize is not given, a tab size of 8 characters is assumed.\n",
      " |  \n",
      " |  find(...)\n",
      " |      S.find(sub[, start[, end]]) -> int\n",
      " |      \n",
      " |      Return the lowest index in S where substring sub is found,\n",
      " |      such that sub is contained within S[start:end].  Optional\n",
      " |      arguments start and end are interpreted as in slice notation.\n",
      " |      \n",
      " |      Return -1 on failure.\n",
      " |  \n",
      " |  format(...)\n",
      " |      S.format(*args, **kwargs) -> str\n",
      " |      \n",
      " |      Return a formatted version of S, using substitutions from args and kwargs.\n",
      " |      The substitutions are identified by braces ('{' and '}').\n",
      " |  \n",
      " |  format_map(...)\n",
      " |      S.format_map(mapping) -> str\n",
      " |      \n",
      " |      Return a formatted version of S, using substitutions from mapping.\n",
      " |      The substitutions are identified by braces ('{' and '}').\n",
      " |  \n",
      " |  index(...)\n",
      " |      S.index(sub[, start[, end]]) -> int\n",
      " |      \n",
      " |      Return the lowest index in S where substring sub is found,\n",
      " |      such that sub is contained within S[start:end].  Optional\n",
      " |      arguments start and end are interpreted as in slice notation.\n",
      " |      \n",
      " |      Raises ValueError when the substring is not found.\n",
      " |  \n",
      " |  isalnum(self, /)\n",
      " |      Return True if the string is an alpha-numeric string, False otherwise.\n",
      " |      \n",
      " |      A string is alpha-numeric if all characters in the string are alpha-numeric and\n",
      " |      there is at least one character in the string.\n",
      " |  \n",
      " |  isalpha(self, /)\n",
      " |      Return True if the string is an alphabetic string, False otherwise.\n",
      " |      \n",
      " |      A string is alphabetic if all characters in the string are alphabetic and there\n",
      " |      is at least one character in the string.\n",
      " |  \n",
      " |  isascii(self, /)\n",
      " |      Return True if all characters in the string are ASCII, False otherwise.\n",
      " |      \n",
      " |      ASCII characters have code points in the range U+0000-U+007F.\n",
      " |      Empty string is ASCII too.\n",
      " |  \n",
      " |  isdecimal(self, /)\n",
      " |      Return True if the string is a decimal string, False otherwise.\n",
      " |      \n",
      " |      A string is a decimal string if all characters in the string are decimal and\n",
      " |      there is at least one character in the string.\n",
      " |  \n",
      " |  isdigit(self, /)\n",
      " |      Return True if the string is a digit string, False otherwise.\n",
      " |      \n",
      " |      A string is a digit string if all characters in the string are digits and there\n",
      " |      is at least one character in the string.\n",
      " |  \n",
      " |  isidentifier(self, /)\n",
      " |      Return True if the string is a valid Python identifier, False otherwise.\n",
      " |      \n",
      " |      Call keyword.iskeyword(s) to test whether string s is a reserved identifier,\n",
      " |      such as \"def\" or \"class\".\n",
      " |  \n",
      " |  islower(self, /)\n",
      " |      Return True if the string is a lowercase string, False otherwise.\n",
      " |      \n",
      " |      A string is lowercase if all cased characters in the string are lowercase and\n",
      " |      there is at least one cased character in the string.\n",
      " |  \n",
      " |  isnumeric(self, /)\n",
      " |      Return True if the string is a numeric string, False otherwise.\n",
      " |      \n",
      " |      A string is numeric if all characters in the string are numeric and there is at\n",
      " |      least one character in the string.\n",
      " |  \n",
      " |  isprintable(self, /)\n",
      " |      Return True if the string is printable, False otherwise.\n",
      " |      \n",
      " |      A string is printable if all of its characters are considered printable in\n",
      " |      repr() or if it is empty.\n",
      " |  \n",
      " |  isspace(self, /)\n",
      " |      Return True if the string is a whitespace string, False otherwise.\n",
      " |      \n",
      " |      A string is whitespace if all characters in the string are whitespace and there\n",
      " |      is at least one character in the string.\n",
      " |  \n",
      " |  istitle(self, /)\n",
      " |      Return True if the string is a title-cased string, False otherwise.\n",
      " |      \n",
      " |      In a title-cased string, upper- and title-case characters may only\n",
      " |      follow uncased characters and lowercase characters only cased ones.\n",
      " |  \n",
      " |  isupper(self, /)\n",
      " |      Return True if the string is an uppercase string, False otherwise.\n",
      " |      \n",
      " |      A string is uppercase if all cased characters in the string are uppercase and\n",
      " |      there is at least one cased character in the string.\n",
      " |  \n",
      " |  join(self, iterable, /)\n",
      " |      Concatenate any number of strings.\n",
      " |      \n",
      " |      The string whose method is called is inserted in between each given string.\n",
      " |      The result is returned as a new string.\n",
      " |      \n",
      " |      Example: '.'.join(['ab', 'pq', 'rs']) -> 'ab.pq.rs'\n",
      " |  \n",
      " |  ljust(self, width, fillchar=' ', /)\n",
      " |      Return a left-justified string of length width.\n",
      " |      \n",
      " |      Padding is done using the specified fill character (default is a space).\n",
      " |  \n",
      " |  lower(self, /)\n",
      " |      Return a copy of the string converted to lowercase.\n",
      " |  \n",
      " |  lstrip(self, chars=None, /)\n",
      " |      Return a copy of the string with leading whitespace removed.\n",
      " |      \n",
      " |      If chars is given and not None, remove characters in chars instead.\n",
      " |  \n",
      " |  partition(self, sep, /)\n",
      " |      Partition the string into three parts using the given separator.\n",
      " |      \n",
      " |      This will search for the separator in the string.  If the separator is found,\n",
      " |      returns a 3-tuple containing the part before the separator, the separator\n",
      " |      itself, and the part after it.\n",
      " |      \n",
      " |      If the separator is not found, returns a 3-tuple containing the original string\n",
      " |      and two empty strings.\n",
      " |  \n",
      " |  replace(self, old, new, count=-1, /)\n",
      " |      Return a copy with all occurrences of substring old replaced by new.\n",
      " |      \n",
      " |        count\n",
      " |          Maximum number of occurrences to replace.\n",
      " |          -1 (the default value) means replace all occurrences.\n",
      " |      \n",
      " |      If the optional argument count is given, only the first count occurrences are\n",
      " |      replaced.\n",
      " |  \n",
      " |  rfind(...)\n",
      " |      S.rfind(sub[, start[, end]]) -> int\n",
      " |      \n",
      " |      Return the highest index in S where substring sub is found,\n",
      " |      such that sub is contained within S[start:end].  Optional\n",
      " |      arguments start and end are interpreted as in slice notation.\n",
      " |      \n",
      " |      Return -1 on failure.\n",
      " |  \n",
      " |  rindex(...)\n",
      " |      S.rindex(sub[, start[, end]]) -> int\n",
      " |      \n",
      " |      Return the highest index in S where substring sub is found,\n",
      " |      such that sub is contained within S[start:end].  Optional\n",
      " |      arguments start and end are interpreted as in slice notation.\n",
      " |      \n",
      " |      Raises ValueError when the substring is not found.\n",
      " |  \n",
      " |  rjust(self, width, fillchar=' ', /)\n",
      " |      Return a right-justified string of length width.\n",
      " |      \n",
      " |      Padding is done using the specified fill character (default is a space).\n",
      " |  \n",
      " |  rpartition(self, sep, /)\n",
      " |      Partition the string into three parts using the given separator.\n",
      " |      \n",
      " |      This will search for the separator in the string, starting at the end. If\n",
      " |      the separator is found, returns a 3-tuple containing the part before the\n",
      " |      separator, the separator itself, and the part after it.\n",
      " |      \n",
      " |      If the separator is not found, returns a 3-tuple containing two empty strings\n",
      " |      and the original string.\n",
      " |  \n",
      " |  rsplit(self, /, sep=None, maxsplit=-1)\n",
      " |      Return a list of the words in the string, using sep as the delimiter string.\n",
      " |      \n",
      " |        sep\n",
      " |          The delimiter according which to split the string.\n",
      " |          None (the default value) means split according to any whitespace,\n",
      " |          and discard empty strings from the result.\n",
      " |        maxsplit\n",
      " |          Maximum number of splits to do.\n",
      " |          -1 (the default value) means no limit.\n",
      " |      \n",
      " |      Splits are done starting at the end of the string and working to the front.\n",
      " |  \n",
      " |  rstrip(self, chars=None, /)\n",
      " |      Return a copy of the string with trailing whitespace removed.\n",
      " |      \n",
      " |      If chars is given and not None, remove characters in chars instead.\n",
      " |  \n",
      " |  split(self, /, sep=None, maxsplit=-1)\n",
      " |      Return a list of the words in the string, using sep as the delimiter string.\n",
      " |      \n",
      " |      sep\n",
      " |        The delimiter according which to split the string.\n",
      " |        None (the default value) means split according to any whitespace,\n",
      " |        and discard empty strings from the result.\n",
      " |      maxsplit\n",
      " |        Maximum number of splits to do.\n",
      " |        -1 (the default value) means no limit.\n",
      " |  \n",
      " |  splitlines(self, /, keepends=False)\n",
      " |      Return a list of the lines in the string, breaking at line boundaries.\n",
      " |      \n",
      " |      Line breaks are not included in the resulting list unless keepends is given and\n",
      " |      true.\n",
      " |  \n",
      " |  startswith(...)\n",
      " |      S.startswith(prefix[, start[, end]]) -> bool\n",
      " |      \n",
      " |      Return True if S starts with the specified prefix, False otherwise.\n",
      " |      With optional start, test S beginning at that position.\n",
      " |      With optional end, stop comparing S at that position.\n",
      " |      prefix can also be a tuple of strings to try.\n",
      " |  \n",
      " |  strip(self, chars=None, /)\n",
      " |      Return a copy of the string with leading and trailing whitespace removed.\n",
      " |      \n",
      " |      If chars is given and not None, remove characters in chars instead.\n",
      " |  \n",
      " |  swapcase(self, /)\n",
      " |      Convert uppercase characters to lowercase and lowercase characters to uppercase.\n",
      " |  \n",
      " |  title(self, /)\n",
      " |      Return a version of the string where each word is titlecased.\n",
      " |      \n",
      " |      More specifically, words start with uppercased characters and all remaining\n",
      " |      cased characters have lower case.\n",
      " |  \n",
      " |  translate(self, table, /)\n",
      " |      Replace each character in the string using the given translation table.\n",
      " |      \n",
      " |        table\n",
      " |          Translation table, which must be a mapping of Unicode ordinals to\n",
      " |          Unicode ordinals, strings, or None.\n",
      " |      \n",
      " |      The table must implement lookup/indexing via __getitem__, for instance a\n",
      " |      dictionary or list.  If this operation raises LookupError, the character is\n",
      " |      left untouched.  Characters mapped to None are deleted.\n",
      " |  \n",
      " |  upper(self, /)\n",
      " |      Return a copy of the string converted to uppercase.\n",
      " |  \n",
      " |  zfill(self, width, /)\n",
      " |      Pad a numeric string with zeros on the left, to fill a field of the given width.\n",
      " |      \n",
      " |      The string is never truncated.\n",
      " |  \n",
      " |  ----------------------------------------------------------------------\n",
      " |  Static methods defined here:\n",
      " |  \n",
      " |  __new__(*args, **kwargs) from builtins.type\n",
      " |      Create and return a new object.  See help(type) for accurate signature.\n",
      " |  \n",
      " |  maketrans(...)\n",
      " |      Return a translation table usable for str.translate().\n",
      " |      \n",
      " |      If there is only one argument, it must be a dictionary mapping Unicode\n",
      " |      ordinals (integers) or characters to Unicode ordinals, strings or None.\n",
      " |      Character keys will be then converted to ordinals.\n",
      " |      If there are two arguments, they must be strings of equal length, and\n",
      " |      in the resulting dictionary, each character in x will be mapped to the\n",
      " |      character at the same position in y. If there is a third argument, it\n",
      " |      must be a string, whose characters will be mapped to None in the result.\n",
      "\n"
     ]
    }
   ],
   "source": [
    "help(str)"
   ]
  },
  {
   "cell_type": "code",
   "execution_count": 40,
   "id": "93b78b78",
   "metadata": {},
   "outputs": [
    {
     "name": "stdout",
     "output_type": "stream",
     "text": [
      "t <class 'str'>\n",
      "u <class 'str'>\n",
      "r <class 'str'>\n",
      "k <class 'str'>\n",
      "e <class 'str'>\n",
      "y <class 'str'>\n"
     ]
    }
   ],
   "source": [
    "t='turkey'\n",
    "for char in t:\n",
    "    print(char,type(char))"
   ]
  },
  {
   "cell_type": "code",
   "execution_count": 41,
   "id": "0a820342",
   "metadata": {},
   "outputs": [
    {
     "data": {
      "text/plain": [
       "'TURKEY'"
      ]
     },
     "execution_count": 41,
     "metadata": {},
     "output_type": "execute_result"
    }
   ],
   "source": [
    "t.upper()"
   ]
  },
  {
   "cell_type": "code",
   "execution_count": 42,
   "id": "78ed58b6",
   "metadata": {},
   "outputs": [
    {
     "data": {
      "text/plain": [
       "'turkey'"
      ]
     },
     "execution_count": 42,
     "metadata": {},
     "output_type": "execute_result"
    }
   ],
   "source": [
    "t.lower()"
   ]
  },
  {
   "cell_type": "code",
   "execution_count": 18,
   "id": "4dce4a74",
   "metadata": {},
   "outputs": [
    {
     "name": "stdout",
     "output_type": "stream",
     "text": [
      "k <class 'str'>\n",
      "u <class 'str'>\n",
      "b <class 'str'>\n",
      "r <class 'str'>\n",
      "a <class 'str'>\n"
     ]
    }
   ],
   "source": [
    "k='kubra'\n",
    "for char in k:\n",
    "    print(char,type(char))"
   ]
  },
  {
   "cell_type": "code",
   "execution_count": 19,
   "id": "ddb9c567",
   "metadata": {},
   "outputs": [
    {
     "data": {
      "text/plain": [
       "'KUBRA'"
      ]
     },
     "execution_count": 19,
     "metadata": {},
     "output_type": "execute_result"
    }
   ],
   "source": [
    "k.upper()"
   ]
  },
  {
   "cell_type": "code",
   "execution_count": 21,
   "id": "45aae789",
   "metadata": {},
   "outputs": [
    {
     "data": {
      "text/plain": [
       "'kubra'"
      ]
     },
     "execution_count": 21,
     "metadata": {},
     "output_type": "execute_result"
    }
   ],
   "source": [
    "k.lower()"
   ]
  },
  {
   "cell_type": "code",
   "execution_count": 22,
   "id": "afe0fa29",
   "metadata": {},
   "outputs": [
    {
     "name": "stdout",
     "output_type": "stream",
     "text": [
      "kubra\n"
     ]
    }
   ],
   "source": [
    "print(k)"
   ]
  },
  {
   "cell_type": "code",
   "execution_count": 25,
   "id": "ba8a1cd4",
   "metadata": {},
   "outputs": [
    {
     "data": {
      "text/plain": [
       "'KUBRA'"
      ]
     },
     "execution_count": 25,
     "metadata": {},
     "output_type": "execute_result"
    }
   ],
   "source": [
    "k.swapcase()"
   ]
  },
  {
   "cell_type": "code",
   "execution_count": 26,
   "id": "61d70559",
   "metadata": {},
   "outputs": [
    {
     "data": {
      "text/plain": [
       "'Kubra'"
      ]
     },
     "execution_count": 26,
     "metadata": {},
     "output_type": "execute_result"
    }
   ],
   "source": [
    "k.title()"
   ]
  },
  {
   "cell_type": "code",
   "execution_count": null,
   "id": "806baa0f",
   "metadata": {},
   "outputs": [],
   "source": []
  },
  {
   "cell_type": "markdown",
   "id": "96f01b2b",
   "metadata": {},
   "source": [
    "c=-234+34j"
   ]
  },
  {
   "cell_type": "code",
   "execution_count": 1,
   "id": "8953f995",
   "metadata": {},
   "outputs": [
    {
     "data": {
      "text/plain": [
       "complex"
      ]
     },
     "execution_count": 1,
     "metadata": {},
     "output_type": "execute_result"
    }
   ],
   "source": [
    "c=234 + 34j\n",
    "type(c)"
   ]
  },
  {
   "cell_type": "code",
   "execution_count": 28,
   "id": "0862e641",
   "metadata": {},
   "outputs": [
    {
     "data": {
      "text/plain": [
       "complex"
      ]
     },
     "execution_count": 28,
     "metadata": {},
     "output_type": "execute_result"
    }
   ],
   "source": [
    "d=234 + 34j\n",
    "type(d)"
   ]
  },
  {
   "cell_type": "code",
   "execution_count": 29,
   "id": "f0382da3",
   "metadata": {},
   "outputs": [
    {
     "data": {
      "text/plain": [
       "int"
      ]
     },
     "execution_count": 29,
     "metadata": {},
     "output_type": "execute_result"
    }
   ],
   "source": [
    "d=234\n",
    "type(d)"
   ]
  },
  {
   "cell_type": "code",
   "execution_count": 32,
   "id": "1934cb62",
   "metadata": {},
   "outputs": [
    {
     "data": {
      "text/plain": [
       "float"
      ]
     },
     "execution_count": 32,
     "metadata": {},
     "output_type": "execute_result"
    }
   ],
   "source": [
    "d=1.8\n",
    "type(d)"
   ]
  },
  {
   "cell_type": "code",
   "execution_count": 33,
   "id": "38be35a9",
   "metadata": {},
   "outputs": [
    {
     "data": {
      "text/plain": [
       "1"
      ]
     },
     "execution_count": 33,
     "metadata": {},
     "output_type": "execute_result"
    }
   ],
   "source": [
    "d=1.8\n",
    "int(d)"
   ]
  },
  {
   "cell_type": "code",
   "execution_count": 35,
   "id": "fa618c1e",
   "metadata": {},
   "outputs": [
    {
     "data": {
      "text/plain": [
       "1"
      ]
     },
     "execution_count": 35,
     "metadata": {},
     "output_type": "execute_result"
    }
   ],
   "source": [
    "d='1.8'\n",
    "int(float(d))"
   ]
  },
  {
   "cell_type": "code",
   "execution_count": 4,
   "id": "6c91a7b8",
   "metadata": {},
   "outputs": [
    {
     "name": "stdout",
     "output_type": "stream",
     "text": [
      "1.2\n"
     ]
    }
   ],
   "source": [
    "s= 1.200\n",
    "print(s)"
   ]
  },
  {
   "cell_type": "code",
   "execution_count": 5,
   "id": "d5204073",
   "metadata": {},
   "outputs": [
    {
     "data": {
      "text/plain": [
       "678.0"
      ]
     },
     "execution_count": 5,
     "metadata": {},
     "output_type": "execute_result"
    }
   ],
   "source": [
    "a=1.23\n",
    "b=678\n",
    "float(b)"
   ]
  },
  {
   "cell_type": "code",
   "execution_count": 6,
   "id": "94845aa6",
   "metadata": {},
   "outputs": [
    {
     "data": {
      "text/plain": [
       "1"
      ]
     },
     "execution_count": 6,
     "metadata": {},
     "output_type": "execute_result"
    }
   ],
   "source": [
    "x=1.0\n",
    "int(x)"
   ]
  },
  {
   "cell_type": "code",
   "execution_count": 7,
   "id": "9af671c7",
   "metadata": {},
   "outputs": [
    {
     "data": {
      "text/plain": [
       "1"
      ]
     },
     "execution_count": 7,
     "metadata": {},
     "output_type": "execute_result"
    }
   ],
   "source": [
    "int(a)"
   ]
  },
  {
   "cell_type": "code",
   "execution_count": 8,
   "id": "4378a144",
   "metadata": {},
   "outputs": [],
   "source": [
    "#nest or chain operations together(sometimes)"
   ]
  },
  {
   "cell_type": "code",
   "execution_count": 9,
   "id": "ddc74ccb",
   "metadata": {},
   "outputs": [
    {
     "data": {
      "text/plain": [
       "1"
      ]
     },
     "execution_count": 9,
     "metadata": {},
     "output_type": "execute_result"
    }
   ],
   "source": [
    "s='1.234'\n",
    "int(float(a))"
   ]
  },
  {
   "cell_type": "code",
   "execution_count": 10,
   "id": "5081b7c1",
   "metadata": {},
   "outputs": [
    {
     "data": {
      "text/plain": [
       "1"
      ]
     },
     "execution_count": 10,
     "metadata": {},
     "output_type": "execute_result"
    }
   ],
   "source": [
    "int(1.234)"
   ]
  },
  {
   "cell_type": "markdown",
   "id": "e95e25b5",
   "metadata": {},
   "source": [
    "Lesson 3-intro to python"
   ]
  },
  {
   "cell_type": "markdown",
   "id": "5d3c12a6",
   "metadata": {},
   "source": [
    "BASIC OPERATIONS AND ARITHMATIC OPERATORS"
   ]
  },
  {
   "cell_type": "code",
   "execution_count": 13,
   "id": "cbefd1ad",
   "metadata": {},
   "outputs": [
    {
     "data": {
      "text/plain": [
       "22"
      ]
     },
     "execution_count": 13,
     "metadata": {},
     "output_type": "execute_result"
    }
   ],
   "source": [
    "a=12\n",
    "b=10\n",
    "#addition (_add_())method of any class\n",
    "a+b"
   ]
  },
  {
   "cell_type": "code",
   "execution_count": 14,
   "id": "3317036f",
   "metadata": {},
   "outputs": [
    {
     "data": {
      "text/plain": [
       "2"
      ]
     },
     "execution_count": 14,
     "metadata": {},
     "output_type": "execute_result"
    }
   ],
   "source": [
    "#subtraction(_sub_)\n",
    "a-b"
   ]
  },
  {
   "cell_type": "code",
   "execution_count": 15,
   "id": "ef1dca41",
   "metadata": {},
   "outputs": [
    {
     "data": {
      "text/plain": [
       "-12"
      ]
     },
     "execution_count": 15,
     "metadata": {},
     "output_type": "execute_result"
    }
   ],
   "source": [
    "-a"
   ]
  },
  {
   "cell_type": "code",
   "execution_count": 16,
   "id": "0d9690f5",
   "metadata": {},
   "outputs": [
    {
     "data": {
      "text/plain": [
       "120"
      ]
     },
     "execution_count": 16,
     "metadata": {},
     "output_type": "execute_result"
    }
   ],
   "source": [
    "#multiplication(_mul_)\n",
    "a*b"
   ]
  },
  {
   "cell_type": "code",
   "execution_count": 17,
   "id": "30d64170",
   "metadata": {},
   "outputs": [
    {
     "data": {
      "text/plain": [
       "12.0"
      ]
     },
     "execution_count": 17,
     "metadata": {},
     "output_type": "execute_result"
    }
   ],
   "source": [
    "#division'float division'=straight up,normal\n",
    "120/10"
   ]
  },
  {
   "cell_type": "code",
   "execution_count": 19,
   "id": "78882b6f",
   "metadata": {},
   "outputs": [
    {
     "data": {
      "text/plain": [
       "1"
      ]
     },
     "execution_count": 19,
     "metadata": {},
     "output_type": "execute_result"
    }
   ],
   "source": [
    "#phyton 2: '/' did\"floor division\n",
    "#phython 3: floor division\n",
    "a//b"
   ]
  },
  {
   "cell_type": "code",
   "execution_count": 20,
   "id": "5f02ef86",
   "metadata": {},
   "outputs": [
    {
     "name": "stdout",
     "output_type": "stream",
     "text": [
      "a 12 b 10 1.2 // a//b\n"
     ]
    }
   ],
   "source": [
    "print('a', a, 'b', b, a/b, '//', 'a//b')"
   ]
  },
  {
   "cell_type": "code",
   "execution_count": 22,
   "id": "28ef3ab1",
   "metadata": {},
   "outputs": [
    {
     "name": "stdout",
     "output_type": "stream",
     "text": [
      "12 10\n"
     ]
    },
    {
     "data": {
      "text/plain": [
       "8"
      ]
     },
     "execution_count": 22,
     "metadata": {},
     "output_type": "execute_result"
    }
   ],
   "source": [
    "# modulus / module _mod_\n",
    "print(a,b)\n",
    "a&b"
   ]
  },
  {
   "cell_type": "code",
   "execution_count": 23,
   "id": "67dffdcf",
   "metadata": {},
   "outputs": [
    {
     "name": "stdout",
     "output_type": "stream",
     "text": [
      "1 8\n"
     ]
    }
   ],
   "source": [
    "print(a//b, a&b)"
   ]
  },
  {
   "cell_type": "code",
   "execution_count": 24,
   "id": "ba1247ed",
   "metadata": {},
   "outputs": [
    {
     "data": {
      "text/plain": [
       "18"
      ]
     },
     "execution_count": 24,
     "metadata": {},
     "output_type": "execute_result"
    }
   ],
   "source": [
    "floor=a//b\n",
    "mod=a&b\n",
    "floor* (a-floor*2)+mod"
   ]
  },
  {
   "cell_type": "markdown",
   "id": "a72c8b59",
   "metadata": {},
   "source": [
    "a=10\n",
    "b=8\n",
    "print(a/b)"
   ]
  },
  {
   "cell_type": "code",
   "execution_count": 26,
   "id": "d5918d46",
   "metadata": {},
   "outputs": [
    {
     "ename": "SyntaxError",
     "evalue": "invalid syntax (<ipython-input-26-259a08c7a288>, line 1)",
     "output_type": "error",
     "traceback": [
      "\u001b[0;36m  File \u001b[0;32m\"<ipython-input-26-259a08c7a288>\"\u001b[0;36m, line \u001b[0;32m1\u001b[0m\n\u001b[0;31m    for, test in(10,8): #for <looping var\u001b[0m\n\u001b[0m       ^\u001b[0m\n\u001b[0;31mSyntaxError\u001b[0m\u001b[0;31m:\u001b[0m invalid syntax\n"
     ]
    }
   ],
   "source": [
    "for, test in(10,8): #for <looping var \n",
    "    if test & 10==8:\n",
    "        print(test,'is even!')"
   ]
  },
  {
   "cell_type": "code",
   "execution_count": 27,
   "id": "7bb5d52c",
   "metadata": {},
   "outputs": [
    {
     "data": {
      "text/plain": [
       "256"
      ]
     },
     "execution_count": 27,
     "metadata": {},
     "output_type": "execute_result"
    }
   ],
   "source": [
    "c=2\n",
    "d=8\n",
    "c**d"
   ]
  },
  {
   "cell_type": "code",
   "execution_count": 37,
   "id": "2ae07f7a",
   "metadata": {},
   "outputs": [
    {
     "data": {
      "text/plain": [
       "64"
      ]
     },
     "execution_count": 37,
     "metadata": {},
     "output_type": "execute_result"
    }
   ],
   "source": [
    "c=2\n",
    "d=8\n",
    "d**c"
   ]
  },
  {
   "cell_type": "code",
   "execution_count": 38,
   "id": "e1e4dd35",
   "metadata": {},
   "outputs": [
    {
     "data": {
      "text/plain": [
       "0"
      ]
     },
     "execution_count": 38,
     "metadata": {},
     "output_type": "execute_result"
    }
   ],
   "source": [
    "floor=d//c\n",
    "mod=c&d\n",
    "floor*(d-floor*2)+mod"
   ]
  },
  {
   "cell_type": "code",
   "execution_count": 39,
   "id": "53c18b53",
   "metadata": {},
   "outputs": [
    {
     "data": {
      "text/plain": [
       "0"
      ]
     },
     "execution_count": 39,
     "metadata": {},
     "output_type": "execute_result"
    }
   ],
   "source": [
    "floor=d//c\n",
    "mod=c&d\n",
    "floor*(d-floor*2)"
   ]
  },
  {
   "cell_type": "code",
   "execution_count": null,
   "id": "9260bd8f",
   "metadata": {},
   "outputs": [],
   "source": []
  },
  {
   "cell_type": "code",
   "execution_count": 28,
   "id": "15ecdeb1",
   "metadata": {},
   "outputs": [
    {
     "name": "stdout",
     "output_type": "stream",
     "text": [
      "4\n",
      "15.0\n",
      "11-7\n"
     ]
    }
   ],
   "source": [
    "print(11-7)\n",
    "print(4+11.0)\n",
    "print('11-7')"
   ]
  },
  {
   "cell_type": "code",
   "execution_count": 29,
   "id": "f669fe02",
   "metadata": {},
   "outputs": [
    {
     "data": {
      "text/plain": [
       "'4'"
      ]
     },
     "execution_count": 29,
     "metadata": {},
     "output_type": "execute_result"
    }
   ],
   "source": [
    "str(11-7)"
   ]
  },
  {
   "cell_type": "code",
   "execution_count": 30,
   "id": "70dab715",
   "metadata": {},
   "outputs": [
    {
     "name": "stdout",
     "output_type": "stream",
     "text": [
      "15.0\n"
     ]
    }
   ],
   "source": [
    "print(4+11.0)"
   ]
  },
  {
   "cell_type": "code",
   "execution_count": 31,
   "id": "0f62ca8b",
   "metadata": {},
   "outputs": [
    {
     "data": {
      "text/plain": [
       "15"
      ]
     },
     "execution_count": 31,
     "metadata": {},
     "output_type": "execute_result"
    }
   ],
   "source": [
    "int(4.123+11.0)"
   ]
  },
  {
   "cell_type": "code",
   "execution_count": 32,
   "id": "77846e4e",
   "metadata": {},
   "outputs": [
    {
     "ename": "TypeError",
     "evalue": "can only concatenate str (not \"int\") to str",
     "output_type": "error",
     "traceback": [
      "\u001b[0;31m---------------------------------------------------------------------------\u001b[0m",
      "\u001b[0;31mTypeError\u001b[0m                                 Traceback (most recent call last)",
      "\u001b[0;32m<ipython-input-32-76e513feea3a>\u001b[0m in \u001b[0;36m<module>\u001b[0;34m\u001b[0m\n\u001b[0;32m----> 1\u001b[0;31m \u001b[0mprint\u001b[0m\u001b[0;34m(\u001b[0m\u001b[0;34m'4'\u001b[0m\u001b[0;34m+\u001b[0m\u001b[0;36m4\u001b[0m\u001b[0;34m)\u001b[0m\u001b[0;34m\u001b[0m\u001b[0;34m\u001b[0m\u001b[0m\n\u001b[0m",
      "\u001b[0;31mTypeError\u001b[0m: can only concatenate str (not \"int\") to str"
     ]
    }
   ],
   "source": [
    "print('4'+4)"
   ]
  },
  {
   "cell_type": "code",
   "execution_count": 33,
   "id": "1814f810",
   "metadata": {},
   "outputs": [
    {
     "data": {
      "text/plain": [
       "'44'"
      ]
     },
     "execution_count": 33,
     "metadata": {},
     "output_type": "execute_result"
    }
   ],
   "source": [
    "'4'+'4'"
   ]
  },
  {
   "cell_type": "code",
   "execution_count": 40,
   "id": "a7b478d6",
   "metadata": {},
   "outputs": [
    {
     "data": {
      "text/plain": [
       "'33'"
      ]
     },
     "execution_count": 40,
     "metadata": {},
     "output_type": "execute_result"
    }
   ],
   "source": [
    "'3'+'3'"
   ]
  },
  {
   "cell_type": "code",
   "execution_count": 45,
   "id": "4492d5b4",
   "metadata": {},
   "outputs": [
    {
     "data": {
      "text/plain": [
       "'33'"
      ]
     },
     "execution_count": 45,
     "metadata": {},
     "output_type": "execute_result"
    }
   ],
   "source": [
    "'3'+'3'"
   ]
  },
  {
   "cell_type": "code",
   "execution_count": 34,
   "id": "47ab5350",
   "metadata": {},
   "outputs": [
    {
     "data": {
      "text/plain": [
       "8"
      ]
     },
     "execution_count": 34,
     "metadata": {},
     "output_type": "execute_result"
    }
   ],
   "source": [
    "4+4"
   ]
  },
  {
   "cell_type": "markdown",
   "id": "0cf6ee2e",
   "metadata": {},
   "source": [
    "Application: area of circle"
   ]
  },
  {
   "cell_type": "code",
   "execution_count": 35,
   "id": "2701d85f",
   "metadata": {},
   "outputs": [
    {
     "data": {
      "text/plain": [
       "78.539"
      ]
     },
     "execution_count": 35,
     "metadata": {},
     "output_type": "execute_result"
    }
   ],
   "source": [
    "# Area is radius squared pi\n",
    "#pi is about 3.14156\n",
    "#r=5\n",
    "pi=3.14156\n",
    "r=5\n",
    "area=pi*r*r\n",
    "area"
   ]
  },
  {
   "cell_type": "code",
   "execution_count": 36,
   "id": "bbb102e1",
   "metadata": {},
   "outputs": [
    {
     "data": {
      "text/plain": [
       "78.539"
      ]
     },
     "execution_count": 36,
     "metadata": {},
     "output_type": "execute_result"
    }
   ],
   "source": [
    "pi* r**2"
   ]
  },
  {
   "cell_type": "code",
   "execution_count": 37,
   "id": "bb9f2391",
   "metadata": {},
   "outputs": [],
   "source": [
    "import math"
   ]
  },
  {
   "cell_type": "code",
   "execution_count": 38,
   "id": "8f0063f2",
   "metadata": {},
   "outputs": [
    {
     "data": {
      "text/plain": [
       "['__doc__',\n",
       " '__file__',\n",
       " '__loader__',\n",
       " '__name__',\n",
       " '__package__',\n",
       " '__spec__',\n",
       " 'acos',\n",
       " 'acosh',\n",
       " 'asin',\n",
       " 'asinh',\n",
       " 'atan',\n",
       " 'atan2',\n",
       " 'atanh',\n",
       " 'ceil',\n",
       " 'comb',\n",
       " 'copysign',\n",
       " 'cos',\n",
       " 'cosh',\n",
       " 'degrees',\n",
       " 'dist',\n",
       " 'e',\n",
       " 'erf',\n",
       " 'erfc',\n",
       " 'exp',\n",
       " 'expm1',\n",
       " 'fabs',\n",
       " 'factorial',\n",
       " 'floor',\n",
       " 'fmod',\n",
       " 'frexp',\n",
       " 'fsum',\n",
       " 'gamma',\n",
       " 'gcd',\n",
       " 'hypot',\n",
       " 'inf',\n",
       " 'isclose',\n",
       " 'isfinite',\n",
       " 'isinf',\n",
       " 'isnan',\n",
       " 'isqrt',\n",
       " 'ldexp',\n",
       " 'lgamma',\n",
       " 'log',\n",
       " 'log10',\n",
       " 'log1p',\n",
       " 'log2',\n",
       " 'modf',\n",
       " 'nan',\n",
       " 'perm',\n",
       " 'pi',\n",
       " 'pow',\n",
       " 'prod',\n",
       " 'radians',\n",
       " 'remainder',\n",
       " 'sin',\n",
       " 'sinh',\n",
       " 'sqrt',\n",
       " 'tan',\n",
       " 'tanh',\n",
       " 'tau',\n",
       " 'trunc']"
      ]
     },
     "execution_count": 38,
     "metadata": {},
     "output_type": "execute_result"
    }
   ],
   "source": [
    "dir(math)"
   ]
  },
  {
   "cell_type": "code",
   "execution_count": 39,
   "id": "7c0d12b9",
   "metadata": {},
   "outputs": [
    {
     "name": "stdout",
     "output_type": "stream",
     "text": [
      "['__doc__', '__file__', '__loader__', '__name__', '__package__', '__spec__', 'acos', 'acosh', 'asin', 'asinh', 'atan', 'atan2', 'atanh', 'ceil', 'comb', 'copysign', 'cos', 'cosh', 'degrees', 'dist', 'e', 'erf', 'erfc', 'exp', 'expm1', 'fabs', 'factorial', 'floor', 'fmod', 'frexp', 'fsum', 'gamma', 'gcd', 'hypot', 'inf', 'isclose', 'isfinite', 'isinf', 'isnan', 'isqrt', 'ldexp', 'lgamma', 'log', 'log10', 'log1p', 'log2', 'modf', 'nan', 'perm', 'pi', 'pow', 'prod', 'radians', 'remainder', 'sin', 'sinh', 'sqrt', 'tan', 'tanh', 'tau', 'trunc']\n"
     ]
    }
   ],
   "source": [
    "print(dir(math))"
   ]
  },
  {
   "cell_type": "code",
   "execution_count": 40,
   "id": "f0b2bde6",
   "metadata": {},
   "outputs": [
    {
     "data": {
      "text/plain": [
       "3.141592653589793"
      ]
     },
     "execution_count": 40,
     "metadata": {},
     "output_type": "execute_result"
    }
   ],
   "source": [
    "import math\n",
    "math.pi"
   ]
  },
  {
   "cell_type": "code",
   "execution_count": 41,
   "id": "709b8457",
   "metadata": {},
   "outputs": [
    {
     "data": {
      "text/plain": [
       "78.53981633974483"
      ]
     },
     "execution_count": 41,
     "metadata": {},
     "output_type": "execute_result"
    }
   ],
   "source": [
    "import math\n",
    "math.pi* r**2"
   ]
  },
  {
   "cell_type": "code",
   "execution_count": 42,
   "id": "651ee88b",
   "metadata": {},
   "outputs": [],
   "source": [
    "import string"
   ]
  },
  {
   "cell_type": "code",
   "execution_count": 43,
   "id": "2974a0a9",
   "metadata": {},
   "outputs": [
    {
     "name": "stdout",
     "output_type": "stream",
     "text": [
      "['__add__', '__class__', '__contains__', '__delattr__', '__dir__', '__doc__', '__eq__', '__format__', '__ge__', '__getattribute__', '__getitem__', '__getnewargs__', '__gt__', '__hash__', '__init__', '__init_subclass__', '__iter__', '__le__', '__len__', '__lt__', '__mod__', '__mul__', '__ne__', '__new__', '__reduce__', '__reduce_ex__', '__repr__', '__rmod__', '__rmul__', '__setattr__', '__sizeof__', '__str__', '__subclasshook__', 'capitalize', 'casefold', 'center', 'count', 'encode', 'endswith', 'expandtabs', 'find', 'format', 'format_map', 'index', 'isalnum', 'isalpha', 'isascii', 'isdecimal', 'isdigit', 'isidentifier', 'islower', 'isnumeric', 'isprintable', 'isspace', 'istitle', 'isupper', 'join', 'ljust', 'lower', 'lstrip', 'maketrans', 'partition', 'replace', 'rfind', 'rindex', 'rjust', 'rpartition', 'rsplit', 'rstrip', 'split', 'splitlines', 'startswith', 'strip', 'swapcase', 'title', 'translate', 'upper', 'zfill']\n"
     ]
    }
   ],
   "source": [
    "print(dir(str))"
   ]
  },
  {
   "cell_type": "code",
   "execution_count": 45,
   "id": "dc0dee85",
   "metadata": {},
   "outputs": [
    {
     "data": {
      "text/plain": [
       "'!\"#$%&\\'()*+,-./:;<=>?@[\\\\]^_`{|}~'"
      ]
     },
     "execution_count": 45,
     "metadata": {},
     "output_type": "execute_result"
    }
   ],
   "source": [
    "string.punctuation"
   ]
  },
  {
   "cell_type": "code",
   "execution_count": 47,
   "id": "b199eeca",
   "metadata": {},
   "outputs": [
    {
     "name": "stdout",
     "output_type": "stream",
     "text": [
      "1\n",
      "10.0\n"
     ]
    }
   ],
   "source": [
    "print(11%2)\n",
    "print((4*5)/2)"
   ]
  },
  {
   "cell_type": "code",
   "execution_count": 46,
   "id": "5db5a58e",
   "metadata": {},
   "outputs": [
    {
     "name": "stdout",
     "output_type": "stream",
     "text": [
      "0\n",
      "10.0\n"
     ]
    }
   ],
   "source": [
    "print(12%3)\n",
    "print((5*4)/2)"
   ]
  },
  {
   "cell_type": "code",
   "execution_count": 47,
   "id": "35518c2d",
   "metadata": {},
   "outputs": [
    {
     "name": "stdout",
     "output_type": "stream",
     "text": [
      "2\n",
      "10.0\n"
     ]
    }
   ],
   "source": [
    "print(12%5)\n",
    "print((5*4)/2)"
   ]
  },
  {
   "cell_type": "code",
   "execution_count": 48,
   "id": "04236676",
   "metadata": {},
   "outputs": [
    {
     "name": "stdout",
     "output_type": "stream",
     "text": [
      "0\n",
      "6.666666666666667\n"
     ]
    }
   ],
   "source": [
    "print(12%6)\n",
    "print((5*4)/3)"
   ]
  },
  {
   "cell_type": "code",
   "execution_count": 49,
   "id": "7a16ae79",
   "metadata": {},
   "outputs": [
    {
     "name": "stdout",
     "output_type": "stream",
     "text": [
      "4\n",
      "10.0\n"
     ]
    }
   ],
   "source": [
    "print(12%8)\n",
    "print((5*4)/2)"
   ]
  },
  {
   "cell_type": "markdown",
   "id": "3b31ba1c",
   "metadata": {},
   "source": [
    "Order of operation"
   ]
  },
  {
   "cell_type": "code",
   "execution_count": null,
   "id": "32770fc2",
   "metadata": {},
   "outputs": [],
   "source": [
    "#+t-munary* / //\n",
    "#Generally speaking:\n",
    "#**\n"
   ]
  },
  {
   "cell_type": "code",
   "execution_count": 48,
   "id": "0319ed4b",
   "metadata": {},
   "outputs": [
    {
     "data": {
      "text/plain": [
       "10.0"
      ]
     },
     "execution_count": 48,
     "metadata": {},
     "output_type": "execute_result"
    }
   ],
   "source": [
    "4*5/2"
   ]
  },
  {
   "cell_type": "code",
   "execution_count": 49,
   "id": "96dd72c2",
   "metadata": {},
   "outputs": [
    {
     "data": {
      "text/plain": [
       "10"
      ]
     },
     "execution_count": 49,
     "metadata": {},
     "output_type": "execute_result"
    }
   ],
   "source": [
    "4+2*3-6%3"
   ]
  },
  {
   "cell_type": "code",
   "execution_count": 51,
   "id": "1c28211c",
   "metadata": {},
   "outputs": [
    {
     "data": {
      "text/plain": [
       "9"
      ]
     },
     "execution_count": 51,
     "metadata": {},
     "output_type": "execute_result"
    }
   ],
   "source": [
    "5+3*2-6%4"
   ]
  },
  {
   "cell_type": "code",
   "execution_count": 52,
   "id": "b2ba1d28",
   "metadata": {},
   "outputs": [
    {
     "data": {
      "text/plain": [
       "10"
      ]
     },
     "execution_count": 52,
     "metadata": {},
     "output_type": "execute_result"
    }
   ],
   "source": [
    "5+3*2-6%5"
   ]
  },
  {
   "cell_type": "code",
   "execution_count": 53,
   "id": "e037209c",
   "metadata": {},
   "outputs": [
    {
     "data": {
      "text/plain": [
       "11"
      ]
     },
     "execution_count": 53,
     "metadata": {},
     "output_type": "execute_result"
    }
   ],
   "source": [
    "5+3*2-6%6"
   ]
  },
  {
   "cell_type": "code",
   "execution_count": 50,
   "id": "96b75eef",
   "metadata": {},
   "outputs": [
    {
     "name": "stdout",
     "output_type": "stream",
     "text": [
      "8\n",
      "9\n",
      "4.0\n"
     ]
    }
   ],
   "source": [
    "print(2**3)\n",
    "print(3**2)\n",
    "a=2\n",
    "b=8\n",
    "print((a*b)**0.5)"
   ]
  },
  {
   "cell_type": "code",
   "execution_count": 54,
   "id": "3e236de5",
   "metadata": {},
   "outputs": [
    {
     "name": "stdout",
     "output_type": "stream",
     "text": [
      "16\n",
      "9\n",
      "4.0\n"
     ]
    }
   ],
   "source": [
    "print(2**4)\n",
    "print(3**2)\n",
    "a=2\n",
    "b=8\n",
    "print((a*b)**0.5)"
   ]
  },
  {
   "cell_type": "code",
   "execution_count": 55,
   "id": "ca245fc3",
   "metadata": {},
   "outputs": [
    {
     "name": "stdout",
     "output_type": "stream",
     "text": [
      "8\n",
      "9\n",
      "6.0\n"
     ]
    }
   ],
   "source": [
    "print(2**3)\n",
    "print(3**2)\n",
    "a=6\n",
    "b=6\n",
    "print((a*b)**0.5)"
   ]
  },
  {
   "cell_type": "code",
   "execution_count": null,
   "id": "9b1aa60c",
   "metadata": {},
   "outputs": [],
   "source": []
  },
  {
   "cell_type": "code",
   "execution_count": null,
   "id": "4234dd6e",
   "metadata": {},
   "outputs": [],
   "source": []
  },
  {
   "cell_type": "markdown",
   "id": "be4dc32d",
   "metadata": {},
   "source": [
    "COMPOUND OPERATORS"
   ]
  },
  {
   "cell_type": "code",
   "execution_count": 53,
   "id": "461edac1",
   "metadata": {},
   "outputs": [
    {
     "name": "stdout",
     "output_type": "stream",
     "text": [
      "1\n",
      "2\n",
      "3\n"
     ]
    }
   ],
   "source": [
    "counter=0\n",
    "for loopvar in(1,3,4):\n",
    "    counter += 1\n",
    "    print(counter)"
   ]
  },
  {
   "cell_type": "code",
   "execution_count": 56,
   "id": "7770ed97",
   "metadata": {},
   "outputs": [
    {
     "name": "stdout",
     "output_type": "stream",
     "text": [
      "2\n",
      "4\n",
      "6\n"
     ]
    }
   ],
   "source": [
    "counter=0\n",
    "for loopvar in(1,3,4):\n",
    "    counter += 2\n",
    "    print(counter)"
   ]
  },
  {
   "cell_type": "code",
   "execution_count": 57,
   "id": "2bde5d24",
   "metadata": {},
   "outputs": [
    {
     "name": "stdout",
     "output_type": "stream",
     "text": [
      "3\n",
      "6\n",
      "9\n"
     ]
    }
   ],
   "source": [
    "counter=0\n",
    "for loopvar in(1,3,4):\n",
    "    counter += 3\n",
    "    print(counter)"
   ]
  },
  {
   "cell_type": "code",
   "execution_count": 60,
   "id": "dade503e",
   "metadata": {},
   "outputs": [
    {
     "name": "stdout",
     "output_type": "stream",
     "text": [
      "-3\n",
      "-6\n",
      "-9\n"
     ]
    }
   ],
   "source": [
    "counter=0\n",
    "for loopvar in(1,4,5):\n",
    "    counter -= 3\n",
    "    print(counter)"
   ]
  },
  {
   "cell_type": "code",
   "execution_count": null,
   "id": "6fe4e529",
   "metadata": {},
   "outputs": [],
   "source": []
  },
  {
   "cell_type": "code",
   "execution_count": 54,
   "id": "5d18a052",
   "metadata": {},
   "outputs": [
    {
     "name": "stdout",
     "output_type": "stream",
     "text": [
      "0.0\n",
      "0.0\n",
      "0.0\n"
     ]
    }
   ],
   "source": [
    "counter=0\n",
    "for loopvar in (1,3,4):\n",
    "    counter=counter +1\n",
    "    counter=counter -1\n",
    "    counter=counter /2\n",
    "    counter=counter *3\n",
    "    counter=counter %2\n",
    "    print(counter)\n",
    "    "
   ]
  },
  {
   "cell_type": "code",
   "execution_count": 58,
   "id": "ae96633d",
   "metadata": {},
   "outputs": [
    {
     "ename": "SyntaxError",
     "evalue": "invalid syntax (<ipython-input-58-badbba57dbee>, line 3)",
     "output_type": "error",
     "traceback": [
      "\u001b[0;36m  File \u001b[0;32m\"<ipython-input-58-badbba57dbee>\"\u001b[0;36m, line \u001b[0;32m3\u001b[0m\n\u001b[0;31m    counter=counter += 1\u001b[0m\n\u001b[0m                    ^\u001b[0m\n\u001b[0;31mSyntaxError\u001b[0m\u001b[0;31m:\u001b[0m invalid syntax\n"
     ]
    }
   ],
   "source": [
    "counter=0\n",
    "for loopvar in (1,3,4):\n",
    "    counter=counter += 1\n",
    "    counter=counter -= 1\n",
    "    counter=counter /= 1\n",
    "    counter=counter //= 1\n",
    "    counter=counter *= 1\n",
    "    counter=counter &= 1\n",
    "    counter=counter ** 2\n",
    "    print(counter)"
   ]
  },
  {
   "cell_type": "markdown",
   "id": "df85c80d",
   "metadata": {},
   "source": [
    "Hypoteneus of right triangle\n"
   ]
  },
  {
   "cell_type": "code",
   "execution_count": 60,
   "id": "b5c4d401",
   "metadata": {},
   "outputs": [
    {
     "ename": "SyntaxError",
     "evalue": "invalid syntax (<ipython-input-60-f12908cba7a5>, line 1)",
     "output_type": "error",
     "traceback": [
      "\u001b[0;36m  File \u001b[0;32m\"<ipython-input-60-f12908cba7a5>\"\u001b[0;36m, line \u001b[0;32m1\u001b[0m\n\u001b[0;31m    Hypoteneus=longest side(c)\u001b[0m\n\u001b[0m                       ^\u001b[0m\n\u001b[0;31mSyntaxError\u001b[0m\u001b[0;31m:\u001b[0m invalid syntax\n"
     ]
    }
   ],
   "source": [
    "Hypoteneus=longest side(c)\n",
    "Adjacent (b)\n",
    "Opposite(a)\n",
    "a=3\n",
    "b=4\n",
    "c=?\n",
    "pythagoreus hyp squared=adjacent squared + opposite squared"
   ]
  },
  {
   "cell_type": "code",
   "execution_count": 63,
   "id": "06dda643",
   "metadata": {},
   "outputs": [
    {
     "data": {
      "text/plain": [
       "68"
      ]
     },
     "execution_count": 63,
     "metadata": {},
     "output_type": "execute_result"
    }
   ],
   "source": [
    "h2=a ** 2 + b**2\n",
    "h2"
   ]
  },
  {
   "cell_type": "code",
   "execution_count": 62,
   "id": "8bd45e91",
   "metadata": {},
   "outputs": [
    {
     "data": {
      "text/plain": [
       "68"
      ]
     },
     "execution_count": 62,
     "metadata": {},
     "output_type": "execute_result"
    }
   ],
   "source": [
    "h2=a**2+b**2\n",
    "h2"
   ]
  },
  {
   "cell_type": "code",
   "execution_count": 64,
   "id": "000c0159",
   "metadata": {},
   "outputs": [
    {
     "data": {
      "text/plain": [
       "8.246211251235321"
      ]
     },
     "execution_count": 64,
     "metadata": {},
     "output_type": "execute_result"
    }
   ],
   "source": [
    "(a**2 +b**2) **.5"
   ]
  },
  {
   "cell_type": "markdown",
   "id": "6462a6ec",
   "metadata": {},
   "source": [
    "PRINT(and a little more about strings)"
   ]
  },
  {
   "cell_type": "code",
   "execution_count": 1,
   "id": "cf1355fd",
   "metadata": {},
   "outputs": [
    {
     "name": "stdout",
     "output_type": "stream",
     "text": [
      "Quin is a husky!\n"
     ]
    }
   ],
   "source": [
    "print(\"Quin is a husky!\")"
   ]
  },
  {
   "cell_type": "code",
   "execution_count": 2,
   "id": "fdcc5230",
   "metadata": {},
   "outputs": [
    {
     "name": "stdout",
     "output_type": "stream",
     "text": [
      "1 2 a [23, 234, 45]\n"
     ]
    }
   ],
   "source": [
    "print(1,2,'a',[23,234,45])"
   ]
  },
  {
   "cell_type": "code",
   "execution_count": 3,
   "id": "be4d49fb",
   "metadata": {},
   "outputs": [
    {
     "ename": "SyntaxError",
     "evalue": "invalid syntax (<ipython-input-3-9b5cd1d49b06>, line 2)",
     "output_type": "error",
     "traceback": [
      "\u001b[0;36m  File \u001b[0;32m\"<ipython-input-3-9b5cd1d49b06>\"\u001b[0;36m, line \u001b[0;32m2\u001b[0m\n\u001b[0;31m    \"object\"(number,list, ...)-> something network friendly\u001b[0m\n\u001b[0m                              ^\u001b[0m\n\u001b[0;31mSyntaxError\u001b[0m\u001b[0;31m:\u001b[0m invalid syntax\n"
     ]
    }
   ],
   "source": [
    "#print is a 'serializer'\n",
    "\"object\"(number,list, ...)-> something network friendly\n",
    "#by default, print-> sys.stdout steam of net-friendly info (terminal)"
   ]
  },
  {
   "cell_type": "code",
   "execution_count": 4,
   "id": "9a50f1e1",
   "metadata": {},
   "outputs": [
    {
     "name": "stdout",
     "output_type": "stream",
     "text": [
      "66666 12341224 123456\n"
     ]
    }
   ],
   "source": [
    "print(66666, 12341224, 123456)"
   ]
  },
  {
   "cell_type": "code",
   "execution_count": 5,
   "id": "edb143bc",
   "metadata": {},
   "outputs": [
    {
     "ename": "SyntaxError",
     "evalue": "invalid syntax (<ipython-input-5-5e92be451296>, line 1)",
     "output_type": "error",
     "traceback": [
      "\u001b[0;36m  File \u001b[0;32m\"<ipython-input-5-5e92be451296>\"\u001b[0;36m, line \u001b[0;32m1\u001b[0m\n\u001b[0;31m    print(66666, 12341224, 1234124 sep= \"-SEP-\", end='  ')\u001b[0m\n\u001b[0m                                   ^\u001b[0m\n\u001b[0;31mSyntaxError\u001b[0m\u001b[0;31m:\u001b[0m invalid syntax\n"
     ]
    }
   ],
   "source": [
    "print(66666, 12341224, 1234124 sep= \"-SEP-\", end='  ')\n",
    "print(66666, 12341224, 1234124 sep= \"-SEP-\")"
   ]
  },
  {
   "cell_type": "code",
   "execution_count": 1,
   "id": "f0ec0275",
   "metadata": {},
   "outputs": [
    {
     "ename": "NameError",
     "evalue": "name 'function' is not defined",
     "output_type": "error",
     "traceback": [
      "\u001b[0;31m---------------------------------------------------------------------------\u001b[0m",
      "\u001b[0;31mNameError\u001b[0m                                 Traceback (most recent call last)",
      "\u001b[0;32m<ipython-input-1-a18e1661630e>\u001b[0m in \u001b[0;36m<module>\u001b[0;34m\u001b[0m\n\u001b[0;32m----> 1\u001b[0;31m \u001b[0mprint\u001b[0m\u001b[0;34m(\u001b[0m\u001b[0mfunction\u001b[0m\u001b[0;34m.\u001b[0m\u001b[0m__doc__\u001b[0m\u001b[0;34m)\u001b[0m\u001b[0;34m\u001b[0m\u001b[0;34m\u001b[0m\u001b[0m\n\u001b[0m",
      "\u001b[0;31mNameError\u001b[0m: name 'function' is not defined"
     ]
    }
   ],
   "source": [
    "print(function.__doc__)"
   ]
  },
  {
   "cell_type": "code",
   "execution_count": 2,
   "id": "867593b8",
   "metadata": {},
   "outputs": [
    {
     "name": "stdout",
     "output_type": "stream",
     "text": [
      "-6\n"
     ]
    }
   ],
   "source": [
    "no1, no2 = 46, 52\n",
    "no3 = no1-no2\n",
    "print(no3)"
   ]
  },
  {
   "cell_type": "code",
   "execution_count": 3,
   "id": "7f261624",
   "metadata": {},
   "outputs": [
    {
     "ename": "SyntaxError",
     "evalue": "invalid syntax (<ipython-input-3-d47b77fb6c15>, line 3)",
     "output_type": "error",
     "traceback": [
      "\u001b[0;36m  File \u001b[0;32m\"<ipython-input-3-d47b77fb6c15>\"\u001b[0;36m, line \u001b[0;32m3\u001b[0m\n\u001b[0;31m    The following values are considered False, in that they evaluate to False when applied to a boolean operator:\u001b[0m\n\u001b[0m        ^\u001b[0m\n\u001b[0;31mSyntaxError\u001b[0m\u001b[0;31m:\u001b[0m invalid syntax\n"
     ]
    }
   ],
   "source": [
    "#The values of non-boolean types (integers, strings, etc.) are considered truthy or falsy when used with logical operations, depending on whether they are seen as True or False.\n",
    "\n",
    "The following values are considered False, in that they evaluate to False when applied to a boolean operator:\n",
    "\n",
    "None.\n",
    "Zero of any numeric type: 0, 0.0, 0j\n",
    "Empty sequences and collections: '', [], {}.\n",
    "Other than above values, any remaining value is evaluated as True.\n",
    "Here are some and operations :"
   ]
  },
  {
   "cell_type": "code",
   "execution_count": 4,
   "id": "be78576b",
   "metadata": {},
   "outputs": [
    {
     "name": "stdout",
     "output_type": "stream",
     "text": [
      "3\n"
     ]
    }
   ],
   "source": [
    "print(2 and 3)"
   ]
  },
  {
   "cell_type": "code",
   "execution_count": 61,
   "id": "ece51555",
   "metadata": {},
   "outputs": [
    {
     "name": "stdout",
     "output_type": "stream",
     "text": [
      "2\n"
     ]
    }
   ],
   "source": [
    "print(3 and 2)"
   ]
  },
  {
   "cell_type": "code",
   "execution_count": 63,
   "id": "ab0eaf05",
   "metadata": {},
   "outputs": [
    {
     "name": "stdout",
     "output_type": "stream",
     "text": [
      "\n"
     ]
    }
   ],
   "source": [
    "print()"
   ]
  },
  {
   "cell_type": "code",
   "execution_count": 68,
   "id": "54b3e503",
   "metadata": {},
   "outputs": [
    {
     "name": "stdout",
     "output_type": "stream",
     "text": [
      "2\n"
     ]
    }
   ],
   "source": [
    "print(2)"
   ]
  },
  {
   "cell_type": "code",
   "execution_count": 69,
   "id": "e8a0913e",
   "metadata": {},
   "outputs": [
    {
     "name": "stdout",
     "output_type": "stream",
     "text": [
      "0\n"
     ]
    }
   ],
   "source": [
    "print(4 and 0)"
   ]
  },
  {
   "cell_type": "code",
   "execution_count": 70,
   "id": "99f7f96e",
   "metadata": {},
   "outputs": [
    {
     "name": "stdout",
     "output_type": "stream",
     "text": [
      "0\n"
     ]
    }
   ],
   "source": [
    "print(0 and 4)"
   ]
  },
  {
   "cell_type": "code",
   "execution_count": null,
   "id": "3d829674",
   "metadata": {},
   "outputs": [],
   "source": []
  },
  {
   "cell_type": "code",
   "execution_count": null,
   "id": "5d360a0f",
   "metadata": {},
   "outputs": [],
   "source": []
  },
  {
   "cell_type": "code",
   "execution_count": 5,
   "id": "a00a673f",
   "metadata": {},
   "outputs": [
    {
     "name": "stdout",
     "output_type": "stream",
     "text": [
      "0\n"
     ]
    }
   ],
   "source": [
    "print(1 and 0)"
   ]
  },
  {
   "cell_type": "code",
   "execution_count": 6,
   "id": "a2da4e13",
   "metadata": {},
   "outputs": [
    {
     "name": "stdout",
     "output_type": "stream",
     "text": [
      "0\n"
     ]
    }
   ],
   "source": [
    "print(2 and 0)"
   ]
  },
  {
   "cell_type": "code",
   "execution_count": 7,
   "id": "e5259731",
   "metadata": {},
   "outputs": [
    {
     "name": "stdout",
     "output_type": "stream",
     "text": [
      "I am doing good!\n"
     ]
    }
   ],
   "source": [
    "print(1 and \"I am doing good!\")"
   ]
  },
  {
   "cell_type": "code",
   "execution_count": 8,
   "id": "7057c110",
   "metadata": {},
   "outputs": [
    {
     "name": "stdout",
     "output_type": "stream",
     "text": [
      "[]\n"
     ]
    }
   ],
   "source": [
    "print([] and \"Hello World!\")"
   ]
  },
  {
   "cell_type": "code",
   "execution_count": 9,
   "id": "e3a72e39",
   "metadata": {},
   "outputs": [
    {
     "name": "stdout",
     "output_type": "stream",
     "text": [
      "2\n",
      "{}\n",
      "Hello World!\n"
     ]
    }
   ],
   "source": [
    "#Here are some or operations :\n",
    "print(2 or 3)\n",
    "print(0 or {})\n",
    "print([] or \"Hello World!\")"
   ]
  },
  {
   "cell_type": "markdown",
   "id": "63081ca5",
   "metadata": {},
   "source": [
    "#Indexing&Slicing Strings\n",
    "As we mentioned earlier, one of the most powerful aspects of Python is its string processing capability. You can access all elements of a string type data very easily. Accordance with the sequence of string letters, you can specify them from left to right in brackets, as follows:\n",
    "\n",
    "fruit = 'Orange'\n",
    "\n",
    "print('Word                   : ' , fruit)\n",
    "print('First letter           : ' , fruit[0])\n",
    "print('Second letter          : ' , fruit[1])\n",
    "print(\"3rd to 5th letters     : \" , fruit[2:5])\n",
    "print(\"Letter all after 3rd   : \" , fruit[2:])"
   ]
  },
  {
   "cell_type": "code",
   "execution_count": 10,
   "id": "7ec73260",
   "metadata": {},
   "outputs": [
    {
     "name": "stdout",
     "output_type": "stream",
     "text": [
      "Word                   :  Orange\n",
      "First letter           :  O\n",
      "Second letter          :  r\n",
      "3rd to 5th letters     :  ang\n",
      "Letter all after 3rd   :  ange\n"
     ]
    }
   ],
   "source": [
    "fruit = 'Orange'\n",
    "\n",
    "print('Word                   : ' , fruit)\n",
    "print('First letter           : ' , fruit[0])\n",
    "print('Second letter          : ' , fruit[1])\n",
    "print(\"3rd to 5th letters     : \" , fruit[2:5])\n",
    "print(\"Letter all after 3rd   : \" , fruit[2:])"
   ]
  },
  {
   "cell_type": "code",
   "execution_count": 11,
   "id": "5533a4d0",
   "metadata": {},
   "outputs": [
    {
     "name": "stdout",
     "output_type": "stream",
     "text": [
      "Word                   :  Apple\n",
      "third letter           :  A\n",
      "Second letter          :  p\n",
      "3rd to 5th letters     :  ple\n",
      "Letter all after 3rd   :  ple\n"
     ]
    }
   ],
   "source": [
    "fruit = 'Apple'\n",
    "\n",
    "print('Word                   : ' , fruit)\n",
    "print('third letter           : ' , fruit[0])\n",
    "print('Second letter          : ' , fruit[1])\n",
    "print(\"3rd to 5th letters     : \" , fruit[2:5])\n",
    "print(\"Letter all after 3rd   : \" , fruit[2:])"
   ]
  },
  {
   "cell_type": "markdown",
   "id": "a92a040e",
   "metadata": {},
   "source": [
    "#Tips:\n",
    "Remember, the enumeration of a string starts from zero.\n",
    "The formula syntax of string indexing is : string[start:stop:step].\n",
    "\n",
    "#string[:] : returns the full copy of the sequence\n",
    "\n",
    "#string[start:] : returns elements from start to the end element\n",
    "\n",
    "#string[:stop] : returns element from the 1st element to stop-1\n",
    "\n",
    "#string[::step] : returns each element with a given step\n",
    "\n",
    "#Let's see it in an example :\n",
    "\n",
    "city = 'Phoenix'\n",
    "\n",
    "print(city[1:])  # starts from index 1 to the end\n",
    "print(city[:6])  # starts from zero to 5th index\n",
    "print(city[::2])  # starts from zero to end by 2 step\n",
    "print(city[1::2])  # starts from index 1 to the end by 2 step\n",
    "print(city[-3:])  # starts from index -3 to the end\n",
    "print(city[::-1])  # negative step starts from the end to zero\n"
   ]
  },
  {
   "cell_type": "code",
   "execution_count": 12,
   "id": "cf53c659",
   "metadata": {},
   "outputs": [
    {
     "name": "stdout",
     "output_type": "stream",
     "text": [
      "hoenix\n",
      "Phoeni\n",
      "Ponx\n",
      "hei\n",
      "nix\n",
      "xineohP\n"
     ]
    }
   ],
   "source": [
    "city = 'Phoenix'\n",
    "\n",
    "print(city[1:])  # starts from index 1 to the end\n",
    "print(city[:6])  # starts from zero to 5th index\n",
    "print(city[::2])  # starts from zero to end by 2 step\n",
    "print(city[1::2])  # starts from index 1 to the end by 2 step\n",
    "print(city[-3:])  # starts from index -3 to the end\n",
    "print(city[::-1])  # negative step starts from the end to zero"
   ]
  },
  {
   "cell_type": "code",
   "execution_count": 15,
   "id": "19b29ad6",
   "metadata": {},
   "outputs": [
    {
     "name": "stdout",
     "output_type": "stream",
     "text": [
      "hoenix\n"
     ]
    }
   ],
   "source": [
    "city ='Phoenix'\n",
    "print(city[1:])"
   ]
  },
  {
   "cell_type": "code",
   "execution_count": 16,
   "id": "45773b56",
   "metadata": {},
   "outputs": [
    {
     "name": "stdout",
     "output_type": "stream",
     "text": [
      "Phoeni\n"
     ]
    }
   ],
   "source": [
    "print(city[:6])"
   ]
  },
  {
   "cell_type": "code",
   "execution_count": 17,
   "id": "a63a4e9b",
   "metadata": {},
   "outputs": [
    {
     "name": "stdout",
     "output_type": "stream",
     "text": [
      "Ponx\n"
     ]
    }
   ],
   "source": [
    "print(city[::2])"
   ]
  },
  {
   "cell_type": "code",
   "execution_count": 18,
   "id": "6b3b2968",
   "metadata": {},
   "outputs": [
    {
     "name": "stdout",
     "output_type": "stream",
     "text": [
      "hei\n"
     ]
    }
   ],
   "source": [
    "print(city[1::2])"
   ]
  },
  {
   "cell_type": "code",
   "execution_count": 19,
   "id": "f82cb47b",
   "metadata": {},
   "outputs": [
    {
     "name": "stdout",
     "output_type": "stream",
     "text": [
      "nix\n"
     ]
    }
   ],
   "source": [
    "print(city[-3:])"
   ]
  },
  {
   "cell_type": "code",
   "execution_count": 20,
   "id": "305b07f5",
   "metadata": {},
   "outputs": [
    {
     "name": "stdout",
     "output_type": "stream",
     "text": [
      "xineohP\n"
     ]
    }
   ],
   "source": [
    "print(city[::-1])"
   ]
  },
  {
   "cell_type": "code",
   "execution_count": 21,
   "id": "0192805b",
   "metadata": {},
   "outputs": [
    {
     "name": "stdout",
     "output_type": "stream",
     "text": [
      "ars\n",
      "Mars\n",
      "Mr\n",
      "as\n",
      "ars\n",
      "sraM\n"
     ]
    }
   ],
   "source": [
    "city = 'Mars'\n",
    "\n",
    "print(city[1:])  # starts from index 1 to the end\n",
    "print(city[:4])  # starts from zero to 4th index\n",
    "print(city[::2])  # starts from zero to end by 2 step\n",
    "print(city[1::2])  # starts from index 1 to the end by 2 step\n",
    "print(city[-3:])  # starts from index -3 to the end\n",
    "print(city[::-1])  # negative step starts from the end to zero"
   ]
  },
  {
   "cell_type": "code",
   "execution_count": 22,
   "id": "284e1b2d",
   "metadata": {},
   "outputs": [
    {
     "name": "stdout",
     "output_type": "stream",
     "text": [
      "upiter\n",
      "Jupite\n",
      "Jptr\n",
      "uie\n",
      "ter\n",
      "retipuJ\n"
     ]
    }
   ],
   "source": [
    "city = 'Jupiter'\n",
    "\n",
    "print(city[1:])  # starts from index 1 to the end         rint\n",
    "print(city[:6])  # starts from zero to 6th index          jupite\n",
    "print(city[::2])  # starts from zero to end by 2 step     jptr\n",
    "print(city[1::2])  # starts from index 1 to the end by 2 step  uie  \n",
    "print(city[-3:])  # starts from index -3 to the end           ter\n",
    "print(city[::-1])  # negative step starts from the end to zero retipuj"
   ]
  },
  {
   "cell_type": "code",
   "execution_count": 23,
   "id": "f4ba38b4",
   "metadata": {},
   "outputs": [
    {
     "name": "stdout",
     "output_type": "stream",
     "text": [
      "upiter\n"
     ]
    }
   ],
   "source": [
    "print(city[1:])"
   ]
  },
  {
   "cell_type": "markdown",
   "id": "494c3401",
   "metadata": {},
   "source": [
    "#You can use the len() function to find out the length (number of characters) of a text or a variable of any type.\n",
    "\n",
    "vegetable = 'Tomato'\n",
    "\n",
    "print('length of the word', vegetable, 'is :', len(vegetable))\n"
   ]
  },
  {
   "cell_type": "code",
   "execution_count": 24,
   "id": "382e0040",
   "metadata": {},
   "outputs": [
    {
     "name": "stdout",
     "output_type": "stream",
     "text": [
      "length of the word Tomato is : 6\n"
     ]
    }
   ],
   "source": [
    "vegetable = 'Tomato'\n",
    "\n",
    "print('length of the word', vegetable, 'is :', len(vegetable))\n"
   ]
  },
  {
   "cell_type": "code",
   "execution_count": 25,
   "id": "8182aa09",
   "metadata": {},
   "outputs": [
    {
     "name": "stdout",
     "output_type": "stream",
     "text": [
      "on Language\n"
     ]
    }
   ],
   "source": [
    "str = 'Python Language'\n",
    "print(str[4:])"
   ]
  },
  {
   "cell_type": "code",
   "execution_count": 26,
   "id": "d5eae07f",
   "metadata": {},
   "outputs": [
    {
     "ename": "SyntaxError",
     "evalue": "invalid syntax (<ipython-input-26-3308770296e9>, line 2)",
     "output_type": "error",
     "traceback": [
      "\u001b[0;36m  File \u001b[0;32m\"<ipython-input-26-3308770296e9>\"\u001b[0;36m, line \u001b[0;32m2\u001b[0m\n\u001b[0;31m    There are several ways in Python that we use when processing and using string data structures. The most important of these are:\u001b[0m\n\u001b[0m          ^\u001b[0m\n\u001b[0;31mSyntaxError\u001b[0m\u001b[0;31m:\u001b[0m invalid syntax\n"
     ]
    }
   ],
   "source": [
    "# String Formatting with Arithmetic Syntax\n",
    "There are several ways in Python that we use when processing and using string data structures. \n",
    "The most important of these are:\n",
    "\n",
    "Arithmetic syntax (+, *, and =),\n",
    "\n",
    "% operator formatting,\n",
    "\n",
    "string.format() method,\n",
    "\n",
    "f-string formatting.\n",
    "\n",
    "We have stated to you what the function is? in the previous lessons.\n",
    "At this point, let us give the definition of the term method. \n",
    "A method is like a function, except it is attached to an object. \n",
    "We call a method on an object, and it possibly makes changes to that object (like string.format()). \n",
    "A method, then, belongs to a class.\n",
    "\n",
    "Arithmetic syntax (+, =, *) :\n",
    "We can use + operator for combining the two string together without any spaces. For example :"
   ]
  },
  {
   "cell_type": "code",
   "execution_count": 9,
   "id": "e8b5049e",
   "metadata": {},
   "outputs": [
    {
     "name": "stdout",
     "output_type": "stream",
     "text": [
      "Leap Year Check!!\n",
      "Enter year: 1000\n",
      "False\n"
     ]
    }
   ],
   "source": [
    "print('Leap Year Check!!')\n",
    "year = int(input('Enter year: '))\n",
    "print(year%4==0 and year%100!=0 or year%400==0)"
   ]
  },
  {
   "cell_type": "code",
   "execution_count": 10,
   "id": "0603e28d",
   "metadata": {},
   "outputs": [
    {
     "name": "stdout",
     "output_type": "stream",
     "text": [
      "Enter Year: 2000\n",
      "2000 is not a Leap Year\n"
     ]
    }
   ],
   "source": [
    "year = int(input(\"Enter Year: \"))\n",
    "\n",
    "# Leap Year Check\n",
    "if year % 4 == 0 and year % 100 != 0:\n",
    "    print(year, \"is a Leap Year\")\n",
    "elif year % 100 == 0:\n",
    "    print(year, \"is not a Leap Year\")\n",
    "elif year % 400 ==0:\n",
    "    print(year, \"is a Leap Year\")\n",
    "else:\n",
    "    print(year, \"is not a Leap Year\")"
   ]
  },
  {
   "cell_type": "code",
   "execution_count": 17,
   "id": "ab4b9817",
   "metadata": {},
   "outputs": [],
   "source": [
    "def year_days(y):\n",
    "  if ( y%4==0 and y%100!=0 ) or ( y%400 == 0 ):\n",
    "    return True\n",
    "\n",
    "    return False"
   ]
  },
  {
   "cell_type": "code",
   "execution_count": 18,
   "id": "49949788",
   "metadata": {},
   "outputs": [
    {
     "name": "stdout",
     "output_type": "stream",
     "text": [
      "13130\n"
     ]
    }
   ],
   "source": [
    "sales = {\n",
    "  \"cost_value\": 31.87,\n",
    "  \"sell_value\": 45.00,\n",
    "  \"inventory\": 1000\n",
    "}\n",
    "print(round((sales[\"sell_value\"] - sales[\"cost_value\"]) * sales[\"inventory\"]))"
   ]
  },
  {
   "cell_type": "code",
   "execution_count": 21,
   "id": "cb4388f6",
   "metadata": {},
   "outputs": [
    {
     "ename": "SyntaxError",
     "evalue": "unmatched ')' (<ipython-input-21-73749dfc9cf9>, line 6)",
     "output_type": "error",
     "traceback": [
      "\u001b[0;36m  File \u001b[0;32m\"<ipython-input-21-73749dfc9cf9>\"\u001b[0;36m, line \u001b[0;32m6\u001b[0m\n\u001b[0;31m    print(int(sell_value*inventory))-int(cost_value*inventory)))\u001b[0m\n\u001b[0m                                                              ^\u001b[0m\n\u001b[0;31mSyntaxError\u001b[0m\u001b[0;31m:\u001b[0m unmatched ')'\n"
     ]
    }
   ],
   "source": [
    "sales = {\n",
    "  \"cost_value\": 31.87,\n",
    "  \"sell_value\": 45.00,\n",
    "  \"inventory\": 1000\n",
    "}\n",
    "print(int(sell_value*inventory))-int(cost_value*inventory)))"
   ]
  },
  {
   "cell_type": "code",
   "execution_count": 24,
   "id": "cde5d0bf",
   "metadata": {},
   "outputs": [
    {
     "name": "stdout",
     "output_type": "stream",
     "text": [
      "$3.00\n",
      "$29.99\n",
      "$4.10\n"
     ]
    }
   ],
   "source": [
    "rate = 3\n",
    "amount1 = '${:.2f}'.format(rate)\n",
    "print(amount1)\n",
    "rate = 29.99\n",
    "print(\"${:.2f}\".format(rate))\n",
    "rate = 4.1\n",
    "print(\"${:.2f}\".format(rate))"
   ]
  },
  {
   "cell_type": "code",
   "execution_count": null,
   "id": "72c1cf53",
   "metadata": {},
   "outputs": [],
   "source": []
  },
  {
   "cell_type": "code",
   "execution_count": null,
   "id": "a3235152",
   "metadata": {},
   "outputs": [],
   "source": []
  },
  {
   "cell_type": "code",
   "execution_count": 27,
   "id": "da226eac",
   "metadata": {},
   "outputs": [
    {
     "name": "stdout",
     "output_type": "stream",
     "text": [
      "clarusway\n"
     ]
    }
   ],
   "source": [
    "print('clarus' + 'way')"
   ]
  },
  {
   "cell_type": "code",
   "execution_count": 28,
   "id": "7ff90bbe",
   "metadata": {},
   "outputs": [
    {
     "name": "stdout",
     "output_type": "stream",
     "text": [
      "no way!no way!no way!\n"
     ]
    }
   ],
   "source": [
    "#We can also use * operator for repeating the string without any spaces. For example :\n",
    "print(3*'no way!')"
   ]
  },
  {
   "cell_type": "code",
   "execution_count": 29,
   "id": "bfccee6f",
   "metadata": {},
   "outputs": [
    {
     "name": "stdout",
     "output_type": "stream",
     "text": [
      "I love my daughterI love my daughter\n"
     ]
    }
   ],
   "source": [
    "print(2*'I love my daughter')"
   ]
  },
  {
   "cell_type": "code",
   "execution_count": 30,
   "id": "eddcc7f6",
   "metadata": {},
   "outputs": [
    {
     "name": "stdout",
     "output_type": "stream",
     "text": [
      "using + : OrangeTomato\n",
      "using * : OrangeOrangeOrange\n"
     ]
    }
   ],
   "source": [
    "fruit = 'Orange'\n",
    "vegetable = 'Tomato'\n",
    "print(\"using + :\", fruit + vegetable)\n",
    "print(\"using * :\", 3 * fruit)"
   ]
  },
  {
   "cell_type": "code",
   "execution_count": 31,
   "id": "bcf3949b",
   "metadata": {},
   "outputs": [
    {
     "name": "stdout",
     "output_type": "stream",
     "text": [
      "using + : asudeeymen\n",
      "using * : eymeneymen\n"
     ]
    }
   ],
   "source": [
    "fruit = 'asude'\n",
    "vegetable = 'eymen'\n",
    "print(\"using + :\", fruit + vegetable)\n",
    "print(\"using * :\", 2 * vegetable)"
   ]
  },
  {
   "cell_type": "code",
   "execution_count": 32,
   "id": "c2493e6f",
   "metadata": {},
   "outputs": [
    {
     "name": "stdout",
     "output_type": "stream",
     "text": [
      "orange apple banana apricot\n"
     ]
    }
   ],
   "source": [
    "fruit = 'orange'\n",
    "fruit += ' apple'\n",
    "fruit += ' banana'\n",
    "fruit += ' apricot'\n",
    "\n",
    "print(fruit)"
   ]
  },
  {
   "cell_type": "code",
   "execution_count": 33,
   "id": "5d3bd1eb",
   "metadata": {},
   "outputs": [
    {
     "ename": "SyntaxError",
     "evalue": "invalid syntax (<ipython-input-33-2feb34f2a2f7>, line 2)",
     "output_type": "error",
     "traceback": [
      "\u001b[0;36m  File \u001b[0;32m\"<ipython-input-33-2feb34f2a2f7>\"\u001b[0;36m, line \u001b[0;32m2\u001b[0m\n\u001b[0;31m    A:\u001b[0m\n\u001b[0m      ^\u001b[0m\n\u001b[0;31mSyntaxError\u001b[0m\u001b[0;31m:\u001b[0m invalid syntax\n"
     ]
    }
   ],
   "source": [
    "# There are several ways in Python that we use when processing and using string data structures. What are the most important of these:\n",
    "A:\n",
    "Arithmetic syntax (+, * and =),\n",
    "% operator formatting,\n",
    "string.format() method,\n",
    "f-string formatting."
   ]
  },
  {
   "cell_type": "code",
   "execution_count": null,
   "id": "d58b82b1",
   "metadata": {},
   "outputs": [],
   "source": [
    "#String Formatting with '%' Operator\n",
    "The other way that you will learn to format the strings is % operator. \n",
    "This one is not a frequently used way, but it's worth learning.\n",
    "\n",
    "' % ' operator formatting :\n",
    "👉🏻% operator gets the values in order and prints them in order using several characters accordingly. Look at the example :\n",
    "\n",
    "For now, we used only s, d and f characters to specify the data type in a string."
   ]
  },
  {
   "cell_type": "code",
   "execution_count": 35,
   "id": "002d92f8",
   "metadata": {},
   "outputs": [
    {
     "name": "stdout",
     "output_type": "stream",
     "text": [
      "I have 4 children and 5.00 brothers\n"
     ]
    }
   ],
   "source": [
    "phrase = 'I have %d %s and %.2f brothers' % (4, \"children\", 5)  \n",
    "print (phrase)"
   ]
  },
  {
   "cell_type": "markdown",
   "id": "ea4acf5b",
   "metadata": {},
   "source": [
    "Here in the example, the % operator first takes '4' and puts it in the first % operator, then takes 'children' secondly and puts it in the second % operator and finally takes '5' and puts it in the third % operator.\n",
    "\n",
    "💡Tips:\n",
    "In the '%s' syntax : s stands for 'string'.\n",
    "In the '%.2f' syntax : f stands for 'float'. In this example 2 digits after point.\n",
    "In the '%d' syntax : d stands for 'numeric'.\n",
    "If you want, you can limit the character numbers of the strings. Here is an example :"
   ]
  },
  {
   "cell_type": "code",
   "execution_count": 36,
   "id": "173b34b2",
   "metadata": {},
   "outputs": [
    {
     "name": "stdout",
     "output_type": "stream",
     "text": [
      "apologizing\n"
     ]
    }
   ],
   "source": [
    "sentence = \"apologizing is a virtue\"\n",
    "\n",
    "print(\"%.11s\" % sentence)  # we get first 11 characters of the string"
   ]
  },
  {
   "cell_type": "code",
   "execution_count": 38,
   "id": "19a7363d",
   "metadata": {},
   "outputs": [
    {
     "name": "stdout",
     "output_type": "stream",
     "text": [
      "lov\n"
     ]
    }
   ],
   "source": [
    "sentence=\"love is poison\"\n",
    "print(\"%.3s\" % sentence)"
   ]
  },
  {
   "cell_type": "code",
   "execution_count": 39,
   "id": "a212c1ed",
   "metadata": {},
   "outputs": [
    {
     "name": "stdout",
     "output_type": "stream",
     "text": [
      "love is p\n"
     ]
    }
   ],
   "source": [
    "sentence=\"love is poison\"\n",
    "print(\"%.9s\" % sentence)"
   ]
  },
  {
   "cell_type": "code",
   "execution_count": 40,
   "id": "cddb3191",
   "metadata": {},
   "outputs": [
    {
     "name": "stdout",
     "output_type": "stream",
     "text": [
      "33 pounds of bananas left\n"
     ]
    }
   ],
   "source": [
    "print('%(amount)d pounds of %(fruit)s left' % {'amount': 33, 'fruit':'bananas'})"
   ]
  },
  {
   "cell_type": "code",
   "execution_count": 41,
   "id": "b7bc3efc",
   "metadata": {},
   "outputs": [
    {
     "name": "stdout",
     "output_type": "stream",
     "text": [
      "Hello\n"
     ]
    }
   ],
   "source": [
    "x = \"HelloWorld!\"\n",
    "print('%.5s' % x)"
   ]
  },
  {
   "cell_type": "markdown",
   "id": "43296c7f",
   "metadata": {},
   "source": [
    "String Formatting with 'string.format()' Method\n",
    "You can make strings change depending on the value of a variable or an expression. The main methods of Python to format the output are :\n",
    "\n",
    "'string.format()' method :\n",
    "string.format() method is the improved form of % operator formatting.\n",
    "\n",
    "As in this example below, the value of expression comes from .format() method in order. Curly braces 👉🏻{} receives values from .format()."
   ]
  },
  {
   "cell_type": "code",
   "execution_count": 42,
   "id": "45dbe8e3",
   "metadata": {},
   "outputs": [
    {
     "name": "stdout",
     "output_type": "stream",
     "text": [
      "The amount of Orange we bought is 4 pounds\n"
     ]
    }
   ],
   "source": [
    "fruit = 'Orange'\n",
    "vegetable = 'Tomato'\n",
    "amount = 4\n",
    "print('The amount of {} we bought is {} pounds'.format(fruit, amount))"
   ]
  },
  {
   "cell_type": "code",
   "execution_count": 43,
   "id": "66c95076",
   "metadata": {},
   "outputs": [
    {
     "name": "stdout",
     "output_type": "stream",
     "text": [
      "The amount of Tomato we bought is 5 pounds\n"
     ]
    }
   ],
   "source": [
    "fruit = 'Orange'\n",
    "vegetable = 'Tomato'\n",
    "amount = 5\n",
    "print('The amount of {} we bought is {} pounds'.format(vegetable, amount))"
   ]
  },
  {
   "cell_type": "code",
   "execution_count": 44,
   "id": "38710232",
   "metadata": {},
   "outputs": [
    {
     "name": "stdout",
     "output_type": "stream",
     "text": [
      "California is the most crowded state of the USA\n"
     ]
    }
   ],
   "source": [
    "#If you’ve written more variables than you need in the .format() method, the extra ones just will be ignored. Using keywords in 👉🏻{} makes string more readable. For example:\n",
    "print('{state} is the most {adjective} state of the {country}'.format(state='California', country='USA', adjective='crowded'))\n"
   ]
  },
  {
   "cell_type": "code",
   "execution_count": 45,
   "id": "4b894297",
   "metadata": {},
   "outputs": [
    {
     "name": "stdout",
     "output_type": "stream",
     "text": [
      "I will have found a job in 6 months\n"
     ]
    }
   ],
   "source": [
    "print(\"{6} {0} {5} {3} {4} {1} {2}\".format('have', 6, 'months', 'a job', 'in', 'found', 'I will'))"
   ]
  },
  {
   "cell_type": "code",
   "execution_count": 46,
   "id": "49021651",
   "metadata": {},
   "outputs": [
    {
     "ename": "TypeError",
     "evalue": "'str' object is not callable",
     "output_type": "error",
     "traceback": [
      "\u001b[0;31m---------------------------------------------------------------------------\u001b[0m",
      "\u001b[0;31mTypeError\u001b[0m                                 Traceback (most recent call last)",
      "\u001b[0;32m<ipython-input-46-12a5c903c101>\u001b[0m in \u001b[0;36m<module>\u001b[0;34m\u001b[0m\n\u001b[1;32m      1\u001b[0m \u001b[0;34m\"Good teachers know how to bring out the best in students.\"\u001b[0m\u001b[0;34m\u001b[0m\u001b[0;34m\u001b[0m\u001b[0m\n\u001b[0;32m----> 2\u001b[0;31m \u001b[0mprint\u001b[0m\u001b[0;34m(\u001b[0m\u001b[0mstr\u001b[0m\u001b[0;34m(\u001b[0m\u001b[0mformat\u001b[0m\u001b[0;34m)\u001b[0m\u001b[0;34m)\u001b[0m\u001b[0;34m\u001b[0m\u001b[0;34m\u001b[0m\u001b[0m\n\u001b[0m",
      "\u001b[0;31mTypeError\u001b[0m: 'str' object is not callable"
     ]
    }
   ],
   "source": [
    "\"Good teachers know how to bring out the best in students.\"\n",
    "print(str(format))"
   ]
  },
  {
   "cell_type": "markdown",
   "id": "422f9fe2",
   "metadata": {},
   "source": [
    "String Formatting with 'f-string'\n",
    "It is the easiest and useful formatting method of the strings.\n",
    "\n",
    "'f-string' formatting :\n",
    "It makes string formatting easier. This method was introduced in 2015 with Python 3.6.\n",
    "\n",
    "f-string is the string syntax that is enclosed in quotes with a letter f at the beginning. Curly braces 👉🏻{} that contain variable names or expressions are used to replace with their values.\n",
    "\n",
    "Sample of a formula syntax is : f\"strings {variable1} {variable2} string {variable3}\"\n",
    "\n",
    "Let's look at the example below on how the syntax is simple and readable."
   ]
  },
  {
   "cell_type": "code",
   "execution_count": 47,
   "id": "899c76bb",
   "metadata": {},
   "outputs": [
    {
     "name": "stdout",
     "output_type": "stream",
     "text": [
      "The amount of Orange and Tomato we bought are totally 6 pounds\n"
     ]
    }
   ],
   "source": [
    "fruit = 'Orange'\n",
    "vegetable = 'Tomato'\n",
    "amount = 6\n",
    "output = f\"The amount of {fruit} and {vegetable} we bought are totally {amount} pounds\"\n",
    "\n",
    "print(output)"
   ]
  },
  {
   "cell_type": "code",
   "execution_count": 48,
   "id": "3f38ee33",
   "metadata": {},
   "outputs": [
    {
     "name": "stdout",
     "output_type": "stream",
     "text": [
      "20\n"
     ]
    }
   ],
   "source": [
    "result = f\"{4 * 5}\"\n",
    "print(result)"
   ]
  },
  {
   "cell_type": "code",
   "execution_count": 49,
   "id": "cd0fcd5a",
   "metadata": {},
   "outputs": [
    {
     "name": "stdout",
     "output_type": "stream",
     "text": [
      "My name is Joseph\n"
     ]
    }
   ],
   "source": [
    "my_name = 'JOSEPH'\n",
    "output = f\"My name is {my_name.capitalize()}\"\n",
    "\n",
    "print(output)"
   ]
  },
  {
   "cell_type": "code",
   "execution_count": 55,
   "id": "7e7c9462",
   "metadata": {},
   "outputs": [
    {
     "name": "stdout",
     "output_type": "stream",
     "text": [
      "My name is Ali\n"
     ]
    }
   ],
   "source": [
    "my_name = 'ALI'\n",
    "output = F\"My name is {my_name.capitalize()}\"\n",
    "\n",
    "print(output)"
   ]
  },
  {
   "cell_type": "code",
   "execution_count": 56,
   "id": "f4f6ab6c",
   "metadata": {},
   "outputs": [
    {
     "name": "stdout",
     "output_type": "stream",
     "text": [
      "Hi Joseph. You are one of the teachers in the Data Science section.\n"
     ]
    }
   ],
   "source": [
    "name = \"Joseph\"\n",
    "job = \"teachers\"\n",
    "domain = \"Data Science\"\n",
    "message = (f\"Hi {name}. \"f\"You are one of the {job} \"f\"in the {domain} section.\")\n",
    "print(message)"
   ]
  },
  {
   "cell_type": "code",
   "execution_count": 60,
   "id": "0572f415",
   "metadata": {},
   "outputs": [
    {
     "name": "stdout",
     "output_type": "stream",
     "text": [
      "Hi Joseph. You are one of the teachers in the Data Science section.\n"
     ]
    }
   ],
   "source": [
    "#If you want to use multiple 'f-string formatting' lines without parentheses, what will be the other option that you can use?\n",
    "#A: You can use backslashes 👉\\ between f-lines.\n",
    "name = \"Joseph\"\n",
    "job = \"teachers\"\n",
    "domain = \"Data Science\"\n",
    "message = f\"Hi {name}. \" \\\n",
    "     f\"You are one of the {job} \" \\\n",
    "     f\"in the {domain} section.\"\n",
    "\n",
    "print(message)"
   ]
  },
  {
   "cell_type": "code",
   "execution_count": 64,
   "id": "18a834bf",
   "metadata": {},
   "outputs": [
    {
     "name": "stdout",
     "output_type": "stream",
     "text": [
      "Hi Joseph. You are one of the teachers in the Data Science section.\n"
     ]
    }
   ],
   "source": [
    "nname = \"Joseph\"\n",
    "job = \"teachers\"\n",
    "domain = \"Data Science\"\n",
    "message = f\"Hi {name}. \" \\\n",
    "     f\"You are one of the {job} \" \\\n",
    "     f\"in the {domain} section.\"\n",
    "\n",
    "print(message)"
   ]
  },
  {
   "cell_type": "code",
   "execution_count": null,
   "id": "452077eb",
   "metadata": {},
   "outputs": [],
   "source": [
    "# When did Linus announced kernel to the world?\n",
    "\n",
    "Select one:1991"
   ]
  },
  {
   "cell_type": "code",
   "execution_count": 1,
   "id": "c24ac67f",
   "metadata": {},
   "outputs": [
    {
     "name": "stdout",
     "output_type": "stream",
     "text": [
      "I live in Sarajevo.\n"
     ]
    }
   ],
   "source": [
    "#Type a Python code to get the output of “I live in Sarajevo.”\n",
    "#, using .capitalize() and f-string methods with the city variable below.\n",
    "\n",
    "city = \"SARAJEVO\"\n",
    "text=f\"I live in {city.capitalize()}.\"\n",
    "print(text)"
   ]
  },
  {
   "cell_type": "markdown",
   "id": "cef762a2",
   "metadata": {},
   "source": [
    "MAIN STRING OPERATIONS"
   ]
  },
  {
   "cell_type": "code",
   "execution_count": 2,
   "id": "1b31962b",
   "metadata": {},
   "outputs": [
    {
     "data": {
      "text/plain": [
       "['__add__',\n",
       " '__class__',\n",
       " '__contains__',\n",
       " '__delattr__',\n",
       " '__dir__',\n",
       " '__doc__',\n",
       " '__eq__',\n",
       " '__format__',\n",
       " '__ge__',\n",
       " '__getattribute__',\n",
       " '__getitem__',\n",
       " '__getnewargs__',\n",
       " '__gt__',\n",
       " '__hash__',\n",
       " '__init__',\n",
       " '__init_subclass__',\n",
       " '__iter__',\n",
       " '__le__',\n",
       " '__len__',\n",
       " '__lt__',\n",
       " '__mul__',\n",
       " '__ne__',\n",
       " '__new__',\n",
       " '__reduce__',\n",
       " '__reduce_ex__',\n",
       " '__repr__',\n",
       " '__rmul__',\n",
       " '__setattr__',\n",
       " '__sizeof__',\n",
       " '__str__',\n",
       " '__subclasshook__',\n",
       " 'count',\n",
       " 'index']"
      ]
     },
     "execution_count": 2,
     "metadata": {},
     "output_type": "execute_result"
    }
   ],
   "source": [
    "dir(tuple)"
   ]
  },
  {
   "cell_type": "code",
   "execution_count": 3,
   "id": "c1fb2780",
   "metadata": {},
   "outputs": [
    {
     "data": {
      "text/plain": [
       "['__add__',\n",
       " '__class__',\n",
       " '__contains__',\n",
       " '__delattr__',\n",
       " '__delitem__',\n",
       " '__dir__',\n",
       " '__doc__',\n",
       " '__eq__',\n",
       " '__format__',\n",
       " '__ge__',\n",
       " '__getattribute__',\n",
       " '__getitem__',\n",
       " '__gt__',\n",
       " '__hash__',\n",
       " '__iadd__',\n",
       " '__imul__',\n",
       " '__init__',\n",
       " '__init_subclass__',\n",
       " '__iter__',\n",
       " '__le__',\n",
       " '__len__',\n",
       " '__lt__',\n",
       " '__mul__',\n",
       " '__ne__',\n",
       " '__new__',\n",
       " '__reduce__',\n",
       " '__reduce_ex__',\n",
       " '__repr__',\n",
       " '__reversed__',\n",
       " '__rmul__',\n",
       " '__setattr__',\n",
       " '__setitem__',\n",
       " '__sizeof__',\n",
       " '__str__',\n",
       " '__subclasshook__',\n",
       " 'append',\n",
       " 'clear',\n",
       " 'copy',\n",
       " 'count',\n",
       " 'extend',\n",
       " 'index',\n",
       " 'insert',\n",
       " 'pop',\n",
       " 'remove',\n",
       " 'reverse',\n",
       " 'sort']"
      ]
     },
     "execution_count": 3,
     "metadata": {},
     "output_type": "execute_result"
    }
   ],
   "source": [
    "dir(list)"
   ]
  },
  {
   "cell_type": "code",
   "execution_count": 7,
   "id": "53b824ce",
   "metadata": {},
   "outputs": [
    {
     "data": {
      "text/plain": [
       "'pat has a husky'"
      ]
     },
     "execution_count": 7,
     "metadata": {},
     "output_type": "execute_result"
    }
   ],
   "source": [
    "stg='pat has a husky'\n",
    "stg"
   ]
  },
  {
   "cell_type": "code",
   "execution_count": 12,
   "id": "106bddab",
   "metadata": {},
   "outputs": [],
   "source": [
    "up=stg.upper()"
   ]
  },
  {
   "cell_type": "code",
   "execution_count": 16,
   "id": "867bb761",
   "metadata": {},
   "outputs": [
    {
     "name": "stdout",
     "output_type": "stream",
     "text": [
      "clarusway\n",
      "Clarusway\n"
     ]
    }
   ],
   "source": [
    "var_string='Clarusway'\n",
    "print(var_string.lower())\n",
    "print(var_string)"
   ]
  },
  {
   "cell_type": "code",
   "execution_count": 14,
   "id": "3692e515",
   "metadata": {},
   "outputs": [
    {
     "name": "stdout",
     "output_type": "stream",
     "text": [
      "clarusway\n"
     ]
    }
   ],
   "source": [
    "var_string='Clarusway'.lower()\n",
    "print(var_string)"
   ]
  },
  {
   "cell_type": "code",
   "execution_count": 17,
   "id": "9946111a",
   "metadata": {},
   "outputs": [
    {
     "name": "stdout",
     "output_type": "stream",
     "text": [
      "clarusway\n",
      "Clarusway\n",
      "clarusway\n"
     ]
    }
   ],
   "source": [
    "var_string='Clarusway'\n",
    "print(var_string.lower())\n",
    "print(var_string)\n",
    "var_string='Clarusway'.lower()\n",
    "print(var_string)"
   ]
  },
  {
   "cell_type": "code",
   "execution_count": 18,
   "id": "735ad3bb",
   "metadata": {},
   "outputs": [
    {
     "name": "stdout",
     "output_type": "stream",
     "text": [
      "In God we Trust\n"
     ]
    }
   ],
   "source": [
    "var_str='In God we Trust'\n",
    "var_str.lower()\n",
    "print(var_str)"
   ]
  },
  {
   "cell_type": "code",
   "execution_count": 19,
   "id": "a9603f35",
   "metadata": {},
   "outputs": [
    {
     "name": "stdout",
     "output_type": "stream",
     "text": [
      "Help on built-in function startswith:\n",
      "\n",
      "startswith(...) method of builtins.str instance\n",
      "    S.startswith(prefix[, start[, end]]) -> bool\n",
      "    \n",
      "    Return True if S starts with the specified prefix, False otherwise.\n",
      "    With optional start, test S beginning at that position.\n",
      "    With optional end, stop comparing S at that position.\n",
      "    prefix can also be a tuple of strings to try.\n",
      "\n"
     ]
    }
   ],
   "source": [
    "help(str.startswith)"
   ]
  },
  {
   "cell_type": "code",
   "execution_count": 20,
   "id": "eba3ba08",
   "metadata": {},
   "outputs": [
    {
     "data": {
      "text/plain": [
       "True"
      ]
     },
     "execution_count": 20,
     "metadata": {},
     "output_type": "execute_result"
    }
   ],
   "source": [
    "#short prefix\n",
    "str.startswith('p')"
   ]
  },
  {
   "cell_type": "code",
   "execution_count": 21,
   "id": "df570a3c",
   "metadata": {},
   "outputs": [
    {
     "data": {
      "text/plain": [
       "True"
      ]
     },
     "execution_count": 21,
     "metadata": {},
     "output_type": "execute_result"
    }
   ],
   "source": [
    "#full prefix\n",
    "str.startswith('pat')"
   ]
  },
  {
   "cell_type": "code",
   "execution_count": 23,
   "id": "dd2103bf",
   "metadata": {},
   "outputs": [
    {
     "data": {
      "text/plain": [
       "False"
      ]
     },
     "execution_count": 23,
     "metadata": {},
     "output_type": "execute_result"
    }
   ],
   "source": [
    "#start at the beginning\n",
    "str.startswith('has', 0)"
   ]
  },
  {
   "cell_type": "code",
   "execution_count": 24,
   "id": "99170ae8",
   "metadata": {},
   "outputs": [
    {
     "data": {
      "text/plain": [
       "True"
      ]
     },
     "execution_count": 24,
     "metadata": {},
     "output_type": "execute_result"
    }
   ],
   "source": [
    "str.startswith('has',4)"
   ]
  },
  {
   "cell_type": "code",
   "execution_count": 25,
   "id": "66f80860",
   "metadata": {},
   "outputs": [],
   "source": [
    "# str.endswith"
   ]
  },
  {
   "cell_type": "code",
   "execution_count": 26,
   "id": "a3029519",
   "metadata": {},
   "outputs": [
    {
     "data": {
      "text/plain": [
       "<function str.endswith>"
      ]
     },
     "execution_count": 26,
     "metadata": {},
     "output_type": "execute_result"
    }
   ],
   "source": [
    "str.endswith"
   ]
  },
  {
   "cell_type": "code",
   "execution_count": 27,
   "id": "afccdbc4",
   "metadata": {},
   "outputs": [
    {
     "name": "stdout",
     "output_type": "stream",
     "text": [
      "Help on built-in function endswith:\n",
      "\n",
      "endswith(...) method of builtins.str instance\n",
      "    S.endswith(suffix[, start[, end]]) -> bool\n",
      "    \n",
      "    Return True if S ends with the specified suffix, False otherwise.\n",
      "    With optional start, test S beginning at that position.\n",
      "    With optional end, stop comparing S at that position.\n",
      "    suffix can also be a tuple of strings to try.\n",
      "\n"
     ]
    }
   ],
   "source": [
    "help(str.endswith)"
   ]
  },
  {
   "cell_type": "code",
   "execution_count": 28,
   "id": "9bd8ede8",
   "metadata": {},
   "outputs": [
    {
     "data": {
      "text/plain": [
       "<function str.endswith>"
      ]
     },
     "execution_count": 28,
     "metadata": {},
     "output_type": "execute_result"
    }
   ],
   "source": [
    "str\n",
    "str.endswith"
   ]
  },
  {
   "cell_type": "code",
   "execution_count": 29,
   "id": "94f66b82",
   "metadata": {},
   "outputs": [
    {
     "data": {
      "text/plain": [
       "True"
      ]
     },
     "execution_count": 29,
     "metadata": {},
     "output_type": "execute_result"
    }
   ],
   "source": [
    "str.endswith('ky')"
   ]
  },
  {
   "cell_type": "code",
   "execution_count": 30,
   "id": "6032e4d7",
   "metadata": {},
   "outputs": [
    {
     "data": {
      "text/plain": [
       "True"
      ]
     },
     "execution_count": 30,
     "metadata": {},
     "output_type": "execute_result"
    }
   ],
   "source": [
    "str.endswith('husky')"
   ]
  },
  {
   "cell_type": "code",
   "execution_count": 31,
   "id": "f930b0dd",
   "metadata": {},
   "outputs": [
    {
     "data": {
      "text/plain": [
       "False"
      ]
     },
     "execution_count": 31,
     "metadata": {},
     "output_type": "execute_result"
    }
   ],
   "source": [
    "str.endswith('has')"
   ]
  },
  {
   "cell_type": "code",
   "execution_count": 32,
   "id": "deafb626",
   "metadata": {},
   "outputs": [
    {
     "data": {
      "text/plain": [
       "'pat has'"
      ]
     },
     "execution_count": 32,
     "metadata": {},
     "output_type": "execute_result"
    }
   ],
   "source": [
    "str[0:7]"
   ]
  },
  {
   "cell_type": "markdown",
   "id": "4ab60949",
   "metadata": {},
   "source": [
    "#Dictionaries"
   ]
  },
  {
   "cell_type": "code",
   "execution_count": 1,
   "id": "a6abebcb",
   "metadata": {},
   "outputs": [],
   "source": [
    "#Definitions\n",
    "#In this topic, we will examine the collection types which store item pairs. What does it mean?\n",
    "\n",
    "#Think of a real dictionary. It contains words and their meanings. \n",
    "#In Python, you can accept the words as key and the meaning of the words as value.\n",
    "\n",
    "#A dictionary in Python is a collection of key-value pairs called items of a dictionary. \n",
    "#The dictionary is enclosed \n",
    "#by curly braces 👉🏻{}. Each pair (item) is separated by a comma and the key and value are separated by a colon."
   ]
  },
  {
   "cell_type": "code",
   "execution_count": null,
   "id": "90a16366",
   "metadata": {},
   "outputs": [],
   "source": [
    "#Creating a Dictionary\n",
    "#A dictionary also can be created by enclosing pairs, separated by commas, in curly-braces.\n",
    "Looks like list or tuple, right?\n",
    "\n",
    "And of course, we can use a function to create a dictionary : 'dict()' function. \n",
    "    Let's create a simple empty dict :\n",
    "\n",
    "empty_dict_1 = {}\n",
    "\n",
    "empty_dict_2 = dict()"
   ]
  },
  {
   "cell_type": "code",
   "execution_count": 3,
   "id": "1d1deaed",
   "metadata": {},
   "outputs": [
    {
     "name": "stdout",
     "output_type": "stream",
     "text": [
      "<class 'dict'>\n"
     ]
    }
   ],
   "source": [
    "empty_dict_1 = {}\n",
    "\n",
    "print(type(empty_dict_1))\n"
   ]
  },
  {
   "cell_type": "code",
   "execution_count": 4,
   "id": "dd2de21b",
   "metadata": {},
   "outputs": [],
   "source": [
    "my_dict = {'key1': 'value1',\n",
    "            'key2': 'value2',\n",
    "            'key3': 'value3'\n",
    "            }"
   ]
  },
  {
   "cell_type": "code",
   "execution_count": 5,
   "id": "7f72a35b",
   "metadata": {},
   "outputs": [],
   "source": [
    "#The syntax for accessing an item is very simple. We write a key that we want to access in square brackets. \n",
    "#This method works both for adding items to a dict and for reading them from there.\n",
    "\n",
    "#In the following examples, you'll see several methods that allow us to create a dict and add a key-value pair to it.\n"
   ]
  },
  {
   "cell_type": "code",
   "execution_count": 6,
   "id": "b2fe20cc",
   "metadata": {},
   "outputs": [
    {
     "name": "stdout",
     "output_type": "stream",
     "text": [
      "Denver\n"
     ]
    }
   ],
   "source": [
    "state_capitals = {'Arkansas': 'Little Rock',\n",
    "                  'Colorado': 'Denver',\n",
    "                  'California': 'Sacramento',\n",
    "                  'Georgia': 'Atlanta' \n",
    "                 }\n",
    "\n",
    "print(state_capitals['Colorado']) # accessing method\n"
   ]
  },
  {
   "cell_type": "code",
   "execution_count": 8,
   "id": "d73d46c3",
   "metadata": {},
   "outputs": [
    {
     "name": "stdout",
     "output_type": "stream",
     "text": [
      "Atlanta\n"
     ]
    }
   ],
   "source": [
    "state_capitals = {'Arkansas': 'Little Rock',\n",
    "                  'Colorado': 'Denver',\n",
    "                  'California': 'Sacramento',\n",
    "                  'Georgia': 'Atlanta' \n",
    "                 }\n",
    "\n",
    "print(state_capitals['Georgia']) # accessing method\n"
   ]
  },
  {
   "cell_type": "code",
   "execution_count": 9,
   "id": "e8834a44",
   "metadata": {},
   "outputs": [
    {
     "name": "stdout",
     "output_type": "stream",
     "text": [
      "{'Arkansas': 'Little Rock', 'Colorado': 'Denver', 'California': 'Sacramento', 'Georgia': 'Atlanta', 'Virginia': 'Richmond'}\n"
     ]
    }
   ],
   "source": [
    "state_capitals = {'Arkansas': 'Little Rock',\n",
    "                  'Colorado': 'Denver',\n",
    "                  'California': 'Sacramento',\n",
    "                  'Georgia': 'Atlanta' \n",
    "                 }\n",
    "\n",
    "state_capitals['Virginia'] = 'Richmond' # adding a new item\n",
    "\n",
    "print(state_capitals)"
   ]
  },
  {
   "cell_type": "code",
   "execution_count": 10,
   "id": "8097fa6c",
   "metadata": {},
   "outputs": [
    {
     "name": "stdout",
     "output_type": "stream",
     "text": [
      "{'Arkansas': 'Little Rock', 'Colorado': 'Denver', 'California': 'Sacramento', 'Georgia': 'Atlanta', 'New Jersey': 'Elmwoodpark'}\n"
     ]
    }
   ],
   "source": [
    "state_capitals = {'Arkansas': 'Little Rock',\n",
    "                  'Colorado': 'Denver',\n",
    "                  'California': 'Sacramento',\n",
    "                  'Georgia': 'Atlanta' \n",
    "                 }\n",
    "\n",
    "state_capitals['New Jersey'] = 'Elmwoodpark' # adding a new item\n",
    "\n",
    "print(state_capitals)"
   ]
  },
  {
   "cell_type": "code",
   "execution_count": 11,
   "id": "d36716ab",
   "metadata": {},
   "outputs": [],
   "source": [
    "#Note that keys and values can be of different types.\n",
    "mix_values = {'animal': ('dog', 'cat'),  # tuple type\n",
    "              'planet': ['Neptun', 'Saturn', 'Jupiter'],  # list type\n",
    "              'number': 40,  # int type\n",
    "              'pi': 3.14,  # float type\n",
    "              'is_good': True}  # bool type\n",
    "\n",
    "mix_keys = {22 : \"integer\",\n",
    "            1.2 : \"float\",\n",
    "            True : \"boolean\",\n",
    "            \"key\" : \"string\"}"
   ]
  },
  {
   "cell_type": "code",
   "execution_count": 12,
   "id": "7aa627b0",
   "metadata": {},
   "outputs": [
    {
     "name": "stdout",
     "output_type": "stream",
     "text": [
      "{'animal': 'dog', 'planet': 'neptun', 'number': 40, 'pi': 3.14, 'is_good': True}\n"
     ]
    }
   ],
   "source": [
    "dict_by_dict = dict(animal='dog', planet='neptun', number=40, pi=3.14, is_good=True)\n",
    "\n",
    "print(dict_by_dict)\n"
   ]
  },
  {
   "cell_type": "code",
   "execution_count": 13,
   "id": "cb9abc38",
   "metadata": {},
   "outputs": [
    {
     "ename": "SyntaxError",
     "evalue": "invalid syntax (<ipython-input-13-9b8cd3927768>, line 2)",
     "output_type": "error",
     "traceback": [
      "\u001b[0;36m  File \u001b[0;32m\"<ipython-input-13-9b8cd3927768>\"\u001b[0;36m, line \u001b[0;32m2\u001b[0m\n\u001b[0;31m    A: Python dictionary is one of the supported data types in Python.\u001b[0m\n\u001b[0m              ^\u001b[0m\n\u001b[0;31mSyntaxError\u001b[0m\u001b[0;31m:\u001b[0m invalid syntax\n"
     ]
    }
   ],
   "source": [
    "#Q: What is a dictionary in Python?\n",
    "A: Python dictionary is one of the supported data types in Python. \n",
    "    It is an unordered collection of elements. The elements in dictionaries are stored as key–value pairs. \n",
    "    Dictionaries are indexed by keys. For example, below we have a dict named my_dict. \n",
    "    It contains two keys, fruit and vegatable, along with their corresponding values, banana and onion.\n",
    "\n",
    "my_dict = {'fruit':'banana', 'vegatable':'onion'}\n",
    "\n",
    "- Interview Q&A"
   ]
  },
  {
   "cell_type": "markdown",
   "id": "80abc5d4",
   "metadata": {},
   "source": [
    "# Main Operations with Dictionaries"
   ]
  },
  {
   "cell_type": "code",
   "execution_count": 14,
   "id": "37140cbc",
   "metadata": {},
   "outputs": [],
   "source": [
    "#There are several methods that allow us to access items, keys, and values. \n",
    "#You can access all items using the .items() method, all keys using the .keys() method, \n",
    "#and all values using the .values() method:\n",
    "\n"
   ]
  },
  {
   "cell_type": "code",
   "execution_count": 15,
   "id": "a04d7d06",
   "metadata": {},
   "outputs": [
    {
     "name": "stdout",
     "output_type": "stream",
     "text": [
      "dict_items([('animal', 'dog'), ('planet', 'neptun'), ('number', 40), ('pi', 3.14), ('is_good', True)]) \n",
      "\n",
      "dict_keys(['animal', 'planet', 'number', 'pi', 'is_good']) \n",
      "\n",
      "dict_values(['dog', 'neptun', 40, 3.14, True])\n"
     ]
    }
   ],
   "source": [
    "dict_by_dict = {'animal': 'dog',\n",
    "                'planet': 'neptun',\n",
    "                'number': 40,\n",
    "                'pi': 3.14,\n",
    "                'is_good': True}\n",
    "\n",
    "print(dict_by_dict.items(), '\\n')\n",
    "print(dict_by_dict.keys(), '\\n')\n",
    "print(dict_by_dict.values())"
   ]
  },
  {
   "cell_type": "code",
   "execution_count": 16,
   "id": "f2c597e1",
   "metadata": {},
   "outputs": [
    {
     "ename": "SyntaxError",
     "evalue": "invalid syntax (<ipython-input-16-b22c7a15df60>, line 2)",
     "output_type": "error",
     "traceback": [
      "\u001b[0;36m  File \u001b[0;32m\"<ipython-input-16-b22c7a15df60>\"\u001b[0;36m, line \u001b[0;32m2\u001b[0m\n\u001b[0;31m    Likewise, you can add new items using the .update() method. Let's see :\u001b[0m\n\u001b[0m                  ^\u001b[0m\n\u001b[0;31mSyntaxError\u001b[0m\u001b[0;31m:\u001b[0m invalid syntax\n"
     ]
    }
   ],
   "source": [
    "#You have learned that you can add a new item by assigning value to a key that is not in the dictionary. \n",
    "Likewise, you can add new items using the .update() method. Let's see :"
   ]
  },
  {
   "cell_type": "code",
   "execution_count": 17,
   "id": "123d4741",
   "metadata": {},
   "outputs": [
    {
     "name": "stdout",
     "output_type": "stream",
     "text": [
      "{'animal': 'dog', 'planet': 'neptun', 'number': 40, 'pi': 3.14, 'is_good': True, 'is_bad': False}\n"
     ]
    }
   ],
   "source": [
    "dict_by_dict = {'animal': 'dog',\n",
    "                'planet': 'neptun',\n",
    "                'number': 40,\n",
    "                'pi': 3.14,\n",
    "                'is_good': True}\n",
    "\n",
    "dict_by_dict.update({'is_bad': False})\n",
    "\n",
    "print(dict_by_dict)"
   ]
  },
  {
   "cell_type": "code",
   "execution_count": 21,
   "id": "966fcabb",
   "metadata": {},
   "outputs": [
    {
     "name": "stdout",
     "output_type": "stream",
     "text": [
      "{'animal': 'dog', 'planet': 'neptun', 'number': 40, 'pi': 3.14, 'is_good': True, 'love': True}\n"
     ]
    }
   ],
   "source": [
    "dict_by_dict = {'animal': 'dog',\n",
    "                'planet': 'neptun',\n",
    "                'number': 40,\n",
    "                'pi': 3.14,\n",
    "                'is_good': True}\n",
    "\n",
    "dict_by_dict.update({'love': True})\n",
    "\n",
    "print(dict_by_dict)"
   ]
  },
  {
   "cell_type": "code",
   "execution_count": 22,
   "id": "11499bfc",
   "metadata": {},
   "outputs": [
    {
     "ename": "SyntaxError",
     "evalue": "invalid syntax (<ipython-input-22-00a9788e827a>, line 3)",
     "output_type": "error",
     "traceback": [
      "\u001b[0;36m  File \u001b[0;32m\"<ipython-input-22-00a9788e827a>\"\u001b[0;36m, line \u001b[0;32m3\u001b[0m\n\u001b[0;31m    The formula syntax is : del dictionary_name['key'].\u001b[0m\n\u001b[0m        ^\u001b[0m\n\u001b[0;31mSyntaxError\u001b[0m\u001b[0;31m:\u001b[0m invalid syntax\n"
     ]
    }
   ],
   "source": [
    "#You can also remove an item using the del function:\n",
    "\n",
    "The formula syntax is : del dictionary_name['key'].\n",
    "\n"
   ]
  },
  {
   "cell_type": "code",
   "execution_count": 23,
   "id": "56a98d66",
   "metadata": {},
   "outputs": [
    {
     "name": "stdout",
     "output_type": "stream",
     "text": [
      "{'planet': 'neptun', 'number': 40, 'pi': 3.14, 'is_good': True, 'is_bad': False}\n"
     ]
    }
   ],
   "source": [
    "dict_by_dict = {'animal': 'dog',\n",
    "               'planet': 'neptun',\n",
    "               'number': 40,\n",
    "               'pi': 3.14,\n",
    "               'is_good': True,\n",
    "               'is_bad': False}\n",
    "\n",
    "del dict_by_dict['animal']\n",
    "\n",
    "print(dict_by_dict) "
   ]
  },
  {
   "cell_type": "code",
   "execution_count": 24,
   "id": "7817ae7a",
   "metadata": {},
   "outputs": [
    {
     "name": "stdout",
     "output_type": "stream",
     "text": [
      "{'animal': 'dog', 'planet': 'neptun', 'pi': 3.14, 'is_good': True, 'is_bad': False}\n"
     ]
    }
   ],
   "source": [
    "dict_by_dict = {'animal': 'dog',\n",
    "               'planet': 'neptun',\n",
    "               'number': 40,\n",
    "               'pi': 3.14,\n",
    "               'is_good': True,\n",
    "               'is_bad': False}\n",
    "\n",
    "del dict_by_dict['number']\n",
    "\n",
    "print(dict_by_dict) "
   ]
  },
  {
   "cell_type": "code",
   "execution_count": 25,
   "id": "a10e4325",
   "metadata": {},
   "outputs": [
    {
     "name": "stdout",
     "output_type": "stream",
     "text": [
      "{'animal': 'dog', 'planet': 'neptun', 'number': 40, 'pi': 3.14, 'is_bad': False}\n"
     ]
    }
   ],
   "source": [
    "dict_by_dict = {'animal': 'dog',\n",
    "               'planet': 'neptun',\n",
    "               'number': 40,\n",
    "               'pi': 3.14,\n",
    "               'is_good': True,\n",
    "               'is_bad': False}\n",
    "\n",
    "del dict_by_dict['is_good']\n",
    "\n",
    "print(dict_by_dict) "
   ]
  },
  {
   "cell_type": "code",
   "execution_count": 4,
   "id": "9d917e9c",
   "metadata": {},
   "outputs": [
    {
     "name": "stdout",
     "output_type": "stream",
     "text": [
      "dict_items([('human', 'Ali'), ('planet', 'Neptun'), ('is_good', True), ('is_bad', False)]) \n",
      "\n",
      "dict_keys(['human', 'planet', 'is_good', 'is_bad']) \n",
      "\n",
      "dict_values(['Ali', 'Neptun', True, False])\n"
     ]
    }
   ],
   "source": [
    "dict_by_dict={'human': 'Ali',\n",
    "              'planet':'Neptun',\n",
    "              'number': 34,\n",
    "              'is_good': True,\n",
    "              'is_bad': False\n",
    "            }\n",
    "del dict_by_dict['number']\n",
    "print(dict_by_dict.items(), '\\n')\n",
    "print(dict_by_dict.keys(), '\\n')\n",
    "print(dict_by_dict.values())"
   ]
  },
  {
   "cell_type": "code",
   "execution_count": null,
   "id": "71974bc8",
   "metadata": {},
   "outputs": [],
   "source": []
  },
  {
   "cell_type": "markdown",
   "id": "685da75b",
   "metadata": {},
   "source": [
    "## Using the in and the not in operator, you can check if the key is in the dictionary.\n",
    "\n",
    "When we use the in operator; if the key is in the dictionary, the result will be True otherwise False.\n",
    "\n",
    "When we use the not in; if the key is not in the dictionary, the result will be True otherwise False."
   ]
  },
  {
   "cell_type": "code",
   "execution_count": 26,
   "id": "74cf9bc1",
   "metadata": {},
   "outputs": [
    {
     "name": "stdout",
     "output_type": "stream",
     "text": [
      "True\n",
      "True\n"
     ]
    }
   ],
   "source": [
    "dict_by_dict = {'planet': 'neptun',\n",
    "               'number': 40,\n",
    "               'pi': 3.14,\n",
    "               'is_good': True,\n",
    "               'is_bad': False}\n",
    "\n",
    "print('pi' in dict_by_dict) \n",
    "print('animal' not in dict_by_dict)  # remember, we have deleted 'animal'"
   ]
  },
  {
   "cell_type": "code",
   "execution_count": 27,
   "id": "827a5ec8",
   "metadata": {},
   "outputs": [
    {
     "name": "stdout",
     "output_type": "stream",
     "text": [
      "True\n",
      "False\n"
     ]
    }
   ],
   "source": [
    "dict_by_dict = {'planet': 'neptun',\n",
    "               'number': 40,\n",
    "               'pi': 3.14,\n",
    "               'is_good': True,\n",
    "               'is_bad': False}\n",
    "\n",
    "print('planet' in dict_by_dict) \n",
    "print('is_good' not in dict_by_dict)  # remember, we have deleted 'animal'"
   ]
  },
  {
   "cell_type": "code",
   "execution_count": 29,
   "id": "85d7990a",
   "metadata": {},
   "outputs": [
    {
     "name": "stdout",
     "output_type": "stream",
     "text": [
      "32\n"
     ]
    }
   ],
   "source": [
    "student_ages = {\"Harry\": 29,\n",
    "                \"Clark\": 32,\n",
    "                \"Peter\": 22,\n",
    "                \"Bruce\": 36\n",
    "                }\n",
    "\n",
    "print(student_ages[\"Clark\"])"
   ]
  },
  {
   "cell_type": "markdown",
   "id": "dfd844fb",
   "metadata": {},
   "source": [
    "# Nested Dictionaries\n",
    "In some cases, you need to work with the nested dict. When you decide to specialize in data science, we will work very often with dictionaries in the future."
   ]
  },
  {
   "cell_type": "code",
   "execution_count": 30,
   "id": "5fa4bdaa",
   "metadata": {},
   "outputs": [],
   "source": [
    "school_records={\n",
    "    \"personal_info\":\n",
    "        {\"kid\":{\"tom\": {\"class\": \"intermediate\", \"age\": 10},\n",
    "                \"sue\": {\"class\": \"elementary\", \"age\": 8}\n",
    "               },\n",
    "         \"teen\":{\"joseph\":{\"class\": \"college\", \"age\": 19},\n",
    "                 \"marry\":{\"class\": \"high school\", \"age\": 16}\n",
    "               },               \n",
    "        },\n",
    "        \n",
    "    \"grades_info\":\n",
    "        {\"kid\":{\"tom\": {\"math\": 88, \"speech\": 69},\n",
    "                \"sue\": {\"math\": 90, \"speech\": 81}\n",
    "               },\n",
    "         \"teen\":{\"joseph\":{\"coding\": 80, \"math\": 89},\n",
    "                 \"marry\":{\"coding\": 70, \"math\": 96}\n",
    "               },               \n",
    "        },        \n",
    "}"
   ]
  },
  {
   "cell_type": "code",
   "execution_count": 31,
   "id": "3c7f9d61",
   "metadata": {},
   "outputs": [
    {
     "name": "stdout",
     "output_type": "stream",
     "text": [
      "16\n"
     ]
    }
   ],
   "source": [
    "school_records={\n",
    "    \"personal_info\":\n",
    "        {\"kid\":{\"tom\": {\"class\":\"intermediate\", \"age\":10},\n",
    "                \"sue\": {\"class\":\"elementary\", \"age\":8}\n",
    "               },\n",
    "         \"teen\":{\"joseph\":{\"class\":\"college\", \"age\":19},\n",
    "                 \"marry\":{\"class\":\"high school\", \"age\":16}\n",
    "               },               \n",
    "        },\n",
    "}\n",
    "\n",
    "print(school_records['personal_info']['teen']['marry']['age'])"
   ]
  },
  {
   "cell_type": "code",
   "execution_count": 32,
   "id": "250f68d6",
   "metadata": {},
   "outputs": [
    {
     "name": "stdout",
     "output_type": "stream",
     "text": [
      "high school\n"
     ]
    }
   ],
   "source": [
    "school_records={\n",
    "    \"personal_info\":\n",
    "        {\"kid\":{\"tom\": {\"class\":\"intermediate\", \"age\":10},\n",
    "                \"sue\": {\"class\":\"elementary\", \"age\":8}\n",
    "               },\n",
    "         \"teen\":{\"joseph\":{\"class\":\"college\", \"age\":19},\n",
    "                 \"marry\":{\"class\":\"high school\", \"age\":16}\n",
    "               },               \n",
    "        },\n",
    "}\n",
    "\n",
    "print(school_records['personal_info']['teen']['marry']['class'])"
   ]
  },
  {
   "cell_type": "code",
   "execution_count": 33,
   "id": "64b9fd15",
   "metadata": {},
   "outputs": [
    {
     "name": "stdout",
     "output_type": "stream",
     "text": [
      "10\n"
     ]
    }
   ],
   "source": [
    "school_records={\n",
    "    \"personal_info\":\n",
    "        {\"kid\":{\"tom\": {\"class\":\"intermediate\", \"age\":10},\n",
    "                \"sue\": {\"class\":\"elementary\", \"age\":8}\n",
    "               },\n",
    "         \"teen\":{\"joseph\":{\"class\":\"college\", \"age\":19},\n",
    "                 \"marry\":{\"class\":\"high school\", \"age\":16}\n",
    "               },               \n",
    "        },\n",
    "}\n",
    "\n",
    "print(school_records['personal_info']['kid']['tom']['age'])"
   ]
  },
  {
   "cell_type": "code",
   "execution_count": 34,
   "id": "50e49be6",
   "metadata": {},
   "outputs": [
    {
     "ename": "SyntaxError",
     "evalue": "invalid syntax (<ipython-input-34-089d6dddb2df>, line 2)",
     "output_type": "error",
     "traceback": [
      "\u001b[0;36m  File \u001b[0;32m\"<ipython-input-34-089d6dddb2df>\"\u001b[0;36m, line \u001b[0;32m2\u001b[0m\n\u001b[0;31m    The native json module in the Python standard library can be used to convert between JSON and dictionaries.\u001b[0m\n\u001b[0m        ^\u001b[0m\n\u001b[0;31mSyntaxError\u001b[0m\u001b[0;31m:\u001b[0m invalid syntax\n"
     ]
    }
   ],
   "source": [
    "#Dictionaries strongly resemble JSON syntax. \n",
    "The native json module in the Python standard library can be used to convert between JSON and dictionaries."
   ]
  },
  {
   "cell_type": "code",
   "execution_count": 35,
   "id": "b27a7b8b",
   "metadata": {},
   "outputs": [
    {
     "data": {
      "text/plain": [
       "False"
      ]
     },
     "execution_count": 35,
     "metadata": {},
     "output_type": "execute_result"
    }
   ],
   "source": [
    ">>> tel = {'jack': 4098, 'sape': 4139}\n",
    ">>> tel['guido'] = 4127\n",
    ">>> tel\n",
    "{'jack': 4098, 'sape': 4139, 'guido': 4127}\n",
    ">>> tel['jack']\n",
    "4098\n",
    ">>> del tel['sape']\n",
    ">>> tel['irv'] = 4127\n",
    ">>> tel\n",
    "{'jack': 4098, 'guido': 4127, 'irv': 4127}\n",
    ">>> list(tel)\n",
    "['jack', 'guido', 'irv']\n",
    ">>> sorted(tel)\n",
    "['guido', 'irv', 'jack']\n",
    ">>> 'guido' in tel\n",
    "True\n",
    ">>> 'jack' not in tel\n",
    "False"
   ]
  },
  {
   "cell_type": "code",
   "execution_count": 8,
   "id": "74c22977",
   "metadata": {},
   "outputs": [
    {
     "name": "stdout",
     "output_type": "stream",
     "text": [
      "22\n"
     ]
    }
   ],
   "source": [
    "#How can we access and print Lisa’s age? Write the syntax.\n",
    "\n",
    "customers = { \n",
    "'bank': \n",
    "{1: {'name': 'James', 'age': '27', 'sex': 'Male'}, \n",
    " 2: {'name': 'Nicole', 'age': '25', 'sex': 'Female'},  \n",
    " 3: {'name': 'Andy', 'age': '38', 'sex': 'Male'}, \n",
    " 4: {'name': 'Alex', 'age': '19', 'sex': 'Male'}, \n",
    " 5: {'name': 'Linda', 'age': '33', 'sex': 'Female'}, \n",
    "},\n",
    "'insurance':\n",
    "{1: {'name': 'Jashua', 'age': '33', 'sex': 'Male'}, \n",
    " 2: {'name': 'Marry', 'age': '66', 'sex': 'Female'},  \n",
    " 3: {'name': 'Adam', 'age': '56', 'sex': 'Male'}, \n",
    " 4: {'name': 'Samuel', 'age': '54', 'sex': 'Male'}, \n",
    " 5: {'name': 'Lisa', 'age': '22', 'sex': 'Female'},\n",
    " },\n",
    "}\n",
    "\n",
    "print(customers ['insurance'][5]['age'])\n",
    "\n",
    "\n",
    " "
   ]
  },
  {
   "cell_type": "markdown",
   "id": "011a9ff8",
   "metadata": {},
   "source": [
    "# Sets"
   ]
  },
  {
   "cell_type": "code",
   "execution_count": 40,
   "id": "5f068cf4",
   "metadata": {},
   "outputs": [
    {
     "ename": "SyntaxError",
     "evalue": "invalid syntax (<ipython-input-40-3d9cf27f275a>, line 2)",
     "output_type": "error",
     "traceback": [
      "\u001b[0;36m  File \u001b[0;32m\"<ipython-input-40-3d9cf27f275a>\"\u001b[0;36m, line \u001b[0;32m2\u001b[0m\n\u001b[0;31m    A set is a collection of elements with no repeats and without insertion order but sorted order.\u001b[0m\n\u001b[0m      ^\u001b[0m\n\u001b[0;31mSyntaxError\u001b[0m\u001b[0;31m:\u001b[0m invalid syntax\n"
     ]
    }
   ],
   "source": [
    "#Definitions\n",
    "A set is a collection of elements with no repeats and without insertion order but sorted order.\n",
    "\n",
    "Basic uses include membership testing and eliminating duplicate entries. \n",
    "Set objects also support mathematical operations like union, intersection, difference, and symmetric difference.\n",
    "\n",
    "They can hold multiple data in them, but only one of value. \n",
    "They are used in situations where it is only important that some things are grouped together, \n",
    "and not what order they were included."
   ]
  },
  {
   "cell_type": "code",
   "execution_count": 41,
   "id": "8475075a",
   "metadata": {},
   "outputs": [
    {
     "ename": "SyntaxError",
     "evalue": "invalid syntax (<ipython-input-41-194a4e16edca>, line 2)",
     "output_type": "error",
     "traceback": [
      "\u001b[0;36m  File \u001b[0;32m\"<ipython-input-41-194a4e16edca>\"\u001b[0;36m, line \u001b[0;32m2\u001b[0m\n\u001b[0;31m    Curly braces '{}' or the set() function can be used to create sets.\u001b[0m\n\u001b[0m          ^\u001b[0m\n\u001b[0;31mSyntaxError\u001b[0m\u001b[0;31m:\u001b[0m invalid syntax\n"
     ]
    }
   ],
   "source": [
    "#Creating a Set\n",
    "Curly braces '{}' or the set() function can be used to create sets.\n",
    "But the only way to create an empty set is: use the set() function.\n",
    "\n",
    "⚠️Avoid ! :\n",
    "Note that, to create an empty set you have to use set() function. \n",
    "Do not use {} to create an empty set. Otherwise, you will create an empty dictionary."
   ]
  },
  {
   "cell_type": "code",
   "execution_count": 42,
   "id": "4d0ea79d",
   "metadata": {},
   "outputs": [],
   "source": [
    "# Let's create a simple empty set :\n",
    "\n",
    "empty_set = set()"
   ]
  },
  {
   "cell_type": "code",
   "execution_count": 43,
   "id": "479a87f0",
   "metadata": {},
   "outputs": [
    {
     "name": "stdout",
     "output_type": "stream",
     "text": [
      "<class 'set'>\n"
     ]
    }
   ],
   "source": [
    "empty_set = set()\n",
    "\n",
    "print(type(empty_set))"
   ]
  },
  {
   "cell_type": "code",
   "execution_count": 44,
   "id": "116ff1df",
   "metadata": {},
   "outputs": [
    {
     "name": "stdout",
     "output_type": "stream",
     "text": [
      "{'darkblue', 'orange', 'yellow', 'red', 'purple'}\n",
      "{'darkblue', 'orange', 'yellow', 'red', 'purple'}\n"
     ]
    }
   ],
   "source": [
    "#As you can see in the output, the two 'red' values ​​we have defined in the set have fallen to one. \n",
    "#And every time you print the set, the order of the objects in the set changes.\n",
    "\n",
    "\n",
    "colorset = {'purple', 'orange', 'red', 'darkblue', 'yellow', 'red'}\n",
    "\n",
    "print(colorset)\n",
    "print(colorset)"
   ]
  },
  {
   "cell_type": "code",
   "execution_count": 46,
   "id": "92c34fdb",
   "metadata": {},
   "outputs": [
    {
     "name": "stdout",
     "output_type": "stream",
     "text": [
      "{'f', 'n', 'u', 'i', 's', 'h', 'l', 'e'}\n",
      "{'f', 'n', 'u', 'i', 's', 'h', 'l', 'e'}\n"
     ]
    }
   ],
   "source": [
    "s = set('unselfishness')\n",
    "\n",
    "print(s) \n",
    "print(s)"
   ]
  },
  {
   "cell_type": "code",
   "execution_count": 47,
   "id": "e5a55799",
   "metadata": {},
   "outputs": [
    {
     "ename": "SyntaxError",
     "evalue": "invalid syntax (<ipython-input-47-30edd4927cd2>, line 2)",
     "output_type": "error",
     "traceback": [
      "\u001b[0;36m  File \u001b[0;32m\"<ipython-input-47-30edd4927cd2>\"\u001b[0;36m, line \u001b[0;32m2\u001b[0m\n\u001b[0;31m    Within this scope, using sets can help you avoid repetitions.\u001b[0m\n\u001b[0m           ^\u001b[0m\n\u001b[0;31mSyntaxError\u001b[0m\u001b[0;31m:\u001b[0m invalid syntax\n"
     ]
    }
   ],
   "source": [
    "#As you can see, the letters of the string type data are only written once in the set. \n",
    "Within this scope, using sets can help you avoid repetitions. \n",
    "Let's convert a list into a set and look at the repetitions of its elements:"
   ]
  },
  {
   "cell_type": "code",
   "execution_count": 48,
   "id": "8a3687e2",
   "metadata": {},
   "outputs": [
    {
     "name": "stdout",
     "output_type": "stream",
     "text": [
      "{'carnation', 'violet', 'orchid', 'rose'}\n",
      "['carnation', 'violet', 'orchid', 'rose']\n"
     ]
    }
   ],
   "source": [
    "flower_list = ['rose', 'violet', 'carnation', 'rose', 'orchid', 'rose', 'orchid']\n",
    "flowerset = set(flower_list)\n",
    "flowerlist = list(flowerset)\n",
    "\n",
    "print(flowerset) \n",
    "print(flowerlist)\n"
   ]
  },
  {
   "cell_type": "code",
   "execution_count": 49,
   "id": "4ce6a2d0",
   "metadata": {},
   "outputs": [
    {
     "ename": "SyntaxError",
     "evalue": "invalid syntax (<ipython-input-49-5dda77f8b6ce>, line 2)",
     "output_type": "error",
     "traceback": [
      "\u001b[0;36m  File \u001b[0;32m\"<ipython-input-49-5dda77f8b6ce>\"\u001b[0;36m, line \u001b[0;32m2\u001b[0m\n\u001b[0;31m    Do these two sets give the same output and why?\u001b[0m\n\u001b[0m       ^\u001b[0m\n\u001b[0;31mSyntaxError\u001b[0m\u001b[0;31m:\u001b[0m invalid syntax\n"
     ]
    }
   ],
   "source": [
    "#{'carnation', 'orchid', 'rose', 'violet'} 👈👉 {'rose', 'orchid', 'rose', 'violet', 'carnation'} \n",
    "Do these two sets give the same output and why? \n",
    "(Note: Try to figure out the answer before run on the Playground)"
   ]
  },
  {
   "cell_type": "code",
   "execution_count": 50,
   "id": "22d71658",
   "metadata": {},
   "outputs": [
    {
     "ename": "SyntaxError",
     "evalue": "invalid syntax (<ipython-input-50-61f5ffc0ab22>, line 2)",
     "output_type": "error",
     "traceback": [
      "\u001b[0;36m  File \u001b[0;32m\"<ipython-input-50-61f5ffc0ab22>\"\u001b[0;36m, line \u001b[0;32m2\u001b[0m\n\u001b[0;31m    A:\u001b[0m\n\u001b[0m      ^\u001b[0m\n\u001b[0;31mSyntaxError\u001b[0m\u001b[0;31m:\u001b[0m invalid syntax\n"
     ]
    }
   ],
   "source": [
    "Q: Which one of the following is not the correct syntax for creating a set in Python?\n",
    "A:\n",
    "a. set([[1,2],[3,4],[4,5]])\n",
    "b. set([1,2,2,3,4,5])\n",
    "c. {1,2,3,4}\n",
    "d. set((1,2,3,4))\n",
    "\n",
    "Explanation: The iterable argument given for the set must be used in a correct way.\n",
    "\n",
    "- Interview Q&A"
   ]
  },
  {
   "cell_type": "code",
   "execution_count": 52,
   "id": "fcd3075e",
   "metadata": {},
   "outputs": [
    {
     "name": "stdout",
     "output_type": "stream",
     "text": [
      "[[1, 2], [3, 4], [4, 5]]\n"
     ]
    }
   ],
   "source": [
    "set=([[1,2],[3,4],[4,5]])\n",
    "print(set)"
   ]
  },
  {
   "cell_type": "code",
   "execution_count": 53,
   "id": "30820284",
   "metadata": {},
   "outputs": [
    {
     "name": "stdout",
     "output_type": "stream",
     "text": [
      "[1, 2, 2, 3, 4, 5]\n"
     ]
    }
   ],
   "source": [
    "set=([1,2,2,3,4,5])\n",
    "print(set)"
   ]
  },
  {
   "cell_type": "code",
   "execution_count": 54,
   "id": "6b965e90",
   "metadata": {},
   "outputs": [
    {
     "data": {
      "text/plain": [
       "{1, 2, 3, 4}"
      ]
     },
     "execution_count": 54,
     "metadata": {},
     "output_type": "execute_result"
    }
   ],
   "source": [
    "{1,2,3,4}"
   ]
  },
  {
   "cell_type": "code",
   "execution_count": 55,
   "id": "23d23dff",
   "metadata": {},
   "outputs": [
    {
     "name": "stdout",
     "output_type": "stream",
     "text": [
      "(1, 2, 3, 4)\n"
     ]
    }
   ],
   "source": [
    "set=((1,2,3,4))\n",
    "print(set)"
   ]
  },
  {
   "cell_type": "code",
   "execution_count": 56,
   "id": "a5762ece",
   "metadata": {},
   "outputs": [
    {
     "ename": "TypeError",
     "evalue": "'tuple' object is not callable",
     "output_type": "error",
     "traceback": [
      "\u001b[0;31m---------------------------------------------------------------------------\u001b[0m",
      "\u001b[0;31mTypeError\u001b[0m                                 Traceback (most recent call last)",
      "\u001b[0;32m<ipython-input-56-04d1b8a34dc5>\u001b[0m in \u001b[0;36m<module>\u001b[0;34m\u001b[0m\n\u001b[0;32m----> 1\u001b[0;31m \u001b[0mset\u001b[0m\u001b[0;34m(\u001b[0m\u001b[0;34m(\u001b[0m\u001b[0;36m1\u001b[0m\u001b[0;34m,\u001b[0m\u001b[0;36m2\u001b[0m\u001b[0;34m,\u001b[0m\u001b[0;36m3\u001b[0m\u001b[0;34m,\u001b[0m\u001b[0;36m4\u001b[0m\u001b[0;34m)\u001b[0m\u001b[0;34m)\u001b[0m\u001b[0;34m\u001b[0m\u001b[0;34m\u001b[0m\u001b[0m\n\u001b[0m",
      "\u001b[0;31mTypeError\u001b[0m: 'tuple' object is not callable"
     ]
    }
   ],
   "source": [
    "set((1,2,3,4))"
   ]
  },
  {
   "cell_type": "code",
   "execution_count": 57,
   "id": "95c11cc2",
   "metadata": {},
   "outputs": [
    {
     "ename": "SyntaxError",
     "evalue": "invalid syntax (<ipython-input-57-b33ebbb893cb>, line 2)",
     "output_type": "error",
     "traceback": [
      "\u001b[0;36m  File \u001b[0;32m\"<ipython-input-57-b33ebbb893cb>\"\u001b[0;36m, line \u001b[0;32m2\u001b[0m\n\u001b[0;31m    There are several methods that allow us to add and remove items to/from sets.\u001b[0m\n\u001b[0m          ^\u001b[0m\n\u001b[0;31mSyntaxError\u001b[0m\u001b[0;31m:\u001b[0m invalid syntax\n"
     ]
    }
   ],
   "source": [
    "#Main Operations with Sets\n",
    "There are several methods that allow us to add and remove items to/from sets. \n",
    "Moreover, we have the methods of intersection, unification, and differentiation of sets :\n",
    "\n",
    "These methods are :\n",
    "\n",
    ".add() : Adds a new item to the set.\n",
    "\n",
    ".remove() : Allows us to delete an item.\n",
    "\n",
    ".intersection() : Returns the intersection of two sets.\n",
    "\n",
    ".union() : Returns the unification of two sets.\n",
    "\n",
    ".difference() : Gets the difference of two sets."
   ]
  },
  {
   "cell_type": "code",
   "execution_count": 61,
   "id": "02268814",
   "metadata": {},
   "outputs": [
    {
     "ename": "SyntaxError",
     "evalue": "invalid syntax (<ipython-input-61-cb85dbc7fd47>, line 5)",
     "output_type": "error",
     "traceback": [
      "\u001b[0;36m  File \u001b[0;32m\"<ipython-input-61-cb85dbc7fd47>\"\u001b[0;36m, line \u001b[0;32m5\u001b[0m\n\u001b[0;31m    output :\u001b[0m\n\u001b[0m            ^\u001b[0m\n\u001b[0;31mSyntaxError\u001b[0m\u001b[0;31m:\u001b[0m invalid syntax\n"
     ]
    }
   ],
   "source": [
    "a = set('abracadabra')\n",
    "\n",
    "print(a)   \n",
    "\n",
    "output :\n",
    "\n",
    "{'a', 'b', 'c', 'd', 'r'}\n"
   ]
  },
  {
   "cell_type": "code",
   "execution_count": null,
   "id": "853cdc71",
   "metadata": {},
   "outputs": [],
   "source": [
    "a = set('abracadabra')\n",
    "b = set('alacazam')\n",
    "\n",
    "print(a - b)  # same as '.difference()' method\n",
    "print(a.difference(b)) # a difference from b\n",
    "\n",
    "\n",
    "Cevap\n",
    "{'b', 'd', 'r'}\n",
    "{'b', 'd', 'r'}"
   ]
  },
  {
   "cell_type": "code",
   "execution_count": 63,
   "id": "1b475404",
   "metadata": {},
   "outputs": [
    {
     "ename": "TypeError",
     "evalue": "'tuple' object is not callable",
     "output_type": "error",
     "traceback": [
      "\u001b[0;31m---------------------------------------------------------------------------\u001b[0m",
      "\u001b[0;31mTypeError\u001b[0m                                 Traceback (most recent call last)",
      "\u001b[0;32m<ipython-input-63-76a9c4cf79d7>\u001b[0m in \u001b[0;36m<module>\u001b[0;34m\u001b[0m\n\u001b[0;32m----> 1\u001b[0;31m \u001b[0ma\u001b[0m \u001b[0;34m=\u001b[0m \u001b[0mset\u001b[0m\u001b[0;34m(\u001b[0m\u001b[0;34m'abracadabra'\u001b[0m\u001b[0;34m)\u001b[0m\u001b[0;34m\u001b[0m\u001b[0;34m\u001b[0m\u001b[0m\n\u001b[0m\u001b[1;32m      2\u001b[0m \u001b[0mb\u001b[0m \u001b[0;34m=\u001b[0m \u001b[0mset\u001b[0m\u001b[0;34m(\u001b[0m\u001b[0;34m'alacazam'\u001b[0m\u001b[0;34m)\u001b[0m\u001b[0;34m\u001b[0m\u001b[0;34m\u001b[0m\u001b[0m\n\u001b[1;32m      3\u001b[0m \u001b[0;34m\u001b[0m\u001b[0m\n\u001b[1;32m      4\u001b[0m \u001b[0mprint\u001b[0m\u001b[0;34m(\u001b[0m\u001b[0ma\u001b[0m \u001b[0;34m|\u001b[0m \u001b[0mb\u001b[0m\u001b[0;34m)\u001b[0m  \u001b[0;31m# same as '.union()' method\u001b[0m\u001b[0;34m\u001b[0m\u001b[0;34m\u001b[0m\u001b[0m\n\u001b[1;32m      5\u001b[0m \u001b[0mprint\u001b[0m\u001b[0;34m(\u001b[0m\u001b[0ma\u001b[0m\u001b[0;34m.\u001b[0m\u001b[0munion\u001b[0m\u001b[0;34m(\u001b[0m\u001b[0mb\u001b[0m\u001b[0;34m)\u001b[0m\u001b[0;34m)\u001b[0m \u001b[0;31m# unification of a with b\u001b[0m\u001b[0;34m\u001b[0m\u001b[0;34m\u001b[0m\u001b[0m\n",
      "\u001b[0;31mTypeError\u001b[0m: 'tuple' object is not callable"
     ]
    }
   ],
   "source": [
    "a = set('abracadabra')\n",
    "b = set('alacazam')\n",
    "\n",
    "print(a | b)  # same as '.union()' method\n",
    "print(a.union(b)) # unification of a with b\n",
    "\n",
    "\n",
    "Cevap\n",
    "{'a', 'b', 'c', 'd', 'l', 'm', 'r', 'z'}\n",
    "{'a', 'b', 'c', 'd', 'l', 'm', 'r', 'z'}\n",
    "\n",
    "\n",
    "\n",
    "\n"
   ]
  },
  {
   "cell_type": "code",
   "execution_count": null,
   "id": "8811e08e",
   "metadata": {},
   "outputs": [],
   "source": [
    "a = set('abracadabra')\n",
    "b = set('alacazam')\n",
    "\n",
    "print(a & b)  # same as '.intersection()' method\n",
    "print(a.intersection(b)) # intersection of a and b\n",
    "\n",
    "cevap\n",
    "{'a', 'c'}\n",
    "{'a', 'c'}"
   ]
  },
  {
   "cell_type": "code",
   "execution_count": null,
   "id": "92632972",
   "metadata": {},
   "outputs": [],
   "source": [
    "a = set('abracadabra')\n",
    "\n",
    "a.remove('c') # we delete 'c' from the set\n",
    "print(a)\n",
    "\n",
    "cevap\n",
    "{'a', 'b', 'd', 'r'}"
   ]
  },
  {
   "cell_type": "code",
   "execution_count": null,
   "id": "acf8495b",
   "metadata": {},
   "outputs": [],
   "source": [
    "a = set('abracadabra')\n",
    "\n",
    "a.add('c') # we add 'c' again into the set\n",
    "print(a)\n",
    "\n",
    "cevap:\n",
    "    {'a', 'b', 'c', 'd', 'r'}"
   ]
  },
  {
   "cell_type": "code",
   "execution_count": null,
   "id": "959a7ba1",
   "metadata": {},
   "outputs": [],
   "source": [
    "Additionally, you can:\n",
    "\n",
    "Get the number of set’s elements using len() function,\n",
    "Check if an element belongs to a specific set(in / not in operators), you get the boolean value.\n",
    "Thus, we have completed this topic which is the most important one in Python."
   ]
  },
  {
   "cell_type": "code",
   "execution_count": null,
   "id": "2f684de5",
   "metadata": {},
   "outputs": [],
   "source": [
    "print(len(set('listen to the voice of enlisted')))\n",
    "\n",
    "cevap:\n",
    "    "
   ]
  },
  {
   "cell_type": "code",
   "execution_count": null,
   "id": "3477c9e7",
   "metadata": {},
   "outputs": [],
   "source": [
    "#If you want to create a single element ________tuple\n",
    " , an error will probably rise, unless you use a \n",
    "comma\n",
    " "
   ]
  },
  {
   "cell_type": "code",
   "execution_count": 66,
   "id": "320c8e66",
   "metadata": {},
   "outputs": [
    {
     "name": "stdout",
     "output_type": "stream",
     "text": [
      "25\n"
     ]
    }
   ],
   "source": [
    "numbers = {}\n",
    "\n",
    "numbers['x'] = 12\n",
    "numbers['y'] = 4\n",
    "numbers.update({'z': 3})\n",
    "\n",
    "print(numbers['x'] + numbers['y'] + numbers['z']**2)"
   ]
  },
  {
   "cell_type": "code",
   "execution_count": 77,
   "id": "6d8a6562",
   "metadata": {},
   "outputs": [
    {
     "name": "stdout",
     "output_type": "stream",
     "text": [
      "[10, 20, 30, 40, 50, 60, 70, 80, 90, 100]\n"
     ]
    }
   ],
   "source": [
    "#Write a program that add \"20\" as the second element of the list below and print the new list.\n",
    "\n",
    "numbers_10 = [10, 30, 40, 50, 60, 70, 80, 90, 100]\n",
    "numbers_10.insert(1, 20)\n",
    "print(numbers_10)"
   ]
  },
  {
   "cell_type": "code",
   "execution_count": 130,
   "id": "558b1188",
   "metadata": {},
   "outputs": [
    {
     "name": "stdout",
     "output_type": "stream",
     "text": [
      "[10, 20, 30, 40, 50, 60, 70, 80, 90, 100]\n"
     ]
    }
   ],
   "source": [
    "#Write a program that remove \"40\" as the third element of the list below and print the new list.\n",
    "\n",
    "numbers_10 = [10, 20, 30, 40, 40, 50, 60, 70, 80, 90, 100]\n",
    "numbers_10.remove(40)\n",
    "print(numbers_10)"
   ]
  },
  {
   "cell_type": "code",
   "execution_count": 144,
   "id": "19eca28a",
   "metadata": {},
   "outputs": [
    {
     "name": "stdout",
     "output_type": "stream",
     "text": [
      "[10, 20, 30, 40, 40, 50, 60, 70, 80, 100]\n"
     ]
    }
   ],
   "source": [
    "numbers_10 = [10, 20, 30, 40, 40, 50, 60, 70, 80, 90, 100]\n",
    "numbers_10.remove(90)\n",
    "print(numbers_10)"
   ]
  },
  {
   "cell_type": "code",
   "execution_count": 146,
   "id": "1adc3065",
   "metadata": {},
   "outputs": [
    {
     "name": "stdout",
     "output_type": "stream",
     "text": [
      "[10, 20, 30, 40, 60, 40, 50, 60, 70, 80, 90, 100]\n"
     ]
    }
   ],
   "source": [
    "#'list' object has no attribute 'add'.....There is 'insert' option\n",
    "\n",
    "numbers_10 = [10, 20, 30, 40, 40, 50, 60, 70, 80, 90, 100]\n",
    "numbers_10.insert(4,60)\n",
    "print(numbers_10)"
   ]
  },
  {
   "cell_type": "code",
   "execution_count": null,
   "id": "c1299732",
   "metadata": {},
   "outputs": [],
   "source": [
    "#'list' object has no attribute 'intersection' it gives attribute error\n",
    "\n",
    "a=numbers_10 = [10, 20, 30, 40, 40, 50, 60, 70, 80, 90, 100]\n",
    "b=numbers_20 =[20, 40, 60, 80, 10]\n",
    "print(a.intersection(b))"
   ]
  },
  {
   "cell_type": "code",
   "execution_count": 147,
   "id": "937d6465",
   "metadata": {},
   "outputs": [
    {
     "name": "stdout",
     "output_type": "stream",
     "text": [
      "40\n"
     ]
    }
   ],
   "source": [
    "a=numbers_10 = [10, 20, 30, 40, 40, 50, 60, 70, 80, 90, 100]\n",
    "print(numbers_10[3])"
   ]
  },
  {
   "cell_type": "code",
   "execution_count": 149,
   "id": "6aa8fdb2",
   "metadata": {},
   "outputs": [
    {
     "name": "stdout",
     "output_type": "stream",
     "text": [
      "70\n"
     ]
    }
   ],
   "source": [
    "a=numbers_10 = [10, 20, 30, 40, 40, 50, 60, 70, 80, 90, 100]\n",
    "print(numbers_10[7])"
   ]
  },
  {
   "cell_type": "code",
   "execution_count": 127,
   "id": "a8c720f7",
   "metadata": {},
   "outputs": [
    {
     "name": "stdout",
     "output_type": "stream",
     "text": [
      "broccoli\n"
     ]
    }
   ],
   "source": [
    "fruits_vegetables = [\"fruit\", \"vegetable\", [\"apple\", \"banana\", [\"mango\", \"avocado\"]], [\"spinach\", \"broccoli\"]]\n",
    "print(fruits_vegetables[3][1])"
   ]
  },
  {
   "cell_type": "code",
   "execution_count": 128,
   "id": "d7ab124f",
   "metadata": {},
   "outputs": [
    {
     "name": "stdout",
     "output_type": "stream",
     "text": [
      "apple\n"
     ]
    }
   ],
   "source": [
    "fruits_vegetables = [\"fruit\", \"vegetable\", [\"apple\", \"banana\", [\"mango\", \"avocado\"]], [\"spinach\", \"broccoli\"]]\n",
    "print(fruits_vegetables[2][0])"
   ]
  },
  {
   "cell_type": "code",
   "execution_count": null,
   "id": "ce019301",
   "metadata": {},
   "outputs": [],
   "source": []
  },
  {
   "cell_type": "code",
   "execution_count": 78,
   "id": "ad968cb7",
   "metadata": {},
   "outputs": [
    {
     "name": "stdout",
     "output_type": "stream",
     "text": [
      "spinach\n"
     ]
    }
   ],
   "source": [
    "fruits_vegetables = [\"fruit\", \"vegetable\", [\"apple\", \"banana\"], [\"spinach\", \"broccoli\"]]\n",
    "print(fruits_vegetables[3][0])"
   ]
  },
  {
   "cell_type": "code",
   "execution_count": null,
   "id": "cc735fea",
   "metadata": {},
   "outputs": [],
   "source": [
    "Meghan created a list consists of the name of her family members. \n",
    "She doesn't want anyone to be able to add/remove or change the names. Help her make the names immutable and print.\n",
    "\n",
    "Hint : Convert the list to the tuple type and print it.\n",
    "\n",
    "Answer:(penalty regime: 0, 10, 20, ... %)"
   ]
  },
  {
   "cell_type": "code",
   "execution_count": 79,
   "id": "2a6c7d09",
   "metadata": {},
   "outputs": [
    {
     "name": "stdout",
     "output_type": "stream",
     "text": [
      "('Meghan', 'Tom', 'Nicole', 'Tim')\n"
     ]
    }
   ],
   "source": [
    "family_members = ['Meghan', 'Tom', 'Nicole', 'Tim']\n",
    "tuple1= tuple(family_members)\n",
    "print(tuple1)"
   ]
  },
  {
   "cell_type": "code",
   "execution_count": null,
   "id": "c1fc3e09",
   "metadata": {},
   "outputs": [],
   "source": [
    "Difference between List and Tuple\n",
    "List                                        Tuple\n",
    "\n",
    "Mutable in nature                         Immutable in nature\n",
    "\n",
    "Operations are performed better           Elements can be accessed faster\n",
    "\n",
    "More memory consumption                   Less memory consumption\n",
    "\n",
    "Consists of various built-in methods      Do not consist of any built-in methods\n",
    "\n",
    "Errors occur frequently                   No such problem occurs\n",
    "\n",
    "Iterations are time-consuming in list     Iterations are faster in the tuple"
   ]
  },
  {
   "cell_type": "code",
   "execution_count": null,
   "id": "b07431f2",
   "metadata": {},
   "outputs": [],
   "source": [
    "Structure of the 'if' Statements\n",
    "In some cases, your program needs to execute some part of the code only if a specific condition is true. \n",
    "The simple structure of an if statement is :\n",
    "\n",
    "if condition:\n",
    "    body  # the body code should start at indentation (four spaces)\n",
    "The if statements check the condition.\n",
    "The condition is always a Boolean expression, that is, its value equals either True or False.\n",
    "\n",
    "If it evaluates to True, it executes the body of the if statement. \n",
    "If it evaluates to False, it skips the body. This logic works like the English language."
   ]
  },
  {
   "cell_type": "code",
   "execution_count": 80,
   "id": "9dbd52a9",
   "metadata": {},
   "outputs": [
    {
     "name": "stdout",
     "output_type": "stream",
     "text": [
      "it is true\n"
     ]
    }
   ],
   "source": [
    "if True:\n",
    "    print('it is true')"
   ]
  },
  {
   "cell_type": "code",
   "execution_count": 81,
   "id": "b7074897",
   "metadata": {},
   "outputs": [
    {
     "name": "stdout",
     "output_type": "stream",
     "text": [
      "there is still seat to sit\n"
     ]
    }
   ],
   "source": [
    "empty_seat = 14\n",
    "\n",
    "if empty_seat > 3:  # in this case, 14>3=True, so the body will execute\n",
    "    print('there is still seat to sit')"
   ]
  },
  {
   "cell_type": "code",
   "execution_count": null,
   "id": "e3345fbe",
   "metadata": {},
   "outputs": [],
   "source": [
    "Which symbol is used immediately after the conditional expression line \n",
    "and before indent of the execution body in the if statements?(colon)\n"
   ]
  },
  {
   "cell_type": "code",
   "execution_count": null,
   "id": "8beb5288",
   "metadata": {},
   "outputs": [],
   "source": [
    "Comparison Operators\n",
    "Boolean values basically make it clear if a piece of code needs to be executed.\n",
    "Because comparisons result in bool, it's always best to use them as a condition.\n",
    "\n"
   ]
  },
  {
   "cell_type": "code",
   "execution_count": null,
   "id": "edd0e189",
   "metadata": {},
   "outputs": [],
   "source": [
    "==\tReturns True if two values are equal or False if different\t2 == 2 (True), 2 == 3 (False)\n",
    "\n",
    "!=\tReturns True if two values are not equal or False if equal\t2 != 2 (False), 2 != 3 (True)\n",
    "\n",
    ">\tReturns True if the value on the left is greater than the value on the right otherwise returns\n",
    "False\t3 > 2 (True), 2 > 3 (False)\n",
    "\n",
    "<\tReturns True if the value on the left is less than the value on the right otherwise returns \n",
    "False\t2 < 3 (True), 3 < 2 (False)\n",
    "\n",
    ">=\tReturns True if the value on the left is greater than or equal to the value on the right otherwise returns\n",
    "False\t3 >= 2 (True), 3 >= 3 (True), 2 >= 3 (False)\n",
    "\n",
    "<=\tReturns True if the value on the left is less than or equal to the value on the right otherwise returns\n",
    "False\t3 <= 2 (False), 3 <= 3 (True), 2 <= 3 (True)"
   ]
  },
  {
   "cell_type": "code",
   "execution_count": null,
   "id": "09c539d0",
   "metadata": {},
   "outputs": [],
   "source": [
    "⚠️Avoid ! :\n",
    "Do not use assignment operator = in comparison statements. In comparisons, you have to use == operator for equality."
   ]
  },
  {
   "cell_type": "code",
   "execution_count": 82,
   "id": "79e8fb34",
   "metadata": {},
   "outputs": [
    {
     "name": "stdout",
     "output_type": "stream",
     "text": [
      "is x equal to y?                 : False\n",
      "is x not equal to y?             : True\n",
      "is x less than y?                : True\n",
      "is x greater than y?             : False\n",
      "is x less than or equal to y?    : True\n",
      "is x greater than or equal to y? : False\n"
     ]
    }
   ],
   "source": [
    "x = 6\n",
    "y = 9\n",
    "print (\"is x equal to y?                 :\" , x == y)\n",
    "print (\"is x not equal to y?             :\" , x != y)\n",
    "print (\"is x less than y?                :\" , x < y)\n",
    "print (\"is x greater than y?             :\" , x > y)\n",
    "print (\"is x less than or equal to y?    :\" , x <= y)\n",
    "print (\"is x greater than or equal to y? :\" , x >= y)"
   ]
  },
  {
   "cell_type": "code",
   "execution_count": null,
   "id": "4b0ad59d",
   "metadata": {},
   "outputs": [],
   "source": [
    "'if-else' Statements\n",
    "In this part of the topic, we will first examine if-else statements.\n",
    "\n",
    "An if-else statement is another kind of conditional statements in Python. \n",
    "It is used with an additional keyword: else.\n",
    "\n",
    "else works like an if statement. \n",
    "If none of the conditions in if are ensured, \"else\" will be used to specify all remaining conditions. \n",
    "The simple structure of an if-else looks like :"
   ]
  },
  {
   "cell_type": "code",
   "execution_count": null,
   "id": "045e2a6f",
   "metadata": {},
   "outputs": [],
   "source": [
    "if condition1:  \n",
    "    execute body1\n",
    "else : # if condition1 is not ensured execute body2\n",
    "    execute body2\n",
    "    \n",
    "    \n",
    "    Tips :\n",
    "Note that, else doesn't require any condition and the body2 requires 4-space indentation here.\n"
   ]
  },
  {
   "cell_type": "code",
   "execution_count": 83,
   "id": "18fe0807",
   "metadata": {},
   "outputs": [
    {
     "name": "stdout",
     "output_type": "stream",
     "text": [
      "you guaranteed the job\n"
     ]
    }
   ],
   "source": [
    "course = 'clarusway'\n",
    "\n",
    "if course == \"clarusway\":\n",
    "    print(\"you guaranteed the job\")\n",
    "else:\n",
    "    print(\"think about it again\")"
   ]
  },
  {
   "cell_type": "code",
   "execution_count": 84,
   "id": "184c7c87",
   "metadata": {},
   "outputs": [
    {
     "name": "stdout",
     "output_type": "stream",
     "text": [
      "everything is possible\n"
     ]
    }
   ],
   "source": [
    "course = 'If the God wants'\n",
    "\n",
    "if course == \"If the God wants\":\n",
    "    print(\"everything is possible\")\n",
    "else:\n",
    "    print(\"Wishes come true\")"
   ]
  },
  {
   "cell_type": "code",
   "execution_count": 85,
   "id": "304f3009",
   "metadata": {},
   "outputs": [
    {
     "name": "stdout",
     "output_type": "stream",
     "text": [
      "Number is bigger than 3\n"
     ]
    }
   ],
   "source": [
    "number = 5\n",
    "if number <= 3:    \n",
    "    print(\"Number is smaller than or equal to 3\") \n",
    "else:  # Optional clause (you can only have one else)\n",
    "    print(\"Number is bigger than 3\")\n"
   ]
  },
  {
   "cell_type": "code",
   "execution_count": 86,
   "id": "90933c9d",
   "metadata": {},
   "outputs": [
    {
     "name": "stdout",
     "output_type": "stream",
     "text": [
      "Number is smaller than or equal to 3\n"
     ]
    }
   ],
   "source": [
    "number = 2\n",
    "if number <= 3:    \n",
    "    print(\"Number is smaller than or equal to 3\") \n",
    "else:  # Optional clause (you can only have one else)\n",
    "    print(\"Number is bigger than 3\")\n"
   ]
  },
  {
   "cell_type": "code",
   "execution_count": 87,
   "id": "70258c2a",
   "metadata": {},
   "outputs": [
    {
     "name": "stdout",
     "output_type": "stream",
     "text": [
      "Number is smaller than or equal to 3\n"
     ]
    }
   ],
   "source": [
    "number = 3\n",
    "if number <= 3:    \n",
    "    print(\"Number is smaller than or equal to 3\") \n",
    "else:  # Optional clause (you can only have one else)\n",
    "    print(\"Number is bigger than 3\")\n"
   ]
  },
  {
   "cell_type": "code",
   "execution_count": null,
   "id": "51215d9f",
   "metadata": {},
   "outputs": [],
   "source": [
    "'if-elif-else' Statements\n",
    "The elif statement is used when it requires to specify several conditions in our program.\n",
    "\n",
    "In Python you can deﬁne a series of conditionals using :\n",
    "\n",
    "if for the ﬁrst one,\n",
    "elif for the rest, up until the ﬁnal (optional),\n",
    "else for anything not caught by the other conditionals.\n",
    "The basic structure of these statements looks like :\n",
    "    \n",
    "    \n",
    "    if condition1:\n",
    "    execute body1\n",
    "\n",
    "elif condition2:\n",
    "    execute body2\n",
    "\n",
    "else:\n",
    "    execute body3\n",
    "\n",
    "    How does the structure of statement work? : condition1 is checked first, and if the result is True \n",
    "        \n",
    "    the body1 in the 'if' statement' will be executed. If not, condition2 in the 'elif' statement is checked. \n",
    "    If the result is True, body2 will be executed, if not, body3 in the last control point 'else' will be executed.\n",
    "\n"
   ]
  },
  {
   "cell_type": "code",
   "execution_count": 88,
   "id": "51b1773b",
   "metadata": {},
   "outputs": [
    {
     "name": "stdout",
     "output_type": "stream",
     "text": [
      "I can lift that!\n"
     ]
    }
   ],
   "source": [
    "weight = 80\n",
    "\n",
    "if weight > 100:\n",
    "    print(\"That's too heavy!\")\n",
    "elif weight > 75:\n",
    "    print(\"I can lift that!\")\n",
    "else:\n",
    "    print(\"That's too light!\")"
   ]
  },
  {
   "cell_type": "code",
   "execution_count": 89,
   "id": "da0c1a92",
   "metadata": {},
   "outputs": [
    {
     "name": "stdout",
     "output_type": "stream",
     "text": [
      "That's too heavy!\n"
     ]
    }
   ],
   "source": [
    "weight = 110\n",
    "\n",
    "if weight > 100:\n",
    "    print(\"That's too heavy!\")\n",
    "elif weight > 75:\n",
    "    print(\"I can lift that!\")\n",
    "else:\n",
    "    print(\"That's too light!\")"
   ]
  },
  {
   "cell_type": "code",
   "execution_count": 90,
   "id": "e0f77cbe",
   "metadata": {},
   "outputs": [
    {
     "name": "stdout",
     "output_type": "stream",
     "text": [
      "That's too light!\n"
     ]
    }
   ],
   "source": [
    "weight = 60\n",
    "\n",
    "if weight > 100:\n",
    "    print(\"That's too heavy!\")\n",
    "elif weight > 75:\n",
    "    print(\"I can lift that!\")\n",
    "else:\n",
    "    print(\"That's too light!\")"
   ]
  },
  {
   "cell_type": "code",
   "execution_count": null,
   "id": "38bc697e",
   "metadata": {},
   "outputs": [],
   "source": [
    "As we stated before, the code inside the else block is executed only if all conditions before it is False. \n",
    "Let's see it in an example :"
   ]
  },
  {
   "cell_type": "code",
   "execution_count": 91,
   "id": "ec10a839",
   "metadata": {},
   "outputs": [
    {
     "name": "stdout",
     "output_type": "stream",
     "text": [
      "No such audience, stay at your home!\n"
     ]
    }
   ],
   "source": [
    "audience = \"baby\"\n",
    "\n",
    "if audience == \"kid\":\n",
    "    print(\"it is free to go to cinema\")\n",
    "elif audience == \"teen\":\n",
    "    print(\"discounted price!\")\n",
    "elif audience == \"adult\":\n",
    "    print(\"normal price\")\n",
    "else:\n",
    "    print(\"No such audience, stay at your home!\")"
   ]
  },
  {
   "cell_type": "code",
   "execution_count": 92,
   "id": "4a037837",
   "metadata": {},
   "outputs": [
    {
     "name": "stdout",
     "output_type": "stream",
     "text": [
      "normal price\n"
     ]
    }
   ],
   "source": [
    "audience = \"adult\"\n",
    "\n",
    "if audience == \"kid\":\n",
    "    print(\"it is free to go to cinema\")\n",
    "elif audience == \"teen\":\n",
    "    print(\"discounted price!\")\n",
    "elif audience == \"adult\":\n",
    "    print(\"normal price\")\n",
    "else:\n",
    "    print(\"No such audience, stay at your home!\")"
   ]
  },
  {
   "cell_type": "code",
   "execution_count": 93,
   "id": "dc71e7a2",
   "metadata": {},
   "outputs": [
    {
     "name": "stdout",
     "output_type": "stream",
     "text": [
      "discounted price!\n"
     ]
    }
   ],
   "source": [
    "audience = \"teen\"\n",
    "\n",
    "if audience == \"kid\":\n",
    "    print(\"it is free to go to cinema\")\n",
    "elif audience == \"teen\":\n",
    "    print(\"discounted price!\")\n",
    "elif audience == \"adult\":\n",
    "    print(\"normal price\")\n",
    "else:\n",
    "    print(\"No such audience, stay at your home!\")"
   ]
  },
  {
   "cell_type": "code",
   "execution_count": 94,
   "id": "72984fbc",
   "metadata": {},
   "outputs": [
    {
     "name": "stdout",
     "output_type": "stream",
     "text": [
      "No such audience, stay at your home!\n"
     ]
    }
   ],
   "source": [
    "audience = \"teenager\"\n",
    "\n",
    "if audience == \"kid\":\n",
    "    print(\"it is free to go to cinema\")\n",
    "elif audience == \"teen\":\n",
    "    print(\"discounted price!\")\n",
    "elif audience == \"adult\":\n",
    "    print(\"normal price\")\n",
    "else:\n",
    "    print(\"No such audience, stay at your home!\")"
   ]
  },
  {
   "cell_type": "code",
   "execution_count": 98,
   "id": "a59caeef",
   "metadata": {},
   "outputs": [
    {
     "name": "stdout",
     "output_type": "stream",
     "text": [
      "The number is equal or greater than 10\n"
     ]
    }
   ],
   "source": [
    "number=23\n",
    "if number>= 10:\n",
    "    print(\"The number is equal or greater than 10\")\n",
    "else:\n",
    "    print(\"The number is less than 10\")"
   ]
  },
  {
   "cell_type": "code",
   "execution_count": null,
   "id": "b437582c",
   "metadata": {},
   "outputs": [],
   "source": [
    "Nested 'if-elif-else' Statements\n",
    "Both if-else and if-elif statements can be nested. Let's see the nested structure on the same movie ticket example."
   ]
  },
  {
   "cell_type": "code",
   "execution_count": 99,
   "id": "adc96bc5",
   "metadata": {},
   "outputs": [
    {
     "name": "stdout",
     "output_type": "stream",
     "text": [
      "discounted price!\n"
     ]
    }
   ],
   "source": [
    "audience_group = 'kid', 'teen', 'adult'\n",
    "\n",
    "audience = \"teen\"\n",
    "\n",
    "if audience in audience_group:\n",
    "    if audience == \"kid\":\n",
    "        print(\"it is free to go to cinema\")\n",
    "    elif audience == \"teen\":\n",
    "        print(\"discounted price!\")\n",
    "    else: # audience == \"adult\":\n",
    "        print(\"normal price\")\n",
    "else:\n",
    "    print(\"No such audience, stay at your home!\")"
   ]
  },
  {
   "cell_type": "code",
   "execution_count": 100,
   "id": "41a509a0",
   "metadata": {},
   "outputs": [
    {
     "name": "stdout",
     "output_type": "stream",
     "text": [
      "No such audience, stay at your home!\n"
     ]
    }
   ],
   "source": [
    "audience_group = 'kid', 'teen', 'adult'\n",
    "\n",
    "audience = \"teen,kid\"\n",
    "\n",
    "if audience in audience_group:\n",
    "    if audience == \"kid\":\n",
    "        print(\"it is free to go to cinema\")\n",
    "    elif audience == \"teen\":\n",
    "        print(\"discounted price!\")\n",
    "    else: # audience == \"adult\":\n",
    "        print(\"normal price\")\n",
    "else:\n",
    "    print(\"No such audience, stay at your home!\")"
   ]
  },
  {
   "cell_type": "code",
   "execution_count": 101,
   "id": "75e06534",
   "metadata": {},
   "outputs": [
    {
     "name": "stdout",
     "output_type": "stream",
     "text": [
      "discounted price!\n"
     ]
    }
   ],
   "source": [
    "audience_group = 'kid', 'teen', 'adult'\n",
    "\n",
    "audience = \"teen\" or \"adult\"\n",
    "\n",
    "if audience in audience_group:\n",
    "    if audience == \"kid\":\n",
    "        print(\"it is free to go to cinema\")\n",
    "    elif audience == \"teen\":\n",
    "        print(\"discounted price!\")\n",
    "    else: # audience == \"adult\":\n",
    "        print(\"normal price\")\n",
    "else:\n",
    "    print(\"No such audience, stay at your home!\")"
   ]
  },
  {
   "cell_type": "code",
   "execution_count": null,
   "id": "ac24a28e",
   "metadata": {},
   "outputs": [],
   "source": [
    "score = int (input(\"75 :\"))\n",
    "\n",
    "if score >= 90:\n",
    "    if score >= 95:\n",
    "        Score_letter=\"A+\"\n",
    "    else:\n",
    "        Score_letter=\"A\"\n",
    "elif score >= 80:\n",
    "    if score >= 85:\n",
    "        Score_letter=\"B+\"\n",
    "    else:\n",
    "        Score_letter=\"B\"\n",
    "else:\n",
    "    Score_letter=\"below B\"\n",
    "\n",
    "print (\"Your degree: %s\" % Score_letter)"
   ]
  },
  {
   "cell_type": "code",
   "execution_count": null,
   "id": "63667bd0",
   "metadata": {},
   "outputs": [],
   "source": [
    "score = int (input(\"80 :\"))\n",
    "\n",
    "if score >= 90:\n",
    "    if score >= 95:\n",
    "        Score_letter=\"A+\"\n",
    "    else:\n",
    "        Score_letter=\"A\"\n",
    "elif score >= 80:\n",
    "    if score >= 85:\n",
    "        Score_letter=\"B+\"\n",
    "    else:\n",
    "        Score_letter=\"B\"\n",
    "else:\n",
    "    Score_letter=\"below B\"\n",
    "\n",
    "print (\"Your degree: %s\" % Score_letter)"
   ]
  },
  {
   "cell_type": "code",
   "execution_count": 150,
   "id": "840acf7b",
   "metadata": {},
   "outputs": [
    {
     "name": "stdout",
     "output_type": "stream",
     "text": [
      "Value of expression is 100\n",
      "Good bye!\n"
     ]
    }
   ],
   "source": [
    "#boolean expression(true false statements)\n",
    "var = 100\n",
    "if ( var  == 100 ) : print (\"Value of expression is 100\")\n",
    "print (\"Good bye!\")"
   ]
  },
  {
   "cell_type": "code",
   "execution_count": null,
   "id": "7860d74b",
   "metadata": {},
   "outputs": [],
   "source": []
  },
  {
   "cell_type": "code",
   "execution_count": null,
   "id": "060b47af",
   "metadata": {},
   "outputs": [],
   "source": []
  },
  {
   "cell_type": "code",
   "execution_count": 103,
   "id": "e8978600",
   "metadata": {},
   "outputs": [
    {
     "name": "stdout",
     "output_type": "stream",
     "text": [
      "You are not from canada\n"
     ]
    }
   ],
   "source": [
    "#string comparison are case sensitive\n",
    "country='Canada'\n",
    "if country=='canada':\n",
    "    print('oh look a canadian')\n",
    "else:\n",
    "    print('You are not from canada')"
   ]
  },
  {
   "cell_type": "code",
   "execution_count": 104,
   "id": "aa5ae046",
   "metadata": {},
   "outputs": [
    {
     "name": "stdout",
     "output_type": "stream",
     "text": [
      "oh look a canadian\n"
     ]
    }
   ],
   "source": [
    "country='Canada'\n",
    "if country.lower()=='canada':\n",
    "    print('oh look a canadian')\n",
    "else:\n",
    "    print('You are not from canada')"
   ]
  },
  {
   "cell_type": "code",
   "execution_count": null,
   "id": "fbc0ddfb",
   "metadata": {},
   "outputs": [],
   "source": [
    "if the province=='Alberta':\n",
    "    tax=0.05\n",
    "if the province=='Nunavut':\n",
    "    tax=0.05\n",
    "if the province=='Ontario':\n",
    "    tax=0.13"
   ]
  },
  {
   "cell_type": "code",
   "execution_count": null,
   "id": "18b55a78",
   "metadata": {},
   "outputs": [],
   "source": [
    "#if the only one of the conditions will ever occur you can use a single if statement with 'elif'\n",
    "\n",
    "if the province=='Alberta':\n",
    "    tax=0.05\n",
    "if the province=='Nunavut':\n",
    "   elif tax=0.05\n",
    "if the province=='Ontario':\n",
    "   elif tax=0.13"
   ]
  },
  {
   "cell_type": "code",
   "execution_count": null,
   "id": "a362d396",
   "metadata": {},
   "outputs": [],
   "source": [
    "# When you use elif instead of multiple if statements you can add a default action\n",
    "\n",
    "if province=='Alberta':\n",
    "    tax=0.05\n",
    "if province=='Nunavut':\n",
    "elif tax=0.05\n",
    "if province=='Ontario':\n",
    "elif tax=0.13\n",
    "else:\n",
    "    tax=0.15"
   ]
  },
  {
   "cell_type": "code",
   "execution_count": null,
   "id": "b2d40bd0",
   "metadata": {},
   "outputs": [],
   "source": [
    "if province=='Alberta':\n",
    "    tax=0.05\n",
    "if province=='Nunavut':\n",
    "elif tax=0.05\n",
    "if province=='Ontario':\n",
    "elif tax=0.13\n",
    "else:\n",
    "    tax=0.15"
   ]
  },
  {
   "cell_type": "code",
   "execution_count": null,
   "id": "e1d15411",
   "metadata": {},
   "outputs": [],
   "source": [
    "# if multiple condition cause the same actiont they can be combined into a single condition\n",
    "\n",
    "if province=='Alberta'\\\n",
    "   or province=='Nunavut':\n",
    "    tax=0.05\n",
    "if province=='Ontario':\n",
    "elif tax=0.13\n",
    "else:\n",
    "    tax=0.15"
   ]
  },
  {
   "cell_type": "code",
   "execution_count": null,
   "id": "da9e2345",
   "metadata": {},
   "outputs": [],
   "source": [
    "# if you hava a list of possible  values to check,you can use 'IN' operator\n",
    "\n",
    "if province in ('Alberta',\\\n",
    "   'Nunavut','Yukon'):\n",
    "    tax=0.05\n",
    "if province=='Ontario':\n",
    "elif tax=0.13\n",
    "else:\n",
    "    tax=0.15"
   ]
  },
  {
   "cell_type": "code",
   "execution_count": null,
   "id": "d5fe40a1",
   "metadata": {},
   "outputs": [],
   "source": [
    "#if an action depends on a combination of conditions you can nest if statements\n",
    "\n",
    "if country=='Canada':\n",
    "    if province in ('Alberta',\\\n",
    "   'Nunavut','Yukon'):\n",
    "    tax=0.05\n",
    "    if province=='Ontario':\n",
    "        elif tax=0.13\n",
    "    else:\n",
    "        tax=0.15\n",
    "else:\n",
    "        tax=0.0"
   ]
  },
  {
   "cell_type": "code",
   "execution_count": null,
   "id": "f4d4f073",
   "metadata": {},
   "outputs": [],
   "source": [
    "#Sometimes you can combine conditons with and instead of nesting if statements\n",
    "-requirements for honor roll\n",
    "-minimum 85% grade point average\n",
    "-lowest grade is at least 70% \n",
    "\n",
    "if gpa>= 0.85:\n",
    "    if lowest_grade>=0.70:\n",
    "        print('Well done')\n",
    "\n",
    "\n"
   ]
  },
  {
   "cell_type": "code",
   "execution_count": null,
   "id": "91b68215",
   "metadata": {},
   "outputs": [],
   "source": [
    "if gpa>= 0.85 and lowest_grade>=0.70:\n",
    "        print('Well done')"
   ]
  },
  {
   "cell_type": "code",
   "execution_count": null,
   "id": "d1e5285a",
   "metadata": {},
   "outputs": [],
   "source": [
    "#if you need to remember the results of a condition check later in your code, Boolean variables as flags\n",
    "\n",
    "\n",
    "if gpa>= 0.85 and lowest_grade>=0.70:\n",
    "    honor_roll= True\n",
    "else:\n",
    "    honor_roll= False\n",
    "    #somewhere later in your code\n",
    "if honor_roll:\n",
    "        print('Well done')"
   ]
  },
  {
   "cell_type": "code",
   "execution_count": null,
   "id": "0a50cb9d",
   "metadata": {},
   "outputs": [],
   "source": [
    "LOOP\n",
    "When writing programs in Python, in some cases it is not enough to execute our block of code only once. \n",
    "The loops are used to repeat (iterate) the execution of a block of code.\n",
    "\n",
    "As one of the most main functions in programming, loops are an important part of almost every programming language.\n",
    "Loops enable programmers to set certain sections of their code \n",
    "to repeat through a number of loops which are referred to as iterations.\n",
    "\n",
    "This topic covers using multiple types of loops and applications of loops in Python. \n",
    "You will learn two types of loops which are :\n",
    "\n",
    "while Loop,\n",
    "for Loop.\n",
    "\n",
    "'while' Loop\n",
    "while loops have a boolean logic, similar to if statements. \n",
    "As long as the result of the condition returns True, the code block under while loop runs. \n",
    "When the condition returns to False, the loop execution is terminated \n",
    "and the program control moves further to the next operation. Here is the simple structure of a while loop :\n",
    "\n",
    "while condition:\n",
    "   body\n",
    "\n",
    "\n",
    "We will not use this loop as often as the for loop, but it is still worth understanding.\n",
    "number = 0\n",
    "\n",
    "while number < 6:\n",
    "    print(number)\n",
    "    number += 1\n",
    "print('now, number is bigger or equal to 6')\n",
    "Let's create our first while loop :\n",
    "\n",
    "A loop statement allows us to execute a statement or group of statements multiple times. \n",
    "The following diagram illustrates a loop statement −\n",
    "\n",
    "Python programming language provides the following types of loops to handle looping requirements.\n",
    "\n",
    "Sr.No.\tLoop Type & Description\n",
    "1\twhile loop\n",
    "Repeats a statement or group of statements while a given condition is TRUE. \n",
    "It tests the condition before executing the loop body.\n",
    "\n",
    "2\tfor loop\n",
    "Executes a sequence of statements multiple times and abbreviates the code that manages the loop variable.\n",
    "\n",
    "3\tnested loops\n",
    "You can use one or more loop inside any another while, or for loop.\n",
    "\n",
    "Loop Control Statements\n",
    "The Loop control statements change the execution from its normal sequence. \n",
    "When the execution leaves a scope, all automatic objects that were created in that scope are destroyed.\n",
    "\n",
    "Python supports the following control statements.\n",
    "\n",
    "Python supports the following control statements.\n",
    "\n",
    "Sr.No.\tControl Statement & Description\n",
    "1\tbreak statement\n",
    "Terminates the loop statement and transfers execution to the statement immediately following the loop.\n",
    "\n",
    "2\tcontinue statement\n",
    "Causes the loop to skip the remainder of its body and immediately retest its condition prior to reiterating.\n",
    "\n",
    "3\tpass statement\n",
    "The pass statement in Python is used when a statement is required syntactically\n",
    "but you do not want any command or code to execute."
   ]
  },
  {
   "cell_type": "code",
   "execution_count": 151,
   "id": "cc3bde63",
   "metadata": {},
   "outputs": [
    {
     "name": "stdout",
     "output_type": "stream",
     "text": [
      "0\n",
      "1\n",
      "2\n",
      "3\n",
      "4\n",
      "5\n",
      "now, number is bigger or equal to 6\n"
     ]
    }
   ],
   "source": [
    "number = 0\n",
    "\n",
    "while number < 6:\n",
    "    print(number)\n",
    "    number += 1\n",
    "print('now, number is bigger or equal to 6')"
   ]
  },
  {
   "cell_type": "code",
   "execution_count": null,
   "id": "e2a13464",
   "metadata": {},
   "outputs": [],
   "source": [
    "⚠️Avoid ! :\n",
    "If we make a logical mistake in the loop variable (since you don’t increase your variable,\n",
    "a condition never becomes False and can work forever), we can start an infinite loop! \n",
    "For this reason, we have to specify a condition for the loop to give False to exit the loop."
   ]
  },
  {
   "cell_type": "code",
   "execution_count": 152,
   "id": "32d253f0",
   "metadata": {},
   "outputs": [
    {
     "name": "stdout",
     "output_type": "stream",
     "text": [
      "square of 0 is : 0\n",
      "square of 1 is : 1\n",
      "square of 2 is : 4\n",
      "square of 3 is : 9\n",
      "square of 4 is : 16\n"
     ]
    }
   ],
   "source": [
    "#We can call a list in while loop. Let's see an example :\n",
    "my_list=[\"a\", \"b\", \"c\", \"d\", \"e\"]\n",
    "\n",
    "a = 0\n",
    "\n",
    "while a < len(my_list):\n",
    "    print('square of {} is : {}'.format(a, a**2))\n",
    "    a+=1"
   ]
  },
  {
   "cell_type": "code",
   "execution_count": null,
   "id": "ba657d19",
   "metadata": {},
   "outputs": [],
   "source": [
    "answer = 44\n",
    "\n",
    "question = 'What number am I thinking of?  '\n",
    "print (\"Let's play the guessing game!\")\n",
    "\n",
    "while True:\n",
    "    guess = int(input(question))\n",
    "\n",
    "    if guess < answer:\n",
    "        print('Little higher')\n",
    "    elif guess > answer:\n",
    "        print('Little lower')\n",
    "    else:  # guess == answer\n",
    "        print('Are you a MINDREADER!!!')\n",
    "        break"
   ]
  },
  {
   "cell_type": "code",
   "execution_count": 155,
   "id": "adfd9554",
   "metadata": {},
   "outputs": [
    {
     "name": "stdout",
     "output_type": "stream",
     "text": [
      "1\n",
      "2\n",
      "3\n"
     ]
    }
   ],
   "source": [
    "i = 1\n",
    "while i < 6:\n",
    "  print(i)\n",
    "  if i == 3:\n",
    "    break\n",
    "  i += 1"
   ]
  },
  {
   "cell_type": "code",
   "execution_count": 156,
   "id": "ba790a15",
   "metadata": {},
   "outputs": [
    {
     "name": "stdout",
     "output_type": "stream",
     "text": [
      "1\n",
      "2\n",
      "4\n",
      "5\n",
      "6\n"
     ]
    }
   ],
   "source": [
    "i = 0\n",
    "while i < 6:\n",
    "  i += 1\n",
    "  if i == 3:\n",
    "    continue\n",
    "  print(i)"
   ]
  },
  {
   "cell_type": "code",
   "execution_count": 157,
   "id": "aecb9509",
   "metadata": {},
   "outputs": [
    {
     "name": "stdout",
     "output_type": "stream",
     "text": [
      "2\n",
      "3\n"
     ]
    }
   ],
   "source": [
    "i = 1\n",
    "while i < 6:\n",
    "  i += 1\n",
    "  if i == 4:\n",
    "    break\n",
    "  print(i)"
   ]
  },
  {
   "cell_type": "code",
   "execution_count": 160,
   "id": "6095f016",
   "metadata": {},
   "outputs": [
    {
     "name": "stdout",
     "output_type": "stream",
     "text": [
      "3\n"
     ]
    }
   ],
   "source": [
    "i = 2\n",
    "while i < 7:\n",
    "  i += 1\n",
    "  if i == 4:\n",
    "    break\n",
    "  print(i)"
   ]
  },
  {
   "cell_type": "code",
   "execution_count": 161,
   "id": "f720bfbf",
   "metadata": {},
   "outputs": [
    {
     "name": "stdout",
     "output_type": "stream",
     "text": [
      "3\n",
      "5\n",
      "6\n",
      "7\n"
     ]
    }
   ],
   "source": [
    "i = 2\n",
    "while i < 7:\n",
    "  i += 1\n",
    "  if i == 4:\n",
    "    continue\n",
    "  print(i)"
   ]
  },
  {
   "cell_type": "code",
   "execution_count": 162,
   "id": "7fabeb71",
   "metadata": {},
   "outputs": [
    {
     "name": "stdout",
     "output_type": "stream",
     "text": [
      "1\n",
      "2\n",
      "3\n",
      "4\n",
      "6\n",
      "7\n"
     ]
    }
   ],
   "source": [
    "i = 0\n",
    "while i < 7:\n",
    "  i += 1\n",
    "  if i == 5:\n",
    "    continue\n",
    "  print(i)"
   ]
  },
  {
   "cell_type": "code",
   "execution_count": 163,
   "id": "aacb4a79",
   "metadata": {},
   "outputs": [
    {
     "name": "stdout",
     "output_type": "stream",
     "text": [
      "1\n",
      "2\n",
      "3\n",
      "4\n",
      "5\n",
      "i is no longer less than 6\n"
     ]
    }
   ],
   "source": [
    "i = 1\n",
    "while i < 6:\n",
    "  print(i)\n",
    "  i += 1\n",
    "else:\n",
    "  print(\"i is no longer less than 6\")"
   ]
  },
  {
   "cell_type": "code",
   "execution_count": 180,
   "id": "19d623af",
   "metadata": {},
   "outputs": [
    {
     "ename": "IndentationError",
     "evalue": "expected an indented block (<ipython-input-180-1d92d8cbbe16>, line 4)",
     "output_type": "error",
     "traceback": [
      "\u001b[0;36m  File \u001b[0;32m\"<ipython-input-180-1d92d8cbbe16>\"\u001b[0;36m, line \u001b[0;32m4\u001b[0m\n\u001b[0;31m    break\u001b[0m\n\u001b[0m         ^\u001b[0m\n\u001b[0;31mIndentationError\u001b[0m\u001b[0;31m:\u001b[0m expected an indented block\n"
     ]
    }
   ],
   "source": [
    "i = 1\n",
    "while i < 6:\n",
    "  if i == 3:\n",
    "break\n",
    "i += 1"
   ]
  },
  {
   "cell_type": "code",
   "execution_count": 169,
   "id": "5234651a",
   "metadata": {},
   "outputs": [
    {
     "name": "stdout",
     "output_type": "stream",
     "text": [
      "apple\n",
      "banana\n",
      "cherry\n"
     ]
    }
   ],
   "source": [
    "fruits = [\"apple\", \"banana\", \"cherry\"]\n",
    "for x in fruits:\n",
    " print(x)"
   ]
  },
  {
   "cell_type": "code",
   "execution_count": 171,
   "id": "57769c02",
   "metadata": {},
   "outputs": [
    {
     "name": "stdout",
     "output_type": "stream",
     "text": [
      "apple\n",
      "cherry\n"
     ]
    }
   ],
   "source": [
    "fruits = [\"apple\", \"banana\", \"cherry\"]\n",
    "for x in fruits:\n",
    "  if x == \"banana\":\n",
    "    continue\n",
    "\n",
    "  print(x)"
   ]
  },
  {
   "cell_type": "code",
   "execution_count": 172,
   "id": "bb11c569",
   "metadata": {},
   "outputs": [
    {
     "name": "stdout",
     "output_type": "stream",
     "text": [
      "0\n",
      "1\n",
      "2\n",
      "3\n",
      "4\n",
      "5\n"
     ]
    }
   ],
   "source": [
    "#Use the range function to loop through a code set 6 times.\n",
    "for x in range(6):\n",
    "  print(x)\n"
   ]
  },
  {
   "cell_type": "code",
   "execution_count": 173,
   "id": "c4f13d0b",
   "metadata": {},
   "outputs": [
    {
     "name": "stdout",
     "output_type": "stream",
     "text": [
      "apple\n"
     ]
    }
   ],
   "source": [
    "fruits = [\"apple\", \"banana\", \"cherry\"]\n",
    "for x in fruits:\n",
    "  if x == \"banana\":\n",
    "    break\n",
    "\n",
    "  print(x)"
   ]
  },
  {
   "cell_type": "code",
   "execution_count": 174,
   "id": "e5682519",
   "metadata": {},
   "outputs": [
    {
     "name": "stdout",
     "output_type": "stream",
     "text": [
      "apple\n",
      "banana\n"
     ]
    }
   ],
   "source": [
    "fruits = [\"apple\", \"banana\", \"cherry\"]\n",
    "for x in fruits:\n",
    "  if x == \"cherry\":\n",
    "    break\n",
    "\n",
    "  print(x)"
   ]
  },
  {
   "cell_type": "code",
   "execution_count": 175,
   "id": "0dff65fb",
   "metadata": {},
   "outputs": [
    {
     "name": "stdout",
     "output_type": "stream",
     "text": [
      "banana\n",
      "cherry\n"
     ]
    }
   ],
   "source": [
    "fruits = [\"apple\", \"banana\", \"cherry\"]\n",
    "for x in fruits:\n",
    "  if x == \"apple\":\n",
    "    continue\n",
    "\n",
    "  print(x)"
   ]
  },
  {
   "cell_type": "code",
   "execution_count": 188,
   "id": "faad04d1",
   "metadata": {},
   "outputs": [
    {
     "name": "stdout",
     "output_type": "stream",
     "text": [
      "spring\n",
      "summer\n",
      "autumn\n",
      "winter\n"
     ]
    }
   ],
   "source": [
    "seasons = ['spring', 'summer', 'autumn', 'winter']\n",
    "\n",
    "for season in seasons :\n",
    "    print(season)"
   ]
  },
  {
   "cell_type": "code",
   "execution_count": null,
   "id": "f4091272",
   "metadata": {},
   "outputs": [],
   "source": [
    "Q: How does for loop and while loop differ in Python and when do you choose to use them?\n",
    "A: For loop is generally used to iterate through the elements of various collection types \n",
    "    such as list, tuple, set and dictionary.\n",
    "\n",
    "While loop is the actual looping feature that is used in any other programming language. \n",
    "This is how Python differs in handling loops from the other programming languages.\n",
    "\n",
    "- Interview Q&A"
   ]
  },
  {
   "cell_type": "code",
   "execution_count": 190,
   "id": "f7b421b0",
   "metadata": {},
   "outputs": [
    {
     "name": "stdout",
     "output_type": "stream",
     "text": [
      "1 squared is 1\n",
      "2 squared is 4\n",
      "3 squared is 9\n",
      "4 squared is 16\n",
      "The for loop is complete!\n"
     ]
    }
   ],
   "source": [
    "iterable = [1, 2, 3, 4]\n",
    "\n",
    "for n in [1,2,3,4]:\n",
    "    square = n**2\n",
    "    print(n,'squared is',square)\n",
    "print('The for loop is complete!')"
   ]
  },
  {
   "cell_type": "code",
   "execution_count": 191,
   "id": "4f176c8c",
   "metadata": {},
   "outputs": [
    {
     "name": "stdout",
     "output_type": "stream",
     "text": [
      "1\n",
      "4\n",
      "9\n",
      "16\n"
     ]
    }
   ],
   "source": [
    "#Write a program that prints square of each number of the iterable list below each on separate lines.\n",
    "\n",
    "Note: Use for loop with power (**) or multiplying (*) syntaxes.\n",
    "iterable = [1, 2, 3, 4]\n",
    "\n",
    "for n in [1,2,3,4]:\n",
    "    square = n**2\n",
    "    print(square)"
   ]
  },
  {
   "cell_type": "code",
   "execution_count": null,
   "id": "ea6a33a4",
   "metadata": {},
   "outputs": [],
   "source": [
    "Working with the Iterators\n",
    "Let us explain the term iteration a little more.\n",
    "\n",
    "Iterable object can be anything for which items are received one by one, forward only. \n",
    "In Python, the process of recurrent execution of a block of code is called an iteration.\n",
    "\n",
    "We can basically classify iterations as two headings :\n",
    "\n",
    "If the number of repetitions is predetermined, it is called definite iteration.\n",
    "\n",
    "The repetition structure that makes the code block run as long as the predetermined \n",
    "condition generates True is called indefinite iteration.\n",
    "\n",
    "For example; string, list, tuple, dictionary or set are the iterable types of data.\n",
    "\n",
    "Let's use a string variable as an iterator in for loop :"
   ]
  },
  {
   "cell_type": "code",
   "execution_count": 192,
   "id": "2ee2e75e",
   "metadata": {},
   "outputs": [
    {
     "name": "stdout",
     "output_type": "stream",
     "text": [
      "c\n",
      "l\n",
      "a\n",
      "r\n",
      "u\n",
      "s\n",
      "w\n",
      "a\n",
      "y\n"
     ]
    }
   ],
   "source": [
    "course = 'clarusway'\n",
    "\n",
    "for i in course :\n",
    "    print(i)"
   ]
  },
  {
   "cell_type": "code",
   "execution_count": null,
   "id": "8671e05f",
   "metadata": {},
   "outputs": [],
   "source": [
    "Q: What are Python iterators?\n",
    "A: Iterators in Python are array-like objects which allow moving on the next element.\n",
    "    We use them in traversing a loop, for example, in a for loop."
   ]
  },
  {
   "cell_type": "code",
   "execution_count": null,
   "id": "3ef2a7d2",
   "metadata": {},
   "outputs": [],
   "source": [
    "In order to get the output below, drag and drop the correct syntaxes :\n",
    "\n",
    "Apple\n",
    "Banana\n",
    "Orange"
   ]
  },
  {
   "cell_type": "code",
   "execution_count": 193,
   "id": "0811fc54",
   "metadata": {},
   "outputs": [
    {
     "name": "stdout",
     "output_type": "stream",
     "text": [
      "Apple\n",
      "Banana\n",
      "Orange\n"
     ]
    }
   ],
   "source": [
    "fruits = ('Apple' , 'Banana' , 'Orange' )\n",
    "for i in  fruits  : \n",
    "    print(i)"
   ]
  },
  {
   "cell_type": "code",
   "execution_count": null,
   "id": "b936ae2e",
   "metadata": {},
   "outputs": [],
   "source": [
    "times = int(input(\"How many times should I say 'I love you'\"))\n",
    "\n",
    "for i in range(times):\n",
    "    print('I love you')\n"
   ]
  },
  {
   "cell_type": "code",
   "execution_count": null,
   "id": "037941bc",
   "metadata": {},
   "outputs": [],
   "source": [
    "#Now, let's write a code that asks the user a number between 1 and 10 and puts that number into the multiplication \n",
    "#table.\n",
    "n = int(input('enter a number between 1-10'))\n",
    "\n",
    "for i in range(11):\n",
    "    print('{}x{} = '.format(n, i), n*i)\n"
   ]
  },
  {
   "cell_type": "code",
   "execution_count": null,
   "id": "720d5908",
   "metadata": {},
   "outputs": [],
   "source": [
    "Let's get to know the features of range() function in details:\n",
    "\n",
    "The range() function creates an iterable sequence of numbers. \n",
    "And it can be simply converted into an iterable object: list, set, and tuple. For example :"
   ]
  },
  {
   "cell_type": "code",
   "execution_count": 196,
   "id": "27e9c0ab",
   "metadata": {},
   "outputs": [
    {
     "name": "stdout",
     "output_type": "stream",
     "text": [
      "[1, 2, 3, 4, 5, 6, 7, 8, 9, 10]\n"
     ]
    }
   ],
   "source": [
    "b = list(range(1,11))\n",
    "\n",
    "print(b)"
   ]
  },
  {
   "cell_type": "code",
   "execution_count": 197,
   "id": "6f3c0a84",
   "metadata": {},
   "outputs": [
    {
     "name": "stdout",
     "output_type": "stream",
     "text": [
      "[0, 1, 2, 3, 4, 5, 6, 7, 8, 9, 10]\n"
     ]
    }
   ],
   "source": [
    "b = list(range(11))\n",
    "\n",
    "print(b)"
   ]
  },
  {
   "cell_type": "code",
   "execution_count": null,
   "id": "e931b5ee",
   "metadata": {},
   "outputs": [],
   "source": [
    "a = set(range(0, 10))\n",
    "\n",
    "print(a)\n",
    "\n",
    "cevap={0,1,2,3,4,5,6,7,8,9}"
   ]
  },
  {
   "cell_type": "code",
   "execution_count": 200,
   "id": "dcd0d30f",
   "metadata": {},
   "outputs": [
    {
     "name": "stdout",
     "output_type": "stream",
     "text": [
      "(0, 1, 2, 3, 4, 5, 6, 7, 8, 9, 10)\n"
     ]
    }
   ],
   "source": [
    "c = tuple(range(11))\n",
    "\n",
    "print(c)"
   ]
  },
  {
   "cell_type": "code",
   "execution_count": null,
   "id": "75cbd05a",
   "metadata": {},
   "outputs": [],
   "source": [
    "You can keep in mind the formula syntax below for range() function:\n",
    "\n",
    "The formula syntax is : range(start, stop, step)\n",
    "\n",
    "Besides, you can use starred expression 👉🏻* before range() function to separate its elements. See these examples :\n",
    "\n"
   ]
  },
  {
   "cell_type": "code",
   "execution_count": 201,
   "id": "6d609ebd",
   "metadata": {},
   "outputs": [
    {
     "name": "stdout",
     "output_type": "stream",
     "text": [
      "range(0, 5)\n",
      "0 1 2 3 4\n"
     ]
    }
   ],
   "source": [
    "print(range(5))  # it will not print the numbers in sequence\n",
    "\n",
    "print(*range(5))  # '*' separates its elements"
   ]
  },
  {
   "cell_type": "code",
   "execution_count": 202,
   "id": "7bab2e47",
   "metadata": {},
   "outputs": [
    {
     "name": "stdout",
     "output_type": "stream",
     "text": [
      "5 7 9 11 13 15 17 19 21 23\n"
     ]
    }
   ],
   "source": [
    "print(*range(5,25,2))"
   ]
  },
  {
   "cell_type": "code",
   "execution_count": 203,
   "id": "d869e20e",
   "metadata": {},
   "outputs": [
    {
     "name": "stdout",
     "output_type": "stream",
     "text": [
      "3 5 7 9 11 13 15 17 19 21 23\n"
     ]
    }
   ],
   "source": [
    "print(*range(3,25,2))"
   ]
  },
  {
   "cell_type": "code",
   "execution_count": 204,
   "id": "ce594467",
   "metadata": {},
   "outputs": [
    {
     "name": "stdout",
     "output_type": "stream",
     "text": [
      "s e p a r a t e\n",
      "10 8 6 4 2\n"
     ]
    }
   ],
   "source": [
    "#Starred expression 👉🏻* can separate other iterable objects. For example, you can separate a string:\n",
    "print(*('separate'))\n",
    "print(*range(10,0,-2))\n"
   ]
  },
  {
   "cell_type": "code",
   "execution_count": 208,
   "id": "fad06570",
   "metadata": {},
   "outputs": [
    {
     "name": "stdout",
     "output_type": "stream",
     "text": [
      "10 6 2\n"
     ]
    }
   ],
   "source": [
    "print(*range(10,0,-4))"
   ]
  },
  {
   "cell_type": "code",
   "execution_count": 209,
   "id": "80f3d6e9",
   "metadata": {},
   "outputs": [
    {
     "name": "stdout",
     "output_type": "stream",
     "text": [
      "one : 1\n",
      "two : 2\n",
      "three : 3\n",
      "four : 4\n",
      "five : 5\n"
     ]
    }
   ],
   "source": [
    "text = ['one','two','three','four','five']\n",
    "numbers = [1, 2, 3, 4, 5]\n",
    "for x, y in zip(text, numbers):\n",
    "    print(x, ':', y)"
   ]
  },
  {
   "cell_type": "code",
   "execution_count": 210,
   "id": "84ebbd8f",
   "metadata": {},
   "outputs": [
    {
     "name": "stdout",
     "output_type": "stream",
     "text": [
      "apple : 1\n",
      "banana : 2\n",
      "orange : 3\n",
      "grapes : 4\n",
      "cherry : 5\n"
     ]
    }
   ],
   "source": [
    "fruits = ['apple','banana','orange','grapes','cherry']\n",
    "numbers = [1, 2, 3, 4, 5]\n",
    "for x, y in zip(fruits, numbers):\n",
    "    print(x, ':', y)"
   ]
  },
  {
   "cell_type": "code",
   "execution_count": null,
   "id": "d3cd7fbd",
   "metadata": {},
   "outputs": [],
   "source": [
    "Nested 'for' Loop\n",
    "As a programmer, you may sometimes need to interact with a single element of an iterable data \n",
    "and all other elements simultaneously, that is, your code block in a loop can also contain a loop. \n",
    "Yes, we're talking about nested loops.\n",
    "\n",
    "In Python, you can easily place one loop inside another one. \n",
    "First outer loop then inner one runs. You'll see it in the following example :"
   ]
  },
  {
   "cell_type": "code",
   "execution_count": 211,
   "id": "eb0f87ea",
   "metadata": {},
   "outputs": [
    {
     "name": "stdout",
     "output_type": "stream",
     "text": [
      "I am happy\n",
      "I am confident\n",
      "You are happy\n",
      "You are confident\n"
     ]
    }
   ],
   "source": [
    "who = ['I am ', 'You are ']\n",
    "mood = ['happy', 'confident']\n",
    "for i in who:\n",
    "    for ii in mood:\n",
    "        print(i + ii)"
   ]
  },
  {
   "cell_type": "code",
   "execution_count": 212,
   "id": "49f74d17",
   "metadata": {},
   "outputs": [
    {
     "name": "stdout",
     "output_type": "stream",
     "text": [
      "I am hopeless\n",
      "I am crazy\n",
      "You are hopeless\n",
      "You are crazy\n"
     ]
    }
   ],
   "source": [
    "who = ['I am ', 'You are ']\n",
    "mood = ['hopeless', 'crazy']\n",
    "for i in who:\n",
    "    for ii in mood:\n",
    "        print(i + ii)"
   ]
  },
  {
   "cell_type": "code",
   "execution_count": 213,
   "id": "8bd96034",
   "metadata": {},
   "outputs": [
    {
     "name": "stdout",
     "output_type": "stream",
     "text": [
      "I will stop smoking\n",
      "I will stop smoking\n",
      "I will stop smoking\n",
      "I will stop smoking\n",
      "I will stop smoking\n"
     ]
    }
   ],
   "source": [
    "a = 3\n",
    "while a**2 < 299:\n",
    "    print('I will stop smoking')\n",
    "    a += 3"
   ]
  },
  {
   "cell_type": "code",
   "execution_count": 214,
   "id": "0a72c3bf",
   "metadata": {},
   "outputs": [
    {
     "name": "stdout",
     "output_type": "stream",
     "text": [
      "Shipping Costs €10\n"
     ]
    }
   ],
   "source": [
    "total = 149\n",
    "country = \"FR\"\n",
    "\n",
    "if country == \"FR\":\n",
    "    if total <= 50:\n",
    "        print(\"Shipping Cost is  €30\")\n",
    "    elif total <= 100:\n",
    "        print(\"Shipping Cost is €15\")\n",
    "    elif total <= 150:\n",
    "        print(\"Shipping Costs €10\")\n",
    "    else:\n",
    "        print(\"Free Shipping\")\n",
    "if country == \"DE\": \n",
    "    if total <= 50:\n",
    "        print(\"Shipping Cost is  €25\")\n",
    "    else:\n",
    "        print(\"Free Shipping\")"
   ]
  },
  {
   "cell_type": "code",
   "execution_count": null,
   "id": "5419340f",
   "metadata": {},
   "outputs": [],
   "source": [
    "#Which of the following/followings are true? (Write the number/numbers in order and separate multiple answers \n",
    "with a comma)\n",
    "\n",
    "1) The for loop only works with iterable objects.\n",
    "2) A for loop in range(1, 5) will make 5 iteration.\n",
    "3) In the nested loop the inner loop is executed first.\n",
    "4) Nested loops work with any type of outer and inner loops.\n",
    "\n",
    "cevap:1,4"
   ]
  },
  {
   "cell_type": "code",
   "execution_count": null,
   "id": "eb96626c",
   "metadata": {},
   "outputs": [],
   "source": [
    "Tom, a 13-year-old boy, wants to play with PlayStation-4. Since he couldn't afford it, \n",
    "he started to save money to reach the price of PS4 (variable ps4_price). \n",
    "Let's write a program to tell him how much time left before he can play with PS4. \n",
    "So write a simple code that gets the amount of money Tom saved and prints one of the \n",
    "three options below according to saved_amount :\n",
    "\n",
    "If saved_amount is less than or equal to ps4_price/2 then print : \"You must save more, keep saving!\"\n",
    "If saved_amount is greater than ps4_price/2 then print : \"You saved more than half, keep saving!\"\n",
    "If saved_amount is greater than ps4_price then print : \"Yippee! You can buy your PS4\"\n",
    "Note: Variable ps4_price is created for you. You can use it in your code without defining it.\n",
    "\n",
    "For example:\n",
    "\n",
    "Input\tResult\n",
    "99\n",
    "Please enter your saved amount: 99\n",
    "You must save more, keep saving!\n",
    "\n",
    "\n",
    "Answer:\n",
    "\n",
    "\n",
    "\n",
    "saved_amount = int(input('Please enter your saved amount: '))\n",
    "if saved_amount <= ps4_price/2:\n",
    "    print('You must save more, keep saving!')\n",
    "elif saved_amount > ps4_price/2 and saved_amount < ps4_price:\n",
    "    print('You saved more than half, keep saving!')\n",
    "else:\n",
    "    print('Yippee! You can buy your PS4')"
   ]
  },
  {
   "cell_type": "code",
   "execution_count": null,
   "id": "67fc5ab7",
   "metadata": {},
   "outputs": [],
   "source": [
    "saved_amount = int(input('99 '))\n",
    "if saved_amount <= ps4_price/2:\n",
    "    print('You must save more, keep saving!')\n",
    "elif saved_amount > ps4_price/2 and saved_amount < ps4_price:\n",
    "    print('You saved more than half, keep saving!')\n",
    "else:\n",
    "    print('Yippee! You can buy your PS4')"
   ]
  },
  {
   "cell_type": "code",
   "execution_count": null,
   "id": "89b77620",
   "metadata": {},
   "outputs": [],
   "source": [
    "Mrs Brown is a Math teacher. She wants to write a program that gets the numeric grades of her students,\n",
    "assigns them to variable math_mark and prints them as letter-based grades defined below:\n",
    "\n",
    "85-100 ➔ A (Excellent)\n",
    "70-84 ➔ B (Good)\n",
    "60-69 ➔ C (Medium)\n",
    "45-59 ➔ D (Not Bad)\n",
    "0-44 ➔ F (Failed)\n",
    "\n",
    "Write your program using if, elif and else statements.\n",
    "\n",
    "For example:\n",
    "\n",
    "Input\tResult\n",
    "40\n",
    "Please enter the mark: 40\n",
    "F (Failed)\n",
    "\n",
    "math_mark = int(input('Please enter the mark: '))\n",
    "\n",
    "if math_mark >= 85:\n",
    "    print('A (Excellent)')\n",
    "elif math_mark < 85 and math_mark >= 70:\n",
    "    print('B (Good)')\n",
    "elif math_mark < 70 and math_mark >= 60:\n",
    "    print('C (Medium)')\n",
    "elif math_mark < 60 and math_mark >= 45:\n",
    "    print('D (Not Bad)')\n",
    "else:\n",
    "    print('F (Failed)')\n",
    "\n"
   ]
  },
  {
   "cell_type": "code",
   "execution_count": 218,
   "id": "eafe4a4c",
   "metadata": {},
   "outputs": [
    {
     "ename": "KeyboardInterrupt",
     "evalue": "Interrupted by user",
     "output_type": "error",
     "traceback": [
      "\u001b[0;31m---------------------------------------------------------------------------\u001b[0m",
      "\u001b[0;31mKeyboardInterrupt\u001b[0m                         Traceback (most recent call last)",
      "\u001b[0;32m<ipython-input-218-d1d1e483c3ad>\u001b[0m in \u001b[0;36m<module>\u001b[0;34m\u001b[0m\n\u001b[0;32m----> 1\u001b[0;31m \u001b[0mmath_mark\u001b[0m \u001b[0;34m=\u001b[0m \u001b[0mint\u001b[0m\u001b[0;34m(\u001b[0m\u001b[0minput\u001b[0m\u001b[0;34m(\u001b[0m\u001b[0;34m'Please enter the mark:40 '\u001b[0m\u001b[0;34m)\u001b[0m\u001b[0;34m)\u001b[0m\u001b[0;34m\u001b[0m\u001b[0;34m\u001b[0m\u001b[0m\n\u001b[0m\u001b[1;32m      2\u001b[0m \u001b[0;34m\u001b[0m\u001b[0m\n\u001b[1;32m      3\u001b[0m \u001b[0;32mif\u001b[0m \u001b[0mmath_mark\u001b[0m \u001b[0;34m>=\u001b[0m \u001b[0;36m85\u001b[0m\u001b[0;34m:\u001b[0m\u001b[0;34m\u001b[0m\u001b[0;34m\u001b[0m\u001b[0m\n\u001b[1;32m      4\u001b[0m     \u001b[0mprint\u001b[0m\u001b[0;34m(\u001b[0m\u001b[0;34m'A (Excellent)'\u001b[0m\u001b[0;34m)\u001b[0m\u001b[0;34m\u001b[0m\u001b[0;34m\u001b[0m\u001b[0m\n\u001b[1;32m      5\u001b[0m \u001b[0;32melif\u001b[0m \u001b[0mmath_mark\u001b[0m \u001b[0;34m<\u001b[0m \u001b[0;36m85\u001b[0m \u001b[0;32mand\u001b[0m \u001b[0mmath_mark\u001b[0m \u001b[0;34m>=\u001b[0m \u001b[0;36m70\u001b[0m\u001b[0;34m:\u001b[0m\u001b[0;34m\u001b[0m\u001b[0;34m\u001b[0m\u001b[0m\n",
      "\u001b[0;32m~/opt/anaconda3/lib/python3.8/site-packages/ipykernel/kernelbase.py\u001b[0m in \u001b[0;36mraw_input\u001b[0;34m(self, prompt)\u001b[0m\n\u001b[1;32m    858\u001b[0m                 \u001b[0;34m\"raw_input was called, but this frontend does not support input requests.\"\u001b[0m\u001b[0;34m\u001b[0m\u001b[0;34m\u001b[0m\u001b[0m\n\u001b[1;32m    859\u001b[0m             )\n\u001b[0;32m--> 860\u001b[0;31m         return self._input_request(str(prompt),\n\u001b[0m\u001b[1;32m    861\u001b[0m             \u001b[0mself\u001b[0m\u001b[0;34m.\u001b[0m\u001b[0m_parent_ident\u001b[0m\u001b[0;34m,\u001b[0m\u001b[0;34m\u001b[0m\u001b[0;34m\u001b[0m\u001b[0m\n\u001b[1;32m    862\u001b[0m             \u001b[0mself\u001b[0m\u001b[0;34m.\u001b[0m\u001b[0m_parent_header\u001b[0m\u001b[0;34m,\u001b[0m\u001b[0;34m\u001b[0m\u001b[0;34m\u001b[0m\u001b[0m\n",
      "\u001b[0;32m~/opt/anaconda3/lib/python3.8/site-packages/ipykernel/kernelbase.py\u001b[0m in \u001b[0;36m_input_request\u001b[0;34m(self, prompt, ident, parent, password)\u001b[0m\n\u001b[1;32m    902\u001b[0m             \u001b[0;32mexcept\u001b[0m \u001b[0mKeyboardInterrupt\u001b[0m\u001b[0;34m:\u001b[0m\u001b[0;34m\u001b[0m\u001b[0;34m\u001b[0m\u001b[0m\n\u001b[1;32m    903\u001b[0m                 \u001b[0;31m# re-raise KeyboardInterrupt, to truncate traceback\u001b[0m\u001b[0;34m\u001b[0m\u001b[0;34m\u001b[0m\u001b[0;34m\u001b[0m\u001b[0m\n\u001b[0;32m--> 904\u001b[0;31m                 \u001b[0;32mraise\u001b[0m \u001b[0mKeyboardInterrupt\u001b[0m\u001b[0;34m(\u001b[0m\u001b[0;34m\"Interrupted by user\"\u001b[0m\u001b[0;34m)\u001b[0m \u001b[0;32mfrom\u001b[0m \u001b[0;32mNone\u001b[0m\u001b[0;34m\u001b[0m\u001b[0;34m\u001b[0m\u001b[0m\n\u001b[0m\u001b[1;32m    905\u001b[0m             \u001b[0;32mexcept\u001b[0m \u001b[0mException\u001b[0m \u001b[0;32mas\u001b[0m \u001b[0me\u001b[0m\u001b[0;34m:\u001b[0m\u001b[0;34m\u001b[0m\u001b[0;34m\u001b[0m\u001b[0m\n\u001b[1;32m    906\u001b[0m                 \u001b[0mself\u001b[0m\u001b[0;34m.\u001b[0m\u001b[0mlog\u001b[0m\u001b[0;34m.\u001b[0m\u001b[0mwarning\u001b[0m\u001b[0;34m(\u001b[0m\u001b[0;34m\"Invalid Message:\"\u001b[0m\u001b[0;34m,\u001b[0m \u001b[0mexc_info\u001b[0m\u001b[0;34m=\u001b[0m\u001b[0;32mTrue\u001b[0m\u001b[0;34m)\u001b[0m\u001b[0;34m\u001b[0m\u001b[0;34m\u001b[0m\u001b[0m\n",
      "\u001b[0;31mKeyboardInterrupt\u001b[0m: Interrupted by user"
     ]
    }
   ],
   "source": [
    "math_mark = int(input('Please enter the mark:40 '))\n",
    "\n",
    "if math_mark >= 85:\n",
    "    print('A (Excellent)')\n",
    "elif math_mark < 85 and math_mark >= 70:\n",
    "    print('B (Good)')\n",
    "elif math_mark < 70 and math_mark >= 60:\n",
    "    print('C (Medium)')\n",
    "elif math_mark < 60 and math_mark >= 45:\n",
    "    print('D (Not Bad)')\n",
    "else:\n",
    "    print('F (Failed)')"
   ]
  },
  {
   "cell_type": "code",
   "execution_count": null,
   "id": "b3b8ec64",
   "metadata": {},
   "outputs": [],
   "source": []
  },
  {
   "cell_type": "code",
   "execution_count": null,
   "id": "22854d13",
   "metadata": {},
   "outputs": [],
   "source": [
    "Let us go through the loop control statements briefly.\n",
    "\n",
    "Iterator and Generator\n",
    "Iterator is an object which allows a programmer to traverse through all the elements of a collection, \n",
    "regardless of its specific implementation. In Python, an iterator object implements two methods, iter() and next().\n",
    "\n",
    "String, List or Tuple objects can be used to create an Iterator.\n",
    "\n",
    "list = [1,2,3,4]\n",
    "it = iter(list) # this builds an iterator object\n",
    "print (next(it)) #prints next available element in iterator\n",
    "#Iterator object can be traversed using regular for statement\n",
    "for x in it:\n",
    "   print (x, end=\" \")\n",
    "#or using next() function\n",
    "while True:\n",
    "   try:\n",
    "      print (next(it))\n",
    "   except StopIteration:\n",
    "      sys.exit()\n"
   ]
  },
  {
   "cell_type": "code",
   "execution_count": null,
   "id": "e9d9a50c",
   "metadata": {},
   "outputs": [],
   "source": [
    "A generator is a function that produces or yields a sequence of values using yield method.\n",
    "\n",
    "When a generator function is called, it returns a generator object without even beginning execution of the function.\n",
    "When the next() method is called for the first time, the function starts executing \n",
    "until it reaches the yield statement, which returns the yielded value.\n",
    "The yield keeps track i.e. remembers the last execution and the second next() call continues from previous value.\n",
    "\n",
    "The following example defines a generator, which generates an iterator for all the Fibonacci numbers.\n",
    "\n",
    "import sys\n",
    "def fibonacci(n): #generator function\n",
    "   a, b, counter = 0, 1, 0\n",
    "   while True:\n",
    "      if (counter > n): \n",
    "         return\n",
    "      yield a\n",
    "      a, b = b, a + b\n",
    "      counter += 1\n",
    "f = fibonacci(5) #f is iterator object\n",
    "\n",
    "while True:\n",
    "   try:\n",
    "      print (next(f), end=\" \")\n",
    "   except StopIteration:\n",
    "      sys.exit()\n",
    "\n"
   ]
  },
  {
   "cell_type": "code",
   "execution_count": 219,
   "id": "e615a6b9",
   "metadata": {},
   "outputs": [
    {
     "name": "stdout",
     "output_type": "stream",
     "text": [
      "[1, 4, 9, 16, 25, 36, 49, 64, 81, 100]\n"
     ]
    }
   ],
   "source": [
    "squares = [d**2 for d in range(1,11)]\n",
    "print(squares)"
   ]
  },
  {
   "cell_type": "code",
   "execution_count": 220,
   "id": "dbb4d2b4",
   "metadata": {},
   "outputs": [
    {
     "name": "stdout",
     "output_type": "stream",
     "text": [
      "[1, 1, 2]\n",
      "[1, 1, 2, 3]\n",
      "[1, 1, 2, 3, 5]\n",
      "[1, 1, 2, 3, 5, 8]\n",
      "[1, 1, 2, 3, 5, 8, 13]\n",
      "[1, 1, 2, 3, 5, 8, 13, 21]\n",
      "[1, 1, 2, 3, 5, 8, 13, 21, 34]\n",
      "[1, 1, 2, 3, 5, 8, 13, 21, 34, 55]\n",
      "[1, 1, 2, 3, 5, 8, 13, 21, 34, 55, 89]\n",
      "[1, 1, 2, 3, 5, 8, 13, 21, 34, 55, 89, 144]\n",
      "[1, 1, 2, 3, 5, 8, 13, 21, 34, 55, 89, 144, 233]\n",
      "[1, 1, 2, 3, 5, 8, 13, 21, 34, 55, 89, 144, 233, 377]\n",
      "[1, 1, 2, 3, 5, 8, 13, 21, 34, 55, 89, 144, 233, 377, 610]\n"
     ]
    }
   ],
   "source": [
    "fibonacci_numbers = [1,1]\n",
    "for n in range(2,15):\n",
    "    fibonacci_n = fibonacci_numbers[n-1] + fibonacci_numbers[n-2]\n",
    "    fibonacci_numbers.append(fibonacci_n)\n",
    "    print(fibonacci_numbers)"
   ]
  },
  {
   "cell_type": "code",
   "execution_count": null,
   "id": "77e174ba",
   "metadata": {},
   "outputs": [],
   "source": [
    "The cmp() is part of the python standard library which compares two integers. \n",
    "The result of comparison is -1 if the first integer is smaller than second\n",
    "and 1 if the first integer is greater than the second. If both are equal the result of cmp() is zero.\n",
    "\n",
    "Below example illustrates different scenario showing the use of cmp() method."
   ]
  },
  {
   "cell_type": "code",
   "execution_count": 1,
   "id": "ff38cad1",
   "metadata": {},
   "outputs": [
    {
     "name": "stdout",
     "output_type": "stream",
     "text": [
      "The cmp value for x>y is :  1 \n",
      "\n",
      "The cmp value for x<y is :  -1 \n",
      "\n",
      "The cmp value for x=y is :  0\n",
      "\n",
      " The given number 16 is even number\n",
      "\n",
      " The given number 31 is odd number\n"
     ]
    }
   ],
   "source": [
    "def cmp(x, y):\n",
    "   return (x > y) - (x < y)\n",
    "#x>y\n",
    "x = 5\n",
    "y = 3\n",
    "print(\"The cmp value for x>y is : \",cmp(x, y),\"\\n\")\n",
    "#x<y\n",
    "x = 7\n",
    "y = 9\n",
    "print(\"The cmp value for x<y is : \",cmp(x, y),\"\\n\")\n",
    "#x=y\n",
    "x = 13\n",
    "y = 13\n",
    "print(\"The cmp value for x=y is : \",cmp(x, y))\n",
    "#odd and even\n",
    "k = 16\n",
    "if cmp(0, k % 2):\n",
    "   print(\"\\n\",\"The given number\",k,\"is odd number \")\n",
    "else:\n",
    "   print(\"\\n\",\"The given number\",k,\"is even number\")\n",
    "k= 31\n",
    "if cmp(0, k % 2):\n",
    "   print(\"\\n\",\"The given number\",k,\"is odd number\")\n",
    "else:\n",
    "   print(\"\\n\",\"The given number\",k,\"is even number\")"
   ]
  },
  {
   "cell_type": "code",
   "execution_count": null,
   "id": "b16f5c7f",
   "metadata": {},
   "outputs": [],
   "source": [
    "What is the default value of encoding in encode()? Explanation: The default value of encoding is utf-8."
   ]
  },
  {
   "cell_type": "code",
   "execution_count": 2,
   "id": "a2debad0",
   "metadata": {},
   "outputs": [
    {
     "name": "stdout",
     "output_type": "stream",
     "text": [
      "33\n"
     ]
    }
   ],
   "source": [
    "print(0xA + 0xB + 0xC)"
   ]
  },
  {
   "cell_type": "code",
   "execution_count": null,
   "id": "c2ba808c",
   "metadata": {},
   "outputs": [],
   "source": [
    "What is the return type of function id? Explanation: Execute help(id) to find out details in python shell.\n",
    "id returns a integer value that is unique. 6."
   ]
  },
  {
   "cell_type": "code",
   "execution_count": null,
   "id": "d849e900",
   "metadata": {},
   "outputs": [],
   "source": [
    "To check whether string s1 contains s2, use\n",
    "\n",
    " s1.__contains__(s2)"
   ]
  },
  {
   "cell_type": "code",
   "execution_count": null,
   "id": "50fc1687",
   "metadata": {},
   "outputs": [],
   "source": [
    "The atoi() function converts a character string to an integer value.\n",
    "The input string is a sequence of characters that can be interpreted as a numeric value of the specified \n",
    "return type.answer-ord"
   ]
  },
  {
   "cell_type": "code",
   "execution_count": null,
   "id": "4edceaf3",
   "metadata": {},
   "outputs": [],
   "source": [
    "Which of the following is equivalent to random.randrange(3) ?\n",
    "random.choice(range(0, 3))"
   ]
  },
  {
   "cell_type": "code",
   "execution_count": null,
   "id": "2fa8b7b7",
   "metadata": {},
   "outputs": [],
   "source": [
    "random.randint(4)"
   ]
  },
  {
   "cell_type": "code",
   "execution_count": null,
   "id": "b4bba869",
   "metadata": {},
   "outputs": [],
   "source": [
    "random.randint(3, 6) \n",
    "\n",
    "Answer:3 + random.randrange(4)\n",
    "    \n",
    "    The explanation: random.randint(3, 6) can return any one of 3, 4, 5 and 6."
   ]
  },
  {
   "cell_type": "code",
   "execution_count": null,
   "id": "8b8a9d4f",
   "metadata": {},
   "outputs": [],
   "source": [
    "Which of the following will never be displayed on executing print(random.choice({0: 1, 2: 3}))?\n",
    "Correct answer is (a) 0\n",
    "\n",
    "To explain I would say: It will not print 0 but dict[0] i.e. 1 may be printed."
   ]
  },
  {
   "cell_type": "code",
   "execution_count": null,
   "id": "b4ac8441",
   "metadata": {},
   "outputs": [],
   "source": [
    "The islower() method returns True if all characters in the string are lowercase, otherwise, returns “False”. Syntax : "
   ]
  },
  {
   "cell_type": "code",
   "execution_count": null,
   "id": "3ff1d4d6",
   "metadata": {},
   "outputs": [],
   "source": [
    "Which of the following environment variable for Python is an alternative module search path ?\n",
    "PYTHONHOME − It is an alternative module search path. It is usually embedded in the PYTHONSTARTUP or PYTHONPATH \n",
    "directories to make switching module libraries easy."
   ]
  },
  {
   "cell_type": "code",
   "execution_count": null,
   "id": "8cb4ab72",
   "metadata": {},
   "outputs": [],
   "source": [
    "Which of the following function convert an object to a string in python ?\n",
    "str(x)"
   ]
  },
  {
   "cell_type": "code",
   "execution_count": null,
   "id": "89a7f856",
   "metadata": {},
   "outputs": [],
   "source": [
    "Function\n",
    "\n",
    "Description\n",
    "\n",
    "int(x [,base])\n",
    "\n",
    "Converts x to an integer. base specifies the base if x is a string.\n",
    "\n",
    "long(x [,base] )\n",
    "\n",
    "Converts x to a long integer. base specifies the base if x is a string.\n",
    "\n",
    "float(x)\n",
    "\n",
    "Converts x to a floating-point number.\n",
    "\n",
    "complex(real [,imag])\n",
    "\n",
    "Creates a complex number.\n",
    "\n",
    "str(x)\n",
    "\n",
    "Converts object x to a string representation.\n",
    "\n",
    "repr(x)\n",
    "\n",
    "Converts object x to an expression string.\n",
    "\n",
    "eval(str)\n",
    "\n",
    "Evaluates a string and returns an object.\n",
    "\n",
    "tuple(s)\n",
    "\n",
    "Converts s to a tuple.\n",
    "\n",
    "list(s)\n",
    "\n",
    "Converts s to a list.\n",
    "\n",
    "set(s)\n",
    "\n",
    "Converts s to a set.\n",
    "\n",
    "dict(d)\n",
    "\n",
    "Creates a dictionary. d must be a sequence of (key,value) tuples.\n",
    "\n",
    "frozenset(s)\n",
    "\n",
    "Converts s to a frozen set.\n",
    "\n",
    "chr(x)\n",
    "\n",
    "Converts an integer to a character.\n",
    "\n",
    "unichr(x)\n",
    "\n",
    "Converts an integer to a Unicode character.\n",
    "\n",
    "ord(x)\n",
    "\n",
    "Converts a single character to its integer value.\n",
    "\n",
    "hex(x)\n",
    "\n",
    "Converts an integer to a hexadecimal string.\n",
    "\n",
    "oct(x)\n",
    "\n",
    "Converts an integer to an octal string.\n",
    "\n"
   ]
  },
  {
   "cell_type": "code",
   "execution_count": null,
   "id": "f38c4a97",
   "metadata": {},
   "outputs": [],
   "source": [
    "1. Which is the correct operator for power(xy)? Explanation: In python, power operator is x**y i.e. 2**3=8."
   ]
  },
  {
   "cell_type": "code",
   "execution_count": null,
   "id": "f3f70f55",
   "metadata": {},
   "outputs": [],
   "source": [
    "Is Python case sensitive when dealing with identifiers ?\n",
    "Python is a case-sensitive language. \n",
    "This means, Variable and variable are not the same. Always give the identifiers a name that makes sense."
   ]
  },
  {
   "cell_type": "code",
   "execution_count": null,
   "id": "edc9cde9",
   "metadata": {},
   "outputs": [],
   "source": [
    "Which of the following is an invalid variable ?\n",
    "\n",
    "Answer: c Explanation: Variable names should not start with a number\n",
    "        1st_string"
   ]
  },
  {
   "cell_type": "code",
   "execution_count": null,
   "id": "9149762b",
   "metadata": {},
   "outputs": [],
   "source": [
    "Which function overloads the + operator ?\n",
    "\n",
    "__add__()"
   ]
  },
  {
   "cell_type": "code",
   "execution_count": null,
   "id": "c477c811",
   "metadata": {},
   "outputs": [],
   "source": [
    "Which of the following cannot be returned by random.randrange(4) ?# 0, 2.3, 3, none\n",
    "Only integers can be returned.Others not like 2.3"
   ]
  },
  {
   "cell_type": "code",
   "execution_count": null,
   "id": "be309208",
   "metadata": {},
   "outputs": [],
   "source": [
    "What does random.shuffle(x) do when x = [1, 2, 3] ?\n",
    "\n",
    "Correct choice is (c) shuffle the elements of the list in-place\n",
    "\n",
    "For explanation: The elements of the list passed to it are shuffled in-place.\n"
   ]
  },
  {
   "cell_type": "code",
   "execution_count": null,
   "id": "7c38fd13",
   "metadata": {},
   "outputs": [],
   "source": [
    "Which type of elements are accepted by random.shuffle() ?\n",
    "list only\n",
    "\n",
    "Which type of elements are accepted by random. shuffle()? Explanation:\n",
    "Strings and tuples are immutable and an integer has no len()."
   ]
  },
  {
   "cell_type": "code",
   "execution_count": 7,
   "id": "6f6c19ee",
   "metadata": {},
   "outputs": [
    {
     "name": "stdout",
     "output_type": "stream",
     "text": [
      "0\n"
     ]
    }
   ],
   "source": [
    "print(\"xyyzxyzxzxyy\".count('xyy', 2, 11))"
   ]
  },
  {
   "cell_type": "code",
   "execution_count": 8,
   "id": "5a4b1c85",
   "metadata": {},
   "outputs": [
    {
     "name": "stdout",
     "output_type": "stream",
     "text": [
      "['ab', 'ef', 'gh', '']\n"
     ]
    }
   ],
   "source": [
    "print('abcdefcdghcd'.split('cd'))\n"
   ]
  },
  {
   "cell_type": "code",
   "execution_count": null,
   "id": "6ae4a084",
   "metadata": {},
   "outputs": [],
   "source": []
  },
  {
   "cell_type": "code",
   "execution_count": null,
   "id": "b15ba4de",
   "metadata": {},
   "outputs": [],
   "source": [
    "num=0\n",
    "while num<=13:\n",
    "    print(f'{num}x7={num*7}')\n",
    "    num+=1"
   ]
  },
  {
   "cell_type": "code",
   "execution_count": null,
   "id": "eda8cda6",
   "metadata": {},
   "outputs": [],
   "source": [
    "# Longest word\n",
    "\n",
    "# Reading sentence from user\n",
    "\n",
    "sentence = input(\"Enter sentence: \")\n",
    "\n",
    "# Finding longest word\n",
    "longest = max(sentence.split(), key=len)\n",
    "\n",
    "# Displaying longest word\n",
    "print(\"Longest word is: \", longest)\n",
    "print(\"And its length is: \", len(longest))"
   ]
  },
  {
   "cell_type": "code",
   "execution_count": null,
   "id": "0a2d7d61",
   "metadata": {},
   "outputs": [],
   "source": [
    "longest_length = len(list[0]) \n",
    " \n",
    "for word in list: \n",
    "\tif len(word) > longest_length: \n",
    "\t\tlongest_length = len(word) \n",
    " \n",
    "return longest_length \n"
   ]
  }
 ],
 "metadata": {
  "kernelspec": {
   "display_name": "Python 3",
   "language": "python",
   "name": "python3"
  },
  "language_info": {
   "codemirror_mode": {
    "name": "ipython",
    "version": 3
   },
   "file_extension": ".py",
   "mimetype": "text/x-python",
   "name": "python",
   "nbconvert_exporter": "python",
   "pygments_lexer": "ipython3",
   "version": "3.8.8"
  }
 },
 "nbformat": 4,
 "nbformat_minor": 5
}
