{
 "cells": [
  {
   "cell_type": "markdown",
   "id": "6777654e",
   "metadata": {},
   "source": [
    "None Type"
   ]
  },
  {
   "cell_type": "code",
   "execution_count": 1,
   "id": "a313b2fe",
   "metadata": {},
   "outputs": [],
   "source": [
    "cat = None\n",
    "dog = None"
   ]
  },
  {
   "cell_type": "code",
   "execution_count": 7,
   "id": "914baee2",
   "metadata": {},
   "outputs": [
    {
     "name": "stdout",
     "output_type": "stream",
     "text": [
      "None None\n"
     ]
    }
   ],
   "source": [
    "print(dog,cat)"
   ]
  },
  {
   "cell_type": "code",
   "execution_count": 8,
   "id": "c6ca015a",
   "metadata": {},
   "outputs": [],
   "source": [
    "x,y,z=5,5,5"
   ]
  },
  {
   "cell_type": "code",
   "execution_count": 9,
   "id": "a8435542",
   "metadata": {},
   "outputs": [
    {
     "name": "stdout",
     "output_type": "stream",
     "text": [
      "1\n"
     ]
    }
   ],
   "source": [
    "print(x)"
   ]
  },
  {
   "cell_type": "code",
   "execution_count": 11,
   "id": "b2821fa1",
   "metadata": {},
   "outputs": [
    {
     "name": "stdout",
     "output_type": "stream",
     "text": [
      "2\n"
     ]
    }
   ],
   "source": [
    "print(y)"
   ]
  },
  {
   "cell_type": "code",
   "execution_count": 14,
   "id": "81b55dff",
   "metadata": {},
   "outputs": [
    {
     "data": {
      "text/plain": [
       "4437444992"
      ]
     },
     "execution_count": 14,
     "metadata": {},
     "output_type": "execute_result"
    }
   ],
   "source": [
    "id(y)"
   ]
  },
  {
   "cell_type": "code",
   "execution_count": 15,
   "id": "6fe33117",
   "metadata": {},
   "outputs": [],
   "source": [
    "a=5\n",
    "b=7\n",
    "c=12"
   ]
  },
  {
   "cell_type": "code",
   "execution_count": 16,
   "id": "f08de13f",
   "metadata": {},
   "outputs": [
    {
     "name": "stdout",
     "output_type": "stream",
     "text": [
      "<class 'str'>\n"
     ]
    }
   ],
   "source": [
    "print(str)"
   ]
  },
  {
   "cell_type": "code",
   "execution_count": 20,
   "id": "e471baad",
   "metadata": {},
   "outputs": [
    {
     "data": {
      "text/plain": [
       "['__add__',\n",
       " '__class__',\n",
       " '__contains__',\n",
       " '__delattr__',\n",
       " '__dir__',\n",
       " '__doc__',\n",
       " '__eq__',\n",
       " '__format__',\n",
       " '__ge__',\n",
       " '__getattribute__',\n",
       " '__getitem__',\n",
       " '__getnewargs__',\n",
       " '__gt__',\n",
       " '__hash__',\n",
       " '__init__',\n",
       " '__init_subclass__',\n",
       " '__iter__',\n",
       " '__le__',\n",
       " '__len__',\n",
       " '__lt__',\n",
       " '__mod__',\n",
       " '__mul__',\n",
       " '__ne__',\n",
       " '__new__',\n",
       " '__reduce__',\n",
       " '__reduce_ex__',\n",
       " '__repr__',\n",
       " '__rmod__',\n",
       " '__rmul__',\n",
       " '__setattr__',\n",
       " '__sizeof__',\n",
       " '__str__',\n",
       " '__subclasshook__',\n",
       " 'capitalize',\n",
       " 'casefold',\n",
       " 'center',\n",
       " 'count',\n",
       " 'encode',\n",
       " 'endswith',\n",
       " 'expandtabs',\n",
       " 'find',\n",
       " 'format',\n",
       " 'format_map',\n",
       " 'index',\n",
       " 'isalnum',\n",
       " 'isalpha',\n",
       " 'isascii',\n",
       " 'isdecimal',\n",
       " 'isdigit',\n",
       " 'isidentifier',\n",
       " 'islower',\n",
       " 'isnumeric',\n",
       " 'isprintable',\n",
       " 'isspace',\n",
       " 'istitle',\n",
       " 'isupper',\n",
       " 'join',\n",
       " 'ljust',\n",
       " 'lower',\n",
       " 'lstrip',\n",
       " 'maketrans',\n",
       " 'partition',\n",
       " 'replace',\n",
       " 'rfind',\n",
       " 'rindex',\n",
       " 'rjust',\n",
       " 'rpartition',\n",
       " 'rsplit',\n",
       " 'rstrip',\n",
       " 'split',\n",
       " 'splitlines',\n",
       " 'startswith',\n",
       " 'strip',\n",
       " 'swapcase',\n",
       " 'title',\n",
       " 'translate',\n",
       " 'upper',\n",
       " 'zfill']"
      ]
     },
     "execution_count": 20,
     "metadata": {},
     "output_type": "execute_result"
    }
   ],
   "source": [
    "dir(str)"
   ]
  },
  {
   "cell_type": "code",
   "execution_count": 22,
   "id": "b72cdec8",
   "metadata": {},
   "outputs": [
    {
     "data": {
      "text/plain": [
       "25"
      ]
     },
     "execution_count": 22,
     "metadata": {},
     "output_type": "execute_result"
    }
   ],
   "source": [
    "a*5"
   ]
  },
  {
   "cell_type": "code",
   "execution_count": 23,
   "id": "dc4270b8",
   "metadata": {},
   "outputs": [
    {
     "data": {
      "text/plain": [
       "35"
      ]
     },
     "execution_count": 23,
     "metadata": {},
     "output_type": "execute_result"
    }
   ],
   "source": [
    "b*5"
   ]
  },
  {
   "cell_type": "code",
   "execution_count": 24,
   "id": "c248599a",
   "metadata": {},
   "outputs": [
    {
     "data": {
      "text/plain": [
       "60"
      ]
     },
     "execution_count": 24,
     "metadata": {},
     "output_type": "execute_result"
    }
   ],
   "source": [
    "c*5"
   ]
  },
  {
   "cell_type": "code",
   "execution_count": 27,
   "id": "2534900b",
   "metadata": {},
   "outputs": [
    {
     "ename": "NameError",
     "evalue": "name 'banana' is not defined",
     "output_type": "error",
     "traceback": [
      "\u001b[0;31m---------------------------------------------------------------------------\u001b[0m",
      "\u001b[0;31mNameError\u001b[0m                                 Traceback (most recent call last)",
      "\u001b[0;32m<ipython-input-27-bbf8f4af2380>\u001b[0m in \u001b[0;36m<module>\u001b[0;34m\u001b[0m\n\u001b[0;32m----> 1\u001b[0;31m \u001b[0md\u001b[0m\u001b[0;34m=\u001b[0m\u001b[0mbanana\u001b[0m\u001b[0;34m\u001b[0m\u001b[0;34m\u001b[0m\u001b[0m\n\u001b[0m\u001b[1;32m      2\u001b[0m \u001b[0me\u001b[0m\u001b[0;34m=\u001b[0m\u001b[0mapple\u001b[0m\u001b[0;34m\u001b[0m\u001b[0;34m\u001b[0m\u001b[0m\n\u001b[1;32m      3\u001b[0m \u001b[0mf\u001b[0m\u001b[0;34m=\u001b[0m\u001b[0mcucumber\u001b[0m\u001b[0;34m\u001b[0m\u001b[0;34m\u001b[0m\u001b[0m\n",
      "\u001b[0;31mNameError\u001b[0m: name 'banana' is not defined"
     ]
    }
   ],
   "source": [
    "d=\n",
    "e=apple\n",
    "f=cucumber"
   ]
  },
  {
   "cell_type": "markdown",
   "id": "e7de19ca",
   "metadata": {},
   "source": [
    "STRUCTURED QUERY LANGUAGE"
   ]
  },
  {
   "cell_type": "code",
   "execution_count": 1,
   "id": "d91c6131",
   "metadata": {},
   "outputs": [],
   "source": [
    "# SQL LANGUAGE ELEMENTS\n",
    "#select first name from employees\n",
    "#distinct\n",
    "#where - <  > =\n",
    "#LIMIT 5"
   ]
  },
  {
   "cell_type": "markdown",
   "id": "816406be",
   "metadata": {},
   "source": [
    "What is an aggregate function?\n",
    "In this section, we will introduce you to aggregate functions. Aggregate functions are functions that take a collection of values as input and return a single value. SQL has five built-in aggregate functions:\n",
    "\n",
    "COUNT (Count)\n",
    "MIN (Minimum)\n",
    "MAX (Maximum)\n",
    "SUM (Total)\n",
    "AVG (Average)\n",
    "aggregate function"
   ]
  },
  {
   "cell_type": "code",
   "execution_count": 2,
   "id": "cc511774",
   "metadata": {},
   "outputs": [],
   "source": [
    "#NULL means no data and is a special value. It shows us that a piece of information is unknown or missing or not applicable. For instance, let's assume that we have a song database and we don't know the writers of some of them. We don't have that information. So, to store these unknown songwriters in a database table, we must use NULL. If a table has NULL value, then it will be displayed as NULL."
   ]
  },
  {
   "cell_type": "code",
   "execution_count": 3,
   "id": "a1a2a75f",
   "metadata": {},
   "outputs": [
    {
     "ename": "SyntaxError",
     "evalue": "invalid syntax (<ipython-input-3-0895e4786cd1>, line 2)",
     "output_type": "error",
     "traceback": [
      "\u001b[0;36m  File \u001b[0;32m\"<ipython-input-3-0895e4786cd1>\"\u001b[0;36m, line \u001b[0;32m2\u001b[0m\n\u001b[0;31m    NULL value represents the unknown value or missing value or not applicable.\u001b[0m\n\u001b[0m         ^\u001b[0m\n\u001b[0;31mSyntaxError\u001b[0m\u001b[0;31m:\u001b[0m invalid syntax\n"
     ]
    }
   ],
   "source": [
    "#💡Tips:\n",
    "NULL value represents the unknown value or missing value or not applicable.\n",
    "NULL is not equal to zero or empty string.\n",
    "NULL is not equal to itself.\n",
    "It's important to understand what nulls mean and to know how to work with them. They are often ignored in our aggregation functions.\n",
    "\n",
    "Alright, let's start with COUNT function.\n",
    "\n",
    "Q: What is an aggregate function?\n",
    "A: An aggregate function performs operations on a collection of values to return a single scalar value. Aggregate functions are often used with the GROUP BY and HAVING clauses of the SELECT statement.\n",
    "\n",
    "- Interview Q&A"
   ]
  },
  {
   "cell_type": "code",
   "execution_count": 4,
   "id": "4ee73864",
   "metadata": {},
   "outputs": [
    {
     "ename": "SyntaxError",
     "evalue": "invalid syntax (<ipython-input-4-3b150a01b07f>, line 3)",
     "output_type": "error",
     "traceback": [
      "\u001b[0;36m  File \u001b[0;32m\"<ipython-input-4-3b150a01b07f>\"\u001b[0;36m, line \u001b[0;32m3\u001b[0m\n\u001b[0;31m    SELECT COUNT(column_name)\u001b[0m\n\u001b[0m           ^\u001b[0m\n\u001b[0;31mSyntaxError\u001b[0m\u001b[0;31m:\u001b[0m invalid syntax\n"
     ]
    }
   ],
   "source": [
    "#We use COUNT function to count the numbers of records (a.k.a row) in a table. Here is the syntax of the COUNT function:\n",
    "\n",
    "SELECT COUNT(column_name)\n",
    "FROM table_name;\n",
    "Use COUNT keyword immediately after SELECT keyword. Then specify the column on which you want to operate. \n",
    "Suppose that we want to count how many students enrolled in the courses. "
   ]
  },
  {
   "cell_type": "code",
   "execution_count": 5,
   "id": "2a795961",
   "metadata": {},
   "outputs": [],
   "source": [
    "#TABLE OF CONTEST\n",
    "#ARITHMETIC OPERATIONS\n",
    "#ESCAPE SEQUENCES\n"
   ]
  },
  {
   "cell_type": "code",
   "execution_count": 11,
   "id": "8e258022",
   "metadata": {},
   "outputs": [
    {
     "ename": "NameError",
     "evalue": "name 'y' is not defined",
     "output_type": "error",
     "traceback": [
      "\u001b[0;31m---------------------------------------------------------------------------\u001b[0m",
      "\u001b[0;31mNameError\u001b[0m                                 Traceback (most recent call last)",
      "\u001b[0;32m<ipython-input-11-9d1e99d592d4>\u001b[0m in \u001b[0;36m<module>\u001b[0;34m\u001b[0m\n\u001b[1;32m      5\u001b[0m \u001b[0;34m\u001b[0m\u001b[0m\n\u001b[1;32m      6\u001b[0m \u001b[0;31m#The solution\u001b[0m\u001b[0;34m\u001b[0m\u001b[0;34m\u001b[0m\u001b[0;34m\u001b[0m\u001b[0m\n\u001b[0;32m----> 7\u001b[0;31m \u001b[0mz\u001b[0m\u001b[0;34m=\u001b[0m\u001b[0my\u001b[0m \u001b[0;31m#line 2\u001b[0m\u001b[0;34m\u001b[0m\u001b[0;34m\u001b[0m\u001b[0m\n\u001b[0m\u001b[1;32m      8\u001b[0m \u001b[0my\u001b[0m\u001b[0;34m=\u001b[0m\u001b[0mx\u001b[0m \u001b[0;31m#line 3\u001b[0m\u001b[0;34m\u001b[0m\u001b[0;34m\u001b[0m\u001b[0m\n\u001b[1;32m      9\u001b[0m \u001b[0mx\u001b[0m\u001b[0;34m=\u001b[0m\u001b[0mz\u001b[0m \u001b[0;31m#line 1\u001b[0m\u001b[0;34m\u001b[0m\u001b[0;34m\u001b[0m\u001b[0m\n",
      "\u001b[0;31mNameError\u001b[0m: name 'y' is not defined"
     ]
    }
   ],
   "source": [
    "#Problem\n",
    "X=60  #X--> 6\n",
    "Y=6   #Y--> 60\n",
    "Z=10   #Z-->6\n",
    "\n",
    "#The solution\n",
    "z=y #line 2\n",
    "y=x #line 3\n",
    "x=z #line 1\n",
    "\n",
    "print(f'x: {x} y: {y}  z: {z}')\n",
    "\n",
    "assert x==6\n",
    "assert y==60\n",
    "assert z==6"
   ]
  },
  {
   "cell_type": "code",
   "execution_count": 15,
   "id": "0fb52e00",
   "metadata": {},
   "outputs": [
    {
     "ename": "NameError",
     "evalue": "name 'y' is not defined",
     "output_type": "error",
     "traceback": [
      "\u001b[0;31m---------------------------------------------------------------------------\u001b[0m",
      "\u001b[0;31mNameError\u001b[0m                                 Traceback (most recent call last)",
      "\u001b[0;32m<ipython-input-15-bca84d1f6de6>\u001b[0m in \u001b[0;36m<module>\u001b[0;34m\u001b[0m\n\u001b[1;32m      4\u001b[0m \u001b[0;34m\u001b[0m\u001b[0m\n\u001b[1;32m      5\u001b[0m \u001b[0;34m\u001b[0m\u001b[0m\n\u001b[0;32m----> 6\u001b[0;31m \u001b[0mz\u001b[0m\u001b[0;34m=\u001b[0m\u001b[0my\u001b[0m\u001b[0;34m\u001b[0m\u001b[0;34m\u001b[0m\u001b[0m\n\u001b[0m\u001b[1;32m      7\u001b[0m \u001b[0my\u001b[0m\u001b[0;34m=\u001b[0m\u001b[0mx\u001b[0m\u001b[0;34m\u001b[0m\u001b[0;34m\u001b[0m\u001b[0m\n\u001b[1;32m      8\u001b[0m \u001b[0mx\u001b[0m\u001b[0;34m=\u001b[0m\u001b[0mz\u001b[0m\u001b[0;34m\u001b[0m\u001b[0;34m\u001b[0m\u001b[0m\n",
      "\u001b[0;31mNameError\u001b[0m: name 'y' is not defined"
     ]
    }
   ],
   "source": [
    "X=60  \n",
    "Y=6   \n",
    "Z=10  \n",
    "\n",
    "\n",
    "z=y \n",
    "y=x \n",
    "x=z \n",
    "\n",
    "print(f'x: {x} y: {y}  z: {z}')\n",
    "\n",
    "assert x==6\n",
    "assert y==60\n",
    "assert z==6"
   ]
  },
  {
   "cell_type": "markdown",
   "id": "1eea4ab3",
   "metadata": {},
   "source": [
    "BOOLEAN EXPRESSIONS"
   ]
  },
  {
   "cell_type": "code",
   "execution_count": 16,
   "id": "e76c75aa",
   "metadata": {},
   "outputs": [
    {
     "name": "stdout",
     "output_type": "stream",
     "text": [
      "1\n"
     ]
    }
   ],
   "source": [
    "#KEYWORDS: and or not\n",
    "uno=1\n",
    "escriber=print\n",
    "escriber(uno)"
   ]
  },
  {
   "cell_type": "code",
   "execution_count": 17,
   "id": "712fe435",
   "metadata": {},
   "outputs": [
    {
     "data": {
      "text/plain": [
       "True"
      ]
     },
     "execution_count": 17,
     "metadata": {},
     "output_type": "execute_result"
    }
   ],
   "source": [
    "True and True"
   ]
  },
  {
   "cell_type": "code",
   "execution_count": 18,
   "id": "524dfd75",
   "metadata": {},
   "outputs": [
    {
     "data": {
      "text/plain": [
       "True"
      ]
     },
     "execution_count": 18,
     "metadata": {},
     "output_type": "execute_result"
    }
   ],
   "source": [
    "True and True and True"
   ]
  },
  {
   "cell_type": "code",
   "execution_count": 20,
   "id": "7f30f1b3",
   "metadata": {},
   "outputs": [
    {
     "data": {
      "text/plain": [
       "False"
      ]
     },
     "execution_count": 20,
     "metadata": {},
     "output_type": "execute_result"
    }
   ],
   "source": [
    "True and True and True and False"
   ]
  },
  {
   "cell_type": "code",
   "execution_count": 21,
   "id": "c018af68",
   "metadata": {},
   "outputs": [
    {
     "ename": "NameError",
     "evalue": "name 'orange' is not defined",
     "output_type": "error",
     "traceback": [
      "\u001b[0;31m---------------------------------------------------------------------------\u001b[0m",
      "\u001b[0;31mNameError\u001b[0m                                 Traceback (most recent call last)",
      "\u001b[0;32m<ipython-input-21-f7e5d4f5135b>\u001b[0m in \u001b[0;36m<module>\u001b[0;34m\u001b[0m\n\u001b[0;32m----> 1\u001b[0;31m \u001b[0morange\u001b[0m \u001b[0;32mand\u001b[0m \u001b[0morange\u001b[0m \u001b[0;32mand\u001b[0m \u001b[0mapple\u001b[0m\u001b[0;34m\u001b[0m\u001b[0;34m\u001b[0m\u001b[0m\n\u001b[0m",
      "\u001b[0;31mNameError\u001b[0m: name 'orange' is not defined"
     ]
    }
   ],
   "source": [
    "#if <something that will evaluate True/False>:"
   ]
  },
  {
   "cell_type": "code",
   "execution_count": 23,
   "id": "e9772103",
   "metadata": {},
   "outputs": [
    {
     "name": "stdout",
     "output_type": "stream",
     "text": [
      "Yay!\n"
     ]
    }
   ],
   "source": [
    "if True:\n",
    "    print(\"Yay!\")"
   ]
  },
  {
   "cell_type": "code",
   "execution_count": 27,
   "id": "d1272df4",
   "metadata": {},
   "outputs": [
    {
     "ename": "IndentationError",
     "evalue": "expected an indented block (<ipython-input-27-dffe52090c98>, line 2)",
     "output_type": "error",
     "traceback": [
      "\u001b[0;36m  File \u001b[0;32m\"<ipython-input-27-dffe52090c98>\"\u001b[0;36m, line \u001b[0;32m2\u001b[0m\n\u001b[0;31m    print(\"Yay!\")\u001b[0m\n\u001b[0m    ^\u001b[0m\n\u001b[0;31mIndentationError\u001b[0m\u001b[0;31m:\u001b[0m expected an indented block\n"
     ]
    }
   ],
   "source": [
    "if 1:\n",
    "print(\"Yay!\")"
   ]
  },
  {
   "cell_type": "code",
   "execution_count": 28,
   "id": "7fc31bbd",
   "metadata": {},
   "outputs": [
    {
     "ename": "IndentationError",
     "evalue": "expected an indented block (<ipython-input-28-d3df9f6fbdfd>, line 2)",
     "output_type": "error",
     "traceback": [
      "\u001b[0;36m  File \u001b[0;32m\"<ipython-input-28-d3df9f6fbdfd>\"\u001b[0;36m, line \u001b[0;32m2\u001b[0m\n\u001b[0;31m    print(\"Yay!\")\u001b[0m\n\u001b[0m    ^\u001b[0m\n\u001b[0;31mIndentationError\u001b[0m\u001b[0;31m:\u001b[0m expected an indented block\n"
     ]
    }
   ],
   "source": [
    "if 0:\n",
    "print(\"Yay!\")"
   ]
  },
  {
   "cell_type": "code",
   "execution_count": 29,
   "id": "f9fea122",
   "metadata": {},
   "outputs": [
    {
     "name": "stdout",
     "output_type": "stream",
     "text": [
      "6\n"
     ]
    }
   ],
   "source": [
    "x=1\n",
    "y=2\n",
    "z=3\n",
    "if x and y and z:\n",
    "    print(x+y+z)"
   ]
  },
  {
   "cell_type": "code",
   "execution_count": 30,
   "id": "ccc81eef",
   "metadata": {},
   "outputs": [
    {
     "ename": "NameError",
     "evalue": "name 'none' is not defined",
     "output_type": "error",
     "traceback": [
      "\u001b[0;31m---------------------------------------------------------------------------\u001b[0m",
      "\u001b[0;31mNameError\u001b[0m                                 Traceback (most recent call last)",
      "\u001b[0;32m<ipython-input-30-cac479177114>\u001b[0m in \u001b[0;36m<module>\u001b[0;34m\u001b[0m\n\u001b[0;32m----> 1\u001b[0;31m \u001b[0mx\u001b[0m\u001b[0;34m=\u001b[0m\u001b[0mnone\u001b[0m\u001b[0;34m\u001b[0m\u001b[0;34m\u001b[0m\u001b[0m\n\u001b[0m\u001b[1;32m      2\u001b[0m \u001b[0my\u001b[0m\u001b[0;34m=\u001b[0m\u001b[0;36m2\u001b[0m\u001b[0;34m\u001b[0m\u001b[0;34m\u001b[0m\u001b[0m\n\u001b[1;32m      3\u001b[0m \u001b[0mz\u001b[0m\u001b[0;34m=\u001b[0m\u001b[0;36m3\u001b[0m\u001b[0;34m\u001b[0m\u001b[0;34m\u001b[0m\u001b[0m\n\u001b[1;32m      4\u001b[0m \u001b[0;32mif\u001b[0m \u001b[0mx\u001b[0m \u001b[0;32mand\u001b[0m \u001b[0my\u001b[0m \u001b[0;32mand\u001b[0m \u001b[0mz\u001b[0m\u001b[0;34m:\u001b[0m\u001b[0;34m\u001b[0m\u001b[0;34m\u001b[0m\u001b[0m\n\u001b[1;32m      5\u001b[0m     \u001b[0mprint\u001b[0m\u001b[0;34m(\u001b[0m\u001b[0mx\u001b[0m\u001b[0;34m+\u001b[0m\u001b[0my\u001b[0m\u001b[0;34m+\u001b[0m\u001b[0mz\u001b[0m\u001b[0;34m)\u001b[0m\u001b[0;34m\u001b[0m\u001b[0;34m\u001b[0m\u001b[0m\n",
      "\u001b[0;31mNameError\u001b[0m: name 'none' is not defined"
     ]
    }
   ],
   "source": [
    "x=none\n",
    "y=2\n",
    "z=3\n",
    "if x and y and z:\n",
    "    print(x+y+z)"
   ]
  },
  {
   "cell_type": "code",
   "execution_count": 31,
   "id": "25e866d6",
   "metadata": {},
   "outputs": [],
   "source": [
    "if x and y:   #assert that both x and y are True\n",
    "    x/y\n",
    "    numerator=555\n",
    "    denominator=0\n",
    "#evaluate this then this part\n",
    "    if denominator and numerator/denominator:\n",
    "        print(Yay)"
   ]
  },
  {
   "cell_type": "code",
   "execution_count": 32,
   "id": "ca3a9446",
   "metadata": {},
   "outputs": [],
   "source": [
    "if x and y:   #assert that both x and y are True\n",
    "    x/y\n",
    "    numerator=555\n",
    "    denominator=0"
   ]
  },
  {
   "cell_type": "code",
   "execution_count": 34,
   "id": "44fc78f4",
   "metadata": {},
   "outputs": [
    {
     "name": "stdout",
     "output_type": "stream",
     "text": [
      "Yay\n"
     ]
    }
   ],
   "source": [
    "denominator=5\n",
    "if denominator and numerator/denominator:\n",
    "    print('Yay')"
   ]
  },
  {
   "cell_type": "markdown",
   "id": "ca044343",
   "metadata": {},
   "source": [
    "OR EXPRESSION"
   ]
  },
  {
   "cell_type": "code",
   "execution_count": 35,
   "id": "c08beee5",
   "metadata": {},
   "outputs": [
    {
     "data": {
      "text/plain": [
       "True"
      ]
     },
     "execution_count": 35,
     "metadata": {},
     "output_type": "execute_result"
    }
   ],
   "source": [
    "True or False"
   ]
  },
  {
   "cell_type": "code",
   "execution_count": 36,
   "id": "2bc6fb92",
   "metadata": {},
   "outputs": [],
   "source": [
    "numerator=555\n",
    "denominator=0\n",
    "# eval this then this part\n",
    "if denominator and numerator/denominator:\n",
    "    print('Yay')"
   ]
  },
  {
   "cell_type": "markdown",
   "id": "f7e91d58",
   "metadata": {},
   "source": [
    "Not Expression(negates a boolean)"
   ]
  },
  {
   "cell_type": "code",
   "execution_count": 37,
   "id": "598c80f7",
   "metadata": {},
   "outputs": [
    {
     "data": {
      "text/plain": [
       "True"
      ]
     },
     "execution_count": 37,
     "metadata": {},
     "output_type": "execute_result"
    }
   ],
   "source": [
    "True"
   ]
  },
  {
   "cell_type": "code",
   "execution_count": 38,
   "id": "66f02ef9",
   "metadata": {},
   "outputs": [
    {
     "data": {
      "text/plain": [
       "False"
      ]
     },
     "execution_count": 38,
     "metadata": {},
     "output_type": "execute_result"
    }
   ],
   "source": [
    "not True"
   ]
  },
  {
   "cell_type": "code",
   "execution_count": 39,
   "id": "de0db71d",
   "metadata": {},
   "outputs": [
    {
     "data": {
      "text/plain": [
       "False"
      ]
     },
     "execution_count": 39,
     "metadata": {},
     "output_type": "execute_result"
    }
   ],
   "source": [
    "False"
   ]
  },
  {
   "cell_type": "code",
   "execution_count": 40,
   "id": "4164fcda",
   "metadata": {},
   "outputs": [
    {
     "data": {
      "text/plain": [
       "True"
      ]
     },
     "execution_count": 40,
     "metadata": {},
     "output_type": "execute_result"
    }
   ],
   "source": [
    "not False"
   ]
  },
  {
   "cell_type": "code",
   "execution_count": 41,
   "id": "6222cc61",
   "metadata": {},
   "outputs": [
    {
     "data": {
      "text/plain": [
       "False"
      ]
     },
     "execution_count": 41,
     "metadata": {},
     "output_type": "execute_result"
    }
   ],
   "source": [
    "numerator=555\n",
    "denominator=0\n",
    "not (numerator or denominator)"
   ]
  },
  {
   "cell_type": "code",
   "execution_count": 42,
   "id": "47d2f682",
   "metadata": {},
   "outputs": [
    {
     "data": {
      "text/plain": [
       "7"
      ]
     },
     "execution_count": 42,
     "metadata": {},
     "output_type": "execute_result"
    }
   ],
   "source": [
    "#PRIORITY ORDER: not->[and ->or]\n",
    "1+2*3"
   ]
  },
  {
   "cell_type": "code",
   "execution_count": 44,
   "id": "001fa903",
   "metadata": {},
   "outputs": [
    {
     "data": {
      "text/plain": [
       "False"
      ]
     },
     "execution_count": 44,
     "metadata": {},
     "output_type": "execute_result"
    }
   ],
   "source": [
    "bool_var=False and not True\n",
    "bool_var"
   ]
  },
  {
   "cell_type": "code",
   "execution_count": 46,
   "id": "15bea706",
   "metadata": {},
   "outputs": [
    {
     "data": {
      "text/plain": [
       "True"
      ]
     },
     "execution_count": 46,
     "metadata": {},
     "output_type": "execute_result"
    }
   ],
   "source": [
    "bool_var=False or not not True\n",
    "bool_var"
   ]
  },
  {
   "cell_type": "markdown",
   "id": "c2496f1a",
   "metadata": {},
   "source": [
    "USE PARENTHESIS IF YOU HAVE ANY DOUBT"
   ]
  },
  {
   "cell_type": "code",
   "execution_count": 47,
   "id": "e9cf5dc6",
   "metadata": {},
   "outputs": [
    {
     "data": {
      "text/plain": [
       "True"
      ]
     },
     "execution_count": 47,
     "metadata": {},
     "output_type": "execute_result"
    }
   ],
   "source": [
    "False or (True and True)"
   ]
  },
  {
   "cell_type": "code",
   "execution_count": 48,
   "id": "5bdcc081",
   "metadata": {},
   "outputs": [
    {
     "data": {
      "text/plain": [
       "'0b1000'"
      ]
     },
     "execution_count": 48,
     "metadata": {},
     "output_type": "execute_result"
    }
   ],
   "source": [
    "#Binary version\n",
    "bin #binary\n",
    "bin(8) #count of 2^3> <count of 2^1> <count 2^0>"
   ]
  },
  {
   "cell_type": "code",
   "execution_count": 49,
   "id": "892ecb50",
   "metadata": {},
   "outputs": [
    {
     "data": {
      "text/plain": [
       "'0b110'"
      ]
     },
     "execution_count": 49,
     "metadata": {},
     "output_type": "execute_result"
    }
   ],
   "source": [
    "bin(6)"
   ]
  },
  {
   "cell_type": "code",
   "execution_count": 50,
   "id": "f0246090",
   "metadata": {},
   "outputs": [
    {
     "data": {
      "text/plain": [
       "'0b111'"
      ]
     },
     "execution_count": 50,
     "metadata": {},
     "output_type": "execute_result"
    }
   ],
   "source": [
    "bin(7)"
   ]
  },
  {
   "cell_type": "code",
   "execution_count": 51,
   "id": "ecbea34e",
   "metadata": {},
   "outputs": [
    {
     "data": {
      "text/plain": [
       "'0b110'"
      ]
     },
     "execution_count": 51,
     "metadata": {},
     "output_type": "execute_result"
    }
   ],
   "source": [
    "bin(7&6) # and But it operates seperately on every element(every bit)\n",
    "#1 1 1 this is 7\n",
    "#1 1 0 this is 6\n",
    "#===============\n",
    "#1 1 0"
   ]
  },
  {
   "cell_type": "code",
   "execution_count": 52,
   "id": "0b733fda",
   "metadata": {},
   "outputs": [],
   "source": [
    "# or l  \n",
    "#not ~\n",
    "#xor ^  (exclusive or; one or the other but not both)"
   ]
  },
  {
   "cell_type": "code",
   "execution_count": 53,
   "id": "6abfc350",
   "metadata": {},
   "outputs": [
    {
     "data": {
      "text/plain": [
       "'me'"
      ]
     },
     "execution_count": 53,
     "metadata": {},
     "output_type": "execute_result"
    }
   ],
   "source": [
    "s='something'\n",
    "s[2:4]"
   ]
  },
  {
   "cell_type": "code",
   "execution_count": 54,
   "id": "9a2334b4",
   "metadata": {},
   "outputs": [
    {
     "data": {
      "text/plain": [
       "'somethin'"
      ]
     },
     "execution_count": 54,
     "metadata": {},
     "output_type": "execute_result"
    }
   ],
   "source": [
    "s[:-1]"
   ]
  },
  {
   "cell_type": "code",
   "execution_count": 55,
   "id": "5a4dffb5",
   "metadata": {},
   "outputs": [
    {
     "name": "stdout",
     "output_type": "stream",
     "text": [
      "0123456789 <class 'str'>\n"
     ]
    }
   ],
   "source": [
    "s='0123456789'\n",
    "print(s, type(s))"
   ]
  },
  {
   "cell_type": "code",
   "execution_count": 56,
   "id": "8e24fc7c",
   "metadata": {},
   "outputs": [],
   "source": [
    "#syntax for a slice:\n",
    "#[<start> : <stop> : <stride>]\n",
    "#[start=0, stop=end, stride]\n",
    "#using defaults:\n"
   ]
  },
  {
   "cell_type": "code",
   "execution_count": 57,
   "id": "eeb3596b",
   "metadata": {},
   "outputs": [
    {
     "data": {
      "text/plain": [
       "'0123456789'"
      ]
     },
     "execution_count": 57,
     "metadata": {},
     "output_type": "execute_result"
    }
   ],
   "source": [
    "s[::]"
   ]
  },
  {
   "cell_type": "code",
   "execution_count": 58,
   "id": "3aa1f924",
   "metadata": {},
   "outputs": [
    {
     "data": {
      "text/plain": [
       "'0123456789'"
      ]
     },
     "execution_count": 58,
     "metadata": {},
     "output_type": "execute_result"
    }
   ],
   "source": [
    "s[:]"
   ]
  },
  {
   "cell_type": "code",
   "execution_count": 60,
   "id": "3063a28a",
   "metadata": {},
   "outputs": [
    {
     "data": {
      "text/plain": [
       "'0'"
      ]
     },
     "execution_count": 60,
     "metadata": {},
     "output_type": "execute_result"
    }
   ],
   "source": [
    "s[0]"
   ]
  },
  {
   "cell_type": "code",
   "execution_count": 61,
   "id": "19c653a8",
   "metadata": {},
   "outputs": [
    {
     "data": {
      "text/plain": [
       "'1'"
      ]
     },
     "execution_count": 61,
     "metadata": {},
     "output_type": "execute_result"
    }
   ],
   "source": [
    "s[1]"
   ]
  },
  {
   "cell_type": "code",
   "execution_count": 62,
   "id": "647fc4e1",
   "metadata": {},
   "outputs": [
    {
     "data": {
      "text/plain": [
       "'01'"
      ]
     },
     "execution_count": 62,
     "metadata": {},
     "output_type": "execute_result"
    }
   ],
   "source": [
    "s[:2]"
   ]
  },
  {
   "cell_type": "code",
   "execution_count": 63,
   "id": "cc72edcb",
   "metadata": {},
   "outputs": [
    {
     "data": {
      "text/plain": [
       "'01234567'"
      ]
     },
     "execution_count": 63,
     "metadata": {},
     "output_type": "execute_result"
    }
   ],
   "source": [
    "s[:8]"
   ]
  },
  {
   "cell_type": "code",
   "execution_count": 65,
   "id": "0efa4f70",
   "metadata": {},
   "outputs": [
    {
     "data": {
      "text/plain": [
       "'789'"
      ]
     },
     "execution_count": 65,
     "metadata": {},
     "output_type": "execute_result"
    }
   ],
   "source": [
    "s[-3:]"
   ]
  },
  {
   "cell_type": "code",
   "execution_count": 66,
   "id": "57939979",
   "metadata": {},
   "outputs": [
    {
     "data": {
      "text/plain": [
       "'0123456'"
      ]
     },
     "execution_count": 66,
     "metadata": {},
     "output_type": "execute_result"
    }
   ],
   "source": [
    "s[:-3]"
   ]
  },
  {
   "cell_type": "code",
   "execution_count": 67,
   "id": "f45af30c",
   "metadata": {},
   "outputs": [
    {
     "data": {
      "text/plain": [
       "'23456'"
      ]
     },
     "execution_count": 67,
     "metadata": {},
     "output_type": "execute_result"
    }
   ],
   "source": [
    "s[2:7]"
   ]
  },
  {
   "cell_type": "code",
   "execution_count": 68,
   "id": "72d96ef2",
   "metadata": {},
   "outputs": [
    {
     "data": {
      "text/plain": [
       "''"
      ]
     },
     "execution_count": 68,
     "metadata": {},
     "output_type": "execute_result"
    }
   ],
   "source": [
    "s[-2:7]"
   ]
  },
  {
   "cell_type": "code",
   "execution_count": 69,
   "id": "0041cbee",
   "metadata": {},
   "outputs": [
    {
     "data": {
      "text/plain": [
       "'29'"
      ]
     },
     "execution_count": 69,
     "metadata": {},
     "output_type": "execute_result"
    }
   ],
   "source": [
    "s[2::7] #'0123456789'"
   ]
  },
  {
   "cell_type": "code",
   "execution_count": 70,
   "id": "4f46312b",
   "metadata": {},
   "outputs": [
    {
     "data": {
      "text/plain": [
       "'2'"
      ]
     },
     "execution_count": 70,
     "metadata": {},
     "output_type": "execute_result"
    }
   ],
   "source": [
    "s[2:5:7]"
   ]
  },
  {
   "cell_type": "code",
   "execution_count": 71,
   "id": "33c5314b",
   "metadata": {},
   "outputs": [
    {
     "data": {
      "text/plain": [
       "'0480369'"
      ]
     },
     "execution_count": 71,
     "metadata": {},
     "output_type": "execute_result"
    }
   ],
   "source": [
    "s[::4]+s[::3]"
   ]
  },
  {
   "cell_type": "code",
   "execution_count": 72,
   "id": "b24d53ce",
   "metadata": {},
   "outputs": [
    {
     "data": {
      "text/plain": [
       "'9876543210'"
      ]
     },
     "execution_count": 72,
     "metadata": {},
     "output_type": "execute_result"
    }
   ],
   "source": [
    "s[::-1]"
   ]
  },
  {
   "cell_type": "code",
   "execution_count": 73,
   "id": "801092f9",
   "metadata": {},
   "outputs": [
    {
     "data": {
      "text/plain": [
       "'012345678'"
      ]
     },
     "execution_count": 73,
     "metadata": {},
     "output_type": "execute_result"
    }
   ],
   "source": [
    "s[:-1]"
   ]
  },
  {
   "cell_type": "code",
   "execution_count": 74,
   "id": "0b3ddfdb",
   "metadata": {},
   "outputs": [
    {
     "data": {
      "text/plain": [
       "'01234567'"
      ]
     },
     "execution_count": 74,
     "metadata": {},
     "output_type": "execute_result"
    }
   ],
   "source": [
    "s[:-2]"
   ]
  },
  {
   "cell_type": "code",
   "execution_count": 75,
   "id": "018870df",
   "metadata": {},
   "outputs": [
    {
     "data": {
      "text/plain": [
       "'012345'"
      ]
     },
     "execution_count": 75,
     "metadata": {},
     "output_type": "execute_result"
    }
   ],
   "source": [
    "s[:-4]"
   ]
  },
  {
   "cell_type": "code",
   "execution_count": 76,
   "id": "83865959",
   "metadata": {},
   "outputs": [
    {
     "data": {
      "text/plain": [
       "'012'"
      ]
     },
     "execution_count": 76,
     "metadata": {},
     "output_type": "execute_result"
    }
   ],
   "source": [
    "s[:-7]"
   ]
  },
  {
   "cell_type": "code",
   "execution_count": 77,
   "id": "b3a94f2c",
   "metadata": {},
   "outputs": [
    {
     "data": {
      "text/plain": [
       "slice"
      ]
     },
     "execution_count": 77,
     "metadata": {},
     "output_type": "execute_result"
    }
   ],
   "source": [
    "slice"
   ]
  },
  {
   "cell_type": "code",
   "execution_count": 79,
   "id": "d87b3c16",
   "metadata": {},
   "outputs": [
    {
     "data": {
      "text/plain": [
       "slice(None, None, None)"
      ]
     },
     "execution_count": 79,
     "metadata": {},
     "output_type": "execute_result"
    }
   ],
   "source": [
    "sy=slice(None, None, None)   #null [::]\n",
    "sy"
   ]
  },
  {
   "cell_type": "code",
   "execution_count": 84,
   "id": "d069eed0",
   "metadata": {},
   "outputs": [
    {
     "name": "stdout",
     "output_type": "stream",
     "text": [
      "slice(2, 8, 2)\n"
     ]
    }
   ],
   "source": [
    "start_at = 2\n",
    "stop_just_before = 8\n",
    "stride_length = 2\n",
    "data_slice = slice(start_at, stop_just_before, stride_length) #null=[2:8:2]\n",
    "print(data_slice)"
   ]
  },
  {
   "cell_type": "code",
   "execution_count": 85,
   "id": "c554d898",
   "metadata": {},
   "outputs": [],
   "source": [
    "start_at = 2\n",
    "stop_just_before = 8\n",
    "stride_length = 2\n",
    "data_slice = slice(start_at, stop_just_before, stride_length) \n"
   ]
  },
  {
   "cell_type": "code",
   "execution_count": 86,
   "id": "c005ef19",
   "metadata": {},
   "outputs": [
    {
     "ename": "NameError",
     "evalue": "name 'c' is not defined",
     "output_type": "error",
     "traceback": [
      "\u001b[0;31m---------------------------------------------------------------------------\u001b[0m",
      "\u001b[0;31mNameError\u001b[0m                                 Traceback (most recent call last)",
      "\u001b[0;32m<ipython-input-86-d66049b2068e>\u001b[0m in \u001b[0;36m<module>\u001b[0;34m\u001b[0m\n\u001b[1;32m      1\u001b[0m \u001b[0mreverser\u001b[0m\u001b[0;34m=\u001b[0m\u001b[0mslice\u001b[0m\u001b[0;34m(\u001b[0m\u001b[0;32mNone\u001b[0m\u001b[0;34m,\u001b[0m \u001b[0;32mNone\u001b[0m\u001b[0;34m,\u001b[0m \u001b[0;34m-\u001b[0m\u001b[0;36m1\u001b[0m\u001b[0;34m)\u001b[0m\u001b[0;34m\u001b[0m\u001b[0;34m\u001b[0m\u001b[0m\n\u001b[0;32m----> 2\u001b[0;31m \u001b[0mc\u001b[0m\u001b[0;34m[\u001b[0m\u001b[0mreverser\u001b[0m\u001b[0;34m]\u001b[0m\u001b[0;34m\u001b[0m\u001b[0;34m\u001b[0m\u001b[0m\n\u001b[0m",
      "\u001b[0;31mNameError\u001b[0m: name 'c' is not defined"
     ]
    }
   ],
   "source": [
    "reverser=slice(None, None, -1)\n",
    "c[reverser]"
   ]
  },
  {
   "cell_type": "markdown",
   "id": "320d44fa",
   "metadata": {},
   "source": [
    "String Formatting with Arithmetic Syntax"
   ]
  },
  {
   "cell_type": "code",
   "execution_count": 87,
   "id": "688d2dc6",
   "metadata": {},
   "outputs": [
    {
     "name": "stdout",
     "output_type": "stream",
     "text": [
      "\n"
     ]
    }
   ],
   "source": [
    "#phyton 2.x (2.7 code is coming)\n",
    "#print <come stuff> 'statement'\n",
    "#phyton 3.x\n",
    "print() # a function"
   ]
  },
  {
   "cell_type": "code",
   "execution_count": 88,
   "id": "974ec681",
   "metadata": {},
   "outputs": [],
   "source": [
    "#- + * against a string\n",
    "\n",
    "str_one= 'upper'\n",
    "str_two= 'case'\n",
    "str_comb= str_one"
   ]
  },
  {
   "cell_type": "code",
   "execution_count": 89,
   "id": "9c3f9ad1",
   "metadata": {},
   "outputs": [
    {
     "name": "stdout",
     "output_type": "stream",
     "text": [
      "u p p e r\n"
     ]
    }
   ],
   "source": [
    "s='upper'\n",
    "print(*s)"
   ]
  },
  {
   "cell_type": "code",
   "execution_count": 90,
   "id": "945cc2fc",
   "metadata": {},
   "outputs": [
    {
     "name": "stdout",
     "output_type": "stream",
     "text": [
      "u|||p|||p|||e|||r\n"
     ]
    }
   ],
   "source": [
    "print(*s, sep='|||')"
   ]
  },
  {
   "cell_type": "code",
   "execution_count": 94,
   "id": "9d82f65f",
   "metadata": {},
   "outputs": [
    {
     "ename": "SyntaxError",
     "evalue": "invalid syntax (<ipython-input-94-3ee89140d19d>, line 1)",
     "output_type": "error",
     "traceback": [
      "\u001b[0;36m  File \u001b[0;32m\"<ipython-input-94-3ee89140d19d>\"\u001b[0;36m, line \u001b[0;32m1\u001b[0m\n\u001b[0;31m    1st=[1,2,3,4,5,6]\u001b[0m\n\u001b[0m     ^\u001b[0m\n\u001b[0;31mSyntaxError\u001b[0m\u001b[0;31m:\u001b[0m invalid syntax\n"
     ]
    }
   ],
   "source": [
    "1st=[1,2,3,4,5,6]\n",
    "print(1st)"
   ]
  },
  {
   "cell_type": "code",
   "execution_count": 95,
   "id": "36669d41",
   "metadata": {},
   "outputs": [
    {
     "name": "stdout",
     "output_type": "stream",
     "text": [
      "ayebeesea\n"
     ]
    }
   ],
   "source": [
    "a='aye'\n",
    "b='bee'\n",
    "c='sea'\n",
    "print(a+b+c)\n"
   ]
  },
  {
   "cell_type": "markdown",
   "id": "e44e2167",
   "metadata": {},
   "source": [
    "#Searching a String\n",
    "To search patterns in a string there are two useful methods called startswith() and endswith() that search for the particular pattern in the immediate beginning or end of a string and return True if the expression is found. Here are some simple examples. Examine the basic syntax of those methods carefully."
   ]
  },
  {
   "cell_type": "code",
   "execution_count": 1,
   "id": "99ad3b00",
   "metadata": {},
   "outputs": [
    {
     "name": "stdout",
     "output_type": "stream",
     "text": [
      "True\n",
      "False\n"
     ]
    }
   ],
   "source": [
    "text = 'www.clarusway.com'\n",
    "print(text.endswith('.com'))\n",
    "print(text.startswith('http:'))"
   ]
  },
  {
   "cell_type": "code",
   "execution_count": 2,
   "id": "286841fb",
   "metadata": {},
   "outputs": [
    {
     "name": "stdout",
     "output_type": "stream",
     "text": [
      "True\n",
      "True\n"
     ]
    }
   ],
   "source": [
    "text = 'www.clarusway.com'\n",
    "print(text.endswith('om'))\n",
    "print(text.startswith('w'))"
   ]
  },
  {
   "cell_type": "code",
   "execution_count": 3,
   "id": "a56a896e",
   "metadata": {},
   "outputs": [],
   "source": [
    "#These methods have optional arguments start and end. We can specify the search by adding arguments so that the area of search is delimited by start and end arguments."
   ]
  },
  {
   "cell_type": "code",
   "execution_count": 4,
   "id": "a67c4497",
   "metadata": {},
   "outputs": [],
   "source": [
    "#The formula syntaxes are :\n",
    "\n",
    "#string.startswith(prefix[, start[, end]])\n",
    "#string.endswith(suffix[, start[, end]])"
   ]
  },
  {
   "cell_type": "code",
   "execution_count": 5,
   "id": "e64661b8",
   "metadata": {},
   "outputs": [
    {
     "name": "stdout",
     "output_type": "stream",
     "text": [
      "True\n",
      "True\n"
     ]
    }
   ],
   "source": [
    "email = \"clarusway@clarusway.com is my e-mail address\"\n",
    "print(email.startswith(\"@\", 9))\n",
    "print(email.endswith(\"-\", 10, 32))"
   ]
  },
  {
   "cell_type": "code",
   "execution_count": 6,
   "id": "a59b7533",
   "metadata": {},
   "outputs": [
    {
     "name": "stdout",
     "output_type": "stream",
     "text": [
      "28\n",
      "True\n",
      "False\n"
     ]
    }
   ],
   "source": [
    "phrase = \"myemailaddress@clarusway.com\"\n",
    "\n",
    "print(len(phrase))\n",
    "print(phrase.startswith(\"@\", 14))\n",
    "print(phrase.endswith(\".\", 15, 24))"
   ]
  },
  {
   "cell_type": "code",
   "execution_count": 7,
   "id": "d855ee7f",
   "metadata": {},
   "outputs": [
    {
     "name": "stdout",
     "output_type": "stream",
     "text": [
      "I LIVE AND WORK IN NEW JERSEY\n",
      "i live and work in new jersey\n",
      "i LIVE AND WORK IN nEW jERSEY\n",
      "I live and work in New Jersey\n"
     ]
    }
   ],
   "source": [
    "sentence = \"I live and work in New Jersey\"\n",
    "\n",
    "print(sentence.upper())  \n",
    "\n",
    "print(sentence.lower())\n",
    "\n",
    "print(sentence.swapcase())\n",
    "\n",
    "print(sentence)  # note that, source text is unchanged"
   ]
  },
  {
   "cell_type": "code",
   "execution_count": 8,
   "id": "d521def1",
   "metadata": {},
   "outputs": [
    {
     "name": "stdout",
     "output_type": "stream",
     "text": [
      "SUCCESS IS MEASURED BY EFFORT\n",
      "success is measured by effort\n",
      "sUCCESS IS MEASURED BY EFFORT\n",
      "Success is measured by effort\n"
     ]
    }
   ],
   "source": [
    "sentence = \"Success is measured by effort\"\n",
    "\n",
    "print(sentence.upper())  \n",
    "\n",
    "print(sentence.lower())\n",
    "\n",
    "print(sentence.swapcase())\n",
    "\n",
    "print(sentence)  # note that, source text is unchanged"
   ]
  },
  {
   "cell_type": "code",
   "execution_count": 9,
   "id": "aa81233e",
   "metadata": {},
   "outputs": [
    {
     "name": "stdout",
     "output_type": "stream",
     "text": [
      "I Live And Work In Virginia\n",
      "I l+ve and work +n V+rg+n+a\n",
      "I live and work in Virginia\n"
     ]
    }
   ],
   "source": [
    "sentence = \"I live and work in Virginia\"\n",
    "title_sentence = sentence.title() \n",
    "print(title_sentence)  \n",
    "\n",
    "changed_sentence = sentence.replace(\"i\", \"+\")\n",
    "print(changed_sentence)  \n",
    "\n",
    "print(sentence)  # note that, again source text is unchanged"
   ]
  },
  {
   "cell_type": "code",
   "execution_count": 10,
   "id": "203c5317",
   "metadata": {},
   "outputs": [
    {
     "name": "stdout",
     "output_type": "stream",
     "text": [
      "i LIVE AND WORK IN vIRGINIA\n",
      "I live and work in virginia\n"
     ]
    }
   ],
   "source": [
    "sentence = \"I live and work in Virginia\"\n",
    "swap_case = sentence.swapcase()\n",
    "print(swap_case)\n",
    "print(swap_case.capitalize())  # changes 'i' to uppercase and\n",
    "# the rest to lowercase"
   ]
  },
  {
   "cell_type": "code",
   "execution_count": 11,
   "id": "d53336e9",
   "metadata": {},
   "outputs": [
    {
     "ename": "SyntaxError",
     "evalue": "invalid syntax (<ipython-input-11-7ceb0ee75366>, line 2)",
     "output_type": "error",
     "traceback": [
      "\u001b[0;36m  File \u001b[0;32m\"<ipython-input-11-7ceb0ee75366>\"\u001b[0;36m, line \u001b[0;32m2\u001b[0m\n\u001b[0;31m    A: Yes it works. The syntax is : string.method(). Changing the string using these methods returns string type again. The output is :\u001b[0m\n\u001b[0m           ^\u001b[0m\n\u001b[0;31mSyntaxError\u001b[0m\u001b[0;31m:\u001b[0m invalid syntax\n"
     ]
    }
   ],
   "source": [
    "print(\"Actions speaks louder than words\".upper().swapcase().capitalize()), will this code work? If yes, what the output will be? Describe how?\n",
    "A: Yes it works. The syntax is : string.method(). Changing the string using these methods returns string type again. The output is :\n",
    "Actions speaks louder than words\n",
    "\n",
    "Follow the additional examples below :\n",
    "\n",
    "string.upper() # returns string type,\n",
    "string.upper().lower() # also returns string type,\n",
    "string.upper().lower().title() # returns string type again."
   ]
  },
  {
   "cell_type": "code",
   "execution_count": 12,
   "id": "44f078c0",
   "metadata": {},
   "outputs": [
    {
     "ename": "SyntaxError",
     "evalue": "invalid syntax (<ipython-input-12-c08f5c436bac>, line 3)",
     "output_type": "error",
     "traceback": [
      "\u001b[0;36m  File \u001b[0;32m\"<ipython-input-12-c08f5c436bac>\"\u001b[0;36m, line \u001b[0;32m3\u001b[0m\n\u001b[0;31m    str.strip() : removes all spaces (or specified characters) from both sides.\u001b[0m\n\u001b[0m                          ^\u001b[0m\n\u001b[0;31mSyntaxError\u001b[0m\u001b[0;31m:\u001b[0m invalid syntax\n"
     ]
    }
   ],
   "source": [
    "#The formula syntax is : string.method()\n",
    "\n",
    "str.strip() : removes all spaces (or specified characters) from both sides.\n",
    "\n",
    "str.rstrip() : removes spaces (or specified characters) from the right side.\n",
    "\n",
    "str.lstrip() : removes spaces (or specified characters) from the left side.\n",
    "\n",
    "Now see the examples about how we implement these methods? :"
   ]
  },
  {
   "cell_type": "code",
   "execution_count": 13,
   "id": "93a86b6d",
   "metadata": {},
   "outputs": [
    {
     "name": "stdout",
     "output_type": "stream",
     "text": [
      "listen first\n"
     ]
    }
   ],
   "source": [
    "space_string = \"     listen first      \"\n",
    "print(space_string.strip())  # removes all spaces from both sides"
   ]
  },
  {
   "cell_type": "code",
   "execution_count": 14,
   "id": "96b652a5",
   "metadata": {},
   "outputs": [
    {
     "name": "stdout",
     "output_type": "stream",
     "text": [
      "nteroperabilit\n"
     ]
    }
   ],
   "source": [
    "source_string = \"interoperability\"\n",
    "print(source_string.strip(\"yi\"))  \n",
    "# removes trailing \"y\" or \"i\" or \"yi\" or \"iy\" from both sides\n"
   ]
  },
  {
   "cell_type": "code",
   "execution_count": 15,
   "id": "b47709a5",
   "metadata": {},
   "outputs": [
    {
     "name": "stdout",
     "output_type": "stream",
     "text": [
      "teroperability\n"
     ]
    }
   ],
   "source": [
    "print(source_string.strip(\"ni\"))"
   ]
  },
  {
   "cell_type": "code",
   "execution_count": 17,
   "id": "ccd09197",
   "metadata": {},
   "outputs": [
    {
     "name": "stdout",
     "output_type": "stream",
     "text": [
      "interoperability\n"
     ]
    }
   ],
   "source": [
    "print(source_string.rstrip(\"ab\"))"
   ]
  },
  {
   "cell_type": "code",
   "execution_count": 18,
   "id": "4c4ee1b8",
   "metadata": {},
   "outputs": [
    {
     "name": "stdout",
     "output_type": "stream",
     "text": [
      "teroperability\n"
     ]
    }
   ],
   "source": [
    "source_string = \"interoperability\"\n",
    "print(source_string.lstrip(\"in\"))  \n",
    "# removes \"i\" or \"n\" or \"in\" or \"ni\" from the left side"
   ]
  },
  {
   "cell_type": "code",
   "execution_count": 19,
   "id": "5f4afdc7",
   "metadata": {},
   "outputs": [
    {
     "name": "stdout",
     "output_type": "stream",
     "text": [
      "interoperabili\n"
     ]
    }
   ],
   "source": [
    "source_string = \"interoperability\"\n",
    "print(source_string.rstrip(\"ty\"))  \n",
    "# removes \"i\" or \"n\" or \"in\" or \"ni\" from the left side"
   ]
  },
  {
   "cell_type": "code",
   "execution_count": 20,
   "id": "10d3ffe3",
   "metadata": {},
   "outputs": [
    {
     "name": "stdout",
     "output_type": "stream",
     "text": [
      "16\n"
     ]
    }
   ],
   "source": [
    "x = 12\n",
    "y = x + 21\n",
    "x = 2\n",
    "print(y//x)"
   ]
  },
  {
   "cell_type": "code",
   "execution_count": 21,
   "id": "75ac7d45",
   "metadata": {},
   "outputs": [
    {
     "data": {
      "text/plain": [
       "True"
      ]
     },
     "execution_count": 21,
     "metadata": {},
     "output_type": "execute_result"
    }
   ],
   "source": [
    "True and True"
   ]
  },
  {
   "cell_type": "code",
   "execution_count": 22,
   "id": "45055d0c",
   "metadata": {},
   "outputs": [
    {
     "data": {
      "text/plain": [
       "False"
      ]
     },
     "execution_count": 22,
     "metadata": {},
     "output_type": "execute_result"
    }
   ],
   "source": [
    "False and False"
   ]
  },
  {
   "cell_type": "code",
   "execution_count": 23,
   "id": "7d1e6211",
   "metadata": {},
   "outputs": [
    {
     "data": {
      "text/plain": [
       "False"
      ]
     },
     "execution_count": 23,
     "metadata": {},
     "output_type": "execute_result"
    }
   ],
   "source": [
    "False and True"
   ]
  },
  {
   "cell_type": "code",
   "execution_count": 24,
   "id": "3c41fb4e",
   "metadata": {},
   "outputs": [
    {
     "data": {
      "text/plain": [
       "False"
      ]
     },
     "execution_count": 24,
     "metadata": {},
     "output_type": "execute_result"
    }
   ],
   "source": [
    " True and False"
   ]
  },
  {
   "cell_type": "code",
   "execution_count": 29,
   "id": "207ad54f",
   "metadata": {},
   "outputs": [
    {
     "data": {
      "text/plain": [
       "{}"
      ]
     },
     "execution_count": 29,
     "metadata": {},
     "output_type": "execute_result"
    }
   ],
   "source": [
    "#Which of the following value is not considered False?\n",
    "\n",
    "\n",
    "\n",
    "{}\n",
    "\n"
   ]
  },
  {
   "cell_type": "code",
   "execution_count": 26,
   "id": "0f4ea7ed",
   "metadata": {},
   "outputs": [
    {
     "data": {
      "text/plain": [
       "[0]"
      ]
     },
     "execution_count": 26,
     "metadata": {},
     "output_type": "execute_result"
    }
   ],
   "source": [
    "[0]"
   ]
  },
  {
   "cell_type": "code",
   "execution_count": 27,
   "id": "14414972",
   "metadata": {},
   "outputs": [
    {
     "data": {
      "text/plain": [
       "0j"
      ]
     },
     "execution_count": 27,
     "metadata": {},
     "output_type": "execute_result"
    }
   ],
   "source": [
    "0j"
   ]
  },
  {
   "cell_type": "code",
   "execution_count": 28,
   "id": "c017f340",
   "metadata": {},
   "outputs": [],
   "source": [
    "None"
   ]
  },
  {
   "cell_type": "code",
   "execution_count": 30,
   "id": "994a3239",
   "metadata": {},
   "outputs": [
    {
     "name": "stdout",
     "output_type": "stream",
     "text": [
      "33\n"
     ]
    }
   ],
   "source": [
    "print(12+21)"
   ]
  },
  {
   "cell_type": "code",
   "execution_count": 35,
   "id": "758abb41",
   "metadata": {},
   "outputs": [
    {
     "name": "stdout",
     "output_type": "stream",
     "text": [
      "2000 32\n"
     ]
    }
   ],
   "source": [
    "print(\"2000\", int(\"32\"))"
   ]
  },
  {
   "cell_type": "code",
   "execution_count": 38,
   "id": "8bba95ff",
   "metadata": {},
   "outputs": [
    {
     "ename": "TypeError",
     "evalue": "unsupported operand type(s) for +: 'int' and 'str'",
     "output_type": "error",
     "traceback": [
      "\u001b[0;31m---------------------------------------------------------------------------\u001b[0m",
      "\u001b[0;31mTypeError\u001b[0m                                 Traceback (most recent call last)",
      "\u001b[0;32m<ipython-input-38-156a22c1d5be>\u001b[0m in \u001b[0;36m<module>\u001b[0;34m\u001b[0m\n\u001b[0;32m----> 1\u001b[0;31m \u001b[0mprint\u001b[0m\u001b[0;34m(\u001b[0m \u001b[0;36m1988\u001b[0m \u001b[0;34m+\u001b[0m \u001b[0mstr\u001b[0m\u001b[0;34m(\u001b[0m\u001b[0;34m'32'\u001b[0m\u001b[0;34m)\u001b[0m\u001b[0;34m)\u001b[0m\u001b[0;34m\u001b[0m\u001b[0;34m\u001b[0m\u001b[0m\n\u001b[0m",
      "\u001b[0;31mTypeError\u001b[0m: unsupported operand type(s) for +: 'int' and 'str'"
     ]
    }
   ],
   "source": [
    "print( 1988 + str('32'))"
   ]
  },
  {
   "cell_type": "code",
   "execution_count": 39,
   "id": "13f2a326",
   "metadata": {},
   "outputs": [
    {
     "name": "stdout",
     "output_type": "stream",
     "text": [
      "11\n"
     ]
    }
   ],
   "source": [
    "print(\"1\" + str(\"1\"))"
   ]
  },
  {
   "cell_type": "code",
   "execution_count": 44,
   "id": "c3928ad4",
   "metadata": {},
   "outputs": [
    {
     "name": "stdout",
     "output_type": "stream",
     "text": [
      "2020\n"
     ]
    }
   ],
   "source": [
    "print( 1988 + int(32))"
   ]
  },
  {
   "cell_type": "code",
   "execution_count": 52,
   "id": "59969ba5",
   "metadata": {},
   "outputs": [
    {
     "ename": "TypeError",
     "evalue": "'int' object is not callable",
     "output_type": "error",
     "traceback": [
      "\u001b[0;31m---------------------------------------------------------------------------\u001b[0m",
      "\u001b[0;31mTypeError\u001b[0m                                 Traceback (most recent call last)",
      "\u001b[0;32m<ipython-input-52-d5c1da858ebf>\u001b[0m in \u001b[0;36m<module>\u001b[0;34m\u001b[0m\n\u001b[1;32m      1\u001b[0m \u001b[0mnumber\u001b[0m \u001b[0;34m=\u001b[0m \u001b[0;34m\"32\"\u001b[0m\u001b[0;34m\u001b[0m\u001b[0;34m\u001b[0m\u001b[0m\n\u001b[0;32m----> 2\u001b[0;31m \u001b[0mprint\u001b[0m\u001b[0;34m(\u001b[0m\u001b[0;36m1988\u001b[0m \u001b[0;34m+\u001b[0m \u001b[0mint\u001b[0m\u001b[0;34m(\u001b[0m\u001b[0mnumber\u001b[0m\u001b[0;34m)\u001b[0m\u001b[0;34m)\u001b[0m\u001b[0;34m\u001b[0m\u001b[0;34m\u001b[0m\u001b[0m\n\u001b[0m",
      "\u001b[0;31mTypeError\u001b[0m: 'int' object is not callable"
     ]
    }
   ],
   "source": [
    "number = \"32\"\n",
    "print(1988 + int(number))\n"
   ]
  },
  {
   "cell_type": "code",
   "execution_count": 53,
   "id": "da17fbc2",
   "metadata": {},
   "outputs": [
    {
     "ename": "SyntaxError",
     "evalue": "unexpected character after line continuation character (<ipython-input-53-c65678952590>, line 2)",
     "output_type": "error",
     "traceback": [
      "\u001b[0;36m  File \u001b[0;32m\"<ipython-input-53-c65678952590>\"\u001b[0;36m, line \u001b[0;32m2\u001b[0m\n\u001b[0;31m    \\n\u001b[0m\n\u001b[0m      ^\u001b[0m\n\u001b[0;31mSyntaxError\u001b[0m\u001b[0;31m:\u001b[0m unexpected character after line continuation character\n"
     ]
    }
   ],
   "source": [
    "# In print() function \n",
    "\\n\n",
    "  syntax is used for a new line and if we want to specify the end of the string that we print, we have to use keyword argument \n",
    "end=\n",
    " ."
   ]
  },
  {
   "cell_type": "code",
   "execution_count": 55,
   "id": "4f1c3283",
   "metadata": {},
   "outputs": [
    {
     "data": {
      "text/plain": [
       "True"
      ]
     },
     "execution_count": 55,
     "metadata": {},
     "output_type": "execute_result"
    }
   ],
   "source": [
    "x = False\n",
    "y = not x\n",
    "\n",
    "#Enter the result of evaluating the expression:\n",
    "\n",
    "not (x and y)"
   ]
  },
  {
   "cell_type": "code",
   "execution_count": 56,
   "id": "67ea73c9",
   "metadata": {},
   "outputs": [
    {
     "name": "stdout",
     "output_type": "stream",
     "text": [
      "Some people dream of success while others wake up and work.\n"
     ]
    }
   ],
   "source": [
    "print(\"{4} {9} {1} {7} {5} {0} {6} {8} {3} {2}\".format('while', 'dream', 'work.', 'and', 'Some', 'success', 'others', 'of', 'wake up', 'people'))\n"
   ]
  },
  {
   "cell_type": "code",
   "execution_count": 57,
   "id": "81f94200",
   "metadata": {},
   "outputs": [
    {
     "ename": "SyntaxError",
     "evalue": "invalid syntax (<ipython-input-57-b4e3f9af9448>, line 1)",
     "output_type": "error",
     "traceback": [
      "\u001b[0;36m  File \u001b[0;32m\"<ipython-input-57-b4e3f9af9448>\"\u001b[0;36m, line \u001b[0;32m1\u001b[0m\n\u001b[0;31m    \"I will find a job.\" using .format method.\u001b[0m\n\u001b[0m                         ^\u001b[0m\n\u001b[0;31mSyntaxError\u001b[0m\u001b[0;31m:\u001b[0m invalid syntax\n"
     ]
    }
   ],
   "source": [
    "\"I will find a job.\" using .format method."
   ]
  },
  {
   "cell_type": "code",
   "execution_count": 59,
   "id": "024fc345",
   "metadata": {},
   "outputs": [
    {
     "name": "stdout",
     "output_type": "stream",
     "text": [
      "I will find a job.\n"
     ]
    }
   ],
   "source": [
    "# ('job.', 'a', 'will', 'I', 'find')\n",
    "# print(\"{0} {1}\".format('first', 'second'))\n",
    "\n",
    "print(\"{0} {1} {2} {3} {4}\".format('I','will', 'find', 'a', 'job.'))\n"
   ]
  },
  {
   "cell_type": "code",
   "execution_count": 1,
   "id": "0b61f479",
   "metadata": {},
   "outputs": [],
   "source": [
    "#section_3_5 = \"python data types and useful operations\"\n",
    "\n",
    "#print(str.title(\"this is a title\"))\n",
    "\n",
    "#print(not None or 1)\n",
    "# print(\"{3} {2} {4} {1} {0}\".format('job.', 'a', 'will', 'I', 'find'))\n",
    "# section_3_5 = \"python data types and useful operations\"\n",
    "#print(str.title(section_3_5))"
   ]
  },
  {
   "cell_type": "code",
   "execution_count": 2,
   "id": "a25fbfb0",
   "metadata": {},
   "outputs": [
    {
     "ename": "SyntaxError",
     "evalue": "invalid syntax (<ipython-input-2-2938ca31de2a>, line 5)",
     "output_type": "error",
     "traceback": [
      "\u001b[0;36m  File \u001b[0;32m\"<ipython-input-2-2938ca31de2a>\"\u001b[0;36m, line \u001b[0;32m5\u001b[0m\n\u001b[0;31m    or\u001b[0m\n\u001b[0m    ^\u001b[0m\n\u001b[0;31mSyntaxError\u001b[0m\u001b[0;31m:\u001b[0m invalid syntax\n"
     ]
    }
   ],
   "source": [
    "# Using the all following items, set a correct boolean expression that returns []. Use the print() function to display the result.\n",
    "\n",
    "\n",
    "{0}\n",
    "or\n",
    "and\n",
    "[]\n",
    "False\n"
   ]
  },
  {
   "cell_type": "code",
   "execution_count": 3,
   "id": "86d930e7",
   "metadata": {},
   "outputs": [
    {
     "ename": "SyntaxError",
     "evalue": "invalid syntax (<ipython-input-3-921a580b24a7>, line 2)",
     "output_type": "error",
     "traceback": [
      "\u001b[0;36m  File \u001b[0;32m\"<ipython-input-3-921a580b24a7>\"\u001b[0;36m, line \u001b[0;32m2\u001b[0m\n\u001b[0;31m    Enter a number: 2\u001b[0m\n\u001b[0m          ^\u001b[0m\n\u001b[0;31mSyntaxError\u001b[0m\u001b[0;31m:\u001b[0m invalid syntax\n"
     ]
    }
   ],
   "source": [
    "print(float(\"140\" * int(input(\"Enter a number:\" ))))\n",
    "Enter a number: 2"
   ]
  },
  {
   "cell_type": "code",
   "execution_count": 4,
   "id": "91751124",
   "metadata": {},
   "outputs": [
    {
     "name": "stdout",
     "output_type": "stream",
     "text": [
      "51\n",
      "51\n",
      "51\n"
     ]
    }
   ],
   "source": [
    "print(int(\"5\" + \"1\"))\n",
    "print(str(\"5\" + \"1\"))\n",
    "print(\"5\" + \"1\")\n"
   ]
  },
  {
   "cell_type": "code",
   "execution_count": 5,
   "id": "8b0252bc",
   "metadata": {},
   "outputs": [
    {
     "ename": "SyntaxError",
     "evalue": "invalid syntax (<ipython-input-5-e68ebdd4cb69>, line 8)",
     "output_type": "error",
     "traceback": [
      "\u001b[0;36m  File \u001b[0;32m\"<ipython-input-5-e68ebdd4cb69>\"\u001b[0;36m, line \u001b[0;32m8\u001b[0m\n\u001b[0;31m    I am 40 years old.\u001b[0m\n\u001b[0m      ^\u001b[0m\n\u001b[0;31mSyntaxError\u001b[0m\u001b[0;31m:\u001b[0m invalid syntax\n"
     ]
    }
   ],
   "source": [
    "# In order to print the following text (sentence) using f\"string\" method with double quotes.\n",
    "#sentence = \"The less you sleep and eat, the better your life will be.\"\n",
    "# Note : Use the given four variables (var1, var2, var3, var4) in the f\"string\"  method.\n",
    "#nput\tOutput\n",
    "age = 40\n",
    "text = f\"I am {age} years old.\"\n",
    "print(text)\n",
    "I am 40 years old."
   ]
  },
  {
   "cell_type": "code",
   "execution_count": 6,
   "id": "07883130",
   "metadata": {},
   "outputs": [
    {
     "name": "stdout",
     "output_type": "stream",
     "text": [
      "I am 40 years old.\n"
     ]
    }
   ],
   "source": [
    "age = 40\n",
    "text = f\"I am {age} years old.\"\n",
    "print(text)"
   ]
  },
  {
   "cell_type": "code",
   "execution_count": 16,
   "id": "42044da6",
   "metadata": {},
   "outputs": [
    {
     "ename": "SyntaxError",
     "evalue": "EOL while scanning string literal (<ipython-input-16-e5cdb367f4eb>, line 8)",
     "output_type": "error",
     "traceback": [
      "\u001b[0;36m  File \u001b[0;32m\"<ipython-input-16-e5cdb367f4eb>\"\u001b[0;36m, line \u001b[0;32m8\u001b[0m\n\u001b[0;31m    print(f\"string(var1, var2, var3, var4)\u001b[0m\n\u001b[0m                                          ^\u001b[0m\n\u001b[0;31mSyntaxError\u001b[0m\u001b[0;31m:\u001b[0m EOL while scanning string literal\n"
     ]
    }
   ],
   "source": [
    "#Use the given four variables (var1, var2, var3, var4) in the f\"string\"  method.\n",
    "\n",
    "sentence = \"The less you sleep and eat, the better your life will be.\"\n",
    "var1 = \"sleep\"\n",
    "var2 = \"eat\"\n",
    "var3 = \"better\"\n",
    "var4 = \"life\"\n",
    "print(f\"string(var1, var2, var3, var4)\n"
   ]
  },
  {
   "cell_type": "code",
   "execution_count": 8,
   "id": "c930b69f",
   "metadata": {},
   "outputs": [
    {
     "data": {
      "text/plain": [
       "'The better sleep and eat,the better your life will be.'"
      ]
     },
     "execution_count": 8,
     "metadata": {},
     "output_type": "execute_result"
    }
   ],
   "source": [
    "f\"The better sleep and eat,the better your life will be.\""
   ]
  },
  {
   "cell_type": "code",
   "execution_count": 9,
   "id": "772cb5ac",
   "metadata": {},
   "outputs": [
    {
     "ename": "SyntaxError",
     "evalue": "invalid syntax (<ipython-input-9-764dd8516184>, line 2)",
     "output_type": "error",
     "traceback": [
      "\u001b[0;36m  File \u001b[0;32m\"<ipython-input-9-764dd8516184>\"\u001b[0;36m, line \u001b[0;32m2\u001b[0m\n\u001b[0;31m    Use the print() function to display the result.\u001b[0m\n\u001b[0m        ^\u001b[0m\n\u001b[0;31mSyntaxError\u001b[0m\u001b[0;31m:\u001b[0m invalid syntax\n"
     ]
    }
   ],
   "source": [
    "#Using the all following items, set a correct boolean expression that returns []. \n",
    "Use the print() function to display the result.\n",
    "\n",
    "{0}\n",
    "or\n",
    "and\n",
    "[]\n",
    "False\n",
    "#print({0} and False or []) _____>"
   ]
  },
  {
   "cell_type": "code",
   "execution_count": 10,
   "id": "3fff0dbc",
   "metadata": {},
   "outputs": [
    {
     "name": "stdout",
     "output_type": "stream",
     "text": [
      "I am 40 years old.\n"
     ]
    }
   ],
   "source": [
    "#In order to print the following text (sentence) using f\"string\" method with double quotes.\n",
    "\n",
    "#sentence = \"The less you sleep and eat, the better your life will be.\"\n",
    "#Note : Use the given four variables (var1, var2, var3, var4) in the f\"string\"  method.\n",
    "age = 40\n",
    "text = f\"I am {age} years old.\"\n",
    "print(text)\n",
    "\n",
    "\n",
    "\n"
   ]
  },
  {
   "cell_type": "code",
   "execution_count": 11,
   "id": "221b488e",
   "metadata": {},
   "outputs": [
    {
     "name": "stdout",
     "output_type": "stream",
     "text": [
      "The less you sleep and eat, the better your life will be.\n"
     ]
    }
   ],
   "source": [
    "var1 = \"sleep\"\n",
    "var2 = \"eat\"\n",
    "var3 = \"better\"\n",
    "var4 = \"life\"\n",
    "\n",
    "sentence = f\"The less you {var1} and {var2}, the {var3} your {var4} will be.\"\n",
    "print(sentence)"
   ]
  },
  {
   "cell_type": "code",
   "execution_count": 12,
   "id": "0e7f7b62",
   "metadata": {},
   "outputs": [
    {
     "data": {
      "text/plain": [
       "('using',\n",
       " '.capitalize()',\n",
       " 'and',\n",
       " 'f-string',\n",
       " 'methods',\n",
       " 'with',\n",
       " 'the',\n",
       " 'city',\n",
       " 'variable',\n",
       " 'below.')"
      ]
     },
     "execution_count": 12,
     "metadata": {},
     "output_type": "execute_result"
    }
   ],
   "source": [
    "# Type a Python code to get the output of “I live in Sarajevo.”\n",
    ", using .capitalize() and f-string methods with the city variable below.\n",
    "\n",
    "#city = \"SARAJEVO\"\n",
    "#Note that; use double quotes within f-string method.\n",
    "\n"
   ]
  },
  {
   "cell_type": "code",
   "execution_count": 13,
   "id": "0847da98",
   "metadata": {},
   "outputs": [
    {
     "name": "stdout",
     "output_type": "stream",
     "text": [
      "February\n"
     ]
    }
   ],
   "source": [
    "month = \"february\"\n",
    "text = f\"{month.title()}\"\n",
    "print(text)"
   ]
  },
  {
   "cell_type": "code",
   "execution_count": 14,
   "id": "0f99f122",
   "metadata": {},
   "outputs": [
    {
     "name": "stdout",
     "output_type": "stream",
     "text": [
      "I live in Sarajevo.\n"
     ]
    }
   ],
   "source": [
    "city = \"SARAJEVO\"\n",
    "\n",
    "sentence = f\"I live in {city.capitalize()}.\"\n",
    "\n",
    "print(sentence)"
   ]
  },
  {
   "cell_type": "code",
   "execution_count": 15,
   "id": "d4d98987",
   "metadata": {},
   "outputs": [
    {
     "ename": "SyntaxError",
     "evalue": "invalid syntax (<ipython-input-15-b546000c5dbc>, line 2)",
     "output_type": "error",
     "traceback": [
      "\u001b[0;36m  File \u001b[0;32m\"<ipython-input-15-b546000c5dbc>\"\u001b[0;36m, line \u001b[0;32m2\u001b[0m\n\u001b[0;31m    or\u001b[0m\n\u001b[0m    ^\u001b[0m\n\u001b[0;31mSyntaxError\u001b[0m\u001b[0;31m:\u001b[0m invalid syntax\n"
     ]
    }
   ],
   "source": [
    "{0}\n",
    "or\n",
    "and\n",
    "[]\n",
    "False\n",
    "\n",
    "print({0} and False or [])"
   ]
  },
  {
   "cell_type": "code",
   "execution_count": 16,
   "id": "7255f323",
   "metadata": {},
   "outputs": [
    {
     "name": "stdout",
     "output_type": "stream",
     "text": [
      "[]\n"
     ]
    }
   ],
   "source": [
    "print({0} and False or [])"
   ]
  },
  {
   "cell_type": "code",
   "execution_count": 17,
   "id": "11fac04b",
   "metadata": {},
   "outputs": [
    {
     "name": "stdout",
     "output_type": "stream",
     "text": [
      "[]\n"
     ]
    }
   ],
   "source": [
    "print(False or [])"
   ]
  },
  {
   "cell_type": "code",
   "execution_count": 18,
   "id": "35eae710",
   "metadata": {},
   "outputs": [
    {
     "name": "stdout",
     "output_type": "stream",
     "text": [
      "{0}\n"
     ]
    }
   ],
   "source": [
    "print({0} or [])"
   ]
  },
  {
   "cell_type": "code",
   "execution_count": 19,
   "id": "db310214",
   "metadata": {},
   "outputs": [
    {
     "name": "stdout",
     "output_type": "stream",
     "text": [
      "False\n"
     ]
    }
   ],
   "source": [
    "print({0} and False)"
   ]
  },
  {
   "cell_type": "code",
   "execution_count": 20,
   "id": "3f04ab3e",
   "metadata": {},
   "outputs": [
    {
     "name": "stdout",
     "output_type": "stream",
     "text": [
      "The less you sleep and eat, the better your life will be.\n"
     ]
    }
   ],
   "source": [
    "var1 = \"sleep\"\n",
    "var2 = \"eat\"\n",
    "var3 = \"better\"\n",
    "var4 = \"life\"\n",
    "\n",
    "sentence = f\"The less you {var1} and {var2}, the {var3} your {var4} will be.\"\n",
    "print(sentence)"
   ]
  },
  {
   "cell_type": "markdown",
   "id": "d2008f2f",
   "metadata": {},
   "source": [
    "Var1=\"Success\"\n",
    "Var2= \"measured\"\n",
    "Var3= \"effort\"\n",
    "\n",
    "sentence = f\"{var1} is {var2} by {var3}.\"\n",
    "print(sentence)"
   ]
  },
  {
   "cell_type": "code",
   "execution_count": 25,
   "id": "aaa6ce37",
   "metadata": {},
   "outputs": [
    {
     "name": "stdout",
     "output_type": "stream",
     "text": [
      "sleep is eat by better.\n"
     ]
    }
   ],
   "source": [
    "Var1=\"Success\"\n",
    "Var2= \"measured\"\n",
    "Var3= \"effort\"\n",
    "\n",
    "sentence = f\"{var1} is {var2} by {var3}.\"\n",
    "print(sentence)"
   ]
  },
  {
   "cell_type": "code",
   "execution_count": 28,
   "id": "b16ce1a3",
   "metadata": {},
   "outputs": [
    {
     "ename": "SyntaxError",
     "evalue": "EOL while scanning string literal (<ipython-input-28-dc44f56900de>, line 6)",
     "output_type": "error",
     "traceback": [
      "\u001b[0;36m  File \u001b[0;32m\"<ipython-input-28-dc44f56900de>\"\u001b[0;36m, line \u001b[0;32m6\u001b[0m\n\u001b[0;31m    sentence=f\"Professional leaders are {var1} and {var2}, {var3} and {var4}.\"\"\u001b[0m\n\u001b[0m                                                                               ^\u001b[0m\n\u001b[0;31mSyntaxError\u001b[0m\u001b[0;31m:\u001b[0m EOL while scanning string literal\n"
     ]
    }
   ],
   "source": [
    "#Sentence=\"Professional leaders are determined and bring achievement and success.\"\n",
    "var1=\"determine\"\n",
    "var2=\"bring\"\n",
    "var3=\"achivement\"\n",
    "var4=\"success\"\n",
    "sentence=f\"Professional leaders are {var1} and {var2} {var3} and {var4}.\"\"\n",
    "print(sentence)"
   ]
  },
  {
   "cell_type": "code",
   "execution_count": 29,
   "id": "6ed1fc59",
   "metadata": {},
   "outputs": [
    {
     "name": "stdout",
     "output_type": "stream",
     "text": [
      "abc\n"
     ]
    }
   ],
   "source": [
    "print(\"a\"+\"bc\")"
   ]
  },
  {
   "cell_type": "code",
   "execution_count": 30,
   "id": "11846de7",
   "metadata": {},
   "outputs": [],
   "source": [
    "#Python uses // as the floor division operator and % as the modulo operator. \n",
    "#If the numerator is N and the denominator D, then this equation N = D * ( N // D) + (N % D) is always satisfied. \n",
    "#Use floor division operator // or the floor() function of the math module to get the floor division of two integers."
   ]
  },
  {
   "cell_type": "code",
   "execution_count": 32,
   "id": "933fdb74",
   "metadata": {},
   "outputs": [
    {
     "data": {
      "text/plain": [
       "1"
      ]
     },
     "execution_count": 32,
     "metadata": {},
     "output_type": "execute_result"
    }
   ],
   "source": [
    "22 % 3"
   ]
  },
  {
   "cell_type": "code",
   "execution_count": 33,
   "id": "a4715b51",
   "metadata": {},
   "outputs": [],
   "source": [
    "#left-to-right\n",
    "#Operators with the same precedence are evaluated from left-to-right."
   ]
  },
  {
   "cell_type": "code",
   "execution_count": 34,
   "id": "a6be7371",
   "metadata": {},
   "outputs": [
    {
     "data": {
      "text/plain": [
       "3"
      ]
     },
     "execution_count": 34,
     "metadata": {},
     "output_type": "execute_result"
    }
   ],
   "source": [
    "3*1**3"
   ]
  },
  {
   "cell_type": "code",
   "execution_count": 35,
   "id": "7a98d2dd",
   "metadata": {},
   "outputs": [],
   "source": [
    "#“Addition and Subtraction” are at the same precedence level. \n",
    "#Similarly, “Multiplication and Division” are at the same precedence level.\n",
    "#Parentheses have the highest precedence and can be used to force an expression to evaluate in the order you want.\n",
    "#Mathematical operations can be performed on a string. \n",
    "#Explanation: You can't perform mathematical operation on string even if the string is in the form: \n",
    "#'1234…'. ... Explanation: “Addition and Subtraction” are at the same precedence level. \n",
    "#Similarly, “Multiplication and Division” are at the same precedence level"
   ]
  },
  {
   "cell_type": "code",
   "execution_count": 36,
   "id": "0728b821",
   "metadata": {},
   "outputs": [
    {
     "name": "stdout",
     "output_type": "stream",
     "text": [
      "33\n"
     ]
    }
   ],
   "source": [
    "print(0xA + 0xB + 0xC)"
   ]
  },
  {
   "cell_type": "code",
   "execution_count": 37,
   "id": "ed4b65e0",
   "metadata": {},
   "outputs": [
    {
     "name": "stdout",
     "output_type": "stream",
     "text": [
      "33\n"
     ]
    }
   ],
   "source": [
    "#0xA and 0xB and 0xC are hexadecimal integer literals representing the decimal values 10, 11 and 12 respectively. \n",
    "#There sum is 33.\n",
    "\n",
    "#The correct answer is:33\n",
    "print(0xA + 0xB + 0xC)"
   ]
  },
  {
   "cell_type": "code",
   "execution_count": 38,
   "id": "0db515f3",
   "metadata": {},
   "outputs": [
    {
     "name": "stdout",
     "output_type": "stream",
     "text": [
      "cd\n"
     ]
    }
   ],
   "source": [
    "#What will be the output of the following Python statement?\n",
    "\n",
    "print(\"abcd\"[2:])"
   ]
  },
  {
   "cell_type": "code",
   "execution_count": 39,
   "id": "025b53e1",
   "metadata": {},
   "outputs": [
    {
     "name": "stdout",
     "output_type": "stream",
     "text": [
      "o\n"
     ]
    }
   ],
   "source": [
    "#What will be the output of the following Python statement?\n",
    "\n",
    "str1 = \"hello\"\n",
    "str2 = \",\"\n",
    "str3 = \"world\"\n",
    "print(str1[-1:])\n",
    "str1 = \"world\"\n"
   ]
  },
  {
   "cell_type": "code",
   "execution_count": 40,
   "id": "e1fd7dc8",
   "metadata": {},
   "outputs": [],
   "source": [
    "# + is used to concatenate and * is used to multiply strings.\n",
    "# += is used to concatenate and assign in place to a stirng.\n",
    "\n",
    "#The correct answer is: -"
   ]
  },
  {
   "cell_type": "code",
   "execution_count": 41,
   "id": "a557cc31",
   "metadata": {},
   "outputs": [
    {
     "name": "stdout",
     "output_type": "stream",
     "text": [
      "\\nhello\n"
     ]
    }
   ],
   "source": [
    "#What will be the output of the following Python code?\n",
    "\n",
    "print(r\"\\nhello\")\n",
    "#Note : ⚠ You have to do research on the usage of the raw strings with a prefix r."
   ]
  },
  {
   "cell_type": "code",
   "execution_count": 42,
   "id": "fe35bf2d",
   "metadata": {},
   "outputs": [
    {
     "name": "stdout",
     "output_type": "stream",
     "text": [
      "newline\n"
     ]
    }
   ],
   "source": [
    "# What will be the output of the following Python code?\n",
    "\n",
    "print(\"new\" \"line\")"
   ]
  },
  {
   "cell_type": "code",
   "execution_count": 43,
   "id": "d997c516",
   "metadata": {},
   "outputs": [
    {
     "ename": "SyntaxError",
     "evalue": "invalid syntax (<ipython-input-43-a02dabcaf55b>, line 3)",
     "output_type": "error",
     "traceback": [
      "\u001b[0;36m  File \u001b[0;32m\"<ipython-input-43-a02dabcaf55b>\"\u001b[0;36m, line \u001b[0;32m3\u001b[0m\n\u001b[0;31m    print(\"new\" \"line\" \"end\" 3)\u001b[0m\n\u001b[0m                             ^\u001b[0m\n\u001b[0;31mSyntaxError\u001b[0m\u001b[0;31m:\u001b[0m invalid syntax\n"
     ]
    }
   ],
   "source": [
    "# What will be the output of the following Python code?\n",
    "\n",
    "print(\"new\" \"line\" \"end\" 3)"
   ]
  },
  {
   "cell_type": "code",
   "execution_count": 44,
   "id": "423ccc00",
   "metadata": {},
   "outputs": [
    {
     "ename": "SyntaxError",
     "evalue": "invalid syntax (<ipython-input-44-693762d2e4e6>, line 1)",
     "output_type": "error",
     "traceback": [
      "\u001b[0;36m  File \u001b[0;32m\"<ipython-input-44-693762d2e4e6>\"\u001b[0;36m, line \u001b[0;32m1\u001b[0m\n\u001b[0;31m    print(\"new\" \"line\" \"end\" 3)\u001b[0m\n\u001b[0m                             ^\u001b[0m\n\u001b[0;31mSyntaxError\u001b[0m\u001b[0;31m:\u001b[0m invalid syntax\n"
     ]
    }
   ],
   "source": [
    "print(\"new\" \"line\" \"end\" 3)\n",
    "# String literals separated by whitespace are allowed. They are concatenated."
   ]
  },
  {
   "cell_type": "code",
   "execution_count": 45,
   "id": "0db59422",
   "metadata": {},
   "outputs": [
    {
     "name": "stdout",
     "output_type": "stream",
     "text": [
      "newlineend 3\n"
     ]
    }
   ],
   "source": [
    "#What will be the output of the following Python code?\n",
    "\n",
    "print(\"new\" \"line\" \"end\", 3)"
   ]
  },
  {
   "cell_type": "code",
   "execution_count": 46,
   "id": "6067e409",
   "metadata": {},
   "outputs": [
    {
     "name": "stdout",
     "output_type": "stream",
     "text": [
      "yawusralc\n"
     ]
    }
   ],
   "source": [
    "#What will be the output of the following Python code?\n",
    "\n",
    "str1 = \"clarsuway\"\n",
    "print(str1[::-1])"
   ]
  },
  {
   "cell_type": "code",
   "execution_count": 47,
   "id": "8007be4d",
   "metadata": {},
   "outputs": [
    {
     "name": "stdout",
     "output_type": "stream",
     "text": [
      " wo\n"
     ]
    }
   ],
   "source": [
    "#What will be the output of the following Python statement?\n",
    "\n",
    "example = \"snow world\"\n",
    "print(\"%s\" % example[4:7])"
   ]
  },
  {
   "cell_type": "code",
   "execution_count": 48,
   "id": "564f7b96",
   "metadata": {},
   "outputs": [
    {
     "name": "stdout",
     "output_type": "stream",
     "text": [
      "DA CABA AA"
     ]
    }
   ],
   "source": [
    "#What will be the output of the following Python statement?\n",
    "\n",
    "print(\"DA\", sep=\"-\",end = ' ')\n",
    "print(\"CA\", end = '')\n",
    "print(\"BA\", sep=\"-\", end = ' ')\n",
    "print(\"AA\", end = '')"
   ]
  },
  {
   "cell_type": "code",
   "execution_count": 49,
   "id": "1fe9cdef",
   "metadata": {},
   "outputs": [
    {
     "ename": "TypeError",
     "evalue": "'str' object does not support item assignment",
     "output_type": "error",
     "traceback": [
      "\u001b[0;31m---------------------------------------------------------------------------\u001b[0m",
      "\u001b[0;31mTypeError\u001b[0m                                 Traceback (most recent call last)",
      "\u001b[0;32m<ipython-input-49-fbf8b1363fea>\u001b[0m in \u001b[0;36m<module>\u001b[0;34m\u001b[0m\n\u001b[1;32m      2\u001b[0m \u001b[0;34m\u001b[0m\u001b[0m\n\u001b[1;32m      3\u001b[0m \u001b[0mexample\u001b[0m \u001b[0;34m=\u001b[0m \u001b[0;34m\"snow world\"\u001b[0m\u001b[0;34m\u001b[0m\u001b[0;34m\u001b[0m\u001b[0m\n\u001b[0;32m----> 4\u001b[0;31m \u001b[0mexample\u001b[0m\u001b[0;34m[\u001b[0m\u001b[0;36m3\u001b[0m\u001b[0;34m]\u001b[0m \u001b[0;34m=\u001b[0m \u001b[0;34m's'\u001b[0m\u001b[0;34m\u001b[0m\u001b[0;34m\u001b[0m\u001b[0m\n\u001b[0m\u001b[1;32m      5\u001b[0m \u001b[0mprint\u001b[0m\u001b[0;34m(\u001b[0m\u001b[0mexample\u001b[0m\u001b[0;34m)\u001b[0m\u001b[0;34m\u001b[0m\u001b[0;34m\u001b[0m\u001b[0m\n",
      "\u001b[0;31mTypeError\u001b[0m: 'str' object does not support item assignment"
     ]
    }
   ],
   "source": [
    "#What will be the output of the following Python statement?\n",
    "\n",
    "example = \"snow world\"\n",
    "example[3] = 's'\n",
    "print(example)\n"
   ]
  },
  {
   "cell_type": "code",
   "execution_count": 50,
   "id": "fb88b1da",
   "metadata": {},
   "outputs": [
    {
     "name": "stdout",
     "output_type": "stream",
     "text": [
      "s\n"
     ]
    }
   ],
   "source": [
    "#What will be the output of the following Python statement?\n",
    "\n",
    "print(max(\"joseph\"))"
   ]
  },
  {
   "cell_type": "code",
   "execution_count": 51,
   "id": "b24e0d76",
   "metadata": {},
   "outputs": [],
   "source": [
    "#Max returns the character with the highest ascii value.\n",
    "\n",
    "#The correct answer is:s"
   ]
  },
  {
   "cell_type": "code",
   "execution_count": 52,
   "id": "4d6cad70",
   "metadata": {},
   "outputs": [
    {
     "name": "stdout",
     "output_type": "stream",
     "text": [
      "2\n"
     ]
    }
   ],
   "source": [
    "#What will be the output of the following Python statement?\n",
    "\n",
    "example = \"hello\"\n",
    "print(example.count(\"l\"))"
   ]
  },
  {
   "cell_type": "code",
   "execution_count": 53,
   "id": "402b01a0",
   "metadata": {},
   "outputs": [],
   "source": [
    "#\"l\" occurs twice in \"hello\". .count() method counts the char in a string."
   ]
  },
  {
   "cell_type": "code",
   "execution_count": 54,
   "id": "4629bf18",
   "metadata": {},
   "outputs": [
    {
     "name": "stdout",
     "output_type": "stream",
     "text": [
      "1\n"
     ]
    }
   ],
   "source": [
    "#What will be the output of the following Python statement?\n",
    "\n",
    "example = \"helen\"\n",
    "print(example.find(\"e\"))"
   ]
  },
  {
   "cell_type": "code",
   "execution_count": 55,
   "id": "39665b38",
   "metadata": {},
   "outputs": [],
   "source": [
    "#Returns the first index of the element being searched. \n",
    "\n",
    "#The correct answer is:1"
   ]
  },
  {
   "cell_type": "code",
   "execution_count": 56,
   "id": "3702793b",
   "metadata": {},
   "outputs": [
    {
     "name": "stdout",
     "output_type": "stream",
     "text": [
      "False\n"
     ]
    }
   ],
   "source": [
    "#What will be the output of the following Python statement?\n",
    "\n",
    "example=\"helloworld\"\n",
    "print(example[::-1].startswith(\"eh\"))"
   ]
  },
  {
   "cell_type": "code",
   "execution_count": 57,
   "id": "db50a07d",
   "metadata": {},
   "outputs": [
    {
     "name": "stdout",
     "output_type": "stream",
     "text": [
      "hello\\example\test.txt\n"
     ]
    }
   ],
   "source": [
    "print(\"hello\\example\\test.txt\")"
   ]
  },
  {
   "cell_type": "code",
   "execution_count": 58,
   "id": "ab503fef",
   "metadata": {},
   "outputs": [
    {
     "name": "stdout",
     "output_type": "stream",
     "text": [
      "hello\\example\\test.txt\n"
     ]
    }
   ],
   "source": [
    "print(\"hello\\\\example\\\\test.txt\")"
   ]
  },
  {
   "cell_type": "code",
   "execution_count": 59,
   "id": "6856f1a2",
   "metadata": {},
   "outputs": [],
   "source": [
    "#\"\\\" is used to indicate that the next \\ is not an escape sequence.\n",
    "\n",
    "#The correct answer is:\n",
    "#print(\"hello\\\\example\\\\test.txt\")"
   ]
  },
  {
   "cell_type": "code",
   "execution_count": 60,
   "id": "53292ccc",
   "metadata": {},
   "outputs": [
    {
     "name": "stdout",
     "output_type": "stream",
     "text": [
      "World\n"
     ]
    }
   ],
   "source": [
    "#What will be the output of the following Python statement?\n",
    "\n",
    "s = \"\\t\\tWorld\\n\"\n",
    "print(s.strip())"
   ]
  },
  {
   "cell_type": "code",
   "execution_count": 61,
   "id": "2f7c31c8",
   "metadata": {},
   "outputs": [],
   "source": [
    "#\"strip()\" strips the spaces and extra escape chars.\n",
    "\n",
    "#The correct answer is: World"
   ]
  },
  {
   "cell_type": "code",
   "execution_count": 62,
   "id": "55b9c9d2",
   "metadata": {},
   "outputs": [
    {
     "ename": "SyntaxError",
     "evalue": "invalid syntax (<ipython-input-62-a470f8124364>, line 3)",
     "output_type": "error",
     "traceback": [
      "\u001b[0;36m  File \u001b[0;32m\"<ipython-input-62-a470f8124364>\"\u001b[0;36m, line \u001b[0;32m3\u001b[0m\n\u001b[0;31m    print(\"hello\" +\"1+2+\"3\")\u001b[0m\n\u001b[0m                         ^\u001b[0m\n\u001b[0;31mSyntaxError\u001b[0m\u001b[0;31m:\u001b[0m invalid syntax\n"
     ]
    }
   ],
   "source": [
    "#What will be the output of the following Python statement?\n",
    "\n",
    "print(\"hello\" +\"1+2+\"3\")"
   ]
  },
  {
   "cell_type": "code",
   "execution_count": 63,
   "id": "53cc4f0c",
   "metadata": {},
   "outputs": [],
   "source": [
    "#\"str\" and \"int\" cannot be concatenated. quotes should be used correctly.\n",
    "\n",
    "#The correct answer is:Error"
   ]
  },
  {
   "cell_type": "code",
   "execution_count": 64,
   "id": "7232bfcf",
   "metadata": {},
   "outputs": [
    {
     "name": "stdout",
     "output_type": "stream",
     "text": [
      "Object `code` not found.\n",
      "51\n",
      "51\n",
      "51\n"
     ]
    }
   ],
   "source": [
    "What is the output of this code?\n",
    "\n",
    "print(int(\"5\" + \"1\"))\n",
    "print(str(\"5\" + \"1\"))\n",
    "print(\"5\" + \"1\")"
   ]
  },
  {
   "cell_type": "code",
   "execution_count": 9,
   "id": "7ac57ecf",
   "metadata": {},
   "outputs": [
    {
     "ename": "SyntaxError",
     "evalue": "EOL while scanning string literal (<ipython-input-9-7ef379b04a49>, line 1)",
     "output_type": "error",
     "traceback": [
      "\u001b[0;36m  File \u001b[0;32m\"<ipython-input-9-7ef379b04a49>\"\u001b[0;36m, line \u001b[0;32m1\u001b[0m\n\u001b[0;31m    text = (\"Clarusway, Clarusway, Clarusway,\u001b[0m\n\u001b[0m                                             ^\u001b[0m\n\u001b[0;31mSyntaxError\u001b[0m\u001b[0;31m:\u001b[0m EOL while scanning string literal\n"
     ]
    }
   ],
   "source": [
    "text = (\"Clarusway, Clarusway, Clarusway,\n",
    "            \\nClarusway, Clarusway, Clarusway,\n",
    "                \\nClarusway, Clarusway, Clarusway\")\n",
    "\n",
    "print(text)\n",
    "\n"
   ]
  },
  {
   "cell_type": "code",
   "execution_count": 68,
   "id": "c4494075",
   "metadata": {},
   "outputs": [
    {
     "ename": "SyntaxError",
     "evalue": "unexpected character after line continuation character (<ipython-input-68-15ae83f5a1bc>, line 4)",
     "output_type": "error",
     "traceback": [
      "\u001b[0;36m  File \u001b[0;32m\"<ipython-input-68-15ae83f5a1bc>\"\u001b[0;36m, line \u001b[0;32m4\u001b[0m\n\u001b[0;31m    \\tClarusway, Clarusway, Clarusway,\u001b[0m\n\u001b[0m                                      ^\u001b[0m\n\u001b[0;31mSyntaxError\u001b[0m\u001b[0;31m:\u001b[0m unexpected character after line continuation character\n"
     ]
    }
   ],
   "source": [
    "#Arrange the following text variable using \\n and \\t escape sequences to print the output as follows :\n",
    "\n",
    "Clarusway, Clarusway, Clarusway,\\\n",
    "\\nClarusway, Clarusway, Clarusway,\n",
    "\\\\ntClarusway, Clarusway, Clarusway\\n"
   ]
  },
  {
   "cell_type": "code",
   "execution_count": null,
   "id": "99129a0d",
   "metadata": {},
   "outputs": [],
   "source": []
  },
  {
   "cell_type": "code",
   "execution_count": 69,
   "id": "ffeb530d",
   "metadata": {},
   "outputs": [
    {
     "name": "stdout",
     "output_type": "stream",
     "text": [
      "[]\n"
     ]
    }
   ],
   "source": [
    "print({0}and False or [])"
   ]
  },
  {
   "cell_type": "code",
   "execution_count": 70,
   "id": "4c9a7ffd",
   "metadata": {},
   "outputs": [
    {
     "ename": "SyntaxError",
     "evalue": "invalid syntax (<ipython-input-70-fd997d046d7f>, line 3)",
     "output_type": "error",
     "traceback": [
      "\u001b[0;36m  File \u001b[0;32m\"<ipython-input-70-fd997d046d7f>\"\u001b[0;36m, line \u001b[0;32m3\u001b[0m\n\u001b[0;31m    front =\u001b[0m\n\u001b[0m            ^\u001b[0m\n\u001b[0;31mSyntaxError\u001b[0m\u001b[0;31m:\u001b[0m invalid syntax\n"
     ]
    }
   ],
   "source": [
    "word = 'clarusway'\n",
    "n = 3\n",
    "front = \n",
    "back =\n",
    "print(front + back)"
   ]
  },
  {
   "cell_type": "code",
   "execution_count": 76,
   "id": "0b2c238d",
   "metadata": {},
   "outputs": [
    {
     "name": "stdout",
     "output_type": "stream",
     "text": [
      "clarusway\n"
     ]
    }
   ],
   "source": [
    "word = 'clarusway'\n",
    "front_back=word\n",
    "print(word)"
   ]
  },
  {
   "cell_type": "code",
   "execution_count": 77,
   "id": "a71b75fb",
   "metadata": {},
   "outputs": [],
   "source": [
    "#print(\"{3} {2} {4} {1} {0}\".format('job.', 'a', 'will', 'I', 'find'))\n",
    "\n"
   ]
  },
  {
   "cell_type": "code",
   "execution_count": 78,
   "id": "5bb8ac8c",
   "metadata": {},
   "outputs": [],
   "source": [
    "#>>> print('hello', 'world', sep=None) hello world\n",
    "# >>> print('hello', 'world', sep=' ') hello world\n",
    "#>>> print('hello', 'world') hello world"
   ]
  },
  {
   "cell_type": "code",
   "execution_count": 79,
   "id": "f7833527",
   "metadata": {},
   "outputs": [
    {
     "ename": "NameError",
     "evalue": "name 'helloworld' is not defined",
     "output_type": "error",
     "traceback": [
      "\u001b[0;31m---------------------------------------------------------------------------\u001b[0m",
      "\u001b[0;31mNameError\u001b[0m                                 Traceback (most recent call last)",
      "\u001b[0;32m<ipython-input-79-dc153ddf308a>\u001b[0m in \u001b[0;36m<module>\u001b[0;34m\u001b[0m\n\u001b[1;32m      1\u001b[0m \u001b[0;31m# >>> print('hello', 'world', sep='')\u001b[0m\u001b[0;34m\u001b[0m\u001b[0;34m\u001b[0m\u001b[0;34m\u001b[0m\u001b[0m\n\u001b[0;32m----> 2\u001b[0;31m \u001b[0mhelloworld\u001b[0m\u001b[0;34m\u001b[0m\u001b[0;34m\u001b[0m\u001b[0m\n\u001b[0m\u001b[1;32m      3\u001b[0m \u001b[0;31m#>>> print('hello', 'world', sep='\\n')\u001b[0m\u001b[0;34m\u001b[0m\u001b[0;34m\u001b[0m\u001b[0;34m\u001b[0m\u001b[0m\n\u001b[1;32m      4\u001b[0m \u001b[0mhello\u001b[0m\u001b[0;34m\u001b[0m\u001b[0;34m\u001b[0m\u001b[0m\n\u001b[1;32m      5\u001b[0m \u001b[0mworld\u001b[0m\u001b[0;34m\u001b[0m\u001b[0;34m\u001b[0m\u001b[0m\n",
      "\u001b[0;31mNameError\u001b[0m: name 'helloworld' is not defined"
     ]
    }
   ],
   "source": [
    "# >>> print('hello', 'world', sep='') \n",
    "helloworld\n",
    "#>>> print('hello', 'world', sep='\\n')\n",
    "hello\n",
    "world\n",
    "# >>> print('home', 'user', 'documents', sep='/')\n",
    "home/user/documents\n",
    "#>>> print('/home', 'user', 'documents', sep='/')\n",
    "/home/user/documents\n",
    "#>>> print('', 'home', 'user', 'documents', sep='/')\n",
    "/home/user/documents"
   ]
  },
  {
   "cell_type": "code",
   "execution_count": 1,
   "id": "c75ed30a",
   "metadata": {},
   "outputs": [
    {
     "name": "stdout",
     "output_type": "stream",
     "text": [
      "False\n"
     ]
    }
   ],
   "source": [
    "print(0.1 + 0.2 == 0.3)"
   ]
  },
  {
   "cell_type": "code",
   "execution_count": 80,
   "id": "4ab412b3",
   "metadata": {},
   "outputs": [
    {
     "ename": "SyntaxError",
     "evalue": "invalid syntax (<ipython-input-80-9843f16cdbc5>, line 4)",
     "output_type": "error",
     "traceback": [
      "\u001b[0;36m  File \u001b[0;32m\"<ipython-input-80-9843f16cdbc5>\"\u001b[0;36m, line \u001b[0;32m4\u001b[0m\n\u001b[0;31m    jdoe is 42 years old\u001b[0m\n\u001b[0m               ^\u001b[0m\n\u001b[0;31mSyntaxError\u001b[0m\u001b[0;31m:\u001b[0m invalid syntax\n"
     ]
    }
   ],
   "source": [
    "# It’s safer to just unpack the sequence with the star operator (*) and let print() handle type casting:\n",
    "\n",
    "#>>> print(*['jdoe is', 42, 'years old'])\n",
    "jdoe is 42 years old\n",
    "\n",
    "#One more interesting example could be exporting data to a comma-separated values (CSV) format:\n",
    "#>>> print(1, 'Python Tricks', 'Dan Bader', sep=',')\n",
    "1,Python Tricks,Dan Bader\n"
   ]
  },
  {
   "cell_type": "code",
   "execution_count": 81,
   "id": "aa49b7ed",
   "metadata": {},
   "outputs": [
    {
     "name": "stdout",
     "output_type": "stream",
     "text": [
      "Mercury, Venus, Earth, Mars, Jupiter, Saturn, Uranus, Neptune, Pluto\n"
     ]
    }
   ],
   "source": [
    "print('Mercury', 'Venus', 'Earth', sep=', ', end=', ')\n",
    "print('Mars', 'Jupiter', 'Saturn', sep=', ', end=', ')\n",
    "print('Uranus', 'Neptune', 'Pluto', sep=', ')"
   ]
  },
  {
   "cell_type": "code",
   "execution_count": 7,
   "id": "66e07994",
   "metadata": {},
   "outputs": [
    {
     "name": "stdout",
     "output_type": "stream",
     "text": [
      "Printing in a Nutshell\n",
      " * Calling Print\n",
      " * Separating Multiple Arguments\n",
      " * Preventing Line Breaks\n"
     ]
    }
   ],
   "source": [
    "print('Printing in a Nutshell', end='\\n * ')\n",
    "print('Calling Print', end='\\n * ')\n",
    "print('Separating Multiple Arguments', end='\\n * ')\n",
    "print('Preventing Line Breaks')"
   ]
  },
  {
   "cell_type": "code",
   "execution_count": 2,
   "id": "61432b02",
   "metadata": {},
   "outputs": [
    {
     "name": "stdout",
     "output_type": "stream",
     "text": [
      "Hello! I am a new programmer and I love Clarusway.\n"
     ]
    }
   ],
   "source": [
    "#In order to print the following text using .format() method, arrange the variable text.\n",
    "\n",
    "#Hello! I am a new programmer and I love Clarusway.\n",
    "#Note : Use only given three words (\"Hello\", \"new\", \"love\") in the .format parentheses.\n",
    "\n",
    "#For example:\n",
    "\n",
    "#Result\n",
    "#Hello! I am a new programmer and I love Clarusway.\n",
    "\n",
    "text = \"{}! I am a {} programmer and I {} Clarusway.\".format(\"Hello\", \"new\", \"love\")\n",
    "print(text)\n"
   ]
  },
  {
   "cell_type": "markdown",
   "id": "b6fa8253",
   "metadata": {},
   "source": [
    "#One of the most useful collections in Python is a list. \n",
    "In Python, a list is only an ordered collection of valid Python values.\n",
    "\n",
    "The list type is probably the most commonly used collection type in Python.\n",
    "In spite of its name, a list is more like an array in some other languages (e.g. JavaScript).\n",
    "\n"
   ]
  },
  {
   "cell_type": "code",
   "execution_count": 3,
   "id": "2da2a413",
   "metadata": {},
   "outputs": [
    {
     "name": "stdout",
     "output_type": "stream",
     "text": [
      "['USA', 'Brasil', 'UK', 'Germany', 'Turkey', 'New Zealand']\n"
     ]
    }
   ],
   "source": [
    "#Creating a List\n",
    "#A list can be created by enclosing values, separated by commas, in square brackets 👉🏻[].\n",
    "\n",
    "#Let's create a simple list that includes some country names.\n",
    "\n",
    "#country = ['USA', 'Brasil', 'UK', 'Germany', 'Turkey', 'New Zealand']\n",
    "#That is our first list in this course. Now let's print the list.\n",
    "\n",
    "#input :\n",
    "\n",
    "country = ['USA', 'Brasil', 'UK', 'Germany', 'Turkey', 'New Zealand']\n",
    "\n",
    "print(country)"
   ]
  },
  {
   "cell_type": "code",
   "execution_count": 4,
   "id": "9efba5ef",
   "metadata": {},
   "outputs": [
    {
     "name": "stdout",
     "output_type": "stream",
     "text": [
      "22\n"
     ]
    }
   ],
   "source": [
    "#What will be the output of the following code?\n",
    "\n",
    "warning = 'You must quit smoking!'\n",
    "\n",
    "print(len(list(warning)))"
   ]
  },
  {
   "cell_type": "code",
   "execution_count": 5,
   "id": "99a12bc2",
   "metadata": {},
   "outputs": [
    {
     "name": "stdout",
     "output_type": "stream",
     "text": [
      "['114', 'plastic-free sea']\n"
     ]
    }
   ],
   "source": [
    "#We can add an element into a list using .append() or .insert() methods.\n",
    "\n",
    "#.append() : Append an object to end of a list. Using only list.append(element) syntax, returns none. If you want to see the new appended list, you have to call or print it. See the example :\n",
    "#input :\n",
    "\n",
    "empty_list_1 = []\n",
    "empty_list_1.append('114')\n",
    "empty_list_1.append('plastic-free sea')\n",
    "\n",
    "print(empty_list_1) "
   ]
  },
  {
   "cell_type": "code",
   "execution_count": 6,
   "id": "ebfffffb",
   "metadata": {},
   "outputs": [
    {
     "name": "stdout",
     "output_type": "stream",
     "text": [
      "['New York', 'London', 'Istanbul', 'Seoul', 'Sydney', 'Addis Ababa']\n"
     ]
    }
   ],
   "source": [
    "city = ['New York', 'London', 'Istanbul', 'Seoul', 'Sydney']\n",
    "city.append('Addis Ababa')\n",
    "\n",
    "print(city)"
   ]
  },
  {
   "cell_type": "code",
   "execution_count": 8,
   "id": "de60f000",
   "metadata": {},
   "outputs": [
    {
     "name": "stdout",
     "output_type": "stream",
     "text": [
      "['kamuran', 'asude', 'eymen', 'kubra']\n"
     ]
    }
   ],
   "source": [
    "title=['kamuran' , 'asude' , 'eymen']\n",
    "title.append('kubra')\n",
    "print(title)"
   ]
  },
  {
   "cell_type": "code",
   "execution_count": 9,
   "id": "6f36d646",
   "metadata": {},
   "outputs": [
    {
     "name": "stdout",
     "output_type": "stream",
     "text": [
      "['New York', 'London', 'Stockholm', 'Istanbul', 'Seoul', 'Sydney', 'Addis Ababa']\n"
     ]
    }
   ],
   "source": [
    "#.insert() : Add a new object to list at a speciﬁc index. \n",
    "#The syntax looks like list.insert(index, object). See the example :\n",
    "\n",
    "city = ['New York', 'London', 'Istanbul', 'Seoul', 'Sydney', 'Addis Ababa']\n",
    "city.insert(2, 'Stockholm')\n",
    "\n",
    "print(city)"
   ]
  },
  {
   "cell_type": "code",
   "execution_count": 10,
   "id": "d7578146",
   "metadata": {},
   "outputs": [
    {
     "name": "stdout",
     "output_type": "stream",
     "text": [
      "['New York', 'Stockholm', 'Istanbul', 'Seoul', 'Sydney', 'Addis Ababa']\n",
      "6\n"
     ]
    }
   ],
   "source": [
    "#We can remove the elements in lists using list.remove() method or sort the elements using list.sort() method. \n",
    "#Examine the example :\n",
    "\n",
    "city = ['New York', 'London', 'Stockholm', 'Istanbul', 'Seoul', 'Sydney', 'Addis Ababa']\n",
    "city.remove('London')\n",
    "print(city)  # we have deleted 'London'\n",
    "print(len(city))"
   ]
  },
  {
   "cell_type": "code",
   "execution_count": 11,
   "id": "eabffbee",
   "metadata": {},
   "outputs": [
    {
     "name": "stdout",
     "output_type": "stream",
     "text": [
      "['Addis Ababa', 'Istanbul', 'New York', 'Seoul', 'Stockholm', 'Sydney']\n"
     ]
    }
   ],
   "source": [
    "city = ['New York', 'Stockholm', 'Istanbul', 'Seoul', 'Sydney', 'Addis Ababa']\n",
    "city.sort()  # lists the items in alphabetical order\n",
    "print(city)"
   ]
  },
  {
   "cell_type": "code",
   "execution_count": 12,
   "id": "3b6f2f3e",
   "metadata": {},
   "outputs": [
    {
     "name": "stdout",
     "output_type": "stream",
     "text": [
      "6\n"
     ]
    }
   ],
   "source": [
    "#Likewise, the length of the list elements can be calculated with the len() function also. \n",
    "#Let's calculate the length of 'city' variable we have.\n",
    "\n",
    "city = ['Addis Ababa', 'Istanbul', 'New York', 'Seoul', 'Stockholm', 'Sydney']\n",
    "print(len(city))"
   ]
  },
  {
   "cell_type": "code",
   "execution_count": 11,
   "id": "abab7d34",
   "metadata": {},
   "outputs": [
    {
     "name": "stdout",
     "output_type": "stream",
     "text": [
      "[1, 3, 5, 7, 1, 3, 5, 7, 1, 3, 5, 7]\n",
      "4\n"
     ]
    }
   ],
   "source": [
    "my_list = [1, 3, 5, 7]\n",
    "print(my_list * 3)\n",
    "print(len(my_list))"
   ]
  },
  {
   "cell_type": "code",
   "execution_count": 14,
   "id": "f962659a",
   "metadata": {},
   "outputs": [
    {
     "name": "stdout",
     "output_type": "stream",
     "text": [
      "['New York', 'Melbourne', 'Istanbul', 'Seoul', 'Sydney', 'Addis Ababa']\n"
     ]
    }
   ],
   "source": [
    "# One of the important operations of the lists is assigning an element to the specific index number.\n",
    "\n",
    "city = ['New York', 'Stockholm', 'Istanbul', 'Seoul', 'Sydney', 'Addis Ababa']\n",
    "city[1] = 'Melbourne'  # we assign 'Melbourne' to index 1\n",
    "print(city)   "
   ]
  },
  {
   "cell_type": "code",
   "execution_count": 15,
   "id": "0f32f5b0",
   "metadata": {},
   "outputs": [],
   "source": [
    "#Introduction\n",
    "#You know that there are several types of collections for storing data in Python, like list, tuple, dictionary.\n",
    "\n",
    "#Each item or element in a list, as well as every character in a string, has an index corresponding to their location.\n",
    "#Using indexes, we can access elements within a sequence. Now, let's see how can we do that?"
   ]
  },
  {
   "cell_type": "code",
   "execution_count": 16,
   "id": "febf9846",
   "metadata": {},
   "outputs": [],
   "source": [
    "#Indexing a List\n",
    "#If we want to access or use the elements of a list, \n",
    "#we can do that using index numbers of the list enclosed by square brackets.\n",
    "#Avoid ! :\n",
    "#Do not start indexing with 1. \n",
    "#The first index of the element of a list is 0. We will never stop remembering that!"
   ]
  },
  {
   "cell_type": "code",
   "execution_count": 17,
   "id": "6592dc0b",
   "metadata": {},
   "outputs": [
    {
     "name": "stdout",
     "output_type": "stream",
     "text": [
      "blue\n"
     ]
    }
   ],
   "source": [
    "colors = ['red', 'purple', 'blue', 'yellow', 'green']\n",
    "print(colors[2])  # If we start at zero, \n",
    "# the second element will be 'blue'."
   ]
  },
  {
   "cell_type": "code",
   "execution_count": 12,
   "id": "68ba5a3e",
   "metadata": {},
   "outputs": [
    {
     "name": "stdout",
     "output_type": "stream",
     "text": [
      "[['New York', 'London', 'Istanbul', 'Seoul', 'Sydney']]\n",
      "1\n"
     ]
    }
   ],
   "source": [
    "city = ['New York', 'London', 'Istanbul', 'Seoul', 'Sydney']\n",
    "\n",
    "city_list = []\n",
    "city_list.append(city) # we have created a nested list\n",
    "\n",
    "print(city_list)\n",
    "print(len(city_list))\n",
    "\n",
    "#If you notice that city_list has double square brackets."
   ]
  },
  {
   "cell_type": "code",
   "execution_count": 19,
   "id": "42109afb",
   "metadata": {},
   "outputs": [
    {
     "name": "stdout",
     "output_type": "stream",
     "text": [
      "['New York', 'London', 'Istanbul', 'Seoul', 'Sydney']\n"
     ]
    }
   ],
   "source": [
    "city_list = [['New York', 'London', 'Istanbul', 'Seoul', 'Sydney']]\n",
    "print(city_list[0]) # access to first and only element"
   ]
  },
  {
   "cell_type": "code",
   "execution_count": 20,
   "id": "846f8cdc",
   "metadata": {},
   "outputs": [
    {
     "name": "stdout",
     "output_type": "stream",
     "text": [
      "Istanbul\n"
     ]
    }
   ],
   "source": [
    "#city_list[0]' is a list type data. So that, we can still access its elements via indexing. \n",
    "#Let's access its second element :\n",
    "\n",
    "city_list = [['New York', 'London', 'Istanbul', 'Seoul', 'Sydney']]\n",
    "print(city_list[0][2])"
   ]
  },
  {
   "cell_type": "code",
   "execution_count": 21,
   "id": "9182cc78",
   "metadata": {},
   "outputs": [
    {
     "name": "stdout",
     "output_type": "stream",
     "text": [
      "a\n"
     ]
    }
   ],
   "source": [
    "#city_list[0][2]' is a string type data. So, we can also access its elements via indexing. \n",
    "#Let's access its third element :\n",
    "city_list = [['New York', 'London', 'Istanbul', 'Seoul', 'Sydney']]\n",
    "print(city_list[0][2][3])"
   ]
  },
  {
   "cell_type": "code",
   "execution_count": 22,
   "id": "38a7f67e",
   "metadata": {},
   "outputs": [
    {
     "name": "stdout",
     "output_type": "stream",
     "text": [
      "y\n"
     ]
    }
   ],
   "source": [
    "city_list = [['New York', 'London', 'Istanbul', 'Seoul', 'Sydney']]\n",
    "print(city_list[0][4][5])"
   ]
  },
  {
   "cell_type": "code",
   "execution_count": 24,
   "id": "82d67453",
   "metadata": {},
   "outputs": [
    {
     "name": "stdout",
     "output_type": "stream",
     "text": [
      "l\n"
     ]
    }
   ],
   "source": [
    "city_list = [['New York', 'London', 'Istanbul', 'Seoul', 'Sydney']]\n",
    "print(city_list[0][3][4])"
   ]
  },
  {
   "cell_type": "code",
   "execution_count": 26,
   "id": "019a197e",
   "metadata": {},
   "outputs": [
    {
     "name": "stdout",
     "output_type": "stream",
     "text": [
      "o\n"
     ]
    }
   ],
   "source": [
    "city_list = [['New York', 'London', 'Istanbul', 'Seoul', 'Sydney']]\n",
    "print(city_list[0][0][5])"
   ]
  },
  {
   "cell_type": "code",
   "execution_count": 13,
   "id": "1570eee2",
   "metadata": {},
   "outputs": [
    {
     "name": "stdout",
     "output_type": "stream",
     "text": [
      "e\n"
     ]
    }
   ],
   "source": [
    "city_list = [['New York', 'London', 'Istanbul', 'Seoul', 'Sydney']]\n",
    "print(city_list[0][4][4]) #baslama ilk adim nerden saymaya baslayacagimi gosterir. Ikinci rakam ne kadar ileriye\n",
    "#gidecegimizi gosterir. Ucuncu rakam verilen degere gore ulke harfleri sayilir."
   ]
  },
  {
   "cell_type": "code",
   "execution_count": 27,
   "id": "428e6cd4",
   "metadata": {},
   "outputs": [
    {
     "name": "stdout",
     "output_type": "stream",
     "text": [
      "27\n"
     ]
    }
   ],
   "source": [
    "#What will be the output of the following code?\n",
    "\n",
    "odd_numbers = [[11, 13, 15], 17, 19, 21, 23, 25, 27, 29]\n",
    "\n",
    "print(odd_numbers[6])\n"
   ]
  },
  {
   "cell_type": "code",
   "execution_count": 28,
   "id": "8b66c992",
   "metadata": {},
   "outputs": [
    {
     "name": "stdout",
     "output_type": "stream",
     "text": [
      "l\n"
     ]
    }
   ],
   "source": [
    "#What will be the output of the following code?\n",
    "\n",
    "fruits = ['apple', 'banana', 'watermelon', 'orange', 'mango', 'avocado']\n",
    "\n",
    "fruit_list = []\n",
    "fruit_list.insert(0, fruits)\n",
    "print(fruit_list[0][2][7])"
   ]
  },
  {
   "cell_type": "code",
   "execution_count": 29,
   "id": "25353f39",
   "metadata": {},
   "outputs": [
    {
     "name": "stdout",
     "output_type": "stream",
     "text": [
      "[5, 7, 9]\n"
     ]
    }
   ],
   "source": [
    "#Slicing a List\n",
    "#We can access individual elements of a list, as well as part of those items. \n",
    "#We use index numbers again for slicing but we do it by typing it a little differently. \n",
    "#Look at the example :\n",
    "\n",
    "numbers = [1, 3, 5, 7, 9, 11, 13, 15, 17]\n",
    "print(numbers[2:5])  # we get the elements from index=2 to index=5(5 is not included)"
   ]
  },
  {
   "cell_type": "code",
   "execution_count": 30,
   "id": "8fb1f010",
   "metadata": {},
   "outputs": [
    {
     "name": "stdout",
     "output_type": "stream",
     "text": [
      "[7, 9, 11]\n"
     ]
    }
   ],
   "source": [
    "numbers = [1, 3, 5, 7, 9, 11, 13, 15, 17]\n",
    "print(numbers[3:6])"
   ]
  },
  {
   "cell_type": "code",
   "execution_count": 31,
   "id": "b25e9716",
   "metadata": {},
   "outputs": [
    {
     "name": "stdout",
     "output_type": "stream",
     "text": [
      "[9, 11, 13, 15, 17]\n"
     ]
    }
   ],
   "source": [
    "numbers = [1, 3, 5, 7, 9, 11, 13, 15, 17]\n",
    "print(numbers[4:9]) #4'ten sonra 5 saga gideceksin"
   ]
  },
  {
   "cell_type": "code",
   "execution_count": 32,
   "id": "827a551d",
   "metadata": {},
   "outputs": [
    {
     "name": "stdout",
     "output_type": "stream",
     "text": [
      "[3, 5, 7, 9, 11]\n"
     ]
    }
   ],
   "source": [
    "numbers = [1, 3, 5, 7, 9, 11, 13, 15, 17]\n",
    "print(numbers[1:6])"
   ]
  },
  {
   "cell_type": "code",
   "execution_count": 33,
   "id": "96d4ce5e",
   "metadata": {},
   "outputs": [],
   "source": [
    "#You can keep in mind the formula syntax below for slicing a sequence.\n",
    "#From 'start' to 'stop-1', by 'step'.\n",
    "\n",
    "#The formula syntax is : sequence[start:stop:step]\n",
    "\n",
    "#This formula produces a slice of the sequence where start is an index of the first element \n",
    "#required (the element is included in the slice) \n",
    "#and stop is an index of the end element (the element is not included in the slice), \n",
    "#step is an interval between elements to be chosen.\n",
    "\n",
    "#Now let's apply this formula on a few examples. \n",
    "#In this example, we will create a list of numbers from 1 to 10 using 'range()' function and select even ones:"
   ]
  },
  {
   "cell_type": "code",
   "execution_count": 34,
   "id": "68fdcda3",
   "metadata": {},
   "outputs": [
    {
     "name": "stdout",
     "output_type": "stream",
     "text": [
      "[0, 1, 2, 3, 4, 5, 6, 7, 8, 9, 10]\n",
      "[0, 2, 4, 6, 8, 10]\n"
     ]
    }
   ],
   "source": [
    "count = list(range(11))\n",
    "print(count)\n",
    "\n",
    "print(count[0:11:2])\n"
   ]
  },
  {
   "cell_type": "code",
   "execution_count": null,
   "id": "97da15e7",
   "metadata": {},
   "outputs": [],
   "source": [
    "Create a list which consists of int numbers from 1 to 10 using range() function. \n",
    "# Sort the numbers of the list in descending order and print the result.\n",
    "8:18\n",
    "is anyone remember this questions answer"
   ]
  },
  {
   "cell_type": "code",
   "execution_count": null,
   "id": "aabbd14d",
   "metadata": {},
   "outputs": [],
   "source": []
  },
  {
   "cell_type": "code",
   "execution_count": 35,
   "id": "8aeb7f47",
   "metadata": {},
   "outputs": [
    {
     "name": "stdout",
     "output_type": "stream",
     "text": [
      "[0, 1, 2, 3, 4, 5, 6, 7, 8, 9, 10]\n",
      "[0, 4, 8]\n"
     ]
    }
   ],
   "source": [
    "count = list(range(11))\n",
    "print(count)\n",
    "\n",
    "print(count[0:11:4])"
   ]
  },
  {
   "cell_type": "code",
   "execution_count": 5,
   "id": "b49eb55d",
   "metadata": {},
   "outputs": [
    {
     "name": "stdout",
     "output_type": "stream",
     "text": [
      "[1, 2, 3, 4, 5, 6, 7, 8, 9]\n",
      "[1, 4, 7]\n"
     ]
    }
   ],
   "source": [
    "count = list(range(1,10))\n",
    "print(count)\n",
    "\n",
    "print(count[0:11:3])"
   ]
  },
  {
   "cell_type": "code",
   "execution_count": 37,
   "id": "c4825832",
   "metadata": {},
   "outputs": [
    {
     "name": "stdout",
     "output_type": "stream",
     "text": [
      "[0, 1, 2, 3, 4, 5, 6, 7, 8, 9]\n",
      "[0, 1, 2, 3, 4, 5, 6, 7, 8, 9]\n"
     ]
    }
   ],
   "source": [
    "count = list(range(10))\n",
    "print(count)\n",
    "\n",
    "print(count[0:10:1])"
   ]
  },
  {
   "cell_type": "code",
   "execution_count": 38,
   "id": "ee361b5e",
   "metadata": {},
   "outputs": [
    {
     "name": "stdout",
     "output_type": "stream",
     "text": [
      "[0, 1, 2, 3, 4, 5, 6, 7, 8, 9]\n",
      "[0, 2, 4, 6, 8]\n"
     ]
    }
   ],
   "source": [
    "count = list(range(10))\n",
    "print(count)\n",
    "\n",
    "print(count[0:10:2])"
   ]
  },
  {
   "cell_type": "code",
   "execution_count": null,
   "id": "94eda4d0",
   "metadata": {},
   "outputs": [],
   "source": []
  },
  {
   "cell_type": "code",
   "execution_count": 17,
   "id": "18b271f3",
   "metadata": {},
   "outputs": [
    {
     "name": "stdout",
     "output_type": "stream",
     "text": [
      "[10, 9, 8, 7, 6, 5, 4, 3, 2, 1]\n"
     ]
    }
   ],
   "source": [
    "#Create a list which consists of int numbers from 1 to 10 using range() function. \n",
    "#Sort the numbers of the list in descending order and print the result.\n",
    "\n",
    "numbers = list(range(1, 11))\n",
    "\n",
    "numbers.sort(reverse = True)\n",
    "\n",
    "print(numbers)"
   ]
  },
  {
   "cell_type": "code",
   "execution_count": 18,
   "id": "788d5009",
   "metadata": {},
   "outputs": [
    {
     "name": "stdout",
     "output_type": "stream",
     "text": [
      "[10, 9, 8, 7, 6, 5, 4, 3, 2, 1]\n"
     ]
    }
   ],
   "source": [
    "numbers = list(range(1, 11))\n",
    "\n",
    "numbers.sort(reverse = True)\n",
    "\n",
    "print(numbers)"
   ]
  },
  {
   "cell_type": "code",
   "execution_count": null,
   "id": "e0590fdb",
   "metadata": {},
   "outputs": [],
   "source": []
  },
  {
   "cell_type": "code",
   "execution_count": null,
   "id": "617f4ac7",
   "metadata": {},
   "outputs": [],
   "source": []
  },
  {
   "cell_type": "code",
   "execution_count": null,
   "id": "44d491f5",
   "metadata": {},
   "outputs": [],
   "source": []
  },
  {
   "cell_type": "code",
   "execution_count": 39,
   "id": "ab64cf0d",
   "metadata": {},
   "outputs": [],
   "source": [
    "#The formula syntax is : range(start, stop[, step])\n",
    "\n",
    "#Each part of the slice has a default value, so they are optional. \n",
    "#If we don't assign a value to the start index, it is considered to be 0; \n",
    "#if we don't assign a value to the stop index, it will be the same as the length of the sequence.\n",
    "\n",
    "#my_list[:]: returns the full copy of the sequence\n",
    "\n",
    "#my_list[start:] : returns elements from start to the end element\n",
    "\n",
    "#my_list[:stop] : returns element from the 1st element to stop-1\n",
    "\n",
    "#my_list[::step] : returns each element with a given step\n",
    "\n",
    "#Let's do some more examples to grasp it."
   ]
  },
  {
   "cell_type": "code",
   "execution_count": 40,
   "id": "9b7d187b",
   "metadata": {},
   "outputs": [
    {
     "name": "stdout",
     "output_type": "stream",
     "text": [
      "['elephant', 'bear', 'fox', 'wolf', 'rabbit', 'deer', 'giraffe']\n"
     ]
    }
   ],
   "source": [
    "animals = ['elephant', 'bear', 'fox', 'wolf', 'rabbit', 'deer', 'giraffe']\n",
    "\n",
    "print(animals[:])  # all elements of the list"
   ]
  },
  {
   "cell_type": "code",
   "execution_count": 41,
   "id": "8b95ff93",
   "metadata": {},
   "outputs": [
    {
     "name": "stdout",
     "output_type": "stream",
     "text": [
      "['wolf', 'rabbit', 'deer', 'giraffe']\n"
     ]
    }
   ],
   "source": [
    "animals = ['elephant', 'bear', 'fox', 'wolf', 'rabbit', 'deer', 'giraffe']\n",
    "print(animals[3:])"
   ]
  },
  {
   "cell_type": "code",
   "execution_count": 42,
   "id": "1a69c574",
   "metadata": {},
   "outputs": [
    {
     "name": "stdout",
     "output_type": "stream",
     "text": [
      "['fox', 'wolf', 'rabbit', 'deer', 'giraffe']\n"
     ]
    }
   ],
   "source": [
    "animals = ['elephant', 'bear', 'fox', 'wolf', 'rabbit', 'deer', 'giraffe']\n",
    "print(animals[2:])"
   ]
  },
  {
   "cell_type": "code",
   "execution_count": 43,
   "id": "63564524",
   "metadata": {},
   "outputs": [
    {
     "name": "stdout",
     "output_type": "stream",
     "text": [
      "['deer', 'giraffe']\n"
     ]
    }
   ],
   "source": [
    "animals = ['elephant', 'bear', 'fox', 'wolf', 'rabbit', 'deer', 'giraffe']\n",
    "print(animals[5:])"
   ]
  },
  {
   "cell_type": "code",
   "execution_count": 44,
   "id": "880650e7",
   "metadata": {},
   "outputs": [
    {
     "name": "stdout",
     "output_type": "stream",
     "text": [
      "['elephant', 'bear', 'fox', 'wolf', 'rabbit']\n"
     ]
    }
   ],
   "source": [
    "animals = ['elephant', 'bear', 'fox', 'wolf', 'rabbit', 'deer', 'giraffe']\n",
    "print(animals[:5])"
   ]
  },
  {
   "cell_type": "code",
   "execution_count": 45,
   "id": "04af563f",
   "metadata": {},
   "outputs": [
    {
     "name": "stdout",
     "output_type": "stream",
     "text": [
      "['elephant', 'bear', 'fox', 'wolf']\n"
     ]
    }
   ],
   "source": [
    "animals = ['elephant', 'bear', 'fox', 'wolf', 'rabbit', 'deer', 'giraffe']\n",
    "print(animals[:4])"
   ]
  },
  {
   "cell_type": "code",
   "execution_count": 46,
   "id": "7242f234",
   "metadata": {},
   "outputs": [
    {
     "name": "stdout",
     "output_type": "stream",
     "text": [
      "['elephant', 'bear', 'fox']\n"
     ]
    }
   ],
   "source": [
    "animals = ['elephant', 'bear', 'fox', 'wolf', 'rabbit', 'deer', 'giraffe']\n",
    "print(animals[:3])"
   ]
  },
  {
   "cell_type": "code",
   "execution_count": 47,
   "id": "933332ba",
   "metadata": {},
   "outputs": [
    {
     "name": "stdout",
     "output_type": "stream",
     "text": [
      "['elephant', 'bear', 'fox', 'wolf', 'rabbit', 'deer', 'giraffe']\n"
     ]
    }
   ],
   "source": [
    "animals = ['elephant', 'bear', 'fox', 'wolf', 'rabbit', 'deer', 'giraffe']\n",
    "print(animals[:7])"
   ]
  },
  {
   "cell_type": "code",
   "execution_count": 48,
   "id": "61d1ef35",
   "metadata": {},
   "outputs": [
    {
     "name": "stdout",
     "output_type": "stream",
     "text": [
      "[10, 12, 14, 16, 18]\n"
     ]
    }
   ],
   "source": [
    "#What will be the output of the following code?\n",
    "\n",
    "even_numbers = [2, 4, 6, 8, 10, 12, 14, 16, 18, 20]\n",
    "\n",
    "print(even_numbers[4:9])"
   ]
  },
  {
   "cell_type": "code",
   "execution_count": 49,
   "id": "48b9d98e",
   "metadata": {},
   "outputs": [
    {
     "name": "stdout",
     "output_type": "stream",
     "text": [
      "1\n"
     ]
    }
   ],
   "source": [
    "#What is the output of this syntax?\n",
    "\n",
    "print(len([[12, 34, 56]]))"
   ]
  },
  {
   "cell_type": "code",
   "execution_count": 50,
   "id": "39c8bd1b",
   "metadata": {},
   "outputs": [
    {
     "name": "stdout",
     "output_type": "stream",
     "text": [
      "3\n"
     ]
    }
   ],
   "source": [
    "#What is the output of this syntax?\n",
    "\n",
    "print(len([[12, 34, 56]][0]))"
   ]
  },
  {
   "cell_type": "code",
   "execution_count": 51,
   "id": "7ad364db",
   "metadata": {},
   "outputs": [
    {
     "name": "stdout",
     "output_type": "stream",
     "text": [
      "London\n"
     ]
    }
   ],
   "source": [
    "#Negative Indexing & Slicing\n",
    "#Negative indexing is the best and shortest way to reach the elements at the end of the list. \n",
    "#The negative indexing works in reverse. We can reach the last element of a list as list_name[-1]. \n",
    "#See the example below :\n",
    "\n",
    "city = ['New York', 'London', 'Istanbul', 'Seoul', 'Sydney']\n",
    "print(city[-4])\n",
    "    \n",
    "    "
   ]
  },
  {
   "cell_type": "code",
   "execution_count": 52,
   "id": "936d742c",
   "metadata": {},
   "outputs": [
    {
     "name": "stdout",
     "output_type": "stream",
     "text": [
      "Seoul\n"
     ]
    }
   ],
   "source": [
    "city = ['New York', 'London', 'Istanbul', 'Seoul', 'Sydney']\n",
    "print(city[-2])"
   ]
  },
  {
   "cell_type": "code",
   "execution_count": 53,
   "id": "d65e72b5",
   "metadata": {},
   "outputs": [
    {
     "name": "stdout",
     "output_type": "stream",
     "text": [
      "Istanbul\n"
     ]
    }
   ],
   "source": [
    "city = ['New York', 'London', 'Istanbul', 'Seoul', 'Sydney']\n",
    "print(city[-3])"
   ]
  },
  {
   "cell_type": "code",
   "execution_count": 54,
   "id": "7167037a",
   "metadata": {},
   "outputs": [
    {
     "name": "stdout",
     "output_type": "stream",
     "text": [
      "['lobster', 'squid', 'octopus']\n"
     ]
    }
   ],
   "source": [
    "reef = ['swordfish', 'shark', 'whale', 'jellyfish', 'lobster', 'squid', 'octopus']\n",
    "print(reef[-3:])"
   ]
  },
  {
   "cell_type": "code",
   "execution_count": 55,
   "id": "dd04f3fa",
   "metadata": {},
   "outputs": [
    {
     "name": "stdout",
     "output_type": "stream",
     "text": [
      "['jellyfish', 'lobster', 'squid', 'octopus']\n"
     ]
    }
   ],
   "source": [
    "reef = ['swordfish', 'shark', 'whale', 'jellyfish', 'lobster', 'squid', 'octopus']\n",
    "print(reef[-4:])"
   ]
  },
  {
   "cell_type": "code",
   "execution_count": 56,
   "id": "c7b26eb1",
   "metadata": {},
   "outputs": [
    {
     "name": "stdout",
     "output_type": "stream",
     "text": [
      "[]\n"
     ]
    }
   ],
   "source": [
    "reef = ['swordfish', 'shark', 'whale', 'jellyfish', 'lobster', 'squid', 'octopus']\n",
    "print(reef[-3:2])"
   ]
  },
  {
   "cell_type": "code",
   "execution_count": 57,
   "id": "0b6437ae",
   "metadata": {},
   "outputs": [
    {
     "name": "stdout",
     "output_type": "stream",
     "text": [
      "['shark', 'whale', 'jellyfish', 'lobster', 'squid', 'octopus']\n"
     ]
    }
   ],
   "source": [
    "reef = ['swordfish', 'shark', 'whale', 'jellyfish', 'lobster', 'squid', 'octopus']\n",
    "print(reef[-6:])"
   ]
  },
  {
   "cell_type": "code",
   "execution_count": 58,
   "id": "1f028f44",
   "metadata": {},
   "outputs": [
    {
     "name": "stdout",
     "output_type": "stream",
     "text": [
      "['swordfish', 'shark', 'whale', 'jellyfish']\n"
     ]
    }
   ],
   "source": [
    "reef = ['swordfish', 'shark', 'whale', 'jellyfish', 'lobster', 'squid', 'octopus']\n",
    "print(reef[:-3])"
   ]
  },
  {
   "cell_type": "code",
   "execution_count": 59,
   "id": "639effdc",
   "metadata": {},
   "outputs": [
    {
     "name": "stdout",
     "output_type": "stream",
     "text": [
      "['swordfish', 'shark', 'whale']\n"
     ]
    }
   ],
   "source": [
    "reef = ['swordfish', 'shark', 'whale', 'jellyfish', 'lobster', 'squid', 'octopus']\n",
    "print(reef[:-4])"
   ]
  },
  {
   "cell_type": "code",
   "execution_count": 60,
   "id": "e76e2972",
   "metadata": {},
   "outputs": [
    {
     "name": "stdout",
     "output_type": "stream",
     "text": [
      "['octopus', 'squid', 'lobster', 'jellyfish', 'whale', 'shark', 'swordfish']\n"
     ]
    }
   ],
   "source": [
    "reef = ['swordfish', 'shark', 'whale', 'jellyfish', 'lobster', 'squid', 'octopus']\n",
    "print(reef[::-1])  # we have produced the reverse of the list"
   ]
  },
  {
   "cell_type": "code",
   "execution_count": 61,
   "id": "d0d315df",
   "metadata": {},
   "outputs": [
    {
     "name": "stdout",
     "output_type": "stream",
     "text": [
      "['octopus', 'lobster', 'whale', 'swordfish']\n"
     ]
    }
   ],
   "source": [
    "reef = ['swordfish', 'shark', 'whale', 'jellyfish', 'lobster', 'squid', 'octopus']\n",
    "print(reef[::-2])  # we have produced the reverse of the list"
   ]
  },
  {
   "cell_type": "code",
   "execution_count": 62,
   "id": "02f67ec5",
   "metadata": {},
   "outputs": [
    {
     "name": "stdout",
     "output_type": "stream",
     "text": [
      "['octopus', 'jellyfish', 'swordfish']\n"
     ]
    }
   ],
   "source": [
    "reef = ['swordfish', 'shark', 'whale', 'jellyfish', 'lobster', 'squid', 'octopus']\n",
    "print(reef[::-3])  # we have produced the reverse of the list"
   ]
  },
  {
   "cell_type": "code",
   "execution_count": 63,
   "id": "cea91076",
   "metadata": {},
   "outputs": [
    {
     "name": "stdout",
     "output_type": "stream",
     "text": [
      "['octopus', 'lobster', 'whale', 'swordfish']\n"
     ]
    }
   ],
   "source": [
    "reef = ['swordfish', 'shark', 'whale', 'jellyfish', 'lobster', 'squid', 'octopus']\n",
    "print(reef[::-2])"
   ]
  },
  {
   "cell_type": "code",
   "execution_count": 64,
   "id": "1dafc32c",
   "metadata": {},
   "outputs": [
    {
     "name": "stdout",
     "output_type": "stream",
     "text": [
      "[8, 7, 6, 5]\n",
      "[]\n"
     ]
    }
   ],
   "source": [
    "odd_no = [1, 2, 3, 4, 5, 6, 7, 8, 9, 10]\n",
    "\n",
    "print(odd_no[7:3:-1])\n",
    "print(odd_no[2:6:-1])"
   ]
  },
  {
   "cell_type": "code",
   "execution_count": 65,
   "id": "fbf77a53",
   "metadata": {},
   "outputs": [
    {
     "name": "stdout",
     "output_type": "stream",
     "text": [
      "[8, 7, 6]\n",
      "[6, 5, 4]\n"
     ]
    }
   ],
   "source": [
    "odd_no = [1, 2, 3, 4, 5, 6, 7, 8, 9, 10]\n",
    "\n",
    "print(odd_no[7:4:-1])\n",
    "print(odd_no[5:2:-1])"
   ]
  },
  {
   "cell_type": "code",
   "execution_count": 66,
   "id": "e6dcb20c",
   "metadata": {},
   "outputs": [
    {
     "name": "stdout",
     "output_type": "stream",
     "text": [
      "[]\n",
      "[]\n"
     ]
    }
   ],
   "source": [
    "odd_no = [1, 2, 3, 4, 5, 6, 7, 8, 9, 10]\n",
    "\n",
    "print(odd_no[3:7:-1])\n",
    "print(odd_no[2:6:-1])"
   ]
  },
  {
   "cell_type": "code",
   "execution_count": 67,
   "id": "bfcd59a5",
   "metadata": {},
   "outputs": [
    {
     "ename": "SyntaxError",
     "evalue": "invalid syntax (<ipython-input-67-3e103109dccb>, line 11)",
     "output_type": "error",
     "traceback": [
      "\u001b[0;36m  File \u001b[0;32m\"<ipython-input-67-3e103109dccb>\"\u001b[0;36m, line \u001b[0;32m11\u001b[0m\n\u001b[0;31m    A:\u001b[0m\n\u001b[0m      ^\u001b[0m\n\u001b[0;31mSyntaxError\u001b[0m\u001b[0;31m:\u001b[0m invalid syntax\n"
     ]
    }
   ],
   "source": [
    "#Python : list. A tuple is another collection type that can hold multiple data very similar to the list.\n",
    "\n",
    "#The most important difference from the list is that the tuple is immutable. \n",
    "#Therefore, methods like append() or remove() do not exist in the operations of this type.\n",
    "#Tuples are commonly used for small collections of values that will not need to change, such as an IP address and port.\n",
    "#If we have unchanged data, we should choose tuples because it is much faster than lists.\n",
    "\n",
    "#We used square brackets 👉🏻'[]' to define the lists. In the tuple, normal parentheses 👉🏻'()' are used.\n",
    "\n",
    "#Q: What is the difference between list and tuple?\n",
    "A:\n",
    "LISTs :\n",
    "\n",
    "Lists are mutable i.e they can be edited.\n",
    "Lists are slower than tuples.\n",
    "Syntax: list_1 = [True, ‘Space’, 20]\n",
    "TUPLEs :\n",
    "Tuples are immutable (tuples are lists which can’t be edited).\n",
    "Tuples are faster than list.\n",
    "Syntax: tup_1 = (True, ‘Space’ , 20)\n",
    "\n",
    "    A tuple also can be created by enclosing values, separated by commas, in parentheses.\n",
    "\n",
    "You can compare tuple to a case. When you put the data that you want it to not change and close the lid, you can no longer change this data, modify its size and edit it.\n",
    "\n",
    "Let's create a simple empty tuple :\n"
   ]
  },
  {
   "cell_type": "code",
   "execution_count": 68,
   "id": "88ca100c",
   "metadata": {},
   "outputs": [],
   "source": [
    "empty_tuple = ()"
   ]
  },
  {
   "cell_type": "code",
   "execution_count": 69,
   "id": "f072054b",
   "metadata": {},
   "outputs": [
    {
     "name": "stdout",
     "output_type": "stream",
     "text": [
      "<class 'tuple'>\n"
     ]
    }
   ],
   "source": [
    "empty_tuple = ()\n",
    "print(type(empty_tuple))"
   ]
  },
  {
   "cell_type": "code",
   "execution_count": 70,
   "id": "f3d09926",
   "metadata": {},
   "outputs": [
    {
     "name": "stdout",
     "output_type": "stream",
     "text": [
      "love\n",
      "<class 'str'>\n"
     ]
    }
   ],
   "source": [
    "#If you want to create a single element tuple, you should use a comma.\n",
    "try_tuple = ('love')\n",
    "\n",
    "print(try_tuple)\n",
    "\n",
    "print(type(try_tuple)) # it's not tuple type."
   ]
  },
  {
   "cell_type": "code",
   "execution_count": 71,
   "id": "337a3dcf",
   "metadata": {},
   "outputs": [
    {
     "name": "stdout",
     "output_type": "stream",
     "text": [
      "('love',)\n",
      "<class 'tuple'>\n"
     ]
    }
   ],
   "source": [
    "#It occurs in only single element tuples and we can fix the problem using comma at the end of the element.\n",
    "\n",
    "try_tuple = ('love',)\n",
    "\n",
    "print(try_tuple)\n",
    "\n",
    "print(type(try_tuple)) # it's a tuple type."
   ]
  },
  {
   "cell_type": "code",
   "execution_count": 72,
   "id": "262f7019",
   "metadata": {},
   "outputs": [
    {
     "ename": "SyntaxError",
     "evalue": "invalid syntax (<ipython-input-72-677e70b1741e>, line 1)",
     "output_type": "error",
     "traceback": [
      "\u001b[0;36m  File \u001b[0;32m\"<ipython-input-72-677e70b1741e>\"\u001b[0;36m, line \u001b[0;32m1\u001b[0m\n\u001b[0;31m    Actually, if your tuple contains more than one element, separating elements with commas will be enough.\u001b[0m\n\u001b[0m              ^\u001b[0m\n\u001b[0;31mSyntaxError\u001b[0m\u001b[0;31m:\u001b[0m invalid syntax\n"
     ]
    }
   ],
   "source": [
    "Actually, if your tuple contains more than one element, separating elements with commas will be enough.\n",
    "\n",
    "Another way to create a tuple is to call the tuple() function. \n",
    "You do this when you want to create a tuple from an iterable object: \n",
    "that is, a type of object whose elements you can import individually.\n",
    "\n",
    "The tuple is also iterable like other collections and string types. \n",
    "Let's create another tuple using tuple() function. With this function, you can create an empty tuple as well.\n",
    "\n",
    "Let's examine some examples of creating tuples :\n",
    "\n"
   ]
  },
  {
   "cell_type": "code",
   "execution_count": 73,
   "id": "d1cf832b",
   "metadata": {},
   "outputs": [
    {
     "name": "stdout",
     "output_type": "stream",
     "text": [
      "('mercury', 'jupiter', 'saturn')\n",
      "<class 'tuple'>\n"
     ]
    }
   ],
   "source": [
    "planets = 'mercury', 'jupiter', 'saturn'\n",
    "\n",
    "print(planets)\n",
    "print(type(planets))"
   ]
  },
  {
   "cell_type": "code",
   "execution_count": 74,
   "id": "ecd62865",
   "metadata": {},
   "outputs": [
    {
     "name": "stdout",
     "output_type": "stream",
     "text": [
      "()\n",
      "<class 'tuple'>\n"
     ]
    }
   ],
   "source": [
    "empty_tuple_1 = tuple()\n",
    "\n",
    "print(empty_tuple_1)\n",
    "print(type(empty_tuple_1))\n"
   ]
  },
  {
   "cell_type": "code",
   "execution_count": 75,
   "id": "eb7e53c9",
   "metadata": {},
   "outputs": [
    {
     "name": "stdout",
     "output_type": "stream",
     "text": [
      "<class 'list'> [1, 4, 3, 4, 5, 6, 7, 4]\n"
     ]
    }
   ],
   "source": [
    "my_tuple=(1, 4, 3, 4, 5, 6, 7, 4)\n",
    "\n",
    "my_list = list(my_tuple)\n",
    "\n",
    "print(type(my_list), my_list)"
   ]
  },
  {
   "cell_type": "code",
   "execution_count": 76,
   "id": "df8337a1",
   "metadata": {},
   "outputs": [
    {
     "name": "stdout",
     "output_type": "stream",
     "text": [
      "('A', 'l', 'p', 's')\n"
     ]
    }
   ],
   "source": [
    "# An iterable string can be converted to a tuple :\n",
    "mountain = tuple('Alps')\n",
    "print(mountain) "
   ]
  },
  {
   "cell_type": "markdown",
   "id": "2a1b4dd9",
   "metadata": {},
   "source": [
    "#How can We Use a Tuple ?\n",
    "If you want, let's take a look at the common features of the list and tuple. \n",
    "So you can have an idea of what to do with tuples.\n",
    "\n",
    "Both lists and tuples are ordered. \n",
    "It means that when storing elements to these containers, you can sure that their order will remain the same.\n",
    "You can also duplicate values or mix different data types in tuples."
   ]
  },
  {
   "cell_type": "code",
   "execution_count": 77,
   "id": "2f03315b",
   "metadata": {},
   "outputs": [
    {
     "name": "stdout",
     "output_type": "stream",
     "text": [
      "4\n"
     ]
    }
   ],
   "source": [
    "mix_value_tuple = (0, 'bird', 3.14, True)\n",
    "\n",
    "print(len(mix_value_tuple))"
   ]
  },
  {
   "cell_type": "code",
   "execution_count": 78,
   "id": "e8a7a567",
   "metadata": {},
   "outputs": [
    {
     "name": "stdout",
     "output_type": "stream",
     "text": [
      "5\n"
     ]
    }
   ],
   "source": [
    "mix_value_tuple = (0, '5','bird', 3.14, True)\n",
    "\n",
    "print(len(mix_value_tuple))"
   ]
  },
  {
   "cell_type": "code",
   "execution_count": 80,
   "id": "bf712d9a",
   "metadata": {},
   "outputs": [
    {
     "name": "stdout",
     "output_type": "stream",
     "text": [
      "5\n"
     ]
    }
   ],
   "source": [
    "mix_value_tuple = (0, 'bird' ,'love', 3.14, True)\n",
    "\n",
    "print(len(mix_value_tuple))"
   ]
  },
  {
   "cell_type": "code",
   "execution_count": 81,
   "id": "c085eb31",
   "metadata": {},
   "outputs": [
    {
     "name": "stdout",
     "output_type": "stream",
     "text": [
      "0\n",
      "2\n",
      "4\n"
     ]
    },
    {
     "ename": "IndexError",
     "evalue": "tuple index out of range",
     "output_type": "error",
     "traceback": [
      "\u001b[0;31m---------------------------------------------------------------------------\u001b[0m",
      "\u001b[0;31mIndexError\u001b[0m                                Traceback (most recent call last)",
      "\u001b[0;32m<ipython-input-81-67c4fccbb1d9>\u001b[0m in \u001b[0;36m<module>\u001b[0;34m\u001b[0m\n\u001b[1;32m      6\u001b[0m \u001b[0mprint\u001b[0m\u001b[0;34m(\u001b[0m\u001b[0meven_no\u001b[0m\u001b[0;34m[\u001b[0m\u001b[0;36m1\u001b[0m\u001b[0;34m]\u001b[0m\u001b[0;34m)\u001b[0m\u001b[0;34m\u001b[0m\u001b[0;34m\u001b[0m\u001b[0m\n\u001b[1;32m      7\u001b[0m \u001b[0mprint\u001b[0m\u001b[0;34m(\u001b[0m\u001b[0meven_no\u001b[0m\u001b[0;34m[\u001b[0m\u001b[0;36m2\u001b[0m\u001b[0;34m]\u001b[0m\u001b[0;34m)\u001b[0m\u001b[0;34m\u001b[0m\u001b[0;34m\u001b[0m\u001b[0m\n\u001b[0;32m----> 8\u001b[0;31m \u001b[0mprint\u001b[0m\u001b[0;34m(\u001b[0m\u001b[0meven_no\u001b[0m\u001b[0;34m[\u001b[0m\u001b[0;36m3\u001b[0m\u001b[0;34m]\u001b[0m\u001b[0;34m)\u001b[0m\u001b[0;34m\u001b[0m\u001b[0;34m\u001b[0m\u001b[0m\n\u001b[0m",
      "\u001b[0;31mIndexError\u001b[0m: tuple index out of range"
     ]
    }
   ],
   "source": [
    "#As we stated at the beginning, just like lists, tuples support indexing :\n",
    "\n",
    "\n",
    "even_no = (0, 2, 4)\n",
    "print(even_no[0])    \n",
    "print(even_no[1])    \n",
    "print(even_no[2])   \n",
    "print(even_no[3])"
   ]
  },
  {
   "cell_type": "markdown",
   "id": "86bba627",
   "metadata": {},
   "source": [
    "#print(even_no[3]) : IndexError: tuple index out of range\n",
    "And one of the most important differences of tuples from lists is that 'tuple' object does not support item assignment.\n",
    "Yes, because tuple is immutable. See the example :"
   ]
  },
  {
   "cell_type": "code",
   "execution_count": 82,
   "id": "0a095c18",
   "metadata": {},
   "outputs": [
    {
     "name": "stdout",
     "output_type": "stream",
     "text": [
      "['Athens', 'Cairo', 'Moskow', 'Dublin']\n"
     ]
    }
   ],
   "source": [
    "city_list = ['Tokyo', 'Istanbul', 'Moskow', 'Dublin']\n",
    "\n",
    "city_list[0] = 'Athens'\n",
    "city_list[1] = 'Cairo'\n",
    "print(city_list)"
   ]
  },
  {
   "cell_type": "code",
   "execution_count": 83,
   "id": "3dc9ae24",
   "metadata": {},
   "outputs": [
    {
     "ename": "TypeError",
     "evalue": "'tuple' object does not support item assignment",
     "output_type": "error",
     "traceback": [
      "\u001b[0;31m---------------------------------------------------------------------------\u001b[0m",
      "\u001b[0;31mTypeError\u001b[0m                                 Traceback (most recent call last)",
      "\u001b[0;32m<ipython-input-83-e703d7fff350>\u001b[0m in \u001b[0;36m<module>\u001b[0;34m\u001b[0m\n\u001b[1;32m      3\u001b[0m \u001b[0mcity_tuple\u001b[0m \u001b[0;34m=\u001b[0m \u001b[0mtuple\u001b[0m\u001b[0;34m(\u001b[0m\u001b[0mcity_list\u001b[0m\u001b[0;34m)\u001b[0m\u001b[0;34m\u001b[0m\u001b[0;34m\u001b[0m\u001b[0m\n\u001b[1;32m      4\u001b[0m \u001b[0;34m\u001b[0m\u001b[0m\n\u001b[0;32m----> 5\u001b[0;31m \u001b[0mcity_tuple\u001b[0m\u001b[0;34m[\u001b[0m\u001b[0;36m0\u001b[0m\u001b[0;34m]\u001b[0m \u001b[0;34m=\u001b[0m \u001b[0;34m'New York'\u001b[0m  \u001b[0;31m# you can't assign a value\u001b[0m\u001b[0;34m\u001b[0m\u001b[0;34m\u001b[0m\u001b[0m\n\u001b[0m",
      "\u001b[0;31mTypeError\u001b[0m: 'tuple' object does not support item assignment"
     ]
    }
   ],
   "source": [
    "city_list = ['Tokyo', 'Istanbul', 'Moskow', 'Dublin']\n",
    "\n",
    "city_tuple = tuple(city_list)\n",
    "\n",
    "city_tuple[0] = 'New York'  # you can't assign a value"
   ]
  },
  {
   "cell_type": "code",
   "execution_count": 86,
   "id": "135d7198",
   "metadata": {},
   "outputs": [
    {
     "name": "stdout",
     "output_type": "stream",
     "text": [
      "['Tokyo', 'Istanbul', 'Athens', 'Cairo']\n"
     ]
    }
   ],
   "source": [
    "city_list = ['Tokyo', 'Istanbul', 'Moskow', 'Dublin']\n",
    "\n",
    "city_list[2] = 'Athens'\n",
    "city_list[3] = 'Cairo'\n",
    "print(city_list)"
   ]
  },
  {
   "cell_type": "code",
   "execution_count": 87,
   "id": "5f1d7a90",
   "metadata": {},
   "outputs": [],
   "source": [
    "#Examine the use of .index() and .count() methods of the tuples."
   ]
  },
  {
   "cell_type": "code",
   "execution_count": 88,
   "id": "b42b5047",
   "metadata": {},
   "outputs": [
    {
     "ename": "AttributeError",
     "evalue": "'tuple' object has no attribute 'append'",
     "output_type": "error",
     "traceback": [
      "\u001b[0;31m---------------------------------------------------------------------------\u001b[0m",
      "\u001b[0;31mAttributeError\u001b[0m                            Traceback (most recent call last)",
      "\u001b[0;32m<ipython-input-88-1a04297b8a32>\u001b[0m in \u001b[0;36m<module>\u001b[0;34m\u001b[0m\n\u001b[1;32m      2\u001b[0m \u001b[0;34m\u001b[0m\u001b[0m\n\u001b[1;32m      3\u001b[0m \u001b[0mmix_value\u001b[0m \u001b[0;34m=\u001b[0m \u001b[0;34m(\u001b[0m\u001b[0;36m10\u001b[0m\u001b[0;34m,\u001b[0m \u001b[0;32mFalse\u001b[0m\u001b[0;34m,\u001b[0m \u001b[0;34m'fruit'\u001b[0m\u001b[0;34m,\u001b[0m \u001b[0;36m1.618\u001b[0m\u001b[0;34m)\u001b[0m\u001b[0;34m\u001b[0m\u001b[0;34m\u001b[0m\u001b[0m\n\u001b[0;32m----> 4\u001b[0;31m \u001b[0mmix_value\u001b[0m\u001b[0;34m.\u001b[0m\u001b[0mappend\u001b[0m\u001b[0;34m(\u001b[0m\u001b[0;34m[\u001b[0m\u001b[0;34m'vegetable'\u001b[0m\u001b[0;34m,\u001b[0m \u001b[0;36m2\u001b[0m\u001b[0;34m+\u001b[0m\u001b[0;36m3j\u001b[0m\u001b[0;34m]\u001b[0m\u001b[0;34m)\u001b[0m\u001b[0;34m\u001b[0m\u001b[0;34m\u001b[0m\u001b[0m\n\u001b[0m\u001b[1;32m      5\u001b[0m \u001b[0;34m\u001b[0m\u001b[0m\n\u001b[1;32m      6\u001b[0m \u001b[0mprint\u001b[0m\u001b[0;34m(\u001b[0m\u001b[0mlen\u001b[0m\u001b[0;34m(\u001b[0m\u001b[0mmix_value\u001b[0m\u001b[0;34m)\u001b[0m\u001b[0;34m)\u001b[0m\u001b[0;34m\u001b[0m\u001b[0;34m\u001b[0m\u001b[0m\n",
      "\u001b[0;31mAttributeError\u001b[0m: 'tuple' object has no attribute 'append'"
     ]
    }
   ],
   "source": [
    "#What will be the output of this code below?\n",
    "\n",
    "mix_value = (10, False, 'fruit', 1.618)\n",
    "mix_value.append(['vegetable', 2+3j])\n",
    "\n",
    "print(len(mix_value))"
   ]
  },
  {
   "cell_type": "code",
   "execution_count": 1,
   "id": "9e9bd715",
   "metadata": {},
   "outputs": [
    {
     "name": "stdout",
     "output_type": "stream",
     "text": [
      "4\n"
     ]
    }
   ],
   "source": [
    "#What will be the output of this code below?\n",
    "\n",
    "mix_value = (10, False, 'fruit', 1.618)\n",
    "\n",
    "\n",
    "print(len(mix_value))"
   ]
  },
  {
   "cell_type": "markdown",
   "id": "f9549c6e",
   "metadata": {},
   "source": [
    "#Benefits of Immutability\n",
    "Let's take a look at the basic advantages of tuples :\n",
    "\n",
    "Tuples are faster and more powerful in-memory than lists. \n",
    "You should give it a thought whenever you need to deal with large amounts of data. \n",
    "If you don't want to change your data you may have to choose tuples.\n",
    "\n",
    "Because of its immutability, the data stored in a tuple can not be altered by mistake.\n",
    "\n",
    "A tuple can be used as a dictionary \n",
    "(we will see in the next lesson) key, while 'TypeError' can result in lists as keys. \n",
    "And this is the usefulness of tuples"
   ]
  },
  {
   "cell_type": "code",
   "execution_count": 90,
   "id": "f68dab3d",
   "metadata": {},
   "outputs": [
    {
     "name": "stdout",
     "output_type": "stream",
     "text": [
      "[1, 2, 3, 4, 5, 6, 7, 8, 9, 10]\n"
     ]
    }
   ],
   "source": [
    "my_list=[10,9,8,7,6,5,4,3,2,1]\n",
    "my_list.sort()\n",
    "print(my_list)"
   ]
  },
  {
   "cell_type": "code",
   "execution_count": 91,
   "id": "1d799a40",
   "metadata": {},
   "outputs": [
    {
     "name": "stdout",
     "output_type": "stream",
     "text": [
      "My two favorite flowers are tulip and rose, two favorite colors are blue and green.\n"
     ]
    }
   ],
   "source": [
    "flowers = [[\"jasmine\", [\"lavender\", \"rose\"], \"tulip\"]]\n",
    "colors = [\"red\", (\"blue\", [\"yellow\", \"green\"]), \"pink\"]\n",
    "text = \"My two favorite flowers are tulip and rose, two favorite colors are blue and green.\"\n",
    "print(text)"
   ]
  },
  {
   "cell_type": "code",
   "execution_count": 92,
   "id": "bf2cd8ca",
   "metadata": {},
   "outputs": [
    {
     "name": "stdout",
     "output_type": "stream",
     "text": [
      "[10, 9, 8, 7, 6, 5, 4, 3, 2, 1]\n"
     ]
    }
   ],
   "source": [
    "#Create a list which consists of int numbers from 1 to 10 using range() function. \n",
    "#Sort the numbers of the list in descending order and print the result.\n",
    "\n",
    "numbers = list(range(1, 11))\n",
    "\n",
    "numbers.sort(reverse = True)\n",
    "\n",
    "print(numbers)"
   ]
  },
  {
   "cell_type": "code",
   "execution_count": 93,
   "id": "61277335",
   "metadata": {},
   "outputs": [
    {
     "name": "stdout",
     "output_type": "stream",
     "text": [
      "['eggplant', 'spinach', 'leek']\n"
     ]
    }
   ],
   "source": [
    "#Select and print the vegetables from the following list using indexing and slicing methods. \n",
    "#Note that, except from the given list (grocer), your program must consist of a single line of code.\n",
    "grocer = [\"banana\", [\"orange\", [\"apple\", \"eggplant\", \"melon\", \"spinach\", \"cheese\", \"leek\" ], \"water\"], \"mandarin\"]\n",
    "\n",
    "\n",
    "print(grocer[1][1][1:6:2])\n"
   ]
  },
  {
   "cell_type": "code",
   "execution_count": 94,
   "id": "6c81164d",
   "metadata": {},
   "outputs": [
    {
     "name": "stdout",
     "output_type": "stream",
     "text": [
      "My two favorite flowers are tulip and rose, two favorite colors are blue and green.\n"
     ]
    }
   ],
   "source": [
    "#Considering the following flowers and colors lists,\n",
    "#write the program using .format() and list indexing methods that will print out the text below.\n",
    "text = \"My two favorite flowers are tulip and rose, two favorite colors are blue and green.\"\n",
    "flowers = [[\"jasmine\", [\"lavender\", \"rose\"], \"tulip\"]]\n",
    "colors = [\"red\", (\"blue\", [\"yellow\", \"green\"]), \"pink\"]\n",
    "\n",
    "text = \"My two favorite flowers are {} and {}, two favorite colors are {} and {}.\".format(flowers[0][2], flowers[0][1][1], colors[1][0], colors[1][1][1])\n",
    "\n",
    "print(text)"
   ]
  },
  {
   "cell_type": "code",
   "execution_count": 95,
   "id": "30e84a02",
   "metadata": {},
   "outputs": [
    {
     "ename": "SyntaxError",
     "evalue": "invalid syntax (<ipython-input-95-45cd6cc0b9c3>, line 4)",
     "output_type": "error",
     "traceback": [
      "\u001b[0;36m  File \u001b[0;32m\"<ipython-input-95-45cd6cc0b9c3>\"\u001b[0;36m, line \u001b[0;32m4\u001b[0m\n\u001b[0;31m    I am 40 years old.\u001b[0m\n\u001b[0m      ^\u001b[0m\n\u001b[0;31mSyntaxError\u001b[0m\u001b[0;31m:\u001b[0m invalid syntax\n"
     ]
    }
   ],
   "source": [
    "#Re-arrange the sentence using the escape sequences from the list using .format() \n",
    "#and list indexing methods to get the following output.\n",
    "#Desired output :\n",
    "#I am 40 years old.\n",
    "    #I have two children.\n",
    "        #Data Science is my IT domain.\n"
   ]
  },
  {
   "cell_type": "code",
   "execution_count": 96,
   "id": "bb589596",
   "metadata": {},
   "outputs": [
    {
     "name": "stdout",
     "output_type": "stream",
     "text": [
      "I am 40 years old. \n",
      "\tI have two children. \n",
      "\t\tData Science is my IT domain.\n"
     ]
    }
   ],
   "source": [
    "#The string variable to be arranged :\n",
    "\n",
    "escapes = [\"\\n\\t\", (\"\\t\", \"\\t\\t\"), [\"\\n\", \"\\n\\t\\t\"]]\n",
    "\n",
    "sentence = \"I am 40 years old. {}I have two children. {}Data Science is my IT domain.\".format(escapes[0], escapes[2][1])\n",
    "\n",
    "print(sentence)"
   ]
  },
  {
   "cell_type": "code",
   "execution_count": null,
   "id": "9eb8bf39",
   "metadata": {},
   "outputs": [],
   "source": [
    "\"\"\"Task:\n",
    "Find out if a given number is an \"Armstrong Number\".\n",
    "An n-digit number that is the sum of the nth powers of its digits is called an n-Armstrong number. Examples :\n",
    "371 = 33 + 73 + 13;\n",
    "9474 = 94 + 44 + 74 + 44;\n",
    "93084 = 95 + 35 + 05 + 85 + 45.\n",
    "Write a Python program that;\n",
    "takes a positive integer number from the user,\n",
    "checks the entered number if it is Armstrong,\n",
    "consider the negative, float and any entries other than numeric values then display a warning message to the user.\"\"\"\n",
    "number = input(\"Please enter an integer number: \")\n",
    "power = len(number)\n",
    "sonuc = 0\n",
    "if number.startswith(\"-\") or \".\" in number or \",\" in number or (not number.isdigit()):\n",
    "    print(\"It is an invalid entry. Don't use non-numeric, float, or negative values!\")\n",
    "else:\n",
    "    for i in number:\n",
    "        sonuc += int(i) ** power\n",
    "    if int(number) == sonuc:\n",
    "        print(number + \" is an Armstrong number\")\n",
    "    else:\n",
    "        print(number + \" is not an Armstrong number\")"
   ]
  }
 ],
 "metadata": {
  "kernelspec": {
   "display_name": "Python 3",
   "language": "python",
   "name": "python3"
  },
  "language_info": {
   "codemirror_mode": {
    "name": "ipython",
    "version": 3
   },
   "file_extension": ".py",
   "mimetype": "text/x-python",
   "name": "python",
   "nbconvert_exporter": "python",
   "pygments_lexer": "ipython3",
   "version": "3.8.8"
  }
 },
 "nbformat": 4,
 "nbformat_minor": 5
}
